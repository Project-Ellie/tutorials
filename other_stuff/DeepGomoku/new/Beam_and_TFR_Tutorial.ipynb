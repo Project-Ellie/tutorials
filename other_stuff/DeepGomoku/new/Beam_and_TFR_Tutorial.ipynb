{
 "cells": [
  {
   "cell_type": "code",
   "execution_count": 1,
   "metadata": {},
   "outputs": [
    {
     "name": "stderr",
     "output_type": "stream",
     "text": [
      "/home/wgiersche/env3/lib/python3.5/site-packages/apache_beam/__init__.py:84: UserWarning: Running the Apache Beam SDK on Python 3 is not yet fully supported. You may encounter buggy behavior or missing features.\n",
      "  'Running the Apache Beam SDK on Python 3 is not yet fully supported. '\n"
     ]
    }
   ],
   "source": [
    "import os\n",
    "import numpy as np\n",
    "import pandas as pd\n",
    "import matplotlib.pyplot as plt\n",
    "import tensorflow as tf\n",
    "from GomokuBoard import GomokuBoard\n",
    "from Heuristics import Heuristics\n",
    "from GomokuTools import GomokuTools as gt\n",
    "from HeuristicPolicy import HeuristicGomokuPolicy\n",
    "from google.cloud import bigquery\n",
    "import google.datalab.bigquery as bq\n",
    "import tensorflow_transform.tf_metadata as metadata\n",
    "import datetime\n",
    "import tempfile\n",
    "import tensorflow_transform.beam.impl as beam_impl\n",
    "import tensorflow_transform as tft\n",
    "import apache_beam as beam"
   ]
  },
  {
   "cell_type": "code",
   "execution_count": 2,
   "metadata": {},
   "outputs": [],
   "source": [
    "input = {'game', \"A\"}"
   ]
  },
  {
   "cell_type": "code",
   "execution_count": 3,
   "metadata": {},
   "outputs": [],
   "source": [
    "N_p=5\n",
    "feature_spec = {\n",
    "    'state': tf.FixedLenFeature([N_p * N_p * 2], tf.float32),\n",
    "    'qvalue': tf.FixedLenFeature([N_p * N_p], tf.float32)\n",
    "}"
   ]
  },
  {
   "cell_type": "code",
   "execution_count": 4,
   "metadata": {},
   "outputs": [],
   "source": [
    "schema = metadata.dataset_schema.from_feature_spec(feature_spec)"
   ]
  },
  {
   "cell_type": "code",
   "execution_count": 5,
   "metadata": {},
   "outputs": [
    {
     "data": {
      "text/plain": [
       "((3, 5, 5, 2), (3, 5, 5, 1))"
      ]
     },
     "execution_count": 5,
     "metadata": {},
     "output_type": "execute_result"
    }
   ],
   "source": [
    "def create_data(ignore_me):\n",
    "    data = (\n",
    "        np.random.randint(0,2,size=[3,5,5,2]),\n",
    "        np.random.uniform(size=[3,5,5,1]))\n",
    "    return data\n",
    "\n",
    "data = create_data(\"whatever\")\n",
    "data[0].shape, data[1].shape"
   ]
  },
  {
   "cell_type": "code",
   "execution_count": 6,
   "metadata": {},
   "outputs": [],
   "source": [
    "state2 = np.rollaxis(data[0][2], 2, 0)"
   ]
  },
  {
   "cell_type": "code",
   "execution_count": 7,
   "metadata": {},
   "outputs": [],
   "source": [
    "PROJECT='going-tfx'\n",
    "BUCKET='going-tfx'\n",
    "LOCAL_TMPDIR=\"/tmp\"\n",
    "OUTPUT_DIR=\"./out\"\n",
    "runner='DirectRunner'\n",
    "job_name = 'tournament_data' + '-' + datetime.datetime.now().strftime('%y%m%d-%H%M%S')    \n",
    "\n",
    "options = {\n",
    "    'staging_location': os.path.join(OUTPUT_DIR, 'tmp', 'staging'),\n",
    "    'temp_location': os.path.join(OUTPUT_DIR, 'tmp'),\n",
    "    'job_name': job_name,\n",
    "    'project': PROJECT,\n",
    "    'max_num_workers': 24,\n",
    "    'teardown_policy': 'TEARDOWN_ALWAYS',\n",
    "    'no_save_main_session': True,\n",
    "    'requirements_file': 'requirements.txt'\n",
    "}\n",
    "opts = beam.pipeline.PipelineOptions(flags=[], **options)"
   ]
  },
  {
   "cell_type": "code",
   "execution_count": 8,
   "metadata": {},
   "outputs": [],
   "source": [
    "def _floats_feature(value):\n",
    "    return tf.train.Feature(float_list=tf.train.FloatList(value=value))"
   ]
  },
  {
   "cell_type": "code",
   "execution_count": 9,
   "metadata": {},
   "outputs": [
    {
     "data": {
      "text/plain": [
       "((3, 5, 5, 2), (3, 5, 5, 1))"
      ]
     },
     "execution_count": 9,
     "metadata": {},
     "output_type": "execute_result"
    }
   ],
   "source": [
    "data[0].shape, data[1].shape"
   ]
  },
  {
   "cell_type": "code",
   "execution_count": 10,
   "metadata": {},
   "outputs": [],
   "source": [
    "s_and_q = list(zip(data[0], data[1]))"
   ]
  },
  {
   "cell_type": "code",
   "execution_count": 11,
   "metadata": {},
   "outputs": [
    {
     "data": {
      "text/plain": [
       "((5, 5, 2), (5, 5, 1))"
      ]
     },
     "execution_count": 11,
     "metadata": {},
     "output_type": "execute_result"
    }
   ],
   "source": [
    "s0 = s_and_q[0][0]\n",
    "q0 = s_and_q[0][1]\n",
    "s0.shape, q0.shape"
   ]
  },
  {
   "cell_type": "code",
   "execution_count": 12,
   "metadata": {},
   "outputs": [
    {
     "data": {
      "text/plain": [
       "float_list {\n",
       "  value: 0.38569673895835876\n",
       "  value: 0.9628795385360718\n",
       "  value: 0.9119804501533508\n",
       "  value: 0.8225455284118652\n",
       "  value: 0.23530671000480652\n",
       "  value: 0.48420655727386475\n",
       "  value: 0.8617763519287109\n",
       "  value: 0.926729142665863\n",
       "  value: 0.7061881422996521\n",
       "  value: 0.49137768149375916\n",
       "  value: 0.9709430932998657\n",
       "  value: 0.7995877265930176\n",
       "  value: 0.8855231404304504\n",
       "  value: 0.4085104465484619\n",
       "  value: 0.7637038826942444\n",
       "  value: 0.5410135984420776\n",
       "  value: 0.12000403553247452\n",
       "  value: 0.3285449147224426\n",
       "  value: 0.39131662249565125\n",
       "  value: 0.21633830666542053\n",
       "  value: 0.8980754017829895\n",
       "  value: 0.06974085420370102\n",
       "  value: 0.5148058533668518\n",
       "  value: 0.3054250180721283\n",
       "  value: 0.19905908405780792\n",
       "}"
      ]
     },
     "execution_count": 12,
     "metadata": {},
     "output_type": "execute_result"
    }
   ],
   "source": [
    "f = _floats_feature(q0.flatten())\n",
    "f"
   ]
  },
  {
   "cell_type": "code",
   "execution_count": 13,
   "metadata": {},
   "outputs": [],
   "source": [
    "tfr_filename = \"deleteme.tfr\"\n",
    "with tf.python_io.TFRecordWriter(tfr_filename) as writer:\n",
    "    for vec in s_and_q:\n",
    "        # Create an example protocol buffer\n",
    "        example = tf.train.Example(features=tf.train.Features(feature={\n",
    "            'state': _floats_feature(vec[0].flatten()),\n",
    "            'qvalue' : _floats_feature(vec[1].flatten()),\n",
    "            }))\n",
    "        writer.write(example.SerializeToString())"
   ]
  },
  {
   "cell_type": "markdown",
   "metadata": {},
   "source": [
    "### Read from File"
   ]
  },
  {
   "cell_type": "code",
   "execution_count": 14,
   "metadata": {},
   "outputs": [],
   "source": [
    "def _parse_function(example):\n",
    "    return tf.parse_single_example(example, feature_spec)"
   ]
  },
  {
   "cell_type": "code",
   "execution_count": 15,
   "metadata": {},
   "outputs": [],
   "source": [
    "dataset = tf.data.TFRecordDataset(\"deleteme.tfr\")"
   ]
  },
  {
   "cell_type": "code",
   "execution_count": 16,
   "metadata": {},
   "outputs": [],
   "source": [
    "decoded = dataset.map(_parse_function).make_one_shot_iterator().get_next()"
   ]
  },
  {
   "cell_type": "code",
   "execution_count": 17,
   "metadata": {},
   "outputs": [
    {
     "data": {
      "text/plain": [
       "{'qvalue': <tf.Tensor 'IteratorGetNext:0' shape=(25,) dtype=float32>,\n",
       " 'state': <tf.Tensor 'IteratorGetNext:1' shape=(50,) dtype=float32>}"
      ]
     },
     "execution_count": 17,
     "metadata": {},
     "output_type": "execute_result"
    }
   ],
   "source": [
    "decoded"
   ]
  },
  {
   "cell_type": "code",
   "execution_count": 18,
   "metadata": {},
   "outputs": [],
   "source": [
    "with tf.Session() as sess:\n",
    "    sess.run(decoded)\n",
    "    sess.run(decoded)\n",
    "    res2 = sess.run(decoded)"
   ]
  },
  {
   "cell_type": "code",
   "execution_count": 19,
   "metadata": {},
   "outputs": [
    {
     "data": {
      "text/plain": [
       "((50,), (25,))"
      ]
     },
     "execution_count": 19,
     "metadata": {},
     "output_type": "execute_result"
    }
   ],
   "source": [
    "res2['state'].shape, res2['qvalue'].shape"
   ]
  },
  {
   "cell_type": "code",
   "execution_count": 20,
   "metadata": {},
   "outputs": [
    {
     "data": {
      "text/plain": [
       "(2, 5, 5)"
      ]
     },
     "execution_count": 20,
     "metadata": {},
     "output_type": "execute_result"
    }
   ],
   "source": [
    "np.rollaxis(res2['state'].reshape(N_p,N_p,2), 2, 0).shape"
   ]
  },
  {
   "cell_type": "code",
   "execution_count": 21,
   "metadata": {},
   "outputs": [
    {
     "data": {
      "text/plain": [
       "True"
      ]
     },
     "execution_count": 21,
     "metadata": {},
     "output_type": "execute_result"
    }
   ],
   "source": [
    "state2_p = np.rollaxis(data[0][2], 2, 0)\n",
    "np.equal(state2, state2_p).all()"
   ]
  },
  {
   "cell_type": "markdown",
   "metadata": {},
   "source": [
    "### Pipelines\n"
   ]
  },
  {
   "cell_type": "code",
   "execution_count": 22,
   "metadata": {},
   "outputs": [],
   "source": [
    "data = [1,2,3]"
   ]
  },
  {
   "cell_type": "code",
   "execution_count": 23,
   "metadata": {},
   "outputs": [],
   "source": [
    "def create_games(ignore_me):\n",
    "    data = (\n",
    "        np.random.randint(0,2,size=[3,5,5,2]),\n",
    "        np.random.uniform(size=[3,5,5,1]))\n",
    "    return data"
   ]
  },
  {
   "cell_type": "code",
   "execution_count": 24,
   "metadata": {},
   "outputs": [],
   "source": [
    "games = create_games(\"whatever\")"
   ]
  },
  {
   "cell_type": "code",
   "execution_count": 25,
   "metadata": {},
   "outputs": [
    {
     "data": {
      "text/plain": [
       "((3, 5, 5, 2), (3, 5, 5, 1))"
      ]
     },
     "execution_count": 25,
     "metadata": {},
     "output_type": "execute_result"
    }
   ],
   "source": [
    "games[0].shape, games[1].shape"
   ]
  },
  {
   "cell_type": "code",
   "execution_count": 26,
   "metadata": {},
   "outputs": [],
   "source": [
    "def recwise (games): \n",
    "    return [{'state': s.flatten(), 'qvalue': q.flatten()}  for s, q in zip(games[0], games[1])]"
   ]
  },
  {
   "cell_type": "code",
   "execution_count": 27,
   "metadata": {},
   "outputs": [],
   "source": [
    "res = data | beam.Map(create_games) | beam.FlatMap(recwise)"
   ]
  },
  {
   "cell_type": "code",
   "execution_count": 28,
   "metadata": {},
   "outputs": [
    {
     "data": {
      "text/plain": [
       "array([0.04658873, 0.90594238, 0.663904  , 0.18171573, 0.33790172,\n",
       "       0.23647425, 0.76201465, 0.06078972, 0.70843801, 0.93941081,\n",
       "       0.41140984, 0.15343284, 0.08211694, 0.43258062, 0.89847012,\n",
       "       0.74435248, 0.16872548, 0.13533016, 0.26685144, 0.0087633 ,\n",
       "       0.35557567, 0.92767592, 0.45090179, 0.55343526, 0.93775894])"
      ]
     },
     "execution_count": 28,
     "metadata": {},
     "output_type": "execute_result"
    }
   ],
   "source": [
    "res[0]['qvalue']"
   ]
  },
  {
   "cell_type": "code",
   "execution_count": 29,
   "metadata": {},
   "outputs": [
    {
     "data": {
      "text/plain": [
       "array([1, 0, 0, 1, 0, 0, 1, 0, 0, 0, 1, 0, 0, 0, 0, 0, 1, 1, 1, 0, 1, 0,\n",
       "       1, 0, 0, 0, 1, 1, 1, 1, 1, 1, 0, 0, 0, 0, 1, 1, 0, 0, 1, 1, 1, 0,\n",
       "       0, 0, 0, 1, 1, 0])"
      ]
     },
     "execution_count": 29,
     "metadata": {},
     "output_type": "execute_result"
    }
   ],
   "source": [
    "res[0]['state']"
   ]
  },
  {
   "cell_type": "code",
   "execution_count": 30,
   "metadata": {},
   "outputs": [],
   "source": [
    "tfr_encoder = tft.coders.ExampleProtoCoder(schema)"
   ]
  },
  {
   "cell_type": "code",
   "execution_count": 31,
   "metadata": {},
   "outputs": [
    {
     "data": {
      "text/plain": [
       "b'\\n\\xcf\\x02\\nr\\n\\x06qvalue\\x12h\\x12f\\nd\\xd2\\xd3>=\\xd7\\xebg?\\x9d\\xf5)?\\xb0\\x13:>t\\x01\\xad>N&r>d\\x13C?\\xa3\\xfex=2\\\\5?:}p?P\\xa4\\xd2>\\x80\\x1d\\x1d>\\xee,\\xa8=5{\\xdd>#\\x02f?\\xe2\\x8d>?_\\xc6,>\\xfd\\x93\\n>\\xc0\\xa0\\x88>\\xf5\\x93\\x0f<\\x04\\x0e\\xb6>+|m?\\x99\\xdc\\xe6>\\xef\\xad\\r?\\xf8\\x10p?\\n\\xd8\\x01\\n\\x05state\\x12\\xce\\x01\\x12\\xcb\\x01\\n\\xc8\\x01\\x00\\x00\\x80?\\x00\\x00\\x00\\x00\\x00\\x00\\x00\\x00\\x00\\x00\\x80?\\x00\\x00\\x00\\x00\\x00\\x00\\x00\\x00\\x00\\x00\\x80?\\x00\\x00\\x00\\x00\\x00\\x00\\x00\\x00\\x00\\x00\\x00\\x00\\x00\\x00\\x80?\\x00\\x00\\x00\\x00\\x00\\x00\\x00\\x00\\x00\\x00\\x00\\x00\\x00\\x00\\x00\\x00\\x00\\x00\\x00\\x00\\x00\\x00\\x80?\\x00\\x00\\x80?\\x00\\x00\\x80?\\x00\\x00\\x00\\x00\\x00\\x00\\x80?\\x00\\x00\\x00\\x00\\x00\\x00\\x80?\\x00\\x00\\x00\\x00\\x00\\x00\\x00\\x00\\x00\\x00\\x00\\x00\\x00\\x00\\x80?\\x00\\x00\\x80?\\x00\\x00\\x80?\\x00\\x00\\x80?\\x00\\x00\\x80?\\x00\\x00\\x80?\\x00\\x00\\x00\\x00\\x00\\x00\\x00\\x00\\x00\\x00\\x00\\x00\\x00\\x00\\x00\\x00\\x00\\x00\\x80?\\x00\\x00\\x80?\\x00\\x00\\x00\\x00\\x00\\x00\\x00\\x00\\x00\\x00\\x80?\\x00\\x00\\x80?\\x00\\x00\\x80?\\x00\\x00\\x00\\x00\\x00\\x00\\x00\\x00\\x00\\x00\\x00\\x00\\x00\\x00\\x00\\x00\\x00\\x00\\x80?\\x00\\x00\\x80?\\x00\\x00\\x00\\x00'"
      ]
     },
     "execution_count": 31,
     "metadata": {},
     "output_type": "execute_result"
    }
   ],
   "source": [
    "tfr_encoder.encode(res[0])"
   ]
  },
  {
   "cell_type": "markdown",
   "metadata": {},
   "source": [
    "### Pipe to TFRecord"
   ]
  },
  {
   "cell_type": "code",
   "execution_count": 55,
   "metadata": {},
   "outputs": [
    {
     "name": "stderr",
     "output_type": "stream",
     "text": [
      "WARNING:root:Dataset going-tfx:temp_dataset_534c038e2ba0494396713b84a5d89992 does not exist so we will create it as temporary with location=US\n",
      "WARNING:root:Deleting 1 existing files in target path matching: -*-of-%(num_shards)05d\n"
     ]
    },
    {
     "data": {
      "text/plain": [
       "'/tmp/games_tfr'"
      ]
     },
     "execution_count": 55,
     "metadata": {},
     "output_type": "execute_result"
    }
   ],
   "source": [
    "query = \"select distinct(game) from `going-tfx.gomoku.tournaments` limit 2\"\n",
    "out_name=\"games\"\n",
    "out_prefix = os.path.join(LOCAL_TMPDIR, out_name)\n",
    "phase='train'\n",
    "with beam.Pipeline(runner, options=opts) as p:\n",
    "    with beam_impl.Context(temp_dir=tempfile.mkdtemp()):\n",
    "\n",
    "\n",
    "        #   Read from Big Query\n",
    "        #\n",
    "        from_bq = p | \"ReadFromBigQuery\"  >> beam.io.Read(beam.io.BigQuerySource(\n",
    "            query=query, use_standard_sql=True)) \n",
    "\n",
    "        # Encode back to file(s)\n",
    "        #\n",
    "        tfr_encoder = tft.coders.ExampleProtoCoder(schema)\n",
    "        res = (from_bq\n",
    "               | beam.Map(create_games)\n",
    "               | beam.FlatMap(recwise)\n",
    "               | ('EncodeTFRecord_' + phase) >> beam.Map(tfr_encoder.encode)\n",
    "               | ('WriteTFRecord_' + phase) >> beam.io.WriteToTFRecord(out_prefix+'_tfr'))\n",
    "\n",
    "out_prefix + '_tfr'"
   ]
  },
  {
   "cell_type": "markdown",
   "metadata": {},
   "source": [
    "### Read from File"
   ]
  },
  {
   "cell_type": "code",
   "execution_count": 33,
   "metadata": {},
   "outputs": [],
   "source": [
    "def _parse_function(example):\n",
    "    return tf.parse_single_example(example, feature_spec)"
   ]
  },
  {
   "cell_type": "code",
   "execution_count": 45,
   "metadata": {},
   "outputs": [],
   "source": [
    "dataset = tf.data.TFRecordDataset(\"/tmp/games_tfr-00000-of-00001\")"
   ]
  },
  {
   "cell_type": "code",
   "execution_count": 46,
   "metadata": {},
   "outputs": [
    {
     "data": {
      "text/plain": [
       "<TFRecordDatasetV1 shapes: (), types: tf.string>"
      ]
     },
     "execution_count": 46,
     "metadata": {},
     "output_type": "execute_result"
    }
   ],
   "source": [
    "dataset"
   ]
  },
  {
   "cell_type": "code",
   "execution_count": 43,
   "metadata": {},
   "outputs": [],
   "source": [
    "record = dataset.take(1)"
   ]
  },
  {
   "cell_type": "code",
   "execution_count": null,
   "metadata": {},
   "outputs": [],
   "source": []
  },
  {
   "cell_type": "code",
   "execution_count": 47,
   "metadata": {},
   "outputs": [],
   "source": [
    "decoded = dataset.map(_parse_function).make_one_shot_iterator().get_next()"
   ]
  },
  {
   "cell_type": "code",
   "execution_count": 48,
   "metadata": {},
   "outputs": [
    {
     "data": {
      "text/plain": [
       "{'qvalue': <tf.Tensor 'IteratorGetNext_2:0' shape=(25,) dtype=float32>,\n",
       " 'state': <tf.Tensor 'IteratorGetNext_2:1' shape=(50,) dtype=float32>}"
      ]
     },
     "execution_count": 48,
     "metadata": {},
     "output_type": "execute_result"
    }
   ],
   "source": [
    "decoded"
   ]
  },
  {
   "cell_type": "code",
   "execution_count": 49,
   "metadata": {},
   "outputs": [],
   "source": [
    "with tf.Session() as sess:\n",
    "    sess.run(decoded)\n",
    "    sess.run(decoded)\n",
    "    res2 = sess.run(decoded)"
   ]
  },
  {
   "cell_type": "code",
   "execution_count": 50,
   "metadata": {},
   "outputs": [
    {
     "data": {
      "text/plain": [
       "((50,), (25,))"
      ]
     },
     "execution_count": 50,
     "metadata": {},
     "output_type": "execute_result"
    }
   ],
   "source": [
    "res2['state'].shape, res2['qvalue'].shape"
   ]
  },
  {
   "cell_type": "code",
   "execution_count": 52,
   "metadata": {},
   "outputs": [
    {
     "data": {
      "text/plain": [
       "array([[[1., 0., 0., 0., 0.],\n",
       "        [0., 0., 0., 0., 0.],\n",
       "        [1., 0., 1., 0., 1.],\n",
       "        [1., 0., 0., 1., 0.],\n",
       "        [0., 1., 1., 1., 1.]],\n",
       "\n",
       "       [[0., 1., 1., 1., 1.],\n",
       "        [1., 1., 0., 0., 1.],\n",
       "        [0., 1., 0., 0., 0.],\n",
       "        [1., 1., 1., 0., 0.],\n",
       "        [1., 0., 0., 1., 0.]]], dtype=float32)"
      ]
     },
     "execution_count": 52,
     "metadata": {},
     "output_type": "execute_result"
    }
   ],
   "source": [
    "np.rollaxis(res2['state'].reshape(N_p,N_p,2), 2, 0)"
   ]
  },
  {
   "cell_type": "code",
   "execution_count": null,
   "metadata": {},
   "outputs": [],
   "source": []
  },
  {
   "cell_type": "code",
   "execution_count": null,
   "metadata": {},
   "outputs": [],
   "source": []
  },
  {
   "cell_type": "code",
   "execution_count": null,
   "metadata": {},
   "outputs": [],
   "source": []
  }
 ],
 "metadata": {
  "kernelspec": {
   "display_name": "Python 3",
   "language": "python",
   "name": "python3"
  },
  "language_info": {
   "codemirror_mode": {
    "name": "ipython",
    "version": 3
   },
   "file_extension": ".py",
   "mimetype": "text/x-python",
   "name": "python",
   "nbconvert_exporter": "python",
   "pygments_lexer": "ipython3",
   "version": "3.5.3"
  }
 },
 "nbformat": 4,
 "nbformat_minor": 2
}
