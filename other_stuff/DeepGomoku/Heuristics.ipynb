{
 "cells": [
  {
   "cell_type": "code",
   "execution_count": 1,
   "metadata": {},
   "outputs": [],
   "source": [
    "%load_ext autoreload\n",
    "%autoreload 2"
   ]
  },
  {
   "cell_type": "code",
   "execution_count": 2,
   "metadata": {},
   "outputs": [],
   "source": [
    "from GomokuTools import N_9x9\n",
    "from IPython.display import HTML\n",
    "from tools import python_to_html"
   ]
  },
  {
   "cell_type": "markdown",
   "metadata": {},
   "source": [
    "# Heuristics: Learning from Humans\n",
    "Alpha zero started from scratch and explored the world of go with no previous knowledge but the rules. Typically though, some human knowledge can jump-start the learning process. That's why we give our agent a head-start with some truly not-so-rigorous (but still quite smart) heuristics. We'll make sure though that the agent will be able to extend its understanding beyond its initial knowlegde and eventually even abandon the heuristics in favour of what it has learned by itself."
   ]
  },
  {
   "cell_type": "markdown",
   "metadata": {},
   "source": [
    "---\n",
    "## Heuristic Score"
   ]
  },
  {
   "cell_type": "code",
   "execution_count": 3,
   "metadata": {},
   "outputs": [],
   "source": [
    "from HeuristicScore import HeuristicScore"
   ]
  },
  {
   "cell_type": "markdown",
   "metadata": {},
   "source": [
    "The heuristic score tries to naively measure the *value* of a position, i.e. the importance with which one should consider putting a stone onto it.\n",
    "\n",
    "```HeuristicScore``` uses the 2-byte = 2x 8 bit representation of a line of 9 positions. For example:\n",
    "```\n",
    "[[0, 0, 1, 0,      0, 0, 0, 0],\n",
    " [0, 0, 0, 0,      0, 0, 1, 1]]\n",
    "```\n",
    "means there is a black stone in one direction (say: left) with distance 2 and there are 2 white stones in the opposite direction (say: right) with distances 3 and 4. The line could as well be represented by a string like:\n",
    "```\n",
    "- - x - * - - o o \n",
    "```\n",
    "The actual direction of the viewpoint don't matter here. What matters is that the position marked by ```*``` would create an wide-split-3 threat in favor of white."
   ]
  },
  {
   "cell_type": "code",
   "execution_count": 4,
   "metadata": {},
   "outputs": [],
   "source": [
    "# Uncomment to view the code\n",
    "# HTML(python_to_html(\"HeuristicScore.py\"))"
   ]
  },
  {
   "cell_type": "markdown",
   "metadata": {},
   "source": [
    "Let's create a particular line with an obvious threat and see what our heuristic score function says about it:"
   ]
  },
  {
   "cell_type": "code",
   "execution_count": 5,
   "metadata": {},
   "outputs": [],
   "source": [
    "h = HeuristicScore(kappa0=1.6, kappa1=5)"
   ]
  },
  {
   "cell_type": "markdown",
   "metadata": {},
   "source": [
    "See [TuningKappa.ipynb](TuningKappa.ipynb) to play with other values for $\\kappa_i$. I just tried a bit and ended up with the above."
   ]
  },
  {
   "cell_type": "code",
   "execution_count": 6,
   "metadata": {},
   "outputs": [
    {
     "data": {
      "text/plain": [
       "[[0, 1, 1, 0, 1, 0, 0, 0], [0, 0, 0, 0, 0, 0, 0, 1]]"
      ]
     },
     "execution_count": 6,
     "metadata": {},
     "output_type": "execute_result"
    }
   ],
   "source": [
    "def to_bits (line):\n",
    "    n = N_9x9().setline('e', line)\n",
    "    line = n.as_bits()[0]    \n",
    "    return line\n",
    "               \n",
    "to_bits([ 0, 1, 1, 0, 1, 0, 0, 2])"
   ]
  },
  {
   "cell_type": "markdown",
   "metadata": {},
   "source": [
    "Hint: Check out [GomokuTools.ipynb](GomokuTools.ipynb) to understand what N_9x9 is all about."
   ]
  },
  {
   "cell_type": "markdown",
   "metadata": {},
   "source": [
    "\n",
    "To estimate the *value* of the center position, we need to look at the largest free sub-line."
   ]
  },
  {
   "cell_type": "markdown",
   "metadata": {},
   "source": [
    "---\n",
    "#### Adversary-free range"
   ]
  },
  {
   "cell_type": "code",
   "execution_count": 7,
   "metadata": {},
   "outputs": [
    {
     "data": {
      "text/plain": [
       "\u001b[0;31mSignature:\u001b[0m \u001b[0mh\u001b[0m\u001b[0;34m.\u001b[0m\u001b[0mf_range\u001b[0m\u001b[0;34m(\u001b[0m\u001b[0mline\u001b[0m\u001b[0;34m,\u001b[0m \u001b[0mfof\u001b[0m\u001b[0;34m=\u001b[0m\u001b[0;36m0\u001b[0m\u001b[0;34m,\u001b[0m \u001b[0medge\u001b[0m\u001b[0;34m=\u001b[0m\u001b[0;32mNone\u001b[0m\u001b[0;34m)\u001b[0m\u001b[0;34m\u001b[0m\u001b[0m\n",
       "\u001b[0;31mDocstring:\u001b[0m\n",
       "The largest adversary-free range within a given line\n",
       "\n",
       "Args:\n",
       "    line: 8x2 integer array that represents the stones\n",
       "    fof:  friend or foe? 0 to look at black, 1 to consider white\n",
       "\u001b[0;31mFile:\u001b[0m      ~/workspace/tutorials/other_stuff/DeepGomoku/HeuristicScore.py\n",
       "\u001b[0;31mType:\u001b[0m      method\n"
      ]
     },
     "metadata": {},
     "output_type": "display_data"
    }
   ],
   "source": [
    "h.f_range?"
   ]
  },
  {
   "cell_type": "code",
   "execution_count": 8,
   "metadata": {},
   "outputs": [
    {
     "data": {
      "text/plain": [
       "array([0, 1, 1, 0, 1, 0])"
      ]
     },
     "execution_count": 8,
     "metadata": {},
     "output_type": "execute_result"
    }
   ],
   "source": [
    "h.f_range(to_bits([ 0, 1, 1, 0, 1, 0, 2, 2]), fof=0)"
   ]
  },
  {
   "cell_type": "markdown",
   "metadata": {},
   "source": [
    "---\n",
    "#### Scoring a single line\n",
    "First count the max number of my stones of any subset of adjacent 5 (including the empty center field), and count how many subsets have that max number of my stones:"
   ]
  },
  {
   "cell_type": "code",
   "execution_count": 9,
   "metadata": {},
   "outputs": [
    {
     "data": {
      "text/plain": [
       "(3, 2)"
      ]
     },
     "execution_count": 9,
     "metadata": {},
     "output_type": "execute_result"
    }
   ],
   "source": [
    "h.cscore(to_bits([ 0, 1, 1, 0, 1, 0, 0, 2]), fof=0)"
   ]
  },
  {
   "cell_type": "markdown",
   "metadata": {},
   "source": [
    "An adverary on one end of the line reduces the value:"
   ]
  },
  {
   "cell_type": "code",
   "execution_count": 10,
   "metadata": {},
   "outputs": [
    {
     "name": "stdout",
     "output_type": "stream",
     "text": [
      "3.4460950649911055\n",
      "3.0\n"
     ]
    }
   ],
   "source": [
    "print(h.score(to_bits([ 0, 1, 1, 0, 1, 0, 0, 2]), fof=0))\n",
    "print(h.score(to_bits([ 2, 1, 1, 0, 1, 0, 0, 2]), fof=0))"
   ]
  },
  {
   "cell_type": "markdown",
   "metadata": {},
   "source": [
    "The position amongst the three is better than the one on the edge:"
   ]
  },
  {
   "cell_type": "code",
   "execution_count": 11,
   "metadata": {},
   "outputs": [
    {
     "name": "stdout",
     "output_type": "stream",
     "text": [
      "3.4460950649911055\n",
      "3.0\n"
     ]
    }
   ],
   "source": [
    "print(h.score(to_bits([ 0, 1, 1, 0, 1, 0, 0, 2]), fof=0))\n",
    "print(h.score(to_bits([ 1, 1, 0, 1, 0, 0, 2, 0]), fof=0))"
   ]
  },
  {
   "cell_type": "markdown",
   "metadata": {},
   "source": [
    "A score of $3$ is considered a serious threat that could participate in a sure-win threat sequence."
   ]
  },
  {
   "cell_type": "markdown",
   "metadata": {},
   "source": [
    "---\n",
    "### Scoring crossing lines"
   ]
  },
  {
   "cell_type": "markdown",
   "metadata": {},
   "source": [
    "The main idea of the implementation is that the value of the field is some kind of sum of the values of the intersecting threat lines. Since the ideas implemented here miss any rigor, it's even hard to explain. I just felt that some kind of pythagorean sum with exponents $\\kappa_0$ other than $2$ (```kappa0``` in the code) would be a natural choice. We'll need to find the actual values for hyper-parameters $\\kappa_0$ and $\\kappa_1$ by some form of hyperparameter tuning. That's the impurity of heuristics, folks!"
   ]
  },
  {
   "cell_type": "code",
   "execution_count": 12,
   "metadata": {},
   "outputs": [
    {
     "name": "stdout",
     "output_type": "stream",
     "text": [
      "    def total_score(self, lines, fof=0, edges=[None, None, None, None]):\n",
      "        \"\"\"\n",
      "        total score of the given list of lines\n",
      "        \"\"\"\n",
      "        scores = [self.score(line, fof, edge=edge) for line, edge in zip(lines, edges)]\n",
      "        return sum(s**self.kappa0 for s in scores)**(1/self.kappa0) \n",
      "\n"
     ]
    }
   ],
   "source": [
    "import inspect\n",
    "print(inspect.getsource(HeuristicScore.total_score))"
   ]
  },
  {
   "cell_type": "markdown",
   "metadata": {},
   "source": [
    "Two open-3s: Both not too critical."
   ]
  },
  {
   "cell_type": "code",
   "execution_count": 16,
   "metadata": {},
   "outputs": [
    {
     "name": "stdout",
     "output_type": "stream",
     "text": [
      "2.29739670999407\n",
      "2.29739670999407\n"
     ]
    }
   ],
   "source": [
    "print(h.score(to_bits([ 0, 0, 1, 1, 0, 0, 0, 2]), fof=0))\n",
    "print(h.score(to_bits([ 0, 1, 1, 0, 0, 2, 0, 2]), fof=0))"
   ]
  },
  {
   "cell_type": "markdown",
   "metadata": {},
   "source": [
    "But if these lines cross, things get tough.\n",
    "Also, observe that the simple heuristic rule is indeed capable of estimating the effect of a defensive stone. "
   ]
  },
  {
   "cell_type": "code",
   "execution_count": 15,
   "metadata": {},
   "outputs": [
    {
     "name": "stdout",
     "output_type": "stream",
     "text": [
      "3.3185059187118733\n",
      "3.084421650815882\n"
     ]
    }
   ],
   "source": [
    "print(h.total_score([\n",
    "    to_bits([ 0, 0, 1, 0, 1, 0, 0, 2]),\n",
    "    to_bits([ 1, 1, 0, 0, 0, 2, 0, 2])], fof=0))\n",
    "\n",
    "print(h.total_score([\n",
    "\n",
    "    #            |-- A single defensive stone            \n",
    "    #            V    \n",
    "    to_bits([ 0, 2, 1, 0, 1, 0, 0, 2]),\n",
    "    to_bits([ 1, 1, 0, 0, 0, 2, 0, 2])], fof=0))"
   ]
  },
  {
   "cell_type": "code",
   "execution_count": null,
   "metadata": {},
   "outputs": [],
   "source": []
  }
 ],
 "metadata": {
  "kernelspec": {
   "display_name": "Python 3",
   "language": "python",
   "name": "python3"
  },
  "language_info": {
   "codemirror_mode": {
    "name": "ipython",
    "version": 3
   },
   "file_extension": ".py",
   "mimetype": "text/x-python",
   "name": "python",
   "nbconvert_exporter": "python",
   "pygments_lexer": "ipython3",
   "version": "3.6.4"
  }
 },
 "nbformat": 4,
 "nbformat_minor": 2
}
