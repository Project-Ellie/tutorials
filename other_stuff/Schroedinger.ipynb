{
 "cells": [
  {
   "cell_type": "markdown",
   "metadata": {},
   "source": [
    "# The Schrödinger equation\n",
    "#### Let's have some serious fun!\n",
    "We'll look at the solutions of the Schrödinger equation for a harmonic potential. "
   ]
  },
  {
   "cell_type": "code",
   "execution_count": 1,
   "metadata": {},
   "outputs": [],
   "source": [
    "from __future__ import absolute_import\n",
    "from __future__ import division\n",
    "from __future__ import print_function"
   ]
  },
  {
   "cell_type": "code",
   "execution_count": 2,
   "metadata": {},
   "outputs": [],
   "source": [
    "import numpy as np\n",
    "import math\n",
    "from math import pi as Pi\n",
    "import matplotlib.pyplot as plt\n",
    "from scipy import (inf, integrate)\n",
    "import seaborn as sns\n",
    "sns.set()"
   ]
  },
  {
   "cell_type": "markdown",
   "metadata": {},
   "source": [
    "### Prelude: Hermite's Polynomials\n",
    "\n",
    "Hermite's Polynomials are a subset of polynomials that will help us construct solutions of the Schrödinger equation. \n",
    "\n",
    "#### Modelling polynomials\n",
    "Some object-oriented Python programming with polynomials. We represent an arbitrary polynomial\n",
    "\n",
    "$$\n",
    "P(x) = \\sum_{n=0}^{N} p_n \\cdot x^n\n",
    "$$\n",
    "\n",
    "unambiguously by its coefficients $p_n$, i.e. an array of real numbers of length $N+1$. Apart from the algebraic operators we also define the multiplication with x as ```mulx()``` and the differentiation as  ```d_dx()```. "
   ]
  },
  {
   "cell_type": "code",
   "execution_count": 3,
   "metadata": {},
   "outputs": [],
   "source": [
    "class Polynomial():\n",
    "    \"\"\"\n",
    "        A class representing a polynomial by its coefficients\n",
    "    \"\"\"\n",
    "    \n",
    "    def __init__(self, array=[0]):\n",
    "        self.p = np.array(array)\n",
    "        \n",
    "    def mulx(self):\n",
    "        return Polynomial(np.insert(self.p, 0, 0))\n",
    "\n",
    "    def d_dx(self):\n",
    "        return Polynomial([i*self.p[i] for i in range(1, len(self.p))])    \n",
    "\n",
    "    def __eq__(self, other):\n",
    "        return np.equal(self.p, other.p).all()\n",
    "    \n",
    "    def __rmul__(self, number):\n",
    "        return Polynomial(number * self.p)\n",
    "    \n",
    "    def __sub__(self, other):\n",
    "        l=max(len(self.p), len(other.p))\n",
    "        return Polynomial(Polynomial.pad(self.p,l) - Polynomial.pad(other.p,l))\n",
    "\n",
    "    def __add__(self, other):\n",
    "        l=max(len(self.p), len(other.p))\n",
    "        return Polynomial(Polynomial.pad(self.p,l) + Polynomial.pad(other.p,l))\n",
    "\n",
    "    def __call__(self, x):\n",
    "        return np.sum([self.p[i] * x**i for i in range(len(self.p))], axis=0)\n",
    "    \n",
    "    @staticmethod\n",
    "    def pad(array, l):\n",
    "        if len(array) == l:\n",
    "            return array\n",
    "        if len(array) > l:\n",
    "            raise ValueError(\"can't pad to lower dimension\")\n",
    "        return np.append(array, np.zeros(l-len(array)))\n",
    "\n",
    "    @staticmethod\n",
    "    def mono_repr(c, i):\n",
    "        if c==0:\n",
    "            return ''\n",
    "        if i==0:\n",
    "            return str(int(c))\n",
    "        elif i==1:\n",
    "            return \"{}x\".format(int(c))\n",
    "        else:\n",
    "            if c==1:\n",
    "                return \"x^{}\".format(i)\n",
    "            else:\n",
    "                return \"{}x^{}\".format(int(c),i)    \n",
    "\n",
    "    def __repr__(self):\n",
    "        return \" + \".join( \n",
    "            np.flipud([Polynomial.mono_repr(self.p[i],i) \n",
    "                      for i in range(len(self.p)) if self.p[i] != 0] ))"
   ]
  },
  {
   "cell_type": "markdown",
   "metadata": {},
   "source": [
    "#### The Hermite Polynomial generator\n",
    "Now, Hermite's polynomials are a special subset of all polynomials, defined e.g. by a recursion relation:\n",
    "\n",
    "From [Wikipedia](https://en.wikipedia.org/wiki/Hermite_polynomials) (if not good memories), we know that\n",
    "$$\n",
    "H_n(x) = (2x-\\frac{d}{dx})^n \\cdot 1\n",
    "$$\n",
    "\n",
    "generates the *physicist's* Hermite polynomials. We define our python generator in a recursive fashion returning Polynomial instances\n",
    "\n",
    "$$\n",
    "H_n(x) = (2x-\\frac{d}{dx}) \\cdot H_{n-1}\n",
    "$$"
   ]
  },
  {
   "cell_type": "code",
   "execution_count": 4,
   "metadata": {},
   "outputs": [],
   "source": [
    "def H(n):\n",
    "    if n<0:\n",
    "        raise ValueError(\"Not defined for negativ n\")\n",
    "    if n==0:\n",
    "        return Polynomial([1])\n",
    "    p = H(n-1)\n",
    "    return 2 * p.mulx() - p.d_dx()"
   ]
  },
  {
   "cell_type": "markdown",
   "metadata": {},
   "source": [
    "Note that we can evaluate the polynomial at any (even complex) x."
   ]
  },
  {
   "cell_type": "code",
   "execution_count": 5,
   "metadata": {},
   "outputs": [
    {
     "data": {
      "text/plain": [
       "(8x^3 + -12x, -4.0, (-100-40j))"
      ]
     },
     "execution_count": 5,
     "metadata": {},
     "output_type": "execute_result"
    }
   ],
   "source": [
    "H_3 = H(3)\n",
    "H_3, H_3(1), H_3(1+2j)"
   ]
  },
  {
   "cell_type": "markdown",
   "metadata": {},
   "source": [
    "The Hermite polynomials have the special properties:\n",
    "\n",
    "$$\n",
    "    x \\cdot H_\\nu(x) = \\frac{1}{2} H_{\\nu+1}(x) + \\nu \\cdot H_{\\nu-1}(x)\n",
    "$$\n",
    "\n",
    "$$\n",
    "    \\frac{d}{dx}H_\\nu(x) = 2 \\nu \\cdot H_{\\nu-1}(x)\n",
    "$$\n",
    "\n",
    "which we can verify using our implementation for the first 10 polynomials ($\\nu = {1..9}$):"
   ]
  },
  {
   "cell_type": "code",
   "execution_count": 6,
   "metadata": {},
   "outputs": [
    {
     "data": {
      "text/plain": [
       "[True, True, True, True, True, True, True, True, True]"
      ]
     },
     "execution_count": 6,
     "metadata": {},
     "output_type": "execute_result"
    }
   ],
   "source": [
    "[H(nu).mulx() == .5 * H(nu+1) + nu*H(nu-1) for nu in range(1,10)]"
   ]
  },
  {
   "cell_type": "code",
   "execution_count": 7,
   "metadata": {},
   "outputs": [
    {
     "data": {
      "text/plain": [
       "[True, True, True, True, True, True, True, True, True]"
      ]
     },
     "execution_count": 7,
     "metadata": {},
     "output_type": "execute_result"
    }
   ],
   "source": [
    "[H(nu).d_dx() == 2 * nu * H(nu - 1) for nu in range(1,10)]"
   ]
  },
  {
   "cell_type": "markdown",
   "metadata": {},
   "source": [
    "---\n",
    "### The time-dependent Schrödinger equation\n",
    "\n",
    "$$\n",
    "i\\hbar \\frac{\\partial \\Psi(x,t)}{\\partial t} = \n",
    "\\mathcal{H}\\Psi(x,t) =\n",
    "E\\Psi(x,t)\n",
    "$$\n",
    "\n",
    "This is the Schrödinger equation. Now, with the time-independent Hamilton operator $\\mathcal{H}$ for a particle with mass m and the harmonic potential given by $ V(x)=\\frac{1}{2}m\\omega^2 x^2$ looks like\n",
    " \n",
    "$$\n",
    "\\mathcal{H} = -\\frac{\\hbar^2}{2m}\\frac{\\partial^2}{\\partial x^2} + \\frac{1}{2}m\\omega^2 x^2 \n",
    "$$\n",
    "\n",
    "we can separate the variables $x$ and $t$ like so:\n",
    "\n",
    "$$\n",
    "\\Psi(x, t) = \\psi(x) \\cdot \\varphi(t)\n",
    "$$\n"
   ]
  },
  {
   "cell_type": "markdown",
   "metadata": {},
   "source": [
    "and solve both \n",
    "$$\n",
    "i\\hbar \\frac{\\partial \\varphi(t)}{\\partial t} = E \\cdot \\varphi(t)\n",
    "$$\n",
    "\n",
    "and\n",
    "\n",
    "$$\n",
    "[-\\frac{\\hbar^2}{2m}\\frac{\\partial^2}{\\partial x^2} + \\frac{1}{2}m\\omega^2 x^2] \\cdot \\psi(x) = E \\psi(x)\n",
    "$$\n",
    "\n",
    "separately."
   ]
  },
  {
   "cell_type": "markdown",
   "metadata": {},
   "source": [
    "A neat trick to get rid of the physical constants is rescaling:\n",
    "\n",
    "$$\\xi = \\frac{m \\omega}{\\hbar} \\cdot x$$\n",
    "\n",
    "with which you can easily check by yourself that the Schrödinger equation becomes:\n",
    "\n",
    "$$ \n",
    "[ -\\frac{\\partial^2}{\\partial \\xi^2} + \\xi^2 - \\frac{2E}{\\hbar \\omega}] \\cdot \\psi(\\xi) = 0\n",
    "$$\n",
    "\n",
    "where we postulate the boundary conditions for a constrained particle as \n",
    "\n",
    "$$\n",
    "\\psi(-\\infty) = \\psi(\\infty) = 0\n",
    "$$"
   ]
  },
  {
   "cell_type": "markdown",
   "metadata": {},
   "source": [
    "The so-called stationary solutions of the equation in $x$ form an ortho-normal eigenbasis of the Hilbert space of bounded functions $\\psi_{\\nu}(\\xi)$ with eigenvalues $E_{\\nu}=\\hbar \\omega (\\nu + \\frac{1}{2})$. And although we're not interested in the boring (yawn!) stationary solutions, we'll use this eigenbasis to construct an analytical function that obeys the time-dependent Schrödinger equation.\n",
    "\n",
    "\n",
    "With the above eigenvalues we finally arrive at the following concise representation of the time-independent Schrödinger equation.\n",
    "\n",
    "$$ \n",
    "[ -\\frac{\\partial^2}{\\partial \\xi^2} + \\xi^2 - (2\\nu+1)] \\cdot \\psi(\\xi) = 0\n",
    "$$"
   ]
  },
  {
   "cell_type": "markdown",
   "metadata": {},
   "source": [
    "### Functions as eigenvectors\n",
    "\n",
    "The solutions of this equation span a vector space, a so-called Hilbert space. That means we can define addition, multiplication by a number and even an inner product on these functions. When we look at functions as vectors in a Hilbert space, then the Schrödinger equation can as well be considered an eigenvalue problem. We'll provide the solutions without proof.\n",
    "\n",
    "The eigenfunctions are composed of the Hermite polynomials and a gaussian:\n",
    "\n",
    "$$\n",
    "\\psi_\\nu(\\xi) = \\frac{1}{\\sqrt{2^\\nu \\cdot \\nu! \\cdot \\sqrt{\\pi}}} \\cdot H_\\nu(\\xi) \\cdot\n",
    "e^{-\\frac{\\xi^2}{2}}\n",
    "$$\n",
    "\n",
    "$$\n",
    "\\varphi_\\nu(t) = e^{-i (\\nu+\\frac{1}{2}) t}\n",
    "$$\n",
    "Thus arriving at the full solution of the time-dependent Schrödinger equation as\n",
    "\n",
    "$$\n",
    "\\psi_\\nu(\\xi, t) = \\frac{1}{\\sqrt{2^\\nu \\cdot \\nu! \\cdot \\sqrt{\\pi}}} \\cdot H_\\nu(\\xi) \\cdot\n",
    "e^{-\\frac{\\xi^2}{2}-i(\\nu+\\frac{1}{2}) t}\n",
    "$$\n",
    "\n",
    "These solutions are called stationary because they rotate in the complex plane keeping their shape. That means that for every x the value of $\\psi_\\nu(x)$ rotates in the complex plane with exactly the same *frequency* as any other. Please note that we have clandestinely scaled the time t such that it *swallowed* the physical constants. For our purpose, namely visualizing the non-stationary solutions of the Schrödinger equation, this does not make a difference.\n",
    "\n",
    "---\n",
    "Defining the normalization factor $A_\\nu$ as \n",
    "\n",
    "$$\n",
    "A_\\nu = \\frac{1}{\\sqrt{2^\\nu \\cdot \\nu! \\cdot \\sqrt{\\pi}}}\n",
    "$$\n",
    "\n",
    "we visualize these stationary solutions such that we get an idea what they look like: "
   ]
  },
  {
   "cell_type": "code",
   "execution_count": 8,
   "metadata": {},
   "outputs": [],
   "source": [
    "def A(nu):\n",
    "    return 1/math.sqrt(2**nu * math.factorial(nu) * math.sqrt(math.pi))\n",
    "\n",
    "def psi(nu):\n",
    "    def _psi(x):\n",
    "        return A(nu) * H(nu)(x) * np.exp(-x*x/2)        \n",
    "    return _psi"
   ]
  },
  {
   "cell_type": "code",
   "execution_count": 9,
   "metadata": {},
   "outputs": [],
   "source": [
    "N_points=200"
   ]
  },
  {
   "cell_type": "code",
   "execution_count": 10,
   "metadata": {},
   "outputs": [],
   "source": [
    "x_ = np.linspace(-6, 6, N_points)"
   ]
  },
  {
   "cell_type": "code",
   "execution_count": 11,
   "metadata": {},
   "outputs": [
    {
     "data": {
      "image/png": "[encoded data removed]",
      "text/plain": [
       "<Figure size 432x288 with 1 Axes>"
      ]
     },
     "metadata": {
      "needs_background": "light"
     },
     "output_type": "display_data"
    }
   ],
   "source": [
    "plt.plot(x_, psi(0)(x_))\n",
    "plt.plot(x_, psi(1)(x_))\n",
    "plt.plot(x_, psi(2)(x_))\n",
    "plt.plot(x_, psi(3)(x_));"
   ]
  },
  {
   "cell_type": "markdown",
   "metadata": {},
   "source": [
    "---\n",
    "#### Ortho-normal basis\n",
    "Let's verify that our $\\psi_\\nu(\\xi)$ form an ortho-normal basis with the inner product $\\langle \\psi_\\mu | \\psi_\\nu \\rangle$, $\\mathbb{H} \\times \\mathbb{H} \\rightarrow \\mathbb{R}$ defined by\n",
    "\n",
    "$$\n",
    "\\int_{-\\infty}^{\\infty} \\bar{\\psi}_\\nu(\\xi) \\cdot \\psi_\\mu(\\xi) d\\xi= \\delta^{\\mu\\nu}\n",
    "$$\n",
    "\n",
    "$\\bar{\\psi}_\\nu(\\xi)$ being the complex conjugate of $\\psi_\\nu(\\xi)$"
   ]
  },
  {
   "cell_type": "code",
   "execution_count": 13,
   "metadata": {},
   "outputs": [
    {
     "data": {
      "text/plain": [
       "[[1.0, 0.0, 0.0, 0.0, -0.0],\n",
       " [0.0, 1.0, 0.0, -0.0, 0.0],\n",
       " [0.0, 0.0, 1.0, 0.0, -0.0],\n",
       " [0.0, -0.0, 0.0, 1.0, 0.0],\n",
       " [-0.0, 0.0, -0.0, 0.0, 1.0]]"
      ]
     },
     "execution_count": 13,
     "metadata": {},
     "output_type": "execute_result"
    }
   ],
   "source": [
    "[[round(integrate.quad(lambda x: psi(mu)(x)*psi(nu)(x), -inf, +inf)[0], 6) for mu in range(5)] for nu in range(5)]"
   ]
  },
  {
   "cell_type": "markdown",
   "metadata": {},
   "source": [
    "You can see that all inner products of two basis functions are zero, apart from the product with itself, which is what the *Kronecker* delta $\\delta^{\\mu \\nu}$ demands."
   ]
  },
  {
   "cell_type": "markdown",
   "metadata": {},
   "source": [
    "---\n",
    "### The fun part: coherent solutions\n",
    "\n",
    "Now, let's have some fun. As we have just verified, the eigenstates of the Schrödinger equation form an ortho-normal basis of the Hilbert space of functions in one dimension. We expect that one can approximate any other bounded function as a linear combination of the first $N$ eigenfunctions. We'll do that for the following shifted gaussian. Note that is is centered around $x=-3$, so it's not equal to the first basis function."
   ]
  },
  {
   "cell_type": "code",
   "execution_count": 12,
   "metadata": {},
   "outputs": [
    {
     "data": {
      "image/png": "[encoded data removed]",
      "text/plain": [
       "<Figure size 432x288 with 1 Axes>"
      ]
     },
     "metadata": {},
     "output_type": "display_data"
    }
   ],
   "source": [
    "x0=-3\n",
    "fun=lambda x: psi(0)(x-x0)\n",
    "#sns.set_style(\"ticks\", {\"xtick.major.size\": 2, \"ytick.major.size\": .1})\n",
    "sns.set()\n",
    "plt.plot(x_, fun(x_));"
   ]
  },
  {
   "cell_type": "markdown",
   "metadata": {},
   "source": [
    "We compute it's coordinates in the Schrödinger eigenbases simply by projecting it to the first $N$ eigenfunctions like this"
   ]
  },
  {
   "cell_type": "code",
   "execution_count": 13,
   "metadata": {},
   "outputs": [
    {
     "data": {
      "text/plain": [
       "[0.10539922456186752,\n",
       " -0.22358551925849393,\n",
       " 0.33537827888774097,\n",
       " -0.4107528270438987,\n",
       " 0.43566916409142903,\n",
       " -0.4133120594491675,\n",
       " 0.3579387431734438,\n",
       " -0.2869894590873224,\n",
       " 0.21524209431549288,\n",
       " -0.1521991444872781,\n",
       " 0.1020982899572428,\n",
       " -0.06530228567262489,\n",
       " 0.03998931973389909,\n",
       " -0.023527652499053843,\n",
       " 0.013338925166922012]"
      ]
     },
     "execution_count": 13,
     "metadata": {},
     "output_type": "execute_result"
    }
   ],
   "source": [
    "N = 15\n",
    "coords = [integrate.quad(lambda x: psi(mu)(x)*fun(x), -inf, +inf)[0] for mu in range(N)]\n",
    "coords"
   ]
  },
  {
   "cell_type": "markdown",
   "metadata": {},
   "source": [
    "Calling those coordinates $c_\\nu$, we compute \n",
    "\n",
    "$$\n",
    "\\psi_0(x-x_0) \\approx \\big[\\sum_{\\nu=0}^9 c_\\nu \\cdot A_\\nu H_\\nu(x)\\big] \\cdot e^{-\\frac{-x^2}{2}}\n",
    "$$"
   ]
  },
  {
   "cell_type": "code",
   "execution_count": 14,
   "metadata": {},
   "outputs": [],
   "source": [
    "pol = Polynomial([0])\n",
    "for nu in range(N):\n",
    "    pol = pol + coords[nu] * A(nu) * H(nu)\n",
    "\n",
    "projection = lambda x: pol(x) * np.exp(-x*x/2)"
   ]
  },
  {
   "cell_type": "code",
   "execution_count": 15,
   "metadata": {},
   "outputs": [
    {
     "data": {
      "image/png": "[encoded data removed]",
      "text/plain": [
       "<Figure size 432x288 with 1 Axes>"
      ]
     },
     "metadata": {},
     "output_type": "display_data"
    }
   ],
   "source": [
    "plt.plot(x_, projection(x_));"
   ]
  },
  {
   "cell_type": "markdown",
   "metadata": {},
   "source": [
    "What you see is that the 15-dimensional projection of our shifted function into the Schrödinger eigenbasis is a formidable approximation. \n",
    "\n",
    "It's actually much more than an approximation. You can interpret this function as the wave function of a particle resting (the momentum is zero) at $x=x_0$. Remember there's still the harmonic potential. Thus, in the limit of classical mechanics, we would expect that our particle will slowly accelerate to the right until it *feels* the potential there. Then it would reflect and move all the way back. Lacking friction, we indeed expect that this oscillation continues until eternity.\n",
    "\n",
    "---\n",
    "#### Let the clock tick...\n",
    "Because now we have this function as a linear combination of Schrödinger solutions, we can switch on time and see ourselves. Under the influence of the time-dependent Schrödinger equation, the the fifteen eigenvectors each rotate at their own frequency determined by the eigenvalue $2\\nu+1$ "
   ]
  },
  {
   "cell_type": "markdown",
   "metadata": {},
   "source": [
    "The time-dependent solutions\n",
    "\n",
    "$$\n",
    "\\psi_\\nu(\\xi, t) = \\frac{1}{\\sqrt{2^\\nu \\cdot \\nu! \\cdot \\sqrt{\\pi}}} \\cdot H_\\nu(\\xi) \\cdot\n",
    "e^{-\\frac{\\xi^2}{2}-i(\\nu+\\frac{1}{2}) t}\n",
    "$$\n",
    "\n",
    "Note that now this function is complex-valued!"
   ]
  },
  {
   "cell_type": "code",
   "execution_count": 16,
   "metadata": {},
   "outputs": [
    {
     "data": {
      "text/plain": [
       "(-0.07938026140540554+0.13838482501850966j)"
      ]
     },
     "execution_count": 16,
     "metadata": {},
     "output_type": "execute_result"
    }
   ],
   "source": [
    "def psit(nu):\n",
    "    def _psi(x, t):\n",
    "        return A(nu) * H(nu)(x) * np.exp(-x*x/2) * np.exp(-1j*(nu+.5)*t)\n",
    "    return _psi\n",
    "\n",
    "psit(3)(1, .3)"
   ]
  },
  {
   "cell_type": "markdown",
   "metadata": {},
   "source": [
    "---\n",
    "#### 3-D data \n",
    "To appreciate the dynamics of a wave function in time we display both the real part and the imaginary part of the complex value of $\\psi$.\n",
    "\n",
    "- The figure's y-axis is our space coordinate $x$\n",
    "- its z-axis spans the real part of the wave function\n",
    "- and its x-axis spans the wave function's imaginary part"
   ]
  },
  {
   "cell_type": "code",
   "execution_count": 17,
   "metadata": {},
   "outputs": [],
   "source": [
    "import mpl_toolkits.mplot3d.axes3d as p3"
   ]
  },
  {
   "cell_type": "markdown",
   "metadata": {},
   "source": [
    "We display $\\psi_2(x, t) $ at $t=0.5$"
   ]
  },
  {
   "cell_type": "code",
   "execution_count": 18,
   "metadata": {},
   "outputs": [],
   "source": [
    "x_ = np.linspace(-6,6, N_points)\n",
    "f = psit(2)(x_, 0.5)\n",
    "r_f = [c.real for c in f]\n",
    "i_f = [c.imag for c in f]"
   ]
  },
  {
   "cell_type": "code",
   "execution_count": 19,
   "metadata": {},
   "outputs": [
    {
     "data": {
      "image/png": "[encoded data removed]",
      "text/plain": [
       "<Figure size 864x576 with 1 Axes>"
      ]
     },
     "metadata": {},
     "output_type": "display_data"
    }
   ],
   "source": [
    "fig=plt.figure(figsize=(12,8))\n",
    "ax = fig.gca(projection='3d')\n",
    "ax.view_init(30, -15)\n",
    "ax.set_xlim(-1, 1)\n",
    "ax.set_zlim(-1, 1)\n",
    "ax.set_xlabel('Imag')\n",
    "ax.set_ylabel('X')\n",
    "ax.set_zlabel('Real')\n",
    "ax.plot(i_f, x_, r_f)\n",
    "plt.show()"
   ]
  },
  {
   "cell_type": "markdown",
   "metadata": {},
   "source": [
    "As you can see, the function is tilted in the complex plan due to the complex phase $e^{-\\frac{5}{2}it}$\n",
    "\n",
    "---\n",
    "#### Time-dependent wave functions\n",
    "Here, we'll create an analytical time-dependent wave function from our set of coordinates in Hilbert space that represent the resting particle at $x_0=-3$"
   ]
  },
  {
   "cell_type": "code",
   "execution_count": 20,
   "metadata": {},
   "outputs": [
    {
     "data": {
      "text/plain": [
       "(0.45630699835458477+0j)"
      ]
     },
     "execution_count": 20,
     "metadata": {},
     "output_type": "execute_result"
    }
   ],
   "source": [
    "def WF(sc):\n",
    "    return lambda x,t: sum([sc[nu] * np.exp(-1j*(nu+.5)*t) * A(nu) * H(nu)(x) * np.exp(-x*x/2) \n",
    "#                           ==============================   ==================================\n",
    "#                                         ^                                ^\n",
    "#                               time dependent coefficient           Basis function                   \n",
    "         for nu in range(len(sc))]) \n",
    "\n",
    "particle = WF(coords)\n",
    "\n",
    "particle(-3, 0) # a particle resting at x=-3 at time t=0  "
   ]
  },
  {
   "cell_type": "markdown",
   "metadata": {},
   "source": [
    "### Animating a Schrödinger particle!"
   ]
  },
  {
   "cell_type": "code",
   "execution_count": 21,
   "metadata": {},
   "outputs": [
    {
     "data": {
      "application/javascript": [
       "IPython.notebook.set_autosave_interval(3600000)"
      ]
     },
     "metadata": {},
     "output_type": "display_data"
    },
    {
     "name": "stdout",
     "output_type": "stream",
     "text": [
      "Autosaving every 3600 seconds\n"
     ]
    }
   ],
   "source": [
    "%autosave 3600"
   ]
  },
  {
   "cell_type": "code",
   "execution_count": 22,
   "metadata": {},
   "outputs": [],
   "source": [
    "N_frames=100\n",
    "N_Points=200\n",
    "XL, XR = -6, 6"
   ]
  },
  {
   "cell_type": "code",
   "execution_count": 23,
   "metadata": {},
   "outputs": [],
   "source": [
    "def snapshot(N, f, t):\n",
    "    x = np.linspace(XL,XR, N)\n",
    "    f=f(x, t)\n",
    "    r_f = np.array([c.real for c in f])\n",
    "    i_f = np.array([c.imag for c in f])\n",
    "    return np.array([i_f, x, r_f])"
   ]
  },
  {
   "cell_type": "code",
   "execution_count": 24,
   "metadata": {},
   "outputs": [],
   "source": [
    "def update(num, n_points, n_frames, wave_function, line):\n",
    "    data= snapshot(n_points, wave_function, num*4.0/n_frames*math.pi)\n",
    "    line.set_data(data[0], data[1])\n",
    "    line.set_3d_properties(data[2])\n",
    "    return line"
   ]
  },
  {
   "cell_type": "markdown",
   "metadata": {},
   "source": [
    "Recording the animation will take a couple of seconds. Be patient. It's worth waiting for!"
   ]
  },
  {
   "cell_type": "code",
   "execution_count": 35,
   "metadata": {},
   "outputs": [
    {
     "data": {
      "image/png": "[encoded data removed]",
      "text/plain": [
       "<Figure size 864x576 with 1 Axes>"
      ]
     },
     "metadata": {},
     "output_type": "display_data"
    }
   ],
   "source": [
    "import numpy as np\n",
    "import matplotlib.pyplot as plt\n",
    "import matplotlib.animation as animation\n",
    "from IPython.display import HTML\n",
    "\n",
    "fig=plt.figure(figsize=(12,8))\n",
    "ax = p3.Axes3D(fig)\n",
    "\n",
    "initial_data = snapshot(N_points, particle, 0.0)\n",
    "\n",
    "line = ax.plot(initial_data[0], initial_data[1], initial_data[2])[0]\n",
    "\n",
    "ax.set_xlim(-1, 1)\n",
    "ax.set_zlim(-1, 1)\n",
    "ax.set_ylim(XL, XR)\n",
    "ax.set_xlabel('Imag')\n",
    "ax.set_ylabel('X')\n",
    "ax.set_zlabel('Real')\n",
    "\n",
    "ax.set_title('Schroedinger particle in action!')\n",
    "ax.view_init(10, -10)\n",
    "\n",
    "line_ani = animation.FuncAnimation(\n",
    "    fig, update, N_frames, \n",
    "    fargs=(N_Points, N_frames, particle, line), \n",
    "    interval=200, blit=False)\n",
    "\n",
    "jshtml = line_ani.to_jshtml()"
   ]
  },
  {
   "cell_type": "code",
   "execution_count": 26,
   "metadata": {},
   "outputs": [],
   "source": [
    "#Uncomment and run this cell the see the movie. The cell will be so large that the notebook refuses to save. Thus I always comment it out before saving.\n",
    "#HTML(data=jshtml)"
   ]
  },
  {
   "cell_type": "code",
   "execution_count": 27,
   "metadata": {},
   "outputs": [],
   "source": [
    "# Uncomment to save your file and serve it elsewhere\n",
    "#with open(\"Schroedinger.html\", \"w\") as file:\n",
    "#    file.write(jshtml)"
   ]
  },
  {
   "cell_type": "markdown",
   "metadata": {},
   "source": [
    "---\n",
    "### Measuring location and momentum\n",
    "\n",
    "Measurements in the real world are represented by computing expectation values of the operator associated with the given observable.\n",
    "\n",
    "#### Angle notation\n",
    "\n",
    "In the following, we denote eigenfunctions of the Schrödinger equation in angle notation \n",
    "\n",
    "$$\n",
    "|\\nu \\rangle \\equiv \\psi_\\nu(x,t)\n",
    "$$\n",
    "\n",
    "In our unit-free notation, and introducing a more concise notation for the partial derivative, the momentum operator $\\hat{p}$ is defined by\n",
    "\n",
    "$$\n",
    "\\hat{p} = -i \\partial_x\n",
    "$$\n",
    "\n",
    "Operators in our Hilbert space will be written in *hat* notation. You have seen $\\hat{p}$ already. The Hamilton operator becomes:\n",
    "\n",
    "$$\n",
    "\\hat{H}  = \\hat{p}^2 + \\hat{x}^2\n",
    "$$\n",
    "\n",
    "Note that we're back to using $x$, but what we really mean is the unit-less $\\xi$.\n",
    "\n",
    "The Schrödinger equation in its eigenbasis looks like \n",
    "\n",
    "$$\n",
    "\\hat{H} |\\nu\\rangle = 2(\\nu+1)|\\nu\\rangle \n",
    "$$\n",
    "\n",
    "The inner product of any two wave functions (not necessarily basisvectors) as defined by the integral over the product of both functions has a neat short notation:\n",
    "\n",
    "$$\n",
    "\\langle \\psi_1 | \\psi_2 \\rangle\n",
    "\\equiv\n",
    "\\int_{-\\infty}^{\\infty} \\bar{\\psi_1}(\\xi) \\cdot \\psi_2(\\xi) d\\xi\n",
    "$$\n",
    "\n",
    "The expectation value of an observable represented by an Operator like e.g. $\\hat{p}$, given a particular wave function $\\psi$ is defined by\n",
    "\n",
    "$$\n",
    "\\langle \\psi | \\hat{p} | \\psi \\rangle\n",
    "\\equiv\n",
    "\\int_{-\\infty}^{\\infty} \\bar{\\psi}(\\xi) \\cdot (-i\\partial_x) \\psi(\\xi) d\\xi\n",
    "$$\n"
   ]
  },
  {
   "cell_type": "markdown",
   "metadata": {},
   "source": [
    "---\n",
    "#### Dirac's ladder operators\n",
    "Let us introduce the two *ladder* operators $a$ and $a^\\dagger$ as"
   ]
  },
  {
   "cell_type": "markdown",
   "metadata": {},
   "source": [
    "$$\n",
    "a \\equiv \\frac{1}{\\sqrt 2} (\\hat{x} + i\\hat{p})\n",
    "$$\n",
    "\n",
    "$$\n",
    "a^\\dagger \\equiv \\frac{1}{\\sqrt 2} (\\hat{x} - i\\hat{p})\n",
    "$$\n",
    "\n",
    "using which we can express  $\\hat{p}$ and $\\hat{x}$ like so: \n",
    "\n",
    "$$\n",
    "\\hat{p} = \\frac{i}{\\sqrt 2}(a^\\dagger - a)\n",
    "$$\n",
    "\n",
    "$$\n",
    "\\hat{x} = \\frac{1}{\\sqrt 2}(a^\\dagger + a)\n",
    "$$"
   ]
  },
  {
   "cell_type": "markdown",
   "metadata": {},
   "source": [
    "Then you can convince yourself easily using the properties of the Hermite polynomials:\n",
    "\n",
    "$$\n",
    "    x \\cdot H_\\nu(x) = \\frac{1}{2} H_{\\nu+1}(x) + \\nu \\cdot H_{\\nu-1}(x)\n",
    "$$\n",
    "\n",
    "$$\n",
    "    \\frac{d}{dx}H_\\nu(x) = 2 \\nu \\cdot H_{\\nu-1}(x)\n",
    "$$\n",
    "\n",
    "and our solutions of the Schrödinger equations\n",
    "\n",
    "$$\n",
    "\\psi_\\nu(x) = A_\\nu \\cdot H_\\nu(x) \\cdot\n",
    "e^{-\\frac{x^2}{2}}\n",
    "$$\n",
    "\n",
    "that\n",
    "$$ a|\\nu\\rangle = \\sqrt{\\nu} |\\nu-1 \\rangle $$ \n",
    "and\n",
    "$$ a^\\dagger|\\nu\\rangle = \\sqrt{\\nu+1} |\\nu+1 \\rangle $$ \n",
    "\n",
    "It should be obvious by now why these operators are called *ladder* operators. They map each basis vector on the next resp. previous basis vector. And this neat property leads to a surprisingly simple method of applying $\\hat{p}$ or $\\hat{x}$ to arbitrary wave functions."
   ]
  },
  {
   "cell_type": "markdown",
   "metadata": {},
   "source": [
    "---\n",
    "#### Matrix representation\n",
    "\n",
    "We can compute a matrix representation easily by projecting the the result of every \n",
    "$a|\\nu\\rangle$ resp. $a^\\dagger|\\nu\\rangle$ onto every eigenvector.\n",
    "\n",
    "$$\n",
    "\\langle \\mu|a|\\nu\\rangle = \\sqrt{\\nu}\\cdot\\langle \\mu | \\nu-1\\rangle = \\sqrt{\\nu} \\cdot \\delta^{\\mu,\\nu-1} \n",
    "$$\n",
    "\n",
    "and\n",
    "\n",
    "$$\n",
    "\\langle \\mu|a^\\dagger|\\nu\\rangle = \\sqrt{\\nu+1}\\cdot\\langle \\mu | \\nu+1\\rangle = \\sqrt{\\nu+1} \\cdot \\delta^{\\mu,\\nu+1} \n",
    "$$\n",
    "\n"
   ]
  },
  {
   "cell_type": "markdown",
   "metadata": {},
   "source": [
    "In this matrix representation, the ladder operators populate the positions right above or below the diagonal, respectively.\n",
    "\n",
    "$$\n",
    "a = \\left[\n",
    "    \\begin{array}{c c c c c c}\n",
    "    0 & 1 & 0 & 0 & 0 & 0 & \\dots \\\\\n",
    "    0 & 0 & \\sqrt{2} & 0 & 0 & 0 & \\dots\\\\\n",
    "    0 & 0 & 0 & \\sqrt{3} & 0 & 0 & \\dots\\\\\n",
    "    0 & 0 & 0 & 0 & \\sqrt{4} & 0 & \\dots\\\\\n",
    "    0 & 0 & 0 & 0 & 0 & \\sqrt{5} & \\dots\\\\\n",
    "    0 & 0 & 0 & 0 & 0 & 0 & \\dots \\\\\n",
    "    \\dots\n",
    "    \\end{array}\n",
    "    \\right]\n",
    "$$\n",
    "\n",
    "$$\n",
    "a^\\dagger = \n",
    "    \\left[\n",
    "    \\begin{array}{c c c c c c}\n",
    "    0 & 0 & 0 & 0 & 0 & 0 & \\dots\\\\\n",
    "    1 & 0 & 0 & 0 & 0 & 0 & \\dots\\\\\n",
    "    0 & \\sqrt{2} & 0 & 0 & 0 & 0 & \\dots\\\\\n",
    "    0 & 0 & \\sqrt{3} & 0 & 0 & 0 & \\dots\\\\\n",
    "    0 & 0 & 0 & \\sqrt{4} & 0 & 0 & \\dots\\\\\n",
    "    0 & 0 & 0 & 0 & \\sqrt{5} & 0 & \\dots\\\\\n",
    "    \\dots\n",
    "    \\end{array}\n",
    "    \\right]\n",
    "$$    \n",
    "    \n",
    "which leads to\n",
    "    \n",
    "$$\n",
    "\\hat{p} = \\frac{1}{\\sqrt{2}} \\cdot \\left[\n",
    "    \\begin{array}{c c c c c c}\n",
    "    0 & 1 & 0 & 0 & 0 & 0 & \\dots\\\\\n",
    "    i & 0  & \\sqrt{2} & 0 & 0 & 0 & \\dots\\\\\n",
    "    0 & i\\sqrt{2} & 0 & \\sqrt{3} & 0 & 0 & \\dots\\\\\n",
    "    0 & 0 & i\\sqrt{3} & 0 & \\sqrt{4} & 0 & \\dots\\\\\n",
    "    0 & 0 & 0 & i\\sqrt{4} & 0 & \\sqrt{5} & \\dots\\\\\n",
    "    0 & 0 & 0 & 0 & i\\sqrt{5} & 0 & \\dots\\\\\n",
    "    \\dots\n",
    "    \\end{array}\n",
    "    \\right]\n",
    "$$\n",
    "\n",
    "$$\n",
    "\\hat{x} = \\frac{1}{\\sqrt{2}} \\cdot \\left[\n",
    "    \\begin{array}{c c c c c c}\n",
    "    0 & i & 0 & 0 & 0 & 0 & \\dots\\\\\n",
    "    1 & 0  & i\\sqrt{2} & 0 & 0 & 0 & \\dots\\\\\n",
    "    0 & \\sqrt{2} & 0 & i\\sqrt{3} & 0 & 0 & \\dots\\\\\n",
    "    0 & 0 & \\sqrt{3} & 0 & i\\sqrt{4} & 0 & \\dots\\\\\n",
    "    0 & 0 & 0 & \\sqrt{4} & 0 & i\\sqrt{5} & \\dots\\\\\n",
    "    0 & 0 & 0 & 0 & \\sqrt{5} & 0 & \\dots\\\\\n",
    "    \\dots\n",
    "    \\end{array}\n",
    "    \\right]\n",
    "$$\n"
   ]
  },
  {
   "cell_type": "markdown",
   "metadata": {},
   "source": [
    "---\n",
    "\n",
    "With these matrices we can do all our calculations just like highschool algebra! Let's verify that \n",
    "\n",
    "$$ a|2\\rangle = \\sqrt{2} \\cdot |1\\rangle $$\n",
    "\n",
    "and\n",
    "\n",
    "$$ a^\\dagger |2\\rangle = \\sqrt{3} \\cdot |3\\rangle $$\n"
   ]
  },
  {
   "cell_type": "code",
   "execution_count": 55,
   "metadata": {},
   "outputs": [],
   "source": [
    "N=4 # just so that displaying the matrices doesn't clutter the notebook"
   ]
  },
  {
   "cell_type": "markdown",
   "metadata": {},
   "source": [
    "The ladder operators as numpy arrays:"
   ]
  },
  {
   "cell_type": "code",
   "execution_count": 56,
   "metadata": {},
   "outputs": [
    {
     "data": {
      "text/plain": [
       "array([[0.        , 1.        , 0.        , 0.        ],\n",
       "       [0.        , 0.        , 1.41421356, 0.        ],\n",
       "       [0.        , 0.        , 0.        , 1.73205081],\n",
       "       [0.        , 0.        , 0.        , 0.        ]])"
      ]
     },
     "execution_count": 56,
     "metadata": {},
     "output_type": "execute_result"
    }
   ],
   "source": [
    "a=np.array([[math.sqrt(nu) if mu==nu-1 else 0.0 for nu in range(N)] for mu in range(N)])\n",
    "a"
   ]
  },
  {
   "cell_type": "code",
   "execution_count": 57,
   "metadata": {},
   "outputs": [
    {
     "data": {
      "text/plain": [
       "array([[0.        , 0.        , 0.        , 0.        ],\n",
       "       [1.        , 0.        , 0.        , 0.        ],\n",
       "       [0.        , 1.41421356, 0.        , 0.        ],\n",
       "       [0.        , 0.        , 1.73205081, 0.        ]])"
      ]
     },
     "execution_count": 57,
     "metadata": {},
     "output_type": "execute_result"
    }
   ],
   "source": [
    "a_d=np.array([[math.sqrt(nu+1) if mu==nu+1 else 0.0 for nu in range(N)] for mu in range(N)])\n",
    "a_d"
   ]
  },
  {
   "cell_type": "code",
   "execution_count": 58,
   "metadata": {},
   "outputs": [
    {
     "data": {
      "text/plain": [
       "(array([0.        , 1.41421356, 0.        , 0.        ]),\n",
       " array([0.        , 0.        , 0.        , 1.73205081]))"
      ]
     },
     "execution_count": 58,
     "metadata": {},
     "output_type": "execute_result"
    }
   ],
   "source": [
    "nu2 = np.array([0, 0, 1, 0])\n",
    "np.matmul(a, nu2), np.matmul(a_d, nu2)"
   ]
  },
  {
   "cell_type": "markdown",
   "metadata": {},
   "source": [
    "Convinced?\n",
    "\n",
    "---\n",
    "#### Expectation values\n",
    "\n",
    "We can do even more exciting stuff with these matrices. Remember our initial wave function from the movie? It was a gaussian located a x=-3, and I claimed that it was at rest. It's about time to prove both.\n",
    "The expectation value of the location $x$ is defined by\n",
    "\n",
    "$$\n",
    "\\langle \\psi | \\hat{x} | \\psi \\rangle\n",
    "\\equiv\n",
    "\\int_{-\\infty}^{\\infty} \\bar{\\psi}(x) \\cdot x \\cdot \\psi(x) dx\n",
    "$$\n"
   ]
  },
  {
   "cell_type": "code",
   "execution_count": 59,
   "metadata": {},
   "outputs": [],
   "source": [
    "# Using the 15-dimensional coordinates of our initial wave function in the Hilbert space spun by the \n",
    "# solutions of the Schrödinger equation with harmonic potential\n",
    "\n",
    "c = coords\n",
    "N = len(coords)\n",
    "a=np.array([[math.sqrt(nu) if mu==nu-1 else 0.0 for nu in range(N)] for mu in range(N)])\n",
    "a_d=np.array([[math.sqrt(nu+1) if mu==nu+1 else 0.0 for nu in range(N)] for mu in range(N)])"
   ]
  },
  {
   "cell_type": "markdown",
   "metadata": {},
   "source": [
    "Below we calculate\n",
    "\n",
    "$$\n",
    "  \\langle \\psi | \\hat{x} | \\psi \\rangle =  \n",
    "  \\frac{1}{\\sqrt{2}} \\cdot (\\langle \\psi | \\hat{a} \\psi \\rangle + \\langle \\psi | \\hat{a}^\\dagger \\psi \\rangle) \n",
    " = \\frac{1}{\\sqrt{2}} \\cdot (\\psi^T \\cdot \\mathbb{M} \\cdot \\psi + \\psi^T \\cdot \\mathbb{M}^\\dagger \\cdot \\psi)\n",
    "$$\n",
    "\n",
    "where $\\psi^T$ is the transposed vector and $\\mathbb{M}, \\mathbb{M}^\\dagger$ are the matrix representations of the ladder operators $a, a^\\dagger$."
   ]
  },
  {
   "cell_type": "code",
   "execution_count": 60,
   "metadata": {},
   "outputs": [
    {
     "data": {
      "text/plain": [
       "-2.999245237655324"
      ]
     },
     "execution_count": 60,
     "metadata": {},
     "output_type": "execute_result"
    }
   ],
   "source": [
    "psi=np.array(coords)\n",
    "1/math.sqrt(2) * (np.matmul(np.matmul(psi.T, a), psi) + np.matmul(np.matmul(psi.T, a_d), psi))\n",
    "\n",
    "# Transposing is just for visual clarity. \n",
    "# Actually, Python would understand the matmul operation correctly, anyway."
   ]
  },
  {
   "cell_type": "markdown",
   "metadata": {},
   "source": [
    "Convinced? That's almost exactly what we expected.\n",
    "\n",
    "Btw. we could have been smarter by computing the $\\hat{x}$ operator first and then compute the expectation value of it: Let's do that also for $\\hat{p}$ \n",
    "\n",
    "$\\hat{p} = \\frac{i}{\\sqrt 2}(a^\\dagger - a)$ ;\n",
    "$\\hat{x} = \\frac{1}{\\sqrt 2}(a^\\dagger + a)$:"
   ]
  },
  {
   "cell_type": "code",
   "execution_count": 66,
   "metadata": {},
   "outputs": [],
   "source": [
    "p_hat = 1j/math.sqrt(2) * ( a_d - a )\n",
    "x_hat = 1/math.sqrt(2) * ( a_d + a )"
   ]
  },
  {
   "cell_type": "markdown",
   "metadata": {},
   "source": [
    "$\\langle \\psi | \\hat{p} | \\psi \\rangle$:"
   ]
  },
  {
   "cell_type": "code",
   "execution_count": 67,
   "metadata": {},
   "outputs": [
    {
     "data": {
      "text/plain": [
       "-6.938893903907228e-17j"
      ]
     },
     "execution_count": 67,
     "metadata": {},
     "output_type": "execute_result"
    }
   ],
   "source": [
    "np.matmul(np.matmul(psi.T, p_hat), psi)"
   ]
  },
  {
   "cell_type": "markdown",
   "metadata": {},
   "source": [
    "That's almost zero. C'mon, now you are convinced, right?"
   ]
  },
  {
   "cell_type": "markdown",
   "metadata": {},
   "source": [
    "---\n",
    "\n",
    "#### Observing location and momentum over time"
   ]
  },
  {
   "cell_type": "code",
   "execution_count": 68,
   "metadata": {},
   "outputs": [],
   "source": [
    "def psi_t(sc, t):\n",
    "    return np.array([sc[nu] * np.exp(-1j*(nu+.5)*t) for nu in range(N)])"
   ]
  },
  {
   "cell_type": "code",
   "execution_count": 73,
   "metadata": {},
   "outputs": [
    {
     "data": {
      "text/plain": [
       "array([ 0.09900916-0.03614116j, -0.11124968+0.19394327j,\n",
       "       -0.05977986-0.33000751j,  0.31637467+0.26196365j,\n",
       "       -0.43565377+0.00366278j,  0.31386879-0.26891122j,\n",
       "       -0.05787018+0.35322965j, -0.14696313-0.24650515j,\n",
       "        0.20340493+0.07039596j, -0.14207402+0.05458529j,\n",
       "        0.04930489-0.08940407j,  0.01271863+0.06405174j,\n",
       "       -0.03122549-0.02498229j,  0.02352017-0.00059335j,\n",
       "       -0.00998221+0.00884773j])"
      ]
     },
     "execution_count": 73,
     "metadata": {},
     "output_type": "execute_result"
    }
   ],
   "source": [
    "psi_07 = psi_t(psi, 0.7)\n",
    "psi_07"
   ]
  },
  {
   "cell_type": "markdown",
   "metadata": {},
   "source": [
    "Please note that for complex coefficients we must compute $\\langle \\psi | $ as the complex conjugate of $| \\psi \\rangle$"
   ]
  },
  {
   "cell_type": "code",
   "execution_count": 74,
   "metadata": {},
   "outputs": [
    {
     "data": {
      "text/plain": [
       "(1.9321668304609714+3.610054421197828e-17j)"
      ]
     },
     "execution_count": 74,
     "metadata": {},
     "output_type": "execute_result"
    }
   ],
   "source": [
    "np.matmul(np.matmul(np.conj(psi_07).T, p_hat), psi_07)"
   ]
  },
  {
   "cell_type": "code",
   "execution_count": 81,
   "metadata": {},
   "outputs": [
    {
     "data": {
      "text/plain": [
       "1.9321668304609714"
      ]
     },
     "execution_count": 81,
     "metadata": {},
     "output_type": "execute_result"
    }
   ],
   "source": [
    "def p_exp (sc, t):\n",
    "    psit = psi_t(sc, t)\n",
    "    return np.matmul(np.matmul(np.conj(psit).T, p_hat), psit).real\n",
    "p_exp(psi, .7)\n"
   ]
  },
  {
   "cell_type": "code",
   "execution_count": 82,
   "metadata": {},
   "outputs": [
    {
     "data": {
      "text/plain": [
       "-2.2939492877708827"
      ]
     },
     "execution_count": 82,
     "metadata": {},
     "output_type": "execute_result"
    }
   ],
   "source": [
    "def x_exp (sc, t):\n",
    "    psit = psi_t(sc, t)\n",
    "    return np.matmul(np.matmul(np.conj(psit).T, x_hat), psit).real\n",
    "x_exp(psi, np.array(0.7))"
   ]
  },
  {
   "cell_type": "code",
   "execution_count": 79,
   "metadata": {},
   "outputs": [],
   "source": [
    "t_ = np.linspace(0, 2*math.pi, 100)\n",
    "xt_ = [x_exp(psi, t) for t in t_]\n",
    "pt_ = [p_exp(psi, t) for t in t_]"
   ]
  },
  {
   "cell_type": "code",
   "execution_count": 80,
   "metadata": {},
   "outputs": [
    {
     "data": {
      "image/png": "[encoded data removed]",
      "text/plain": [
       "<Figure size 432x288 with 1 Axes>"
      ]
     },
     "metadata": {},
     "output_type": "display_data"
    }
   ],
   "source": [
    "plt.plot(xt_, pt_);"
   ]
  },
  {
   "cell_type": "markdown",
   "metadata": {},
   "source": [
    "Just like in classical mechanics, the expectation values of location and momentum form an elipse (in our case even a perfect circle) in the phase space spun by values of $p$ and $x$."
   ]
  }
 ],
 "metadata": {
  "kernelspec": {
   "display_name": "Python 2",
   "language": "python",
   "name": "python2"
  },
  "language_info": {
   "codemirror_mode": {
    "name": "ipython",
    "version": 2
   },
   "file_extension": ".py",
   "mimetype": "text/x-python",
   "name": "python",
   "nbconvert_exporter": "python",
   "pygments_lexer": "ipython2",
   "version": "2.7.13"
  }
 },
 "nbformat": 4,
 "nbformat_minor": 2
}
