{
 "cells": [
  {
   "cell_type": "code",
   "execution_count": 1,
   "metadata": {},
   "outputs": [],
   "source": [
    "from __future__ import division\n",
    "from __future__ import print_function\n",
    "from __future__ import absolute_import"
   ]
  },
  {
   "cell_type": "code",
   "execution_count": 2,
   "metadata": {},
   "outputs": [],
   "source": [
    "import os\n",
    "import pandas as pd\n",
    "import tensorflow as tf\n",
    "import google.datalab.bigquery as dlbq"
   ]
  },
  {
   "cell_type": "code",
   "execution_count": 3,
   "metadata": {},
   "outputs": [
    {
     "name": "stdout",
     "output_type": "stream",
     "text": [
      "1.12.0\n"
     ]
    }
   ],
   "source": [
    "print(tf.__version__)\n",
    "if tf.test.is_built_with_cuda():\n",
    "    print (\"Built with cuda\")\n",
    "if tf.test.is_gpu_available():\n",
    "    print(\"GPU available.\")"
   ]
  },
  {
   "cell_type": "code",
   "execution_count": 4,
   "metadata": {},
   "outputs": [
    {
     "data": {
      "text/plain": [
       "False"
      ]
     },
     "execution_count": 4,
     "metadata": {},
     "output_type": "execute_result"
    }
   ],
   "source": [
    "tf.test.is_built_with_cuda()"
   ]
  },
  {
   "cell_type": "code",
   "execution_count": 5,
   "metadata": {},
   "outputs": [],
   "source": [
    "tf.logging.set_verbosity(tf.logging.INFO)"
   ]
  },
  {
   "cell_type": "markdown",
   "metadata": {},
   "source": [
    "---\n",
    "##### From Jupyter notebook to python package\n",
    "From exploration to production.\n",
    "\n",
    "This little tool dumps a given function to a file with the same name in a certain package"
   ]
  },
  {
   "cell_type": "code",
   "execution_count": 6,
   "metadata": {},
   "outputs": [],
   "source": [
    "PACKAGE=\"./train\"\n",
    "from tools import make_src_dumper\n",
    "write_py = make_src_dumper(PACKAGE)"
   ]
  },
  {
   "cell_type": "markdown",
   "metadata": {},
   "source": [
    "---"
   ]
  },
  {
   "cell_type": "markdown",
   "metadata": {},
   "source": [
    "# Training and Evaluation Data\n",
    "Training and evaluation data should be provided in files already.\n",
    "\n",
    "If not, please go back an run ```Processing_ATL_JUNE.ipynb```\n",
    "\n",
    "#### Fetch a sample file for examination"
   ]
  },
  {
   "cell_type": "code",
   "execution_count": 7,
   "metadata": {},
   "outputs": [
    {
     "name": "stdout",
     "output_type": "stream",
     "text": [
      "Copying gs://going-tfx/samples/train_data/atl_june_csv-00000-of-00024...\n",
      "/ [1 files][141.4 KiB/141.4 KiB]                                                \n",
      "Operation completed over 1 objects/141.4 KiB.                                    \n",
      "\n",
      "1000 records in /tmp/atl_june/samples/atl_june_csv-00000-of-00024\n"
     ]
    }
   ],
   "source": [
    "DATASET='samples'\n",
    "a_training_file = !gsutil ls gs://going-tfx/$DATASET/train_data/atl_june_csv-00000-of-*\n",
    "a_training_file = a_training_file[0]\n",
    "TEMP_DIR='/tmp/atl_june/{}'.format(DATASET)\n",
    "!rm -rf $TEMP_DIR\n",
    "!mkdir -p $TEMP_DIR\n",
    "!gsutil cp $a_training_file $TEMP_DIR\n",
    "a_training_file = !ls $TEMP_DIR\n",
    "a_training_file = os.path.join(TEMP_DIR,a_training_file[0])\n",
    "res=!wc -l $a_training_file\n",
    "res=res[0].split(\" \")\n",
    "print()\n",
    "print(\"{} records in {}\".format(res[0], res[1]))"
   ]
  },
  {
   "cell_type": "markdown",
   "metadata": {},
   "source": [
    "#### Have a look into the first training data file\n",
    "\n",
    "This data is at the **training data** stage. It's got all and only the columns we want. Is has been normalized and integerized. We'll use the ```tf.feature_column``` API to further prepare categorical features."
   ]
  },
  {
   "cell_type": "code",
   "execution_count": 8,
   "metadata": {},
   "outputs": [
    {
     "data": {
      "text/html": [
       "<div>\n",
       "<style scoped>\n",
       "    .dataframe tbody tr th:only-of-type {\n",
       "        vertical-align: middle;\n",
       "    }\n",
       "\n",
       "    .dataframe tbody tr th {\n",
       "        vertical-align: top;\n",
       "    }\n",
       "\n",
       "    .dataframe thead th {\n",
       "        text-align: right;\n",
       "    }\n",
       "</style>\n",
       "<table border=\"1\" class=\"dataframe\">\n",
       "  <thead>\n",
       "    <tr style=\"text-align: right;\">\n",
       "      <th></th>\n",
       "      <th>AIRLINE</th>\n",
       "      <th>ARR</th>\n",
       "      <th>ARR_DELAY</th>\n",
       "      <th>ARR_LAT</th>\n",
       "      <th>ARR_LON</th>\n",
       "      <th>DEP_DELAY</th>\n",
       "      <th>DEP_DOW</th>\n",
       "      <th>DEP_HOD</th>\n",
       "      <th>DEP_LAT</th>\n",
       "      <th>DEP_LON</th>\n",
       "      <th>DIFF_LAT</th>\n",
       "      <th>DIFF_LON</th>\n",
       "      <th>DISTANCE</th>\n",
       "      <th>MEAN_TEMP_ARR</th>\n",
       "      <th>MEAN_TEMP_DEP</th>\n",
       "      <th>MEAN_VIS_ARR</th>\n",
       "      <th>MEAN_VIS_DEP</th>\n",
       "      <th>WND_SPD_ARR</th>\n",
       "      <th>WND_SPD_DEP</th>\n",
       "    </tr>\n",
       "  </thead>\n",
       "  <tbody>\n",
       "    <tr>\n",
       "      <th>935</th>\n",
       "      <td>1</td>\n",
       "      <td>51</td>\n",
       "      <td>-3.0</td>\n",
       "      <td>33.93</td>\n",
       "      <td>-81.11</td>\n",
       "      <td>0.091052</td>\n",
       "      <td>4</td>\n",
       "      <td>18</td>\n",
       "      <td>33.63</td>\n",
       "      <td>-84.42</td>\n",
       "      <td>0.373361</td>\n",
       "      <td>0.82485</td>\n",
       "      <td>0.025388</td>\n",
       "      <td>0.514440</td>\n",
       "      <td>0.445378</td>\n",
       "      <td>0.354839</td>\n",
       "      <td>0.6875</td>\n",
       "      <td>0.005101</td>\n",
       "      <td>0.356589</td>\n",
       "    </tr>\n",
       "    <tr>\n",
       "      <th>450</th>\n",
       "      <td>9</td>\n",
       "      <td>20</td>\n",
       "      <td>2.0</td>\n",
       "      <td>40.49</td>\n",
       "      <td>-80.23</td>\n",
       "      <td>0.083203</td>\n",
       "      <td>4</td>\n",
       "      <td>11</td>\n",
       "      <td>33.63</td>\n",
       "      <td>-84.42</td>\n",
       "      <td>0.524270</td>\n",
       "      <td>0.83430</td>\n",
       "      <td>0.101445</td>\n",
       "      <td>0.393502</td>\n",
       "      <td>0.592437</td>\n",
       "      <td>0.435484</td>\n",
       "      <td>0.8750</td>\n",
       "      <td>0.008601</td>\n",
       "      <td>0.542636</td>\n",
       "    </tr>\n",
       "  </tbody>\n",
       "</table>\n",
       "</div>"
      ],
      "text/plain": [
       "     AIRLINE  ARR  ARR_DELAY  ARR_LAT  ARR_LON  DEP_DELAY  DEP_DOW  DEP_HOD  \\\n",
       "935        1   51       -3.0    33.93   -81.11   0.091052        4       18   \n",
       "450        9   20        2.0    40.49   -80.23   0.083203        4       11   \n",
       "\n",
       "     DEP_LAT  DEP_LON  DIFF_LAT  DIFF_LON  DISTANCE  MEAN_TEMP_ARR  \\\n",
       "935    33.63   -84.42  0.373361   0.82485  0.025388       0.514440   \n",
       "450    33.63   -84.42  0.524270   0.83430  0.101445       0.393502   \n",
       "\n",
       "     MEAN_TEMP_DEP  MEAN_VIS_ARR  MEAN_VIS_DEP  WND_SPD_ARR  WND_SPD_DEP  \n",
       "935       0.445378      0.354839        0.6875     0.005101     0.356589  \n",
       "450       0.592437      0.435484        0.8750     0.008601     0.542636  "
      ]
     },
     "execution_count": 8,
     "metadata": {},
     "output_type": "execute_result"
    }
   ],
   "source": [
    "from train.model_config import ORDERED_TRAINING_COLUMNS\n",
    "probe = pd.read_csv(a_training_file, names=ORDERED_TRAINING_COLUMNS)\n",
    "probe.sample(frac=1.0)[:2]"
   ]
  },
  {
   "cell_type": "code",
   "execution_count": 9,
   "metadata": {},
   "outputs": [
    {
     "data": {
      "text/html": [
       "<div>\n",
       "<style scoped>\n",
       "    .dataframe tbody tr th:only-of-type {\n",
       "        vertical-align: middle;\n",
       "    }\n",
       "\n",
       "    .dataframe tbody tr th {\n",
       "        vertical-align: top;\n",
       "    }\n",
       "\n",
       "    .dataframe thead th {\n",
       "        text-align: right;\n",
       "    }\n",
       "</style>\n",
       "<table border=\"1\" class=\"dataframe\">\n",
       "  <thead>\n",
       "    <tr style=\"text-align: right;\">\n",
       "      <th></th>\n",
       "      <th>AIRLINE</th>\n",
       "      <th>ARR</th>\n",
       "      <th>ARR_DELAY</th>\n",
       "      <th>ARR_LAT</th>\n",
       "      <th>ARR_LON</th>\n",
       "      <th>DEP_DELAY</th>\n",
       "      <th>DEP_DOW</th>\n",
       "      <th>DEP_HOD</th>\n",
       "      <th>DEP_LAT</th>\n",
       "      <th>DEP_LON</th>\n",
       "      <th>DIFF_LAT</th>\n",
       "      <th>DIFF_LON</th>\n",
       "      <th>DISTANCE</th>\n",
       "      <th>MEAN_TEMP_ARR</th>\n",
       "      <th>MEAN_TEMP_DEP</th>\n",
       "      <th>MEAN_VIS_ARR</th>\n",
       "      <th>MEAN_VIS_DEP</th>\n",
       "      <th>WND_SPD_ARR</th>\n",
       "      <th>WND_SPD_DEP</th>\n",
       "    </tr>\n",
       "  </thead>\n",
       "  <tbody>\n",
       "    <tr>\n",
       "      <th>count</th>\n",
       "      <td>1000.000000</td>\n",
       "      <td>1000.000000</td>\n",
       "      <td>1000.000000</td>\n",
       "      <td>1000.00000</td>\n",
       "      <td>1000.000000</td>\n",
       "      <td>1000.000000</td>\n",
       "      <td>1000.000000</td>\n",
       "      <td>1000.000000</td>\n",
       "      <td>1000.00</td>\n",
       "      <td>1000.00</td>\n",
       "      <td>1000.000000</td>\n",
       "      <td>1000.000000</td>\n",
       "      <td>1000.000000</td>\n",
       "      <td>1000.000000</td>\n",
       "      <td>1000.000000</td>\n",
       "      <td>1000.000000</td>\n",
       "      <td>1000.000000</td>\n",
       "      <td>1000.000000</td>\n",
       "      <td>1000.000000</td>\n",
       "    </tr>\n",
       "    <tr>\n",
       "      <th>mean</th>\n",
       "      <td>1.367000</td>\n",
       "      <td>44.106000</td>\n",
       "      <td>17.270000</td>\n",
       "      <td>35.45627</td>\n",
       "      <td>-86.816130</td>\n",
       "      <td>0.107582</td>\n",
       "      <td>3.696000</td>\n",
       "      <td>14.435000</td>\n",
       "      <td>33.63</td>\n",
       "      <td>-84.42</td>\n",
       "      <td>0.408472</td>\n",
       "      <td>0.763572</td>\n",
       "      <td>0.123891</td>\n",
       "      <td>0.522581</td>\n",
       "      <td>0.556386</td>\n",
       "      <td>0.435118</td>\n",
       "      <td>0.700406</td>\n",
       "      <td>0.006080</td>\n",
       "      <td>0.374411</td>\n",
       "    </tr>\n",
       "    <tr>\n",
       "      <th>std</th>\n",
       "      <td>2.387889</td>\n",
       "      <td>36.831227</td>\n",
       "      <td>35.743373</td>\n",
       "      <td>5.25087</td>\n",
       "      <td>11.891074</td>\n",
       "      <td>0.052509</td>\n",
       "      <td>1.726431</td>\n",
       "      <td>4.623327</td>\n",
       "      <td>0.00</td>\n",
       "      <td>0.00</td>\n",
       "      <td>0.120793</td>\n",
       "      <td>0.127696</td>\n",
       "      <td>0.104027</td>\n",
       "      <td>0.133286</td>\n",
       "      <td>0.234825</td>\n",
       "      <td>0.077546</td>\n",
       "      <td>0.281966</td>\n",
       "      <td>0.002626</td>\n",
       "      <td>0.109097</td>\n",
       "    </tr>\n",
       "    <tr>\n",
       "      <th>min</th>\n",
       "      <td>0.000000</td>\n",
       "      <td>0.000000</td>\n",
       "      <td>-29.000000</td>\n",
       "      <td>18.33000</td>\n",
       "      <td>-157.920000</td>\n",
       "      <td>0.058085</td>\n",
       "      <td>1.000000</td>\n",
       "      <td>6.000000</td>\n",
       "      <td>33.63</td>\n",
       "      <td>-84.42</td>\n",
       "      <td>0.014493</td>\n",
       "      <td>0.000000</td>\n",
       "      <td>0.000000</td>\n",
       "      <td>0.153430</td>\n",
       "      <td>0.109244</td>\n",
       "      <td>0.112903</td>\n",
       "      <td>0.000000</td>\n",
       "      <td>0.000200</td>\n",
       "      <td>0.263566</td>\n",
       "    </tr>\n",
       "    <tr>\n",
       "      <th>25%</th>\n",
       "      <td>0.000000</td>\n",
       "      <td>12.750000</td>\n",
       "      <td>-5.000000</td>\n",
       "      <td>31.32000</td>\n",
       "      <td>-90.500000</td>\n",
       "      <td>0.076923</td>\n",
       "      <td>2.000000</td>\n",
       "      <td>10.000000</td>\n",
       "      <td>33.63</td>\n",
       "      <td>-84.42</td>\n",
       "      <td>0.313320</td>\n",
       "      <td>0.724012</td>\n",
       "      <td>0.059060</td>\n",
       "      <td>0.431408</td>\n",
       "      <td>0.424370</td>\n",
       "      <td>0.408602</td>\n",
       "      <td>0.593750</td>\n",
       "      <td>0.004200</td>\n",
       "      <td>0.263566</td>\n",
       "    </tr>\n",
       "    <tr>\n",
       "      <th>50%</th>\n",
       "      <td>1.000000</td>\n",
       "      <td>35.000000</td>\n",
       "      <td>6.000000</td>\n",
       "      <td>35.43000</td>\n",
       "      <td>-83.310000</td>\n",
       "      <td>0.083987</td>\n",
       "      <td>4.000000</td>\n",
       "      <td>14.000000</td>\n",
       "      <td>33.63</td>\n",
       "      <td>-84.42</td>\n",
       "      <td>0.407867</td>\n",
       "      <td>0.801224</td>\n",
       "      <td>0.103682</td>\n",
       "      <td>0.546931</td>\n",
       "      <td>0.592437</td>\n",
       "      <td>0.470430</td>\n",
       "      <td>0.687500</td>\n",
       "      <td>0.005701</td>\n",
       "      <td>0.364341</td>\n",
       "    </tr>\n",
       "    <tr>\n",
       "      <th>75%</th>\n",
       "      <td>2.000000</td>\n",
       "      <td>68.000000</td>\n",
       "      <td>28.250000</td>\n",
       "      <td>39.87000</td>\n",
       "      <td>-80.040000</td>\n",
       "      <td>0.117739</td>\n",
       "      <td>6.000000</td>\n",
       "      <td>18.000000</td>\n",
       "      <td>33.63</td>\n",
       "      <td>-84.42</td>\n",
       "      <td>0.510007</td>\n",
       "      <td>0.836340</td>\n",
       "      <td>0.147357</td>\n",
       "      <td>0.615523</td>\n",
       "      <td>0.760504</td>\n",
       "      <td>0.489247</td>\n",
       "      <td>1.000000</td>\n",
       "      <td>0.007401</td>\n",
       "      <td>0.449612</td>\n",
       "    </tr>\n",
       "    <tr>\n",
       "      <th>max</th>\n",
       "      <td>18.000000</td>\n",
       "      <td>169.000000</td>\n",
       "      <td>267.000000</td>\n",
       "      <td>61.17000</td>\n",
       "      <td>-64.970000</td>\n",
       "      <td>0.503925</td>\n",
       "      <td>6.000000</td>\n",
       "      <td>23.000000</td>\n",
       "      <td>33.63</td>\n",
       "      <td>-84.42</td>\n",
       "      <td>1.000000</td>\n",
       "      <td>0.998174</td>\n",
       "      <td>1.000000</td>\n",
       "      <td>0.951263</td>\n",
       "      <td>0.928571</td>\n",
       "      <td>0.806452</td>\n",
       "      <td>1.000000</td>\n",
       "      <td>0.018602</td>\n",
       "      <td>0.612403</td>\n",
       "    </tr>\n",
       "  </tbody>\n",
       "</table>\n",
       "</div>"
      ],
      "text/plain": [
       "           AIRLINE          ARR    ARR_DELAY     ARR_LAT      ARR_LON  \\\n",
       "count  1000.000000  1000.000000  1000.000000  1000.00000  1000.000000   \n",
       "mean      1.367000    44.106000    17.270000    35.45627   -86.816130   \n",
       "std       2.387889    36.831227    35.743373     5.25087    11.891074   \n",
       "min       0.000000     0.000000   -29.000000    18.33000  -157.920000   \n",
       "25%       0.000000    12.750000    -5.000000    31.32000   -90.500000   \n",
       "50%       1.000000    35.000000     6.000000    35.43000   -83.310000   \n",
       "75%       2.000000    68.000000    28.250000    39.87000   -80.040000   \n",
       "max      18.000000   169.000000   267.000000    61.17000   -64.970000   \n",
       "\n",
       "         DEP_DELAY      DEP_DOW      DEP_HOD  DEP_LAT  DEP_LON     DIFF_LAT  \\\n",
       "count  1000.000000  1000.000000  1000.000000  1000.00  1000.00  1000.000000   \n",
       "mean      0.107582     3.696000    14.435000    33.63   -84.42     0.408472   \n",
       "std       0.052509     1.726431     4.623327     0.00     0.00     0.120793   \n",
       "min       0.058085     1.000000     6.000000    33.63   -84.42     0.014493   \n",
       "25%       0.076923     2.000000    10.000000    33.63   -84.42     0.313320   \n",
       "50%       0.083987     4.000000    14.000000    33.63   -84.42     0.407867   \n",
       "75%       0.117739     6.000000    18.000000    33.63   -84.42     0.510007   \n",
       "max       0.503925     6.000000    23.000000    33.63   -84.42     1.000000   \n",
       "\n",
       "          DIFF_LON     DISTANCE  MEAN_TEMP_ARR  MEAN_TEMP_DEP  MEAN_VIS_ARR  \\\n",
       "count  1000.000000  1000.000000    1000.000000    1000.000000   1000.000000   \n",
       "mean      0.763572     0.123891       0.522581       0.556386      0.435118   \n",
       "std       0.127696     0.104027       0.133286       0.234825      0.077546   \n",
       "min       0.000000     0.000000       0.153430       0.109244      0.112903   \n",
       "25%       0.724012     0.059060       0.431408       0.424370      0.408602   \n",
       "50%       0.801224     0.103682       0.546931       0.592437      0.470430   \n",
       "75%       0.836340     0.147357       0.615523       0.760504      0.489247   \n",
       "max       0.998174     1.000000       0.951263       0.928571      0.806452   \n",
       "\n",
       "       MEAN_VIS_DEP  WND_SPD_ARR  WND_SPD_DEP  \n",
       "count   1000.000000  1000.000000  1000.000000  \n",
       "mean       0.700406     0.006080     0.374411  \n",
       "std        0.281966     0.002626     0.109097  \n",
       "min        0.000000     0.000200     0.263566  \n",
       "25%        0.593750     0.004200     0.263566  \n",
       "50%        0.687500     0.005701     0.364341  \n",
       "75%        1.000000     0.007401     0.449612  \n",
       "max        1.000000     0.018602     0.612403  "
      ]
     },
     "execution_count": 9,
     "metadata": {},
     "output_type": "execute_result"
    }
   ],
   "source": [
    "probe.describe()"
   ]
  },
  {
   "cell_type": "markdown",
   "metadata": {},
   "source": [
    "---\n",
    "# Feature engineering for categorical columns"
   ]
  },
  {
   "cell_type": "markdown",
   "metadata": {},
   "source": [
    "Categorical columns need to be treated once more to derive at numerical input suitable for model training. That involves bucketizing, the use of dictionaries, feature crossing and embedding"
   ]
  },
  {
   "cell_type": "markdown",
   "metadata": {},
   "source": [
    "#### Find ranges to bucketize latitude and longitude \n",
    "We can easily understand the range of values with the help of a bq query and ```pandas.describe()```"
   ]
  },
  {
   "cell_type": "code",
   "execution_count": 10,
   "metadata": {},
   "outputs": [
    {
     "data": {
      "text/html": [
       "<div>\n",
       "<style scoped>\n",
       "    .dataframe tbody tr th:only-of-type {\n",
       "        vertical-align: middle;\n",
       "    }\n",
       "\n",
       "    .dataframe tbody tr th {\n",
       "        vertical-align: top;\n",
       "    }\n",
       "\n",
       "    .dataframe thead th {\n",
       "        text-align: right;\n",
       "    }\n",
       "</style>\n",
       "<table border=\"1\" class=\"dataframe\">\n",
       "  <thead>\n",
       "    <tr style=\"text-align: right;\">\n",
       "      <th></th>\n",
       "      <th>lat</th>\n",
       "      <th>lon</th>\n",
       "    </tr>\n",
       "  </thead>\n",
       "  <tbody>\n",
       "    <tr>\n",
       "      <th>count</th>\n",
       "      <td>344.000000</td>\n",
       "      <td>344.000000</td>\n",
       "    </tr>\n",
       "    <tr>\n",
       "      <th>mean</th>\n",
       "      <td>38.491570</td>\n",
       "      <td>-98.531599</td>\n",
       "    </tr>\n",
       "    <tr>\n",
       "      <th>std</th>\n",
       "      <td>8.547964</td>\n",
       "      <td>21.746974</td>\n",
       "    </tr>\n",
       "    <tr>\n",
       "      <th>min</th>\n",
       "      <td>13.480000</td>\n",
       "      <td>-176.640000</td>\n",
       "    </tr>\n",
       "    <tr>\n",
       "      <th>25%</th>\n",
       "      <td>33.450000</td>\n",
       "      <td>-111.675000</td>\n",
       "    </tr>\n",
       "    <tr>\n",
       "      <th>50%</th>\n",
       "      <td>38.715000</td>\n",
       "      <td>-93.300000</td>\n",
       "    </tr>\n",
       "    <tr>\n",
       "      <th>75%</th>\n",
       "      <td>42.907500</td>\n",
       "      <td>-82.497500</td>\n",
       "    </tr>\n",
       "    <tr>\n",
       "      <th>max</th>\n",
       "      <td>71.280000</td>\n",
       "      <td>-64.800000</td>\n",
       "    </tr>\n",
       "  </tbody>\n",
       "</table>\n",
       "</div>"
      ],
      "text/plain": [
       "              lat         lon\n",
       "count  344.000000  344.000000\n",
       "mean    38.491570  -98.531599\n",
       "std      8.547964   21.746974\n",
       "min     13.480000 -176.640000\n",
       "25%     33.450000 -111.675000\n",
       "50%     38.715000  -93.300000\n",
       "75%     42.907500  -82.497500\n",
       "max     71.280000  -64.800000"
      ]
     },
     "execution_count": 10,
     "metadata": {},
     "output_type": "execute_result"
    }
   ],
   "source": [
    "query=\"\"\"\n",
    "select \n",
    "    distinct arrival_airport as airport, arrival_lat as lat, arrival_lon as lon \n",
    "from \n",
    "    `bigquery-samples.airline_ontime_data.flights`\n",
    "\"\"\"\n",
    "locations = dlbq.Query(query).execute().result().to_dataframe()\n",
    "locations.describe()"
   ]
  },
  {
   "cell_type": "code",
   "execution_count": 11,
   "metadata": {},
   "outputs": [
    {
     "data": {
      "text/plain": [
       "[10, 15, 20, 25, 30, 35, 40, 45, 50, 55, 60, 65, 70, 75]"
      ]
     },
     "execution_count": 11,
     "metadata": {},
     "output_type": "execute_result"
    }
   ],
   "source": [
    "lat_boundaries = range(10,80,5)\n",
    "lat_boundaries"
   ]
  },
  {
   "cell_type": "code",
   "execution_count": 12,
   "metadata": {},
   "outputs": [
    {
     "data": {
      "text/plain": [
       "[-100, -95, -90, -85, -80, -75, -70, -65, -60]"
      ]
     },
     "execution_count": 12,
     "metadata": {},
     "output_type": "execute_result"
    }
   ],
   "source": [
    "lon_boundaries = range(-100, -55, 5)\n",
    "lon_boundaries"
   ]
  },
  {
   "cell_type": "markdown",
   "metadata": {},
   "source": [
    "We're going to use those boundaries in the function below"
   ]
  },
  {
   "cell_type": "markdown",
   "metadata": {},
   "source": [
    "#### Using tf feature_column api for bucketizing, crossing and embedding"
   ]
  },
  {
   "cell_type": "code",
   "execution_count": 13,
   "metadata": {},
   "outputs": [
    {
     "data": {
      "text/plain": [
       "'create_feature_columns written to ./train/create_feature_columns.py.'"
      ]
     },
     "execution_count": 13,
     "metadata": {},
     "output_type": "execute_result"
    }
   ],
   "source": [
    "def create_feature_columns():\n",
    "    \"\"\"\n",
    "        returns: a dict of features columns for wide and deep input\n",
    "    \"\"\"\n",
    "    \n",
    "    from tensorflow.feature_column import indicator_column as ind\n",
    "    from tensorflow.feature_column import numeric_column as num\n",
    "    from tensorflow.feature_column import bucketized_column as buck\n",
    "    from tensorflow.feature_column import crossed_column as cross\n",
    "    from tensorflow.feature_column import embedding_column as emb\n",
    "    from tensorflow.feature_column import categorical_column_with_identity as cid\n",
    "    \n",
    "    ################################################################\n",
    "    #  Numerical columns for the pre-processed features\n",
    "    ################################################################\n",
    "    feature_columns = [\n",
    "        num(col) for col in [\n",
    "            'DEP_DELAY',  \n",
    "            'MEAN_TEMP_DEP','MEAN_VIS_DEP','WND_SPD_DEP',\n",
    "            'MEAN_TEMP_ARR','MEAN_VIS_ARR','WND_SPD_ARR',\n",
    "            'DIFF_LAT','DIFF_LON','DISTANCE']]\n",
    "    \n",
    "    ################################################################\n",
    "    #  categorical from ints, bucket counts from examination of the \n",
    "    #  full dataset\n",
    "    ################################################################\n",
    "    airline = ind(cid('AIRLINE', num_buckets=30))\n",
    "    arrival = ind(cid('ARR', num_buckets=400))\n",
    "    \n",
    "    ################################################################\n",
    "    #  Crossed and embedded\n",
    "    ################################################################\n",
    "    lat_boundaries = range(10,80,5)\n",
    "    lon_boundaries = range(-100, -55, 5)\n",
    "    cross_size = len(lat_boundaries) * len(lon_boundaries)\n",
    "\n",
    "    arr_geo_emb = emb(cross([\n",
    "        buck(num('ARR_LAT'), lat_boundaries), \n",
    "        buck(num('ARR_LON'), lon_boundaries)], cross_size), 10)\n",
    "\n",
    "    dep_geo_emb = emb(cross([\n",
    "        buck(num(\"DEP_LAT\"), lat_boundaries), \n",
    "        buck(num(\"DEP_LON\"), lon_boundaries)], cross_size), 10)\n",
    "\n",
    "    dep_how_emb = emb(cross([\n",
    "        cid(\"DEP_HOD\", num_buckets=24), \n",
    "        cid(\"DEP_DOW\", num_buckets=8)], 7*24), 10)\n",
    "\n",
    "    ################################################################\n",
    "    #  all together\n",
    "    ################################################################\n",
    "    return {\n",
    "        'deep': feature_columns + [dep_how_emb, arr_geo_emb, dep_geo_emb],\n",
    "        'wide': [airline, arrival]}\n",
    "    \n",
    "write_py(create_feature_columns)"
   ]
  },
  {
   "cell_type": "code",
   "execution_count": 14,
   "metadata": {},
   "outputs": [],
   "source": [
    "#create_feature_columns()"
   ]
  },
  {
   "cell_type": "markdown",
   "metadata": {},
   "source": [
    "These feature columns encode a construction plan. The ```tf.feature_column.input_column()``` helper will construct a sub-graph from this plan and feed the root (the *result*) of the graph into the model. You see the pattern: All parts of the tensor graph are created within the session/graph context of the ```Estimator``` API. Never outside of it."
   ]
  },
  {
   "cell_type": "markdown",
   "metadata": {},
   "source": [
    "# The available hypotheses\n",
    "Please see ```Hypotheses_Workbench.ipynb``` for more insight into the various hypotheses functions"
   ]
  },
  {
   "cell_type": "code",
   "execution_count": 15,
   "metadata": {},
   "outputs": [
    {
     "name": "stdout",
     "output_type": "stream",
     "text": [
      "def hypothesis_linear(features, feature_columns, options):\n",
      "    \n",
      "    import tensorflow as tf\n",
      "    from train.train_tools import weight_summary\n",
      "\n",
      "    with tf.name_scope('Linear'):\n",
      "    \n",
      "        all_feature_columns = feature_columns['wide'] + feature_columns['deep']\n",
      "\n",
      "        input_layer = tf.feature_column.input_layer( \n",
      "            features, feature_columns=all_feature_columns)\n",
      "\n",
      "        out = tf.layers.dense(input_layer, 1, activation=None)\n",
      "        weight_summary(out)\n",
      "    \n",
      "    return out\n",
      "\n"
     ]
    }
   ],
   "source": [
    "from train.make_hypotheses import make_hypotheses\n",
    "all_hypotheses = make_hypotheses()\n",
    "import inspect\n",
    "print(inspect.getsource(all_hypotheses['linear']))"
   ]
  },
  {
   "cell_type": "markdown",
   "metadata": {},
   "source": [
    "# The model function\n",
    "The model function is responsible for providing different variants of the actual model suitable for training, evaluation and prediction"
   ]
  },
  {
   "cell_type": "code",
   "execution_count": 16,
   "metadata": {},
   "outputs": [
    {
     "data": {
      "text/plain": [
       "'make_model_fn written to ./train/make_model_fn.py.'"
      ]
     },
     "execution_count": 16,
     "metadata": {},
     "output_type": "execute_result"
    }
   ],
   "source": [
    "def make_model_fn(feature_columns, options, hypothesis):\n",
    "    \n",
    "    import tensorflow as tf\n",
    "    from train.make_hypothesis import make_hypothesis\n",
    "    \n",
    "    def _model_fn(features, labels, mode):\n",
    "\n",
    "        out = hypothesis(features, feature_columns, options)\n",
    "\n",
    "        if mode == tf.estimator.ModeKeys.PREDICT:\n",
    "            return tf.estimator.EstimatorSpec(mode, predictions=out)\n",
    "\n",
    "\n",
    "        labels = tf.expand_dims(labels, -1)\n",
    "        loss = tf.losses.mean_squared_error(labels, out)\n",
    "\n",
    "        if mode == tf.estimator.ModeKeys.EVAL:    \n",
    "            return tf.estimator.EstimatorSpec(\n",
    "                mode=mode,\n",
    "                loss = loss,\n",
    "                #eval_metric_ops={'my_metric': }\n",
    "            )\n",
    "\n",
    "        else:\n",
    "            optimizer = tf.train.GradientDescentOptimizer(options['learning_rate'])\n",
    "            train_op = optimizer.minimize(loss, global_step=tf.train.get_or_create_global_step())\n",
    "\n",
    "            grads = optimizer.compute_gradients(loss)\n",
    "            for g in grads:\n",
    "                name = \"%s-grad\" % g[1].name\n",
    "                name = name.replace(\":\", \"_\")\n",
    "                tf.summary.histogram(name, g[0])\n",
    "            \n",
    "            return tf.estimator.EstimatorSpec(  \n",
    "                mode,\n",
    "                loss = loss,\n",
    "                train_op = train_op)\n",
    "        \n",
    "    return _model_fn\n",
    "write_py(make_model_fn)"
   ]
  },
  {
   "cell_type": "markdown",
   "metadata": {},
   "source": [
    "---\n",
    "# Available input functions\n",
    "Please examine **```Input_Functions.ipynb```** for more information about the available input functions.\n",
    "\n",
    "For now, have a look at the tfrecord input function we're going to use."
   ]
  },
  {
   "cell_type": "code",
   "execution_count": 17,
   "metadata": {},
   "outputs": [
    {
     "name": "stdout",
     "output_type": "stream",
     "text": [
      "def make_tfr_input_fn(filename_pattern, batch_size, options):\n",
      "    \n",
      "    import tensorflow as tf\n",
      "    from train.model_config import LABEL_COLUMN\n",
      "    from train.model_config import TRAINING_METADATA\n",
      "\n",
      "    feature_spec = TRAINING_METADATA.schema.as_feature_spec()\n",
      "\n",
      "    def _input_fn():\n",
      "        dataset = tf.data.experimental.make_batched_features_dataset(\n",
      "            file_pattern=filename_pattern,\n",
      "            batch_size=batch_size,\n",
      "            features=feature_spec,\n",
      "            shuffle_buffer_size=options['shuffle_buffer_size'],\n",
      "            prefetch_buffer_size=options['prefetch_buffer_size'],\n",
      "            reader_num_threads=options['reader_num_threads'],\n",
      "            parser_num_threads=options['parser_num_threads'],\n",
      "            sloppy_ordering=options['sloppy_ordering'],\n",
      "            label_key=LABEL_COLUMN)\n",
      "\n",
      "        if options['distribute']:\n",
      "            return dataset \n",
      "        else:\n",
      "            return dataset.make_one_shot_iterator().get_next()\n",
      "    return _input_fn\n",
      "\n"
     ]
    }
   ],
   "source": [
    "from train.make_input_fns import make_input_fns\n",
    "tfr_input_fn = make_input_fns()['tfr']\n",
    "import inspect\n",
    "print(inspect.getsource(tfr_input_fn))"
   ]
  },
  {
   "cell_type": "markdown",
   "metadata": {},
   "source": [
    "---\n",
    "# Training and Evaluation"
   ]
  },
  {
   "cell_type": "code",
   "execution_count": 18,
   "metadata": {},
   "outputs": [
    {
     "data": {
      "text/plain": [
       "'train_and_evaluate written to ./train/train_and_evaluate.py.'"
      ]
     },
     "execution_count": 18,
     "metadata": {},
     "output_type": "execute_result"
    }
   ],
   "source": [
    "def train_and_evaluate(options):\n",
    "\n",
    "    import tensorflow as tf\n",
    "    from tensorflow.estimator import RunConfig\n",
    "    from tensorflow.contrib.distribute import MirroredStrategy\n",
    "    from train.make_model_fn import make_model_fn\n",
    "    from train.make_tft_serving_input_fn import make_tft_serving_input_fn\n",
    "    from train.create_feature_columns import create_feature_columns\n",
    "\n",
    "    from train.make_tfr_input_fn import make_tfr_input_fn\n",
    "    from train.make_hypotheses import make_hypotheses\n",
    "    from train.make_input_fns import make_input_fns\n",
    "\n",
    "    \n",
    "    ##################################################################\n",
    "    #   Train and Eval Input Functions\n",
    "    ##################################################################\n",
    "    make_input_fn=make_input_fns()[options['file_format']]\n",
    "\n",
    "    train_input_fn = make_input_fn(options['train_data_pattern'], \n",
    "                                   options['train_batch_size'],\n",
    "                                   options)    \n",
    "\n",
    "    eval_input_fn = make_input_fn(options['eval_data_pattern'], \n",
    "                                  options['eval_batch_size'],\n",
    "                                  options)\n",
    "\n",
    "    \n",
    "    ##################################################################\n",
    "    #   Create the hypothesis and the model_fn\n",
    "    ##################################################################\n",
    "    hypothesis = make_hypotheses()[options['hypothesis']]    \n",
    "    feature_columns = create_feature_columns()\n",
    "    model_fn = make_model_fn(feature_columns, options, hypothesis )\n",
    "    \n",
    "    \n",
    "    ##################################################################\n",
    "    #    Train and Eval Spec\n",
    "    ##################################################################\n",
    "    serving_input_fn = make_tft_serving_input_fn(options['metadata_dir'])\n",
    "    exporter = tf.estimator.LatestExporter('exporter', serving_input_fn)\n",
    "\n",
    "    train_spec = tf.estimator.TrainSpec(\n",
    "        input_fn=train_input_fn, \n",
    "        max_steps=options['max_train_steps'])\n",
    "\n",
    "    eval_spec = tf.estimator.EvalSpec(\n",
    "        input_fn=eval_input_fn, exporters=exporter,\n",
    "        steps = options['eval_steps'],\n",
    "        throttle_secs=options['throttle_secs'],\n",
    "        start_delay_secs=0)\n",
    "\n",
    "    \n",
    "    ##################################################################\n",
    "    #   Create and configure the estimator\n",
    "    ##################################################################\n",
    "    strategy = MirroredStrategy() if options['distribute'] else None\n",
    "    config = RunConfig(model_dir=options['model_dir'],\n",
    "                       save_summary_steps=options['save_summary_steps'],\n",
    "                       train_distribute=strategy, \n",
    "                       save_checkpoints_steps=options['save_checkpoints_steps'],\n",
    "                       log_step_count_steps=options['log_step_count_steps'])\n",
    "        \n",
    "    estimator = tf.estimator.Estimator(\n",
    "            config=config,\n",
    "            model_fn=model_fn)\n",
    "    \n",
    "    \n",
    "    ##################################################################\n",
    "    #   Finally, train and evaluate the model\n",
    "    ##################################################################\n",
    "    tf.estimator.train_and_evaluate(\n",
    "        estimator, \n",
    "        train_spec=train_spec, \n",
    "        eval_spec=eval_spec)\n",
    "    \n",
    "write_py(train_and_evaluate)"
   ]
  },
  {
   "cell_type": "markdown",
   "metadata": {},
   "source": [
    "#### Run from within the notebook kernel"
   ]
  },
  {
   "cell_type": "code",
   "execution_count": 20,
   "metadata": {},
   "outputs": [
    {
     "name": "stdout",
     "output_type": "stream",
     "text": [
      "using directory {} to store the model. \n",
      "Remove the directory if you want to start from scratch\n",
      "=====================================================================================================\n",
      "Creating the runner bash script as ```run_task.sh``` to redo this on a terminal\n",
      "\n",
      "export PYTHONPATH=${PYTHONPATH}:${PWD}\n",
      "python -m train.task \\\n",
      "  --eval_steps=\"10\"  \\\n",
      "  --parser_num_threads=\"16\"  \\\n",
      "  --eval_data_pattern=\"gs://going-tfx/samples/eval_data/atl_june_tfr*\"  \\\n",
      "  --train_batch_size=\"256\"  \\\n",
      "  --shuffle_buffer_size=\"10000\"  \\\n",
      "  --eval_batch_size=\"1024\"  \\\n",
      "  --sloppy_ordering=\"True\"  \\\n",
      "  --reader_num_threads=\"16\"  \\\n",
      "  --file_format=\"tfr\"  \\\n",
      "  --log_step_count_steps=\"200\"  \\\n",
      "  --model_dir=\"gs://going-tfx/samples/model\"  \\\n",
      "  --throttle_secs=\"30\"  \\\n",
      "  --learning_rate=\"0.001\"  \\\n",
      "  --hypothesis=\"linear\"  \\\n",
      "  --save_summary_steps=\"100\"  \\\n",
      "  --max_train_steps=\"5000\"  \\\n",
      "  --prefetch_buffer_size=\"10000\"  \\\n",
      "  --metadata_dir=\"gs://going-tfx/samples/metadata\"  \\\n",
      "  --train_data_pattern=\"gs://going-tfx/samples/train_data/atl_june_tfr*\"  \\\n",
      "  --save_checkpoints_steps=\"2000\"  \\\n",
      "  --base_dir=\"gs://going-tfx/samples\"  \\\n",
      "=====================================================================================================\n",
      "\n"
     ]
    }
   ],
   "source": [
    "from train.train_tools import join_paths\n",
    "\n",
    "args={}\n",
    "\n",
    "# file locations\n",
    "args['base_dir']='gs://going-tfx/{}'.format(DATASET)\n",
    "args['metadata_dir']='metadata'\n",
    "args['model_dir']='model'\n",
    "args['train_data_pattern']='train_data/atl_june_tfr*'\n",
    "args['eval_data_pattern']='eval_data/atl_june_tfr*'\n",
    "args['file_format']='tfr'\n",
    "\n",
    "# train and eval parameters\n",
    "args['train_batch_size']=256\n",
    "args['eval_batch_size']=1024\n",
    "args['max_train_steps']=5000\n",
    "args['eval_steps']=10\n",
    "\n",
    "# Execution parameters\n",
    "args['reader_num_threads']=16\n",
    "args['parser_num_threads']=16\n",
    "args['prefetch_buffer_size']=10000\n",
    "args['shuffle_buffer_size']=10000\n",
    "args['save_checkpoints_steps']=2000\n",
    "args['log_step_count_steps']=200\n",
    "args['throttle_secs']=30\n",
    "args['distribute']=False\n",
    "args['sloppy_ordering']=True\n",
    "args['save_summary_steps']=100\n",
    "\n",
    "# Model parameters\n",
    "args['learning_rate']=1e-3\n",
    "args['hypothesis']='linear'\n",
    "\n",
    "args = join_paths(args)\n",
    "\n",
    "model_dir = args['model_dir']\n",
    "print(\"using directory {} to store the model. \")\n",
    "print(\"Remove the directory if you want to start from scratch\".format(model_dir))\n",
    "_ = !gsutil -m rm -rf $model_dir\n",
    "\n",
    "print(\"=====================================================================================================\")\n",
    "from tools import create_runpy\n",
    "create_runpy(\"run_task.sh\", args)\n",
    "!cat ./run_task.sh\n",
    "print(\"=====================================================================================================\")\n",
    "print()\n",
    "\n",
    "# if you want to keep your jupyter notebook clean, rather use run_task.sh from a terminal \n",
    "#train_and_evaluate(args)"
   ]
  },
  {
   "cell_type": "markdown",
   "metadata": {},
   "source": [
    "Created the bash runner script named **```run_task.sh```**. \n",
    "\n",
    "Execute\n",
    "\n",
    "``` \n",
    "bash run_task.sh\n",
    "\n",
    "``` \n",
    "\n",
    "to perform the training from a shell."
   ]
  },
  {
   "cell_type": "code",
   "execution_count": null,
   "metadata": {},
   "outputs": [],
   "source": []
  }
 ],
 "metadata": {
  "kernelspec": {
   "display_name": "Python 2",
   "language": "python",
   "name": "python2"
  },
  "language_info": {
   "codemirror_mode": {
    "name": "ipython",
    "version": 2
   },
   "file_extension": ".py",
   "mimetype": "text/x-python",
   "name": "python",
   "nbconvert_exporter": "python",
   "pygments_lexer": "ipython2",
   "version": "2.7.13"
  }
 },
 "nbformat": 4,
 "nbformat_minor": 2
}
