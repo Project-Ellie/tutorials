{
 "cells": [
  {
   "cell_type": "code",
   "execution_count": 13,
   "metadata": {},
   "outputs": [],
   "source": [
    "import time\n",
    "\n",
    "from google.cloud import pubsub_v1"
   ]
  },
  {
   "cell_type": "code",
   "execution_count": 14,
   "metadata": {},
   "outputs": [],
   "source": [
    "publisher = pubsub_v1.PublisherClient()\n",
    "topic_path = publisher.topic_path('going-tfx', 'flightevents')"
   ]
  },
  {
   "cell_type": "code",
   "execution_count": 15,
   "metadata": {},
   "outputs": [],
   "source": [
    "def callback(message_future):\n",
    "    if message_future.exception(timeout=30):\n",
    "        print ('Publishing messsage on {} threw an exception {}'.format(\n",
    "        'flightevents', message_future.exception()))\n",
    "    else:\n",
    "        print(message_future.result())"
   ]
  },
  {
   "cell_type": "code",
   "execution_count": 18,
   "metadata": {},
   "outputs": [
    {
     "name": "stdout",
     "output_type": "stream",
     "text": [
      "261414904099521\n",
      "261414827894327\n",
      "261415230238765\n",
      "261414701311894\n",
      "261414854212380\n",
      "261414908880132\n",
      "261414968839244\n",
      "261414606796004\n",
      "261414744406074\n"
     ]
    }
   ],
   "source": [
    "for n in range (1, 10):\n",
    "    data = u'Message number {}'.format(n)\n",
    "    data = data.encode('utf-8')\n",
    "    message_future = publisher.publish(topic_path, data=data)\n",
    "    message_future.add_done_callback(callback)\n",
    "    time.sleep(4)"
   ]
  },
  {
   "cell_type": "code",
   "execution_count": 22,
   "metadata": {},
   "outputs": [
    {
     "name": "stdout",
     "output_type": "stream",
     "text": [
      "261414864400225\n"
     ]
    }
   ],
   "source": [
    "data = u'Message number {}'.format(2)\n",
    "data = data.encode('utf-8')\n",
    "message_future = publisher.publish(topic_path, data=data)\n",
    "message_future.add_done_callback(callback)\n",
    "time.sleep(4)"
   ]
  },
  {
   "cell_type": "code",
   "execution_count": null,
   "metadata": {},
   "outputs": [],
   "source": []
  }
 ],
 "metadata": {
  "kernelspec": {
   "display_name": "Python 2",
   "language": "python",
   "name": "python2"
  },
  "language_info": {
   "codemirror_mode": {
    "name": "ipython",
    "version": 2
   },
   "file_extension": ".py",
   "mimetype": "text/x-python",
   "name": "python",
   "nbconvert_exporter": "python",
   "pygments_lexer": "ipython2",
   "version": "2.7.13"
  }
 },
 "nbformat": 4,
 "nbformat_minor": 2
}
