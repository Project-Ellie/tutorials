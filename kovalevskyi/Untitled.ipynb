{
 "cells": [
  {
   "cell_type": "code",
   "execution_count": 7,
   "metadata": {},
   "outputs": [],
   "source": [
    "sess = tf.InteractiveSession()"
   ]
  },
  {
   "cell_type": "code",
   "execution_count": 5,
   "metadata": {},
   "outputs": [],
   "source": [
    "import tensorflow as tf"
   ]
  },
  {
   "cell_type": "code",
   "execution_count": 19,
   "metadata": {},
   "outputs": [
    {
     "data": {
      "text/plain": [
       "[array([[0.25, 0.25, 1.  , 0.25],\n",
       "        [0.25, 0.25, 1.  , 0.25],\n",
       "        [0.25, 0.25, 1.  , 0.25]], dtype=float32)]"
      ]
     },
     "execution_count": 19,
     "metadata": {},
     "output_type": "execute_result"
    }
   ],
   "source": [
    "pred = tf.constant([[1.0, 3, 5, 7], [1.0, 3, 5, 7], [1.0, 3, 5, 7]], dtype=tf.float32)\n",
    "act  = tf.constant([[0.0, 2, 9, 8], [0.0, 2, 9, 8], [0.0, 2, 9, 8]], dtype=tf.float32)\n",
    "sess.run([\n",
    "    tf.abs(pred - act) / tf.cast(tf.shape(pred)[1], tf.float32)\n",
    "])"
   ]
  },
  {
   "cell_type": "code",
   "execution_count": 2,
   "metadata": {},
   "outputs": [
    {
     "data": {
      "text/plain": [
       "'a-b'"
      ]
     },
     "execution_count": 2,
     "metadata": {},
     "output_type": "execute_result"
    }
   ],
   "source": [
    "[\n",
    "    'base_dir',\n",
    "    'file_format',\n",
    "    'train_batch_size',\n",
    "    'max_train_steps',\n",
    "    'reader_num_threads',\n",
    "    'parser_num_threads',\n",
    "    'prefetch_buffer_size'    \n",
    "]"
   ]
  },
  {
   "cell_type": "code",
   "execution_count": 1,
   "metadata": {},
   "outputs": [
    {
     "data": {
      "text/plain": [
       "{'a': 1, 'b': 2}"
      ]
     },
     "execution_count": 1,
     "metadata": {},
     "output_type": "execute_result"
    }
   ],
   "source": [
    "d = {'a': 1}\n",
    "d.update({'b': 2})\n",
    "d"
   ]
  },
  {
   "cell_type": "code",
   "execution_count": 4,
   "metadata": {},
   "outputs": [
    {
     "name": "stdout",
     "output_type": "stream",
     "text": [
      "('a', 1)\n",
      "('b', 2)\n"
     ]
    }
   ],
   "source": [
    "for a in d.items():\n",
    "    print(a)"
   ]
  },
  {
   "cell_type": "code",
   "execution_count": 1,
   "metadata": {},
   "outputs": [],
   "source": [
    "import tensorflow as tf"
   ]
  },
  {
   "cell_type": "code",
   "execution_count": 6,
   "metadata": {},
   "outputs": [],
   "source": [
    "import tensorflow as tf"
   ]
  },
  {
   "cell_type": "code",
   "execution_count": null,
   "metadata": {},
   "outputs": [],
   "source": [
    "tf.train.AdagradDAOptimizer()"
   ]
  },
  {
   "cell_type": "code",
   "execution_count": null,
   "metadata": {},
   "outputs": [],
   "source": [
    "def "
   ]
  },
  {
   "cell_type": "code",
   "execution_count": 7,
   "metadata": {},
   "outputs": [
    {
     "name": "stdout",
     "output_type": "stream",
     "text": [
      "\"/\"><img src=\"/images/lgo.png\" alt=\"Leonard's Guide Freight Directories\"></a></div>\n",
      "\t\t\t\t<div class=\"banner_container\"><a href=\"javascript:void(0)\" id=\"banner\"></a></div>\n",
      "\t\t\t</div>\n",
      "\t\t\t<div class=\"clr\"></div>\n",
      "\t\t</div>\n",
      "\t</div>\n",
      "\t<div class=\"main_menu\">\n",
      "\t\t<div class=\"rmm\">\n",
      "\t\t    <ul>\n",
      "\t\t\t\t<li class=\"p-home\"><a href=\"/\">Home</a></li>\n",
      "\t\t\t\t<li class=\"p-ftwd\"><a href=\"/ftwd.asp\">FTWD</a></li>\n",
      "\t\t\t\t<li class=\"p-weblink\"><a href=\"/weblink-directory.shtml\">Weblink Directory</a></li>\n",
      "\t\t\t\t<li class=\"p-advserv\"><a href=\"/advertiser-services.shtml\">Advertiser Services</a></li>\n",
      "\t\t\t\t<li class=\"p-contact\"><a href=\"/contact.asp\"><span class=\"mm_contact\">Contact Us</span></a></li>\n",
      "\t\t    </ul>\n",
      "\t\t\t</div>\n",
      "\t</div>\n",
      "\t<div id=\"main\">\n",
      "\t\t<div class=\"shell\">\n",
      "\t\t\t<div id=\"content\">\n",
      "\t\t\t\t<div><h1 class=\"phead\">United States Airport Codes</h1></div>\n",
      "\t\t\t\t<h2 class=\"lgh1\">List of three-letter airport codes covering the United States.</h2>\n",
      "<!-- -->\n",
      "<div style=\"padding-top:10px;\">\n",
      "<table width=\"100%\" border=\"1\" cellspacing=\"0\" cellpadding=\"3\">\n",
      "<tr bgcolor=\"#d1d1d1\">\n",
      "<td><span>Alabama</span></td>\n",
      "<td><span>AL</span></td>\n",
      "</tr><tr>\n",
      "<td>Birmingham International Airport</td>\n",
      "<td>BHM</td>\n",
      "</tr><tr>\n",
      "<td>Dothan Regional Airport</td>\n",
      "<td>DHN</td>\n",
      "</tr><tr>\n",
      "<td>Huntsville International Airport</td>\n",
      "<td>HSV</td>\n",
      "</tr><tr>\n",
      "<td>Mobile</td>\n",
      "<td>MOB</td>\n",
      "</tr><tr>\n",
      "<td>Montgomery</td>\n",
      "<td>MGM</td>\n",
      "</tr><tr bgcolor=\"#d1d1d1\">\n",
      "<td><span>Alaska</span></td>\n",
      "<td><span>AK</span></td>\n",
      "</tr><tr>\n",
      "<td>Anchorage International Airport</td>\n",
      "<td>ANC</td>\n",
      "</tr><tr>\n",
      "<td>Fairbanks  International Airport</td>\n",
      "<td>FAI</td>\n",
      "</tr><tr>\n",
      "<td>Juneau  International Airport  </td>\n",
      "<td>JNU</td>\n",
      "</tr><tr bgcolor=\"#d1d1d1\">\n",
      "<td><span>Arizona</span></td>\n",
      "<td><span>AZ</span></td>\n",
      "</tr><tr>\n",
      "<td>Flagstaff</td>\n",
      "<td>FLG</td>\n",
      "</tr><tr>\n",
      "<td>Phoenix, <i>Phoenix Sky Harbor International Airport</i></td>\n",
      "<td>PHX</td>\n",
      "</tr><tr>\n",
      "<td>Tucson  International Airport</td>\n",
      "<td>TUS</td>\n",
      "</tr><tr>\n",
      "<td>Yum\n"
     ]
    }
   ],
   "source": [
    "from requests import get\n",
    "\n",
    "url = 'http://www.leonardsguide.com/us-airport-codes.shtml'\n",
    "\n",
    "response = get(url)\n",
    "print(response.text[1000:3000])\n",
    "\n",
    "from bs4 import BeautifulSoup\n",
    "\n",
    "html_soup = BeautifulSoup(response.text, 'html.parser')"
   ]
  },
  {
   "cell_type": "code",
   "execution_count": 60,
   "metadata": {},
   "outputs": [],
   "source": [
    "rows = html_soup.find_all('table')[0].find_all('tr')"
   ]
  },
  {
   "cell_type": "code",
   "execution_count": 43,
   "metadata": {},
   "outputs": [],
   "source": [
    "rows = trs[0:10]"
   ]
  },
  {
   "cell_type": "code",
   "execution_count": 64,
   "metadata": {},
   "outputs": [],
   "source": [
    "import  pandas as pd"
   ]
  },
  {
   "cell_type": "code",
   "execution_count": 66,
   "metadata": {},
   "outputs": [],
   "source": [
    "df = pd.DataFrame(data, columns=[\"Name\", \"TLC\"])"
   ]
  },
  {
   "cell_type": "code",
   "execution_count": 67,
   "metadata": {},
   "outputs": [
    {
     "data": {
      "text/html": [
       "<div>\n",
       "<style scoped>\n",
       "    .dataframe tbody tr th:only-of-type {\n",
       "        vertical-align: middle;\n",
       "    }\n",
       "\n",
       "    .dataframe tbody tr th {\n",
       "        vertical-align: top;\n",
       "    }\n",
       "\n",
       "    .dataframe thead th {\n",
       "        text-align: right;\n",
       "    }\n",
       "</style>\n",
       "<table border=\"1\" class=\"dataframe\">\n",
       "  <thead>\n",
       "    <tr style=\"text-align: right;\">\n",
       "      <th></th>\n",
       "      <th>Name</th>\n",
       "      <th>TLC</th>\n",
       "    </tr>\n",
       "  </thead>\n",
       "  <tbody>\n",
       "    <tr>\n",
       "      <th>0</th>\n",
       "      <td>Birmingham International Airport</td>\n",
       "      <td>BHM</td>\n",
       "    </tr>\n",
       "    <tr>\n",
       "      <th>1</th>\n",
       "      <td>Dothan Regional Airport</td>\n",
       "      <td>DHN</td>\n",
       "    </tr>\n",
       "    <tr>\n",
       "      <th>2</th>\n",
       "      <td>Huntsville International Airport</td>\n",
       "      <td>HSV</td>\n",
       "    </tr>\n",
       "    <tr>\n",
       "      <th>3</th>\n",
       "      <td>Mobile</td>\n",
       "      <td>MOB</td>\n",
       "    </tr>\n",
       "    <tr>\n",
       "      <th>4</th>\n",
       "      <td>Montgomery</td>\n",
       "      <td>MGM</td>\n",
       "    </tr>\n",
       "    <tr>\n",
       "      <th>5</th>\n",
       "      <td>Anchorage International Airport</td>\n",
       "      <td>ANC</td>\n",
       "    </tr>\n",
       "    <tr>\n",
       "      <th>6</th>\n",
       "      <td>Fairbanks  International Airport</td>\n",
       "      <td>FAI</td>\n",
       "    </tr>\n",
       "    <tr>\n",
       "      <th>7</th>\n",
       "      <td>Juneau  International Airport</td>\n",
       "      <td>JNU</td>\n",
       "    </tr>\n",
       "    <tr>\n",
       "      <th>8</th>\n",
       "      <td>Flagstaff</td>\n",
       "      <td>FLG</td>\n",
       "    </tr>\n",
       "    <tr>\n",
       "      <th>9</th>\n",
       "      <td>Phoenix, Phoenix Sky Harbor International Airport</td>\n",
       "      <td>PHX</td>\n",
       "    </tr>\n",
       "  </tbody>\n",
       "</table>\n",
       "</div>"
      ],
      "text/plain": [
       "                                                Name  TLC\n",
       "0                   Birmingham International Airport  BHM\n",
       "1                            Dothan Regional Airport  DHN\n",
       "2                   Huntsville International Airport  HSV\n",
       "3                                             Mobile  MOB\n",
       "4                                         Montgomery  MGM\n",
       "5                    Anchorage International Airport  ANC\n",
       "6                   Fairbanks  International Airport  FAI\n",
       "7                    Juneau  International Airport    JNU\n",
       "8                                          Flagstaff  FLG\n",
       "9  Phoenix, Phoenix Sky Harbor International Airport  PHX"
      ]
     },
     "execution_count": 67,
     "metadata": {},
     "output_type": "execute_result"
    }
   ],
   "source": [
    "df[:10]"
   ]
  },
  {
   "cell_type": "code",
   "execution_count": 65,
   "metadata": {},
   "outputs": [],
   "source": [
    "data = [\n",
    "    [str(td.text) for td in r.find_all('td')]\n",
    "    for r in rows if r.find('span') == None\n",
    "]"
   ]
  },
  {
   "cell_type": "code",
   "execution_count": 57,
   "metadata": {},
   "outputs": [
    {
     "data": {
      "text/plain": [
       "True"
      ]
     },
     "execution_count": 57,
     "metadata": {},
     "output_type": "execute_result"
    }
   ],
   "source": [
    "rows[1].find('span') == None"
   ]
  },
  {
   "cell_type": "code",
   "execution_count": null,
   "metadata": {},
   "outputs": [],
   "source": []
  }
 ],
 "metadata": {
  "kernelspec": {
   "display_name": "Python 2",
   "language": "python",
   "name": "python2"
  },
  "language_info": {
   "codemirror_mode": {
    "name": "ipython",
    "version": 2
   },
   "file_extension": ".py",
   "mimetype": "text/x-python",
   "name": "python",
   "nbconvert_exporter": "python",
   "pygments_lexer": "ipython2",
   "version": "2.7.13"
  }
 },
 "nbformat": 4,
 "nbformat_minor": 2
}
