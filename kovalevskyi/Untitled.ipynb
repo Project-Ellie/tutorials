{
 "cells": [
  {
   "cell_type": "code",
   "execution_count": 1,
   "metadata": {},
   "outputs": [
    {
     "data": {
      "text/plain": [
       "\u001b[0;31mSignature:\u001b[0m \u001b[0mtf\u001b[0m\u001b[0;34m.\u001b[0m\u001b[0mestimator\u001b[0m\u001b[0;34m.\u001b[0m\u001b[0mexport\u001b[0m\u001b[0;34m.\u001b[0m\u001b[0mbuild_parsing_serving_input_receiver_fn\u001b[0m\u001b[0;34m(\u001b[0m\u001b[0mfeature_spec\u001b[0m\u001b[0;34m,\u001b[0m \u001b[0mdefault_batch_size\u001b[0m\u001b[0;34m=\u001b[0m\u001b[0mNone\u001b[0m\u001b[0;34m)\u001b[0m\u001b[0;34m\u001b[0m\u001b[0m\n",
       "\u001b[0;31mDocstring:\u001b[0m\n",
       "Build a serving_input_receiver_fn expecting fed tf.Examples.\n",
       "\n",
       "Creates a serving_input_receiver_fn that expects a serialized tf.Example fed\n",
       "into a string placeholder.  The function parses the tf.Example according to\n",
       "the provided feature_spec, and returns all parsed Tensors as features.\n",
       "\n",
       "Args:\n",
       "  feature_spec: a dict of string to `VarLenFeature`/`FixedLenFeature`.\n",
       "  default_batch_size: the number of query examples expected per batch.\n",
       "      Leave unset for variable batch size (recommended).\n",
       "\n",
       "Returns:\n",
       "  A serving_input_receiver_fn suitable for use in serving.\n",
       "\u001b[0;31mFile:\u001b[0m      /usr/local/lib/python2.7/dist-packages/tensorflow/python/estimator/export/export.py\n",
       "\u001b[0;31mType:\u001b[0m      function\n"
      ]
     },
     "metadata": {},
     "output_type": "display_data"
    }
   ],
   "source": [
    "import tensorflow as tf\n",
    "tf.estimator.export.build_parsing_serving_input_receiver_fn?"
   ]
  },
  {
   "cell_type": "code",
   "execution_count": 2,
   "metadata": {},
   "outputs": [
    {
     "data": {
      "text/plain": [
       "\u001b[0;31mInit signature:\u001b[0m \u001b[0mtf\u001b[0m\u001b[0;34m.\u001b[0m\u001b[0mestimator\u001b[0m\u001b[0;34m.\u001b[0m\u001b[0mexport\u001b[0m\u001b[0;34m.\u001b[0m\u001b[0mServingInputReceiver\u001b[0m\u001b[0;34m(\u001b[0m\u001b[0mcls\u001b[0m\u001b[0;34m,\u001b[0m \u001b[0mfeatures\u001b[0m\u001b[0;34m,\u001b[0m \u001b[0mreceiver_tensors\u001b[0m\u001b[0;34m,\u001b[0m \u001b[0mreceiver_tensors_alternatives\u001b[0m\u001b[0;34m=\u001b[0m\u001b[0mNone\u001b[0m\u001b[0;34m)\u001b[0m\u001b[0;34m\u001b[0m\u001b[0m\n",
       "\u001b[0;31mDocstring:\u001b[0m     \n",
       "A return type for a serving_input_receiver_fn.\n",
       "\n",
       "The expected return values are:\n",
       "  features: A `Tensor`, `SparseTensor`, or dict of string to `Tensor` or\n",
       "    `SparseTensor`, specifying the features to be passed to the model. Note:\n",
       "    if `features` passed is not a dict, it will be wrapped in a dict with a\n",
       "    single entry, using 'feature' as the key.  Consequently, the model must\n",
       "    accept a feature dict of the form {'feature': tensor}.  You may use\n",
       "    `TensorServingInputReceiver` if you want the tensor to be passed as is.\n",
       "  receiver_tensors: A `Tensor`, `SparseTensor`, or dict of string to `Tensor`\n",
       "    or `SparseTensor`, specifying input nodes where this receiver expects to\n",
       "    be fed by default.  Typically, this is a single placeholder expecting\n",
       "    serialized `tf.Example` protos.\n",
       "  receiver_tensors_alternatives: a dict of string to additional\n",
       "    groups of receiver tensors, each of which may be a `Tensor`,\n",
       "    `SparseTensor`, or dict of string to `Tensor` or`SparseTensor`.\n",
       "    These named receiver tensor alternatives generate additional serving\n",
       "    signatures, which may be used to feed inputs at different points within\n",
       "    the input receiver subgraph.  A typical usage is to allow feeding raw\n",
       "    feature `Tensor`s *downstream* of the tf.parse_example() op.\n",
       "    Defaults to None.\n",
       "\u001b[0;31mFile:\u001b[0m           /usr/local/lib/python2.7/dist-packages/tensorflow/python/estimator/export/export.py\n",
       "\u001b[0;31mType:\u001b[0m           type\n"
      ]
     },
     "metadata": {},
     "output_type": "display_data"
    }
   ],
   "source": [
    "tf.estimator.export.ServingInputReceiver?"
   ]
  },
  {
   "cell_type": "code",
   "execution_count": 6,
   "metadata": {},
   "outputs": [],
   "source": [
    "BUCKET=\"gs://going-tfx\""
   ]
  },
  {
   "cell_type": "code",
   "execution_count": 8,
   "metadata": {},
   "outputs": [
    {
     "name": "stdout",
     "output_type": "stream",
     "text": [
      "atl_june_transformed-00000-of-00001  \u001b[0m\u001b[01;34mtmpba91Nv\u001b[0m/  \u001b[01;34mtmpvuyluw\u001b[0m/\n",
      "\u001b[01;34mdataflow-requirements-cache\u001b[0m/         \u001b[01;34mtmpJskQGV\u001b[0m/  \u001b[01;34mtmpWoNE_G\u001b[0m/\n"
     ]
    }
   ],
   "source": [
    "ls /tmp"
   ]
  },
  {
   "cell_type": "code",
   "execution_count": 9,
   "metadata": {},
   "outputs": [
    {
     "name": "stdout",
     "output_type": "stream",
     "text": [
      "/tmp/model\n"
     ]
    },
    {
     "ename": "Exception",
     "evalue": "Cannot start TensorBoard.",
     "output_type": "error",
     "traceback": [
      "\u001b[0;31m\u001b[0m",
      "\u001b[0;31mException\u001b[0mTraceback (most recent call last)",
      "\u001b[0;32m<ipython-input-9-64eada395186>\u001b[0m in \u001b[0;36m<module>\u001b[0;34m()\u001b[0m\n\u001b[1;32m      2\u001b[0m \u001b[0mOUTDIR\u001b[0m\u001b[0;34m=\u001b[0m\u001b[0;34m'/tmp/model'\u001b[0m\u001b[0;34m\u001b[0m\u001b[0m\n\u001b[1;32m      3\u001b[0m \u001b[0;32mprint\u001b[0m\u001b[0;34m(\u001b[0m\u001b[0mOUTDIR\u001b[0m\u001b[0;34m)\u001b[0m\u001b[0;34m\u001b[0m\u001b[0m\n\u001b[0;32m----> 4\u001b[0;31m \u001b[0mTensorBoard\u001b[0m\u001b[0;34m(\u001b[0m\u001b[0;34m)\u001b[0m\u001b[0;34m.\u001b[0m\u001b[0mstart\u001b[0m\u001b[0;34m(\u001b[0m\u001b[0mOUTDIR\u001b[0m\u001b[0;34m)\u001b[0m\u001b[0;34m\u001b[0m\u001b[0m\n\u001b[0m",
      "\u001b[0;32m/usr/local/lib/python2.7/dist-packages/google/datalab/ml/_tensorboard.pyc\u001b[0m in \u001b[0;36mstart\u001b[0;34m(logdir)\u001b[0m\n\u001b[1;32m     77\u001b[0m       \u001b[0mretry\u001b[0m \u001b[0;34m-=\u001b[0m \u001b[0;36m1\u001b[0m\u001b[0;34m\u001b[0m\u001b[0m\n\u001b[1;32m     78\u001b[0m \u001b[0;34m\u001b[0m\u001b[0m\n\u001b[0;32m---> 79\u001b[0;31m     \u001b[0;32mraise\u001b[0m \u001b[0mException\u001b[0m\u001b[0;34m(\u001b[0m\u001b[0;34m'Cannot start TensorBoard.'\u001b[0m\u001b[0;34m)\u001b[0m\u001b[0;34m\u001b[0m\u001b[0m\n\u001b[0m\u001b[1;32m     80\u001b[0m \u001b[0;34m\u001b[0m\u001b[0m\n\u001b[1;32m     81\u001b[0m   \u001b[0;34m@\u001b[0m\u001b[0mstaticmethod\u001b[0m\u001b[0;34m\u001b[0m\u001b[0m\n",
      "\u001b[0;31mException\u001b[0m: Cannot start TensorBoard."
     ]
    }
   ],
   "source": [
    "from google.datalab.ml import TensorBoard\n",
    "OUTDIR='/tmp/model'\n",
    "print(OUTDIR)\n",
    "TensorBoard().start(OUTDIR)"
   ]
  },
  {
   "cell_type": "code",
   "execution_count": null,
   "metadata": {},
   "outputs": [],
   "source": []
  }
 ],
 "metadata": {
  "kernelspec": {
   "display_name": "Python 2",
   "language": "python",
   "name": "python2"
  },
  "language_info": {
   "codemirror_mode": {
    "name": "ipython",
    "version": 2
   },
   "file_extension": ".py",
   "mimetype": "text/x-python",
   "name": "python",
   "nbconvert_exporter": "python",
   "pygments_lexer": "ipython2",
   "version": "2.7.13"
  }
 },
 "nbformat": 4,
 "nbformat_minor": 2
}
