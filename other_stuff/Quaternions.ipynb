{
 "cells": [
  {
   "cell_type": "code",
   "execution_count": 1,
   "metadata": {},
   "outputs": [],
   "source": [
    "from __future__ import division"
   ]
  },
  {
   "cell_type": "code",
   "execution_count": 2,
   "metadata": {
    "collapsed": true
   },
   "outputs": [],
   "source": [
    "import numpy as np\n",
    "import math"
   ]
  },
  {
   "cell_type": "code",
   "execution_count": 110,
   "metadata": {},
   "outputs": [],
   "source": [
    "class Quaternion():\n",
    "    def __init__(self, r=0, i=0, j=0, k=0):\n",
    "        self.m = np.array([\n",
    "            [r, -i, -j, k], \n",
    "            [i, r, -k, -j], \n",
    "            [j, k, r, i], \n",
    "            [-k, j, -i, r]]).astype(float)\n",
    "\n",
    "    @staticmethod\n",
    "    def as_array(matrix):\n",
    "        return np.append(matrix[:3, 0], -matrix[3, 0])\n",
    "        \n",
    "    @staticmethod\n",
    "    def from_array(array):\n",
    "        return Quaternion(*list(array))\n",
    "\n",
    "    @staticmethod\n",
    "    def from_matrix(matrix):\n",
    "        q = Quaternion()\n",
    "        q.m = matrix\n",
    "        return q\n",
    "\n",
    "    def coords(self):\n",
    "        return [self.s(), self.i(), self.j(), self.k()]\n",
    "    \n",
    "    def s(self):\n",
    "        return self.m[0, 0]\n",
    "\n",
    "    def i(self):\n",
    "        return self.m[1, 0]\n",
    "        \n",
    "    def j(self):\n",
    "        return self.m[2, 0]\n",
    "        \n",
    "    def k(self):\n",
    "        return -self.m[3, 0]\n",
    "        \n",
    "    def norm(self):\n",
    "        return math.sqrt((self * self.conj()).s())\n",
    "        \n",
    "    def __mul__(self, other):\n",
    "        if isinstance(other, Quaternion):\n",
    "            return Quaternion.from_matrix(np.matmul(self.m, other.m))\n",
    "        elif isinstance(other, int) or isinstance(other, float):\n",
    "            return Quaternion.from_matrix(self.m * other)\n",
    "    \n",
    "    def __truediv__(self, other):\n",
    "        if isinstance(other, Quaternion):\n",
    "            return self * other.conj() / (other * other.conj()).s()\n",
    "        elif isinstance(other, int) or isinstance(other, float):\n",
    "            return Quaternion.from_matrix(self.m / other)\n",
    "    \n",
    "    def __add__(self, other):\n",
    "        return Quaternion.from_matrix(self.m + other.m)\n",
    "    \n",
    "    def __sub__(self, other):\n",
    "        return Quaternion.from_matrix(self.m - other.m)\n",
    "    \n",
    "    def __neg__(self):\n",
    "        return Quaternion.from_matrix(-self.m)\n",
    "    \n",
    "    def conj(self):\n",
    "        return Quaternion.from_matrix(np.transpose(self.m))\n",
    "\n",
    "    def __str__(self):\n",
    "        return str(Quaternion.as_array(self.m))\n",
    "    \n",
    "    def __repr__(self):\n",
    "        return str(Quaternion.as_array(self.m))\n",
    "\n",
    "    def __eq__(self, other):\n",
    "        return np.array_equal(self.m, other.m)\n",
    "\n",
    "class Q(Quaternion):\n",
    "    pass\n",
    "\n",
    "\n",
    "One = Q(1, 0, 0, 0)\n",
    "i = Q(0, 1, 0, 0)\n",
    "j = Q(0, 0, 1, 0)\n",
    "k = Q(0, 0, 0, 1)"
   ]
  },
  {
   "cell_type": "code",
   "execution_count": 106,
   "metadata": {
    "collapsed": true
   },
   "outputs": [
    {
     "data": {
      "text/plain": [
       "([ 0.  0.  3. -0.], 0.0, 3.0, -0.0, [-0. -0. -3.  0.])"
      ]
     },
     "execution_count": 106,
     "metadata": {},
     "output_type": "execute_result"
    }
   ],
   "source": [
    "q = Q(j=3)\n",
    "q, q.s(), q.j(), q.k(), -q"
   ]
  },
  {
   "cell_type": "code",
   "execution_count": 5,
   "metadata": {},
   "outputs": [
    {
     "name": "stdout",
     "output_type": "stream",
     "text": [
      "([ 0.  1.  0. -0.], [-1.  0.  0. -0.])\n",
      "([ 0.  0.  1. -0.], [-1.  0.  0. -0.])\n",
      "([0. 0. 0. 1.], [-1.  0.  0. -0.])\n",
      "([0. 0. 0. 1.], [ 0.  1.  0. -0.], [ 0.  0. -1. -0.])\n"
     ]
    }
   ],
   "source": [
    "print(i, i*i)\n",
    "print(j, j*j)\n",
    "print(k, k*k)\n",
    "print(i * j, j * k, i * k)"
   ]
  },
  {
   "cell_type": "code",
   "execution_count": 6,
   "metadata": {},
   "outputs": [
    {
     "data": {
      "text/plain": [
       "([ 0. -1.  0. -0.], [ 1.  0.  0. -0.])"
      ]
     },
     "execution_count": 6,
     "metadata": {},
     "output_type": "execute_result"
    }
   ],
   "source": [
    "i.conj(), j*j.conj()"
   ]
  },
  {
   "cell_type": "code",
   "execution_count": 7,
   "metadata": {},
   "outputs": [
    {
     "data": {
      "text/plain": [
       "True"
      ]
     },
     "execution_count": 7,
     "metadata": {},
     "output_type": "execute_result"
    }
   ],
   "source": [
    "k == Q(k=1)"
   ]
  },
  {
   "cell_type": "code",
   "execution_count": 8,
   "metadata": {},
   "outputs": [
    {
     "data": {
      "text/plain": [
       "True"
      ]
     },
     "execution_count": 8,
     "metadata": {},
     "output_type": "execute_result"
    }
   ],
   "source": [
    "A = Q(1, 2, 3, 4)\n",
    "B = Q(1, -1, 2, 3)\n",
    "(A*B).conj() == B.conj()*A.conj()"
   ]
  },
  {
   "cell_type": "code",
   "execution_count": 9,
   "metadata": {},
   "outputs": [
    {
     "data": {
      "text/plain": [
       "([0. 0. 0. 2.], [ 0.  0.  0. -1.])"
      ]
     },
     "execution_count": 9,
     "metadata": {},
     "output_type": "execute_result"
    }
   ],
   "source": [
    "k*2, One/k"
   ]
  },
  {
   "cell_type": "code",
   "execution_count": 10,
   "metadata": {},
   "outputs": [
    {
     "data": {
      "text/plain": [
       "([ 1.  1.  0. -0.],\n",
       " [ 0.5 -0.5  0.  -0. ],\n",
       " [ 1.  0.  0. -0.],\n",
       " 0.7071067811865476,\n",
       " 1.4142135623730951)"
      ]
     },
     "execution_count": 10,
     "metadata": {},
     "output_type": "execute_result"
    }
   ],
   "source": [
    "inv = One / Q(1, 1)\n",
    "Q(1, 1), inv, inv * Q(1, 1), inv.norm(), Q(1, 1).norm()"
   ]
  },
  {
   "cell_type": "code",
   "execution_count": 11,
   "metadata": {},
   "outputs": [
    {
     "data": {
      "text/plain": [
       "(1.0, 2.0, 3.0, 4.0)"
      ]
     },
     "execution_count": 11,
     "metadata": {},
     "output_type": "execute_result"
    }
   ],
   "source": [
    "A.s(), A.i(), A.j(), A.k()"
   ]
  },
  {
   "cell_type": "code",
   "execution_count": 89,
   "metadata": {},
   "outputs": [],
   "source": [
    "def eapp(q, precision=20):\n",
    "    qq = Q(1)\n",
    "    res = Q(1)\n",
    "    for i in range(1, precision):\n",
    "        qq = qq * q\n",
    "        res = res + qq * 1/math.factorial(i)\n",
    "    return res"
   ]
  },
  {
   "cell_type": "code",
   "execution_count": 90,
   "metadata": {},
   "outputs": [
    {
     "data": {
      "text/plain": [
       "([-1.00000000e+00  0.00000000e+00 -5.28918724e-10 -0.00000000e+00],\n",
       " [ 7.3890561  0.         0.        -0.       ],\n",
       " 7.38905609893065)"
      ]
     },
     "execution_count": 90,
     "metadata": {},
     "output_type": "execute_result"
    }
   ],
   "source": [
    "eapp(j*math.pi), qexp_approx(Q(2)), math.exp(2)"
   ]
  },
  {
   "cell_type": "markdown",
   "metadata": {},
   "source": [
    "---\n",
    "Demonstrating: $e^{q_1 + q_2} \\neq e^{q_1} \\cdot e^{q_2}$"
   ]
  },
  {
   "cell_type": "code",
   "execution_count": 91,
   "metadata": {},
   "outputs": [
    {
     "data": {
      "text/plain": [
       "([ 0.15594369  0.698456    0.698456   -0.        ],\n",
       " [0.29192658 0.45464871 0.45464871 0.70807342])"
      ]
     },
     "execution_count": 91,
     "metadata": {},
     "output_type": "execute_result"
    }
   ],
   "source": [
    "eapp(i+j), eapp(i) * eapp(j)"
   ]
  },
  {
   "cell_type": "code",
   "execution_count": 93,
   "metadata": {},
   "outputs": [
    {
     "data": {
      "text/plain": [
       "([0.15594369 0.698456   0.         0.698456  ],\n",
       " [0.15594369 0.         0.698456   0.698456  ])"
      ]
     },
     "execution_count": 93,
     "metadata": {},
     "output_type": "execute_result"
    }
   ],
   "source": [
    "eapp(i+k), eapp(j+k)"
   ]
  },
  {
   "cell_type": "markdown",
   "metadata": {},
   "source": [
    "---\n",
    "Demonstrating: $a = r \\cdot (cos\\theta + \\mathbf{u}sin\\theta)$"
   ]
  },
  {
   "cell_type": "code",
   "execution_count": 58,
   "metadata": {},
   "outputs": [
    {
     "name": "stdout",
     "output_type": "stream",
     "text": [
      "3.46410161514\n",
      "0.2886751345948129\n",
      "0.957427107756\n"
     ]
    },
    {
     "data": {
      "text/plain": [
       "[ 1.  3.  1. -1.]"
      ]
     },
     "execution_count": 58,
     "metadata": {},
     "output_type": "execute_result"
    }
   ],
   "source": [
    "q = Q(1,3,1,-1)\n",
    "a0=q.s()\n",
    "a1=q.i()\n",
    "a2=q.j()\n",
    "a3=q.k()\n",
    "na = math.sqrt(a1*a1 + a2*a2 + a3*a3)\n",
    "r = math.sqrt(a0*a0 + a1*a1 + a2*a2 + a3*a3)\n",
    "print(r)\n",
    "cos = a0/r\n",
    "print(cos)\n",
    "sin=na/r  \n",
    "print(sin)\n",
    "a = Q(cos, a1/na*sin, a2/na*sin, a3/na*sin) * r\n",
    "a"
   ]
  },
  {
   "cell_type": "code",
   "execution_count": 101,
   "metadata": {},
   "outputs": [
    {
     "data": {
      "text/plain": [
       "[0. 0. 0. 1.]"
      ]
     },
     "execution_count": 101,
     "metadata": {},
     "output_type": "execute_result"
    }
   ],
   "source": [
    "i*j"
   ]
  },
  {
   "cell_type": "code",
   "execution_count": 102,
   "metadata": {},
   "outputs": [
    {
     "data": {
      "text/plain": [
       "[ 0.  0. -1. -0.]"
      ]
     },
     "execution_count": 102,
     "metadata": {},
     "output_type": "execute_result"
    }
   ],
   "source": [
    "i*k"
   ]
  },
  {
   "cell_type": "code",
   "execution_count": 98,
   "metadata": {},
   "outputs": [
    {
     "data": {
      "text/plain": [
       "[-1.  0.  0. -0.]"
      ]
     },
     "execution_count": 98,
     "metadata": {},
     "output_type": "execute_result"
    }
   ],
   "source": [
    "i*i"
   ]
  },
  {
   "cell_type": "code",
   "execution_count": 99,
   "metadata": {},
   "outputs": [
    {
     "data": {
      "text/plain": [
       "[-1.  1.  0. -0.]"
      ]
     },
     "execution_count": 99,
     "metadata": {},
     "output_type": "execute_result"
    }
   ],
   "source": [
    "i*Q(1,1)"
   ]
  },
  {
   "cell_type": "code",
   "execution_count": 107,
   "metadata": {},
   "outputs": [],
   "source": [
    "p=[1, 1, 2]"
   ]
  },
  {
   "cell_type": "code",
   "execution_count": 108,
   "metadata": {},
   "outputs": [
    {
     "data": {
      "text/plain": [
       "[0. 1. 1. 2.]"
      ]
     },
     "execution_count": 108,
     "metadata": {},
     "output_type": "execute_result"
    }
   ],
   "source": [
    "Q(0, *p)"
   ]
  },
  {
   "cell_type": "markdown",
   "metadata": {},
   "source": [
    "---\n",
    "#### Rotations in 3D\n",
    "Rotating any point ```p=[x,y,z]``` by ```deg``` degrees (units of 360°) around ```axis=[ax, ay, az]```\n",
    "\n",
    "We know that a rotation around axis $\\mathbf{u}$ of a quaternion $q \\in \\mathcal{Vec}(\\mathbb{H}) $ is given by $ w\\cdot q \\cdot w^{-1}$\n",
    "\n",
    "With $ w = (cos\\frac{\\theta}{2} + sin\\frac{\\theta}{2}\\cdot \\mathbf{u})$, $|w|=1 $\n",
    "\n",
    "and $ w^\\dagger = w^{-1} = (cos\\frac{\\theta}{2} - sin\\frac{\\theta}{2}\\cdot \\mathbf{u})$\n",
    "\n",
    "Using $q^{\\prime} = (cos\\frac{\\theta}{2} + sin\\frac{\\theta}{2}\\cdot \\mathbf{u})\\cdot q \\cdot(cos\\frac{\\theta}{2} - sin\\frac{\\theta}{2}\\cdot \\mathbf{u})$"
   ]
  },
  {
   "cell_type": "code",
   "execution_count": 121,
   "metadata": {},
   "outputs": [],
   "source": [
    "def rotate(p, axis, deg):\n",
    "    u = Q(0, *axis)\n",
    "    u = u / u.norm()\n",
    "    q = Q(0, *p)\n",
    "    cos=math.cos(deg*math.pi/360)\n",
    "    sin=math.sin(deg*math.pi/360)\n",
    "    w=Q(cos) +u*sin\n",
    "    q_ = w * q * w.conj()\n",
    "    return q_.coords()[1:]"
   ]
  },
  {
   "cell_type": "code",
   "execution_count": 132,
   "metadata": {},
   "outputs": [
    {
     "name": "stdout",
     "output_type": "stream",
     "text": [
      "[2.220446049250313e-16, 1.0, -0.0]\n",
      "[-1.0, 2.220446049250313e-16, -0.0]\n",
      "[0.0, 2.220446049250313e-16, 1.0]\n",
      "[0.0, -1.0, 2.220446049250313e-16]\n",
      "[1.0, 0.0, 2.220446049250313e-16]\n",
      "[2.220446049250313e-16, 0.0, -1.0]\n",
      "[1.4880338717125852, 0.33333333333333326, -0.8213672050459183]\n"
     ]
    }
   ],
   "source": [
    "print rotate([1, 0, 0], [0,0,1], 90)\n",
    "print rotate([0, 1, 0], [0,0,1], 90)\n",
    "\n",
    "print rotate([0, 1, 0], [1,0,0], 90)\n",
    "print rotate([0, 0, 1], [1,0,0], 90)\n",
    "\n",
    "print rotate([0, 0, 1], [0,1,0], 90)\n",
    "print rotate([1, 0, 0], [0,1,0], 90)\n",
    "\n",
    "print rotate([1,-1,1], [1,1,1], 90)"
   ]
  },
  {
   "cell_type": "code",
   "execution_count": null,
   "metadata": {},
   "outputs": [],
   "source": []
  }
 ],
 "metadata": {
  "kernelspec": {
   "display_name": "Python 2",
   "language": "python",
   "name": "python2"
  },
  "language_info": {
   "codemirror_mode": {
    "name": "ipython",
    "version": 2
   },
   "file_extension": ".py",
   "mimetype": "text/x-python",
   "name": "python",
   "nbconvert_exporter": "python",
   "pygments_lexer": "ipython2",
   "version": "2.7.13"
  }
 },
 "nbformat": 4,
 "nbformat_minor": 2
}
