{
 "cells": [
  {
   "cell_type": "markdown",
   "metadata": {},
   "source": [
    "# Exploring Models With Synthetic Data\n",
    "The advantage of synthetic data is that we know the prior or ground truth and we know exactly how concealed it is. That helps us to determine with certainty that an algorithm is per se capable of discovering the ground truth. If an algorithm fails on the easy task of learning from synthetic data, then it won't be good in real life. The opposite, unfortunately, is not true."
   ]
  },
  {
   "cell_type": "code",
   "execution_count": 51,
   "metadata": {},
   "outputs": [],
   "source": [
    "from __future__ import division\n",
    "from __future__ import print_function\n",
    "from __future__ import absolute_import"
   ]
  },
  {
   "cell_type": "code",
   "execution_count": 3,
   "metadata": {},
   "outputs": [],
   "source": [
    "%matplotlib inline\n",
    "\n",
    "import sys\n",
    "import inspect\n",
    "\n",
    "import pandas as pd\n",
    "import numpy as np\n",
    "import seaborn as sns\n",
    "import tensorflow as tf\n",
    "from tensorflow import feature_column as fc\n",
    "from tools import print_progress, array_in, create_input_data"
   ]
  },
  {
   "cell_type": "markdown",
   "metadata": {},
   "source": [
    "## Generating Noisy Samples From A Well-Known Ground Truth"
   ]
  },
  {
   "cell_type": "code",
   "execution_count": 4,
   "metadata": {},
   "outputs": [],
   "source": [
    "# create a function of x that returns random samples around a*x+b\n",
    "def make_lin(a, b, rnd):\n",
    "    def _f_a(x):\n",
    "        mu = a*x + b\n",
    "        return rnd(mu)\n",
    "    return _f_a"
   ]
  },
  {
   "cell_type": "markdown",
   "metadata": {},
   "source": [
    "---\n",
    "Two linear but noisy signals:"
   ]
  },
  {
   "cell_type": "code",
   "execution_count": 5,
   "metadata": {},
   "outputs": [],
   "source": [
    "f_a = make_lin(2, 1, lambda mu: np.random.normal(loc=mu, scale=1.0))\n",
    "f_b = make_lin(-.5, -1.5, lambda mu: np.random.normal(loc=mu, scale=1.0))"
   ]
  },
  {
   "cell_type": "markdown",
   "metadata": {},
   "source": [
    "---\n",
    "A look at one of the signals:"
   ]
  },
  {
   "cell_type": "code",
   "execution_count": 6,
   "metadata": {},
   "outputs": [
    {
     "data": {
      "image/png": "[encoded data removed]",
      "text/plain": [
       "<matplotlib.figure.Figure at 0x7fc154e5a5f8>"
      ]
     },
     "metadata": {},
     "output_type": "display_data"
    }
   ],
   "source": [
    "df = pd.DataFrame([f_a(1) for i in range(1000)])\n",
    "df.plot.hist(bins=20);"
   ]
  },
  {
   "cell_type": "markdown",
   "metadata": {},
   "source": [
    "---\n",
    "Now we create a data set/frame representing $f_a(x)+f_b(y)$ as a random variable that depends on random variables $x$ and $y$"
   ]
  },
  {
   "cell_type": "code",
   "execution_count": 7,
   "metadata": {},
   "outputs": [],
   "source": [
    "def create_data_frame_v1(size):\n",
    "    x_data = np.random.uniform(high=5, low=-5, size=size)\n",
    "    y_data = np.random.uniform(high=5, low=-5, size=size)\n",
    "    f_data = f_a(x_data) + f_b(y_data)\n",
    "    f_perf = -.5 * y_data - 1.5 + 2 * x_data + 1\n",
    "    df = pd.DataFrame({'x': x_data, 'y': y_data, 'f': f_data, 'p': f_perf})\n",
    "    return df"
   ]
  },
  {
   "cell_type": "markdown",
   "metadata": {},
   "source": [
    "In total, this is equivalent to saying that the ground truth is:\n",
    "\n",
    "$$ f(x, y) = 2x - \\frac{1}{2} y - \\frac{1}{2} $$\n"
   ]
  },
  {
   "cell_type": "code",
   "execution_count": 8,
   "metadata": {},
   "outputs": [],
   "source": [
    "NUM_RECORDS = 10000"
   ]
  },
  {
   "cell_type": "code",
   "execution_count": 9,
   "metadata": {},
   "outputs": [
    {
     "data": {
      "text/html": [
       "<div>\n",
       "<table border=\"1\" class=\"dataframe\">\n",
       "  <thead>\n",
       "    <tr style=\"text-align: right;\">\n",
       "      <th></th>\n",
       "      <th>f</th>\n",
       "      <th>p</th>\n",
       "      <th>x</th>\n",
       "      <th>y</th>\n",
       "    </tr>\n",
       "  </thead>\n",
       "  <tbody>\n",
       "    <tr>\n",
       "      <th>0</th>\n",
       "      <td>3.970338</td>\n",
       "      <td>5.778182</td>\n",
       "      <td>2.782283</td>\n",
       "      <td>-1.427232</td>\n",
       "    </tr>\n",
       "    <tr>\n",
       "      <th>1</th>\n",
       "      <td>-5.129813</td>\n",
       "      <td>-4.751812</td>\n",
       "      <td>-1.972888</td>\n",
       "      <td>0.612072</td>\n",
       "    </tr>\n",
       "    <tr>\n",
       "      <th>2</th>\n",
       "      <td>-11.338176</td>\n",
       "      <td>-10.653818</td>\n",
       "      <td>-4.274494</td>\n",
       "      <td>3.209659</td>\n",
       "    </tr>\n",
       "    <tr>\n",
       "      <th>3</th>\n",
       "      <td>7.639845</td>\n",
       "      <td>9.255940</td>\n",
       "      <td>4.953560</td>\n",
       "      <td>0.302361</td>\n",
       "    </tr>\n",
       "    <tr>\n",
       "      <th>4</th>\n",
       "      <td>-0.836743</td>\n",
       "      <td>-3.501605</td>\n",
       "      <td>-1.923769</td>\n",
       "      <td>-1.691864</td>\n",
       "    </tr>\n",
       "  </tbody>\n",
       "</table>\n",
       "</div>"
      ],
      "text/plain": [
       "           f          p         x         y\n",
       "0   3.970338   5.778182  2.782283 -1.427232\n",
       "1  -5.129813  -4.751812 -1.972888  0.612072\n",
       "2 -11.338176 -10.653818 -4.274494  3.209659\n",
       "3   7.639845   9.255940  4.953560  0.302361\n",
       "4  -0.836743  -3.501605 -1.923769 -1.691864"
      ]
     },
     "execution_count": 9,
     "metadata": {},
     "output_type": "execute_result"
    }
   ],
   "source": [
    "df_train = create_data_frame_v1(NUM_RECORDS)\n",
    "df_train[:5]"
   ]
  },
  {
   "cell_type": "markdown",
   "metadata": {},
   "source": [
    "## Building A Linear Regressor From Scratch With Tensorflow\n",
    "Let's train a self-made tensorflow linear regressor with the synthetic data to see whether it finds the coefficients above"
   ]
  },
  {
   "cell_type": "code",
   "execution_count": 10,
   "metadata": {},
   "outputs": [
    {
     "name": "stdout",
     "output_type": "stream",
     "text": [
      "OK. Was already closed or didn't exist. That's fine.\n"
     ]
    }
   ],
   "source": [
    "try:\n",
    "    sess.close()\n",
    "except:\n",
    "    print(\"OK. Was already closed or didn't exist. That's fine.\")\n",
    "    \n",
    "sess = tf.InteractiveSession()"
   ]
  },
  {
   "cell_type": "markdown",
   "metadata": {},
   "source": [
    "The learning rate"
   ]
  },
  {
   "cell_type": "code",
   "execution_count": 11,
   "metadata": {},
   "outputs": [],
   "source": [
    "lr = .01"
   ]
  },
  {
   "cell_type": "markdown",
   "metadata": {},
   "source": [
    "---\n",
    "### Creating The Tensorflow Graph"
   ]
  },
  {
   "cell_type": "code",
   "execution_count": 12,
   "metadata": {},
   "outputs": [],
   "source": [
    "class Linear():\n",
    "    def __init__(self, x_dim, lr):\n",
    "\n",
    "        # Variables for the parameters: weights M and bias b\n",
    "        self.M = tf.Variable(tf.zeros(shape=(1, x_dim)))\n",
    "        self.b = tf.Variable(0.)\n",
    "\n",
    "        # Placeholders for x and labels\n",
    "        self.x = tf.placeholder(shape=(x_dim,None), dtype=tf.float32)\n",
    "        self.lbls = tf.placeholder(shape=(1,None), dtype=tf.float32)\n",
    "\n",
    "        # The prediction and the distance (loss)\n",
    "        self.f = tf.matmul(self.M, self.x) + self.b\n",
    "        self.d = tf.losses.mean_squared_error(self.lbls, self.f)\n",
    "\n",
    "        # The gradients\n",
    "        self.nM = tf.gradients(self.d, self.M)\n",
    "        self.nb = tf.gradients(self.d, self.b)\n",
    "\n",
    "        # The optimizers\n",
    "        self.aM = tf.assign_add( self.M, tf.multiply(self.nM[0],-lr))\n",
    "        self.ab = tf.assign_add( self.b, tf.multiply(self.nb[0], -lr))\n",
    "\n",
    "        # The initializer\n",
    "        self.init = tf.global_variables_initializer()\n",
    "    \n",
    "    def train(self, sess, x_data, labels_data, num_steps):        \n",
    "        sess.run(self.init)\n",
    "        for i in range(num_steps):\n",
    "            _, dist, _, _, _, _ = sess.run([self.f, self.d, self.nM, self.nb, self.aM, self.ab], \n",
    "                                           feed_dict = {self.x: x_data, self.lbls: labels_data})\n",
    "            print_progress(\"- Loss: {}\", dist)\n",
    "        return dist\n",
    "    \n",
    "    def predict(self, sess, x_data):\n",
    "        pred = sess.run(self.f, feed_dict={self.x: x_data})\n",
    "        return pred"
   ]
  },
  {
   "cell_type": "markdown",
   "metadata": {},
   "source": [
    "---\n",
    "### Perform The Training And Examine The Results"
   ]
  },
  {
   "cell_type": "code",
   "execution_count": 13,
   "metadata": {},
   "outputs": [],
   "source": [
    "input_data = [list(df_train['x']), list(df_train['y'])]\n",
    "lbls_data = [list(df_train['f'])]"
   ]
  },
  {
   "cell_type": "code",
   "execution_count": 14,
   "metadata": {},
   "outputs": [
    {
     "name": "stdout",
     "output_type": "stream",
     "text": [
      "- Loss: 2.036376476287842"
     ]
    },
    {
     "data": {
      "text/plain": [
       "2.0363765"
      ]
     },
     "execution_count": 14,
     "metadata": {},
     "output_type": "execute_result"
    }
   ],
   "source": [
    "linear1 = Linear(x_dim=2, lr=0.01)\n",
    "linear1.train(sess, input_data, lbls_data, 1000)"
   ]
  },
  {
   "cell_type": "markdown",
   "metadata": {},
   "source": [
    "We expect the parameters to be close to $2, -0.5, -0.5$:"
   ]
  },
  {
   "cell_type": "code",
   "execution_count": 15,
   "metadata": {},
   "outputs": [
    {
     "data": {
      "text/plain": [
       "[array([[ 1.9984715, -0.5004317]], dtype=float32), -0.5025198]"
      ]
     },
     "execution_count": 15,
     "metadata": {},
     "output_type": "execute_result"
    }
   ],
   "source": [
    "sess.run([linear1.M, linear1.b])"
   ]
  },
  {
   "cell_type": "markdown",
   "metadata": {},
   "source": [
    "---\n",
    "Now the tensor f represents the hypothesis. Let's evaluate it with some fresh test data"
   ]
  },
  {
   "cell_type": "code",
   "execution_count": 16,
   "metadata": {},
   "outputs": [],
   "source": [
    "df_test = create_data_frame_v1(size=10000)\n",
    "test_data = [list(df_test['x']), list(df_test['y'])]"
   ]
  },
  {
   "cell_type": "code",
   "execution_count": 17,
   "metadata": {},
   "outputs": [],
   "source": [
    "predictions = linear1.predict(sess=sess, x_data=test_data)"
   ]
  },
  {
   "cell_type": "code",
   "execution_count": 18,
   "metadata": {},
   "outputs": [
    {
     "data": {
      "text/html": [
       "<div>\n",
       "<table border=\"1\" class=\"dataframe\">\n",
       "  <thead>\n",
       "    <tr style=\"text-align: right;\">\n",
       "      <th></th>\n",
       "      <th>f</th>\n",
       "      <th>p</th>\n",
       "      <th>x</th>\n",
       "      <th>y</th>\n",
       "      <th>predictions</th>\n",
       "    </tr>\n",
       "  </thead>\n",
       "  <tbody>\n",
       "    <tr>\n",
       "      <th>0</th>\n",
       "      <td>-4.018779</td>\n",
       "      <td>-5.170907</td>\n",
       "      <td>-2.480310</td>\n",
       "      <td>-0.579424</td>\n",
       "      <td>-5.169386</td>\n",
       "    </tr>\n",
       "    <tr>\n",
       "      <th>1</th>\n",
       "      <td>-4.243796</td>\n",
       "      <td>-4.395184</td>\n",
       "      <td>-3.108451</td>\n",
       "      <td>-4.643437</td>\n",
       "      <td>-4.390948</td>\n",
       "    </tr>\n",
       "    <tr>\n",
       "      <th>2</th>\n",
       "      <td>-5.984971</td>\n",
       "      <td>-3.646574</td>\n",
       "      <td>-1.278153</td>\n",
       "      <td>1.180534</td>\n",
       "      <td>-3.647650</td>\n",
       "    </tr>\n",
       "    <tr>\n",
       "      <th>3</th>\n",
       "      <td>-2.903392</td>\n",
       "      <td>-2.819337</td>\n",
       "      <td>-0.068276</td>\n",
       "      <td>4.365570</td>\n",
       "      <td>-2.823637</td>\n",
       "    </tr>\n",
       "    <tr>\n",
       "      <th>4</th>\n",
       "      <td>-10.554818</td>\n",
       "      <td>-8.884180</td>\n",
       "      <td>-3.476079</td>\n",
       "      <td>2.864045</td>\n",
       "      <td>-8.882624</td>\n",
       "    </tr>\n",
       "    <tr>\n",
       "      <th>5</th>\n",
       "      <td>4.222886</td>\n",
       "      <td>6.465856</td>\n",
       "      <td>2.546166</td>\n",
       "      <td>-3.747048</td>\n",
       "      <td>6.461062</td>\n",
       "    </tr>\n",
       "    <tr>\n",
       "      <th>6</th>\n",
       "      <td>1.829820</td>\n",
       "      <td>0.175177</td>\n",
       "      <td>1.443376</td>\n",
       "      <td>4.423151</td>\n",
       "      <td>0.168541</td>\n",
       "    </tr>\n",
       "    <tr>\n",
       "      <th>7</th>\n",
       "      <td>-12.741029</td>\n",
       "      <td>-11.746977</td>\n",
       "      <td>-4.625421</td>\n",
       "      <td>3.992269</td>\n",
       "      <td>-11.744150</td>\n",
       "    </tr>\n",
       "    <tr>\n",
       "      <th>8</th>\n",
       "      <td>-9.442065</td>\n",
       "      <td>-9.335680</td>\n",
       "      <td>-3.550269</td>\n",
       "      <td>3.470283</td>\n",
       "      <td>-9.334271</td>\n",
       "    </tr>\n",
       "    <tr>\n",
       "      <th>9</th>\n",
       "      <td>-3.552182</td>\n",
       "      <td>-2.827383</td>\n",
       "      <td>-0.735511</td>\n",
       "      <td>1.712722</td>\n",
       "      <td>-2.829518</td>\n",
       "    </tr>\n",
       "  </tbody>\n",
       "</table>\n",
       "</div>"
      ],
      "text/plain": [
       "           f          p         x         y  predictions\n",
       "0  -4.018779  -5.170907 -2.480310 -0.579424    -5.169386\n",
       "1  -4.243796  -4.395184 -3.108451 -4.643437    -4.390948\n",
       "2  -5.984971  -3.646574 -1.278153  1.180534    -3.647650\n",
       "3  -2.903392  -2.819337 -0.068276  4.365570    -2.823637\n",
       "4 -10.554818  -8.884180 -3.476079  2.864045    -8.882624\n",
       "5   4.222886   6.465856  2.546166 -3.747048     6.461062\n",
       "6   1.829820   0.175177  1.443376  4.423151     0.168541\n",
       "7 -12.741029 -11.746977 -4.625421  3.992269   -11.744150\n",
       "8  -9.442065  -9.335680 -3.550269  3.470283    -9.334271\n",
       "9  -3.552182  -2.827383 -0.735511  1.712722    -2.829518"
      ]
     },
     "execution_count": 18,
     "metadata": {},
     "output_type": "execute_result"
    }
   ],
   "source": [
    "df_test['predictions'] = predictions[0]\n",
    "df_test[:10]"
   ]
  },
  {
   "cell_type": "markdown",
   "metadata": {},
   "source": [
    "We can see without surprise that the predictions are typically closer to the ground truth than to the noisy signal. This means we have enough data to average out the noise and reveal the ground truth. A look at the distribution of the errors reveals pure noise around 0. That's typically a good sign that our network has understood the data."
   ]
  },
  {
   "cell_type": "code",
   "execution_count": 19,
   "metadata": {},
   "outputs": [
    {
     "data": {
      "image/png": "[encoded data removed]",
      "text/plain": [
       "<matplotlib.figure.Figure at 0x7fc150057a20>"
      ]
     },
     "metadata": {},
     "output_type": "display_data"
    }
   ],
   "source": [
    "df_errors = df_test['f'] - df_test['predictions']\n",
    "df_errors.plot.hist(bins=100);"
   ]
  },
  {
   "cell_type": "markdown",
   "metadata": {},
   "source": [
    "## The Tensorflow LinearRegressor Estimator\n",
    "Now we'll reproduce this with the high-level estimator API. Surprisingly, the calculations here take much longer than in the basic approach above"
   ]
  },
  {
   "cell_type": "code",
   "execution_count": 20,
   "metadata": {},
   "outputs": [],
   "source": [
    "input_fn = tf.estimator.inputs.pandas_input_fn(df_train, shuffle=True, num_epochs=100, y=df_train['f'], batch_size=NUM_RECORDS)\n",
    "feature_columns = [\n",
    "    fc.numeric_column('x', dtype=tf.float32),\n",
    "    fc.numeric_column('y', dtype=tf.float32)\n",
    "]\n",
    "config = tf.estimator.RunConfig(log_step_count_steps=5)"
   ]
  },
  {
   "cell_type": "code",
   "execution_count": 21,
   "metadata": {},
   "outputs": [
    {
     "name": "stdout",
     "output_type": "stream",
     "text": [
      "WARNING:tensorflow:Using temporary folder as model directory: /tmp/tmp1_0v5bsq\n",
      "INFO:tensorflow:Using config: {'_is_chief': True, '_task_id': 0, '_protocol': None, '_train_distribute': None, '_model_dir': '/tmp/tmp1_0v5bsq', '_num_ps_replicas': 0, '_save_summary_steps': 100, '_master': '', '_save_checkpoints_steps': None, '_service': None, '_task_type': 'worker', '_global_id_in_cluster': 0, '_eval_distribute': None, '_tf_random_seed': None, '_keep_checkpoint_every_n_hours': 10000, '_experimental_distribute': None, '_cluster_spec': <tensorflow.python.training.server_lib.ClusterSpec object at 0x7fc1484f9eb8>, '_save_checkpoints_secs': 600, '_session_config': allow_soft_placement: true\n",
      "graph_options {\n",
      "  rewrite_options {\n",
      "    meta_optimizer_iterations: ONE\n",
      "  }\n",
      "}\n",
      ", '_num_worker_replicas': 1, '_evaluation_master': '', '_log_step_count_steps': 5, '_device_fn': None, '_keep_checkpoint_max': 5}\n"
     ]
    }
   ],
   "source": [
    "regressor = tf.estimator.LinearRegressor( feature_columns=feature_columns, config=config )"
   ]
  },
  {
   "cell_type": "markdown",
   "metadata": {},
   "source": [
    "---\n",
    "Perform the training on the regressor"
   ]
  },
  {
   "cell_type": "code",
   "execution_count": 22,
   "metadata": {},
   "outputs": [
    {
     "name": "stdout",
     "output_type": "stream",
     "text": [
      "WARNING:tensorflow:From /usr/local/lib/python3.5/dist-packages/tensorflow/python/estimator/inputs/queues/feeding_queue_runner.py:62: QueueRunner.__init__ (from tensorflow.python.training.queue_runner_impl) is deprecated and will be removed in a future version.\n",
      "Instructions for updating:\n",
      "To construct input pipelines, use the `tf.data` module.\n",
      "WARNING:tensorflow:From /usr/local/lib/python3.5/dist-packages/tensorflow/python/estimator/inputs/queues/feeding_functions.py:500: add_queue_runner (from tensorflow.python.training.queue_runner_impl) is deprecated and will be removed in a future version.\n",
      "Instructions for updating:\n",
      "To construct input pipelines, use the `tf.data` module.\n",
      "INFO:tensorflow:Calling model_fn.\n",
      "INFO:tensorflow:Done calling model_fn.\n",
      "INFO:tensorflow:Create CheckpointSaverHook.\n",
      "INFO:tensorflow:Graph was finalized.\n",
      "INFO:tensorflow:Running local_init_op.\n",
      "INFO:tensorflow:Done running local_init_op.\n",
      "WARNING:tensorflow:From /usr/local/lib/python3.5/dist-packages/tensorflow/python/training/monitored_session.py:804: start_queue_runners (from tensorflow.python.training.queue_runner_impl) is deprecated and will be removed in a future version.\n",
      "Instructions for updating:\n",
      "To construct input pipelines, use the `tf.data` module.\n",
      "INFO:tensorflow:Saving checkpoints for 0 into /tmp/tmp1_0v5bsq/model.ckpt.\n",
      "INFO:tensorflow:loss = 376386.75, step = 0\n",
      "INFO:tensorflow:global_step/sec: 15.5951\n",
      "INFO:tensorflow:loss = 182129.66, step = 5 (0.322 sec)\n",
      "INFO:tensorflow:global_step/sec: 19.5254\n",
      "INFO:tensorflow:loss = 122119.945, step = 10 (0.256 sec)\n",
      "INFO:tensorflow:global_step/sec: 19.0751\n",
      "INFO:tensorflow:loss = 88577.195, step = 15 (0.262 sec)\n",
      "INFO:tensorflow:global_step/sec: 19.4599\n",
      "INFO:tensorflow:loss = 67258.805, step = 20 (0.257 sec)\n",
      "INFO:tensorflow:global_step/sec: 19.8035\n",
      "INFO:tensorflow:loss = 53325.707, step = 25 (0.252 sec)\n",
      "INFO:tensorflow:global_step/sec: 18.5465\n",
      "INFO:tensorflow:loss = 43844.195, step = 30 (0.270 sec)\n",
      "INFO:tensorflow:global_step/sec: 18.7049\n",
      "INFO:tensorflow:loss = 37142.934, step = 35 (0.267 sec)\n",
      "INFO:tensorflow:global_step/sec: 19.8777\n",
      "INFO:tensorflow:loss = 32354.453, step = 40 (0.251 sec)\n",
      "INFO:tensorflow:global_step/sec: 19.3943\n",
      "INFO:tensorflow:loss = 28956.66, step = 45 (0.258 sec)\n",
      "INFO:tensorflow:global_step/sec: 19.8431\n",
      "INFO:tensorflow:loss = 26568.438, step = 50 (0.252 sec)\n",
      "INFO:tensorflow:global_step/sec: 19.7628\n",
      "INFO:tensorflow:loss = 24904.014, step = 55 (0.253 sec)\n",
      "INFO:tensorflow:global_step/sec: 19.5776\n",
      "INFO:tensorflow:loss = 23581.398, step = 60 (0.255 sec)\n",
      "INFO:tensorflow:global_step/sec: 19.9787\n",
      "INFO:tensorflow:loss = 22728.766, step = 65 (0.251 sec)\n",
      "INFO:tensorflow:global_step/sec: 20.0522\n",
      "INFO:tensorflow:loss = 22120.584, step = 70 (0.249 sec)\n",
      "INFO:tensorflow:global_step/sec: 19.8831\n",
      "INFO:tensorflow:loss = 21576.305, step = 75 (0.252 sec)\n",
      "INFO:tensorflow:global_step/sec: 20.0317\n",
      "INFO:tensorflow:loss = 21262.977, step = 80 (0.249 sec)\n",
      "INFO:tensorflow:global_step/sec: 19.7861\n",
      "INFO:tensorflow:loss = 21079.484, step = 85 (0.253 sec)\n",
      "INFO:tensorflow:global_step/sec: 20.004\n",
      "INFO:tensorflow:loss = 20772.031, step = 90 (0.250 sec)\n",
      "INFO:tensorflow:global_step/sec: 20.0043\n",
      "INFO:tensorflow:loss = 20690.297, step = 95 (0.250 sec)\n",
      "INFO:tensorflow:Saving checkpoints for 100 into /tmp/tmp1_0v5bsq/model.ckpt.\n",
      "INFO:tensorflow:Loss for final step: 20634.871.\n"
     ]
    },
    {
     "data": {
      "text/plain": [
       "<tensorflow.python.estimator.canned.linear.LinearRegressor at 0x7fc1485735c0>"
      ]
     },
     "execution_count": 22,
     "metadata": {},
     "output_type": "execute_result"
    }
   ],
   "source": [
    "regressor.train(input_fn)"
   ]
  },
  {
   "cell_type": "markdown",
   "metadata": {},
   "source": [
    "---\n",
    "### Comparing The Results"
   ]
  },
  {
   "cell_type": "code",
   "execution_count": 23,
   "metadata": {},
   "outputs": [],
   "source": [
    "input_fn_test = tf.estimator.inputs.pandas_input_fn(df_test, shuffle=False)"
   ]
  },
  {
   "cell_type": "code",
   "execution_count": 24,
   "metadata": {},
   "outputs": [],
   "source": [
    "generator = regressor.predict(input_fn_test)"
   ]
  },
  {
   "cell_type": "code",
   "execution_count": 25,
   "metadata": {},
   "outputs": [
    {
     "name": "stdout",
     "output_type": "stream",
     "text": [
      "INFO:tensorflow:Calling model_fn.\n",
      "INFO:tensorflow:Done calling model_fn.\n",
      "INFO:tensorflow:Graph was finalized.\n",
      "INFO:tensorflow:Restoring parameters from /tmp/tmp1_0v5bsq/model.ckpt-100\n",
      "INFO:tensorflow:Running local_init_op.\n",
      "INFO:tensorflow:Done running local_init_op.\n"
     ]
    },
    {
     "data": {
      "text/html": [
       "<div>\n",
       "<table border=\"1\" class=\"dataframe\">\n",
       "  <thead>\n",
       "    <tr style=\"text-align: right;\">\n",
       "      <th></th>\n",
       "      <th>f</th>\n",
       "      <th>p</th>\n",
       "      <th>x</th>\n",
       "      <th>y</th>\n",
       "      <th>predictions</th>\n",
       "      <th>pred_estimator</th>\n",
       "    </tr>\n",
       "  </thead>\n",
       "  <tbody>\n",
       "    <tr>\n",
       "      <th>0</th>\n",
       "      <td>-4.018779</td>\n",
       "      <td>-5.170907</td>\n",
       "      <td>-2.480310</td>\n",
       "      <td>-0.579424</td>\n",
       "      <td>-5.169386</td>\n",
       "      <td>-5.037508</td>\n",
       "    </tr>\n",
       "    <tr>\n",
       "      <th>1</th>\n",
       "      <td>-4.243796</td>\n",
       "      <td>-4.395184</td>\n",
       "      <td>-3.108451</td>\n",
       "      <td>-4.643437</td>\n",
       "      <td>-4.390948</td>\n",
       "      <td>-4.226859</td>\n",
       "    </tr>\n",
       "    <tr>\n",
       "      <th>2</th>\n",
       "      <td>-5.984971</td>\n",
       "      <td>-3.646574</td>\n",
       "      <td>-1.278153</td>\n",
       "      <td>1.180534</td>\n",
       "      <td>-3.647650</td>\n",
       "      <td>-3.580405</td>\n",
       "    </tr>\n",
       "    <tr>\n",
       "      <th>3</th>\n",
       "      <td>-2.903392</td>\n",
       "      <td>-2.819337</td>\n",
       "      <td>-0.068276</td>\n",
       "      <td>4.365570</td>\n",
       "      <td>-2.823637</td>\n",
       "      <td>-2.820740</td>\n",
       "    </tr>\n",
       "    <tr>\n",
       "      <th>4</th>\n",
       "      <td>-10.554818</td>\n",
       "      <td>-8.884180</td>\n",
       "      <td>-3.476079</td>\n",
       "      <td>2.864045</td>\n",
       "      <td>-8.882624</td>\n",
       "      <td>-8.694776</td>\n",
       "    </tr>\n",
       "    <tr>\n",
       "      <th>5</th>\n",
       "      <td>4.222886</td>\n",
       "      <td>6.465856</td>\n",
       "      <td>2.546166</td>\n",
       "      <td>-3.747048</td>\n",
       "      <td>6.461062</td>\n",
       "      <td>6.317466</td>\n",
       "    </tr>\n",
       "    <tr>\n",
       "      <th>6</th>\n",
       "      <td>1.829820</td>\n",
       "      <td>0.175177</td>\n",
       "      <td>1.443376</td>\n",
       "      <td>4.423151</td>\n",
       "      <td>0.168541</td>\n",
       "      <td>0.089094</td>\n",
       "    </tr>\n",
       "    <tr>\n",
       "      <th>7</th>\n",
       "      <td>-12.741029</td>\n",
       "      <td>-11.746977</td>\n",
       "      <td>-4.625421</td>\n",
       "      <td>3.992269</td>\n",
       "      <td>-11.744150</td>\n",
       "      <td>-11.493112</td>\n",
       "    </tr>\n",
       "    <tr>\n",
       "      <th>8</th>\n",
       "      <td>-9.442065</td>\n",
       "      <td>-9.335680</td>\n",
       "      <td>-3.550269</td>\n",
       "      <td>3.470283</td>\n",
       "      <td>-9.334271</td>\n",
       "      <td>-9.142079</td>\n",
       "    </tr>\n",
       "    <tr>\n",
       "      <th>9</th>\n",
       "      <td>-3.552182</td>\n",
       "      <td>-2.827383</td>\n",
       "      <td>-0.735511</td>\n",
       "      <td>1.712722</td>\n",
       "      <td>-2.829518</td>\n",
       "      <td>-2.791579</td>\n",
       "    </tr>\n",
       "  </tbody>\n",
       "</table>\n",
       "</div>"
      ],
      "text/plain": [
       "           f          p         x         y  predictions  pred_estimator\n",
       "0  -4.018779  -5.170907 -2.480310 -0.579424    -5.169386       -5.037508\n",
       "1  -4.243796  -4.395184 -3.108451 -4.643437    -4.390948       -4.226859\n",
       "2  -5.984971  -3.646574 -1.278153  1.180534    -3.647650       -3.580405\n",
       "3  -2.903392  -2.819337 -0.068276  4.365570    -2.823637       -2.820740\n",
       "4 -10.554818  -8.884180 -3.476079  2.864045    -8.882624       -8.694776\n",
       "5   4.222886   6.465856  2.546166 -3.747048     6.461062        6.317466\n",
       "6   1.829820   0.175177  1.443376  4.423151     0.168541        0.089094\n",
       "7 -12.741029 -11.746977 -4.625421  3.992269   -11.744150      -11.493112\n",
       "8  -9.442065  -9.335680 -3.550269  3.470283    -9.334271       -9.142079\n",
       "9  -3.552182  -2.827383 -0.735511  1.712722    -2.829518       -2.791579"
      ]
     },
     "execution_count": 25,
     "metadata": {},
     "output_type": "execute_result"
    }
   ],
   "source": [
    "pred_estimator = [f['predictions'][0] for f in generator]\n",
    "df_test['pred_estimator'] = pred_estimator\n",
    "df_test[:10]"
   ]
  },
  {
   "cell_type": "markdown",
   "metadata": {},
   "source": [
    "We see that the pre-canned estimator arrives at (almost) the same results as our hand-made linear regressor. Not that we had a doubt, though..."
   ]
  },
  {
   "cell_type": "markdown",
   "metadata": {},
   "source": [
    "---\n",
    "## Learning From Categorical Data"
   ]
  },
  {
   "cell_type": "markdown",
   "metadata": {},
   "source": [
    "Let's now assume that the ground truth is a totally unexpected function of the week day and time of day. That could happen e.g., if you measure the humidity and fail to realize that your sensor is near a dry-cleaner's. Let's assume the dry-cleaner's have peek hours on Mon, Tue, Wed from 18:00h to 21:00 and Fri, Sat from 14:00h to 16:00h. During those hours humidity is significantly higher due to the steam produced there. \n",
    "\n",
    "First, let's create a dataset that reflects that situation. Day of week and hour of day shall be represented by categorical data. "
   ]
  },
  {
   "cell_type": "markdown",
   "metadata": {},
   "source": [
    "### Creating a new dataframe with days of week and hour-of-day columns"
   ]
  },
  {
   "cell_type": "code",
   "execution_count": 26,
   "metadata": {},
   "outputs": [],
   "source": [
    "NUM_RECORDS = 20000"
   ]
  },
  {
   "cell_type": "code",
   "execution_count": 27,
   "metadata": {},
   "outputs": [],
   "source": [
    "# create a function of x that returns random samples around a constant, if the hour of week \n",
    "conditions = np.array([\n",
    "    (0, 18), (0, 19), (0, 20), (0, 21), # Mondays\n",
    "    (1, 18), (1, 19), (1, 20), (1, 21), # Tuesdays\n",
    "    (2, 18), (2, 19), (2, 20), (2, 21), # Wednesdays\n",
    "    # closed on Thursdays\n",
    "    (4, 14), (4, 15), (4, 16),          # Fridays\n",
    "    (5, 14), (5, 15), (5, 16)           # Saturdays\n",
    "    # closed on Sundays\n",
    "    ])\n",
    "\n",
    "def make_noisy_amplitude_function(amplitude):\n",
    "    def _f(c1, c2):\n",
    "        zipped = zip(c1,c2)\n",
    "        res = array_in(zipped, conditions)        \n",
    "        return res * (np.random.normal( 0 * res, .2 ) + amplitude)\n",
    "    return _f"
   ]
  },
  {
   "cell_type": "code",
   "execution_count": 28,
   "metadata": {},
   "outputs": [],
   "source": [
    "def create_data_frame_v2(size, amplitude=5.0):\n",
    "    x_data = np.random.uniform(high=5, low=-5, size=size)\n",
    "    y_data = np.random.uniform(high=5, low=-5, size=size)\n",
    "    dow_data = np.random.randint(7, size=size)\n",
    "    hod_data = np.random.randint(24, size=size)\n",
    "    f_data = f_a(x_data) + f_b(y_data)\n",
    "    \n",
    "    f_special = make_noisy_amplitude_function(amplitude)(dow_data, hod_data)\n",
    "\n",
    "    f_total = f_data + f_special\n",
    "    f_perf = -.5 * y_data - 1.5 + 2 * x_data + 1\n",
    "    df = pd.DataFrame({'x': x_data, 'y': y_data, 'dow': dow_data, 'hod': hod_data, 'f_orig': f_data, 'p': f_perf, 'special': f_special, 'f': f_total})\n",
    "    return df"
   ]
  },
  {
   "cell_type": "code",
   "execution_count": 29,
   "metadata": {},
   "outputs": [
    {
     "data": {
      "text/html": [
       "<div>\n",
       "<table border=\"1\" class=\"dataframe\">\n",
       "  <thead>\n",
       "    <tr style=\"text-align: right;\">\n",
       "      <th></th>\n",
       "      <th>dow</th>\n",
       "      <th>f</th>\n",
       "      <th>f_orig</th>\n",
       "      <th>hod</th>\n",
       "      <th>p</th>\n",
       "      <th>special</th>\n",
       "      <th>x</th>\n",
       "      <th>y</th>\n",
       "    </tr>\n",
       "  </thead>\n",
       "  <tbody>\n",
       "    <tr>\n",
       "      <th>0</th>\n",
       "      <td>1</td>\n",
       "      <td>2.623160</td>\n",
       "      <td>2.623160</td>\n",
       "      <td>14</td>\n",
       "      <td>3.707175</td>\n",
       "      <td>0.000000</td>\n",
       "      <td>2.334754</td>\n",
       "      <td>0.924666</td>\n",
       "    </tr>\n",
       "    <tr>\n",
       "      <th>1</th>\n",
       "      <td>3</td>\n",
       "      <td>-7.738056</td>\n",
       "      <td>-7.738056</td>\n",
       "      <td>11</td>\n",
       "      <td>-6.932339</td>\n",
       "      <td>0.000000</td>\n",
       "      <td>-2.998904</td>\n",
       "      <td>0.869061</td>\n",
       "    </tr>\n",
       "    <tr>\n",
       "      <th>2</th>\n",
       "      <td>2</td>\n",
       "      <td>-5.412227</td>\n",
       "      <td>-5.412227</td>\n",
       "      <td>16</td>\n",
       "      <td>-2.943108</td>\n",
       "      <td>0.000000</td>\n",
       "      <td>-1.367813</td>\n",
       "      <td>-0.585037</td>\n",
       "    </tr>\n",
       "    <tr>\n",
       "      <th>3</th>\n",
       "      <td>2</td>\n",
       "      <td>6.976065</td>\n",
       "      <td>6.976065</td>\n",
       "      <td>6</td>\n",
       "      <td>4.723307</td>\n",
       "      <td>0.000000</td>\n",
       "      <td>3.371272</td>\n",
       "      <td>3.038475</td>\n",
       "    </tr>\n",
       "    <tr>\n",
       "      <th>4</th>\n",
       "      <td>0</td>\n",
       "      <td>-0.422939</td>\n",
       "      <td>-0.422939</td>\n",
       "      <td>23</td>\n",
       "      <td>-0.453791</td>\n",
       "      <td>0.000000</td>\n",
       "      <td>-0.929382</td>\n",
       "      <td>-3.809946</td>\n",
       "    </tr>\n",
       "    <tr>\n",
       "      <th>5</th>\n",
       "      <td>2</td>\n",
       "      <td>0.978455</td>\n",
       "      <td>0.978455</td>\n",
       "      <td>6</td>\n",
       "      <td>0.050830</td>\n",
       "      <td>0.000000</td>\n",
       "      <td>-0.164551</td>\n",
       "      <td>-1.759865</td>\n",
       "    </tr>\n",
       "    <tr>\n",
       "      <th>6</th>\n",
       "      <td>2</td>\n",
       "      <td>6.639236</td>\n",
       "      <td>6.639236</td>\n",
       "      <td>3</td>\n",
       "      <td>5.847419</td>\n",
       "      <td>0.000000</td>\n",
       "      <td>4.353026</td>\n",
       "      <td>4.717266</td>\n",
       "    </tr>\n",
       "    <tr>\n",
       "      <th>7</th>\n",
       "      <td>6</td>\n",
       "      <td>5.224704</td>\n",
       "      <td>5.224704</td>\n",
       "      <td>7</td>\n",
       "      <td>5.139870</td>\n",
       "      <td>0.000000</td>\n",
       "      <td>2.927844</td>\n",
       "      <td>0.431637</td>\n",
       "    </tr>\n",
       "    <tr>\n",
       "      <th>8</th>\n",
       "      <td>0</td>\n",
       "      <td>-5.164713</td>\n",
       "      <td>-5.164713</td>\n",
       "      <td>4</td>\n",
       "      <td>-5.621998</td>\n",
       "      <td>0.000000</td>\n",
       "      <td>-3.523865</td>\n",
       "      <td>-3.851466</td>\n",
       "    </tr>\n",
       "    <tr>\n",
       "      <th>9</th>\n",
       "      <td>3</td>\n",
       "      <td>-5.362787</td>\n",
       "      <td>-5.362787</td>\n",
       "      <td>9</td>\n",
       "      <td>-6.322708</td>\n",
       "      <td>0.000000</td>\n",
       "      <td>-3.119103</td>\n",
       "      <td>-0.830995</td>\n",
       "    </tr>\n",
       "    <tr>\n",
       "      <th>10</th>\n",
       "      <td>3</td>\n",
       "      <td>-0.903042</td>\n",
       "      <td>-0.903042</td>\n",
       "      <td>11</td>\n",
       "      <td>-0.323034</td>\n",
       "      <td>0.000000</td>\n",
       "      <td>-0.346279</td>\n",
       "      <td>-1.739048</td>\n",
       "    </tr>\n",
       "    <tr>\n",
       "      <th>11</th>\n",
       "      <td>2</td>\n",
       "      <td>8.153559</td>\n",
       "      <td>8.153559</td>\n",
       "      <td>2</td>\n",
       "      <td>9.565386</td>\n",
       "      <td>0.000000</td>\n",
       "      <td>4.719006</td>\n",
       "      <td>-1.254748</td>\n",
       "    </tr>\n",
       "    <tr>\n",
       "      <th>12</th>\n",
       "      <td>5</td>\n",
       "      <td>7.072501</td>\n",
       "      <td>-2.966765</td>\n",
       "      <td>15</td>\n",
       "      <td>-5.093116</td>\n",
       "      <td>10.039265</td>\n",
       "      <td>-3.130059</td>\n",
       "      <td>-3.334004</td>\n",
       "    </tr>\n",
       "    <tr>\n",
       "      <th>13</th>\n",
       "      <td>0</td>\n",
       "      <td>-3.997744</td>\n",
       "      <td>-3.997744</td>\n",
       "      <td>10</td>\n",
       "      <td>-4.316687</td>\n",
       "      <td>0.000000</td>\n",
       "      <td>-1.827828</td>\n",
       "      <td>0.322061</td>\n",
       "    </tr>\n",
       "    <tr>\n",
       "      <th>14</th>\n",
       "      <td>0</td>\n",
       "      <td>18.679755</td>\n",
       "      <td>8.610573</td>\n",
       "      <td>21</td>\n",
       "      <td>7.319883</td>\n",
       "      <td>10.069182</td>\n",
       "      <td>4.182971</td>\n",
       "      <td>1.092118</td>\n",
       "    </tr>\n",
       "    <tr>\n",
       "      <th>15</th>\n",
       "      <td>3</td>\n",
       "      <td>-4.408151</td>\n",
       "      <td>-4.408151</td>\n",
       "      <td>22</td>\n",
       "      <td>-3.259227</td>\n",
       "      <td>0.000000</td>\n",
       "      <td>-2.513806</td>\n",
       "      <td>-4.536769</td>\n",
       "    </tr>\n",
       "    <tr>\n",
       "      <th>16</th>\n",
       "      <td>0</td>\n",
       "      <td>8.127995</td>\n",
       "      <td>8.127995</td>\n",
       "      <td>10</td>\n",
       "      <td>7.941987</td>\n",
       "      <td>0.000000</td>\n",
       "      <td>4.738702</td>\n",
       "      <td>2.070832</td>\n",
       "    </tr>\n",
       "    <tr>\n",
       "      <th>17</th>\n",
       "      <td>3</td>\n",
       "      <td>9.714008</td>\n",
       "      <td>9.714008</td>\n",
       "      <td>14</td>\n",
       "      <td>8.732001</td>\n",
       "      <td>0.000000</td>\n",
       "      <td>3.964324</td>\n",
       "      <td>-2.606707</td>\n",
       "    </tr>\n",
       "    <tr>\n",
       "      <th>18</th>\n",
       "      <td>1</td>\n",
       "      <td>6.046523</td>\n",
       "      <td>6.046523</td>\n",
       "      <td>6</td>\n",
       "      <td>4.318532</td>\n",
       "      <td>0.000000</td>\n",
       "      <td>2.072575</td>\n",
       "      <td>-1.346764</td>\n",
       "    </tr>\n",
       "    <tr>\n",
       "      <th>19</th>\n",
       "      <td>0</td>\n",
       "      <td>11.784260</td>\n",
       "      <td>1.740800</td>\n",
       "      <td>20</td>\n",
       "      <td>1.419518</td>\n",
       "      <td>10.043461</td>\n",
       "      <td>1.233262</td>\n",
       "      <td>1.094014</td>\n",
       "    </tr>\n",
       "  </tbody>\n",
       "</table>\n",
       "</div>"
      ],
      "text/plain": [
       "    dow          f    f_orig  hod         p    special         x         y\n",
       "0     1   2.623160  2.623160   14  3.707175   0.000000  2.334754  0.924666\n",
       "1     3  -7.738056 -7.738056   11 -6.932339   0.000000 -2.998904  0.869061\n",
       "2     2  -5.412227 -5.412227   16 -2.943108   0.000000 -1.367813 -0.585037\n",
       "3     2   6.976065  6.976065    6  4.723307   0.000000  3.371272  3.038475\n",
       "4     0  -0.422939 -0.422939   23 -0.453791   0.000000 -0.929382 -3.809946\n",
       "5     2   0.978455  0.978455    6  0.050830   0.000000 -0.164551 -1.759865\n",
       "6     2   6.639236  6.639236    3  5.847419   0.000000  4.353026  4.717266\n",
       "7     6   5.224704  5.224704    7  5.139870   0.000000  2.927844  0.431637\n",
       "8     0  -5.164713 -5.164713    4 -5.621998   0.000000 -3.523865 -3.851466\n",
       "9     3  -5.362787 -5.362787    9 -6.322708   0.000000 -3.119103 -0.830995\n",
       "10    3  -0.903042 -0.903042   11 -0.323034   0.000000 -0.346279 -1.739048\n",
       "11    2   8.153559  8.153559    2  9.565386   0.000000  4.719006 -1.254748\n",
       "12    5   7.072501 -2.966765   15 -5.093116  10.039265 -3.130059 -3.334004\n",
       "13    0  -3.997744 -3.997744   10 -4.316687   0.000000 -1.827828  0.322061\n",
       "14    0  18.679755  8.610573   21  7.319883  10.069182  4.182971  1.092118\n",
       "15    3  -4.408151 -4.408151   22 -3.259227   0.000000 -2.513806 -4.536769\n",
       "16    0   8.127995  8.127995   10  7.941987   0.000000  4.738702  2.070832\n",
       "17    3   9.714008  9.714008   14  8.732001   0.000000  3.964324 -2.606707\n",
       "18    1   6.046523  6.046523    6  4.318532   0.000000  2.072575 -1.346764\n",
       "19    0  11.784260  1.740800   20  1.419518  10.043461  1.233262  1.094014"
      ]
     },
     "execution_count": 29,
     "metadata": {},
     "output_type": "execute_result"
    }
   ],
   "source": [
    "df_train_v2 = create_data_frame_v2(size = NUM_RECORDS, amplitude=10.0)\n",
    "df_train_v2[:20]"
   ]
  },
  {
   "cell_type": "markdown",
   "metadata": {},
   "source": [
    "---\n",
    "### Create a data set suitable for training\n",
    "In the following, our assumption that it is particular hours on particular days makes this problem a candidate for the categorical features 'hour of day' and 'day of week'. Hence, in a first step, let's take those two features into account. For that, we have to one-hot encode those features."
   ]
  },
  {
   "cell_type": "code",
   "execution_count": 30,
   "metadata": {},
   "outputs": [
    {
     "data": {
      "text/plain": [
       "array([[0., 0., 0., 0., 1., 0., 0., 0., 1., 0.],\n",
       "       [1., 0., 0., 0., 0., 0., 0., 0., 0., 0.],\n",
       "       [0., 0., 1., 1., 0., 1., 1., 0., 0., 0.],\n",
       "       [0., 1., 0., 0., 0., 0., 0., 0., 0., 1.],\n",
       "       [0., 0., 0., 0., 0., 0., 0., 0., 0., 0.],\n",
       "       [0., 0., 0., 0., 0., 0., 0., 0., 0., 0.],\n",
       "       [0., 0., 0., 0., 0., 0., 0., 1., 0., 0.]])"
      ]
     },
     "execution_count": 30,
     "metadata": {},
     "output_type": "execute_result"
    }
   ],
   "source": [
    "ordinals = list(df_train_v2['dow'])\n",
    "one_hot_dows = np.transpose(np.eye(7)[ordinals])\n",
    "one_hot_dows[:7,:10]"
   ]
  },
  {
   "cell_type": "code",
   "execution_count": 31,
   "metadata": {},
   "outputs": [],
   "source": [
    "ordinals = list(df_train_v2['hod'])\n",
    "one_hot_hods = np.transpose(np.eye(24)[ordinals])"
   ]
  },
  {
   "cell_type": "code",
   "execution_count": 32,
   "metadata": {},
   "outputs": [
    {
     "name": "stdout",
     "output_type": "stream",
     "text": [
      "shapes: (2, 20000) + (7, 20000) + (24, 20000) = (33, 20000)\n"
     ]
    }
   ],
   "source": [
    "input_numerical = [list(df_train_v2['x']), list(df_train_v2['y'])]\n",
    "lbls_data = [list(df_train_v2['f'])]\n",
    "input_data = np.append(input_numerical, one_hot_dows, axis=0)\n",
    "input_data = np.append(input_data, one_hot_hods, axis=0)\n",
    "print(\"shapes: {} + {} + {} = {}\".format(np.shape(input_numerical), np.shape(one_hot_dows), np.shape(one_hot_hods), np.shape(input_data)))"
   ]
  },
  {
   "cell_type": "markdown",
   "metadata": {},
   "source": [
    "Now we have 33 columns, 31 of which only sparsely populated. That's ok for the time being."
   ]
  },
  {
   "cell_type": "code",
   "execution_count": 33,
   "metadata": {},
   "outputs": [
    {
     "data": {
      "text/plain": [
       "array([[ 2.33475424, -2.99890442, -1.36781304,  3.3712725 ],\n",
       "       [ 0.92466645,  0.86906099, -0.58503708,  3.03847542],\n",
       "       [ 0.        ,  0.        ,  0.        ,  0.        ],\n",
       "       [ 1.        ,  0.        ,  0.        ,  0.        ],\n",
       "       [ 0.        ,  0.        ,  1.        ,  1.        ],\n",
       "       [ 0.        ,  1.        ,  0.        ,  0.        ],\n",
       "       [ 0.        ,  0.        ,  0.        ,  0.        ],\n",
       "       [ 0.        ,  0.        ,  0.        ,  0.        ],\n",
       "       [ 0.        ,  0.        ,  0.        ,  0.        ],\n",
       "       [ 0.        ,  0.        ,  0.        ,  0.        ],\n",
       "       [ 0.        ,  0.        ,  0.        ,  0.        ],\n",
       "       [ 0.        ,  0.        ,  0.        ,  0.        ],\n",
       "       [ 0.        ,  0.        ,  0.        ,  0.        ],\n",
       "       [ 0.        ,  0.        ,  0.        ,  0.        ],\n",
       "       [ 0.        ,  0.        ,  0.        ,  0.        ],\n",
       "       [ 0.        ,  0.        ,  0.        ,  1.        ],\n",
       "       [ 0.        ,  0.        ,  0.        ,  0.        ],\n",
       "       [ 0.        ,  0.        ,  0.        ,  0.        ],\n",
       "       [ 0.        ,  0.        ,  0.        ,  0.        ],\n",
       "       [ 0.        ,  0.        ,  0.        ,  0.        ],\n",
       "       [ 0.        ,  1.        ,  0.        ,  0.        ],\n",
       "       [ 0.        ,  0.        ,  0.        ,  0.        ],\n",
       "       [ 0.        ,  0.        ,  0.        ,  0.        ],\n",
       "       [ 1.        ,  0.        ,  0.        ,  0.        ],\n",
       "       [ 0.        ,  0.        ,  0.        ,  0.        ],\n",
       "       [ 0.        ,  0.        ,  1.        ,  0.        ],\n",
       "       [ 0.        ,  0.        ,  0.        ,  0.        ],\n",
       "       [ 0.        ,  0.        ,  0.        ,  0.        ],\n",
       "       [ 0.        ,  0.        ,  0.        ,  0.        ],\n",
       "       [ 0.        ,  0.        ,  0.        ,  0.        ],\n",
       "       [ 0.        ,  0.        ,  0.        ,  0.        ],\n",
       "       [ 0.        ,  0.        ,  0.        ,  0.        ],\n",
       "       [ 0.        ,  0.        ,  0.        ,  0.        ]])"
      ]
     },
     "execution_count": 33,
     "metadata": {},
     "output_type": "execute_result"
    }
   ],
   "source": [
    "input_data[:,:4]"
   ]
  },
  {
   "cell_type": "markdown",
   "metadata": {},
   "source": [
    "---\n",
    "Hereafter, we'll use create_input_data from the tools file to achieve just that."
   ]
  },
  {
   "cell_type": "code",
   "execution_count": 34,
   "metadata": {},
   "outputs": [],
   "source": [
    "import inspect"
   ]
  },
  {
   "cell_type": "code",
   "execution_count": 35,
   "metadata": {},
   "outputs": [
    {
     "name": "stdout",
     "output_type": "stream",
     "text": [
      "def create_input_data(df, select_feats=[], oh_feats={}, cross_feats=[]):    \n",
      "    \"\"\"\n",
      "    create a list of input columns from pandas raw data\n",
      "    df: a pandas dataframe containing raw input data\n",
      "    select_feats: an array containing the names of features to be selected without transformation\n",
      "    oh_feats: a dictionary containing the names and sizes of discrete numerical features that are to be one-hot encoded\n",
      "    cross_feats: a list of oh_feats consisting of two discrete features to cross\n",
      "    \"\"\"\n",
      "\n",
      "    def _safe_append(l, r):\n",
      "        if l == [] or l is None:\n",
      "            return r\n",
      "        else:\n",
      "            return np.append(l, r, axis=0)\n",
      "\n",
      "    res = [list(df[n]) for n in select_feats]\n",
      "    \n",
      "    for k in oh_feats:\n",
      "        res = _safe_append(res, one_hot(df[k], oh_feats[k]))\n",
      "\n",
      "    for c in cross_feats:\n",
      "        keys = list(c.keys())\n",
      "        keys.sort()\n",
      "        \n",
      "        lk, ls = keys[0], c[keys[0]]\n",
      "        rk, rs = keys[1], c[keys[1]]\n",
      "        lhs = one_hot(df[lk], ls)\n",
      "        rhs = one_hot(df[rk], rs)\n",
      "        cross = [(lhs[:,i].reshape(ls,1) * rhs[:,i].reshape(1,rs)).reshape(rs*ls) for i in range(len(df))]\n",
      "        cross = np.transpose(cross)\n",
      "        res = _safe_append(res, cross)\n",
      "\n",
      "    return res\n",
      "\n"
     ]
    }
   ],
   "source": [
    "print(inspect.getsource(create_input_data))"
   ]
  },
  {
   "cell_type": "markdown",
   "metadata": {},
   "source": [
    "---\n",
    "### Create the network and start the training"
   ]
  },
  {
   "cell_type": "markdown",
   "metadata": {},
   "source": [
    "We use once more our self-made linear regressor. Below is the code that we hade previously, only this time augmented by the 24 + 7 new input features from the categorical columns. Observe that we train a long time with a lot more data, and the training loss still doesn't improve much."
   ]
  },
  {
   "cell_type": "code",
   "execution_count": 36,
   "metadata": {},
   "outputs": [],
   "source": [
    "NUMERICAL_DIM = 2 # namely x and y\n",
    "WEEKDAY_DIM = 7 # obviously\n",
    "HOUR_OF_DAY_DIM = 24\n",
    "X_DIM = NUMERICAL_DIM + WEEKDAY_DIM + HOUR_OF_DAY_DIM"
   ]
  },
  {
   "cell_type": "code",
   "execution_count": 37,
   "metadata": {},
   "outputs": [
    {
     "name": "stdout",
     "output_type": "stream",
     "text": [
      "- Loss: 8.168704986572266"
     ]
    },
    {
     "data": {
      "text/plain": [
       "8.168705"
      ]
     },
     "execution_count": 37,
     "metadata": {},
     "output_type": "execute_result"
    }
   ],
   "source": [
    "linear2 = Linear(X_DIM, .01)\n",
    "linear2.train(sess, input_data, lbls_data, 5000)"
   ]
  },
  {
   "cell_type": "markdown",
   "metadata": {},
   "source": [
    "That loss is significantly larger than the one that we experienced in the simple case. So either the signal/noise ratio is worse (we know it isn't) or there's some signal in the data that we don't recognize yet. "
   ]
  },
  {
   "cell_type": "markdown",
   "metadata": {},
   "source": [
    "---\n",
    "Sometimes the distribution of the prediction errors reveals additional facts of the problems that our network has. Usually we'll need large enough samples to allow for sufficient statistics."
   ]
  },
  {
   "cell_type": "code",
   "execution_count": 38,
   "metadata": {},
   "outputs": [
    {
     "data": {
      "text/html": [
       "<div>\n",
       "<table border=\"1\" class=\"dataframe\">\n",
       "  <thead>\n",
       "    <tr style=\"text-align: right;\">\n",
       "      <th></th>\n",
       "      <th>f</th>\n",
       "      <th>p</th>\n",
       "      <th>predicted</th>\n",
       "      <th>special</th>\n",
       "    </tr>\n",
       "  </thead>\n",
       "  <tbody>\n",
       "    <tr>\n",
       "      <th>0</th>\n",
       "      <td>5.885633</td>\n",
       "      <td>7.407261</td>\n",
       "      <td>7.683997</td>\n",
       "      <td>0.0</td>\n",
       "    </tr>\n",
       "    <tr>\n",
       "      <th>1</th>\n",
       "      <td>2.649635</td>\n",
       "      <td>0.875752</td>\n",
       "      <td>-0.217967</td>\n",
       "      <td>0.0</td>\n",
       "    </tr>\n",
       "    <tr>\n",
       "      <th>2</th>\n",
       "      <td>2.843319</td>\n",
       "      <td>2.470205</td>\n",
       "      <td>3.217860</td>\n",
       "      <td>0.0</td>\n",
       "    </tr>\n",
       "    <tr>\n",
       "      <th>3</th>\n",
       "      <td>1.663954</td>\n",
       "      <td>2.903841</td>\n",
       "      <td>3.460528</td>\n",
       "      <td>0.0</td>\n",
       "    </tr>\n",
       "    <tr>\n",
       "      <th>4</th>\n",
       "      <td>6.265493</td>\n",
       "      <td>6.178854</td>\n",
       "      <td>9.367396</td>\n",
       "      <td>0.0</td>\n",
       "    </tr>\n",
       "    <tr>\n",
       "      <th>5</th>\n",
       "      <td>-8.369458</td>\n",
       "      <td>-8.028739</td>\n",
       "      <td>-7.299976</td>\n",
       "      <td>0.0</td>\n",
       "    </tr>\n",
       "    <tr>\n",
       "      <th>6</th>\n",
       "      <td>12.395462</td>\n",
       "      <td>9.504584</td>\n",
       "      <td>8.363781</td>\n",
       "      <td>0.0</td>\n",
       "    </tr>\n",
       "    <tr>\n",
       "      <th>7</th>\n",
       "      <td>5.888909</td>\n",
       "      <td>6.983145</td>\n",
       "      <td>7.216205</td>\n",
       "      <td>0.0</td>\n",
       "    </tr>\n",
       "    <tr>\n",
       "      <th>8</th>\n",
       "      <td>2.535154</td>\n",
       "      <td>1.950408</td>\n",
       "      <td>0.855240</td>\n",
       "      <td>0.0</td>\n",
       "    </tr>\n",
       "    <tr>\n",
       "      <th>9</th>\n",
       "      <td>-1.707397</td>\n",
       "      <td>-3.214684</td>\n",
       "      <td>1.280937</td>\n",
       "      <td>0.0</td>\n",
       "    </tr>\n",
       "  </tbody>\n",
       "</table>\n",
       "</div>"
      ],
      "text/plain": [
       "           f         p  predicted  special\n",
       "0   5.885633  7.407261   7.683997      0.0\n",
       "1   2.649635  0.875752  -0.217967      0.0\n",
       "2   2.843319  2.470205   3.217860      0.0\n",
       "3   1.663954  2.903841   3.460528      0.0\n",
       "4   6.265493  6.178854   9.367396      0.0\n",
       "5  -8.369458 -8.028739  -7.299976      0.0\n",
       "6  12.395462  9.504584   8.363781      0.0\n",
       "7   5.888909  6.983145   7.216205      0.0\n",
       "8   2.535154  1.950408   0.855240      0.0\n",
       "9  -1.707397 -3.214684   1.280937      0.0"
      ]
     },
     "execution_count": 38,
     "metadata": {},
     "output_type": "execute_result"
    }
   ],
   "source": [
    "df_test_v2 = create_data_frame_v2(size = 20000, amplitude=10)\n",
    "test_data = create_input_data(df=df_test_v2, select_feats=['x','y'], oh_feats={'dow': 7, 'hod': 24})\n",
    "\n",
    "pred = linear2.predict(x_data=test_data, sess=sess)\n",
    "df_test_v2['predicted'] = pred[0]\n",
    "df_test_v2[['f', 'p', 'predicted', 'special']][:10]"
   ]
  },
  {
   "cell_type": "code",
   "execution_count": 39,
   "metadata": {},
   "outputs": [
    {
     "data": {
      "image/png": "[encoded data removed]",
      "text/plain": [
       "<matplotlib.figure.Figure at 0x7fc1487da5f8>"
      ]
     },
     "metadata": {},
     "output_type": "display_data"
    }
   ],
   "source": [
    "df_errors = df_test_v2['predicted'] - df_test_v2['f']\n",
    "df_errors.plot.hist(bins=100);"
   ]
  },
  {
   "cell_type": "markdown",
   "metadata": {},
   "source": [
    "We can see from the error distribution that there's some really interesting stuff going on. This is almost certainly a hint that our data contains structure that we didn't discover yet. This distribution is telling: For the majority of the data - the large bump - we have a tendency to over-predict. For some minority though we significantly under-predict. This is a typical sign that the linear regression is finding a weak compromise between two distinct and somehow unrelated distributions that make up our total input data.\n",
    "\n",
    "Obviously, although or network actually had all the information it needed, simply adding the categorical features didn't allow it to learn the specific characteristic, namely the \"and\" relationship like in: \"The humidity is higher, when it's Wednesday *and* it's 18:00h\". \n",
    "\n",
    "Feature crossings and embeddings to the rescue!"
   ]
  },
  {
   "cell_type": "markdown",
   "metadata": {},
   "source": [
    "## Feature Crossings"
   ]
  },
  {
   "cell_type": "markdown",
   "metadata": {},
   "source": [
    "Let's look at an example: This is Wednesday, 08:00h:"
   ]
  },
  {
   "cell_type": "code",
   "execution_count": 40,
   "metadata": {},
   "outputs": [
    {
     "data": {
      "text/plain": [
       "(array([[0, 0, 1, 0, 0, 0, 0]]),\n",
       " array([[0., 0., 0., 0., 0., 0., 0., 0., 1., 0., 0., 0., 0., 0., 0., 0.,\n",
       "         0., 0., 0., 0., 0., 0., 0., 0.]]))"
      ]
     },
     "execution_count": 40,
     "metadata": {},
     "output_type": "execute_result"
    }
   ],
   "source": [
    "wednesday = np.array([[0,0,1,0,0,0,0]])\n",
    "at_0800 = np.zeros((1,24))\n",
    "at_0800[0,8] = 1\n",
    "wednesday, at_0800"
   ]
  },
  {
   "cell_type": "markdown",
   "metadata": {},
   "source": [
    "Crossing categorical features $a$ and $b$ means: Put a 1 only where both $a$ and $b$ have a one. Put zeros anywhere else. Python broadcasting helps us achieve that with ease."
   ]
  },
  {
   "cell_type": "code",
   "execution_count": 41,
   "metadata": {},
   "outputs": [
    {
     "data": {
      "text/plain": [
       "array([[0., 0., 0., 0., 0., 0., 0., 0., 0., 0., 0., 0., 0., 0., 0., 0.,\n",
       "        0., 0., 0., 0., 0., 0., 0., 0.],\n",
       "       [0., 0., 0., 0., 0., 0., 0., 0., 0., 0., 0., 0., 0., 0., 0., 0.,\n",
       "        0., 0., 0., 0., 0., 0., 0., 0.],\n",
       "       [0., 0., 0., 0., 0., 0., 0., 0., 1., 0., 0., 0., 0., 0., 0., 0.,\n",
       "        0., 0., 0., 0., 0., 0., 0., 0.],\n",
       "       [0., 0., 0., 0., 0., 0., 0., 0., 0., 0., 0., 0., 0., 0., 0., 0.,\n",
       "        0., 0., 0., 0., 0., 0., 0., 0.],\n",
       "       [0., 0., 0., 0., 0., 0., 0., 0., 0., 0., 0., 0., 0., 0., 0., 0.,\n",
       "        0., 0., 0., 0., 0., 0., 0., 0.],\n",
       "       [0., 0., 0., 0., 0., 0., 0., 0., 0., 0., 0., 0., 0., 0., 0., 0.,\n",
       "        0., 0., 0., 0., 0., 0., 0., 0.],\n",
       "       [0., 0., 0., 0., 0., 0., 0., 0., 0., 0., 0., 0., 0., 0., 0., 0.,\n",
       "        0., 0., 0., 0., 0., 0., 0., 0.]])"
      ]
     },
     "execution_count": 41,
     "metadata": {},
     "output_type": "execute_result"
    }
   ],
   "source": [
    "wednesday_at_0800 = wednesday.T * at_0800\n",
    "wednesday_at_0800"
   ]
  },
  {
   "cell_type": "code",
   "execution_count": 42,
   "metadata": {},
   "outputs": [
    {
     "data": {
      "text/plain": [
       "True"
      ]
     },
     "execution_count": 42,
     "metadata": {},
     "output_type": "execute_result"
    }
   ],
   "source": [
    "cross = np.reshape(wednesday_at_0800, newshape=(1,-1))\n",
    "np.argmax(cross) == 2 * 24 + 8 # Wed * 24 + at_0800"
   ]
  },
  {
   "cell_type": "markdown",
   "metadata": {},
   "source": [
    "It gets a little more involved when dealing with a batch of feature pairs as you can see in the example below:"
   ]
  },
  {
   "cell_type": "code",
   "execution_count": 43,
   "metadata": {},
   "outputs": [
    {
     "data": {
      "text/plain": [
       "(array([[0, 0, 1, 0, 0, 0, 0],\n",
       "        [0, 0, 0, 0, 0, 1, 0]]),\n",
       " array([[0., 0., 0., 0., 0., 0., 0., 0., 1., 0., 0., 0., 0., 0., 0., 0.,\n",
       "         0., 0., 0., 0., 0., 0., 0., 0.],\n",
       "        [0., 0., 0., 0., 0., 0., 0., 0., 0., 0., 0., 0., 0., 0., 0., 0.,\n",
       "         1., 0., 0., 0., 0., 0., 0., 0.]]))"
      ]
     },
     "execution_count": 43,
     "metadata": {},
     "output_type": "execute_result"
    }
   ],
   "source": [
    "dows = np.array([[0,0,1,0,0,0,0],[0,0,0,0,0,1,0]])\n",
    "hods = np.zeros((2,24))\n",
    "hods[0,8] = 1\n",
    "hods[1,16] = 1\n",
    "dows, hods"
   ]
  },
  {
   "cell_type": "code",
   "execution_count": 44,
   "metadata": {},
   "outputs": [
    {
     "data": {
      "text/plain": [
       "[array([0., 0., 0., 0., 0., 0., 0., 0., 0., 0., 0., 0., 0., 0., 0., 0., 0.,\n",
       "        0., 0., 0., 0., 0., 0., 0., 0., 0., 0., 0., 0., 0., 0., 0., 0., 0.,\n",
       "        0., 0., 0., 0., 0., 0., 0., 0., 0., 0., 0., 0., 0., 0., 0., 0., 0.,\n",
       "        0., 0., 0., 0., 0., 1., 0., 0., 0., 0., 0., 0., 0., 0., 0., 0., 0.,\n",
       "        0., 0., 0., 0., 0., 0., 0., 0., 0., 0., 0., 0., 0., 0., 0., 0., 0.,\n",
       "        0., 0., 0., 0., 0., 0., 0., 0., 0., 0., 0., 0., 0., 0., 0., 0., 0.,\n",
       "        0., 0., 0., 0., 0., 0., 0., 0., 0., 0., 0., 0., 0., 0., 0., 0., 0.,\n",
       "        0., 0., 0., 0., 0., 0., 0., 0., 0., 0., 0., 0., 0., 0., 0., 0., 0.,\n",
       "        0., 0., 0., 0., 0., 0., 0., 0., 0., 0., 0., 0., 0., 0., 0., 0., 0.,\n",
       "        0., 0., 0., 0., 0., 0., 0., 0., 0., 0., 0., 0., 0., 0., 0.]),\n",
       " array([0., 0., 0., 0., 0., 0., 0., 0., 0., 0., 0., 0., 0., 0., 0., 0., 0.,\n",
       "        0., 0., 0., 0., 0., 0., 0., 0., 0., 0., 0., 0., 0., 0., 0., 0., 0.,\n",
       "        0., 0., 0., 0., 0., 0., 0., 0., 0., 0., 0., 0., 0., 0., 0., 0., 0.,\n",
       "        0., 0., 0., 0., 0., 0., 0., 0., 0., 0., 0., 0., 0., 0., 0., 0., 0.,\n",
       "        0., 0., 0., 0., 0., 0., 0., 0., 0., 0., 0., 0., 0., 0., 0., 0., 0.,\n",
       "        0., 0., 0., 0., 0., 0., 0., 0., 0., 0., 0., 0., 0., 0., 0., 0., 0.,\n",
       "        0., 0., 0., 0., 0., 0., 0., 0., 0., 0., 0., 0., 0., 0., 0., 0., 0.,\n",
       "        0., 0., 0., 0., 0., 0., 0., 0., 0., 0., 0., 0., 0., 0., 0., 0., 0.,\n",
       "        1., 0., 0., 0., 0., 0., 0., 0., 0., 0., 0., 0., 0., 0., 0., 0., 0.,\n",
       "        0., 0., 0., 0., 0., 0., 0., 0., 0., 0., 0., 0., 0., 0., 0.])]"
      ]
     },
     "execution_count": 44,
     "metadata": {},
     "output_type": "execute_result"
    }
   ],
   "source": [
    "[(dows[i].reshape(7,1) * hods[i].reshape(1,24)).reshape(168) for i in range(2)]"
   ]
  },
  {
   "cell_type": "markdown",
   "metadata": {},
   "source": [
    "---\n",
    "Now, instead of feeding both features independently we feed the feature cross into our linear regression model. Note that we need a lot of data to have sufficient statistics for each hour of the week"
   ]
  },
  {
   "cell_type": "code",
   "execution_count": 45,
   "metadata": {},
   "outputs": [
    {
     "data": {
      "text/plain": [
       "((170, 20000), 20000)"
      ]
     },
     "execution_count": 45,
     "metadata": {},
     "output_type": "execute_result"
    }
   ],
   "source": [
    "NUM_RECORDS = 20000\n",
    "\n",
    "df_train_v3 = create_data_frame_v2(size = NUM_RECORDS, amplitude=10.0)\n",
    "input_data_v3 = create_input_data(df=df_train_v3, select_feats=['x', 'y'], cross_feats=[{'dow': 7, 'hod': 24}])    \n",
    "lbls_data_v3 = [list(df_train_v3['f'])]\n",
    "input_data_v3.shape, len(lbls_data_v3[0])"
   ]
  },
  {
   "cell_type": "code",
   "execution_count": 46,
   "metadata": {},
   "outputs": [
    {
     "name": "stdout",
     "output_type": "stream",
     "text": [
      "- Loss: 2.0821192264556885"
     ]
    },
    {
     "data": {
      "text/plain": [
       "2.0821192"
      ]
     },
     "execution_count": 46,
     "metadata": {},
     "output_type": "execute_result"
    }
   ],
   "source": [
    "regressor_v3 = Linear(lr=.05, x_dim=170)\n",
    "regressor_v3.train(sess=sess, num_steps=4000, x_data=input_data_v3, labels_data=lbls_data_v3)"
   ]
  },
  {
   "cell_type": "markdown",
   "metadata": {},
   "source": [
    "---\n",
    "We can see that the loss function has indeed gone down dramatically. Now let's examine the error statistics on some fresh data."
   ]
  },
  {
   "cell_type": "code",
   "execution_count": 47,
   "metadata": {},
   "outputs": [
    {
     "data": {
      "image/png": "[encoded data removed]",
      "text/plain": [
       "<matplotlib.figure.Figure at 0x7fc148732160>"
      ]
     },
     "metadata": {},
     "output_type": "display_data"
    }
   ],
   "source": [
    "df_test_v3 = create_data_frame_v2(size = 20000, amplitude=10.0)\n",
    "input_data_test_v3 = create_input_data(df=df_test_v3, select_feats=['x', 'y'], cross_feats=[{'dow': 7, 'hod': 24}])    \n",
    "preds = regressor_v3.predict(sess=sess, x_data=input_data_test_v3)\n",
    "\n",
    "errors = preds[0] - df_test_v3['f']\n",
    "df_test_v3['preds'] = preds[0]\n",
    "df_test_v3['err'] = errors\n",
    "df_test_v3['err'].plot.hist(bins=100);"
   ]
  },
  {
   "cell_type": "markdown",
   "metadata": {},
   "source": [
    "Still, there's some subtle asymmetry in the error distribution, depending on how long you trained, but we can see that the characteristic second bump has disappeared. When we look at the weights associated with the 168 different hours of a week, we spot a few larger positive values amongst otherwise smaller negative values."
   ]
  },
  {
   "cell_type": "code",
   "execution_count": 48,
   "metadata": {},
   "outputs": [
    {
     "data": {
      "text/plain": [
       "array([-0.9416599 , -1.150707  , -1.024278  , -1.0384841 , -1.1588407 ,\n",
       "       -1.0064317 , -0.93671495, -1.0196651 , -0.78946966, -0.95432585,\n",
       "       -1.1265155 , -1.0827231 , -0.73885965, -0.84872276, -0.92836607,\n",
       "       -0.7366344 , -0.7304884 , -1.0132955 ,  7.9361215 ,  7.74829   ,\n",
       "        8.009253  ,  8.592185  , -0.8758608 , -0.9945748 , -0.888224  ,\n",
       "       -1.2976695 , -1.0797281 , -1.1520555 , -0.87807256, -0.97681385,\n",
       "       -0.87708586, -1.0517477 , -1.0153389 , -0.80801725, -0.89689183,\n",
       "       -1.0086497 , -1.003182  , -1.0935588 , -1.0512513 , -0.9731082 ,\n",
       "       -0.9221308 , -0.92308474,  8.495395  ,  8.209105  ,  8.163413  ,\n",
       "        8.240393  , -0.9263163 , -0.90685296, -0.9658931 , -1.0083321 ,\n",
       "       -0.91035193, -0.9704872 , -1.0132937 , -1.1665287 , -1.1947752 ,\n",
       "       -1.1297113 , -1.0561062 , -1.0329889 , -1.0642911 , -0.94757056,\n",
       "       -1.0153666 , -0.92868847, -1.0030642 , -1.1371716 , -1.029838  ,\n",
       "       -0.9350208 ,  8.2024765 ,  7.7710714 ,  7.9357886 ,  8.123897  ,\n",
       "       -1.062589  , -1.0641683 , -1.0697305 , -0.6173869 , -0.742169  ,\n",
       "       -0.9657745 , -0.8156351 , -0.9041509 , -0.82496434, -1.0422816 ,\n",
       "       -0.89888227, -1.2378275 , -0.83366084, -1.2276196 , -0.9677848 ,\n",
       "       -0.97023904, -1.0752797 , -1.2112259 , -1.0797296 , -0.79276586,\n",
       "       -1.0479704 , -0.9545672 , -0.9005994 , -0.7946087 , -1.005834  ,\n",
       "       -1.024833  , -0.93535316, -1.0842824 , -1.0613711 , -0.9982034 ,\n",
       "       -1.15665   , -1.1786919 , -1.0443697 , -0.9711858 , -0.9861032 ,\n",
       "       -1.0251853 , -0.9254046 , -0.90175647, -0.9449173 , -0.9752675 ,\n",
       "        8.193852  ,  7.6886272 ,  8.006938  , -1.0852268 , -1.0487133 ,\n",
       "       -0.8559047 , -0.9384403 , -0.82413554, -0.9511769 , -0.76428884,\n",
       "       -0.9411708 , -0.7558975 , -0.8737115 , -0.9075669 , -1.0691164 ,\n",
       "       -0.9804275 , -0.8821377 , -0.8897945 , -1.0005169 , -0.8668204 ,\n",
       "       -1.0249127 , -0.88479644, -1.017101  , -1.098112  ,  8.43681   ,\n",
       "        8.170056  ,  8.39657   , -1.0179813 , -0.8566074 , -0.9859253 ,\n",
       "       -1.0304973 , -0.87790185, -1.027801  , -0.5832909 , -1.0316529 ,\n",
       "       -0.9436239 , -0.8542041 , -0.77566725, -0.96353924, -0.9529057 ,\n",
       "       -0.96740144, -1.1606034 , -1.0250174 , -0.9772049 , -1.0226192 ,\n",
       "       -1.0516796 , -1.038147  , -0.8745232 , -1.0117068 , -1.1203015 ,\n",
       "       -0.89784205, -1.0123343 , -0.9733709 , -0.8233906 , -0.8227691 ,\n",
       "       -0.8031704 , -0.9486472 , -1.0014557 ], dtype=float32)"
      ]
     },
     "execution_count": 48,
     "metadata": {},
     "output_type": "execute_result"
    }
   ],
   "source": [
    "weights = regressor_v3.M.eval()\n",
    "weights_t = weights.squeeze()[2:]\n",
    "weights_t"
   ]
  },
  {
   "cell_type": "markdown",
   "metadata": {},
   "source": [
    "The indexes of the larger values allow us to discover exactly those hours of week during which the dry-cleaner anomalies are observed. The network truly learned when these anomalies are typically observed and adds some more humidity in its prediction during those times of the week. Ain't that cool?"
   ]
  },
  {
   "cell_type": "code",
   "execution_count": 49,
   "metadata": {},
   "outputs": [
    {
     "data": {
      "text/plain": [
       "[((0, 18), array([ 0, 18])),\n",
       " ((0, 19), array([ 0, 19])),\n",
       " ((0, 20), array([ 0, 20])),\n",
       " ((0, 21), array([ 0, 21])),\n",
       " ((1, 18), array([ 1, 18])),\n",
       " ((1, 19), array([ 1, 19])),\n",
       " ((1, 20), array([ 1, 20])),\n",
       " ((1, 21), array([ 1, 21])),\n",
       " ((2, 18), array([ 2, 18])),\n",
       " ((2, 19), array([ 2, 19])),\n",
       " ((2, 20), array([ 2, 20])),\n",
       " ((2, 21), array([ 2, 21])),\n",
       " ((4, 14), array([ 4, 14])),\n",
       " ((4, 15), array([ 4, 15])),\n",
       " ((4, 16), array([ 4, 16])),\n",
       " ((5, 14), array([ 5, 14])),\n",
       " ((5, 15), array([ 5, 15])),\n",
       " ((5, 16), array([ 5, 16]))]"
      ]
     },
     "execution_count": 49,
     "metadata": {},
     "output_type": "execute_result"
    }
   ],
   "source": [
    "indexes = [i for i in range(168) if weights_t[i] > 1]\n",
    "how_detected = [(i // 24, i % 24 ) for i in indexes]\n",
    "how_detected = sorted(how_detected, key=lambda d: d[0])\n",
    "list(zip(how_detected, conditions))"
   ]
  },
  {
   "cell_type": "markdown",
   "metadata": {},
   "source": [
    "To the left, the hours of the week as detected by the network, to the left the conditions that lead to the anomalies in the data. A perfect fit!"
   ]
  },
  {
   "cell_type": "code",
   "execution_count": null,
   "metadata": {},
   "outputs": [],
   "source": []
  }
 ],
 "metadata": {
  "kernelspec": {
   "display_name": "Python 3",
   "language": "python",
   "name": "python3"
  },
  "language_info": {
   "codemirror_mode": {
    "name": "ipython",
    "version": 3
   },
   "file_extension": ".py",
   "mimetype": "text/x-python",
   "name": "python",
   "nbconvert_exporter": "python",
   "pygments_lexer": "ipython3",
   "version": "3.5.3"
  }
 },
 "nbformat": 4,
 "nbformat_minor": 2
}
