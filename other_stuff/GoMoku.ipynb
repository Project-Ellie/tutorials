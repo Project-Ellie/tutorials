{
 "cells": [
  {
   "cell_type": "code",
   "execution_count": 1,
   "metadata": {},
   "outputs": [],
   "source": [
    "import matplotlib.pyplot as plt\n",
    "import numpy as np"
   ]
  },
  {
   "cell_type": "markdown",
   "metadata": {},
   "source": [
    "## The 9x9 neighborhood\n",
    "We make the (admittedly naive and limiting) assumptions that  \n",
    "1. what matters for the primary estimation of a position's value is determined by the 9x9 neighborhood of that field, and\n",
    "2. fields that don't share a common line (x, y, or diagonal) with the given position, don't matter either.\n",
    "\n",
    "Farther fields simply won't directly contribute to a common line of length 5 or smaller.\n",
    "\n",
    "Class ```N9x9``` (*Enn-nine-by-nine*) describes the world from the point of view of a particular position. This *pos-o-centric* view can be regarded as the relevant environment represented in polar-coordinates. It is much more meaningful to a neural network (I hope) than the cartesion representation. It allows us to devise a 64-bit representation of the current *threat* or *opportunity* created for a position by the adjacent stones.\n",
    "- ```def register(self, color=c, direction=d, distance=s) ``` tells the class that there is a stone of color $c$ in direction $d$ with distance $s$"
   ]
  },
  {
   "cell_type": "code",
   "execution_count": 2,
   "metadata": {},
   "outputs": [],
   "source": [
    "class GomokuTools:\n",
    "    \n",
    "    @staticmethod\n",
    "    def dirs():\n",
    "        return {\n",
    "            'e' : (0, [0, 1]),\n",
    "            'ne': (1, [-1, 1]),\n",
    "            'n' : (2, [-1, 0]),\n",
    "            'nw': (3, [-1, -1]),\n",
    "            'w' : (4, [0, -1]),\n",
    "            'sw': (5, [1, -1]),\n",
    "            's' : (6, [1, 0]),\n",
    "            'se': (7, [1, 1])}\n",
    "    \n",
    "    @staticmethod\n",
    "    def opposite(d):\n",
    "        \"\"\"\n",
    "        Returns 'e' for 'w', 'sw' for 'ne' and so on.\n",
    "        \"\"\"\n",
    "        return [i[0] for i in GomokuTools.dirs().items() if (GomokuTools.dirs()[d][0] + 4) % 8 == i[1][0]][0]"
   ]
  },
  {
   "cell_type": "code",
   "execution_count": 3,
   "metadata": {},
   "outputs": [],
   "source": [
    "class N9x9:\n",
    "    def __init__(self, ba=bytearray(8), center='X'):\n",
    "        self.field = [[' ' for i in range(9)] for j in range(9)]\n",
    "        self.field[4][4]=center\n",
    "        self.center=np.array([4,4])\n",
    "        self.ba = ba.copy()\n",
    "        self.update()\n",
    "        \n",
    "    def bits_in_dir(self, d):\n",
    "        return [np.sign(self.ba[d] & (1<<(i-1))) for i in range(8, 0, -1)]\n",
    "\n",
    "    def update(self):\n",
    "        for d in GomokuTools.dirs().items():\n",
    "            pos = d[1][0] # Position in the byte array for direction d\n",
    "            dd=np.array(d[1][1]) # the 2-dim step to go into that direction\n",
    "            bits = self.bits_in_dir(pos) # the 8 bits describing what's in that direction\n",
    "            for s in range(1, 5): # for 4 step sizes\n",
    "                pp = self.center + s * dd # go there\n",
    "                if bits[s+4-1] == 1: # is there a white (bits 5 to 8 in the array)?\n",
    "                    self.field[pp[0]][pp[1]] = 'o' # white\n",
    "                elif bits[s-1] == 1: # or a black?\n",
    "                    self.field[pp[0]][pp[1]] = 'x' # black\n",
    "                else:\n",
    "                    self.field[pp[0]][pp[1]] = ' ' # none\n",
    "\n",
    "    def register(self, color, direction, distance, action='r'):\n",
    "        \"\"\"\n",
    "        Register a stone of color in the given direction with the given distance\n",
    "        color: 'b' or 'w'\n",
    "        direction: any of the eight directions 'sw', 'e', 'ne', etc.\n",
    "        distance: 1,2,3, or 4. 1 for the closest neighbor, 4 for the farthest\n",
    "        action: 'r' to actually register, 'u' to undo.\n",
    "        \"\"\"\n",
    "        index=GomokuTools.dirs()[direction][0]\n",
    "        word=1<<(4-distance)\n",
    "        if color == 'b':\n",
    "            word = word << 4\n",
    "        if action == 'r':\n",
    "            self.ba[index] |= word\n",
    "        elif action == 'u':\n",
    "            self.ba[index] ^= word\n",
    "        self.update()\n",
    "        return self\n",
    "\n",
    "    def as_hex(self):\n",
    "        return self.ba.hex()\n",
    "    \n",
    "    def as_bits(self):\n",
    "        return [f.bits_in_dir(i) for i in range(8)]\n",
    "    \n",
    "    def __repr__(self):\n",
    "        return \"\\n\".join([('|' + ' '.join(self.field[r]) + '|') for r in range(9)])"
   ]
  },
  {
   "cell_type": "markdown",
   "metadata": {},
   "source": [
    "Observe the different representations of the 9x9 neighborhood: First the hex string representation, then the 64 bits, which we'll eventually feed into our valuation network, and finally the human-readable form we'll use for contemplation throughout this tutorial."
   ]
  },
  {
   "cell_type": "code",
   "execution_count": 4,
   "metadata": {},
   "outputs": [
    {
     "data": {
      "text/plain": [
       "('0000008400000100',\n",
       " [[0, 0, 0, 0, 0, 0, 0, 0],\n",
       "  [0, 0, 0, 0, 0, 0, 0, 0],\n",
       "  [0, 0, 0, 0, 0, 0, 0, 0],\n",
       "  [1, 0, 0, 0, 0, 1, 0, 0],\n",
       "  [0, 0, 0, 0, 0, 0, 0, 0],\n",
       "  [0, 0, 0, 0, 0, 0, 0, 0],\n",
       "  [0, 0, 0, 0, 0, 0, 0, 1],\n",
       "  [0, 0, 0, 0, 0, 0, 0, 0]],\n",
       " |                 |\n",
       " |                 |\n",
       " |    o            |\n",
       " |      x          |\n",
       " |        X        |\n",
       " |                 |\n",
       " |                 |\n",
       " |                 |\n",
       " |        o        |)"
      ]
     },
     "execution_count": 4,
     "metadata": {},
     "output_type": "execute_result"
    }
   ],
   "source": [
    "f = N9x9(center='X').register('b', 'nw', 1).register('w', 'nw', 2).register('w', 's', 4)\n",
    "f.as_hex(), f.as_bits(), f"
   ]
  },
  {
   "cell_type": "markdown",
   "metadata": {},
   "source": [
    "Unregister:"
   ]
  },
  {
   "cell_type": "code",
   "execution_count": 5,
   "metadata": {},
   "outputs": [
    {
     "data": {
      "text/plain": [
       "|                 |\n",
       "|                 |\n",
       "|    o            |\n",
       "|      x          |\n",
       "|        X        |\n",
       "|                 |\n",
       "|                 |\n",
       "|                 |\n",
       "|                 |"
      ]
     },
     "execution_count": 5,
     "metadata": {},
     "output_type": "execute_result"
    }
   ],
   "source": [
    "f.register('w', 's', 4, 'u')\n",
    "f"
   ]
  },
  {
   "cell_type": "markdown",
   "metadata": {},
   "source": [
    "---\n",
    "## The Gomoku Board"
   ]
  },
  {
   "cell_type": "code",
   "execution_count": 6,
   "metadata": {},
   "outputs": [],
   "source": [
    "class GomokuBoard:\n",
    "    def __init__(self, size, disp_width, stones=[]):\n",
    "        self.size=size\n",
    "        self.side=disp_width\n",
    "        self.stones=[]\n",
    "        self.next_party='b'\n",
    "        self.ns = [[N9x9(center='*') for i in range(15)] for j in range(15)]\n",
    "        c = 'w'\n",
    "        self.set_all(stones)\n",
    "        \n",
    "    def display(self, stones=None):\n",
    "        stones = stones or self.stones\n",
    "        side=self.side\n",
    "        size=self.size\n",
    "        fig, axis = plt.subplots(figsize=(side, side))\n",
    "        axis.set_xlim([0, size+1])\n",
    "        axis.set_ylim([0, size+1])\n",
    "        plt.xticks(range(1,size+1),['A','B','C','D','E','F','G','H',\n",
    "                         'I','K','L','M','N','O','P'])\n",
    "        plt.yticks(range(1,size+1))\n",
    "        axis.set_facecolor('#8080FF')\n",
    "        xlines = [[ [1, size], [y,y], '#E0E0E0'] for y in range(1, size+1)]\n",
    "        ylines = [[ [x,x], [1, size], '#E0E0E0'] for x in range(1, size+1)]\n",
    "        ylines = np.reshape(xlines + ylines, [-1])\n",
    "        axis.plot(*ylines);\n",
    "        self.display_stones(stones, axis)\n",
    "        axis.scatter([4, 4, 12, 12, 8], [4, 12, 12, 4, 8], s=side**2, c='#E0E0E0')\n",
    "        \n",
    "    def display_stones(self, stones, axis):\n",
    "        side = self.side\n",
    "        colors=['white', 'black']\n",
    "        for i in range(1, len(self.stones)+1):\n",
    "            x,y = self.stones[i-1][0:2]\n",
    "            stc = colors[i % 2]\n",
    "            fgc = colors[1 - i % 2]\n",
    "            axis.scatter([x],[y], c=stc, s=10*side**2, zorder=10);\n",
    "            plt.text(x, y, i, color=fgc, fontsize=12, zorder=20,\n",
    "                     horizontalalignment='center', verticalalignment='center');\n",
    "\n",
    "    def set_all(self, stones):\n",
    "        for stone in stones:\n",
    "            self.set(*stone)\n",
    "            \n",
    "    def set(self, x,y):\n",
    "        self.stones.append([x,y])\n",
    "        c = self.next_party\n",
    "        self.next_party = 'b' if self.next_party == 'w' else 'w'\n",
    "        self.comp_ns(c, x, y)\n",
    "            \n",
    "    def undo(self):\n",
    "        self.next_party = 'b' if self.next_party == 'w' else 'w'\n",
    "        c = self.next_party\n",
    "        undo = self.stones[-1]\n",
    "        self.stones = self.stones[:-1]\n",
    "        self.comp_ns(c, *undo, action='u')\n",
    "            \n",
    "    def getn9x9(self, x,y):\n",
    "        \"\"\"\n",
    "        x,y: 1-based indices of the board\n",
    "        \"\"\"\n",
    "        return self.ns[16-y][x-1]\n",
    "\n",
    "    def comp_ns(self, color, x, y, action='r'):\n",
    "        \"\"\"\n",
    "        compute neighbourhoods for the given move in board coordinates\n",
    "        \"\"\"\n",
    "        s = np.array([16-y, x-1])\n",
    "        for dd in GomokuTools.dirs().items():\n",
    "            step = dd[1][1]\n",
    "            for d in range(1,5):\n",
    "                p_n = s + d * np.array(step)\n",
    "                if self._is_valid(p_n):\n",
    "                    n_ = self.ns[p_n[0]][p_n[1]]\n",
    "                    n_.register(color, GomokuTools.opposite(dd[0]), d, action)\n",
    "    \n",
    "    \n",
    "    def _is_valid(self, pos):\n",
    "        \"\"\"\n",
    "        checks the array indexes (not the board coordinates!)\n",
    "        \"\"\"\n",
    "        return pos[0] >= 0 and pos[0] < 15 and pos[1] >= 0 and pos[1] < 15\n",
    "    \n"
   ]
  },
  {
   "cell_type": "code",
   "execution_count": 7,
   "metadata": {},
   "outputs": [],
   "source": [
    "A,B,C,D,E,F,G,H,I,K,L,M,N,O,P = 1,2,3,4,5,6,7,8,9,10,11,12,13,14,15"
   ]
  },
  {
   "cell_type": "code",
   "execution_count": 13,
   "metadata": {},
   "outputs": [
    {
     "data": {
      "image/png": "[encoded data removed]",
      "text/plain": [
       "<Figure size 360x360 with 1 Axes>"
      ]
     },
     "metadata": {
      "needs_background": "light"
     },
     "output_type": "display_data"
    }
   ],
   "source": [
    "board = GomokuBoard(15, 5, [(H,8), (I,8), (G,7), (I,7)])\n",
    "board.display();"
   ]
  },
  {
   "cell_type": "code",
   "execution_count": 14,
   "metadata": {},
   "outputs": [
    {
     "data": {
      "image/png": "[encoded data removed]",
      "text/plain": [
       "<Figure size 360x360 with 1 Axes>"
      ]
     },
     "metadata": {
      "needs_background": "light"
     },
     "output_type": "display_data"
    }
   ],
   "source": [
    "board.set(I,11)\n",
    "board.display()"
   ]
  },
  {
   "cell_type": "markdown",
   "metadata": {},
   "source": [
    "---\n",
    "Now, we can ask the board to tell us what a particular field *thinks* about its neighbourhood. The field's own position is marked with an asterisk. Please observe that again those stones not sharing a common line with the point of view simply don't show up in that fields view of the neighbourhood."
   ]
  },
  {
   "cell_type": "code",
   "execution_count": 15,
   "metadata": {},
   "outputs": [
    {
     "name": "stdout",
     "output_type": "stream",
     "text": [
      "(8, 7)\n",
      "|                 |\n",
      "|                 |\n",
      "|                 |\n",
      "|        x o      |\n",
      "|      x * o      |\n",
      "|                 |\n",
      "|                 |\n",
      "|                 |\n",
      "|                 |\n"
     ]
    }
   ],
   "source": [
    "for coords in [(H, 7)]:\n",
    "    print(coords)\n",
    "    print(board.getn9x9(*coords))"
   ]
  },
  {
   "cell_type": "markdown",
   "metadata": {},
   "source": [
    "---\n",
    "#### Undo the last move"
   ]
  },
  {
   "cell_type": "code",
   "execution_count": 16,
   "metadata": {},
   "outputs": [
    {
     "data": {
      "image/png": "[encoded data removed]",
      "text/plain": [
       "<Figure size 360x360 with 1 Axes>"
      ]
     },
     "metadata": {
      "needs_background": "light"
     },
     "output_type": "display_data"
    }
   ],
   "source": [
    "board.undo()\n",
    "board.display()"
   ]
  },
  {
   "cell_type": "code",
   "execution_count": 17,
   "metadata": {},
   "outputs": [
    {
     "name": "stdout",
     "output_type": "stream",
     "text": [
      "(9, 9)\n",
      "|                 |\n",
      "|                 |\n",
      "|                 |\n",
      "|                 |\n",
      "|        *        |\n",
      "|      x o        |\n",
      "|    x   o        |\n",
      "|                 |\n",
      "|                 |\n"
     ]
    }
   ],
   "source": [
    "for coords in [(I,9)]:\n",
    "    print(coords)\n",
    "    print(board.getn9x9(*coords))"
   ]
  },
  {
   "cell_type": "code",
   "execution_count": 18,
   "metadata": {},
   "outputs": [
    {
     "data": {
      "image/png": "[encoded data removed]",
      "text/plain": [
       "<Figure size 360x360 with 1 Axes>"
      ]
     },
     "metadata": {
      "needs_background": "light"
     },
     "output_type": "display_data"
    }
   ],
   "source": [
    "board.set(I, 9)\n",
    "board.display()"
   ]
  },
  {
   "cell_type": "code",
   "execution_count": null,
   "metadata": {},
   "outputs": [],
   "source": []
  }
 ],
 "metadata": {
  "kernelspec": {
   "display_name": "Python 3",
   "language": "python",
   "name": "python3"
  },
  "language_info": {
   "codemirror_mode": {
    "name": "ipython",
    "version": 3
   },
   "file_extension": ".py",
   "mimetype": "text/x-python",
   "name": "python",
   "nbconvert_exporter": "python",
   "pygments_lexer": "ipython3",
   "version": "3.6.4"
  }
 },
 "nbformat": 4,
 "nbformat_minor": 2
}
