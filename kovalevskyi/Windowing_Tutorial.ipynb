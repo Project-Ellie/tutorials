{
 "cells": [
  {
   "cell_type": "markdown",
   "metadata": {},
   "source": [
    "## Enriching Data with moving statistics"
   ]
  },
  {
   "cell_type": "markdown",
   "metadata": {},
   "source": [
    "The bigquery cell magic allows for a rapid explorative development, but clutters the notebook with large result sets."
   ]
  },
  {
   "cell_type": "code",
   "execution_count": 70,
   "metadata": {},
   "outputs": [
    {
     "name": "stdout",
     "output_type": "stream",
     "text": [
      "The google.cloud.bigquery extension is already loaded. To reload it, use:\n",
      "  %reload_ext google.cloud.bigquery\n"
     ]
    }
   ],
   "source": [
    "%load_ext google.cloud.bigquery"
   ]
  },
  {
   "cell_type": "code",
   "execution_count": 71,
   "metadata": {},
   "outputs": [
    {
     "data": {
      "text/html": [
       "<div>\n",
       "<style scoped>\n",
       "    .dataframe tbody tr th:only-of-type {\n",
       "        vertical-align: middle;\n",
       "    }\n",
       "\n",
       "    .dataframe tbody tr th {\n",
       "        vertical-align: top;\n",
       "    }\n",
       "\n",
       "    .dataframe thead th {\n",
       "        text-align: right;\n",
       "    }\n",
       "</style>\n",
       "<table border=\"1\" class=\"dataframe\">\n",
       "  <thead>\n",
       "    <tr style=\"text-align: right;\">\n",
       "      <th></th>\n",
       "      <th>DEP_T</th>\n",
       "      <th>AIRLINE</th>\n",
       "      <th>ARR</th>\n",
       "      <th>DEP_DELAY</th>\n",
       "      <th>ARR_DELAY</th>\n",
       "    </tr>\n",
       "  </thead>\n",
       "  <tbody>\n",
       "    <tr>\n",
       "      <th>0</th>\n",
       "      <td>545</td>\n",
       "      <td>US</td>\n",
       "      <td>PHX</td>\n",
       "      <td>4.0</td>\n",
       "      <td>-2.0</td>\n",
       "    </tr>\n",
       "    <tr>\n",
       "      <th>1</th>\n",
       "      <td>600</td>\n",
       "      <td>YV</td>\n",
       "      <td>IAD</td>\n",
       "      <td>15.0</td>\n",
       "      <td>18.0</td>\n",
       "    </tr>\n",
       "  </tbody>\n",
       "</table>\n",
       "</div>"
      ],
      "text/plain": [
       "   DEP_T AIRLINE  ARR  DEP_DELAY  ARR_DELAY\n",
       "0    545      US  PHX        4.0       -2.0\n",
       "1    600      YV  IAD       15.0       18.0"
      ]
     },
     "execution_count": 71,
     "metadata": {},
     "output_type": "execute_result"
    }
   ],
   "source": [
    "%%bigquery\n",
    "SELECT \n",
    "    DEP_T, AIRLINE, ARR, DEP_DELAY, ARR_DELAY\n",
    "from `going-tfx.examples.ATL_JUNE_SIGNATURE` \n",
    "where date='2006-06-12'\n",
    "order by dep_t limit 2"
   ]
  },
  {
   "cell_type": "markdown",
   "metadata": {},
   "source": [
    "---\n",
    "Doing it with ```datalab.bigquery``` doesn't display the large result set"
   ]
  },
  {
   "cell_type": "code",
   "execution_count": 94,
   "metadata": {},
   "outputs": [],
   "source": [
    "import google.datalab.bigquery as bq\n",
    "samples=bq.Query(\"\"\"\n",
    "SELECT \n",
    "    DEP_T, AIRLINE, ARR, DEP_DELAY, ARR_DELAY\n",
    "FROM \n",
    "    `going-tfx.examples.ATL_JUNE_SIGNATURE` \n",
    "WHERE \n",
    "    date='2006-06-12'\n",
    "ORDER BY \n",
    "    dep_t\n",
    "\"\"\").execute().result().to_dataframe()"
   ]
  },
  {
   "cell_type": "code",
   "execution_count": 99,
   "metadata": {},
   "outputs": [
    {
     "name": "stdout",
     "output_type": "stream",
     "text": [
      "1075 samples, showing first 2:\n"
     ]
    },
    {
     "data": {
      "text/plain": [
       "[{u'AIRLINE': 'US',\n",
       "  u'ARR': 'PHX',\n",
       "  u'ARR_DELAY': -2.0,\n",
       "  u'DEP_DELAY': 4.0,\n",
       "  u'DEP_T': 545},\n",
       " {u'AIRLINE': 'YV',\n",
       "  u'ARR': 'IAD',\n",
       "  u'ARR_DELAY': 18.0,\n",
       "  u'DEP_DELAY': 15.0,\n",
       "  u'DEP_T': 600}]"
      ]
     },
     "execution_count": 99,
     "metadata": {},
     "output_type": "execute_result"
    }
   ],
   "source": [
    "two_records = samples[:2].to_dict(orient='records')\n",
    "print(\"%s samples, showing first 2:\" % len(samples))\n",
    "two_records"
   ]
  },
  {
   "cell_type": "markdown",
   "metadata": {},
   "source": [
    "---\n",
    "### Beam Transform ```DoFn```s"
   ]
  },
  {
   "cell_type": "code",
   "execution_count": 88,
   "metadata": {},
   "outputs": [],
   "source": [
    "import apache_beam as beam\n",
    "from apache_beam import window\n",
    "from apache_beam.options.pipeline_options import PipelineOptions"
   ]
  },
  {
   "cell_type": "markdown",
   "metadata": {},
   "source": [
    "#### Add Timestamp"
   ]
  },
  {
   "cell_type": "code",
   "execution_count": 89,
   "metadata": {},
   "outputs": [],
   "source": [
    "class AddTimeStampDoFn(beam.DoFn):\n",
    "\n",
    "    def __init__(self, offset, *args, **kwargs):\n",
    "        self.offset = offset\n",
    "        super(beam.DoFn, self).__init__(*args, **kwargs)\n",
    "    \n",
    "    def process(self, element):\n",
    "        timestamp = (self.offset + \n",
    "                      (element['DEP_T'] // 100) * 3600 +\n",
    "                      (element['DEP_T'] % 100) * 60)\n",
    "        time_stamped = beam.window.TimestampedValue(element, timestamp)\n",
    "        yield time_stamped"
   ]
  },
  {
   "cell_type": "markdown",
   "metadata": {},
   "source": [
    "#### Add hour of day"
   ]
  },
  {
   "cell_type": "code",
   "execution_count": 90,
   "metadata": {},
   "outputs": [],
   "source": [
    "class Add_HOD(beam.DoFn):\n",
    "    def process(self, element):\n",
    "        element=element.copy()\n",
    "        dep_t = element['DEP_T']\n",
    "        element['HOD'] = dep_t // 100\n",
    "        yield element"
   ]
  },
  {
   "cell_type": "markdown",
   "metadata": {},
   "source": [
    "#### Key out DEP_DELAY for averaging"
   ]
  },
  {
   "cell_type": "code",
   "execution_count": 91,
   "metadata": {},
   "outputs": [],
   "source": [
    "class DEP_DELAY_by_HOD(beam.DoFn):\n",
    "    def process(self, element):\n",
    "        element=element.copy()\n",
    "        yield element['HOD'], element['DEP_DELAY']"
   ]
  },
  {
   "cell_type": "markdown",
   "metadata": {},
   "source": [
    "#### Key the whole records\n",
    "Keying the records allows as to CoGroupByKey after the windowed statistics are available"
   ]
  },
  {
   "cell_type": "code",
   "execution_count": 92,
   "metadata": {},
   "outputs": [],
   "source": [
    "class Record_by_HOD(beam.DoFn):\n",
    "    def process(self, element):\n",
    "        element=element.copy()\n",
    "        yield element['HOD'], element"
   ]
  },
  {
   "cell_type": "markdown",
   "metadata": {},
   "source": [
    "#### Unnest \n",
    "Unnest the resulting structure coming from ```CoGroupByKey``` to simple records"
   ]
  },
  {
   "cell_type": "code",
   "execution_count": 79,
   "metadata": {},
   "outputs": [],
   "source": [
    "class Flatten_EnrichedFN(beam.DoFn):\n",
    "    def process(self, element):\n",
    "        hod=element[0]\n",
    "        avg=element[1]['avg'][0]\n",
    "        cnt=element[1]['cnt'][0]\n",
    "        records=element[1]['rec'][0]\n",
    "        for record in records:\n",
    "            record['CNT_BTH']=cnt\n",
    "            record['AVG_DEP_DELAY_BTH']=avg\n",
    "            yield record"
   ]
  },
  {
   "cell_type": "markdown",
   "metadata": {},
   "source": [
    "We'll add a timestamp as if the records were all today's records"
   ]
  },
  {
   "cell_type": "markdown",
   "metadata": {},
   "source": [
    "### Creating the pipeline"
   ]
  },
  {
   "cell_type": "code",
   "execution_count": 82,
   "metadata": {},
   "outputs": [
    {
     "data": {
      "text/plain": [
       "1543622400"
      ]
     },
     "execution_count": 82,
     "metadata": {},
     "output_type": "execute_result"
    }
   ],
   "source": [
    "import time\n",
    "import datetime\n",
    "OFFSET = int(time.time() // 86400 * 86400)\n",
    "OFFSET"
   ]
  },
  {
   "cell_type": "code",
   "execution_count": 101,
   "metadata": {},
   "outputs": [],
   "source": [
    "data = samples.to_dict(orient='records')"
   ]
  },
  {
   "cell_type": "code",
   "execution_count": 102,
   "metadata": {},
   "outputs": [
    {
     "data": {
      "text/plain": [
       "1075"
      ]
     },
     "execution_count": 102,
     "metadata": {},
     "output_type": "execute_result"
    }
   ],
   "source": [
    "windowed = (\n",
    "    data\n",
    "    | \"Add_timestamp\" >> beam.ParDo(AddTimeStampDoFn(OFFSET))\n",
    "    | \"Add_HOD\" >> beam.ParDo(Add_HOD())\n",
    "    | \"Window_1h\" >> beam.WindowInto(window.FixedWindows(3600))\n",
    ")\n",
    "len(windowed)"
   ]
  },
  {
   "cell_type": "markdown",
   "metadata": {},
   "source": [
    "#### Counts by the hour"
   ]
  },
  {
   "cell_type": "code",
   "execution_count": 109,
   "metadata": {},
   "outputs": [
    {
     "data": {
      "text/plain": [
       "[(5, 1), (7, 47), (6, 10), (9, 106), (8, 64)]"
      ]
     },
     "execution_count": 109,
     "metadata": {},
     "output_type": "execute_result"
    }
   ],
   "source": [
    "records_by_hod = (\n",
    "    windowed\n",
    "    | \"Record_by_HOD\" >> beam.ParDo(Record_by_HOD())\n",
    "    | \"Group_by_HOD\" >> beam.GroupByKey()\n",
    ")\n",
    "counts_by_hod = (\n",
    "    records_by_hod\n",
    "    | \"Count\" >> beam.CombineValues(beam.combiners.CountCombineFn())\n",
    ")\n",
    "counts_by_hod[:5]"
   ]
  },
  {
   "cell_type": "code",
   "execution_count": 110,
   "metadata": {},
   "outputs": [],
   "source": [
    "#records_by_hod[2]"
   ]
  },
  {
   "cell_type": "markdown",
   "metadata": {},
   "source": [
    "#### Averages by the hour"
   ]
  },
  {
   "cell_type": "code",
   "execution_count": 111,
   "metadata": {},
   "outputs": [
    {
     "data": {
      "text/plain": [
       "[(5, 4.0), (7, 4.148936170212766), (6, 0.8)]"
      ]
     },
     "execution_count": 111,
     "metadata": {},
     "output_type": "execute_result"
    }
   ],
   "source": [
    "avgs_by_hod = (\n",
    "    windowed    \n",
    "    | \"Make_HOD\" >> beam.ParDo(DEP_DELAY_by_HOD())\n",
    "    | \"Avg_by_HOD\" >> beam.CombinePerKey(beam.combiners.MeanCombineFn())\n",
    ")\n",
    "avgs_by_hod[:3]"
   ]
  },
  {
   "cell_type": "markdown",
   "metadata": {},
   "source": [
    "#### Co-Group and Flatten"
   ]
  },
  {
   "cell_type": "code",
   "execution_count": 113,
   "metadata": {},
   "outputs": [
    {
     "data": {
      "text/plain": [
       "[{u'AIRLINE': 'US',\n",
       "  u'ARR': 'PHX',\n",
       "  u'ARR_DELAY': -2.0,\n",
       "  'AVG_DEP_DELAY_BTH': 4.0,\n",
       "  'CNT_BTH': 1,\n",
       "  u'DEP_DELAY': 4.0,\n",
       "  u'DEP_T': 545,\n",
       "  'HOD': 5},\n",
       " {u'AIRLINE': 'DL',\n",
       "  u'ARR': 'PHL',\n",
       "  u'ARR_DELAY': -2.0,\n",
       "  'AVG_DEP_DELAY_BTH': 4.148936170212766,\n",
       "  'CNT_BTH': 47,\n",
       "  u'DEP_DELAY': 7.0,\n",
       "  u'DEP_T': 700,\n",
       "  'HOD': 7},\n",
       " {u'AIRLINE': 'EV',\n",
       "  u'ARR': 'IAH',\n",
       "  u'ARR_DELAY': -3.0,\n",
       "  'AVG_DEP_DELAY_BTH': 4.148936170212766,\n",
       "  'CNT_BTH': 47,\n",
       "  u'DEP_DELAY': 0.0,\n",
       "  u'DEP_T': 700,\n",
       "  'HOD': 7}]"
      ]
     },
     "execution_count": 113,
     "metadata": {},
     "output_type": "execute_result"
    }
   ],
   "source": [
    "combined = ( {'cnt': counts_by_hod, 'avg': avgs_by_hod, 'rec': records_by_hod }\n",
    " | \"Co_Group_HOD\" >> beam.CoGroupByKey()\n",
    " | \"Flatten\" >> beam.ParDo(Flatten_EnrichedFN())\n",
    ")\n",
    "combined[:3]"
   ]
  },
  {
   "cell_type": "code",
   "execution_count": null,
   "metadata": {},
   "outputs": [],
   "source": []
  }
 ],
 "metadata": {
  "kernelspec": {
   "display_name": "Python 2",
   "language": "python",
   "name": "python2"
  },
  "language_info": {
   "codemirror_mode": {
    "name": "ipython",
    "version": 2
   },
   "file_extension": ".py",
   "mimetype": "text/x-python",
   "name": "python",
   "nbconvert_exporter": "python",
   "pygments_lexer": "ipython2",
   "version": "2.7.13"
  }
 },
 "nbformat": 4,
 "nbformat_minor": 2
}
