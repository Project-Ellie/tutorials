{
 "cells": [
  {
   "cell_type": "markdown",
   "metadata": {},
   "source": [
    "We need a TFR Dataset with A-values rather than Q-values. ```TournamentData.ipynb``` should provide either another \"feature\" or another TFR file set for A-values. - DONE\n",
    "\n",
    "\n",
    "Then RunQVT.ipynb should be used to run the A-values. - DONE\n",
    "\n",
    "It should be possible to choose the number of games or records in RunQVT. Well, it is, I guess - through the options."
   ]
  },
  {
   "cell_type": "markdown",
   "metadata": {},
   "source": [
    "The A-values are derived by subtracting the default value, which can be found beyond the border on a 22x22 board from the q value. - DONE\n",
    "\n",
    "This should then be divided by 100.0 and the learned A-value should eventually be multiplied by 100, if ever to be re-used in order to recreate the Q-Function. - DONE\n",
    "\n",
    "The mask is used to not have the beyond-the-border fields influence the loss function. - DONE"
   ]
  },
  {
   "cell_type": "markdown",
   "metadata": {},
   "source": [
    "HeuristicGomokuPolicy's defense_options are buggy. - DONE"
   ]
  },
  {
   "cell_type": "markdown",
   "metadata": {},
   "source": [
    "---\n"
   ]
  }
 ],
 "metadata": {
  "kernelspec": {
   "display_name": "Python 3",
   "language": "python",
   "name": "python3"
  },
  "language_info": {
   "codemirror_mode": {
    "name": "ipython",
    "version": 3
   },
   "file_extension": ".py",
   "mimetype": "text/x-python",
   "name": "python",
   "nbconvert_exporter": "python",
   "pygments_lexer": "ipython3",
   "version": "3.5.3"
  }
 },
 "nbformat": 4,
 "nbformat_minor": 2
}
