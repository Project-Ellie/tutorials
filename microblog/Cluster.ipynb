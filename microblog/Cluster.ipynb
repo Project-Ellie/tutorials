{
 "cells": [
  {
   "cell_type": "markdown",
   "metadata": {},
   "source": [
    "### Bring up a cluster\n",
    "Find the commands presented here ready-to-go in script ```clusterup.sh```"
   ]
  },
  {
   "cell_type": "code",
   "execution_count": 60,
   "metadata": {},
   "outputs": [
    {
     "name": "stdout",
     "output_type": "stream",
     "text": [
      "\u001b[1;33mWARNING:\u001b[0m Starting in 1.12, new clusters will have basic authentication disabled by default. Basic authentication can be enabled (or disabled) manually using the `--[no-]enable-basic-auth` flag.\n",
      "\u001b[1;33mWARNING:\u001b[0m Starting in 1.12, new clusters will not have a client certificate issued. You can manually enable (or disable) the issuance of the client certificate using the `--[no-]issue-client-certificate` flag.\n",
      "\u001b[1;33mWARNING:\u001b[0m Currently VPC-native is not the default mode during cluster creation. In the future, this will become the default mode and can be disabled using `--no-enable-ip-alias` flag. Use `--[no-]enable-ip-alias` flag to suppress this warning.\n",
      "\u001b[1;33mWARNING:\u001b[0m Starting in 1.12, default node pools in new clusters will have their legacy Compute Engine instance metadata endpoints disabled by default. To create a cluster with legacy instance metadata endpoints disabled in the default node pool, run `clusters create` with the flag `--metadata disable-legacy-endpoints=true`.\n",
      "This will enable the autorepair feature for nodes. Please see https://cloud.google.com/kubernetes-engine/docs/node-auto-repair for more information on node autorepairs.\n",
      "\u001b[1;33mWARNING:\u001b[0m Starting in Kubernetes v1.10, new clusters will no longer get compute-rw and storage-ro scopes added to what is specified in --scopes (though the latter will remain included in the default --scopes). To use these scopes, add them explicitly to --scopes. To use the new behavior, set container/new_scopes_behavior property (gcloud config set container/new_scopes_behavior true).\n",
      "Creating cluster microblog-cluster in us-central1-a...done.\n",
      "Created [https://container.googleapis.com/v1/projects/going-tfx/zones/us-central1-a/clusters/microblog-cluster].\n",
      "To inspect the contents of your cluster, go to: https://console.cloud.google.com/kubernetes/workload_/gcloud/us-central1-a/microblog-cluster?project=going-tfx\n",
      "kubeconfig entry generated for microblog-cluster.\n",
      "NAME               LOCATION       MASTER_VERSION  MASTER_IP      MACHINE_TYPE   NODE_VERSION  NUM_NODES  STATUS\n",
      "microblog-cluster  us-central1-a  1.10.9-gke.5    35.239.217.33  n1-standard-1  1.10.9-gke.5  2          RUNNING\n"
     ]
    }
   ],
   "source": [
    "!gcloud container clusters create microblog-cluster --num-nodes=2"
   ]
  },
  {
   "cell_type": "code",
   "execution_count": 61,
   "metadata": {},
   "outputs": [
    {
     "name": "stdout",
     "output_type": "stream",
     "text": [
      "Fetching cluster endpoint and auth data.\n",
      "kubeconfig entry generated for microblog-cluster.\n"
     ]
    }
   ],
   "source": [
    "!gcloud container clusters get-credentials microblog-cluster --zone us-central1-a --project going-tfx"
   ]
  },
  {
   "cell_type": "markdown",
   "metadata": {},
   "source": [
    "---\n",
    "### Prepare DNS records\n",
    "You still need a domain name service. These records here are for internal routing once the HTTP requests arrive in the google infrastructure"
   ]
  },
  {
   "cell_type": "code",
   "execution_count": 43,
   "metadata": {},
   "outputs": [
    {
     "name": "stdout",
     "output_type": "stream",
     "text": [
      "NAME             ADDRESS/RANGE   TYPE  PURPOSE  NETWORK  REGION       SUBNET  STATUS\n",
      "hello-server-ip  35.186.195.159                                               RESERVED\n",
      "jenkins          35.244.196.48                                                RESERVED\n",
      "microblog        35.244.236.101                                               IN_USE\n",
      "jenkins          35.184.14.235                           us-central1          IN_USE\n"
     ]
    }
   ],
   "source": [
    "!gcloud compute addresses list"
   ]
  },
  {
   "cell_type": "code",
   "execution_count": 21,
   "metadata": {},
   "outputs": [
    {
     "name": "stdout",
     "output_type": "stream",
     "text": [
      "NAME                  TYPE  TTL    DATA\n",
      "fnf.ninja.            NS    21600  ns-cloud-c1.googledomains.com.,ns-cloud-c2.googledomains.com.,ns-cloud-c3.googledomains.com.,ns-cloud-c4.googledomains.com.\n",
      "fnf.ninja.            SOA   21600  ns-cloud-c1.googledomains.com. cloud-dns-hostmaster.google.com. 1 21600 3600 259200 300\n",
      "microblog.fnf.ninja.  A     300    35.244.236.101\n"
     ]
    }
   ],
   "source": [
    "!gcloud dns record-sets list --zone=fnf-ninja-on-going-tfx"
   ]
  },
  {
   "cell_type": "code",
   "execution_count": 55,
   "metadata": {},
   "outputs": [
    {
     "name": "stdout",
     "output_type": "stream",
     "text": [
      "Transaction started [transaction.yaml].\n"
     ]
    }
   ],
   "source": [
    "!gcloud dns record-sets transaction start --zone=fnf-ninja-on-going-tfx"
   ]
  },
  {
   "cell_type": "code",
   "execution_count": 56,
   "metadata": {},
   "outputs": [
    {
     "name": "stdout",
     "output_type": "stream",
     "text": [
      "Record addition appended to transaction at [transaction.yaml].\n"
     ]
    }
   ],
   "source": [
    "!gcloud dns record-sets transaction add --zone=fnf-ninja-on-going-tfx --name=\"microblog.fnf.ninja\"\\\n",
    "    --type=A --ttl=300 \"35.244.236.101\""
   ]
  },
  {
   "cell_type": "code",
   "execution_count": 57,
   "metadata": {},
   "outputs": [
    {
     "name": "stdout",
     "output_type": "stream",
     "text": [
      "\u001b[1;31mERROR:\u001b[0m (gcloud.dns.record-sets.transaction.execute) HTTPError 409: The resource 'entity.change.additions[1]' named 'microblog.fnf.ninja. (A)' already exists\n"
     ]
    }
   ],
   "source": [
    "!gcloud dns record-sets transaction execute --zone=fnf-ninja-on-going-tfx"
   ]
  },
  {
   "cell_type": "markdown",
   "metadata": {},
   "source": [
    "---\n",
    "### Deploy and serve the application"
   ]
  },
  {
   "cell_type": "code",
   "execution_count": 2,
   "metadata": {},
   "outputs": [
    {
     "name": "stdout",
     "output_type": "stream",
     "text": [
      "kubectl run --generator=deployment/apps.v1 is DEPRECATED and will be removed in a future version. Use kubectl run --generator=run-pod/v1 or kubectl create instead.\n",
      "deployment.apps/microblog created\n"
     ]
    }
   ],
   "source": [
    "!kubectl run microblog --image=us.gcr.io/going-tfx/microblog:v1 --port=5000"
   ]
  },
  {
   "cell_type": "code",
   "execution_count": 3,
   "metadata": {},
   "outputs": [
    {
     "name": "stdout",
     "output_type": "stream",
     "text": [
      "service/microblog created\n"
     ]
    }
   ],
   "source": [
    "!kubectl apply -f k8s/service.yaml"
   ]
  },
  {
   "cell_type": "markdown",
   "metadata": {},
   "source": [
    "---\n",
    "This is the ingress for TLS endpoint and the ACME http01 challenge (proof of domain)\n"
   ]
  },
  {
   "cell_type": "code",
   "execution_count": 122,
   "metadata": {},
   "outputs": [
    {
     "name": "stdout",
     "output_type": "stream",
     "text": [
      "ingress.extensions/microblog-ingress-tls unchanged\n"
     ]
    }
   ],
   "source": [
    "!kubectl apply -f k8s/ingress-tls.yaml"
   ]
  },
  {
   "cell_type": "code",
   "execution_count": 124,
   "metadata": {},
   "outputs": [
    {
     "name": "stdout",
     "output_type": "stream",
     "text": [
      "Name:             microblog-ingress-tls\n",
      "Namespace:        default\n",
      "Address:          35.244.236.101\n",
      "Default backend:  default-http-backend:80 (10.16.0.8:8080)\n",
      "TLS:\n",
      "  microblog-fnf-ninja-tls terminates microblog.fnf.ninja\n",
      "Rules:\n",
      "  Host  Path  Backends\n",
      "  ----  ----  --------\n",
      "  *     \n",
      "        /   microblog:5000 (<none>)\n",
      "Annotations:\n",
      "  ingress.kubernetes.io/target-proxy:                k8s-tp-default-microblog-ingress-tls--aa4c050bb17c0a5c\n",
      "  ingress.kubernetes.io/url-map:                     k8s-um-default-microblog-ingress-tls--aa4c050bb17c0a5c\n",
      "  kubectl.kubernetes.io/last-applied-configuration:  {\"apiVersion\":\"extensions/v1beta1\",\"kind\":\"Ingress\",\"metadata\":{\"annotations\":{\"certmanager.k8s.io/cluster-issuer\":\"letsencrypt-staging\",\"kubernetes.io/ingress.global-static-ip-name\":\"microblog\"},\"labels\":{\"app\":\"microblog\"},\"name\":\"microblog-ingress-tls\",\"namespace\":\"default\"},\"spec\":{\"rules\":[{\"http\":{\"paths\":[{\"backend\":{\"serviceName\":\"microblog\",\"servicePort\":5000},\"path\":\"/\"}]}}],\"tls\":[{\"hosts\":[\"microblog.fnf.ninja\"],\"secretName\":\"microblog-fnf-ninja-tls\"}]}}\n",
      "\n",
      "  kubernetes.io/ingress.global-static-ip-name:  microblog\n",
      "  ingress.kubernetes.io/forwarding-rule:        k8s-fw-default-microblog-ingress-tls--aa4c050bb17c0a5c\n",
      "  ingress.kubernetes.io/https-forwarding-rule:  k8s-fws-default-microblog-ingress-tls--aa4c050bb17c0a5c\n",
      "  ingress.kubernetes.io/ssl-cert:               k8s-ssl-7c55c06bb5288cb4-b18b536c00dfa936--aa4c050bb17c0a5c\n",
      "  certmanager.k8s.io/cluster-issuer:            letsencrypt-staging\n",
      "  ingress.kubernetes.io/backends:               {\"k8s-be-30264--aa4c050bb17c0a5c\":\"Unknown\",\"k8s-be-30350--aa4c050bb17c0a5c\":\"Unknown\"}\n",
      "  ingress.kubernetes.io/https-target-proxy:     k8s-tps-default-microblog-ingress-tls--aa4c050bb17c0a5c\n",
      "Events:\n",
      "  Type    Reason             Age   From                     Message\n",
      "  ----    ------             ----  ----                     -------\n",
      "  Normal  CreateCertificate  85s   cert-manager             Successfully created Certificate \"microblog-fnf-ninja-tls\"\n",
      "  Normal  ADD                85s   loadbalancer-controller  default/microblog-ingress-tls\n",
      "  Normal  CREATE             26s   loadbalancer-controller  ip: 35.244.236.101\n"
     ]
    }
   ],
   "source": [
    "!kubectl describe -f k8s/ingress-tls.yaml"
   ]
  },
  {
   "cell_type": "code",
   "execution_count": 65,
   "metadata": {},
   "outputs": [
    {
     "name": "stdout",
     "output_type": "stream",
     "text": [
      "Name:                     microblog\n",
      "Namespace:                default\n",
      "Labels:                   run=microblog\n",
      "Annotations:              kubectl.kubernetes.io/last-applied-configuration:\n",
      "                            {\"apiVersion\":\"v1\",\"kind\":\"Service\",\"metadata\":{\"annotations\":{\"service.alpha.kubernetes.io/app-protocols\":\"{\\\"my-https-port\\\":\\\"HTTPS\\\"}\"...\n",
      "                          service.alpha.kubernetes.io/app-protocols: {\"my-https-port\":\"HTTPS\"}\n",
      "Selector:                 run=microblog\n",
      "Type:                     NodePort\n",
      "IP:                       10.19.246.11\n",
      "Port:                     <unset>  5000/TCP\n",
      "TargetPort:               5000/TCP\n",
      "NodePort:                 <unset>  31709/TCP\n",
      "Endpoints:                10.16.0.8:5000\n",
      "Session Affinity:         None\n",
      "External Traffic Policy:  Cluster\n",
      "Events:                   <none>\n"
     ]
    }
   ],
   "source": [
    "!kubectl describe service microblog"
   ]
  },
  {
   "cell_type": "markdown",
   "metadata": {},
   "source": [
    "---\n",
    "#### Check if the service can be located through the ingress\n",
    "Give it a couple of minutes, or check on the Kubernetes console for completion"
   ]
  },
  {
   "cell_type": "code",
   "execution_count": 71,
   "metadata": {},
   "outputs": [
    {
     "name": "stdout",
     "output_type": "stream",
     "text": [
      "  % Total    % Received % Xferd  Average Speed   Time    Time     Time  Current\n",
      "                                 Dload  Upload   Total   Spent    Left  Speed\n",
      "100  1621  100  1621    0     0  95849      0 --:--:-- --:--:-- --:--:--   98k\n",
      "<h1>Hello, Wolfie!</h1>\n"
     ]
    }
   ],
   "source": [
    "!curl http://microblog.fnf.ninja | grep Wolfie"
   ]
  },
  {
   "cell_type": "markdown",
   "metadata": {},
   "source": [
    "#### Remove it, it will be replaced by a proper TLS ingress"
   ]
  },
  {
   "cell_type": "code",
   "execution_count": 72,
   "metadata": {},
   "outputs": [
    {
     "name": "stdout",
     "output_type": "stream",
     "text": [
      "ingress.extensions \"microblog-ingress\" deleted\n"
     ]
    }
   ],
   "source": [
    "!kubectl delete -f k8s/ingress.yaml"
   ]
  },
  {
   "cell_type": "markdown",
   "metadata": {},
   "source": [
    "---\n",
    "### Add certificate infrastructure via helm"
   ]
  },
  {
   "cell_type": "code",
   "execution_count": 73,
   "metadata": {},
   "outputs": [
    {
     "name": "stdout",
     "output_type": "stream",
     "text": [
      "serviceaccount/tiller created\n"
     ]
    }
   ],
   "source": [
    "!kubectl create serviceaccount -n kube-system tiller"
   ]
  },
  {
   "cell_type": "code",
   "execution_count": 74,
   "metadata": {},
   "outputs": [
    {
     "name": "stdout",
     "output_type": "stream",
     "text": [
      "clusterrolebinding.rbac.authorization.k8s.io/tiller-binding created\n"
     ]
    }
   ],
   "source": [
    "!kubectl create clusterrolebinding tiller-binding --clusterrole=cluster-admin --serviceaccount kube-system:tiller"
   ]
  },
  {
   "cell_type": "code",
   "execution_count": 75,
   "metadata": {},
   "outputs": [
    {
     "name": "stdout",
     "output_type": "stream",
     "text": [
      "$HELM_HOME has been configured at /home/wgiersche/.helm.\n",
      "\n",
      "Tiller (the Helm server-side component) has been installed into your Kubernetes Cluster.\n",
      "\n",
      "Please note: by default, Tiller is deployed with an insecure 'allow unauthenticated users' policy.\n",
      "To prevent this, run `helm init` with the --tiller-tls-verify flag.\n",
      "For more information on securing your installation see: https://docs.helm.sh/using_helm/#securing-your-helm-installation\n",
      "Happy Helming!\n"
     ]
    }
   ],
   "source": [
    "!helm init --service-account tiller"
   ]
  },
  {
   "cell_type": "code",
   "execution_count": 76,
   "metadata": {},
   "outputs": [
    {
     "name": "stdout",
     "output_type": "stream",
     "text": [
      "Hang tight while we grab the latest from your chart repositories...\n",
      "...Skip local chart repository\n",
      "...Successfully got an update from the \"stable\" chart repository\n",
      "Update Complete. ⎈ Happy Helming!⎈ \n"
     ]
    }
   ],
   "source": [
    "!helm repo update"
   ]
  },
  {
   "cell_type": "markdown",
   "metadata": {},
   "source": [
    "---\n",
    "### Install cert manager"
   ]
  },
  {
   "cell_type": "code",
   "execution_count": 94,
   "metadata": {},
   "outputs": [
    {
     "name": "stdout",
     "output_type": "stream",
     "text": [
      "release \"cert-manager\" deleted\n"
     ]
    }
   ],
   "source": [
    "!helm del --purge cert-manager"
   ]
  },
  {
   "cell_type": "code",
   "execution_count": null,
   "metadata": {},
   "outputs": [],
   "source": [
    "#!helm install --name cert-manager --version v0.3.2 --namespace kube-system stable/cert-manager"
   ]
  },
  {
   "cell_type": "code",
   "execution_count": 95,
   "metadata": {},
   "outputs": [
    {
     "name": "stdout",
     "output_type": "stream",
     "text": [
      "Error: release cert-manager failed: customresourcedefinitions.apiextensions.k8s.io \"certificates.certmanager.k8s.io\" already exists\n"
     ]
    }
   ],
   "source": [
    "!helm install --name cert-manager --version v0.5.0 --namespace kube-system stable/cert-manager"
   ]
  },
  {
   "cell_type": "code",
   "execution_count": 91,
   "metadata": {},
   "outputs": [
    {
     "name": "stdout",
     "output_type": "stream",
     "text": [
      "Name:                   cert-manager-cert-manager\n",
      "Namespace:              kube-system\n",
      "CreationTimestamp:      Sun, 16 Dec 2018 15:05:18 +0000\n",
      "Labels:                 app=cert-manager\n",
      "                        chart=cert-manager-v0.3.2\n",
      "                        heritage=Tiller\n",
      "                        release=cert-manager\n",
      "Annotations:            deployment.kubernetes.io/revision: 1\n",
      "Selector:               app=cert-manager,release=cert-manager\n",
      "Replicas:               1 desired | 1 updated | 1 total | 0 available | 1 unavailable\n",
      "StrategyType:           RollingUpdate\n",
      "MinReadySeconds:        0\n",
      "RollingUpdateStrategy:  25% max unavailable, 25% max surge\n",
      "Pod Template:\n",
      "  Labels:           app=cert-manager\n",
      "                    release=cert-manager\n",
      "  Service Account:  cert-manager-cert-manager\n",
      "  Containers:\n",
      "   cert-manager:\n",
      "    Image:      quay.io/jetstack/cert-manager-controller:v0.3.0\n",
      "    Port:       <none>\n",
      "    Host Port:  <none>\n",
      "    Args:\n",
      "      --cluster-resource-namespace=$(POD_NAMESPACE)\n",
      "      --leader-election-namespace=$(POD_NAMESPACE)\n",
      "    Environment:\n",
      "      POD_NAMESPACE:   (v1:metadata.namespace)\n",
      "    Mounts:           <none>\n",
      "  Volumes:            <none>\n",
      "Conditions:\n",
      "  Type           Status  Reason\n",
      "  ----           ------  ------\n",
      "  Available      False   MinimumReplicasUnavailable\n",
      "  Progressing    True    ReplicaSetUpdated\n",
      "OldReplicaSets:  <none>\n",
      "NewReplicaSet:   cert-manager-cert-manager-698758c6d (1/1 replicas created)\n",
      "Events:\n",
      "  Type    Reason             Age   From                   Message\n",
      "  ----    ------             ----  ----                   -------\n",
      "  Normal  ScalingReplicaSet  4s    deployment-controller  Scaled up replica set cert-manager-cert-manager-698758c6d to 1\n"
     ]
    }
   ],
   "source": [
    "!kubectl describe deployment -n kube-system cert-manager-cert-manager"
   ]
  },
  {
   "cell_type": "code",
   "execution_count": 79,
   "metadata": {},
   "outputs": [
    {
     "name": "stdout",
     "output_type": "stream",
     "text": [
      "clusterissuer.certmanager.k8s.io/letsencrypt-staging created\n",
      "clusterissuer.certmanager.k8s.io/letsencrypt-prod created\n"
     ]
    }
   ],
   "source": [
    "!kubectl apply -f k8s/clusterissuer.yaml"
   ]
  },
  {
   "cell_type": "code",
   "execution_count": 80,
   "metadata": {},
   "outputs": [
    {
     "name": "stdout",
     "output_type": "stream",
     "text": [
      "Name:         letsencrypt-staging\n",
      "  Cluster Name:        \n",
      "      Name:  letsencrypt-staging\n",
      "Name:         letsencrypt-prod\n",
      "  Cluster Name:        \n",
      "      Name:  letsencrypt-prod\n"
     ]
    }
   ],
   "source": [
    "!kubectl describe -f k8s/clusterissuer.yaml | grep Name:"
   ]
  },
  {
   "cell_type": "code",
   "execution_count": 76,
   "metadata": {},
   "outputs": [
    {
     "name": "stdout",
     "output_type": "stream",
     "text": [
      "certificate.certmanager.k8s.io/microblog-fnf-ninja-tls created\n"
     ]
    }
   ],
   "source": [
    "!kubectl apply -f k8s/certificate.yaml"
   ]
  },
  {
   "cell_type": "code",
   "execution_count": 157,
   "metadata": {},
   "outputs": [
    {
     "name": "stdout",
     "output_type": "stream",
     "text": [
      "cert-manager-cert-manager-698758c6d-fzg2g                     1/1     Running   0          4h\n"
     ]
    }
   ],
   "source": [
    "!kubectl get pods -n kube-system | grep cert-manager\n",
    "pod = !kubectl get pods -n kube-system | grep cert-manager\n",
    "pod = pod[0].split(' ')[0]"
   ]
  },
  {
   "cell_type": "code",
   "execution_count": 159,
   "metadata": {},
   "outputs": [
    {
     "name": "stdout",
     "output_type": "stream",
     "text": [
      "I1216 21:38:14.644258       1 acme.go:159] getting private key (letsencrypt-staging->tls.key) for acme issuer kube-system/letsencrypt-staging\n",
      "I1216 21:38:14.644682       1 logger.go:27] Calling GetOrder\n",
      "I1216 21:38:14.816775       1 logger.go:52] Calling GetAuthorization\n",
      "I1216 21:38:14.880763       1 logger.go:72] Calling HTTP01ChallengeResponse\n",
      "I1216 21:38:14.880834       1 prepare.go:263] Cleaning up old/expired challenges for Certificate default/microblog-fnf-ninja-tls\n",
      "I1216 21:38:14.880878       1 logger.go:47] Calling GetChallenge\n",
      "I1216 21:38:14.974532       1 http.go:122] wrong status code '404'\n",
      "I1216 21:38:14.974937       1 ingress.go:33] Looking up Ingresses for selector certmanager.k8s.io/acme-http-domain=1261569893,certmanager.k8s.io/acme-http-token=1014500891\n",
      "I1216 21:38:14.975093       1 helpers.go:162] Found status change for Certificate \"microblog-fnf-ninja-tls\" condition \"Ready\": \"False\" -> \"False\"; setting lastTransitionTime to 2018-12-16 21:38:14.975086024 +0000 UTC m=+16401.813117870\n",
      "I1216 21:38:14.975187       1 sync.go:241] Error preparing issuer for certificate default/microblog-fnf-ninja-tls: http-01 self check failed for domain \"microblog.fnf.ninja\"\n",
      "E1216 21:38:14.983683       1 sync.go:168] [default/microblog-fnf-ninja-tls] Error getting certificate 'microblog-fnf-ninja-tls': secret \"microblog-fnf-ninja-tls\" not found\n",
      "E1216 21:38:14.983961       1 controller.go:186] certificates controller: Re-queuing item \"default/microblog-fnf-ninja-tls\" due to error processing: http-01 self check failed for domain \"microblog.fnf.ninja\"\n",
      "I1216 21:38:14.984598       1 controller.go:152] ingress-shim controller: syncing item 'default/microblog-ingress-tls'\n",
      "I1216 21:38:14.984929       1 sync.go:123] Certificate \"microblog-fnf-ninja-tls\" for ingress \"microblog-ingress-tls\" already exists\n",
      "I1216 21:38:14.984994       1 sync.go:126] Certificate \"microblog-fnf-ninja-tls\" for ingress \"microblog-ingress-tls\" is up to date\n",
      "I1216 21:38:14.985058       1 controller.go:166] ingress-shim controller: Finished processing work item \"default/microblog-ingress-tls\"\n",
      "I1216 21:39:14.984664       1 controller.go:177] certificates controller: syncing item 'default/microblog-fnf-ninja-tls'\n",
      "I1216 21:39:14.984774       1 sync.go:239] Preparing certificate default/microblog-fnf-ninja-tls with issuer\n",
      "I1216 21:39:14.984783       1 acme.go:159] getting private key (letsencrypt-staging->tls.key) for acme issuer kube-system/letsencrypt-staging\n",
      "I1216 21:39:14.985232       1 logger.go:27] Calling GetOrder\n",
      "I1216 21:39:15.110855       1 logger.go:52] Calling GetAuthorization\n",
      "I1216 21:39:15.158072       1 logger.go:72] Calling HTTP01ChallengeResponse\n",
      "I1216 21:39:15.158534       1 prepare.go:263] Cleaning up old/expired challenges for Certificate default/microblog-fnf-ninja-tls\n",
      "I1216 21:39:15.158647       1 logger.go:47] Calling GetChallenge\n",
      "I1216 21:39:15.229778       1 http.go:122] wrong status code '404'\n",
      "I1216 21:39:15.230170       1 ingress.go:33] Looking up Ingresses for selector certmanager.k8s.io/acme-http-domain=1261569893,certmanager.k8s.io/acme-http-token=1014500891\n",
      "I1216 21:39:15.230301       1 helpers.go:162] Found status change for Certificate \"microblog-fnf-ninja-tls\" condition \"Ready\": \"False\" -> \"False\"; setting lastTransitionTime to 2018-12-16 21:39:15.230294843 +0000 UTC m=+16462.068326726\n",
      "I1216 21:39:15.230385       1 sync.go:241] Error preparing issuer for certificate default/microblog-fnf-ninja-tls: http-01 self check failed for domain \"microblog.fnf.ninja\"\n",
      "I1216 21:39:15.235766       1 controller.go:152] ingress-shim controller: syncing item 'default/microblog-ingress-tls'\n",
      "I1216 21:39:15.236223       1 sync.go:123] Certificate \"microblog-fnf-ninja-tls\" for ingress \"microblog-ingress-tls\" already exists\n",
      "I1216 21:39:15.236320       1 sync.go:126] Certificate \"microblog-fnf-ninja-tls\" for ingress \"microblog-ingress-tls\" is up to date\n",
      "I1216 21:39:15.236386       1 controller.go:166] ingress-shim controller: Finished processing work item \"default/microblog-ingress-tls\"\n",
      "E1216 21:39:15.237244       1 sync.go:168] [default/microblog-fnf-ninja-tls] Error getting certificate 'microblog-fnf-ninja-tls': secret \"microblog-fnf-ninja-tls\" not found\n",
      "E1216 21:39:15.237392       1 controller.go:186] certificates controller: Re-queuing item \"default/microblog-fnf-ninja-tls\" due to error processing: http-01 self check failed for domain \"microblog.fnf.ninja\"\n",
      "I1216 21:39:58.376600       1 controller.go:152] ingress-shim controller: syncing item 'default/microblog-ingress-tls'\n",
      "E1216 21:39:58.376649       1 controller.go:182] ingress 'default/microblog-ingress-tls' in work queue no longer exists\n",
      "I1216 21:39:58.376661       1 controller.go:166] ingress-shim controller: Finished processing work item \"default/microblog-ingress-tls\"\n",
      "I1216 21:39:58.460480       1 controller.go:152] ingress-shim controller: syncing item 'default/cm-acme-http-solver-f6d8s'\n",
      "E1216 21:39:58.460869       1 controller.go:182] ingress 'default/cm-acme-http-solver-f6d8s' in work queue no longer exists\n",
      "I1216 21:39:58.460968       1 controller.go:166] ingress-shim controller: Finished processing work item \"default/cm-acme-http-solver-f6d8s\"\n",
      "I1216 21:40:15.236693       1 controller.go:177] certificates controller: syncing item 'default/microblog-fnf-ninja-tls'\n",
      "E1216 21:40:15.236740       1 controller.go:208] certificate 'default/microblog-fnf-ninja-tls' in work queue no longer exists\n",
      "I1216 21:40:15.236751       1 controller.go:191] certificates controller: Finished processing work item \"default/microblog-fnf-ninja-tls\"\n",
      "I1216 21:41:30.333822       1 controller.go:177] certificates controller: syncing item 'default/microblog-fnf-ninja-tls'\n",
      "I1216 21:41:30.334214       1 sync.go:239] Preparing certificate default/microblog-fnf-ninja-tls with issuer\n",
      "I1216 21:41:30.334225       1 acme.go:159] getting private key (letsencrypt-staging->tls.key) for acme issuer kube-system/letsencrypt-staging\n",
      "I1216 21:41:30.334777       1 prepare.go:247] Cleaning up previous order for certificate default/microblog-fnf-ninja-tls\n",
      "I1216 21:41:30.334785       1 prepare.go:263] Cleaning up old/expired challenges for Certificate default/microblog-fnf-ninja-tls\n",
      "I1216 21:41:30.334804       1 logger.go:22] Calling CreateOrder\n",
      "I1216 21:41:30.816191       1 acme.go:193] Created order for domains: [{dns microblog.fnf.ninja}]\n",
      "I1216 21:41:30.816603       1 logger.go:52] Calling GetAuthorization\n",
      "I1216 21:41:30.863166       1 logger.go:72] Calling HTTP01ChallengeResponse\n",
      "I1216 21:41:30.863585       1 prepare.go:263] Cleaning up old/expired challenges for Certificate default/microblog-fnf-ninja-tls\n",
      "I1216 21:41:30.863707       1 logger.go:47] Calling GetChallenge\n",
      "I1216 21:41:39.940798       1 http.go:122] wrong status code '502'\n",
      "I1216 21:41:39.940867       1 pod.go:49] No existing HTTP01 challenge solver pod found for Certificate \"microblog-fnf-ninja-tls\". One will be created.\n",
      "I1216 21:41:39.951851       1 service.go:35] No existing HTTP01 challenge solver service found for Certificate %!q(MISSING). One will be created.\n",
      "I1216 21:41:40.020858       1 helpers.go:155] Setting lastTransitionTime for Certificate \"microblog-fnf-ninja-tls\" condition \"Ready\" to 2018-12-16 21:41:40.020832677 +0000 UTC m=+16606.858864533\n",
      "I1216 21:41:40.021076       1 sync.go:241] Error preparing issuer for certificate default/microblog-fnf-ninja-tls: ingress.extensions \"microblog-ingress-tls\" not found\n",
      "E1216 21:41:40.028283       1 sync.go:168] [default/microblog-fnf-ninja-tls] Error getting certificate 'microblog-fnf-ninja-tls': secret \"microblog-fnf-ninja-tls\" not found\n",
      "E1216 21:41:40.028484       1 controller.go:186] certificates controller: Re-queuing item \"default/microblog-fnf-ninja-tls\" due to error processing: ingress.extensions \"microblog-ingress-tls\" not found\n",
      "I1216 21:41:44.028264       1 controller.go:177] certificates controller: syncing item 'default/microblog-fnf-ninja-tls'\n",
      "I1216 21:41:44.028785       1 sync.go:239] Preparing certificate default/microblog-fnf-ninja-tls with issuer\n",
      "I1216 21:41:44.028865       1 acme.go:159] getting private key (letsencrypt-staging->tls.key) for acme issuer kube-system/letsencrypt-staging\n",
      "I1216 21:41:44.029419       1 logger.go:27] Calling GetOrder\n",
      "I1216 21:41:44.184904       1 logger.go:52] Calling GetAuthorization\n",
      "I1216 21:41:44.243677       1 logger.go:72] Calling HTTP01ChallengeResponse\n",
      "I1216 21:41:44.243989       1 prepare.go:263] Cleaning up old/expired challenges for Certificate default/microblog-fnf-ninja-tls\n",
      "I1216 21:41:44.244079       1 logger.go:47] Calling GetChallenge\n",
      "I1216 21:41:48.471099       1 controller.go:152] ingress-shim controller: syncing item 'default/microblog-ingress-tls'\n",
      "I1216 21:41:48.471154       1 sync.go:123] Certificate \"microblog-fnf-ninja-tls\" for ingress \"microblog-ingress-tls\" already exists\n",
      "I1216 21:41:48.471163       1 sync.go:126] Certificate \"microblog-fnf-ninja-tls\" for ingress \"microblog-ingress-tls\" is up to date\n",
      "I1216 21:41:48.471181       1 controller.go:166] ingress-shim controller: Finished processing work item \"default/microblog-ingress-tls\"\n",
      "I1216 21:41:53.312234       1 http.go:122] wrong status code '502'\n",
      "I1216 21:41:53.319824       1 helpers.go:162] Found status change for Certificate \"microblog-fnf-ninja-tls\" condition \"Ready\": \"False\" -> \"False\"; setting lastTransitionTime to 2018-12-16 21:41:53.319809019 +0000 UTC m=+16620.157840881\n",
      "I1216 21:41:53.319860       1 sync.go:241] Error preparing issuer for certificate default/microblog-fnf-ninja-tls: http-01 self check failed for domain \"microblog.fnf.ninja\"\n",
      "I1216 21:41:53.323326       1 controller.go:152] ingress-shim controller: syncing item 'default/microblog-ingress-tls'\n",
      "I1216 21:41:53.323631       1 sync.go:123] Certificate \"microblog-fnf-ninja-tls\" for ingress \"microblog-ingress-tls\" already exists\n",
      "I1216 21:41:53.323656       1 sync.go:126] Certificate \"microblog-fnf-ninja-tls\" for ingress \"microblog-ingress-tls\" is up to date\n",
      "I1216 21:41:53.323670       1 controller.go:166] ingress-shim controller: Finished processing work item \"default/microblog-ingress-tls\"\n",
      "E1216 21:41:53.327242       1 sync.go:168] [default/microblog-fnf-ninja-tls] Error getting certificate 'microblog-fnf-ninja-tls': secret \"microblog-fnf-ninja-tls\" not found\n",
      "E1216 21:41:53.327762       1 controller.go:186] certificates controller: Re-queuing item \"default/microblog-fnf-ninja-tls\" due to error processing: http-01 self check failed for domain \"microblog.fnf.ninja\"\n",
      "I1216 21:42:09.328072       1 controller.go:177] certificates controller: syncing item 'default/microblog-fnf-ninja-tls'\n",
      "I1216 21:42:09.328655       1 sync.go:239] Preparing certificate default/microblog-fnf-ninja-tls with issuer\n",
      "I1216 21:42:09.328745       1 acme.go:159] getting private key (letsencrypt-staging->tls.key) for acme issuer kube-system/letsencrypt-staging\n",
      "I1216 21:42:09.329232       1 logger.go:27] Calling GetOrder\n",
      "I1216 21:42:09.471838       1 logger.go:52] Calling GetAuthorization\n",
      "I1216 21:42:09.557324       1 logger.go:72] Calling HTTP01ChallengeResponse\n",
      "I1216 21:42:09.557376       1 prepare.go:263] Cleaning up old/expired challenges for Certificate default/microblog-fnf-ninja-tls\n",
      "I1216 21:42:09.557395       1 logger.go:47] Calling GetChallenge\n",
      "I1216 21:42:09.644082       1 http.go:122] wrong status code '404'\n",
      "I1216 21:42:09.644485       1 helpers.go:162] Found status change for Certificate \"microblog-fnf-ninja-tls\" condition \"Ready\": \"False\" -> \"False\"; setting lastTransitionTime to 2018-12-16 21:42:09.644464289 +0000 UTC m=+16636.482496145\n",
      "I1216 21:42:09.644617       1 sync.go:241] Error preparing issuer for certificate default/microblog-fnf-ninja-tls: http-01 self check failed for domain \"microblog.fnf.ninja\"\n",
      "E1216 21:42:09.729168       1 sync.go:168] [default/microblog-fnf-ninja-tls] Error getting certificate 'microblog-fnf-ninja-tls': secret \"microblog-fnf-ninja-tls\" not found\n",
      "E1216 21:42:09.729637       1 controller.go:186] certificates controller: Re-queuing item \"default/microblog-fnf-ninja-tls\" due to error processing: http-01 self check failed for domain \"microblog.fnf.ninja\"\n",
      "I1216 21:42:31.204097       1 controller.go:152] ingress-shim controller: syncing item 'default/microblog-ingress-tls'\n",
      "I1216 21:42:31.204157       1 sync.go:123] Certificate \"microblog-fnf-ninja-tls\" for ingress \"microblog-ingress-tls\" already exists\n",
      "I1216 21:42:31.204166       1 sync.go:126] Certificate \"microblog-fnf-ninja-tls\" for ingress \"microblog-ingress-tls\" is up to date\n",
      "I1216 21:42:31.204180       1 controller.go:166] ingress-shim controller: Finished processing work item \"default/microblog-ingress-tls\"\n",
      "I1216 21:42:32.133315       1 controller.go:152] ingress-shim controller: syncing item 'default/microblog-ingress-tls'\n",
      "I1216 21:42:32.133371       1 sync.go:123] Certificate \"microblog-fnf-ninja-tls\" for ingress \"microblog-ingress-tls\" already exists\n",
      "I1216 21:42:32.133381       1 sync.go:126] Certificate \"microblog-fnf-ninja-tls\" for ingress \"microblog-ingress-tls\" is up to date\n",
      "I1216 21:42:32.133393       1 controller.go:166] ingress-shim controller: Finished processing work item \"default/microblog-ingress-tls\"\n",
      "I1216 21:42:56.071384       1 controller.go:152] ingress-shim controller: syncing item 'default/microblog-ingress-tls'\n",
      "I1216 21:42:56.071439       1 sync.go:123] Certificate \"microblog-fnf-ninja-tls\" for ingress \"microblog-ingress-tls\" already exists\n",
      "I1216 21:42:56.071449       1 sync.go:126] Certificate \"microblog-fnf-ninja-tls\" for ingress \"microblog-ingress-tls\" is up to date\n",
      "I1216 21:42:56.071460       1 controller.go:166] ingress-shim controller: Finished processing work item \"default/microblog-ingress-tls\"\n",
      "I1216 21:43:09.730182       1 controller.go:177] certificates controller: syncing item 'default/microblog-fnf-ninja-tls'\n",
      "I1216 21:43:09.730713       1 sync.go:239] Preparing certificate default/microblog-fnf-ninja-tls with issuer\n",
      "I1216 21:43:09.730797       1 acme.go:159] getting private key (letsencrypt-staging->tls.key) for acme issuer kube-system/letsencrypt-staging\n",
      "I1216 21:43:09.731458       1 logger.go:27] Calling GetOrder\n",
      "I1216 21:43:09.876003       1 logger.go:52] Calling GetAuthorization\n",
      "I1216 21:43:09.969992       1 logger.go:72] Calling HTTP01ChallengeResponse\n",
      "I1216 21:43:09.970076       1 prepare.go:263] Cleaning up old/expired challenges for Certificate default/microblog-fnf-ninja-tls\n",
      "I1216 21:43:09.970099       1 logger.go:47] Calling GetChallenge\n",
      "I1216 21:43:10.063041       1 http.go:122] wrong status code '404'\n",
      "I1216 21:43:10.063669       1 helpers.go:162] Found status change for Certificate \"microblog-fnf-ninja-tls\" condition \"Ready\": \"False\" -> \"False\"; setting lastTransitionTime to 2018-12-16 21:43:10.063643208 +0000 UTC m=+16696.901675093\n",
      "I1216 21:43:10.063816       1 sync.go:241] Error preparing issuer for certificate default/microblog-fnf-ninja-tls: http-01 self check failed for domain \"microblog.fnf.ninja\"\n",
      "E1216 21:43:10.072066       1 sync.go:168] [default/microblog-fnf-ninja-tls] Error getting certificate 'microblog-fnf-ninja-tls': secret \"microblog-fnf-ninja-tls\" not found\n",
      "E1216 21:43:10.072341       1 controller.go:186] certificates controller: Re-queuing item \"default/microblog-fnf-ninja-tls\" due to error processing: http-01 self check failed for domain \"microblog.fnf.ninja\"\n"
     ]
    }
   ],
   "source": [
    "!kubectl logs -n kube-system $pod | tail -120"
   ]
  },
  {
   "cell_type": "code",
   "execution_count": 167,
   "metadata": {},
   "outputs": [
    {
     "name": "stdout",
     "output_type": "stream",
     "text": [
      "certificate.certmanager.k8s.io/microblog-fnf-ninja-tls created\n"
     ]
    }
   ],
   "source": [
    "!kubectl apply -f k8s/certificate.yaml"
   ]
  },
  {
   "cell_type": "code",
   "execution_count": 154,
   "metadata": {},
   "outputs": [
    {
     "name": "stdout",
     "output_type": "stream",
     "text": [
      "Name:         microblog-fnf-ninja-tls\n",
      "Namespace:    default\n",
      "Labels:       <none>\n",
      "Annotations:  <none>\n",
      "API Version:  certmanager.k8s.io/v1alpha1\n",
      "Kind:         Certificate\n",
      "Metadata:\n",
      "  Cluster Name:        \n",
      "  Creation Timestamp:  2018-12-16T17:51:04Z\n",
      "  Generation:          1\n",
      "  Owner References:\n",
      "    API Version:           extensions/v1beta1\n",
      "    Block Owner Deletion:  true\n",
      "    Controller:            true\n",
      "    Kind:                  Ingress\n",
      "    Name:                  microblog-ingress-tls\n",
      "    UID:                   285d9449-015b-11e9-8336-42010a80016c\n",
      "  Resource Version:        10337\n",
      "  Self Link:               /apis/certmanager.k8s.io/v1alpha1/namespaces/default/certificates/microblog-fnf-ninja-tls\n",
      "  UID:                     285f8931-015b-11e9-8336-42010a80016c\n",
      "Spec:\n",
      "  Acme:\n",
      "    Config:\n",
      "      Domains:\n",
      "        microblog.fnf.ninja\n",
      "      Http 01:\n",
      "        Ingress:  \n",
      "  Common Name:    \n",
      "  Dns Names:\n",
      "    microblog.fnf.ninja\n",
      "  Issuer Ref:\n",
      "    Kind:       ClusterIssuer\n",
      "    Name:       letsencrypt-staging\n",
      "  Secret Name:  microblog-fnf-ninja-tls\n",
      "Status:\n",
      "  Acme:\n",
      "    Order:\n",
      "      Challenges:\n",
      "        Authz URL:  https://acme-staging-v02.api.letsencrypt.org/acme/authz/YXynmrGx6RHgmEjJtoxS_Gth7Ec3LW2gG2VwpETZzkc\n",
      "        Domain:     microblog.fnf.ninja\n",
      "        Http 01:\n",
      "          Ingress:  \n",
      "        Key:        GKjGjus1lzUK2dZ-x-8HVRe3ur-fBpYZbYNcCKV9GPM.lRzPQaMfaZNEWWKJQN4PwEwKKP45itlXgh38XdAUIiU\n",
      "        Token:      GKjGjus1lzUK2dZ-x-8HVRe3ur-fBpYZbYNcCKV9GPM\n",
      "        Type:       http-01\n",
      "        URL:        https://acme-staging-v02.api.letsencrypt.org/acme/challenge/YXynmrGx6RHgmEjJtoxS_Gth7Ec3LW2gG2VwpETZzkc/209601679\n",
      "        Wildcard:   false\n",
      "      URL:          https://acme-staging-v02.api.letsencrypt.org/acme/order/7597672/16490077\n",
      "  Conditions:\n",
      "    Last Transition Time:  2018-12-16T18:14:46Z\n",
      "    Message:               http-01 self check failed for domain \"microblog.fnf.ninja\"\n",
      "    Reason:                ValidateError\n",
      "    Status:                False\n",
      "    Type:                  Ready\n",
      "Events:\n",
      "  Type    Reason       Age   From          Message\n",
      "  ----    ------       ----  ----          -------\n",
      "  Normal  CreateOrder  24m   cert-manager  Created new ACME order, attempting validation...\n"
     ]
    }
   ],
   "source": [
    "!kubectl describe -f k8s/certificate.yaml"
   ]
  },
  {
   "cell_type": "markdown",
   "metadata": {},
   "source": [
    "---\n",
    "### Deploy the secure ingress"
   ]
  },
  {
   "cell_type": "code",
   "execution_count": 168,
   "metadata": {},
   "outputs": [
    {
     "name": "stdout",
     "output_type": "stream",
     "text": [
      "ingress.extensions \"microblog-ingress-http01\" deleted\n"
     ]
    }
   ],
   "source": [
    "!kubectl delete -f k8s/ingress-http01.yaml"
   ]
  },
  {
   "cell_type": "code",
   "execution_count": 169,
   "metadata": {},
   "outputs": [
    {
     "name": "stdout",
     "output_type": "stream",
     "text": [
      "ingress.extensions/microblog-ingress-tls created\n"
     ]
    }
   ],
   "source": [
    "!kubectl apply -f k8s/ingress-tls.yaml"
   ]
  },
  {
   "cell_type": "code",
   "execution_count": 166,
   "metadata": {},
   "outputs": [
    {
     "name": "stdout",
     "output_type": "stream",
     "text": [
      "Name:             microblog-ingress-http01\n",
      "Namespace:        default\n",
      "Address:          35.244.236.101\n",
      "Default backend:  default-http-backend:80 (10.16.0.7:8080)\n",
      "Rules:\n",
      "  Host  Path  Backends\n",
      "  ----  ----  --------\n",
      "  *     \n",
      "        /   microblog:5000 (<none>)\n",
      "Annotations:\n",
      "  ingress.kubernetes.io/backends:                    {\"k8s-be-31742--1d282262d54dfc76\":\"HEALTHY\",\"k8s-be-31811--1d282262d54dfc76\":\"HEALTHY\"}\n",
      "  ingress.kubernetes.io/forwarding-rule:             k8s-fw-default-microblog-ingress-http01--1d282262d54dfc76\n",
      "  ingress.kubernetes.io/target-proxy:                k8s-tp-default-microblog-ingress-http01--1d282262d54dfc76\n",
      "  ingress.kubernetes.io/url-map:                     k8s-um-default-microblog-ingress-http01--1d282262d54dfc76\n",
      "  kubectl.kubernetes.io/last-applied-configuration:  {\"apiVersion\":\"extensions/v1beta1\",\"kind\":\"Ingress\",\"metadata\":{\"annotations\":{\"kubernetes.io/ingress.global-static-ip-name\":\"microblog\"},\"labels\":{\"app\":\"microblog\"},\"name\":\"microblog-ingress-http01\",\"namespace\":\"default\"},\"spec\":{\"rules\":[{\"http\":{\"paths\":[{\"backend\":{\"serviceName\":\"microblog\",\"servicePort\":5000},\"path\":\"/\"}]}}]}}\n",
      "\n",
      "  kubernetes.io/ingress.global-static-ip-name:  microblog\n",
      "Events:\n",
      "  Type    Reason  Age    From                     Message\n",
      "  ----    ------  ----   ----                     -------\n",
      "  Normal  ADD     10m    loadbalancer-controller  default/microblog-ingress-http01\n",
      "  Normal  CREATE  9m27s  loadbalancer-controller  ip: 35.244.236.101\n"
     ]
    }
   ],
   "source": [
    "!kubectl describe -f k8s/ingress-http01.yaml"
   ]
  },
  {
   "cell_type": "code",
   "execution_count": 64,
   "metadata": {},
   "outputs": [
    {
     "name": "stdout",
     "output_type": "stream",
     "text": [
      "ingress.extensions/microblog-ingress-tls created\n"
     ]
    }
   ],
   "source": [
    "!kubectl apply -f k8s/ingress-tls.yaml"
   ]
  },
  {
   "cell_type": "code",
   "execution_count": 162,
   "metadata": {},
   "outputs": [
    {
     "name": "stdout",
     "output_type": "stream",
     "text": [
      "NAME                  TYPE                                  DATA   AGE\n",
      "default-token-2f545   kubernetes.io/service-account-token   3      4h\n"
     ]
    }
   ],
   "source": [
    "!kubectl get secrets"
   ]
  },
  {
   "cell_type": "code",
   "execution_count": 58,
   "metadata": {},
   "outputs": [
    {
     "name": "stdout",
     "output_type": "stream",
     "text": [
      "  % Total    % Received % Xferd  Average Speed   Time    Time     Time  Current\n",
      "                                 Dload  Upload   Total   Spent    Left  Speed\n",
      "  0     0    0     0    0     0      0      0 --:--:-- --:--:-- --:--:--     0\n",
      "curl: (35) Unknown SSL protocol error in connection to microblog.fnf.ninja:443 \n"
     ]
    }
   ],
   "source": [
    "!curl https://microblog.fnf.ninja | grep Wolfie"
   ]
  },
  {
   "cell_type": "code",
   "execution_count": null,
   "metadata": {},
   "outputs": [],
   "source": []
  }
 ],
 "metadata": {
  "kernelspec": {
   "display_name": "Python 3",
   "language": "python",
   "name": "python3"
  },
  "language_info": {
   "codemirror_mode": {
    "name": "ipython",
    "version": 3
   },
   "file_extension": ".py",
   "mimetype": "text/x-python",
   "name": "python",
   "nbconvert_exporter": "python",
   "pygments_lexer": "ipython3",
   "version": "3.5.3"
  }
 },
 "nbformat": 4,
 "nbformat_minor": 2
}
