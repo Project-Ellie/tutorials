{
 "cells": [
  {
   "cell_type": "code",
   "execution_count": 1,
   "metadata": {},
   "outputs": [],
   "source": [
    "from __future__ import division\n",
    "from __future__ import print_function\n",
    "from __future__ import absolute_import"
   ]
  },
  {
   "cell_type": "code",
   "execution_count": 2,
   "metadata": {},
   "outputs": [],
   "source": [
    "import os\n",
    "import pandas as pd\n",
    "import tensorflow as tf\n",
    "import google.datalab.bigquery as dlbq"
   ]
  },
  {
   "cell_type": "code",
   "execution_count": 3,
   "metadata": {},
   "outputs": [
    {
     "name": "stdout",
     "output_type": "stream",
     "text": [
      "1.12.0\n"
     ]
    }
   ],
   "source": [
    "print(tf.__version__)\n",
    "if tf.test.is_built_with_cuda():\n",
    "    print (\"Built with cuda\")\n",
    "if tf.test.is_gpu_available():\n",
    "    print(\"GPU available.\")"
   ]
  },
  {
   "cell_type": "code",
   "execution_count": 4,
   "metadata": {},
   "outputs": [
    {
     "data": {
      "text/plain": [
       "False"
      ]
     },
     "execution_count": 4,
     "metadata": {},
     "output_type": "execute_result"
    }
   ],
   "source": [
    "tf.test.is_built_with_cuda()"
   ]
  },
  {
   "cell_type": "code",
   "execution_count": 5,
   "metadata": {},
   "outputs": [],
   "source": [
    "tf.logging.set_verbosity(tf.logging.INFO)"
   ]
  },
  {
   "cell_type": "markdown",
   "metadata": {},
   "source": [
    "---\n",
    "##### From Jupyter notebook to python package\n",
    "From exploration to production.\n",
    "\n",
    "This little tool dumps a given function to a file with the same name in a certain package"
   ]
  },
  {
   "cell_type": "code",
   "execution_count": 6,
   "metadata": {},
   "outputs": [],
   "source": [
    "PACKAGE=\"./train\"\n",
    "from tools import make_src_dumper\n",
    "write_py = make_src_dumper(PACKAGE)"
   ]
  },
  {
   "cell_type": "markdown",
   "metadata": {},
   "source": [
    "---"
   ]
  },
  {
   "cell_type": "markdown",
   "metadata": {},
   "source": [
    "# Training and Evaluation Data\n",
    "Training and evaluation data should be provided in files already.\n",
    "\n",
    "If not, please go back an run ```Processing_ATL_JUNE.ipynb```\n",
    "\n",
    "#### Fetch a sample file for examination"
   ]
  },
  {
   "cell_type": "code",
   "execution_count": 7,
   "metadata": {},
   "outputs": [
    {
     "name": "stdout",
     "output_type": "stream",
     "text": [
      "Copying gs://going-tfx/samples/train_data/atl_june_csv-00000-of-00003...\n",
      "/ [1 files][142.9 KiB/142.9 KiB]                                                \n",
      "Operation completed over 1 objects/142.9 KiB.                                    \n",
      "\n",
      "1000 records in /tmp/atl_june/samples/atl_june_csv-00000-of-00003\n"
     ]
    }
   ],
   "source": [
    "DATASET='samples'\n",
    "a_training_file = !gsutil ls gs://going-tfx/$DATASET/train_data/atl_june_csv-00000-of-*\n",
    "a_training_file = a_training_file[0]\n",
    "TEMP_DIR='/tmp/atl_june/{}'.format(DATASET)\n",
    "!rm -rf $TEMP_DIR\n",
    "!mkdir -p $TEMP_DIR\n",
    "!gsutil cp $a_training_file $TEMP_DIR\n",
    "a_training_file = !ls $TEMP_DIR\n",
    "a_training_file = os.path.join(TEMP_DIR,a_training_file[0])\n",
    "res=!wc -l $a_training_file\n",
    "res=res[0].split(\" \")\n",
    "print()\n",
    "print(\"{} records in {}\".format(res[0], res[1]))"
   ]
  },
  {
   "cell_type": "markdown",
   "metadata": {},
   "source": [
    "#### Have a look into the first training data file\n",
    "\n",
    "This data is at the **training data** stage. It's got all and only the columns we want. Is has been normalized and integerized. We'll use the ```tf.feature_column``` API to further prepare categorical features."
   ]
  },
  {
   "cell_type": "code",
   "execution_count": 8,
   "metadata": {},
   "outputs": [
    {
     "data": {
      "text/html": [
       "<div>\n",
       "<style scoped>\n",
       "    .dataframe tbody tr th:only-of-type {\n",
       "        vertical-align: middle;\n",
       "    }\n",
       "\n",
       "    .dataframe tbody tr th {\n",
       "        vertical-align: top;\n",
       "    }\n",
       "\n",
       "    .dataframe thead th {\n",
       "        text-align: right;\n",
       "    }\n",
       "</style>\n",
       "<table border=\"1\" class=\"dataframe\">\n",
       "  <thead>\n",
       "    <tr style=\"text-align: right;\">\n",
       "      <th></th>\n",
       "      <th>AIRLINE</th>\n",
       "      <th>ARR</th>\n",
       "      <th>ARR_DELAY</th>\n",
       "      <th>ARR_LAT</th>\n",
       "      <th>ARR_LON</th>\n",
       "      <th>DEP_DELAY</th>\n",
       "      <th>DEP_DOW</th>\n",
       "      <th>DEP_HOD</th>\n",
       "      <th>DEP_LAT</th>\n",
       "      <th>DEP_LON</th>\n",
       "      <th>DIFF_LAT</th>\n",
       "      <th>DIFF_LON</th>\n",
       "      <th>DISTANCE</th>\n",
       "      <th>MEAN_TEMP_ARR</th>\n",
       "      <th>MEAN_TEMP_DEP</th>\n",
       "      <th>MEAN_VIS_ARR</th>\n",
       "      <th>MEAN_VIS_DEP</th>\n",
       "      <th>WND_SPD_ARR</th>\n",
       "      <th>WND_SPD_DEP</th>\n",
       "    </tr>\n",
       "  </thead>\n",
       "  <tbody>\n",
       "    <tr>\n",
       "      <th>124</th>\n",
       "      <td>0</td>\n",
       "      <td>95</td>\n",
       "      <td>-5.0</td>\n",
       "      <td>42.74</td>\n",
       "      <td>-73.80</td>\n",
       "      <td>0.031169</td>\n",
       "      <td>3</td>\n",
       "      <td>7</td>\n",
       "      <td>33.63</td>\n",
       "      <td>-84.42</td>\n",
       "      <td>0.569795</td>\n",
       "      <td>0.905003</td>\n",
       "      <td>0.175083</td>\n",
       "      <td>0.558712</td>\n",
       "      <td>0.756302</td>\n",
       "      <td>0.445256</td>\n",
       "      <td>0.859375</td>\n",
       "      <td>0.007602</td>\n",
       "      <td>0.294574</td>\n",
       "    </tr>\n",
       "    <tr>\n",
       "      <th>262</th>\n",
       "      <td>0</td>\n",
       "      <td>19</td>\n",
       "      <td>37.0</td>\n",
       "      <td>35.21</td>\n",
       "      <td>-80.94</td>\n",
       "      <td>0.124675</td>\n",
       "      <td>6</td>\n",
       "      <td>21</td>\n",
       "      <td>33.63</td>\n",
       "      <td>-84.42</td>\n",
       "      <td>0.394024</td>\n",
       "      <td>0.828187</td>\n",
       "      <td>0.033353</td>\n",
       "      <td>0.581439</td>\n",
       "      <td>0.752101</td>\n",
       "      <td>0.540146</td>\n",
       "      <td>1.000000</td>\n",
       "      <td>0.005702</td>\n",
       "      <td>0.395349</td>\n",
       "    </tr>\n",
       "  </tbody>\n",
       "</table>\n",
       "</div>"
      ],
      "text/plain": [
       "     AIRLINE  ARR  ARR_DELAY  ARR_LAT  ARR_LON  DEP_DELAY  DEP_DOW  DEP_HOD  \\\n",
       "124        0   95       -5.0    42.74   -73.80   0.031169        3        7   \n",
       "262        0   19       37.0    35.21   -80.94   0.124675        6       21   \n",
       "\n",
       "     DEP_LAT  DEP_LON  DIFF_LAT  DIFF_LON  DISTANCE  MEAN_TEMP_ARR  \\\n",
       "124    33.63   -84.42  0.569795  0.905003  0.175083       0.558712   \n",
       "262    33.63   -84.42  0.394024  0.828187  0.033353       0.581439   \n",
       "\n",
       "     MEAN_TEMP_DEP  MEAN_VIS_ARR  MEAN_VIS_DEP  WND_SPD_ARR  WND_SPD_DEP  \n",
       "124       0.756302      0.445256      0.859375     0.007602     0.294574  \n",
       "262       0.752101      0.540146      1.000000     0.005702     0.395349  "
      ]
     },
     "execution_count": 8,
     "metadata": {},
     "output_type": "execute_result"
    }
   ],
   "source": [
    "from train.model_config import ORDERED_TRAINING_COLUMNS\n",
    "probe = pd.read_csv(a_training_file, names=ORDERED_TRAINING_COLUMNS)\n",
    "probe.sample(frac=1.0)[:2]"
   ]
  },
  {
   "cell_type": "code",
   "execution_count": 9,
   "metadata": {},
   "outputs": [
    {
     "data": {
      "text/html": [
       "<div>\n",
       "<style scoped>\n",
       "    .dataframe tbody tr th:only-of-type {\n",
       "        vertical-align: middle;\n",
       "    }\n",
       "\n",
       "    .dataframe tbody tr th {\n",
       "        vertical-align: top;\n",
       "    }\n",
       "\n",
       "    .dataframe thead th {\n",
       "        text-align: right;\n",
       "    }\n",
       "</style>\n",
       "<table border=\"1\" class=\"dataframe\">\n",
       "  <thead>\n",
       "    <tr style=\"text-align: right;\">\n",
       "      <th></th>\n",
       "      <th>AIRLINE</th>\n",
       "      <th>ARR</th>\n",
       "      <th>ARR_DELAY</th>\n",
       "      <th>ARR_LAT</th>\n",
       "      <th>ARR_LON</th>\n",
       "      <th>DEP_DELAY</th>\n",
       "      <th>DEP_DOW</th>\n",
       "      <th>DEP_HOD</th>\n",
       "      <th>DEP_LAT</th>\n",
       "      <th>DEP_LON</th>\n",
       "      <th>DIFF_LAT</th>\n",
       "      <th>DIFF_LON</th>\n",
       "      <th>DISTANCE</th>\n",
       "      <th>MEAN_TEMP_ARR</th>\n",
       "      <th>MEAN_TEMP_DEP</th>\n",
       "      <th>MEAN_VIS_ARR</th>\n",
       "      <th>MEAN_VIS_DEP</th>\n",
       "      <th>WND_SPD_ARR</th>\n",
       "      <th>WND_SPD_DEP</th>\n",
       "    </tr>\n",
       "  </thead>\n",
       "  <tbody>\n",
       "    <tr>\n",
       "      <th>count</th>\n",
       "      <td>1000.000000</td>\n",
       "      <td>1000.000000</td>\n",
       "      <td>1000.00000</td>\n",
       "      <td>1000.00000</td>\n",
       "      <td>1000.000000</td>\n",
       "      <td>1000.000000</td>\n",
       "      <td>1000.000000</td>\n",
       "      <td>1000.000000</td>\n",
       "      <td>1000.00</td>\n",
       "      <td>1000.00</td>\n",
       "      <td>1000.000000</td>\n",
       "      <td>1000.000000</td>\n",
       "      <td>1000.000000</td>\n",
       "      <td>1000.000000</td>\n",
       "      <td>1000.000000</td>\n",
       "      <td>1000.000000</td>\n",
       "      <td>1000.000000</td>\n",
       "      <td>1000.000000</td>\n",
       "      <td>1000.000000</td>\n",
       "    </tr>\n",
       "    <tr>\n",
       "      <th>mean</th>\n",
       "      <td>0.792000</td>\n",
       "      <td>28.018000</td>\n",
       "      <td>13.35500</td>\n",
       "      <td>35.52869</td>\n",
       "      <td>-86.974060</td>\n",
       "      <td>0.070481</td>\n",
       "      <td>4.020000</td>\n",
       "      <td>14.635000</td>\n",
       "      <td>33.63</td>\n",
       "      <td>-84.42</td>\n",
       "      <td>0.401463</td>\n",
       "      <td>0.763270</td>\n",
       "      <td>0.144398</td>\n",
       "      <td>0.497498</td>\n",
       "      <td>0.620164</td>\n",
       "      <td>0.472723</td>\n",
       "      <td>0.846500</td>\n",
       "      <td>0.006451</td>\n",
       "      <td>0.354178</td>\n",
       "    </tr>\n",
       "    <tr>\n",
       "      <th>std</th>\n",
       "      <td>2.548574</td>\n",
       "      <td>29.295493</td>\n",
       "      <td>34.83019</td>\n",
       "      <td>5.37312</td>\n",
       "      <td>13.707439</td>\n",
       "      <td>0.078587</td>\n",
       "      <td>2.015356</td>\n",
       "      <td>4.435025</td>\n",
       "      <td>0.00</td>\n",
       "      <td>0.00</td>\n",
       "      <td>0.125423</td>\n",
       "      <td>0.147471</td>\n",
       "      <td>0.116163</td>\n",
       "      <td>0.153797</td>\n",
       "      <td>0.181022</td>\n",
       "      <td>0.091371</td>\n",
       "      <td>0.179699</td>\n",
       "      <td>0.002653</td>\n",
       "      <td>0.152871</td>\n",
       "    </tr>\n",
       "    <tr>\n",
       "      <th>min</th>\n",
       "      <td>0.000000</td>\n",
       "      <td>0.000000</td>\n",
       "      <td>-49.00000</td>\n",
       "      <td>21.31000</td>\n",
       "      <td>-157.920000</td>\n",
       "      <td>0.010390</td>\n",
       "      <td>1.000000</td>\n",
       "      <td>6.000000</td>\n",
       "      <td>33.63</td>\n",
       "      <td>-84.42</td>\n",
       "      <td>0.069561</td>\n",
       "      <td>0.000000</td>\n",
       "      <td>0.012476</td>\n",
       "      <td>0.024621</td>\n",
       "      <td>0.000000</td>\n",
       "      <td>0.007299</td>\n",
       "      <td>0.000000</td>\n",
       "      <td>0.001000</td>\n",
       "      <td>0.000000</td>\n",
       "    </tr>\n",
       "    <tr>\n",
       "      <th>25%</th>\n",
       "      <td>0.000000</td>\n",
       "      <td>7.000000</td>\n",
       "      <td>-7.00000</td>\n",
       "      <td>30.49000</td>\n",
       "      <td>-94.710000</td>\n",
       "      <td>0.031169</td>\n",
       "      <td>2.000000</td>\n",
       "      <td>11.000000</td>\n",
       "      <td>33.63</td>\n",
       "      <td>-84.42</td>\n",
       "      <td>0.283847</td>\n",
       "      <td>0.680043</td>\n",
       "      <td>0.073693</td>\n",
       "      <td>0.395833</td>\n",
       "      <td>0.490546</td>\n",
       "      <td>0.437956</td>\n",
       "      <td>0.765625</td>\n",
       "      <td>0.004601</td>\n",
       "      <td>0.255814</td>\n",
       "    </tr>\n",
       "    <tr>\n",
       "      <th>50%</th>\n",
       "      <td>0.000000</td>\n",
       "      <td>17.000000</td>\n",
       "      <td>2.00000</td>\n",
       "      <td>35.87000</td>\n",
       "      <td>-81.750000</td>\n",
       "      <td>0.038961</td>\n",
       "      <td>4.000000</td>\n",
       "      <td>15.000000</td>\n",
       "      <td>33.63</td>\n",
       "      <td>-84.42</td>\n",
       "      <td>0.409430</td>\n",
       "      <td>0.819473</td>\n",
       "      <td>0.116967</td>\n",
       "      <td>0.524621</td>\n",
       "      <td>0.607143</td>\n",
       "      <td>0.510949</td>\n",
       "      <td>0.906250</td>\n",
       "      <td>0.006052</td>\n",
       "      <td>0.348837</td>\n",
       "    </tr>\n",
       "    <tr>\n",
       "      <th>75%</th>\n",
       "      <td>0.000000</td>\n",
       "      <td>39.000000</td>\n",
       "      <td>18.25000</td>\n",
       "      <td>39.99000</td>\n",
       "      <td>-77.460000</td>\n",
       "      <td>0.070130</td>\n",
       "      <td>6.000000</td>\n",
       "      <td>18.000000</td>\n",
       "      <td>33.63</td>\n",
       "      <td>-84.42</td>\n",
       "      <td>0.505602</td>\n",
       "      <td>0.865627</td>\n",
       "      <td>0.154084</td>\n",
       "      <td>0.600379</td>\n",
       "      <td>0.764706</td>\n",
       "      <td>0.540146</td>\n",
       "      <td>0.984375</td>\n",
       "      <td>0.007802</td>\n",
       "      <td>0.434109</td>\n",
       "    </tr>\n",
       "    <tr>\n",
       "      <th>max</th>\n",
       "      <td>18.000000</td>\n",
       "      <td>153.000000</td>\n",
       "      <td>232.00000</td>\n",
       "      <td>61.17000</td>\n",
       "      <td>-70.300000</td>\n",
       "      <td>0.631169</td>\n",
       "      <td>7.000000</td>\n",
       "      <td>23.000000</td>\n",
       "      <td>33.63</td>\n",
       "      <td>-84.42</td>\n",
       "      <td>1.000000</td>\n",
       "      <td>0.942657</td>\n",
       "      <td>1.000000</td>\n",
       "      <td>1.000000</td>\n",
       "      <td>1.000000</td>\n",
       "      <td>0.540146</td>\n",
       "      <td>1.000000</td>\n",
       "      <td>0.019306</td>\n",
       "      <td>1.000000</td>\n",
       "    </tr>\n",
       "  </tbody>\n",
       "</table>\n",
       "</div>"
      ],
      "text/plain": [
       "           AIRLINE          ARR   ARR_DELAY     ARR_LAT      ARR_LON  \\\n",
       "count  1000.000000  1000.000000  1000.00000  1000.00000  1000.000000   \n",
       "mean      0.792000    28.018000    13.35500    35.52869   -86.974060   \n",
       "std       2.548574    29.295493    34.83019     5.37312    13.707439   \n",
       "min       0.000000     0.000000   -49.00000    21.31000  -157.920000   \n",
       "25%       0.000000     7.000000    -7.00000    30.49000   -94.710000   \n",
       "50%       0.000000    17.000000     2.00000    35.87000   -81.750000   \n",
       "75%       0.000000    39.000000    18.25000    39.99000   -77.460000   \n",
       "max      18.000000   153.000000   232.00000    61.17000   -70.300000   \n",
       "\n",
       "         DEP_DELAY      DEP_DOW      DEP_HOD  DEP_LAT  DEP_LON     DIFF_LAT  \\\n",
       "count  1000.000000  1000.000000  1000.000000  1000.00  1000.00  1000.000000   \n",
       "mean      0.070481     4.020000    14.635000    33.63   -84.42     0.401463   \n",
       "std       0.078587     2.015356     4.435025     0.00     0.00     0.125423   \n",
       "min       0.010390     1.000000     6.000000    33.63   -84.42     0.069561   \n",
       "25%       0.031169     2.000000    11.000000    33.63   -84.42     0.283847   \n",
       "50%       0.038961     4.000000    15.000000    33.63   -84.42     0.409430   \n",
       "75%       0.070130     6.000000    18.000000    33.63   -84.42     0.505602   \n",
       "max       0.631169     7.000000    23.000000    33.63   -84.42     1.000000   \n",
       "\n",
       "          DIFF_LON     DISTANCE  MEAN_TEMP_ARR  MEAN_TEMP_DEP  MEAN_VIS_ARR  \\\n",
       "count  1000.000000  1000.000000    1000.000000    1000.000000   1000.000000   \n",
       "mean      0.763270     0.144398       0.497498       0.620164      0.472723   \n",
       "std       0.147471     0.116163       0.153797       0.181022      0.091371   \n",
       "min       0.000000     0.012476       0.024621       0.000000      0.007299   \n",
       "25%       0.680043     0.073693       0.395833       0.490546      0.437956   \n",
       "50%       0.819473     0.116967       0.524621       0.607143      0.510949   \n",
       "75%       0.865627     0.154084       0.600379       0.764706      0.540146   \n",
       "max       0.942657     1.000000       1.000000       1.000000      0.540146   \n",
       "\n",
       "       MEAN_VIS_DEP  WND_SPD_ARR  WND_SPD_DEP  \n",
       "count   1000.000000  1000.000000  1000.000000  \n",
       "mean       0.846500     0.006451     0.354178  \n",
       "std        0.179699     0.002653     0.152871  \n",
       "min        0.000000     0.001000     0.000000  \n",
       "25%        0.765625     0.004601     0.255814  \n",
       "50%        0.906250     0.006052     0.348837  \n",
       "75%        0.984375     0.007802     0.434109  \n",
       "max        1.000000     0.019306     1.000000  "
      ]
     },
     "execution_count": 9,
     "metadata": {},
     "output_type": "execute_result"
    }
   ],
   "source": [
    "probe.describe()"
   ]
  },
  {
   "cell_type": "markdown",
   "metadata": {},
   "source": [
    "---\n",
    "# ```tf.data``` input function"
   ]
  },
  {
   "cell_type": "markdown",
   "metadata": {},
   "source": [
    "#### These input functions read from any number of files containing pre-processed data\n",
    "In our parlour, this data is at the **training stage**. It's been fetched from a BigQuery table and pre-processed. It's not what'll come in at prediction time!\n",
    "\n",
    "That pre-processing function has been stored in a metadata directory that is available to us to treat data at prediction time (**signature stage**) exactly the same way that our training data has been treated."
   ]
  },
  {
   "cell_type": "markdown",
   "metadata": {},
   "source": [
    "#### Read from TFRecords\n",
    "This is highly optimized for throughput, but files are not that easy to play with"
   ]
  },
  {
   "cell_type": "code",
   "execution_count": 10,
   "metadata": {},
   "outputs": [
    {
     "data": {
      "text/plain": [
       "'make_tfr_input_fn written to ./train/make_tfr_input_fn.py.'"
      ]
     },
     "execution_count": 10,
     "metadata": {},
     "output_type": "execute_result"
    }
   ],
   "source": [
    "def make_tfr_input_fn(filename_pattern, batch_size, shuffle_buffer_size=10000, distribute=False,\n",
    "                     reader_num_threads=16, parser_num_threads=16, sloppy_ordering=True,\n",
    "                      prefetch_buffer_size=1024):\n",
    "    \n",
    "    import tensorflow as tf\n",
    "    from train.model_config import LABEL_COLUMN\n",
    "    from train.model_config import TRAINING_METADATA\n",
    "\n",
    "    feature_spec = TRAINING_METADATA.schema.as_feature_spec()\n",
    "\n",
    "    def _input_fn():\n",
    "        dataset = tf.data.experimental.make_batched_features_dataset(\n",
    "            file_pattern=filename_pattern,\n",
    "            batch_size=batch_size,\n",
    "            features=feature_spec,\n",
    "            shuffle_buffer_size=shuffle_buffer_size,\n",
    "            prefetch_buffer_size=prefetch_buffer_size,\n",
    "            reader_num_threads=reader_num_threads,\n",
    "            parser_num_threads=parser_num_threads,\n",
    "            sloppy_ordering=sloppy_ordering,\n",
    "            label_key=LABEL_COLUMN)\n",
    "\n",
    "        if distribute:\n",
    "            return dataset \n",
    "        else:\n",
    "            return dataset.make_one_shot_iterator().get_next()\n",
    "    return _input_fn\n",
    "\n",
    "write_py(make_tfr_input_fn)"
   ]
  },
  {
   "cell_type": "markdown",
   "metadata": {},
   "source": [
    "---\n",
    "#### Verify the input_function's behaviour\n",
    "```make_input_fn()``` returns an input_function. This function will be passed to the estimator, such that the estimator can call it in its own session/graph context to create a particularly useful input tensor. That input tensor will return the next batch of input records whenever it is evaluated. Let's create that tensor ourselves to see it in action."
   ]
  },
  {
   "cell_type": "code",
   "execution_count": 11,
   "metadata": {},
   "outputs": [
    {
     "data": {
      "text/plain": [
       "[({'AIRLINE': array([2, 3]),\n",
       "   'ARR': array([ 4, 36]),\n",
       "   'ARR_LAT': array([27.97, 36.09], dtype=float32),\n",
       "   'ARR_LON': array([-82.53, -79.93], dtype=float32),\n",
       "   'DEP_DELAY': array([0.04415584, 0.24415584], dtype=float32),\n",
       "   'DEP_DOW': array([1, 4]),\n",
       "   'DEP_HOD': array([ 8, 14]),\n",
       "   'DEP_LAT': array([33.63, 33.63], dtype=float32),\n",
       "   'DEP_LON': array([-84.42, -84.42], dtype=float32),\n",
       "   'DIFF_LAT': array([0.22502334, 0.41456586], dtype=float32),\n",
       "   'DIFF_LON': array([0.81108123, 0.8390533 ], dtype=float32),\n",
       "   'DISTANCE': array([0.07420568, 0.05138674], dtype=float32),\n",
       "   'MEAN_TEMP_ARR': array([0.5795454, 0.5227272], dtype=float32),\n",
       "   'MEAN_TEMP_DEP': array([0.46218482, 0.63865525], dtype=float32),\n",
       "   'MEAN_VIS_ARR': array([0.540146 , 0.5182482], dtype=float32),\n",
       "   'MEAN_VIS_DEP': array([0.625     , 0.98437494], dtype=float32),\n",
       "   'WND_SPD_ARR': array([0.00540162, 0.00780234], dtype=float32),\n",
       "   'WND_SPD_DEP': array([0.27131784, 0.27131784], dtype=float32)},\n",
       "  array([-13.,  73.], dtype=float32))]"
      ]
     },
     "execution_count": 11,
     "metadata": {},
     "output_type": "execute_result"
    }
   ],
   "source": [
    "with tf.Session() as sess:\n",
    "    train_input_fn = make_tfr_input_fn(\n",
    "        \"gs://going-tfx/{}/train_data/atl_june_tfr-00000-of-00003\".format(DATASET), batch_size=2)\n",
    "    input = train_input_fn()\n",
    "    res = [sess.run(input) for i in range(1)]\n",
    "res"
   ]
  },
  {
   "cell_type": "markdown",
   "metadata": {},
   "source": [
    "----\n",
    "#### Read from CSV\n",
    "Not so good for production, but may come handy for exploration."
   ]
  },
  {
   "cell_type": "code",
   "execution_count": 12,
   "metadata": {},
   "outputs": [
    {
     "data": {
      "text/plain": [
       "'make_input_fn written to ./train/make_input_fn.py.'"
      ]
     },
     "execution_count": 12,
     "metadata": {},
     "output_type": "execute_result"
    }
   ],
   "source": [
    "def make_input_fn(filename_pattern, batch_size, shuffle_buffer_size=None, distribute=False):\n",
    "\n",
    "    import tensorflow as tf\n",
    "    from train.model_config import ORDERED_TRAINING_DEFAULTS\n",
    "    from train.model_config import ORDERED_TRAINING_COLUMNS\n",
    "    from train.model_config import LABEL_COLUMN\n",
    "    \n",
    "    \n",
    "    def _input_fn():\n",
    "        filenames = tf.gfile.Glob(filename_pattern)\n",
    "        dataset = tf.data.TextLineDataset(filenames)\n",
    "\n",
    "        def decode_csv(row):\n",
    "            cols = tf.decode_csv(row, record_defaults=ORDERED_TRAINING_DEFAULTS)\n",
    "            features = dict(zip(ORDERED_TRAINING_COLUMNS, cols))\n",
    "            return features\n",
    "\n",
    "        def pop_target(features):\n",
    "            target = features.pop(LABEL_COLUMN)\n",
    "            return features, target\n",
    "        \n",
    "        if shuffle_buffer_size is not None:\n",
    "            dataset = dataset.shuffle(buffer_size=shuffle_buffer_size)\n",
    "                \n",
    "        dataset = (dataset.repeat()\n",
    "                   .map(decode_csv)\n",
    "                   .map(pop_target)\n",
    "                   .batch(batch_size))\n",
    "        \n",
    "        if distribute:\n",
    "            return dataset \n",
    "        else:\n",
    "            return dataset.make_one_shot_iterator().get_next()\n",
    "    \n",
    "    return _input_fn\n",
    "\n",
    "write_py(make_input_fn)"
   ]
  },
  {
   "cell_type": "code",
   "execution_count": 13,
   "metadata": {},
   "outputs": [
    {
     "data": {
      "text/plain": [
       "[({'AIRLINE': array([0, 1], dtype=int32),\n",
       "   'ARR': array([123,  96], dtype=int32),\n",
       "   'ARR_LAT': array([35.04, 31.53], dtype=float32),\n",
       "   'ARR_LON': array([-106.6 ,  -84.19], dtype=float32),\n",
       "   'DEP_DELAY': array([0.05974026, 0.03116883], dtype=float32),\n",
       "   'DEP_DOW': array([1, 5], dtype=int32),\n",
       "   'DEP_HOD': array([10,  9], dtype=int32),\n",
       "   'DEP_LAT': array([33.63, 33.63], dtype=float32),\n",
       "   'DEP_LON': array([-84.42, -84.42], dtype=float32),\n",
       "   'DIFF_LAT': array([0.39005607, 0.3081233 ], dtype=float32),\n",
       "   'DIFF_LON': array([0.5521248, 0.7932221], dtype=float32),\n",
       "   'DISTANCE': array([0.26888072, 0.01508719], dtype=float32),\n",
       "   'MEAN_TEMP_ARR': array([0.46401513, 0.68371207], dtype=float32),\n",
       "   'MEAN_TEMP_DEP': array([0.53361326, 0.95378125], dtype=float32),\n",
       "   'MEAN_VIS_ARR': array([0.540146  , 0.48905113], dtype=float32),\n",
       "   'MEAN_VIS_DEP': array([0.89062506, 0.765625  ], dtype=float32),\n",
       "   'WND_SPD_ARR': array([0.01220366, 0.00460138], dtype=float32),\n",
       "   'WND_SPD_DEP': array([0.3875969 , 0.17829457], dtype=float32)},\n",
       "  array([11., -8.], dtype=float32))]"
      ]
     },
     "execution_count": 13,
     "metadata": {},
     "output_type": "execute_result"
    }
   ],
   "source": [
    "with tf.Session() as sess:\n",
    "    train_input_fn = make_input_fn(\n",
    "        \"gs://going-tfx/{}/eval_data/*\".format(DATASET), batch_size=2)\n",
    "    input = train_input_fn()\n",
    "    res = [sess.run(input) for i in range(1)]\n",
    "res"
   ]
  },
  {
   "cell_type": "markdown",
   "metadata": {},
   "source": [
    "We evaluated the input tensor twice to each time receive a batch of 2 examples from the list of input files."
   ]
  },
  {
   "cell_type": "markdown",
   "metadata": {},
   "source": [
    "---\n",
    "# Additional feature engineering for categorical columns"
   ]
  },
  {
   "cell_type": "markdown",
   "metadata": {},
   "source": [
    "Categorical columns need to be treated once more to derive at numerical input suitable for model training. That involves bucketizing, the use of dictionaries, feature crossing and embedding"
   ]
  },
  {
   "cell_type": "markdown",
   "metadata": {},
   "source": [
    "#### Find ranges to bucketize latitude and longitude \n",
    "We can easily understand the range of values with the help of a bq query and ```pandas.describe()```"
   ]
  },
  {
   "cell_type": "code",
   "execution_count": 14,
   "metadata": {},
   "outputs": [
    {
     "data": {
      "text/html": [
       "<div>\n",
       "<style scoped>\n",
       "    .dataframe tbody tr th:only-of-type {\n",
       "        vertical-align: middle;\n",
       "    }\n",
       "\n",
       "    .dataframe tbody tr th {\n",
       "        vertical-align: top;\n",
       "    }\n",
       "\n",
       "    .dataframe thead th {\n",
       "        text-align: right;\n",
       "    }\n",
       "</style>\n",
       "<table border=\"1\" class=\"dataframe\">\n",
       "  <thead>\n",
       "    <tr style=\"text-align: right;\">\n",
       "      <th></th>\n",
       "      <th>lat</th>\n",
       "      <th>lon</th>\n",
       "    </tr>\n",
       "  </thead>\n",
       "  <tbody>\n",
       "    <tr>\n",
       "      <th>count</th>\n",
       "      <td>344.000000</td>\n",
       "      <td>344.000000</td>\n",
       "    </tr>\n",
       "    <tr>\n",
       "      <th>mean</th>\n",
       "      <td>38.491570</td>\n",
       "      <td>-98.531599</td>\n",
       "    </tr>\n",
       "    <tr>\n",
       "      <th>std</th>\n",
       "      <td>8.547964</td>\n",
       "      <td>21.746974</td>\n",
       "    </tr>\n",
       "    <tr>\n",
       "      <th>min</th>\n",
       "      <td>13.480000</td>\n",
       "      <td>-176.640000</td>\n",
       "    </tr>\n",
       "    <tr>\n",
       "      <th>25%</th>\n",
       "      <td>33.450000</td>\n",
       "      <td>-111.675000</td>\n",
       "    </tr>\n",
       "    <tr>\n",
       "      <th>50%</th>\n",
       "      <td>38.715000</td>\n",
       "      <td>-93.300000</td>\n",
       "    </tr>\n",
       "    <tr>\n",
       "      <th>75%</th>\n",
       "      <td>42.907500</td>\n",
       "      <td>-82.497500</td>\n",
       "    </tr>\n",
       "    <tr>\n",
       "      <th>max</th>\n",
       "      <td>71.280000</td>\n",
       "      <td>-64.800000</td>\n",
       "    </tr>\n",
       "  </tbody>\n",
       "</table>\n",
       "</div>"
      ],
      "text/plain": [
       "              lat         lon\n",
       "count  344.000000  344.000000\n",
       "mean    38.491570  -98.531599\n",
       "std      8.547964   21.746974\n",
       "min     13.480000 -176.640000\n",
       "25%     33.450000 -111.675000\n",
       "50%     38.715000  -93.300000\n",
       "75%     42.907500  -82.497500\n",
       "max     71.280000  -64.800000"
      ]
     },
     "execution_count": 14,
     "metadata": {},
     "output_type": "execute_result"
    }
   ],
   "source": [
    "query=\"\"\"\n",
    "select \n",
    "    distinct arrival_airport as airport, arrival_lat as lat, arrival_lon as lon \n",
    "from \n",
    "    `bigquery-samples.airline_ontime_data.flights`\n",
    "\"\"\"\n",
    "locations = dlbq.Query(query).execute().result().to_dataframe()\n",
    "locations.describe()"
   ]
  },
  {
   "cell_type": "code",
   "execution_count": 15,
   "metadata": {},
   "outputs": [
    {
     "data": {
      "text/plain": [
       "[10, 15, 20, 25, 30, 35, 40, 45, 50, 55, 60, 65, 70, 75]"
      ]
     },
     "execution_count": 15,
     "metadata": {},
     "output_type": "execute_result"
    }
   ],
   "source": [
    "lat_boundaries = range(10,80,5)\n",
    "lat_boundaries"
   ]
  },
  {
   "cell_type": "code",
   "execution_count": 16,
   "metadata": {},
   "outputs": [
    {
     "data": {
      "text/plain": [
       "[-100, -95, -90, -85, -80, -75, -70, -65, -60]"
      ]
     },
     "execution_count": 16,
     "metadata": {},
     "output_type": "execute_result"
    }
   ],
   "source": [
    "lon_boundaries = range(-100, -55, 5)\n",
    "lon_boundaries"
   ]
  },
  {
   "cell_type": "markdown",
   "metadata": {},
   "source": [
    "We're going to use those boundaries in the function below"
   ]
  },
  {
   "cell_type": "markdown",
   "metadata": {},
   "source": [
    "#### Using tf feature_column api for bucketizing, crossing and embedding"
   ]
  },
  {
   "cell_type": "code",
   "execution_count": 17,
   "metadata": {},
   "outputs": [
    {
     "data": {
      "text/plain": [
       "'create_feature_columns written to ./train/create_feature_columns.py.'"
      ]
     },
     "execution_count": 17,
     "metadata": {},
     "output_type": "execute_result"
    }
   ],
   "source": [
    "def create_feature_columns():\n",
    "    \n",
    "    from tensorflow.feature_column import indicator_column as ind\n",
    "    from tensorflow.feature_column import numeric_column as num\n",
    "    from tensorflow.feature_column import bucketized_column as buck\n",
    "    from tensorflow.feature_column import crossed_column as cross\n",
    "    from tensorflow.feature_column import embedding_column as emb\n",
    "    from tensorflow.feature_column import categorical_column_with_identity as cid\n",
    "    \n",
    "    ################################################################\n",
    "    #  Numerical columns for the pre-processed features\n",
    "    ################################################################\n",
    "    feature_columns = [\n",
    "        num(col) for col in [\n",
    "            'DEP_DELAY',  \n",
    "            'MEAN_TEMP_DEP','MEAN_VIS_DEP','WND_SPD_DEP',\n",
    "            'MEAN_TEMP_ARR','MEAN_VIS_ARR','WND_SPD_ARR',\n",
    "            'DIFF_LAT','DIFF_LON','DISTANCE']]\n",
    "    \n",
    "    ################################################################\n",
    "    #  categorical from ints, bucket counts from examination of the \n",
    "    #  full dataset\n",
    "    ################################################################\n",
    "    airline = ind(cid('AIRLINE', num_buckets=30))\n",
    "    arrival = ind(cid('ARR', num_buckets=400))\n",
    "    \n",
    "    ################################################################\n",
    "    #  Crossed and embedded\n",
    "    ################################################################\n",
    "    lat_boundaries = range(10,80,5)\n",
    "    lon_boundaries = range(-100, -55, 5)\n",
    "    cross_size = len(lat_boundaries) * len(lon_boundaries)\n",
    "\n",
    "    arr_geo_emb = emb(cross([\n",
    "        buck(num('ARR_LAT'), lat_boundaries), \n",
    "        buck(num('ARR_LON'), lon_boundaries)], cross_size), 10)\n",
    "\n",
    "    dep_geo_emb = emb(cross([\n",
    "        buck(num(\"DEP_LAT\"), lat_boundaries), \n",
    "        buck(num(\"DEP_LON\"), lon_boundaries)], cross_size), 10)\n",
    "\n",
    "    dep_how_emb = emb(cross([\n",
    "        cid(\"DEP_HOD\", num_buckets=24), \n",
    "        cid(\"DEP_DOW\", num_buckets=8)], 7*24), 10)\n",
    "\n",
    "    ################################################################\n",
    "    #  all together\n",
    "    ################################################################\n",
    "    return (\n",
    "        feature_columns + \n",
    "        [airline, arrival] +\n",
    "        [dep_how_emb, arr_geo_emb, dep_geo_emb])\n",
    "    \n",
    "write_py(create_feature_columns)"
   ]
  },
  {
   "cell_type": "code",
   "execution_count": 18,
   "metadata": {},
   "outputs": [
    {
     "data": {
      "text/plain": [
       "[_NumericColumn(key='DEP_DELAY', shape=(1,), default_value=None, dtype=tf.float32, normalizer_fn=None),\n",
       " _NumericColumn(key='MEAN_TEMP_DEP', shape=(1,), default_value=None, dtype=tf.float32, normalizer_fn=None),\n",
       " _NumericColumn(key='MEAN_VIS_DEP', shape=(1,), default_value=None, dtype=tf.float32, normalizer_fn=None),\n",
       " _NumericColumn(key='WND_SPD_DEP', shape=(1,), default_value=None, dtype=tf.float32, normalizer_fn=None),\n",
       " _NumericColumn(key='MEAN_TEMP_ARR', shape=(1,), default_value=None, dtype=tf.float32, normalizer_fn=None),\n",
       " _NumericColumn(key='MEAN_VIS_ARR', shape=(1,), default_value=None, dtype=tf.float32, normalizer_fn=None),\n",
       " _NumericColumn(key='WND_SPD_ARR', shape=(1,), default_value=None, dtype=tf.float32, normalizer_fn=None),\n",
       " _NumericColumn(key='DIFF_LAT', shape=(1,), default_value=None, dtype=tf.float32, normalizer_fn=None),\n",
       " _NumericColumn(key='DIFF_LON', shape=(1,), default_value=None, dtype=tf.float32, normalizer_fn=None),\n",
       " _NumericColumn(key='DISTANCE', shape=(1,), default_value=None, dtype=tf.float32, normalizer_fn=None),\n",
       " _IndicatorColumn(categorical_column=_IdentityCategoricalColumn(key='AIRLINE', num_buckets=30, default_value=None)),\n",
       " _IndicatorColumn(categorical_column=_IdentityCategoricalColumn(key='ARR', num_buckets=400, default_value=None)),\n",
       " _EmbeddingColumn(categorical_column=_CrossedColumn(keys=(_IdentityCategoricalColumn(key='DEP_HOD', num_buckets=24, default_value=None), _IdentityCategoricalColumn(key='DEP_DOW', num_buckets=8, default_value=None)), hash_bucket_size=168, hash_key=None), dimension=10, combiner='mean', layer_creator=<function _creator at 0x7f2c43c21050>, ckpt_to_load_from=None, tensor_name_in_ckpt=None, max_norm=None, trainable=True),\n",
       " _EmbeddingColumn(categorical_column=_CrossedColumn(keys=(_BucketizedColumn(source_column=_NumericColumn(key='ARR_LAT', shape=(1,), default_value=None, dtype=tf.float32, normalizer_fn=None), boundaries=(10, 15, 20, 25, 30, 35, 40, 45, 50, 55, 60, 65, 70, 75)), _BucketizedColumn(source_column=_NumericColumn(key='ARR_LON', shape=(1,), default_value=None, dtype=tf.float32, normalizer_fn=None), boundaries=(-100, -95, -90, -85, -80, -75, -70, -65, -60))), hash_bucket_size=126, hash_key=None), dimension=10, combiner='mean', layer_creator=<function _creator at 0x7f2c62e9e8c0>, ckpt_to_load_from=None, tensor_name_in_ckpt=None, max_norm=None, trainable=True),\n",
       " _EmbeddingColumn(categorical_column=_CrossedColumn(keys=(_BucketizedColumn(source_column=_NumericColumn(key='DEP_LAT', shape=(1,), default_value=None, dtype=tf.float32, normalizer_fn=None), boundaries=(10, 15, 20, 25, 30, 35, 40, 45, 50, 55, 60, 65, 70, 75)), _BucketizedColumn(source_column=_NumericColumn(key='DEP_LON', shape=(1,), default_value=None, dtype=tf.float32, normalizer_fn=None), boundaries=(-100, -95, -90, -85, -80, -75, -70, -65, -60))), hash_bucket_size=126, hash_key=None), dimension=10, combiner='mean', layer_creator=<function _creator at 0x7f2c62e8b0c8>, ckpt_to_load_from=None, tensor_name_in_ckpt=None, max_norm=None, trainable=True)]"
      ]
     },
     "execution_count": 18,
     "metadata": {},
     "output_type": "execute_result"
    }
   ],
   "source": [
    "create_feature_columns()"
   ]
  },
  {
   "cell_type": "markdown",
   "metadata": {},
   "source": [
    "These feature columns encode a construction plan. The ```tf.feature_column.input_column()``` helper will construct a sub-graph from this plan and feed the root (the *result*) of the graph into the model. You see the pattern: All parts of the tensor graph are created within the session/graph context of the ```Estimator``` API. Never outside of it."
   ]
  },
  {
   "cell_type": "markdown",
   "metadata": {},
   "source": [
    "---\n",
    "# Hypothesis, model function and custom estimator"
   ]
  },
  {
   "cell_type": "markdown",
   "metadata": {},
   "source": [
    "#### The hypothesis\n",
    "This computational sub-graph represents the trainable hypothesis"
   ]
  },
  {
   "cell_type": "code",
   "execution_count": 19,
   "metadata": {},
   "outputs": [
    {
     "data": {
      "text/plain": [
       "'make_hypothesis written to ./train/make_hypothesis.py.'"
      ]
     },
     "execution_count": 19,
     "metadata": {},
     "output_type": "execute_result"
    }
   ],
   "source": [
    "def make_hypothesis(input_layer, options):\n",
    "    \n",
    "    import tensorflow as tf\n",
    "        \n",
    "    out = tf.layers.dense(input_layer, 1, activation=None)\n",
    "\n",
    "    return out\n",
    "    \n",
    "write_py(make_hypothesis)"
   ]
  },
  {
   "cell_type": "markdown",
   "metadata": {},
   "source": [
    "#### The model function\n",
    "The model function is responsible for providing different variants of the actual model suitable for training, evaluation and prediction"
   ]
  },
  {
   "cell_type": "code",
   "execution_count": 20,
   "metadata": {},
   "outputs": [
    {
     "data": {
      "text/plain": [
       "'make_model_fn written to ./train/make_model_fn.py.'"
      ]
     },
     "execution_count": 20,
     "metadata": {},
     "output_type": "execute_result"
    }
   ],
   "source": [
    "def make_model_fn(feature_columns, options):\n",
    "    \n",
    "    import tensorflow as tf\n",
    "    from train.make_hypothesis import make_hypothesis\n",
    "    \n",
    "    def _model_fn(features, labels, mode):\n",
    "\n",
    "        input_layer = tf.feature_column.input_layer( \n",
    "            features, feature_columns=feature_columns)\n",
    "\n",
    "        #############################################################\n",
    "        # This single line is the actual model\n",
    "        #############################################################\n",
    "        out = make_hypothesis(input_layer, options)\n",
    "\n",
    "        if mode == tf.estimator.ModeKeys.PREDICT:\n",
    "            return tf.estimator.EstimatorSpec(mode, predictions=out)\n",
    "\n",
    "\n",
    "        labels = tf.expand_dims(labels, -1)\n",
    "        loss = tf.losses.mean_squared_error(labels, out)\n",
    "\n",
    "        if mode == tf.estimator.ModeKeys.EVAL:    \n",
    "            return tf.estimator.EstimatorSpec(\n",
    "                mode=mode,\n",
    "                loss = loss,\n",
    "                #eval_metric_ops={'my_metric': }\n",
    "            )\n",
    "\n",
    "        else:\n",
    "            optimizer = tf.train.GradientDescentOptimizer(options['learning_rate'])\n",
    "            train_op = optimizer.minimize(loss, global_step=tf.train.get_or_create_global_step())\n",
    "\n",
    "            return tf.estimator.EstimatorSpec(  \n",
    "                mode,\n",
    "                loss = loss,\n",
    "                train_op = train_op)\n",
    "        \n",
    "    return _model_fn\n",
    "write_py(make_model_fn)"
   ]
  },
  {
   "cell_type": "markdown",
   "metadata": {},
   "source": [
    "---\n",
    "# The tft serving input function\n",
    "The saved ```transform_fn``` of the preprocessing step is recovered and applied to the **signature** input, which is represented by placeholders.\n",
    "This function will be exported together with the ```tf.feature_columns``` transforms after training, to make sure that exactly the same preprocessing steps will be executed at prediction time.\n",
    "The estimator will apply this function to the signature data coming at prediction time. The result will then be feed into the graph constructed with the help of the ```feature_columns``` API."
   ]
  },
  {
   "cell_type": "code",
   "execution_count": 21,
   "metadata": {},
   "outputs": [
    {
     "data": {
      "text/plain": [
       "'make_tft_serving_input_fn written to ./train/make_tft_serving_input_fn.py.'"
      ]
     },
     "execution_count": 21,
     "metadata": {},
     "output_type": "execute_result"
    }
   ],
   "source": [
    "def make_tft_serving_input_fn(metadata_dir):\n",
    "\n",
    "    import tensorflow as tf\n",
    "    import tensorflow_transform as tft\n",
    "    from train.model_config import SIGNATURE_INT_COLUMNS\n",
    "    from train.model_config import SIGNATURE_FLOAT_COLUMNS\n",
    "    from train.model_config import SIGNATURE_STR_COLUMNS\n",
    "        \n",
    "    def _input_fn():\n",
    "        # placeholders for all the raw inputs\n",
    "        placeholders = {\n",
    "            key: tf.placeholder(name = key, shape=[None], dtype=tf.int64)\n",
    "            for key in SIGNATURE_INT_COLUMNS\n",
    "        }\n",
    "        placeholders.update({\n",
    "            key: tf.placeholder(name = key, shape=[None], dtype=tf.float32)\n",
    "            for key in SIGNATURE_FLOAT_COLUMNS\n",
    "        })\n",
    "\n",
    "        placeholders.update({\n",
    "            key: tf.placeholder(name = key, shape=[None], dtype=tf.string)\n",
    "            for key in SIGNATURE_STR_COLUMNS\n",
    "        })\n",
    "\n",
    "        # transform using the saved model in transform_fn        \n",
    "        transform_output = tft.TFTransformOutput(transform_output_dir=metadata_dir)\n",
    "        features = transform_output.transform_raw_features(placeholders)\n",
    "            \n",
    "        return tf.estimator.export.ServingInputReceiver(features, placeholders)\n",
    "\n",
    "    return _input_fn\n",
    "write_py(make_tft_serving_input_fn)"
   ]
  },
  {
   "cell_type": "markdown",
   "metadata": {},
   "source": [
    "---\n",
    "# Training and Serving"
   ]
  },
  {
   "cell_type": "markdown",
   "metadata": {},
   "source": [
    "#### At last, start the training!\n",
    "First, we use the smaller sample data to verify the setup."
   ]
  },
  {
   "cell_type": "code",
   "execution_count": 22,
   "metadata": {},
   "outputs": [
    {
     "data": {
      "text/plain": [
       "'train_and_evaluate written to ./train/train_and_evaluate.py.'"
      ]
     },
     "execution_count": 22,
     "metadata": {},
     "output_type": "execute_result"
    }
   ],
   "source": [
    "def train_and_evaluate(options, distribute=False):\n",
    "\n",
    "    import tensorflow as tf\n",
    "    from train.make_model_fn import make_model_fn\n",
    "    from train.make_tft_serving_input_fn import make_tft_serving_input_fn\n",
    "    from train.create_feature_columns import create_feature_columns\n",
    "\n",
    "    #from train.make_input_fn import make_input_fn\n",
    "    from train.make_tfr_input_fn import make_tfr_input_fn\n",
    "    \n",
    "    feature_columns = create_feature_columns()\n",
    "    \n",
    "    if distribute:\n",
    "        strategy=tf.contrib.distribute.MirroredStrategy()    \n",
    "        config = tf.estimator.RunConfig(model_dir=options['model_dir'], train_distribute=strategy)\n",
    "    else:\n",
    "        config = tf.estimator.RunConfig(model_dir=options['model_dir'])\n",
    "        \n",
    "\n",
    "    model_fn = make_model_fn(feature_columns, options)\n",
    "\n",
    "    estimator = tf.estimator.Estimator(\n",
    "            config=config,\n",
    "            model_fn=model_fn)\n",
    "\n",
    "    exporter = tf.estimator.LatestExporter('exporter', \n",
    "                                           make_tft_serving_input_fn(options['metadata_dir']))\n",
    "\n",
    "    train_input_fn = make_tfr_input_fn(\n",
    "        options['train_data_pattern'], shuffle_buffer_size=80000, \n",
    "        batch_size=options['train_batch_size'], distribute=distribute, \n",
    "        prefetch_buffer_size=options['prefetch_buffer_size'])\n",
    "\n",
    "    eval_input_fn = make_tfr_input_fn(\n",
    "        options['eval_data_pattern'], \n",
    "        batch_size=options['eval_batch_size'])  \n",
    "\n",
    "    train_spec = tf.estimator.TrainSpec(input_fn=train_input_fn, max_steps=options['max_train_steps'])\n",
    "    eval_spec = tf.estimator.EvalSpec(input_fn=eval_input_fn, steps = options['eval_batch_size'], exporters=exporter)\n",
    "    \n",
    "    tf.estimator.train_and_evaluate(estimator, train_spec=train_spec, eval_spec=eval_spec)\n",
    "    \n",
    "write_py(train_and_evaluate)"
   ]
  },
  {
   "cell_type": "code",
   "execution_count": 23,
   "metadata": {},
   "outputs": [
    {
     "name": "stdout",
     "output_type": "stream",
     "text": [
      "\n",
      "###############################################################################################################\n",
      "using directory gs://going-tfx/samples/model to store the model. Remove the directory if you want to start from scratch\n",
      "###############################################################################################################\n",
      "Removing gs://going-tfx/samples/model/checkpoint#1542632776127963...\n",
      "Removing gs://going-tfx/samples/model/#1542632773830972...\n",
      "Removing gs://going-tfx/samples/model/eval/events.out.tfevents.1542631246.kovalevskyi4#1542632787774301...\n",
      "Removing gs://going-tfx/samples/model/export/exporter/#1542632789663769...\n",
      "Removing gs://going-tfx/samples/model/export/exporter/1542632787/#1542632801186006...\n",
      "Removing gs://going-tfx/samples/model/graph.pbtxt#1542632752634369...\n",
      "Removing gs://going-tfx/samples/model/model.ckpt-0.meta#1542632759391906...\n",
      "Removing gs://going-tfx/samples/model/export/exporter/1542632787/saved_model.pb#1542632803153964...\n",
      "Removing gs://going-tfx/samples/model/export/exporter/1542632787/variables/#1542632803608680...\n",
      "Removing gs://going-tfx/samples/model/model.ckpt-0.data-00000-of-00001#1542632756560851...\n",
      "Removing gs://going-tfx/samples/model/events.out.tfevents.1542631097.kovalevskyi4#1542632805169939...\n",
      "Removing gs://going-tfx/samples/model/export/exporter/1542632787/assets/#1542632801639888...\n",
      "Removing gs://going-tfx/samples/model/export/exporter/1542632787/variables/variables.index#1542632804432442...\n",
      "Removing gs://going-tfx/samples/model/export/exporter/1542632787/variables/variables.data-00000-of-00001#1542632803978018...\n",
      "Removing gs://going-tfx/samples/model/export/exporter/1542632787/assets/vocab_compute_and_apply_vocabulary_1_vocabulary#1542632802028588...\n",
      "Removing gs://going-tfx/samples/model/export/exporter/1542632787/assets/vocab_compute_and_apply_vocabulary_vocabulary#1542632802575881...\n",
      "Removing gs://going-tfx/samples/model/model.ckpt-0.index#1542632757016614...\n",
      "Removing gs://going-tfx/samples/model/export/#1542632789358678...\n",
      "Removing gs://going-tfx/samples/model/model.ckpt-1000.index#1542632774867930...\n",
      "Removing gs://going-tfx/samples/model/model.ckpt-1000.data-00000-of-00001#1542632774408994...\n",
      "Removing gs://going-tfx/samples/model/model.ckpt-1000.meta#1542632777460101...\n",
      "/ [21/21 objects] 100% Done                                                     \n",
      "Operation completed over 21 objects.                                             \n",
      "INFO:tensorflow:Using config: {'_save_checkpoints_secs': 600, '_session_config': allow_soft_placement: true\n",
      "graph_options {\n",
      "  rewrite_options {\n",
      "    meta_optimizer_iterations: ONE\n",
      "  }\n",
      "}\n",
      ", '_keep_checkpoint_max': 5, '_task_type': 'worker', '_train_distribute': None, '_is_chief': True, '_cluster_spec': <tensorflow.python.training.server_lib.ClusterSpec object at 0x7f2c43bd9210>, '_model_dir': 'gs://going-tfx/samples/model', '_protocol': None, '_save_checkpoints_steps': None, '_keep_checkpoint_every_n_hours': 10000, '_service': None, '_num_ps_replicas': 0, '_tf_random_seed': None, '_save_summary_steps': 100, '_device_fn': None, '_experimental_distribute': None, '_num_worker_replicas': 1, '_task_id': 0, '_log_step_count_steps': 100, '_evaluation_master': '', '_eval_distribute': None, '_global_id_in_cluster': 0, '_master': ''}\n",
      "INFO:tensorflow:Not using Distribute Coordinator.\n",
      "INFO:tensorflow:Running training and evaluation locally (non-distributed).\n",
      "INFO:tensorflow:Start train and evaluate loop. The evaluate will happen after every checkpoint. Checkpoint frequency is determined based on RunConfig arguments: save_checkpoints_steps None or save_checkpoints_secs 600.\n",
      "INFO:tensorflow:Calling model_fn.\n",
      "WARNING:tensorflow:From /home/wgiersche/py2/local/lib/python2.7/site-packages/tensorflow/python/ops/sparse_ops.py:1165: sparse_to_dense (from tensorflow.python.ops.sparse_ops) is deprecated and will be removed in a future version.\n",
      "Instructions for updating:\n",
      "Create a `tf.sparse.SparseTensor` and use `tf.sparse.to_dense` instead.\n",
      "INFO:tensorflow:Done calling model_fn.\n",
      "INFO:tensorflow:Create CheckpointSaverHook.\n",
      "INFO:tensorflow:Graph was finalized.\n",
      "INFO:tensorflow:Running local_init_op.\n",
      "INFO:tensorflow:Done running local_init_op.\n",
      "INFO:tensorflow:Saving checkpoints for 0 into gs://going-tfx/samples/model/model.ckpt.\n",
      "INFO:tensorflow:loss = 1494.7288, step = 1\n",
      "INFO:tensorflow:global_step/sec: 91.1729\n",
      "INFO:tensorflow:loss = 1441.2178, step = 101 (1.099 sec)\n",
      "INFO:tensorflow:global_step/sec: 93.4421\n",
      "INFO:tensorflow:loss = 1539.0596, step = 201 (1.072 sec)\n",
      "INFO:tensorflow:global_step/sec: 117.37\n",
      "INFO:tensorflow:loss = 1491.6855, step = 301 (0.850 sec)\n",
      "INFO:tensorflow:global_step/sec: 126.678\n",
      "INFO:tensorflow:loss = 1431.4138, step = 401 (0.789 sec)\n",
      "INFO:tensorflow:global_step/sec: 94.2331\n",
      "INFO:tensorflow:loss = 1309.3053, step = 501 (1.063 sec)\n",
      "INFO:tensorflow:global_step/sec: 104.13\n",
      "INFO:tensorflow:loss = 1323.4502, step = 601 (0.959 sec)\n",
      "INFO:tensorflow:global_step/sec: 106.382\n",
      "INFO:tensorflow:loss = 1489.9994, step = 701 (0.939 sec)\n",
      "INFO:tensorflow:global_step/sec: 103.132\n",
      "INFO:tensorflow:loss = 1377.7762, step = 801 (0.970 sec)\n",
      "INFO:tensorflow:global_step/sec: 113.151\n",
      "INFO:tensorflow:loss = 1195.7704, step = 901 (0.886 sec)\n",
      "INFO:tensorflow:Saving checkpoints for 1000 into gs://going-tfx/samples/model/model.ckpt.\n",
      "INFO:tensorflow:Calling model_fn.\n",
      "INFO:tensorflow:Done calling model_fn.\n",
      "INFO:tensorflow:Starting evaluation at 2018-11-19-13:10:38\n",
      "INFO:tensorflow:Graph was finalized.\n",
      "INFO:tensorflow:Restoring parameters from gs://going-tfx/samples/model/model.ckpt-1000\n",
      "INFO:tensorflow:Running local_init_op.\n",
      "INFO:tensorflow:Done running local_init_op.\n",
      "INFO:tensorflow:Evaluation [51/512]\n",
      "INFO:tensorflow:Evaluation [102/512]\n",
      "INFO:tensorflow:Evaluation [153/512]\n",
      "INFO:tensorflow:Evaluation [204/512]\n",
      "INFO:tensorflow:Evaluation [255/512]\n",
      "INFO:tensorflow:Evaluation [306/512]\n",
      "INFO:tensorflow:Evaluation [357/512]\n",
      "INFO:tensorflow:Evaluation [408/512]\n",
      "INFO:tensorflow:Evaluation [459/512]\n",
      "INFO:tensorflow:Evaluation [510/512]\n",
      "INFO:tensorflow:Evaluation [512/512]\n",
      "INFO:tensorflow:Finished evaluation at 2018-11-19-13:10:46\n",
      "INFO:tensorflow:Saving dict for global step 1000: global_step = 1000, loss = 2197.167\n",
      "INFO:tensorflow:Saving 'checkpoint_path' summary for global step 1000: gs://going-tfx/samples/model/model.ckpt-1000\n",
      "WARNING:tensorflow:Expected binary or unicode string, got type_url: \"type.googleapis.com/tensorflow.AssetFileDef\"\n",
      "value: \"\\n\\013\\n\\tConst_8:0\\022-vocab_compute_and_apply_vocabulary_vocabulary\"\n",
      "\n",
      "WARNING:tensorflow:Expected binary or unicode string, got type_url: \"type.googleapis.com/tensorflow.AssetFileDef\"\n",
      "value: \"\\n\\014\\n\\nConst_13:0\\022/vocab_compute_and_apply_vocabulary_1_vocabulary\"\n",
      "\n",
      "INFO:tensorflow:Saver not created because there are no variables in the graph to restore\n",
      "INFO:tensorflow:Calling model_fn.\n",
      "INFO:tensorflow:Done calling model_fn.\n",
      "INFO:tensorflow:Signatures INCLUDED in export for Eval: None\n",
      "INFO:tensorflow:Signatures INCLUDED in export for Classify: None\n",
      "INFO:tensorflow:Signatures INCLUDED in export for Regress: None\n",
      "INFO:tensorflow:Signatures INCLUDED in export for Predict: ['serving_default']\n",
      "INFO:tensorflow:Signatures INCLUDED in export for Train: None\n",
      "INFO:tensorflow:Restoring parameters from gs://going-tfx/samples/model/model.ckpt-1000\n",
      "WARNING:tensorflow:From /home/wgiersche/py2/local/lib/python2.7/site-packages/tensorflow/python/estimator/estimator.py:1044: calling add_meta_graph_and_variables (from tensorflow.python.saved_model.builder_impl) with legacy_init_op is deprecated and will be removed in a future version.\n",
      "Instructions for updating:\n",
      "Pass your op to the equivalent parameter main_op instead.\n",
      "INFO:tensorflow:Assets added to graph.\n",
      "INFO:tensorflow:Assets written to: gs://going-tfx/samples/model/export/exporter/temp-1542633050/assets\n",
      "INFO:tensorflow:SavedModel written to: gs://going-tfx/samples/model/export/exporter/temp-1542633050/saved_model.pb\n",
      "INFO:tensorflow:Loss for final step: 1577.842.\n"
     ]
    }
   ],
   "source": [
    "from train.train_tools import join_paths\n",
    "\n",
    "args={}\n",
    "args['base_dir']='gs://going-tfx/{}'.format(DATASET)\n",
    "args['metadata_dir']='metadata'\n",
    "args['train_data_pattern']='train_data/atl_june_tfr*'\n",
    "args['eval_data_pattern']='eval_data/atl_june_tfr*'\n",
    "args['train_batch_size']=512\n",
    "args['eval_batch_size']=512\n",
    "args['max_train_steps']=1000\n",
    "args['eval_steps']=10\n",
    "args['learning_rate']=1e-3\n",
    "args['model_dir']='model'\n",
    "args['prefetch_buffer_size']=10000\n",
    "\n",
    "model_dir = os.path.join(args['base_dir'], args['model_dir'])\n",
    "print(\"\\n###############################################################################################################\")\n",
    "print(\"using directory {} to store the model. Remove the directory if you want to start from scratch\".format(model_dir))\n",
    "print(\"###############################################################################################################\")\n",
    "!gsutil -m rm -rf $model_dir\n",
    "\n",
    "#\n",
    "# You can't distribute work from a jupyter notebook. \n",
    "#\n",
    "train_and_evaluate(join_paths(args), distribute=False)"
   ]
  },
  {
   "cell_type": "markdown",
   "metadata": {},
   "source": [
    "---\n",
    "#### Train with the full training set of ~300k records"
   ]
  },
  {
   "cell_type": "code",
   "execution_count": null,
   "metadata": {},
   "outputs": [],
   "source": [
    "from train.train_tools import join_paths\n",
    "\n",
    "args={}\n",
    "args['base_dir']='gs://going-tfx/full'\n",
    "\n",
    "# using a full path allows us to specify other locations\n",
    "args['metadata_dir']='gs://going-tfx/sample/metadata'\n",
    "\n",
    "args['train_data_pattern']='train_data/*'\n",
    "args['eval_data_pattern']='eval_data/*'\n",
    "args['train_batch_size']=512\n",
    "args['eval_batch_size']=512\n",
    "args['max_train_steps']=1000 # That's about 5 epochs\n",
    "args['eval_steps']=10\n",
    "args['learning_rate']=1e-3\n",
    "args['model_dir']='model'\n",
    "\n",
    "model_dir = os.path.join(args['base_dir'], args['model_dir'])\n",
    "print(\"\\n###############################################################################################################\")\n",
    "print(\"using directory {} to store the model. Remove the directory if you want to start from scratch\".format(model_dir))\n",
    "print(\"###############################################################################################################\")\n",
    "# !gsutil rm -rf $model_dir\n",
    "\n",
    "train_and_evaluate(create_feature_columns(), join_paths(args))"
   ]
  },
  {
   "cell_type": "markdown",
   "metadata": {},
   "source": [
    "---\n",
    "# Prediction \n"
   ]
  },
  {
   "cell_type": "markdown",
   "metadata": {},
   "source": [
    "#### Signature data for testing"
   ]
  },
  {
   "cell_type": "markdown",
   "metadata": {},
   "source": [
    "First, let's get some test data. Now we need signature data, and that's what we have in Bigquery. Remember? "
   ]
  },
  {
   "cell_type": "code",
   "execution_count": 24,
   "metadata": {},
   "outputs": [
    {
     "name": "stdout",
     "output_type": "stream",
     "text": [
      "\n",
      "    SELECT\n",
      "        DEP_LAT, DEP_LON, DEP_DELAY, MEAN_TEMP_DEP, MEAN_VIS_DEP, WND_SPD_DEP, ARR_LAT, ARR_LON, ARR_DELAY, MEAN_TEMP_ARR, MEAN_VIS_ARR, WND_SPD_ARR, DEP_DOW, DEP_T, ARR, AIRLINE\n",
      "    FROM \n",
      "        `going-tfx.examples.ATL_JUNE_SIGNATURE` \n",
      "    where\n",
      "        MOD(ABS(FARM_FINGERPRINT(\n",
      "            CONCAT(DATE,AIRLINE,ARR)\n",
      "        )) + DEP_T, 10000) >= 0 \n",
      "    and\n",
      "        MOD(ABS(FARM_FINGERPRINT(\n",
      "            CONCAT( DATE, AIRLINE, ARR)\n",
      "        )) + DEP_T, 10000) < 1 \n",
      "    \n",
      "Only 37 examples. Showing first three:\n"
     ]
    },
    {
     "data": {
      "text/html": [
       "<div>\n",
       "<style scoped>\n",
       "    .dataframe tbody tr th:only-of-type {\n",
       "        vertical-align: middle;\n",
       "    }\n",
       "\n",
       "    .dataframe tbody tr th {\n",
       "        vertical-align: top;\n",
       "    }\n",
       "\n",
       "    .dataframe thead th {\n",
       "        text-align: right;\n",
       "    }\n",
       "</style>\n",
       "<table border=\"1\" class=\"dataframe\">\n",
       "  <thead>\n",
       "    <tr style=\"text-align: right;\">\n",
       "      <th></th>\n",
       "      <th>DEP_LAT</th>\n",
       "      <th>DEP_LON</th>\n",
       "      <th>DEP_DELAY</th>\n",
       "      <th>MEAN_TEMP_DEP</th>\n",
       "      <th>MEAN_VIS_DEP</th>\n",
       "      <th>WND_SPD_DEP</th>\n",
       "      <th>ARR_LAT</th>\n",
       "      <th>ARR_LON</th>\n",
       "      <th>ARR_DELAY</th>\n",
       "      <th>MEAN_TEMP_ARR</th>\n",
       "      <th>MEAN_VIS_ARR</th>\n",
       "      <th>WND_SPD_ARR</th>\n",
       "      <th>DEP_DOW</th>\n",
       "      <th>DEP_T</th>\n",
       "      <th>ARR</th>\n",
       "      <th>AIRLINE</th>\n",
       "    </tr>\n",
       "  </thead>\n",
       "  <tbody>\n",
       "    <tr>\n",
       "      <th>0</th>\n",
       "      <td>33.63</td>\n",
       "      <td>-84.42</td>\n",
       "      <td>1.0</td>\n",
       "      <td>83.9</td>\n",
       "      <td>10.0</td>\n",
       "      <td>6.2</td>\n",
       "      <td>40.77</td>\n",
       "      <td>-73.87</td>\n",
       "      <td>-2.0</td>\n",
       "      <td>80.7</td>\n",
       "      <td>8.9</td>\n",
       "      <td>5.7</td>\n",
       "      <td>1</td>\n",
       "      <td>2140</td>\n",
       "      <td>LGA</td>\n",
       "      <td>DL</td>\n",
       "    </tr>\n",
       "    <tr>\n",
       "      <th>1</th>\n",
       "      <td>33.63</td>\n",
       "      <td>-84.42</td>\n",
       "      <td>-3.0</td>\n",
       "      <td>71.0</td>\n",
       "      <td>9.9</td>\n",
       "      <td>6.0</td>\n",
       "      <td>37.13</td>\n",
       "      <td>-76.49</td>\n",
       "      <td>1.0</td>\n",
       "      <td>65.5</td>\n",
       "      <td>9.9</td>\n",
       "      <td>6.5</td>\n",
       "      <td>1</td>\n",
       "      <td>1130</td>\n",
       "      <td>PHF</td>\n",
       "      <td>FL</td>\n",
       "    </tr>\n",
       "    <tr>\n",
       "      <th>2</th>\n",
       "      <td>33.63</td>\n",
       "      <td>-84.42</td>\n",
       "      <td>-7.0</td>\n",
       "      <td>77.9</td>\n",
       "      <td>9.7</td>\n",
       "      <td>5.4</td>\n",
       "      <td>32.89</td>\n",
       "      <td>-80.04</td>\n",
       "      <td>-6.0</td>\n",
       "      <td>84.1</td>\n",
       "      <td>8.4</td>\n",
       "      <td>8.6</td>\n",
       "      <td>1</td>\n",
       "      <td>1505</td>\n",
       "      <td>CHS</td>\n",
       "      <td>DL</td>\n",
       "    </tr>\n",
       "  </tbody>\n",
       "</table>\n",
       "</div>"
      ],
      "text/plain": [
       "   DEP_LAT  DEP_LON  DEP_DELAY  MEAN_TEMP_DEP  MEAN_VIS_DEP  WND_SPD_DEP  \\\n",
       "0    33.63   -84.42        1.0           83.9          10.0          6.2   \n",
       "1    33.63   -84.42       -3.0           71.0           9.9          6.0   \n",
       "2    33.63   -84.42       -7.0           77.9           9.7          5.4   \n",
       "\n",
       "   ARR_LAT  ARR_LON  ARR_DELAY  MEAN_TEMP_ARR  MEAN_VIS_ARR  WND_SPD_ARR  \\\n",
       "0    40.77   -73.87       -2.0           80.7           8.9          5.7   \n",
       "1    37.13   -76.49        1.0           65.5           9.9          6.5   \n",
       "2    32.89   -80.04       -6.0           84.1           8.4          8.6   \n",
       "\n",
       "   DEP_DOW  DEP_T  ARR AIRLINE  \n",
       "0        1   2140  LGA      DL  \n",
       "1        1   1130  PHF      FL  \n",
       "2        1   1505  CHS      DL  "
      ]
     },
     "execution_count": 24,
     "metadata": {},
     "output_type": "execute_result"
    }
   ],
   "source": [
    "from train.model_config import SIGNATURE_FLOAT_COLUMNS\n",
    "from train.model_config import SIGNATURE_INT_COLUMNS\n",
    "from train.model_config import SIGNATURE_STR_COLUMNS\n",
    "from signature_queries import sample_query\n",
    "\n",
    "SIGNATURE_COLUMNS = SIGNATURE_FLOAT_COLUMNS+SIGNATURE_INT_COLUMNS+SIGNATURE_STR_COLUMNS\n",
    "signature_query=sample_query(SIGNATURE_COLUMNS, total=10000)\n",
    "print(signature_query)\n",
    "sample = dlbq.Query(signature_query).execute().result().to_dataframe()\n",
    "print('Only {} examples. Showing first three:'.format(len(sample)))\n",
    "sample[:3]"
   ]
  },
  {
   "cell_type": "code",
   "execution_count": 25,
   "metadata": {},
   "outputs": [
    {
     "name": "stdout",
     "output_type": "stream",
     "text": [
      "{\"WND_SPD_DEP\": 6.2, \"DEP_DELAY\": 1.0, \"ARR_LAT\": 40.77, \"WND_SPD_ARR\": 5.7, \"MEAN_VIS_DEP\": 10.0, \"DEP_T\": 2140, \"MEAN_TEMP_ARR\": 80.7, \"DEP_LON\": -84.42, \"DEP_DOW\": 1, \"MEAN_VIS_ARR\": 8.9, \"ARR\": \"LGA\", \"AIRLINE\": \"DL\", \"MEAN_TEMP_DEP\": 83.9, \"DEP_LAT\": 33.63, \"ARR_LON\": -73.87}"
     ]
    }
   ],
   "source": [
    "import json\n",
    "samplefile='/tmp/test.json'\n",
    "a_record = sample.to_dict(orient='records')[0]\n",
    "a_record.pop('ARR_DELAY')\n",
    "with open(samplefile, 'w') as f:\n",
    "    f.write(json.dumps(a_record))\n",
    "!cat $samplefile"
   ]
  },
  {
   "cell_type": "markdown",
   "metadata": {},
   "source": [
    "---\n",
    "#### Local prediction with gcloud ml-engine"
   ]
  },
  {
   "cell_type": "code",
   "execution_count": 26,
   "metadata": {},
   "outputs": [
    {
     "data": {
      "text/plain": [
       "['gs://going-tfx/samples/model/export/exporter/1542633050/']"
      ]
     },
     "execution_count": 26,
     "metadata": {},
     "output_type": "execute_result"
    }
   ],
   "source": [
    "all_versions = !gsutil ls $model_dir/export/exporter\n",
    "all_versions[1:]"
   ]
  },
  {
   "cell_type": "markdown",
   "metadata": {},
   "source": [
    "Choose your version from the above"
   ]
  },
  {
   "cell_type": "code",
   "execution_count": 27,
   "metadata": {},
   "outputs": [
    {
     "data": {
      "text/plain": [
       "'gs://going-tfx/samples/model/export/exporter/1542633050/'"
      ]
     },
     "execution_count": 27,
     "metadata": {},
     "output_type": "execute_result"
    }
   ],
   "source": [
    "latest_model=!gsutil ls gs://going-tfx/$DATASET/model/export/exporter | sort | tail -1\n",
    "latest_model = latest_model[0]\n",
    "latest_model"
   ]
  },
  {
   "cell_type": "code",
   "execution_count": 28,
   "metadata": {},
   "outputs": [
    {
     "name": "stdout",
     "output_type": "stream",
     "text": [
      "\u001b[1;33mWARNING:\u001b[0m 2018-11-19 13:11:58.442891: I tensorflow/core/platform/cpu_feature_guard.cc:141] Your CPU supports instructions that this TensorFlow binary was not compiled to use: AVX2 AVX512F FMA\n",
      "\n",
      "OUTPUT\n",
      "[17.4757080078125]\n"
     ]
    }
   ],
   "source": [
    "!gcloud ml-engine local predict \\\n",
    "  --model-dir=$latest_model \\\n",
    "  --json-instances=/tmp/test.json"
   ]
  },
  {
   "cell_type": "code",
   "execution_count": 29,
   "metadata": {},
   "outputs": [
    {
     "name": "stdout",
     "output_type": "stream",
     "text": [
      "{\"WND_SPD_DEP\": 4.8, \"DEP_DELAY\": 102.0, \"ARR_LAT\": 36.89, \"WND_SPD_ARR\": 7.4, \"MEAN_VIS_DEP\": 8.7, \"DEP_T\": 1728, \"MEAN_TEMP_ARR\": 77.6, \"DEP_LON\": -84.42, \"DEP_DOW\": 4, \"MEAN_VIS_ARR\": 8.9, \"ARR\": \"ORF\", \"AIRLINE\": \"EV\", \"MEAN_TEMP_DEP\": 78.4, \"DEP_LAT\": 33.63, \"ARR_LON\": -76.2}\n",
      "{\"WND_SPD_DEP\": 8.4, \"DEP_DELAY\": -2.0, \"ARR_LAT\": 26.68, \"WND_SPD_ARR\": 4.5, \"MEAN_VIS_DEP\": 8.5, \"DEP_T\": 1605, \"MEAN_TEMP_ARR\": 83.1, \"DEP_LON\": -84.42, \"DEP_DOW\": 4, \"MEAN_VIS_ARR\": 9.3, \"ARR\": \"PBI\", \"AIRLINE\": \"DL\", \"MEAN_TEMP_DEP\": 74.1, \"DEP_LAT\": 33.63, \"ARR_LON\": -80.09}\n"
     ]
    }
   ],
   "source": [
    "import json\n",
    "samplefile='/tmp/test.json'\n",
    "records = sample.to_dict(orient='records')[:20]\n",
    "with open(samplefile, 'w') as f:\n",
    "    for record in records:\n",
    "        record.pop('ARR_DELAY')\n",
    "        f.write(json.dumps(record))\n",
    "        f.write('\\n')\n",
    "!cat $samplefile | tail -2"
   ]
  },
  {
   "cell_type": "markdown",
   "metadata": {},
   "source": [
    "---\n",
    "#### Predicting from within python code"
   ]
  },
  {
   "cell_type": "code",
   "execution_count": 30,
   "metadata": {},
   "outputs": [],
   "source": [
    "latest_model=!gsutil ls gs://going-tfx/samples/model/export/exporter | sort | tail -1\n",
    "latest_model=latest_model[0]"
   ]
  },
  {
   "cell_type": "code",
   "execution_count": 31,
   "metadata": {},
   "outputs": [
    {
     "name": "stdout",
     "output_type": "stream",
     "text": [
      "INFO:tensorflow:Restoring parameters from gs://going-tfx/samples/model/export/exporter/1542633050/variables/variables\n"
     ]
    }
   ],
   "source": [
    "estimator = tf.contrib.predictor.from_saved_model(latest_model)"
   ]
  },
  {
   "cell_type": "code",
   "execution_count": 32,
   "metadata": {},
   "outputs": [
    {
     "data": {
      "text/plain": [
       "<matplotlib.axes._subplots.AxesSubplot at 0x7f2c3b1fe910>"
      ]
     },
     "execution_count": 32,
     "metadata": {},
     "output_type": "execute_result"
    },
    {
     "data": {
      "image/png": "[encoded data removed]",
      "text/plain": [
       "<Figure size 432x288 with 1 Axes>"
      ]
     },
     "metadata": {
      "needs_background": "light"
     },
     "output_type": "display_data"
    }
   ],
   "source": [
    "%matplotlib inline\n",
    "compare=sample.copy()\n",
    "predicted = estimator(sample.to_dict(orient='list'))\n",
    "compare['PREDICTED'] = predicted['output']\n",
    "compare.plot.scatter(x='ARR_DELAY', y='PREDICTED')"
   ]
  },
  {
   "cell_type": "markdown",
   "metadata": {},
   "source": [
    "---\n",
    "#### run the training locally"
   ]
  },
  {
   "cell_type": "code",
   "execution_count": 33,
   "metadata": {},
   "outputs": [
    {
     "name": "stdout",
     "output_type": "stream",
     "text": [
      "\n",
      "###############################################################################################################\n",
      "using directory gs://going-tfx/samples/model to store the model. Remove the directory if you want to start from scratch\n",
      "###############################################################################################################\n"
     ]
    }
   ],
   "source": [
    "model_dir = 'gs://going-tfx/samples/model'\n",
    "print(\"\\n###############################################################################################################\")\n",
    "print(\"using directory {} to store the model. Remove the directory if you want to start from scratch\".format(model_dir))\n",
    "print(\"###############################################################################################################\")\n",
    "_ = !gsutil rm -rf $model_dir"
   ]
  },
  {
   "cell_type": "code",
   "execution_count": null,
   "metadata": {},
   "outputs": [],
   "source": [
    "%%bash\n",
    "export PYTHONPATH=${PYTHONPATH}:${PWD}\n",
    "python -m train.task \\\n",
    "  --base_dir=gs://going-tfx/samples/ \\\n",
    "  --metadata_dir=metadata \\\n",
    "  --train_data_pattern=\"train_data/atl_june_tfr*\" \\\n",
    "  --eval_data_pattern=\"eval_data/atl_june_tfr*\"  \\\n",
    "  --model_dir=model \\\n",
    "  --max_train_steps=20000 \\\n",
    "  --learning_rate=1e-3 \\\n",
    "  --distribute=True \\\n",
    "  --job-dir=/tmp"
   ]
  },
  {
   "cell_type": "code",
   "execution_count": null,
   "metadata": {},
   "outputs": [],
   "source": []
  }
 ],
 "metadata": {
  "kernelspec": {
   "display_name": "Python 2",
   "language": "python",
   "name": "python2"
  },
  "language_info": {
   "codemirror_mode": {
    "name": "ipython",
    "version": 2
   },
   "file_extension": ".py",
   "mimetype": "text/x-python",
   "name": "python",
   "nbconvert_exporter": "python",
   "pygments_lexer": "ipython2",
   "version": "2.7.13"
  }
 },
 "nbformat": 4,
 "nbformat_minor": 2
}
