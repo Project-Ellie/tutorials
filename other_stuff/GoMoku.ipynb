{
 "cells": [
  {
   "cell_type": "code",
   "execution_count": 70,
   "metadata": {},
   "outputs": [],
   "source": [
    "import matplotlib.pyplot as plt\n",
    "import numpy as np"
   ]
  },
  {
   "cell_type": "markdown",
   "metadata": {},
   "source": [
    "## The 9x9 neighborhood\n",
    "We make the (admittedly naive and limiting) assumptions that  \n",
    "1. what matters for the primary estimation of a position's value is determined by the 9x9 neighborhood of that field, and\n",
    "2. fields that don't share a common line (x, y, or diagonal) with the given position, don't matter either.\n",
    "\n",
    "Farther fields simply won't directly contribute to a common line of length 5 or smaller.\n",
    "\n",
    "Class ```N9x9``` (*Enn-nine-by-nine*) describes the world from the point of view of a particular position. This *pos-o-centric* view can be regarded as the relevant environment represented in polar-coordinates. It is much more meaningful to a neural network (I hope) than the cartesion representation. It allows us to devise a 64-bit representation of the current *threat* or *opportunity* created for a position by the adjacent stones.\n",
    "- ```def register(self, color=c, direction=d, distance=s) ``` tells the class that there is a stone of color $c$ in direction $d$ with distance $s$"
   ]
  },
  {
   "cell_type": "code",
   "execution_count": 71,
   "metadata": {},
   "outputs": [],
   "source": [
    "class GomokuTools:\n",
    "    \n",
    "    @staticmethod\n",
    "    def dirs():\n",
    "        return {\n",
    "            'e' : (0, [0, 1]),\n",
    "            'ne': (1, [-1, 1]),\n",
    "            'n' : (2, [-1, 0]),\n",
    "            'nw': (3, [-1, -1]),\n",
    "            'w' : (4, [0, -1]),\n",
    "            'sw': (5, [1, -1]),\n",
    "            's' : (6, [1, 0]),\n",
    "            'se': (7, [1, 1])}\n",
    "    \n",
    "    @staticmethod\n",
    "    def opposite(d):\n",
    "        \"\"\"\n",
    "        Returns 'e' for 'w', 'sw' for 'ne' and so on.\n",
    "        \"\"\"\n",
    "        return [i[0] for i in GomokuTools.dirs().items() if (GomokuTools.dirs()[d][0] + 4) % 8 == i[1][0]][0]"
   ]
  },
  {
   "cell_type": "code",
   "execution_count": 72,
   "metadata": {},
   "outputs": [],
   "source": [
    "class N9x9:\n",
    "    def __init__(self, ba=bytearray(8), center='X'):\n",
    "        self.field = [[' ' for i in range(9)] for j in range(9)]\n",
    "        self.field[4][4]=center\n",
    "        self.center=np.array([4,4])\n",
    "        self.ba = ba.copy()\n",
    "        self.update()\n",
    "        \n",
    "    def bits_in_dir(self, d):\n",
    "        return [np.sign(self.ba[d] & (1<<(i-1))) for i in range(8, 0, -1)]\n",
    "\n",
    "    def update(self):\n",
    "        for d in GomokuTools.dirs().items():\n",
    "            pos = d[1][0] # Position in the byte array for direction d\n",
    "            dd=np.array(d[1][1]) # the 2-dim step to go into that direction\n",
    "            bits = self.bits_in_dir(pos) # the 8 bits describing what's in that direction\n",
    "            for s in range(1, 5): # for 4 step sizes\n",
    "                pp = self.center + s * dd # go there\n",
    "                if bits[s+4-1] == 1: # is there a white (bits 5 to 8 in the array)?\n",
    "                    self.field[pp[0]][pp[1]] = 'o' # white\n",
    "                elif bits[s-1] == 1: # or a black?\n",
    "                    self.field[pp[0]][pp[1]] = 'x' # black\n",
    "                else:\n",
    "                    self.field[pp[0]][pp[1]] = ' ' # none\n",
    "\n",
    "    def register(self, color, direction, distance, action='r'):\n",
    "        \"\"\"\n",
    "        Register a stone of color in the given direction with the given distance\n",
    "        color: 'b' or 'w'\n",
    "        direction: any of the eight directions 'sw', 'e', 'ne', etc.\n",
    "        distance: 1,2,3, or 4. 1 for the closest neighbor, 4 for the farthest\n",
    "        action: 'r' to actually register, 'u' to undo.\n",
    "        \"\"\"\n",
    "        index=GomokuTools.dirs()[direction][0]\n",
    "        word=1<<(4-distance)\n",
    "        if color == 'b':\n",
    "            word = word << 4\n",
    "        if action == 'r':\n",
    "            self.ba[index] |= word\n",
    "        elif action == 'u':\n",
    "            self.ba[index] ^= word\n",
    "        self.update()\n",
    "        return self\n",
    "\n",
    "    def as_hex(self):\n",
    "        return self.ba.hex()\n",
    "    \n",
    "    def as_bits(self):\n",
    "        return [self.bits_in_dir(i) for i in range(8)]\n",
    "    \n",
    "    def __repr__(self):\n",
    "        return \"\\n\".join([('|' + ' '.join(self.field[r]) + '|') for r in range(9)])"
   ]
  },
  {
   "cell_type": "markdown",
   "metadata": {},
   "source": [
    "Observe the different representations of the 9x9 neighborhood: First the hex string representation, then the 64 bits, which we'll eventually feed into our valuation network, and finally the human-readable form we'll use for contemplation throughout this tutorial."
   ]
  },
  {
   "cell_type": "code",
   "execution_count": 73,
   "metadata": {},
   "outputs": [
    {
     "data": {
      "text/plain": [
       "('0000008400000100',\n",
       " [[0, 0, 0, 0, 0, 0, 0, 0],\n",
       "  [0, 0, 0, 0, 0, 0, 0, 0],\n",
       "  [0, 0, 0, 0, 0, 0, 0, 0],\n",
       "  [1, 0, 0, 0, 0, 1, 0, 0],\n",
       "  [0, 0, 0, 0, 0, 0, 0, 0],\n",
       "  [0, 0, 0, 0, 0, 0, 0, 0],\n",
       "  [0, 0, 0, 0, 0, 0, 0, 1],\n",
       "  [0, 0, 0, 0, 0, 0, 0, 0]],\n",
       " |                 |\n",
       " |                 |\n",
       " |    o            |\n",
       " |      x          |\n",
       " |        X        |\n",
       " |                 |\n",
       " |                 |\n",
       " |                 |\n",
       " |        o        |)"
      ]
     },
     "execution_count": 73,
     "metadata": {},
     "output_type": "execute_result"
    }
   ],
   "source": [
    "f = N9x9(center='X').register('b', 'nw', 1).register('w', 'nw', 2).register('w', 's', 4)\n",
    "f.as_hex(), f.as_bits(), f"
   ]
  },
  {
   "cell_type": "markdown",
   "metadata": {},
   "source": [
    "Unregister:"
   ]
  },
  {
   "cell_type": "code",
   "execution_count": 74,
   "metadata": {},
   "outputs": [
    {
     "data": {
      "text/plain": [
       "|                 |\n",
       "|                 |\n",
       "|    o            |\n",
       "|      x          |\n",
       "|        X        |\n",
       "|                 |\n",
       "|                 |\n",
       "|                 |\n",
       "|                 |"
      ]
     },
     "execution_count": 74,
     "metadata": {},
     "output_type": "execute_result"
    }
   ],
   "source": [
    "f.register('w', 's', 4, 'u')\n",
    "f"
   ]
  },
  {
   "cell_type": "markdown",
   "metadata": {},
   "source": [
    "---\n",
    "## The Gomoku Board"
   ]
  },
  {
   "cell_type": "code",
   "execution_count": 75,
   "metadata": {},
   "outputs": [],
   "source": [
    "class GomokuBoard:\n",
    "    def __init__(self, size, disp_width, stones=[]):\n",
    "        self.size=size\n",
    "        self.side=disp_width\n",
    "        self.stones=[]\n",
    "        self.next_party='b'\n",
    "        self.ns = [[N9x9(center='*') for i in range(15)] for j in range(15)]\n",
    "        c = 'w'\n",
    "        self.set_all(stones)\n",
    "        \n",
    "    def display(self, stones=None):\n",
    "        stones = stones or self.stones\n",
    "        side=self.side\n",
    "        size=self.size\n",
    "        fig, axis = plt.subplots(figsize=(side, side))\n",
    "        axis.set_xlim([0, size+1])\n",
    "        axis.set_ylim([0, size+1])\n",
    "        plt.xticks(range(1,size+1),['A','B','C','D','E','F','G','H',\n",
    "                         'I','K','L','M','N','O','P'])\n",
    "        plt.yticks(range(1,size+1))\n",
    "        axis.set_facecolor('#8080FF')\n",
    "        xlines = [[ [1, size], [y,y], '#E0E0E0'] for y in range(1, size+1)]\n",
    "        ylines = [[ [x,x], [1, size], '#E0E0E0'] for x in range(1, size+1)]\n",
    "        ylines = np.reshape(xlines + ylines, [-1])\n",
    "        axis.plot(*ylines);\n",
    "        self.display_stones(stones, axis)\n",
    "        axis.scatter([4, 4, 12, 12, 8], [4, 12, 12, 4, 8], s=side**2, c='#E0E0E0')\n",
    "        \n",
    "    def display_stones(self, stones, axis):\n",
    "        side = self.side\n",
    "        colors=['white', 'black']\n",
    "        for i in range(1, len(self.stones)+1):\n",
    "            x,y = self.stones[i-1][0:2]\n",
    "            stc = colors[i % 2]\n",
    "            fgc = colors[1 - i % 2]\n",
    "            axis.scatter([x],[y], c=stc, s=10*side**2, zorder=10);\n",
    "            plt.text(x, y, i, color=fgc, fontsize=12, zorder=20,\n",
    "                     horizontalalignment='center', verticalalignment='center');\n",
    "\n",
    "    def set_all(self, stones):\n",
    "        for stone in stones:\n",
    "            self.set(*stone)\n",
    "            \n",
    "    def set(self, x,y):\n",
    "        if (x,y) in self.stones:\n",
    "            raise(ValueError(\"Not a valid move. Position is occupied.\"))\n",
    "        if not self._is_valid((15-y, x-1)):\n",
    "            raise(ValueError(\"Not a valid move. Beyond board boundary.\"))\n",
    "        self.stones.append((x,y))\n",
    "        c = self.next_party\n",
    "        self.next_party = 'b' if self.next_party == 'w' else 'w'\n",
    "        self.comp_ns(c, x, y)\n",
    "            \n",
    "    def undo(self):\n",
    "        self.next_party = 'b' if self.next_party == 'w' else 'w'\n",
    "        c = self.next_party\n",
    "        undo = self.stones[-1]\n",
    "        self.stones = self.stones[:-1]\n",
    "        self.comp_ns(c, *undo, action='u')\n",
    "            \n",
    "    def getn9x9(self, x,y):\n",
    "        \"\"\"\n",
    "        x,y: 1-based indices of the board\n",
    "        \"\"\"\n",
    "        return self.ns[16-y][x-1]\n",
    "\n",
    "    def comp_ns(self, color, x, y, action='r'):\n",
    "        \"\"\"\n",
    "        compute neighbourhoods for the given move in board coordinates\n",
    "        \"\"\"\n",
    "        s = np.array([16-y, x-1])\n",
    "        for dd in GomokuTools.dirs().items():\n",
    "            step = dd[1][1]\n",
    "            for d in range(1,5):\n",
    "                p_n = s + d * np.array(step)\n",
    "                if self._is_valid(p_n):\n",
    "                    n_ = self.ns[p_n[0]][p_n[1]]\n",
    "                    n_.register(color, GomokuTools.opposite(dd[0]), d, action)\n",
    "    \n",
    "    \n",
    "    def _is_valid(self, pos):\n",
    "        \"\"\"\n",
    "        checks the array indexes (not the board coordinates!)\n",
    "        \"\"\"\n",
    "        return pos[0] >= 0 and pos[0] < 15 and pos[1] >= 0 and pos[1] < 15\n",
    "    \n"
   ]
  },
  {
   "cell_type": "code",
   "execution_count": 76,
   "metadata": {},
   "outputs": [],
   "source": [
    "A,B,C,D,E,F,G,H,I,K,L,M,N,O,P = 1,2,3,4,5,6,7,8,9,10,11,12,13,14,15"
   ]
  },
  {
   "cell_type": "code",
   "execution_count": 77,
   "metadata": {},
   "outputs": [
    {
     "data": {
      "image/png": "[encoded data removed]",
      "text/plain": [
       "<Figure size 360x360 with 1 Axes>"
      ]
     },
     "metadata": {
      "needs_background": "light"
     },
     "output_type": "display_data"
    }
   ],
   "source": [
    "board = GomokuBoard(15, 5, [(H,8), (I,8), (G,7), (I,7)])\n",
    "board.display();"
   ]
  },
  {
   "cell_type": "code",
   "execution_count": 78,
   "metadata": {},
   "outputs": [
    {
     "data": {
      "image/png": "[encoded data removed]",
      "text/plain": [
       "<Figure size 360x360 with 1 Axes>"
      ]
     },
     "metadata": {
      "needs_background": "light"
     },
     "output_type": "display_data"
    }
   ],
   "source": [
    "board.set(I,11)\n",
    "board.display()"
   ]
  },
  {
   "cell_type": "markdown",
   "metadata": {},
   "source": [
    "---\n",
    "Now, we can ask the board to tell us what a particular field *thinks* about its neighbourhood. The field's own position is marked with an asterisk. Please observe that again those stones not sharing a common line with the point of view simply don't show up in that fields view of the neighbourhood."
   ]
  },
  {
   "cell_type": "code",
   "execution_count": 79,
   "metadata": {},
   "outputs": [
    {
     "name": "stdout",
     "output_type": "stream",
     "text": [
      "(8, 7)\n",
      "|                 |\n",
      "|                 |\n",
      "|                 |\n",
      "|        x o      |\n",
      "|      x * o      |\n",
      "|                 |\n",
      "|                 |\n",
      "|                 |\n",
      "|                 |\n"
     ]
    }
   ],
   "source": [
    "for coords in [(H, 7)]:\n",
    "    print(coords)\n",
    "    print(board.getn9x9(*coords))"
   ]
  },
  {
   "cell_type": "markdown",
   "metadata": {},
   "source": [
    "---\n",
    "#### Undo the last move"
   ]
  },
  {
   "cell_type": "code",
   "execution_count": 80,
   "metadata": {},
   "outputs": [
    {
     "data": {
      "image/png": "[encoded data removed]",
      "text/plain": [
       "<Figure size 360x360 with 1 Axes>"
      ]
     },
     "metadata": {
      "needs_background": "light"
     },
     "output_type": "display_data"
    }
   ],
   "source": [
    "board.undo()\n",
    "board.display()"
   ]
  },
  {
   "cell_type": "code",
   "execution_count": 81,
   "metadata": {},
   "outputs": [
    {
     "name": "stdout",
     "output_type": "stream",
     "text": [
      "|                 |\n",
      "|                 |\n",
      "|                 |\n",
      "|                 |\n",
      "|        *        |\n",
      "|      x o        |\n",
      "|    x   o        |\n",
      "|                 |\n",
      "|                 |\n"
     ]
    },
    {
     "data": {
      "text/plain": [
       "[[0, 0, 0, 0, 1, 0, 0, 0],\n",
       " [0, 0, 0, 0, 1, 0, 0, 0],\n",
       " [1, 0, 0, 0, 0, 0, 0, 0],\n",
       " [0, 0, 0, 0, 0, 0, 0, 0],\n",
       " [1, 0, 0, 0, 0, 0, 0, 0],\n",
       " [0, 0, 0, 0, 0, 0, 0, 0],\n",
       " [0, 0, 0, 0, 0, 0, 0, 0],\n",
       " [0, 0, 0, 0, 0, 0, 0, 0]]"
      ]
     },
     "execution_count": 81,
     "metadata": {},
     "output_type": "execute_result"
    }
   ],
   "source": [
    "print(board.getn9x9(I,9))\n",
    "board.getn9x9(*coords).as_bits()"
   ]
  },
  {
   "cell_type": "markdown",
   "metadata": {},
   "source": [
    "---\n",
    "## Heuristic Score"
   ]
  },
  {
   "cell_type": "markdown",
   "metadata": {},
   "source": [
    "c-score: max num of stones in any sub-line of 5, and number of times that max can be found."
   ]
  },
  {
   "cell_type": "code",
   "execution_count": 222,
   "metadata": {},
   "outputs": [],
   "source": [
    "def cscore(line, fof):\n",
    "    fr = f_range(line, fof)\n",
    "    counts = []\n",
    "    for i in range(len(fr)-4):\n",
    "        counts.append(sum(fr[i:i+5]))\n",
    "    m = max(counts) if counts else 0\n",
    "    c = sum(np.array(counts) == max(counts)) if counts else 0\n",
    "    return (m, c)"
   ]
  },
  {
   "cell_type": "markdown",
   "metadata": {},
   "source": [
    "The largest adversary-free range within line"
   ]
  },
  {
   "cell_type": "code",
   "execution_count": 191,
   "metadata": {},
   "outputs": [],
   "source": [
    "def f_range(line, fof):\n",
    "    fof=0\n",
    "    i=3\n",
    "    while i>0 and line[1-fof][i]==0:\n",
    "        i-=1\n",
    "    left = i+1\n",
    "    i=4\n",
    "    while i<7 and line[1-fof][i]==0:\n",
    "        i+=1\n",
    "    right = i-1\n",
    "    return np.array(line[0][left:right+1])"
   ]
  },
  {
   "cell_type": "markdown",
   "metadata": {},
   "source": [
    "Just a helper to quickly create bitmaps representing lines of 9"
   ]
  },
  {
   "cell_type": "code",
   "execution_count": 192,
   "metadata": {},
   "outputs": [],
   "source": [
    "def encode(figure):\n",
    "    return np.array([(np.array(figure) == i+1) + 0 for i in range(2)])"
   ]
  },
  {
   "cell_type": "markdown",
   "metadata": {},
   "source": [
    "The total score of all lines crossing the center of the N9x9 neighbourhood"
   ]
  },
  {
   "cell_type": "code",
   "execution_count": 209,
   "metadata": {},
   "outputs": [],
   "source": [
    "kappa0 = 2\n",
    "def tscore(scores):\n",
    "    return sum(s**kappa0 for s in scores)**(1/kappa0) "
   ]
  },
  {
   "cell_type": "markdown",
   "metadata": {},
   "source": [
    "Weighting the c-score"
   ]
  },
  {
   "cell_type": "code",
   "execution_count": 201,
   "metadata": {},
   "outputs": [],
   "source": [
    "kappa1 = 3\n",
    "def score(csc, kappa=kappa1):\n",
    "    mag, mul = csc\n",
    "    return mul**(1/kappa1) * mag"
   ]
  },
  {
   "cell_type": "markdown",
   "metadata": {},
   "source": [
    "---\n",
    "Some tests for verification"
   ]
  },
  {
   "cell_type": "code",
   "execution_count": 217,
   "metadata": {},
   "outputs": [
    {
     "data": {
      "text/plain": [
       "(array([1, 1, 0, 0]), (0, 0))"
      ]
     },
     "execution_count": 217,
     "metadata": {},
     "output_type": "execute_result"
    }
   ],
   "source": [
    "line=encode([1,2,1,1, 0,0,2,2])\n",
    "f_range(line, 0), cscore(line, 0)"
   ]
  },
  {
   "cell_type": "code",
   "execution_count": 218,
   "metadata": {},
   "outputs": [
    {
     "data": {
      "text/plain": [
       "((array([1, 1, 0, 0, 1]),), (3, 1), 3.0)"
      ]
     },
     "execution_count": 218,
     "metadata": {},
     "output_type": "execute_result"
    }
   ],
   "source": [
    "line=encode([1,2,1,1, 0,0,1,2])\n",
    "f_range(line, 0), cscore(line, 0)\n",
    "fr = f_range(line, 0), \n",
    "csc = cscore(line, 0)\n",
    "fr, csc, score(csc)"
   ]
  },
  {
   "cell_type": "code",
   "execution_count": 205,
   "metadata": {},
   "outputs": [
    {
     "data": {
      "text/plain": [
       "((array([0, 1, 1, 1, 0, 1]),), (4, 1), 4.0)"
      ]
     },
     "execution_count": 205,
     "metadata": {},
     "output_type": "execute_result"
    }
   ],
   "source": [
    "line=encode([1,0,1,1,1,0,1,2])\n",
    "fr = f_range(line, 0), \n",
    "csc = cscore(line, 0)\n",
    "fr, csc, score(csc)"
   ]
  },
  {
   "cell_type": "code",
   "execution_count": 219,
   "metadata": {},
   "outputs": [
    {
     "data": {
      "text/plain": [
       "((array([0, 1, 1, 1, 0, 0]),), (3, 2), 3.7797631496846193)"
      ]
     },
     "execution_count": 219,
     "metadata": {},
     "output_type": "execute_result"
    }
   ],
   "source": [
    "line=encode([1,0,1,1,1,0,0,2])\n",
    "fr = f_range(line, 0), \n",
    "csc = cscore(line, 0)\n",
    "fr, csc, score(csc)"
   ]
  },
  {
   "cell_type": "markdown",
   "metadata": {},
   "source": [
    "Complete score of a N9x9 neighbourhood"
   ]
  },
  {
   "cell_type": "code",
   "execution_count": 220,
   "metadata": {},
   "outputs": [
    {
     "data": {
      "text/plain": [
       "array([[[1, 0, 1, 1, 0, 0, 0, 0],\n",
       "        [0, 1, 0, 0, 0, 0, 1, 1]],\n",
       "\n",
       "       [[1, 0, 0, 1, 0, 0, 0, 0],\n",
       "        [0, 1, 1, 0, 1, 0, 1, 1]],\n",
       "\n",
       "       [[1, 0, 1, 1, 1, 0, 0, 0],\n",
       "        [0, 0, 0, 0, 0, 0, 0, 1]],\n",
       "\n",
       "       [[1, 0, 1, 1, 0, 0, 1, 0],\n",
       "        [0, 1, 0, 0, 0, 0, 0, 1]]])"
      ]
     },
     "execution_count": 220,
     "metadata": {},
     "output_type": "execute_result"
    }
   ],
   "source": [
    "line1=encode([1,2,1,1, 0,0,2,2])\n",
    "line2=encode([1,2,2,1, 2,0,2,2])\n",
    "line3=encode([1,0,1,1, 1,0,0,2])\n",
    "line4=encode([1,2,1,1, 0,0,1,2])\n",
    "bits = [line1, line2, line3, line4]\n",
    "np.array(bits)"
   ]
  },
  {
   "cell_type": "code",
   "execution_count": 221,
   "metadata": {},
   "outputs": [
    {
     "data": {
      "text/plain": [
       "4.825620112246073"
      ]
     },
     "execution_count": 221,
     "metadata": {},
     "output_type": "execute_result"
    }
   ],
   "source": [
    "tscore([score(cscore(line, 0)) for line in bits])"
   ]
  },
  {
   "cell_type": "code",
   "execution_count": null,
   "metadata": {},
   "outputs": [],
   "source": []
  },
  {
   "cell_type": "code",
   "execution_count": null,
   "metadata": {},
   "outputs": [],
   "source": []
  },
  {
   "cell_type": "code",
   "execution_count": null,
   "metadata": {},
   "outputs": [],
   "source": []
  },
  {
   "cell_type": "code",
   "execution_count": null,
   "metadata": {},
   "outputs": [],
   "source": []
  },
  {
   "cell_type": "code",
   "execution_count": null,
   "metadata": {},
   "outputs": [],
   "source": []
  },
  {
   "cell_type": "code",
   "execution_count": 30,
   "metadata": {},
   "outputs": [],
   "source": [
    "open4s=np.array([[0,1,1,1,  1,0,0,0], [1,1,1,1,  0,0,0,0]])"
   ]
  },
  {
   "cell_type": "code",
   "execution_count": 56,
   "metadata": {},
   "outputs": [],
   "source": [
    "def is_open4(line): \n",
    "    \"\"\"\n",
    "    immediate win or loss\n",
    "    \"\"\"\n",
    "    print(line)\n",
    "    return max([sum(p) for p in [line[i:i+4] for i in range(5)]]) == 4"
   ]
  },
  {
   "cell_type": "code",
   "execution_count": null,
   "metadata": {},
   "outputs": [],
   "source": []
  },
  {
   "cell_type": "code",
   "execution_count": null,
   "metadata": {},
   "outputs": [],
   "source": []
  }
 ],
 "metadata": {
  "kernelspec": {
   "display_name": "Python 3",
   "language": "python",
   "name": "python3"
  },
  "language_info": {
   "codemirror_mode": {
    "name": "ipython",
    "version": 3
   },
   "file_extension": ".py",
   "mimetype": "text/x-python",
   "name": "python",
   "nbconvert_exporter": "python",
   "pygments_lexer": "ipython3",
   "version": "3.6.7"
  }
 },
 "nbformat": 4,
 "nbformat_minor": 2
}
