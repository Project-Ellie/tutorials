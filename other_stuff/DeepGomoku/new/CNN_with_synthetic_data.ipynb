{
 "cells": [
  {
   "cell_type": "code",
   "execution_count": 1,
   "metadata": {},
   "outputs": [],
   "source": [
    "from __future__ import absolute_import, print_function, division"
   ]
  },
  {
   "cell_type": "code",
   "execution_count": 2,
   "metadata": {},
   "outputs": [],
   "source": [
    "import random\n",
    "import numpy as np\n",
    "import tensorflow as tf"
   ]
  },
  {
   "cell_type": "markdown",
   "metadata": {},
   "source": [
    "## Synthetic data\n",
    "\n",
    "We create a set of *boards* of size $5 \\times 5$ with 3 channels for each position. The label at each position $(j,k)$ is computed as a function of the channel values $v_{jkl}$ at that position.\n",
    "\n",
    "$$\n",
    "    L_{jk} = \\sum_{l=0}^2 a_l \\cdot (v_{jkl})^{l+1}\n",
    "$$\n",
    "\n",
    "Here, $a_l$ denote arbitrary coefficients defined below. Note that this function is the same for every position. Thus, a sufficiently deep convolutional network with only $1 \\times 1$ kernels should easily learn this function by simultaneously looking at all the positions of any given training board."
   ]
  },
  {
   "cell_type": "code",
   "execution_count": 3,
   "metadata": {},
   "outputs": [],
   "source": [
    "def create_data(N):\n",
    "    batch = np.zeros([N,5,5,3])\n",
    "    labels = np.zeros([N,5,5,1])\n",
    "    a=[.9, .3, -.2]\n",
    "    for i in range(N):\n",
    "        for x in range(5):\n",
    "            for y in range(5):\n",
    "                for l in range(3):\n",
    "                    v = 2*(random.random()-0.5)\n",
    "                    batch[i][x][y][l] = v\n",
    "                    labels[i][x][y][0] += a[l] * v**(l+1)\n",
    "    return batch,labels"
   ]
  },
  {
   "cell_type": "code",
   "execution_count": 4,
   "metadata": {},
   "outputs": [],
   "source": [
    "N = 100\n",
    "batch, labels = create_data(N)\n",
    "batch_t, labels_t = create_data(N)"
   ]
  },
  {
   "cell_type": "code",
   "execution_count": 5,
   "metadata": {},
   "outputs": [
    {
     "data": {
      "text/plain": [
       "(100, 5, 5, 3)"
      ]
     },
     "execution_count": 5,
     "metadata": {},
     "output_type": "execute_result"
    }
   ],
   "source": [
    "batch.shape"
   ]
  },
  {
   "cell_type": "markdown",
   "metadata": {},
   "source": [
    "Smartly rearranging the dimensions of the first *board* of the batch shows the three $5 \\times 5$ channels"
   ]
  },
  {
   "cell_type": "code",
   "execution_count": 48,
   "metadata": {},
   "outputs": [
    {
     "name": "stdout",
     "output_type": "stream",
     "text": [
      "[[[ 0.74693969  0.48546746 -0.64032873  0.20740517 -0.52110262]\n",
      "  [-0.24502381 -0.39422057 -0.79559477 -0.78173892 -0.26821271]\n",
      "  [ 0.64203813 -0.10964741  0.10761636  0.20474502  0.88349296]\n",
      "  [ 0.6045561   0.4825901   0.22126914 -0.96609026  0.77700791]\n",
      "  [-0.74618991 -0.7185272   0.25961772 -0.40991138  0.32262537]]\n",
      "\n",
      " [[-0.70078064 -0.88537715 -0.98702052 -0.86351054 -0.06063682]\n",
      "  [-0.2799541  -0.63746665 -0.60918102 -0.20878153 -0.46629432]\n",
      "  [ 0.36279194  0.41720322 -0.38299768  0.4476159   0.65373987]\n",
      "  [-0.43108833  0.63979487 -0.98023316  0.46543722  0.31619075]\n",
      "  [ 0.83441546  0.29428425  0.12673373  0.03372938 -0.05205615]]\n",
      "\n",
      " [[ 0.21045353 -0.28477088  0.42438695  0.00186075 -0.94323097]\n",
      "  [ 0.39970533 -0.18084252  0.15286042  0.71141744 -0.26074029]\n",
      "  [-0.94848738 -0.04065104  0.38869737  0.62644538  0.71679899]\n",
      "  [-0.79279819 -0.90494988 -0.28311771 -0.72705819  0.15688136]\n",
      "  [-0.68228306 -0.38828652  0.1926327  -0.13308862  0.24756423]]]\n"
     ]
    }
   ],
   "source": [
    "print(np.rollaxis(batch[0], 2, 0))"
   ]
  },
  {
   "cell_type": "code",
   "execution_count": 49,
   "metadata": {},
   "outputs": [],
   "source": [
    "_inputs = tf.placeholder(tf.float32, [None, 5, 5, 3])\n",
    "_labels = tf.placeholder(tf.float32, [None, 5, 5, 1])"
   ]
  },
  {
   "cell_type": "markdown",
   "metadata": {},
   "source": [
    "### A special CNN\n",
    "The convolutional network below can actually be regarded as a single convolutional layer with the kernel itself being a 5-layer feed-forward NN with layers $[3, 8, 32, 32, 1]$."
   ]
  },
  {
   "cell_type": "code",
   "execution_count": 50,
   "metadata": {},
   "outputs": [],
   "source": [
    "conv1 = tf.layers.conv2d(inputs=_inputs, filters=32, kernel_size=[1,1], strides=[1,1], padding='VALID', activation=tf.nn.elu)\n",
    "conv2 = tf.layers.conv2d(inputs=conv1, filters=128, kernel_size=[1,1], strides=[1,1], padding='VALID', activation=tf.nn.elu)\n",
    "conv3 = tf.layers.conv2d(inputs=conv2, filters=32, kernel_size=[1,1], strides=[1,1], padding='VALID', activation=tf.nn.elu)\n",
    "conv4 = tf.layers.conv2d(inputs=conv3, filters=1, kernel_size=[1,1], strides=[1,1], padding='VALID')\n",
    "\n",
    "loss = tf.losses.mean_squared_error(_labels,conv4)\n",
    "optimizer = tf.train.AdamOptimizer(learning_rate=3e-4).minimize(loss)"
   ]
  },
  {
   "cell_type": "markdown",
   "metadata": {},
   "source": [
    "### Training\n",
    "We train the network and compute training loss and test loss once in a while"
   ]
  },
  {
   "cell_type": "code",
   "execution_count": 51,
   "metadata": {},
   "outputs": [
    {
     "name": "stdout",
     "output_type": "stream",
     "text": [
      "0.2959582 0.2887018\n",
      "0.0007335471 0.00072026637\n",
      "0.00014291795 0.00014278585\n",
      "6.4077256e-05 6.6136825e-05\n",
      "2.4939978e-05 2.5989855e-05\n",
      "1.0700216e-05 1.134723e-05\n",
      "1.8971024e-05 2.0532565e-05\n",
      "6.2155605e-06 6.667616e-06\n",
      "5.3054796e-06 5.7024954e-06\n",
      "4.788528e-06 5.1525794e-06\n",
      "4.8150964e-06 5.3615126e-06\n"
     ]
    }
   ],
   "source": [
    "with tf.Session() as session:\n",
    "    session.run(tf.global_variables_initializer())\n",
    "    for i in range(10001):\n",
    "        _ = session.run(optimizer, feed_dict={_inputs: batch, _labels: labels})\n",
    "        if i % 1000 == 0:\n",
    "            l = session.run(loss, feed_dict={_inputs: batch, _labels: labels})\n",
    "            l_t = session.run(loss, feed_dict={_inputs: batch_t, _labels: labels_t})\n",
    "            print(l, l_t)"
   ]
  },
  {
   "cell_type": "markdown",
   "metadata": {},
   "source": [
    "From the smooth convergence also on the test set we can see that the network has indeed learned our label function."
   ]
  },
  {
   "cell_type": "code",
   "execution_count": null,
   "metadata": {},
   "outputs": [],
   "source": []
  }
 ],
 "metadata": {
  "kernelspec": {
   "display_name": "Python 3",
   "language": "python",
   "name": "python3"
  },
  "language_info": {
   "codemirror_mode": {
    "name": "ipython",
    "version": 3
   },
   "file_extension": ".py",
   "mimetype": "text/x-python",
   "name": "python",
   "nbconvert_exporter": "python",
   "pygments_lexer": "ipython3",
   "version": "3.5.3"
  }
 },
 "nbformat": 4,
 "nbformat_minor": 2
}
