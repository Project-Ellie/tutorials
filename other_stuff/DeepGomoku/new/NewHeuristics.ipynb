{
 "cells": [
  {
   "cell_type": "code",
   "execution_count": 1,
   "metadata": {},
   "outputs": [],
   "source": [
    "%load_ext autoreload\n",
    "%autoreload 2"
   ]
  },
  {
   "cell_type": "code",
   "execution_count": 2,
   "metadata": {},
   "outputs": [],
   "source": [
    "from __future__ import print_function, absolute_import, division"
   ]
  },
  {
   "cell_type": "code",
   "execution_count": 3,
   "metadata": {},
   "outputs": [],
   "source": [
    "import numpy as np\n",
    "from GomokuBoard import GomokuBoard\n",
    "from GomokuTools import GomokuTools as gt\n",
    "from NH9x9 import NH9x9\n",
    "from Heuristics import Heuristics"
   ]
  },
  {
   "cell_type": "code",
   "execution_count": 134,
   "metadata": {},
   "outputs": [],
   "source": [
    "def num_offensive(o, d):\n",
    "    s, l, offset = gt.mask2(o, d)\n",
    "    m2o_bits = gt.as_bit_array(s)[:l]\n",
    "    max_count = 0\n",
    "    for w in [2,1,0]:\n",
    "        i = 0\n",
    "        while i <= len(m2o_bits) - 2 - w:\n",
    "            count = sum(m2o_bits[i:i+w+2])\n",
    "            count = 3*count - (w+2)\n",
    "            if count > max_count:\n",
    "                max_count = count\n",
    "            i+=1\n",
    "    if m2o_bits[0] == 0:\n",
    "        max_count += 1.5\n",
    "    if m2o_bits[-1] == 0:\n",
    "        max_count += 1.5\n",
    "\n",
    "    return max_count        \n"
   ]
  },
  {
   "cell_type": "code",
   "execution_count": 135,
   "metadata": {},
   "outputs": [],
   "source": [
    "def line_score(xo):\n",
    "    o,d = gt.line_for_xo(xo)\n",
    "    m = gt.mask(o,d)\n",
    "    m2 = gt.mask2(o,d)\n",
    "    if m2[1] >= 4 and sum(gt.as_bit_array(m2[0])) >= 1:\n",
    "        return num_offensive(o,d) - 2\n",
    "    else:\n",
    "        return 0"
   ]
  },
  {
   "cell_type": "code",
   "execution_count": 163,
   "metadata": {},
   "outputs": [
    {
     "name": "stdout",
     "output_type": "stream",
     "text": [
      "...ox... 0.5\n",
      "...x..xo 1.5\n",
      ".....x.. 2.0\n",
      "...x.xo. 2.5\n",
      "...x..x. 3.0\n",
      "...xxo.. 3.5\n",
      "xx...... 3.5\n",
      "...x.x.. 4.0\n",
      "..oxx.x. 4.5\n",
      "...xx... 5.0\n",
      ".xx..... 5.0\n",
      "...xxxo. 5.5\n",
      "...xx.x. 6.0\n",
      "...xxx.. 7.0\n"
     ]
    }
   ],
   "source": [
    "for i in [\n",
    "    '...ox...',\n",
    "    '...x..xo',\n",
    "    '.....x..',\n",
    "    '...x.xo.',\n",
    "    '...x..x.',\n",
    "    '...xxo..',\n",
    "    'xx......',\n",
    "    '...x.x..',\n",
    "    '..oxx.x.',\n",
    "    '...xx...',\n",
    "    '.xx.....',\n",
    "    '...xxxo.',\n",
    "    '...xx.x.',\n",
    "    '...xxx..',\n",
    "]: \n",
    "    print(i, line_score(i))"
   ]
  },
  {
   "cell_type": "code",
   "execution_count": 260,
   "metadata": {},
   "outputs": [],
   "source": [
    "kappa=3.0\n",
    "def nhcombine(l):\n",
    "    l_ = sorted(l)\n",
    "    if l_[-1]>=7 or (l_[-1] in [4.5,5.5,6,6.5,7.0] and l_[-2] >= 4):\n",
    "        return 7 # truly strong\n",
    "    \n",
    "    if l_[-1] in [4,5] and l_[-2] in [4,5]:\n",
    "        return 6.9 # can only be countered by strong counter-attack\n",
    "    \n",
    "    return (l_[-1]**kappa + l_[-2]**kappa)**(1/kappa)"
   ]
  },
  {
   "cell_type": "code",
   "execution_count": 271,
   "metadata": {},
   "outputs": [
    {
     "data": {
      "text/plain": [
       "array([0. , 0.5, 1. , 1.5, 2. , 2.5, 3. , 3.5, 4. , 4.5, 5. , 5.5, 6. ,\n",
       "       6.5, 7. ])"
      ]
     },
     "execution_count": 271,
     "metadata": {},
     "output_type": "execute_result"
    }
   ],
   "source": [
    "values = np.arange(15)/2\n",
    "values"
   ]
  },
  {
   "cell_type": "code",
   "execution_count": 272,
   "metadata": {},
   "outputs": [],
   "source": [
    "precomputed = np.zeros([15*15*15*15])\n",
    "for e in values:\n",
    "    for ne in values:\n",
    "        for n in values:\n",
    "            for nw in values:\n",
    "                v = nhcombine([e, ne, n, nw])\n",
    "                precomputed[int(2*(3375*e+225*ne+15*n+nw))]=v"
   ]
  },
  {
   "cell_type": "code",
   "execution_count": 276,
   "metadata": {},
   "outputs": [],
   "source": [
    "line_counts=np.random.randint(0,14, [5, 5, 4])/2"
   ]
  },
  {
   "cell_type": "code",
   "execution_count": 277,
   "metadata": {},
   "outputs": [],
   "source": [
    "e,ne,n,nw = np.rollaxis(line_counts, 2, 0)\n",
    "indices = (2*(3375*e+225*ne+15*n+nw)).astype(int)\n",
    "scores = precomputed[indices]"
   ]
  },
  {
   "cell_type": "code",
   "execution_count": 278,
   "metadata": {},
   "outputs": [
    {
     "name": "stdout",
     "output_type": "stream",
     "text": [
      "[0.  3.  6.  6.5] 7.0\n",
      "[5.  5.5 6.  2.5] 7.0\n",
      "[4.5 6.  3.5 3.5] 7.0\n",
      "[1.  1.  6.  6.5] 7.0\n",
      "[3.5 4.  6.  6.5] 7.0\n",
      "[2.5 1.  4.  1. ] 4.302126224475824\n",
      "[2.  6.  1.5 1. ] 6.0731779437513245\n",
      "[3.  4.  1.5 1.5] 4.497941445275415\n",
      "[0.  6.5 1.5 5. ] 7.0\n",
      "[2.  4.  4.  3.5] 6.9\n",
      "[5.5 0.5 2.  4.5] 7.0\n",
      "[0.5 6.5 0.  1.5] 6.52651887934375\n",
      "[1.5 3.5 5.  6. ] 7.0\n",
      "[4.  2.  0.5 3.5] 4.745609979014665\n",
      "[5.  6.5 0.5 1.5] 7.0\n",
      "[1.5 1.  6.  0. ] 6.031088637883586\n",
      "[4.  2.5 1.  6.5] 7.0\n",
      "[1.  2.5 4.  4.5] 7.0\n",
      "[5.5 2.  1.5 2.5] 5.667051108097064\n",
      "[1.5 2.5 2.5 0.5] 3.1498026247371826\n",
      "[4.5 5.5 5.5 2.5] 7.0\n",
      "[5.  5.5 4.5 2.5] 7.0\n",
      "[3.5 0.5 5.5 3. ] 5.936837414520608\n",
      "[5.5 2.5 6.5 1. ] 7.0\n",
      "[1.5 0.5 5.  5.5] 7.0\n"
     ]
    }
   ],
   "source": [
    "for i in range(5):\n",
    "    for j in range(5):\n",
    "        print(line_counts[i][j], scores[i][j])"
   ]
  },
  {
   "cell_type": "code",
   "execution_count": 279,
   "metadata": {},
   "outputs": [
    {
     "data": {
      "text/plain": [
       "6.822044948812934"
      ]
     },
     "execution_count": 279,
     "metadata": {},
     "output_type": "execute_result"
    }
   ],
   "source": [
    "nhcombine([6.5, 0.,  2.5, 3.5 ])"
   ]
  },
  {
   "cell_type": "markdown",
   "metadata": {},
   "source": [
    "Now, a classical strategy could be: (A:attack, D:defend)\n",
    "- ALWAYS attack at level A7 position\n",
    "- if not possible, ALWAYS defend level D7 position\n",
    "- ALWAYS tree search level A6.9 for a strong defense\n",
    "    - if not a strong defense, attack at that position\n",
    "    - if strong defense possible, consider deeper tree search or alternatives\n",
    "- ALWAYS tree search level D6.9 for a strong counter-attack\n",
    "    - if no strong counter-attack possible, defend that position\n",
    "    - if strong counter-attack possible, consider deeper tree search or alternatives\n",
    "- Choose greedy (when fighting) or e-greedy when learning\n",
    "    - allow policies with more agressive or more defensive style\n"
   ]
  },
  {
   "cell_type": "code",
   "execution_count": null,
   "metadata": {},
   "outputs": [],
   "source": []
  }
 ],
 "metadata": {
  "kernelspec": {
   "display_name": "Python 2",
   "language": "python",
   "name": "python2"
  },
  "language_info": {
   "codemirror_mode": {
    "name": "ipython",
    "version": 2
   },
   "file_extension": ".py",
   "mimetype": "text/x-python",
   "name": "python",
   "nbconvert_exporter": "python",
   "pygments_lexer": "ipython2",
   "version": "2.7.15rc1"
  }
 },
 "nbformat": 4,
 "nbformat_minor": 2
}
