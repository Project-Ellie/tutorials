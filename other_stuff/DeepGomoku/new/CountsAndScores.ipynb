{
 "cells": [
  {
   "cell_type": "code",
   "execution_count": 1,
   "metadata": {},
   "outputs": [],
   "source": [
    "%load_ext autoreload\n",
    "%autoreload 2"
   ]
  },
  {
   "cell_type": "code",
   "execution_count": 2,
   "metadata": {},
   "outputs": [],
   "source": [
    "from __future__ import print_function, absolute_import, division"
   ]
  },
  {
   "cell_type": "code",
   "execution_count": 3,
   "metadata": {},
   "outputs": [],
   "source": [
    "import numpy as np\n",
    "from GomokuBoard import GomokuBoard\n",
    "from GomokuTools import NH9x9, Heuristics, GomokuTools as gt"
   ]
  },
  {
   "cell_type": "code",
   "execution_count": 4,
   "metadata": {},
   "outputs": [],
   "source": [
    "A,B,C,D,E,F,G,H,I,J,K,L,M,N,O,P,Q,R,S,T,U = \\\n",
    "    1,2,3,4,5,6,7,8,9,10,11,12,13,14,15,16,17,18,19,20,21\n",
    "BLACK=0\n",
    "WHITE=1\n",
    "EDGES=2"
   ]
  },
  {
   "cell_type": "markdown",
   "metadata": {},
   "source": [
    "## Single line scores"
   ]
  },
  {
   "cell_type": "markdown",
   "metadata": {},
   "source": [
    "```Heuristics``` pre-computes all counts and scores a initialization time "
   ]
  },
  {
   "cell_type": "code",
   "execution_count": 5,
   "metadata": {},
   "outputs": [],
   "source": [
    "h = Heuristics()"
   ]
  },
  {
   "cell_type": "markdown",
   "metadata": {},
   "source": [
    "Displaying the relevance count, which is a function of the number of offensive stones, their density, and open-ended-ness. Also displaying the score which adds some more fine-grained heuristic relevance aspects."
   ]
  },
  {
   "cell_type": "code",
   "execution_count": 6,
   "metadata": {},
   "outputs": [
    {
     "name": "stdout",
     "output_type": "stream",
     "text": [
      ".......x 0 80\n",
      ".....xo. 0 82\n",
      "....xo.. 0 83\n",
      "......x. 1 337\n",
      "....x... 1 339\n",
      "...x..x. 2 596\n",
      "...x.x.. 3 853\n",
      "...xx... 4 1110\n",
      "..x.xx.. 5 1367\n",
      "o.o.xxx. 11 2902\n"
     ]
    }
   ],
   "source": [
    "for i in [\n",
    "    '.......x',\n",
    "    '.....xo.',\n",
    "    '....xo..',\n",
    "    '......x.',\n",
    "    '....x...',\n",
    "    '...x..x.',\n",
    "    '...x.x..',\n",
    "    '...xx...',\n",
    "    '..x.xx..',\n",
    "    'o.o.xxx.',]:\n",
    "    print(i, h.lookup_count(*gt.line_for_xo(i)), h.lookup_score(*gt.line_for_xo(i)))"
   ]
  },
  {
   "cell_type": "markdown",
   "metadata": {},
   "source": [
    "## Multi-line (neighbourhood) scores"
   ]
  },
  {
   "cell_type": "code",
   "execution_count": 7,
   "metadata": {},
   "outputs": [
    {
     "data": {
      "text/plain": [
       "array([[8.48528137]])"
      ]
     },
     "execution_count": 7,
     "metadata": {},
     "output_type": "execute_result"
    }
   ],
   "source": [
    "h.nhcombine(np.array([[[6,6,0,0]]]), kappa=2.0)"
   ]
  },
  {
   "cell_type": "markdown",
   "metadata": {},
   "source": [
    "---\n",
    "Some tools for visualization"
   ]
  },
  {
   "cell_type": "code",
   "execution_count": 8,
   "metadata": {},
   "outputs": [],
   "source": [
    "def nhforxo(e,ne='........', n='........', nw='........'):\n",
    "    \"\"\"\n",
    "    Neighbourhood from xo-strings\n",
    "    \"\"\"\n",
    "    lines = np.array([gt.line_for_xo(xo) for xo in [e,ne,n,nw]])\n",
    "    lines = np.rollaxis(lines, 1, 0)\n",
    "    return NH9x9(*lines)"
   ]
  },
  {
   "cell_type": "code",
   "execution_count": 9,
   "metadata": {},
   "outputs": [],
   "source": [
    "def dsc(h, e,ne='........',n='........', nw='........', kappa=1.2):\n",
    "    \"\"\"\n",
    "    Display the neighbourhood and its score\n",
    "    \"\"\"\n",
    "    counts = [h.lookup_count(*gt.line_for_xo(s)) for s in [e,ne,n,nw]]\n",
    "    print(counts, h.nhcombine(np.array([[counts]]),kappa=kappa))\n",
    "    print(nhforxo(e,ne,n,nw))"
   ]
  },
  {
   "cell_type": "markdown",
   "metadata": {},
   "source": [
    "---"
   ]
  },
  {
   "cell_type": "markdown",
   "metadata": {},
   "source": [
    "#### Not strictly dangerous, yet."
   ]
  },
  {
   "cell_type": "code",
   "execution_count": 10,
   "metadata": {},
   "outputs": [
    {
     "name": "stdout",
     "output_type": "stream",
     "text": [
      "[5, 0, 0, 0] [[5.]]\n",
      "|                 |\n",
      "|                 |\n",
      "|                 |\n",
      "|                 |\n",
      "|        *   x x x|\n",
      "|                 |\n",
      "|                 |\n",
      "|                 |\n",
      "|                 |\n"
     ]
    }
   ],
   "source": [
    "dsc(h, '.....xxx')"
   ]
  },
  {
   "cell_type": "code",
   "execution_count": 11,
   "metadata": {},
   "outputs": [
    {
     "name": "stdout",
     "output_type": "stream",
     "text": [
      "[4, 2, 0, 0] [[5.40554303]]\n",
      "|                 |\n",
      "|              o  |\n",
      "|            x    |\n",
      "|                 |\n",
      "|      x * x     o|\n",
      "|      x          |\n",
      "|                 |\n",
      "|                 |\n",
      "|                 |\n"
     ]
    }
   ],
   "source": [
    "dsc(h, '...xx..o', '...x.xo.')"
   ]
  },
  {
   "cell_type": "code",
   "execution_count": 12,
   "metadata": {},
   "outputs": [
    {
     "name": "stdout",
     "output_type": "stream",
     "text": [
      "[5, 1, 0, 0] [[5.59706883]]\n",
      "|                 |\n",
      "|                 |\n",
      "|                 |\n",
      "|                 |\n",
      "|      x * x x o  |\n",
      "|                 |\n",
      "|    x            |\n",
      "|                 |\n",
      "|                 |\n"
     ]
    }
   ],
   "source": [
    "dsc(h, '...xxxo.','..x.....')"
   ]
  },
  {
   "cell_type": "markdown",
   "metadata": {},
   "source": [
    "#### Immediate action required: count > 6"
   ]
  },
  {
   "cell_type": "code",
   "execution_count": 13,
   "metadata": {},
   "outputs": [
    {
     "name": "stdout",
     "output_type": "stream",
     "text": [
      "[4, 3, 0, 0] [[6.24904694]]\n",
      "|                 |\n",
      "|                 |\n",
      "|            x    |\n",
      "|                 |\n",
      "|      x * x     o|\n",
      "|      x          |\n",
      "|                 |\n",
      "|                 |\n",
      "|                 |\n"
     ]
    }
   ],
   "source": [
    "dsc(h, '...xx..o', '...x.x..')"
   ]
  },
  {
   "cell_type": "code",
   "execution_count": 14,
   "metadata": {},
   "outputs": [
    {
     "name": "stdout",
     "output_type": "stream",
     "text": [
      "[4, 4, 0, 0] [[7.12718975]]\n",
      "|                 |\n",
      "|                 |\n",
      "|                 |\n",
      "|          x      |\n",
      "|      x * x     o|\n",
      "|      x          |\n",
      "|                 |\n",
      "|                 |\n",
      "|                 |\n"
     ]
    }
   ],
   "source": [
    "dsc(h, '...xx..o', '...xx...')"
   ]
  },
  {
   "cell_type": "code",
   "execution_count": 15,
   "metadata": {},
   "outputs": [
    {
     "name": "stdout",
     "output_type": "stream",
     "text": [
      "[5, 4, 0, 0] [[8.02800084]]\n",
      "|                 |\n",
      "|                 |\n",
      "|                 |\n",
      "|                 |\n",
      "|      x * x x o  |\n",
      "|                 |\n",
      "|    x            |\n",
      "|  x              |\n",
      "|                 |\n"
     ]
    }
   ],
   "source": [
    "dsc(h, '...xxxo.','.xx.....')"
   ]
  },
  {
   "cell_type": "markdown",
   "metadata": {},
   "source": [
    "#### Fatal"
   ]
  },
  {
   "cell_type": "code",
   "execution_count": 16,
   "metadata": {},
   "outputs": [
    {
     "name": "stdout",
     "output_type": "stream",
     "text": [
      "[11, 0, 0, 0] [[11.]]\n",
      "|                 |\n",
      "|                 |\n",
      "|                 |\n",
      "|                 |\n",
      "|      x * x x   o|\n",
      "|                 |\n",
      "|                 |\n",
      "|                 |\n",
      "|                 |\n"
     ]
    }
   ],
   "source": [
    "dsc(h, '...xxx.o')"
   ]
  },
  {
   "cell_type": "markdown",
   "metadata": {},
   "source": [
    "---\n",
    "## Scoring the entire board"
   ]
  },
  {
   "cell_type": "code",
   "execution_count": 17,
   "metadata": {},
   "outputs": [
    {
     "data": {
      "image/png": "[encoded data removed]",
      "text/plain": [
       "<Figure size 432x432 with 1 Axes>"
      ]
     },
     "metadata": {
      "needs_background": "light"
     },
     "output_type": "display_data"
    }
   ],
   "source": [
    "board=GomokuBoard()\n",
    "board.set(I,1).set(J,1).set(K,3).set(J,2).display()"
   ]
  },
  {
   "cell_type": "markdown",
   "metadata": {},
   "source": [
    "We'll be looking at the neighbourhood of position (J,3)."
   ]
  },
  {
   "cell_type": "code",
   "execution_count": 18,
   "metadata": {},
   "outputs": [
    {
     "data": {
      "text/plain": [
       "|                 |\n",
       "|                 |\n",
       "|                 |\n",
       "|                 |\n",
       "|        * x      |\n",
       "|        o        |\n",
       "|        o        |\n",
       "|  +     +     +  |\n",
       "|                 |"
      ]
     },
     "execution_count": 18,
     "metadata": {},
     "output_type": "execute_result"
    }
   ],
   "source": [
    "board.getnh(J,3)"
   ]
  },
  {
   "cell_type": "code",
   "execution_count": 19,
   "metadata": {},
   "outputs": [
    {
     "data": {
      "text/plain": [
       "(array([8, 0, 0, 0]), array([ 0,  0, 48,  0]), array([ 0, 64, 64, 64]))"
      ]
     },
     "execution_count": 19,
     "metadata": {},
     "output_type": "execute_result"
    }
   ],
   "source": [
    "board.lines[0][12][9], board.lines[1][12][9], board.lines[2][12][9]"
   ]
  },
  {
   "cell_type": "markdown",
   "metadata": {},
   "source": [
    "#### Black's perspective"
   ]
  },
  {
   "cell_type": "markdown",
   "metadata": {},
   "source": [
    "Calculating indices for the count/score lookup"
   ]
  },
  {
   "cell_type": "code",
   "execution_count": 20,
   "metadata": {},
   "outputs": [],
   "source": [
    "b_indices = 256*board.lines[0]+(board.lines[1] | board.lines[2])"
   ]
  },
  {
   "cell_type": "code",
   "execution_count": 21,
   "metadata": {},
   "outputs": [
    {
     "data": {
      "text/plain": [
       "(15, 15, 4)"
      ]
     },
     "execution_count": 21,
     "metadata": {},
     "output_type": "execute_result"
    }
   ],
   "source": [
    "b_indices.shape"
   ]
  },
  {
   "cell_type": "markdown",
   "metadata": {},
   "source": [
    "Noticed? This is lookup by array: super-efficient!"
   ]
  },
  {
   "cell_type": "code",
   "execution_count": 22,
   "metadata": {},
   "outputs": [],
   "source": [
    "b_scores = h._all_scores[b_indices]\n",
    "b_counts = h._all_counts[b_indices]"
   ]
  },
  {
   "cell_type": "code",
   "execution_count": 23,
   "metadata": {},
   "outputs": [
    {
     "data": {
      "text/plain": [
       "(15, 15, 4)"
      ]
     },
     "execution_count": 23,
     "metadata": {},
     "output_type": "execute_result"
    }
   ],
   "source": [
    "b_counts.shape"
   ]
  },
  {
   "cell_type": "code",
   "execution_count": 24,
   "metadata": {},
   "outputs": [
    {
     "data": {
      "text/plain": [
       "array([1, 0, 0, 0])"
      ]
     },
     "execution_count": 24,
     "metadata": {},
     "output_type": "execute_result"
    }
   ],
   "source": [
    "# This is position (J,3): a single black stone on the eastern line\n",
    "b_counts[12][9]"
   ]
  },
  {
   "cell_type": "markdown",
   "metadata": {},
   "source": [
    "#### White's perspective"
   ]
  },
  {
   "cell_type": "code",
   "execution_count": 25,
   "metadata": {},
   "outputs": [],
   "source": [
    "w_indices = 256*board.lines[1]+(board.lines[0] | board.lines[2])"
   ]
  },
  {
   "cell_type": "code",
   "execution_count": 26,
   "metadata": {},
   "outputs": [],
   "source": [
    "w_scores = h._all_scores[w_indices]\n",
    "w_counts = h._all_counts[w_indices]"
   ]
  },
  {
   "cell_type": "code",
   "execution_count": 27,
   "metadata": {},
   "outputs": [
    {
     "data": {
      "text/plain": [
       "array([0, 0, 3, 0])"
      ]
     },
     "execution_count": 27,
     "metadata": {},
     "output_type": "execute_result"
    }
   ],
   "source": [
    "# This is position (J,3) - two stones facing north with one open end\n",
    "w_counts[12][9]"
   ]
  },
  {
   "cell_type": "code",
   "execution_count": 28,
   "metadata": {},
   "outputs": [
    {
     "data": {
      "text/plain": [
       "3"
      ]
     },
     "execution_count": 28,
     "metadata": {},
     "output_type": "execute_result"
    }
   ],
   "source": [
    "# compare: two stones, one open end\n",
    "h.lookup_count(*gt.line_for_xo('.oxx....'))"
   ]
  },
  {
   "cell_type": "code",
   "execution_count": 29,
   "metadata": {},
   "outputs": [],
   "source": [
    "allnhscores = h.nhcombine(w_counts)"
   ]
  },
  {
   "cell_type": "code",
   "execution_count": 30,
   "metadata": {},
   "outputs": [
    {
     "data": {
      "text/plain": [
       "3.0"
      ]
     },
     "execution_count": 30,
     "metadata": {},
     "output_type": "execute_result"
    }
   ],
   "source": [
    "allnhscores[12][9]"
   ]
  },
  {
   "cell_type": "markdown",
   "metadata": {},
   "source": [
    "#### Implementation in ```GomokuField```"
   ]
  },
  {
   "cell_type": "code",
   "execution_count": 31,
   "metadata": {},
   "outputs": [],
   "source": [
    "board.compute_all_counts_and_scores()"
   ]
  },
  {
   "cell_type": "code",
   "execution_count": 32,
   "metadata": {},
   "outputs": [
    {
     "data": {
      "text/plain": [
       "3.0"
      ]
     },
     "execution_count": 32,
     "metadata": {},
     "output_type": "execute_result"
    }
   ],
   "source": [
    "board.get_count(1,J,3)"
   ]
  },
  {
   "cell_type": "code",
   "execution_count": 33,
   "metadata": {},
   "outputs": [
    {
     "data": {
      "text/plain": [
       "(15, 15)"
      ]
     },
     "execution_count": 33,
     "metadata": {},
     "output_type": "execute_result"
    }
   ],
   "source": [
    "board.counts[1].shape"
   ]
  },
  {
   "cell_type": "code",
   "execution_count": null,
   "metadata": {},
   "outputs": [],
   "source": []
  }
 ],
 "metadata": {
  "kernelspec": {
   "display_name": "Python 3",
   "language": "python",
   "name": "python3"
  },
  "language_info": {
   "codemirror_mode": {
    "name": "ipython",
    "version": 3
   },
   "file_extension": ".py",
   "mimetype": "text/x-python",
   "name": "python",
   "nbconvert_exporter": "python",
   "pygments_lexer": "ipython3",
   "version": "3.6.4"
  }
 },
 "nbformat": 4,
 "nbformat_minor": 2
}
