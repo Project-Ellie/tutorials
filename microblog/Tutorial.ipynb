{
 "cells": [
  {
   "cell_type": "markdown",
   "metadata": {},
   "source": [
    "# GKE - flask - Let's Encrypt HTTPS\n",
    "#### Deploying a flask app on a K8s Cluster in the Google Cloud and access it through HTTPS"
   ]
  },
  {
   "cell_type": "code",
   "execution_count": 1,
   "metadata": {},
   "outputs": [
    {
     "name": "stdout",
     "output_type": "stream",
     "text": [
      "/home/wgiersche/workspace/tutorials/microblog\n"
     ]
    }
   ],
   "source": [
    "!pwd"
   ]
  },
  {
   "cell_type": "code",
   "execution_count": null,
   "metadata": {},
   "outputs": [],
   "source": [
    "!docker build "
   ]
  },
  {
   "cell_type": "markdown",
   "metadata": {},
   "source": [
    "### Links: \n",
    "\n",
    "#### [The flask mega-tutorial](https://blog.miguelgrinberg.com/)\n",
    "#### [HTTPS on GKE](https://medium.com/a-little-bit/https-and-gke-6a0dc702603f)\n",
    "#### []()\n",
    "#### []()\n",
    "#### []()\n",
    "#### []()\n",
    "#### []()\n",
    "#### []()\n",
    "#### []()"
   ]
  },
  {
   "cell_type": "code",
   "execution_count": null,
   "metadata": {},
   "outputs": [],
   "source": []
  }
 ],
 "metadata": {
  "kernelspec": {
   "display_name": "Python 2",
   "language": "python",
   "name": "python2"
  },
  "language_info": {
   "codemirror_mode": {
    "name": "ipython",
    "version": 2
   },
   "file_extension": ".py",
   "mimetype": "text/x-python",
   "name": "python",
   "nbconvert_exporter": "python",
   "pygments_lexer": "ipython2",
   "version": "2.7.13"
  }
 },
 "nbformat": 4,
 "nbformat_minor": 2
}
