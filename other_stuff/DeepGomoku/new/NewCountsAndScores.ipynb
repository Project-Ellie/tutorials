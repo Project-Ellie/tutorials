{
 "cells": [
  {
   "cell_type": "code",
   "execution_count": 1,
   "metadata": {},
   "outputs": [],
   "source": [
    "%load_ext autoreload\n",
    "%autoreload 2"
   ]
  },
  {
   "cell_type": "code",
   "execution_count": 2,
   "metadata": {},
   "outputs": [],
   "source": [
    "from __future__ import print_function, absolute_import, division"
   ]
  },
  {
   "cell_type": "code",
   "execution_count": 3,
   "metadata": {},
   "outputs": [],
   "source": [
    "import numpy as np\n",
    "from GomokuBoard import GomokuBoard\n",
    "from GomokuTools import GomokuTools as gt\n",
    "from NH9x9 import NH9x9\n",
    "from Heuristics import Heuristics"
   ]
  },
  {
   "cell_type": "code",
   "execution_count": 4,
   "metadata": {},
   "outputs": [],
   "source": [
    "A,B,C,D,E,F,G,H,I,J,K,L,M,N,O,P,Q,R,S,T,U = \\\n",
    "    1,2,3,4,5,6,7,8,9,10,11,12,13,14,15,16,17,18,19,20,21\n",
    "BLACK=0\n",
    "WHITE=1\n",
    "EDGES=2"
   ]
  },
  {
   "cell_type": "markdown",
   "metadata": {},
   "source": [
    "## Single line scores"
   ]
  },
  {
   "cell_type": "markdown",
   "metadata": {},
   "source": [
    "```Heuristics``` pre-computes all counts and scores a initialization time "
   ]
  },
  {
   "cell_type": "code",
   "execution_count": 5,
   "metadata": {},
   "outputs": [],
   "source": [
    "h = Heuristics(kappa=3.0)"
   ]
  },
  {
   "cell_type": "markdown",
   "metadata": {},
   "source": [
    "Displaying the relevance count, which is a function of the number of offensive stones, their density, and open-ended-ness. Also displaying the score which adds some more fine-grained heuristic relevance aspects."
   ]
  },
  {
   "cell_type": "code",
   "execution_count": 6,
   "metadata": {},
   "outputs": [
    {
     "data": {
      "text/plain": [
       "[24, 4]"
      ]
     },
     "execution_count": 6,
     "metadata": {},
     "output_type": "execute_result"
    }
   ],
   "source": [
    "gt.line_for_xo('...xxo..')"
   ]
  },
  {
   "cell_type": "code",
   "execution_count": 7,
   "metadata": {},
   "outputs": [
    {
     "data": {
      "text/plain": [
       "3.5"
      ]
     },
     "execution_count": 7,
     "metadata": {},
     "output_type": "execute_result"
    }
   ],
   "source": [
    "h.line_score_for(24,4)"
   ]
  },
  {
   "cell_type": "code",
   "execution_count": 8,
   "metadata": {},
   "outputs": [
    {
     "data": {
      "text/plain": [
       "3.5"
      ]
     },
     "execution_count": 8,
     "metadata": {},
     "output_type": "execute_result"
    }
   ],
   "source": [
    "h.lookup_line_score(24,4)"
   ]
  },
  {
   "cell_type": "code",
   "execution_count": 9,
   "metadata": {},
   "outputs": [
    {
     "data": {
      "text/plain": [
       "array([[6.9, 8. ]])"
      ]
     },
     "execution_count": 9,
     "metadata": {},
     "output_type": "execute_result"
    }
   ],
   "source": [
    "h.lookup_total_scores(np.array([[[4, 5, 0, 0],[4, 7.5, 0, 0]]]))"
   ]
  },
  {
   "cell_type": "code",
   "execution_count": 10,
   "metadata": {},
   "outputs": [
    {
     "name": "stdout",
     "output_type": "stream",
     "text": [
      "...ox... 0.5\n",
      "...x..xo 1.5\n",
      ".....x.. 2.0\n",
      "...x.xo. 2.5\n",
      "...x..x. 3.0\n",
      "...xxo.. 3.5\n",
      "xx...... 3.5\n",
      "...x.x.. 4.0\n",
      "..oxx.x. 4.5\n",
      "...xx... 5.0\n",
      ".xx..... 5.0\n",
      ".....xxx 5.5\n",
      "...xxxo. 5.5\n",
      "...xx.x. 6.0\n",
      "...xxx.. 7.0\n",
      ".oxxxx.. 7.5\n",
      "..xxxx.. 9.0\n"
     ]
    }
   ],
   "source": [
    "for i in [\n",
    "    '...ox...',\n",
    "    '...x..xo',\n",
    "    '.....x..',\n",
    "    '...x.xo.',\n",
    "    '...x..x.',\n",
    "    '...xxo..',\n",
    "    'xx......',\n",
    "    '...x.x..',\n",
    "    '..oxx.x.',\n",
    "    '...xx...',\n",
    "    '.xx.....',\n",
    "    '.....xxx',\n",
    "    '...xxxo.',\n",
    "    '...xx.x.',\n",
    "    '...xxx..',\n",
    "    '.oxxxx..',\n",
    "    '..xxxx..']:\n",
    "    print(i, h.lookup_line_score(*gt.line_for_xo(i)))"
   ]
  },
  {
   "cell_type": "markdown",
   "metadata": {},
   "source": [
    "## Multi-line (neighbourhood) scores"
   ]
  },
  {
   "cell_type": "code",
   "execution_count": 11,
   "metadata": {},
   "outputs": [],
   "source": [
    "line_counts=9-(np.sqrt(np.random.randint(0,18**2, [5, 5, 4]))).astype(int)/2"
   ]
  },
  {
   "cell_type": "code",
   "execution_count": 12,
   "metadata": {},
   "outputs": [
    {
     "data": {
      "text/plain": [
       "array([[[1.5, 2.5, 3.5, 1.5],\n",
       "        [1.5, 8.5, 2. , 3.5],\n",
       "        [5.5, 1. , 3. , 0.5],\n",
       "        [5.5, 2.5, 2.5, 1.5],\n",
       "        [2.5, 1. , 7.5, 1. ]],\n",
       "\n",
       "       [[1.5, 3. , 3.5, 0.5],\n",
       "        [2.5, 6.5, 8.5, 3.5],\n",
       "        [6.5, 3.5, 7.5, 7.5],\n",
       "        [8.5, 3. , 1. , 1.5],\n",
       "        [1.5, 1. , 5. , 2. ]],\n",
       "\n",
       "       [[2.5, 4.5, 5.5, 4.5],\n",
       "        [6.5, 1.5, 4. , 1.5],\n",
       "        [8. , 2. , 0.5, 1. ],\n",
       "        [6. , 8. , 7. , 6. ],\n",
       "        [1. , 1. , 4.5, 1.5]],\n",
       "\n",
       "       [[2. , 2.5, 2.5, 3.5],\n",
       "        [3. , 5. , 2.5, 1. ],\n",
       "        [1.5, 1.5, 0.5, 1.5],\n",
       "        [5. , 2. , 6. , 5. ],\n",
       "        [0.5, 5.5, 3.5, 5. ]],\n",
       "\n",
       "       [[0.5, 8.5, 8.5, 3. ],\n",
       "        [3. , 5.5, 4. , 0.5],\n",
       "        [1. , 5. , 2. , 4.5],\n",
       "        [3.5, 0.5, 2.5, 2.5],\n",
       "        [2.5, 1. , 4.5, 4. ]]])"
      ]
     },
     "execution_count": 12,
     "metadata": {},
     "output_type": "execute_result"
    }
   ],
   "source": [
    "line_counts"
   ]
  },
  {
   "cell_type": "code",
   "execution_count": 13,
   "metadata": {},
   "outputs": [
    {
     "data": {
      "text/plain": [
       "array([[3.88196804, 8.        , 5.78273702, 5.66705111, 8.        ],\n",
       "       [4.11883069, 8.        , 8.        , 8.        , 5.10446872],\n",
       "       [7.        , 7.        , 8.        , 8.        , 4.55488346],\n",
       "       [3.88196804, 5.3368033 , 1.88988157, 7.        , 6.9       ],\n",
       "       [8.        , 6.9       , 6.00115718, 3.88196804, 7.        ]])"
      ]
     },
     "execution_count": 13,
     "metadata": {},
     "output_type": "execute_result"
    }
   ],
   "source": [
    "h.lookup_total_scores(line_counts)"
   ]
  },
  {
   "cell_type": "markdown",
   "metadata": {},
   "source": [
    "---\n",
    "Some tools for visualization"
   ]
  },
  {
   "cell_type": "code",
   "execution_count": 14,
   "metadata": {},
   "outputs": [],
   "source": [
    "def nhforxo(e,ne='........', n='........', nw='........'):\n",
    "    \"\"\"\n",
    "    Neighbourhood from xo-strings\n",
    "    \"\"\"\n",
    "    lines = np.array([gt.line_for_xo(xo) for xo in [e,ne,n,nw]])\n",
    "    lines = np.rollaxis(lines, 1, 0)\n",
    "    return NH9x9(*lines)"
   ]
  },
  {
   "cell_type": "code",
   "execution_count": 15,
   "metadata": {},
   "outputs": [],
   "source": [
    "def dsc(h, e,ne='........',n='........', nw='........', kappa=1.2):\n",
    "    \"\"\"\n",
    "    Display the neighbourhood and its score\n",
    "    \"\"\"\n",
    "    counts = [h.lookup_line_score(*gt.line_for_xo(s)) for s in [e,ne,n,nw]]\n",
    "    print(counts)\n",
    "    print(h.lookup_total_scores(np.array([[counts]])))\n",
    "    print(nhforxo(e,ne,n,nw))"
   ]
  },
  {
   "cell_type": "markdown",
   "metadata": {},
   "source": [
    "---"
   ]
  },
  {
   "cell_type": "markdown",
   "metadata": {},
   "source": [
    "#### Not strictly dangerous, yet."
   ]
  },
  {
   "cell_type": "code",
   "execution_count": 16,
   "metadata": {},
   "outputs": [
    {
     "name": "stdout",
     "output_type": "stream",
     "text": [
      "[5.5, 0.0, 0.0, 0.0]\n",
      "[[5.5]]\n",
      "|                 |\n",
      "|                 |\n",
      "|                 |\n",
      "|                 |\n",
      "|        *   x x x|\n",
      "|                 |\n",
      "|                 |\n",
      "|                 |\n",
      "|                 |\n"
     ]
    }
   ],
   "source": [
    "dsc(h, '.....xxx')"
   ]
  },
  {
   "cell_type": "code",
   "execution_count": 17,
   "metadata": {},
   "outputs": [
    {
     "name": "stdout",
     "output_type": "stream",
     "text": [
      "[5.5, 5.0, 0.0, 0.0]\n",
      "[[6.9]]\n",
      "|                 |\n",
      "|                 |\n",
      "|            x    |\n",
      "|          x      |\n",
      "|        *   x x x|\n",
      "|                 |\n",
      "|                 |\n",
      "|                 |\n",
      "|                 |\n"
     ]
    }
   ],
   "source": [
    "dsc(h, '.....xxx', '....xx..')"
   ]
  },
  {
   "cell_type": "code",
   "execution_count": 18,
   "metadata": {},
   "outputs": [
    {
     "name": "stdout",
     "output_type": "stream",
     "text": [
      "[5.0, 2.5, 0.0, 0.0]\n",
      "[[5.20020956]]\n",
      "|                 |\n",
      "|              o  |\n",
      "|            x    |\n",
      "|                 |\n",
      "|      x * x     o|\n",
      "|      x          |\n",
      "|                 |\n",
      "|                 |\n",
      "|                 |\n"
     ]
    }
   ],
   "source": [
    "dsc(h, '...xx..o', '...x.xo.')"
   ]
  },
  {
   "cell_type": "code",
   "execution_count": 19,
   "metadata": {},
   "outputs": [
    {
     "name": "stdout",
     "output_type": "stream",
     "text": [
      "[5.5, 2.0, 0.0, 0.0]\n",
      "[[5.5867779]]\n",
      "|                 |\n",
      "|                 |\n",
      "|                 |\n",
      "|                 |\n",
      "|      x * x x o  |\n",
      "|                 |\n",
      "|    x            |\n",
      "|                 |\n",
      "|                 |\n"
     ]
    }
   ],
   "source": [
    "dsc(h, '...xxxo.','..x.....')"
   ]
  },
  {
   "cell_type": "markdown",
   "metadata": {},
   "source": [
    "### Soft attack"
   ]
  },
  {
   "cell_type": "code",
   "execution_count": 20,
   "metadata": {},
   "outputs": [
    {
     "name": "stdout",
     "output_type": "stream",
     "text": [
      "[4.0, 5.0, 0.0, 0.0]\n",
      "[[6.9]]\n",
      "|                 |\n",
      "|                 |\n",
      "|                 |\n",
      "|          x      |\n",
      "|      x *   x   o|\n",
      "|      x          |\n",
      "|                 |\n",
      "|                 |\n",
      "|                 |\n"
     ]
    }
   ],
   "source": [
    "dsc(h, '...x.x.o', '...xx...')"
   ]
  },
  {
   "cell_type": "code",
   "execution_count": 21,
   "metadata": {},
   "outputs": [
    {
     "name": "stdout",
     "output_type": "stream",
     "text": [
      "[5.0, 5.0, 0.0, 0.0]\n",
      "[[6.9]]\n",
      "|                 |\n",
      "|                 |\n",
      "|                 |\n",
      "|          x      |\n",
      "|      x * x     o|\n",
      "|      x          |\n",
      "|                 |\n",
      "|                 |\n",
      "|                 |\n"
     ]
    }
   ],
   "source": [
    "dsc(h, '...xx..o', '...xx...')"
   ]
  },
  {
   "cell_type": "markdown",
   "metadata": {},
   "source": [
    "#### Hard attack"
   ]
  },
  {
   "cell_type": "code",
   "execution_count": 22,
   "metadata": {},
   "outputs": [
    {
     "name": "stdout",
     "output_type": "stream",
     "text": [
      "[5.5, 5.0, 0.0, 0.0]\n",
      "[[6.9]]\n",
      "|                 |\n",
      "|                 |\n",
      "|                 |\n",
      "|                 |\n",
      "|      x * x x o  |\n",
      "|                 |\n",
      "|    x            |\n",
      "|  x              |\n",
      "|                 |\n"
     ]
    }
   ],
   "source": [
    "dsc(h, '...xxxo.','.xx.....')"
   ]
  },
  {
   "cell_type": "markdown",
   "metadata": {},
   "source": [
    "#### Fatal"
   ]
  },
  {
   "cell_type": "code",
   "execution_count": 23,
   "metadata": {},
   "outputs": [
    {
     "name": "stdout",
     "output_type": "stream",
     "text": [
      "[7.0, 0.0, 0.0, 0.0]\n",
      "[[7.]]\n",
      "|                 |\n",
      "|                 |\n",
      "|                 |\n",
      "|                 |\n",
      "|      x * x x   o|\n",
      "|                 |\n",
      "|                 |\n",
      "|                 |\n",
      "|                 |\n"
     ]
    }
   ],
   "source": [
    "dsc(h, '...xxx.o')"
   ]
  },
  {
   "cell_type": "markdown",
   "metadata": {},
   "source": [
    "#### Dead"
   ]
  },
  {
   "cell_type": "code",
   "execution_count": 24,
   "metadata": {},
   "outputs": [
    {
     "name": "stdout",
     "output_type": "stream",
     "text": [
      "[7.5, 0.0, 0.0, 0.0]\n",
      "[[8.]]\n",
      "|                 |\n",
      "|                 |\n",
      "|                 |\n",
      "|                 |\n",
      "|      x * x x x o|\n",
      "|                 |\n",
      "|                 |\n",
      "|                 |\n",
      "|                 |\n"
     ]
    }
   ],
   "source": [
    "dsc(h, '...xxxxo')"
   ]
  },
  {
   "cell_type": "code",
   "execution_count": null,
   "metadata": {},
   "outputs": [],
   "source": []
  },
  {
   "cell_type": "markdown",
   "metadata": {},
   "source": [
    "### Considering all options for critical defense states\n",
    "The defense of critical positions may not only come through occupation of that position but also through any other position within the 9x9 neighbourhood of that position. Thus, when there is a critical defense situation, all candidate positions must be checked by test-occupying them and checking whether the originally alerting position's criticality is alleviated by that stone. The policy should meaningfully choose between all those potentially alleviating options. Not too smartly though, for that's what we'll have the Deep Q-Network for. "
   ]
  },
  {
   "cell_type": "markdown",
   "metadata": {},
   "source": [
    "### Determining an estimate for the Q-Values\n",
    "#### An estimate for the state's value\n",
    "The difference between the sums of offensive scores and defensive scores may be a good first estimate for the value of a board state. \n",
    "\n",
    "\n",
    "#### Q-Value Estimation for non-critical states\n",
    "We could use the top10 of each style -> 30 positions, occupy each, calculate the state value afterwards to obtain s,a->v triples. All other s,a combinations are considered bad, and may get a penalty as the \"value of an irrelevant move followed by opponent's best response\", subtracted from the board's current value"
   ]
  },
  {
   "cell_type": "code",
   "execution_count": null,
   "metadata": {},
   "outputs": [],
   "source": []
  }
 ],
 "metadata": {
  "kernelspec": {
   "display_name": "Python 3",
   "language": "python",
   "name": "python3"
  },
  "language_info": {
   "codemirror_mode": {
    "name": "ipython",
    "version": 3
   },
   "file_extension": ".py",
   "mimetype": "text/x-python",
   "name": "python",
   "nbconvert_exporter": "python",
   "pygments_lexer": "ipython3",
   "version": "3.6.4"
  }
 },
 "nbformat": 4,
 "nbformat_minor": 2
}
