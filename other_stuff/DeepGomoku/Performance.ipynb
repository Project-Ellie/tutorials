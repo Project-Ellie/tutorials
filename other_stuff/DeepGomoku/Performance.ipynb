{
 "cells": [
  {
   "cell_type": "code",
   "execution_count": 1,
   "metadata": {},
   "outputs": [],
   "source": [
    "%load_ext autoreload\n",
    "%autoreload 2"
   ]
  },
  {
   "cell_type": "code",
   "execution_count": 2,
   "metadata": {},
   "outputs": [],
   "source": [
    "import inspect"
   ]
  },
  {
   "cell_type": "markdown",
   "metadata": {},
   "source": [
    "## The old world\n",
    "#### Good in memory consumption - but painfully slow \n",
    "You can watch the scores being displayed with significant time lapses inbetween."
   ]
  },
  {
   "cell_type": "code",
   "execution_count": 3,
   "metadata": {},
   "outputs": [],
   "source": [
    "import numpy as np\n",
    "from GomokuBoard import GomokuBoard\n",
    "from GomokuTools2 import GomokuTools"
   ]
  },
  {
   "cell_type": "code",
   "execution_count": 4,
   "metadata": {},
   "outputs": [
    {
     "data": {
      "text/plain": [
       "(|                 |\n",
       " |                 |\n",
       " |                 |\n",
       " |                 |\n",
       " |        *        |\n",
       " |          x      |\n",
       " |            x    |\n",
       " |                 |\n",
       " |                o|, [(4, 0, 6), (0, 0, 6)])"
      ]
     },
     "execution_count": 4,
     "metadata": {},
     "output_type": "execute_result"
    },
    {
     "data": {
      "image/png": "[encoded data removed]",
      "text/plain": [
       "<Figure size 432x432 with 1 Axes>"
      ]
     },
     "metadata": {
      "needs_background": "light"
     },
     "output_type": "display_data"
    }
   ],
   "source": [
    "b = GomokuBoard(size=15, disp_width=6)\n",
    "b.set(3,12).set(6,9).set(4,11)\n",
    "b.set(12,5).set(9,2).set(11,4)\n",
    "b.set(13,11).set(13,8).set(13,12)\n",
    "b.display()\n",
    "nh = b.getn9x9(2,13)\n",
    "nh, b.heuristics.classify_nh(nh)"
   ]
  },
  {
   "cell_type": "code",
   "execution_count": 5,
   "metadata": {},
   "outputs": [
    {
     "data": {
      "text/plain": [
       "(|                 |\n",
       " |                 |\n",
       " |                 |\n",
       " |                 |\n",
       " |        *        |\n",
       " |        x        |\n",
       " |        x        |\n",
       " |                 |\n",
       " |                 |, [(4, 0, 6), (0, 0, 6)])"
      ]
     },
     "execution_count": 5,
     "metadata": {},
     "output_type": "execute_result"
    }
   ],
   "source": [
    "nh = b.getn9x9(13,13)\n",
    "nh, b.heuristics.classify_nh(nh)"
   ]
  },
  {
   "cell_type": "code",
   "execution_count": 6,
   "metadata": {},
   "outputs": [
    {
     "data": {
      "text/plain": [
       "array([0, 0, 1, 1, 0, 0, 0, 0])"
      ]
     },
     "execution_count": 6,
     "metadata": {},
     "output_type": "execute_result"
    }
   ],
   "source": [
    "b.heuristics.f_range(nh.get_line('n'), c=0)"
   ]
  },
  {
   "cell_type": "markdown",
   "metadata": {},
   "source": [
    "---\n",
    "## Trading memory for speed\n",
    "\n",
    "#### Recording stone impacts\n",
    "\n",
    "Every stone creates an *impression* on its adjacent positions. The reach of every stone is 4 in each direction, so the influence of a stone can be expressed as a matrix of 9x9 32 bit integers representing the view on the stone from any of those 9x9 positions. This is what ```impact9x9``` is all about"
   ]
  },
  {
   "cell_type": "code",
   "execution_count": 7,
   "metadata": {},
   "outputs": [
    {
     "data": {
      "text/plain": [
       "[[2147483648, 0, 0, 0, 8388608, 0, 0, 0, 32768],\n",
       " [0, 1073741824, 0, 0, 4194304, 0, 0, 16384, 0],\n",
       " [0, 0, 536870912, 0, 2097152, 0, 8192, 0, 0],\n",
       " [0, 0, 0, 268435456, 1048576, 4096, 0, 0, 0],\n",
       " [1, 2, 4, 8, 0, 16, 32, 64, 128],\n",
       " [0, 0, 0, 2048, 524288, 134217728, 0, 0, 0],\n",
       " [0, 0, 1024, 0, 262144, 0, 67108864, 0, 0],\n",
       " [0, 512, 0, 0, 131072, 0, 0, 33554432, 0],\n",
       " [256, 0, 0, 0, 65536, 0, 0, 0, 16777216]]"
      ]
     },
     "execution_count": 7,
     "metadata": {},
     "output_type": "execute_result"
    }
   ],
   "source": [
    "import inspect\n",
    "from FastGomokuBoard import FastGomokuBoard\n",
    "b = FastGomokuBoard(size=15)\n",
    "b.impact9x9"
   ]
  },
  {
   "cell_type": "markdown",
   "metadata": {},
   "source": [
    "It's much easier to see what's going on, if we look at the base-2 logarithms. Then what we get is the position of the single bit that represents the relative position of the stone that is responsible for the *impression*."
   ]
  },
  {
   "cell_type": "code",
   "execution_count": 8,
   "metadata": {},
   "outputs": [
    {
     "name": "stderr",
     "output_type": "stream",
     "text": [
      "/Users/wgiersche/workspace/tutorials/other_stuff/venv3/lib/python3.6/site-packages/ipykernel_launcher.py:1: RuntimeWarning: divide by zero encountered in log2\n",
      "  \"\"\"Entry point for launching an IPython kernel.\n"
     ]
    },
    {
     "data": {
      "text/plain": [
       "array([[ 31., -inf, -inf, -inf,  23., -inf, -inf, -inf,  15.],\n",
       "       [-inf,  30., -inf, -inf,  22., -inf, -inf,  14., -inf],\n",
       "       [-inf, -inf,  29., -inf,  21., -inf,  13., -inf, -inf],\n",
       "       [-inf, -inf, -inf,  28.,  20.,  12., -inf, -inf, -inf],\n",
       "       [  0.,   1.,   2.,   3., -inf,   4.,   5.,   6.,   7.],\n",
       "       [-inf, -inf, -inf,  11.,  19.,  27., -inf, -inf, -inf],\n",
       "       [-inf, -inf,  10., -inf,  18., -inf,  26., -inf, -inf],\n",
       "       [-inf,   9., -inf, -inf,  17., -inf, -inf,  25., -inf],\n",
       "       [  8., -inf, -inf, -inf,  16., -inf, -inf, -inf,  24.]])"
      ]
     },
     "execution_count": 8,
     "metadata": {},
     "output_type": "execute_result"
    }
   ],
   "source": [
    "np.log2(b.impact9x9)"
   ]
  },
  {
   "cell_type": "markdown",
   "metadata": {},
   "source": [
    "The central integer 0 is the position of the stone. If you go two steps north-east from there, you'll land at matrix(!) position $(2,6)$ with $V=8192$. Let's derive the meaning of that number. Each of the four bytes of the number describes a particular direction from east counter-clock-wise to north-west. So we'll look at the 8 bits of the seconde byte ```l1```: "
   ]
  },
  {
   "cell_type": "code",
   "execution_count": 9,
   "metadata": {},
   "outputs": [
    {
     "data": {
      "text/plain": [
       "{'e': [0, 0, 0, 0, 0, 0, 0, 0],\n",
       " 'ne': [0, 0, 1, 0, 0, 0, 0, 0],\n",
       " 'n': [0, 0, 0, 0, 0, 0, 0, 0],\n",
       " 'nw': [0, 0, 0, 0, 0, 0, 0, 0]}"
      ]
     },
     "execution_count": 9,
     "metadata": {},
     "output_type": "execute_result"
    }
   ],
   "source": [
    "def as_bits(byte):\n",
    "    return [np.sign(byte & (1<<i)) for i in range(7, -1, -1)]\n",
    "\n",
    "def as_bitarray(code):\n",
    "    # l3 is the nw-line. point 2,2 on that line sees the stone at a distance of 2\n",
    "    l=code\n",
    "    l0=(l & 0xFF)               # east\n",
    "    l1=(l & 0xFF00) >> 8        # north east\n",
    "    l2=(l & 0xFF0000) >> 16     # north\n",
    "    l3=(l & 0xFF000000) >> 24   # north west\n",
    "    return {\n",
    "        'e': as_bits(l0),\n",
    "        'ne': as_bits(l1),\n",
    "        'n': as_bits(l2),\n",
    "        'nw': as_bits(l3)\n",
    "    }\n",
    "\n",
    "as_bitarray(b.impact9x9[2][6])"
   ]
  },
  {
   "cell_type": "markdown",
   "metadata": {},
   "source": [
    "This 'ne' bit array represents the following line on the board: Position $V$ *sees* our stone 2 steps in sw-west direction, which is exactly what we wanted to achieve.\n",
    "```\n",
    ". . . . . . . . 0  \n",
    ". . . . . . . 0 . \n",
    ". . . . . . 0 . . \n",
    ". . . . . 0 . . . \n",
    ". . . . V . . . .\n",
    ". . . 0 . . . . .\n",
    ". . 1 . . . . . .\n",
    ". 0 . . . . . . .\n",
    "0 . . . . . . . .\n",
    "```"
   ]
  },
  {
   "cell_type": "markdown",
   "metadata": {},
   "source": [
    "Now, this is all about performance in this notebook. We trade memory for speed. So we pre-compute the impact for each possible position on the entire board and store it! Hence, for each position we can just lookup the impact of a stone should we put it there. And the good news is: The bit representation of the total impact of any number of stones can simply be computed by bitwise or-ing each single impact. \n",
    "\n",
    "You may realize that in the below implementation we trade even more memory for computational ease - memory's so cheap!"
   ]
  },
  {
   "cell_type": "code",
   "execution_count": 10,
   "metadata": {},
   "outputs": [
    {
     "name": "stdout",
     "output_type": "stream",
     "text": [
      "    def impact_from(self, r,c):\n",
      "        \"\"\"\n",
      "        Construct a complete nxn impact representation of a stone at row=r, col=c\n",
      "        \"\"\"\n",
      "        src=np.hstack([\n",
      "            np.zeros((self.size+8,c),dtype=np.int),\n",
      "            np.vstack([\n",
      "                np.zeros((r,9), dtype=np.int32), \n",
      "                self.impact9x9, \n",
      "                np.zeros((self.size-1-r,9), dtype=np.int32)\n",
      "            ]),\n",
      "            np.zeros((self.size+8,self.size-1-c),dtype=np.int)\n",
      "        ])\n",
      "        return (src[4:-4].T[4:-4].T).copy()\n",
      "\n"
     ]
    }
   ],
   "source": [
    "print(inspect.getsource(b.impact_from))"
   ]
  },
  {
   "cell_type": "markdown",
   "metadata": {},
   "source": [
    "Let's look at an example, now in board coordinates, i.e. 1-15 left to right, 1-15 bottom up. The stone at (8,8) viewed from 2 steps nw, which is (6,10) results in the following representation."
   ]
  },
  {
   "cell_type": "code",
   "execution_count": 11,
   "metadata": {},
   "outputs": [
    {
     "data": {
      "text/plain": [
       "{'e': [0, 0, 0, 0, 0, 0, 0, 0],\n",
       " 'ne': [0, 0, 0, 0, 0, 0, 0, 0],\n",
       " 'n': [0, 0, 0, 0, 0, 0, 0, 0],\n",
       " 'nw': [0, 0, 1, 0, 0, 0, 0, 0]}"
      ]
     },
     "execution_count": 11,
     "metadata": {},
     "output_type": "execute_result"
    }
   ],
   "source": [
    "b1 = FastGomokuBoard(size=15, stones=[(8,8)])\n",
    "as_bitarray(b1.getnh(6,10)[0])"
   ]
  },
  {
   "cell_type": "markdown",
   "metadata": {},
   "source": [
    "```\n",
    "0 . . . . . . . .  \n",
    ". 0 . . . . . . . \n",
    ". . 0 . . . . . . \n",
    ". . . 0 . . . . . \n",
    ". . . . V . . . .\n",
    ". . . . . 0 . . .\n",
    ". . . . . . 1 . .\n",
    ". . . . . . . 0 .\n",
    ". . . . . . . . 0\n",
    "```"
   ]
  },
  {
   "cell_type": "markdown",
   "metadata": {},
   "source": [
    "```stones``` is an array of 15x15 = 225 complete boards having pre-computed impacts for each field once occupied. The *or-ed* overlay of $n$ of those boards will represent the board having the $n$ stones on it."
   ]
  },
  {
   "cell_type": "markdown",
   "metadata": {},
   "source": [
    "---\n",
    "## Pre-computed lines scores\n",
    "The LineScoreHelper's lookup method doesn't respect the board boundaries yet. That's why it isn't used in the FastGomokuBoard implementation."
   ]
  },
  {
   "cell_type": "markdown",
   "metadata": {},
   "source": [
    "Class ```LineScoresHelper``` pre-computes and stores the scores for all possible lines (there are only 496 distinct combinations, btw.)"
   ]
  },
  {
   "cell_type": "code",
   "execution_count": 43,
   "metadata": {},
   "outputs": [],
   "source": [
    "from GomokuTools2 import Heuristics, LineScoresHelper\n",
    "h = Heuristics()\n",
    "lsh = LineScoresHelper(h)"
   ]
  },
  {
   "cell_type": "code",
   "execution_count": 44,
   "metadata": {},
   "outputs": [
    {
     "name": "stdout",
     "output_type": "stream",
     "text": [
      "[0, 0, 1, 1, 0, 0, 0, 1] [1, 0, 0, 0, 0, 0, 1, 0]\n"
     ]
    },
    {
     "data": {
      "text/plain": [
       "((2, 2), 4)"
      ]
     },
     "execution_count": 44,
     "metadata": {},
     "output_type": "execute_result"
    }
   ],
   "source": [
    "print(lsh.as_bits(49), lsh.as_bits(130))\n",
    "lsh.lookup_score((43, 130))"
   ]
  },
  {
   "cell_type": "code",
   "execution_count": 45,
   "metadata": {},
   "outputs": [
    {
     "name": "stdout",
     "output_type": "stream",
     "text": [
      "All 496 possible lines of eight stones yield the same score. Good.\n"
     ]
    }
   ],
   "source": [
    "for b in range(256):\n",
    "    for w in range(256):\n",
    "        line = [as_bits(b), as_bits(w)]\n",
    "        score = lsh.lookup_score((b,w), 0)\n",
    "        if score[0] != h.cscore(line, 0):\n",
    "            raise AssertionError(\"scores for %s, %s don't match\" % (b, w))\n",
    "            \n",
    "print(\"All 496 possible lines of eight stones yield the same score. Good.\")\n",
    "# That assertion does even extend to illegal lines with two stones on top of each other."
   ]
  },
  {
   "cell_type": "code",
   "execution_count": 46,
   "metadata": {},
   "outputs": [
    {
     "data": {
      "image/png": "[encoded data removed]",
      "text/plain": [
       "<Figure size 432x432 with 1 Axes>"
      ]
     },
     "metadata": {
      "needs_background": "light"
     },
     "output_type": "display_data"
    }
   ],
   "source": [
    "stones = [(4,12), (3,12), (5,13), (2,13), (5,10), (5,9),(6,7),(4,8)]\n",
    "b0=FastGomokuBoard(size=15, disp_width=6, stones=stones)\n",
    "b0.display(score='current')"
   ]
  },
  {
   "cell_type": "code",
   "execution_count": 47,
   "metadata": {},
   "outputs": [
    {
     "data": {
      "text/plain": [
       "(|                 |\n",
       " |                 |\n",
       " |    o            |\n",
       " |      o x        |\n",
       " |        *        |\n",
       " |          x      |\n",
       " |                 |\n",
       " |        o        |\n",
       " |                 |, [[0, 0, 0, 1, 0, 0, 0, 0], [0, 0, 0, 0, 1, 1, 0, 0]])"
      ]
     },
     "execution_count": 47,
     "metadata": {},
     "output_type": "execute_result"
    }
   ],
   "source": [
    "nh = b0.getn9x9(4,11)\n",
    "line = nh.get_line('nw')\n",
    "nh, line"
   ]
  },
  {
   "cell_type": "code",
   "execution_count": 48,
   "metadata": {},
   "outputs": [
    {
     "data": {
      "text/plain": [
       "((2, 1), 3)"
      ]
     },
     "execution_count": 48,
     "metadata": {},
     "output_type": "execute_result"
    }
   ],
   "source": [
    "b0.lsh.lookup_score((16, 12), c=1)"
   ]
  },
  {
   "cell_type": "code",
   "execution_count": 52,
   "metadata": {},
   "outputs": [
    {
     "data": {
      "text/plain": [
       "(0, 0)"
      ]
     },
     "execution_count": 52,
     "metadata": {},
     "output_type": "execute_result"
    }
   ],
   "source": [
    "Heuristics().cscore(line, c=1, edges=b0.all_edges(4,11)[3])"
   ]
  },
  {
   "cell_type": "code",
   "execution_count": 53,
   "metadata": {},
   "outputs": [
    {
     "data": {
      "text/plain": [
       "(None, 7)"
      ]
     },
     "execution_count": 53,
     "metadata": {},
     "output_type": "execute_result"
    }
   ],
   "source": [
    "b0.all_edges(4,11)[3]"
   ]
  },
  {
   "cell_type": "code",
   "execution_count": null,
   "metadata": {},
   "outputs": [],
   "source": []
  }
 ],
 "metadata": {
  "kernelspec": {
   "display_name": "Python 3",
   "language": "python",
   "name": "python3"
  },
  "language_info": {
   "codemirror_mode": {
    "name": "ipython",
    "version": 3
   },
   "file_extension": ".py",
   "mimetype": "text/x-python",
   "name": "python",
   "nbconvert_exporter": "python",
   "pygments_lexer": "ipython3",
   "version": "3.6.4"
  }
 },
 "nbformat": 4,
 "nbformat_minor": 2
}
