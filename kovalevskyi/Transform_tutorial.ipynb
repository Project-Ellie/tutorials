{
 "cells": [
  {
   "cell_type": "code",
   "execution_count": 1,
   "metadata": {},
   "outputs": [
    {
     "name": "stderr",
     "output_type": "stream",
     "text": [
      "/usr/local/lib/python2.7/dist-packages/sklearn/utils/__init__.py:12: RuntimeWarning: numpy.dtype size changed, may indicate binary incompatibility. Expected 96, got 88\n",
      "  from .murmurhash import murmurhash3_32\n",
      "/usr/local/lib/python2.7/site-packages/scipy/optimize/_minimize.py:37: ImportWarning: Not importing directory '/usr/local/lib/python2.7/site-packages/scipy/optimize/lbfgsb': missing __init__.py\n",
      "  from .lbfgsb import _minimize_lbfgsb\n",
      "/usr/local/lib/python2.7/dist-packages/sklearn/utils/extmath.py:23: RuntimeWarning: numpy.dtype size changed, may indicate binary incompatibility. Expected 96, got 88\n",
      "  from ._logistic_sigmoid import _log_logistic_sigmoid\n",
      "/usr/local/lib/python2.7/dist-packages/sklearn/metrics/cluster/supervised.py:25: RuntimeWarning: numpy.dtype size changed, may indicate binary incompatibility. Expected 96, got 88\n",
      "  from .expected_mutual_info_fast import expected_mutual_information\n",
      "/usr/local/lib/python2.7/dist-packages/sklearn/metrics/pairwise.py:31: RuntimeWarning: numpy.dtype size changed, may indicate binary incompatibility. Expected 96, got 88\n",
      "  from .pairwise_fast import _chi2_kernel_fast, _sparse_manhattan\n"
     ]
    }
   ],
   "source": [
    "from __future__ import print_function\n",
    "\n",
    "import datetime\n",
    "import os\n",
    "\n",
    "import tensorflow as tf\n",
    "import pandas as pd\n",
    "import matplotlib.pyplot as plt\n",
    "import numpy as np\n",
    "import apache_beam as beam\n",
    "\n",
    "from tensorflow_transform.tf_metadata import dataset_metadata\n",
    "from tensorflow_transform.tf_metadata import dataset_schema\n",
    "import tensorflow_transform as tft\n",
    "import tensorflow_transform.beam.impl as beam_impl\n",
    "import google.datalab.bigquery as bq"
   ]
  },
  {
   "cell_type": "code",
   "execution_count": 2,
   "metadata": {},
   "outputs": [],
   "source": [
    "# change these to try this notebook out\n",
    "BUCKET = 'going-tfx'\n",
    "PROJECT = 'going-tfx'\n",
    "REGION = 'us-east-1'\n",
    "BQ_DATASET = 'examples'\n",
    "os.environ['BUCKET'] = BUCKET\n",
    "os.environ['PROJECT'] = PROJECT\n",
    "os.environ['REGION'] = REGION"
   ]
  },
  {
   "cell_type": "code",
   "execution_count": 3,
   "metadata": {},
   "outputs": [
    {
     "name": "stdout",
     "output_type": "stream",
     "text": [
      "/home/jupyter/workspace/tutorials/kovalevskyi\n"
     ]
    }
   ],
   "source": [
    "!pwd"
   ]
  },
  {
   "cell_type": "code",
   "execution_count": 4,
   "metadata": {},
   "outputs": [],
   "source": [
    "def sample_query(project, dataset):\n",
    "    return \"\"\"SELECT\n",
    "      ORIGIN,\n",
    "      FL_YEAR,\n",
    "      FL_MONTH,\n",
    "      FL_DOW,\n",
    "      UNIQUE_CARRIER,\n",
    "      DEST,\n",
    "      CRS_ARR_TIME,\n",
    "      DEP_DELAY,\n",
    "      ARR_DELAY\n",
    "    FROM `{}.{}.ATL_JUNE` \n",
    "    where\n",
    "      MOD(ABS(FARM_FINGERPRINT(\n",
    "        CONCAT(\n",
    "          STRING(TIMESTAMP(FL_DATE)),\n",
    "          UNIQUE_CARRIER,\n",
    "          DEST\n",
    "        )\n",
    "      )) + CRS_ARR_TIME, 10000) >= {} and \n",
    "      MOD(ABS(FARM_FINGERPRINT(\n",
    "        CONCAT(\n",
    "          STRING(TIMESTAMP(FL_DATE)),\n",
    "          UNIQUE_CARRIER,\n",
    "          DEST\n",
    "        )\n",
    "      )) + CRS_ARR_TIME, 10000) < {} \n",
    "    \"\"\".format(project, dataset, '{}', '{}')"
   ]
  },
  {
   "cell_type": "code",
   "execution_count": 5,
   "metadata": {},
   "outputs": [],
   "source": [
    "def create_queries(training_percentage, eval_percentage):\n",
    "    \"\"\"\n",
    "        returns 3 queries that return distinct samples of the ATL_JUNE table.\n",
    "        Use these for your convenience to define train,eval,test splits\n",
    "    \"\"\"\n",
    "    cut1 = int(100 * training_percentage)\n",
    "    cut2 = cut1 + int(100 * eval_percentage)\n",
    "    query = sample_query(PROJECT, BQ_DATASET)\n",
    "    q1 = query.format(0, cut1)\n",
    "    q2 = query.format(cut1+1, cut2)\n",
    "    q3 = query.format(cut2+1, 9999)\n",
    "    return q1, q2, q3"
   ]
  },
  {
   "cell_type": "markdown",
   "metadata": {},
   "source": [
    "---\n",
    "The below query retrieves only 1/10'000 of the 400k entries, that's about 40-50"
   ]
  },
  {
   "cell_type": "code",
   "execution_count": 6,
   "metadata": {},
   "outputs": [
    {
     "name": "stdout",
     "output_type": "stream",
     "text": [
      "SELECT\n",
      "      ORIGIN,\n",
      "      FL_YEAR,\n",
      "      FL_MONTH,\n",
      "      FL_DOW,\n",
      "      UNIQUE_CARRIER,\n",
      "      DEST,\n",
      "      CRS_ARR_TIME,\n",
      "      DEP_DELAY,\n",
      "      ARR_DELAY\n",
      "    FROM `going-tfx.examples.ATL_JUNE` \n",
      "    where\n",
      "      MOD(ABS(FARM_FINGERPRINT(\n",
      "        CONCAT(\n",
      "          STRING(TIMESTAMP(FL_DATE)),\n",
      "          UNIQUE_CARRIER,\n",
      "          DEST\n",
      "        )\n",
      "      )) + CRS_ARR_TIME, 10000) >= 0 and \n",
      "      MOD(ABS(FARM_FINGERPRINT(\n",
      "        CONCAT(\n",
      "          STRING(TIMESTAMP(FL_DATE)),\n",
      "          UNIQUE_CARRIER,\n",
      "          DEST\n",
      "        )\n",
      "      )) + CRS_ARR_TIME, 10000) < 1 \n",
      "    \n"
     ]
    }
   ],
   "source": [
    "query_0001, e, s = create_queries(0.01,0.02)\n",
    "print(query_0001)"
   ]
  },
  {
   "cell_type": "code",
   "execution_count": 7,
   "metadata": {},
   "outputs": [],
   "source": [
    "# An alternative way of getting some data\n",
    "# sample = pd.read_csv(os.path.join(DATA_DIR, \"atl_june_46.csv\"));"
   ]
  },
  {
   "cell_type": "code",
   "execution_count": 8,
   "metadata": {},
   "outputs": [
    {
     "data": {
      "text/html": [
       "<div>\n",
       "<style scoped>\n",
       "    .dataframe tbody tr th:only-of-type {\n",
       "        vertical-align: middle;\n",
       "    }\n",
       "\n",
       "    .dataframe tbody tr th {\n",
       "        vertical-align: top;\n",
       "    }\n",
       "\n",
       "    .dataframe thead th {\n",
       "        text-align: right;\n",
       "    }\n",
       "</style>\n",
       "<table border=\"1\" class=\"dataframe\">\n",
       "  <thead>\n",
       "    <tr style=\"text-align: right;\">\n",
       "      <th></th>\n",
       "      <th>ORIGIN</th>\n",
       "      <th>FL_YEAR</th>\n",
       "      <th>FL_MONTH</th>\n",
       "      <th>FL_DOW</th>\n",
       "      <th>UNIQUE_CARRIER</th>\n",
       "      <th>DEST</th>\n",
       "      <th>CRS_ARR_TIME</th>\n",
       "      <th>DEP_DELAY</th>\n",
       "      <th>ARR_DELAY</th>\n",
       "    </tr>\n",
       "  </thead>\n",
       "  <tbody>\n",
       "    <tr>\n",
       "      <th>0</th>\n",
       "      <td>ATL</td>\n",
       "      <td>2009</td>\n",
       "      <td>6</td>\n",
       "      <td>7</td>\n",
       "      <td>AA</td>\n",
       "      <td>MIA</td>\n",
       "      <td>1610</td>\n",
       "      <td>0</td>\n",
       "      <td>24</td>\n",
       "    </tr>\n",
       "    <tr>\n",
       "      <th>1</th>\n",
       "      <td>ATL</td>\n",
       "      <td>2006</td>\n",
       "      <td>6</td>\n",
       "      <td>1</td>\n",
       "      <td>DL</td>\n",
       "      <td>ABQ</td>\n",
       "      <td>2307</td>\n",
       "      <td>20</td>\n",
       "      <td>8</td>\n",
       "    </tr>\n",
       "    <tr>\n",
       "      <th>2</th>\n",
       "      <td>ATL</td>\n",
       "      <td>2007</td>\n",
       "      <td>6</td>\n",
       "      <td>3</td>\n",
       "      <td>DL</td>\n",
       "      <td>SFO</td>\n",
       "      <td>1153</td>\n",
       "      <td>8</td>\n",
       "      <td>-7</td>\n",
       "    </tr>\n",
       "    <tr>\n",
       "      <th>3</th>\n",
       "      <td>ATL</td>\n",
       "      <td>2008</td>\n",
       "      <td>6</td>\n",
       "      <td>7</td>\n",
       "      <td>DL</td>\n",
       "      <td>ABQ</td>\n",
       "      <td>1255</td>\n",
       "      <td>3</td>\n",
       "      <td>12</td>\n",
       "    </tr>\n",
       "    <tr>\n",
       "      <th>4</th>\n",
       "      <td>ATL</td>\n",
       "      <td>2008</td>\n",
       "      <td>6</td>\n",
       "      <td>2</td>\n",
       "      <td>DL</td>\n",
       "      <td>LAX</td>\n",
       "      <td>1240</td>\n",
       "      <td>7</td>\n",
       "      <td>12</td>\n",
       "    </tr>\n",
       "    <tr>\n",
       "      <th>5</th>\n",
       "      <td>ATL</td>\n",
       "      <td>2008</td>\n",
       "      <td>6</td>\n",
       "      <td>5</td>\n",
       "      <td>DL</td>\n",
       "      <td>DEN</td>\n",
       "      <td>1206</td>\n",
       "      <td>13</td>\n",
       "      <td>30</td>\n",
       "    </tr>\n",
       "    <tr>\n",
       "      <th>6</th>\n",
       "      <td>ATL</td>\n",
       "      <td>2010</td>\n",
       "      <td>6</td>\n",
       "      <td>2</td>\n",
       "      <td>DL</td>\n",
       "      <td>ONT</td>\n",
       "      <td>2040</td>\n",
       "      <td>52</td>\n",
       "      <td>41</td>\n",
       "    </tr>\n",
       "    <tr>\n",
       "      <th>7</th>\n",
       "      <td>ATL</td>\n",
       "      <td>2010</td>\n",
       "      <td>6</td>\n",
       "      <td>3</td>\n",
       "      <td>DL</td>\n",
       "      <td>PHL</td>\n",
       "      <td>1206</td>\n",
       "      <td>-1</td>\n",
       "      <td>3</td>\n",
       "    </tr>\n",
       "    <tr>\n",
       "      <th>8</th>\n",
       "      <td>ATL</td>\n",
       "      <td>2011</td>\n",
       "      <td>6</td>\n",
       "      <td>6</td>\n",
       "      <td>DL</td>\n",
       "      <td>PWM</td>\n",
       "      <td>2311</td>\n",
       "      <td>-3</td>\n",
       "      <td>1</td>\n",
       "    </tr>\n",
       "    <tr>\n",
       "      <th>9</th>\n",
       "      <td>ATL</td>\n",
       "      <td>2013</td>\n",
       "      <td>6</td>\n",
       "      <td>6</td>\n",
       "      <td>DL</td>\n",
       "      <td>BWI</td>\n",
       "      <td>1819</td>\n",
       "      <td>-6</td>\n",
       "      <td>-23</td>\n",
       "    </tr>\n",
       "    <tr>\n",
       "      <th>10</th>\n",
       "      <td>ATL</td>\n",
       "      <td>2014</td>\n",
       "      <td>6</td>\n",
       "      <td>6</td>\n",
       "      <td>DL</td>\n",
       "      <td>PIT</td>\n",
       "      <td>2337</td>\n",
       "      <td>30</td>\n",
       "      <td>17</td>\n",
       "    </tr>\n",
       "    <tr>\n",
       "      <th>11</th>\n",
       "      <td>ATL</td>\n",
       "      <td>2014</td>\n",
       "      <td>6</td>\n",
       "      <td>6</td>\n",
       "      <td>DL</td>\n",
       "      <td>JAN</td>\n",
       "      <td>1110</td>\n",
       "      <td>-4</td>\n",
       "      <td>-6</td>\n",
       "    </tr>\n",
       "    <tr>\n",
       "      <th>12</th>\n",
       "      <td>ATL</td>\n",
       "      <td>2014</td>\n",
       "      <td>6</td>\n",
       "      <td>3</td>\n",
       "      <td>DL</td>\n",
       "      <td>LAX</td>\n",
       "      <td>2219</td>\n",
       "      <td>10</td>\n",
       "      <td>4</td>\n",
       "    </tr>\n",
       "    <tr>\n",
       "      <th>13</th>\n",
       "      <td>ATL</td>\n",
       "      <td>2015</td>\n",
       "      <td>6</td>\n",
       "      <td>7</td>\n",
       "      <td>DL</td>\n",
       "      <td>CLE</td>\n",
       "      <td>1541</td>\n",
       "      <td>26</td>\n",
       "      <td>0</td>\n",
       "    </tr>\n",
       "    <tr>\n",
       "      <th>14</th>\n",
       "      <td>ATL</td>\n",
       "      <td>2016</td>\n",
       "      <td>6</td>\n",
       "      <td>3</td>\n",
       "      <td>DL</td>\n",
       "      <td>DAL</td>\n",
       "      <td>1744</td>\n",
       "      <td>267</td>\n",
       "      <td>250</td>\n",
       "    </tr>\n",
       "    <tr>\n",
       "      <th>15</th>\n",
       "      <td>ATL</td>\n",
       "      <td>2016</td>\n",
       "      <td>6</td>\n",
       "      <td>5</td>\n",
       "      <td>DL</td>\n",
       "      <td>TPA</td>\n",
       "      <td>1100</td>\n",
       "      <td>-2</td>\n",
       "      <td>-5</td>\n",
       "    </tr>\n",
       "    <tr>\n",
       "      <th>16</th>\n",
       "      <td>ATL</td>\n",
       "      <td>2016</td>\n",
       "      <td>6</td>\n",
       "      <td>1</td>\n",
       "      <td>DL</td>\n",
       "      <td>MSN</td>\n",
       "      <td>1134</td>\n",
       "      <td>-3</td>\n",
       "      <td>-17</td>\n",
       "    </tr>\n",
       "    <tr>\n",
       "      <th>17</th>\n",
       "      <td>ATL</td>\n",
       "      <td>2016</td>\n",
       "      <td>6</td>\n",
       "      <td>4</td>\n",
       "      <td>DL</td>\n",
       "      <td>ROA</td>\n",
       "      <td>2317</td>\n",
       "      <td>-2</td>\n",
       "      <td>-17</td>\n",
       "    </tr>\n",
       "    <tr>\n",
       "      <th>18</th>\n",
       "      <td>ATL</td>\n",
       "      <td>2017</td>\n",
       "      <td>6</td>\n",
       "      <td>3</td>\n",
       "      <td>DL</td>\n",
       "      <td>ORD</td>\n",
       "      <td>1231</td>\n",
       "      <td>-5</td>\n",
       "      <td>-24</td>\n",
       "    </tr>\n",
       "    <tr>\n",
       "      <th>19</th>\n",
       "      <td>ATL</td>\n",
       "      <td>2017</td>\n",
       "      <td>6</td>\n",
       "      <td>4</td>\n",
       "      <td>DL</td>\n",
       "      <td>DEN</td>\n",
       "      <td>1059</td>\n",
       "      <td>-5</td>\n",
       "      <td>-18</td>\n",
       "    </tr>\n",
       "    <tr>\n",
       "      <th>20</th>\n",
       "      <td>ATL</td>\n",
       "      <td>2006</td>\n",
       "      <td>6</td>\n",
       "      <td>4</td>\n",
       "      <td>EV</td>\n",
       "      <td>AVL</td>\n",
       "      <td>1546</td>\n",
       "      <td>19</td>\n",
       "      <td>5</td>\n",
       "    </tr>\n",
       "    <tr>\n",
       "      <th>21</th>\n",
       "      <td>ATL</td>\n",
       "      <td>2008</td>\n",
       "      <td>6</td>\n",
       "      <td>6</td>\n",
       "      <td>EV</td>\n",
       "      <td>CSG</td>\n",
       "      <td>1059</td>\n",
       "      <td>59</td>\n",
       "      <td>61</td>\n",
       "    </tr>\n",
       "    <tr>\n",
       "      <th>22</th>\n",
       "      <td>ATL</td>\n",
       "      <td>2009</td>\n",
       "      <td>6</td>\n",
       "      <td>1</td>\n",
       "      <td>EV</td>\n",
       "      <td>MLU</td>\n",
       "      <td>1213</td>\n",
       "      <td>-4</td>\n",
       "      <td>-9</td>\n",
       "    </tr>\n",
       "    <tr>\n",
       "      <th>23</th>\n",
       "      <td>ATL</td>\n",
       "      <td>2009</td>\n",
       "      <td>6</td>\n",
       "      <td>2</td>\n",
       "      <td>EV</td>\n",
       "      <td>ALB</td>\n",
       "      <td>2235</td>\n",
       "      <td>4</td>\n",
       "      <td>-8</td>\n",
       "    </tr>\n",
       "    <tr>\n",
       "      <th>24</th>\n",
       "      <td>ATL</td>\n",
       "      <td>2010</td>\n",
       "      <td>6</td>\n",
       "      <td>4</td>\n",
       "      <td>EV</td>\n",
       "      <td>HPN</td>\n",
       "      <td>1625</td>\n",
       "      <td>-2</td>\n",
       "      <td>-1</td>\n",
       "    </tr>\n",
       "    <tr>\n",
       "      <th>25</th>\n",
       "      <td>ATL</td>\n",
       "      <td>2011</td>\n",
       "      <td>6</td>\n",
       "      <td>6</td>\n",
       "      <td>EV</td>\n",
       "      <td>ICT</td>\n",
       "      <td>1040</td>\n",
       "      <td>39</td>\n",
       "      <td>49</td>\n",
       "    </tr>\n",
       "    <tr>\n",
       "      <th>26</th>\n",
       "      <td>ATL</td>\n",
       "      <td>2011</td>\n",
       "      <td>6</td>\n",
       "      <td>1</td>\n",
       "      <td>EV</td>\n",
       "      <td>AEX</td>\n",
       "      <td>2121</td>\n",
       "      <td>43</td>\n",
       "      <td>51</td>\n",
       "    </tr>\n",
       "    <tr>\n",
       "      <th>27</th>\n",
       "      <td>ATL</td>\n",
       "      <td>2012</td>\n",
       "      <td>6</td>\n",
       "      <td>4</td>\n",
       "      <td>EV</td>\n",
       "      <td>LFT</td>\n",
       "      <td>1703</td>\n",
       "      <td>-4</td>\n",
       "      <td>-21</td>\n",
       "    </tr>\n",
       "    <tr>\n",
       "      <th>28</th>\n",
       "      <td>ATL</td>\n",
       "      <td>2013</td>\n",
       "      <td>6</td>\n",
       "      <td>2</td>\n",
       "      <td>EV</td>\n",
       "      <td>TYS</td>\n",
       "      <td>1238</td>\n",
       "      <td>113</td>\n",
       "      <td>117</td>\n",
       "    </tr>\n",
       "    <tr>\n",
       "      <th>29</th>\n",
       "      <td>ATL</td>\n",
       "      <td>2013</td>\n",
       "      <td>6</td>\n",
       "      <td>7</td>\n",
       "      <td>EV</td>\n",
       "      <td>ILM</td>\n",
       "      <td>2202</td>\n",
       "      <td>-4</td>\n",
       "      <td>-16</td>\n",
       "    </tr>\n",
       "    <tr>\n",
       "      <th>30</th>\n",
       "      <td>ATL</td>\n",
       "      <td>2014</td>\n",
       "      <td>6</td>\n",
       "      <td>2</td>\n",
       "      <td>EV</td>\n",
       "      <td>CHA</td>\n",
       "      <td>1340</td>\n",
       "      <td>-2</td>\n",
       "      <td>-11</td>\n",
       "    </tr>\n",
       "    <tr>\n",
       "      <th>31</th>\n",
       "      <td>ATL</td>\n",
       "      <td>2014</td>\n",
       "      <td>6</td>\n",
       "      <td>4</td>\n",
       "      <td>EV</td>\n",
       "      <td>CHA</td>\n",
       "      <td>2339</td>\n",
       "      <td>17</td>\n",
       "      <td>8</td>\n",
       "    </tr>\n",
       "    <tr>\n",
       "      <th>32</th>\n",
       "      <td>ATL</td>\n",
       "      <td>2015</td>\n",
       "      <td>6</td>\n",
       "      <td>7</td>\n",
       "      <td>EV</td>\n",
       "      <td>ECP</td>\n",
       "      <td>1807</td>\n",
       "      <td>-4</td>\n",
       "      <td>-7</td>\n",
       "    </tr>\n",
       "    <tr>\n",
       "      <th>33</th>\n",
       "      <td>ATL</td>\n",
       "      <td>2008</td>\n",
       "      <td>6</td>\n",
       "      <td>7</td>\n",
       "      <td>F9</td>\n",
       "      <td>DEN</td>\n",
       "      <td>2050</td>\n",
       "      <td>-10</td>\n",
       "      <td>-17</td>\n",
       "    </tr>\n",
       "    <tr>\n",
       "      <th>34</th>\n",
       "      <td>ATL</td>\n",
       "      <td>2006</td>\n",
       "      <td>6</td>\n",
       "      <td>3</td>\n",
       "      <td>FL</td>\n",
       "      <td>CAK</td>\n",
       "      <td>958</td>\n",
       "      <td>-1</td>\n",
       "      <td>-4</td>\n",
       "    </tr>\n",
       "    <tr>\n",
       "      <th>35</th>\n",
       "      <td>ATL</td>\n",
       "      <td>2007</td>\n",
       "      <td>6</td>\n",
       "      <td>6</td>\n",
       "      <td>FL</td>\n",
       "      <td>LAX</td>\n",
       "      <td>1230</td>\n",
       "      <td>2</td>\n",
       "      <td>-26</td>\n",
       "    </tr>\n",
       "    <tr>\n",
       "      <th>36</th>\n",
       "      <td>ATL</td>\n",
       "      <td>2010</td>\n",
       "      <td>6</td>\n",
       "      <td>1</td>\n",
       "      <td>FL</td>\n",
       "      <td>MEM</td>\n",
       "      <td>2344</td>\n",
       "      <td>14</td>\n",
       "      <td>-7</td>\n",
       "    </tr>\n",
       "    <tr>\n",
       "      <th>37</th>\n",
       "      <td>ATL</td>\n",
       "      <td>2010</td>\n",
       "      <td>6</td>\n",
       "      <td>6</td>\n",
       "      <td>FL</td>\n",
       "      <td>MCO</td>\n",
       "      <td>1530</td>\n",
       "      <td>-2</td>\n",
       "      <td>-2</td>\n",
       "    </tr>\n",
       "    <tr>\n",
       "      <th>38</th>\n",
       "      <td>ATL</td>\n",
       "      <td>2011</td>\n",
       "      <td>6</td>\n",
       "      <td>2</td>\n",
       "      <td>FL</td>\n",
       "      <td>IAD</td>\n",
       "      <td>1431</td>\n",
       "      <td>-1</td>\n",
       "      <td>-1</td>\n",
       "    </tr>\n",
       "    <tr>\n",
       "      <th>39</th>\n",
       "      <td>ATL</td>\n",
       "      <td>2012</td>\n",
       "      <td>6</td>\n",
       "      <td>6</td>\n",
       "      <td>FL</td>\n",
       "      <td>CAK</td>\n",
       "      <td>1154</td>\n",
       "      <td>-1</td>\n",
       "      <td>-14</td>\n",
       "    </tr>\n",
       "    <tr>\n",
       "      <th>40</th>\n",
       "      <td>ATL</td>\n",
       "      <td>2013</td>\n",
       "      <td>6</td>\n",
       "      <td>7</td>\n",
       "      <td>US</td>\n",
       "      <td>PHX</td>\n",
       "      <td>1236</td>\n",
       "      <td>-5</td>\n",
       "      <td>4</td>\n",
       "    </tr>\n",
       "    <tr>\n",
       "      <th>41</th>\n",
       "      <td>ATL</td>\n",
       "      <td>2013</td>\n",
       "      <td>6</td>\n",
       "      <td>7</td>\n",
       "      <td>WN</td>\n",
       "      <td>MDW</td>\n",
       "      <td>1220</td>\n",
       "      <td>1</td>\n",
       "      <td>-5</td>\n",
       "    </tr>\n",
       "    <tr>\n",
       "      <th>42</th>\n",
       "      <td>ATL</td>\n",
       "      <td>2015</td>\n",
       "      <td>6</td>\n",
       "      <td>4</td>\n",
       "      <td>WN</td>\n",
       "      <td>PBI</td>\n",
       "      <td>1535</td>\n",
       "      <td>-4</td>\n",
       "      <td>-14</td>\n",
       "    </tr>\n",
       "    <tr>\n",
       "      <th>43</th>\n",
       "      <td>ATL</td>\n",
       "      <td>2016</td>\n",
       "      <td>6</td>\n",
       "      <td>3</td>\n",
       "      <td>WN</td>\n",
       "      <td>IND</td>\n",
       "      <td>2330</td>\n",
       "      <td>32</td>\n",
       "      <td>25</td>\n",
       "    </tr>\n",
       "    <tr>\n",
       "      <th>44</th>\n",
       "      <td>ATL</td>\n",
       "      <td>2011</td>\n",
       "      <td>6</td>\n",
       "      <td>2</td>\n",
       "      <td>YV</td>\n",
       "      <td>IAD</td>\n",
       "      <td>2114</td>\n",
       "      <td>6</td>\n",
       "      <td>0</td>\n",
       "    </tr>\n",
       "  </tbody>\n",
       "</table>\n",
       "</div>"
      ],
      "text/plain": [
       "   ORIGIN  FL_YEAR  FL_MONTH  FL_DOW UNIQUE_CARRIER DEST  CRS_ARR_TIME  \\\n",
       "0     ATL     2009         6       7             AA  MIA          1610   \n",
       "1     ATL     2006         6       1             DL  ABQ          2307   \n",
       "2     ATL     2007         6       3             DL  SFO          1153   \n",
       "3     ATL     2008         6       7             DL  ABQ          1255   \n",
       "4     ATL     2008         6       2             DL  LAX          1240   \n",
       "5     ATL     2008         6       5             DL  DEN          1206   \n",
       "6     ATL     2010         6       2             DL  ONT          2040   \n",
       "7     ATL     2010         6       3             DL  PHL          1206   \n",
       "8     ATL     2011         6       6             DL  PWM          2311   \n",
       "9     ATL     2013         6       6             DL  BWI          1819   \n",
       "10    ATL     2014         6       6             DL  PIT          2337   \n",
       "11    ATL     2014         6       6             DL  JAN          1110   \n",
       "12    ATL     2014         6       3             DL  LAX          2219   \n",
       "13    ATL     2015         6       7             DL  CLE          1541   \n",
       "14    ATL     2016         6       3             DL  DAL          1744   \n",
       "15    ATL     2016         6       5             DL  TPA          1100   \n",
       "16    ATL     2016         6       1             DL  MSN          1134   \n",
       "17    ATL     2016         6       4             DL  ROA          2317   \n",
       "18    ATL     2017         6       3             DL  ORD          1231   \n",
       "19    ATL     2017         6       4             DL  DEN          1059   \n",
       "20    ATL     2006         6       4             EV  AVL          1546   \n",
       "21    ATL     2008         6       6             EV  CSG          1059   \n",
       "22    ATL     2009         6       1             EV  MLU          1213   \n",
       "23    ATL     2009         6       2             EV  ALB          2235   \n",
       "24    ATL     2010         6       4             EV  HPN          1625   \n",
       "25    ATL     2011         6       6             EV  ICT          1040   \n",
       "26    ATL     2011         6       1             EV  AEX          2121   \n",
       "27    ATL     2012         6       4             EV  LFT          1703   \n",
       "28    ATL     2013         6       2             EV  TYS          1238   \n",
       "29    ATL     2013         6       7             EV  ILM          2202   \n",
       "30    ATL     2014         6       2             EV  CHA          1340   \n",
       "31    ATL     2014         6       4             EV  CHA          2339   \n",
       "32    ATL     2015         6       7             EV  ECP          1807   \n",
       "33    ATL     2008         6       7             F9  DEN          2050   \n",
       "34    ATL     2006         6       3             FL  CAK           958   \n",
       "35    ATL     2007         6       6             FL  LAX          1230   \n",
       "36    ATL     2010         6       1             FL  MEM          2344   \n",
       "37    ATL     2010         6       6             FL  MCO          1530   \n",
       "38    ATL     2011         6       2             FL  IAD          1431   \n",
       "39    ATL     2012         6       6             FL  CAK          1154   \n",
       "40    ATL     2013         6       7             US  PHX          1236   \n",
       "41    ATL     2013         6       7             WN  MDW          1220   \n",
       "42    ATL     2015         6       4             WN  PBI          1535   \n",
       "43    ATL     2016         6       3             WN  IND          2330   \n",
       "44    ATL     2011         6       2             YV  IAD          2114   \n",
       "\n",
       "    DEP_DELAY  ARR_DELAY  \n",
       "0           0         24  \n",
       "1          20          8  \n",
       "2           8         -7  \n",
       "3           3         12  \n",
       "4           7         12  \n",
       "5          13         30  \n",
       "6          52         41  \n",
       "7          -1          3  \n",
       "8          -3          1  \n",
       "9          -6        -23  \n",
       "10         30         17  \n",
       "11         -4         -6  \n",
       "12         10          4  \n",
       "13         26          0  \n",
       "14        267        250  \n",
       "15         -2         -5  \n",
       "16         -3        -17  \n",
       "17         -2        -17  \n",
       "18         -5        -24  \n",
       "19         -5        -18  \n",
       "20         19          5  \n",
       "21         59         61  \n",
       "22         -4         -9  \n",
       "23          4         -8  \n",
       "24         -2         -1  \n",
       "25         39         49  \n",
       "26         43         51  \n",
       "27         -4        -21  \n",
       "28        113        117  \n",
       "29         -4        -16  \n",
       "30         -2        -11  \n",
       "31         17          8  \n",
       "32         -4         -7  \n",
       "33        -10        -17  \n",
       "34         -1         -4  \n",
       "35          2        -26  \n",
       "36         14         -7  \n",
       "37         -2         -2  \n",
       "38         -1         -1  \n",
       "39         -1        -14  \n",
       "40         -5          4  \n",
       "41          1         -5  \n",
       "42         -4        -14  \n",
       "43         32         25  \n",
       "44          6          0  "
      ]
     },
     "execution_count": 8,
     "metadata": {},
     "output_type": "execute_result"
    }
   ],
   "source": [
    "sample = bq.Query(query_0001).execute().result().to_dataframe()\n",
    "sample"
   ]
  },
  {
   "cell_type": "markdown",
   "metadata": {},
   "source": [
    "---\n",
    "Metadata and schema"
   ]
  },
  {
   "cell_type": "code",
   "execution_count": 48,
   "metadata": {},
   "outputs": [],
   "source": [
    "raw_data_metadata = dataset_metadata.DatasetMetadata(\n",
    "    dataset_schema.from_feature_spec({\n",
    "        'ORIGIN': tf.FixedLenFeature([], tf.string),\n",
    "        'FL_YEAR': tf.FixedLenFeature([], tf.int64),\n",
    "        'FL_MONTH': tf.FixedLenFeature([], tf.int64),\n",
    "        'FL_DOW': tf.FixedLenFeature([], tf.int64),\n",
    "        'UNIQUE_CARRIER': tf.FixedLenFeature([], tf.string),\n",
    "        'DEST': tf.FixedLenFeature([], tf.string),\n",
    "        'CRS_ARR_TIME': tf.FixedLenFeature([], tf.int64),\n",
    "        'DEP_DELAY': tf.FixedLenFeature([], tf.float32),\n",
    "        'ARR_DELAY': tf.FixedLenFeature([], tf.float32)\n",
    "    }))"
   ]
  },
  {
   "cell_type": "code",
   "execution_count": 49,
   "metadata": {},
   "outputs": [],
   "source": [
    "raw_data_schema = {\n",
    "    colname : dataset_schema.ColumnSchema(tf.string, [], dataset_schema.FixedColumnRepresentation())\n",
    "               for colname in ['ORIGIN','UNIQUE_CARRIER','DEST']\n",
    "}\n",
    "raw_data_schema.update({\n",
    "    colname : dataset_schema.ColumnSchema(tf.float32, [], dataset_schema.FixedColumnRepresentation())\n",
    "               for colname in ['DEP_DELAY','ARR_DELAY']\n",
    "})\n",
    "raw_data_schema.update({\n",
    "    colname : dataset_schema.ColumnSchema(tf.int64, [], dataset_schema.FixedColumnRepresentation())\n",
    "               for colname in ['FL_YEAR','FL_MONTH','FL_DOW','CRS_ARR_TIME']\n",
    "})\n",
    "raw_data_metadata = dataset_metadata.DatasetMetadata(dataset_schema.Schema(raw_data_schema))"
   ]
  },
  {
   "cell_type": "code",
   "execution_count": 50,
   "metadata": {},
   "outputs": [
    {
     "data": {
      "text/plain": [
       "[{u'ARR_DELAY': 24,\n",
       "  u'CRS_ARR_TIME': 1610,\n",
       "  u'DEP_DELAY': 0,\n",
       "  u'DEST': 'MIA',\n",
       "  u'FL_DOW': 7,\n",
       "  u'FL_MONTH': 6,\n",
       "  u'FL_YEAR': 2009,\n",
       "  u'ORIGIN': 'ATL',\n",
       "  u'UNIQUE_CARRIER': 'AA'},\n",
       " {u'ARR_DELAY': 8,\n",
       "  u'CRS_ARR_TIME': 2307,\n",
       "  u'DEP_DELAY': 20,\n",
       "  u'DEST': 'ABQ',\n",
       "  u'FL_DOW': 1,\n",
       "  u'FL_MONTH': 6,\n",
       "  u'FL_YEAR': 2006,\n",
       "  u'ORIGIN': 'ATL',\n",
       "  u'UNIQUE_CARRIER': 'DL'}]"
      ]
     },
     "execution_count": 50,
     "metadata": {},
     "output_type": "execute_result"
    }
   ],
   "source": [
    "records = sample.to_dict(orient='records')\n",
    "records[0:2]"
   ]
  },
  {
   "cell_type": "markdown",
   "metadata": {},
   "source": [
    "---\n",
    "The pre-processing function scales the arrival delay and lets all other columns unchanged. Pay particular attention to the name of the returned ARR_DELAY tensor"
   ]
  },
  {
   "cell_type": "code",
   "execution_count": 55,
   "metadata": {},
   "outputs": [],
   "source": [
    "def preprocessing_fn(inputs):\n",
    "    # print(inputs)\n",
    "    arr_delay=tft.scale_to_0_1(inputs['ARR_DELAY'])\n",
    "    res = {'ARR_DELAY': arr_delay}\n",
    "    for col in ['ORIGIN', 'FL_YEAR', 'FL_MONTH', 'FL_DOW', 'UNIQUE_CARRIER', 'DEST', 'CRS_ARR_TIME', 'DEP_DELAY']:\n",
    "        res[col] = tf.identity(inputs[col])\n",
    "    return res"
   ]
  },
  {
   "cell_type": "code",
   "execution_count": 56,
   "metadata": {},
   "outputs": [
    {
     "data": {
      "text/plain": [
       "{'ARR_DELAY': <tf.Tensor 'scale_by_min_max_2/add:0' shape=() dtype=float32>,\n",
       " 'CRS_ARR_TIME': <tf.Tensor 'Identity_22:0' shape=() dtype=int32>,\n",
       " 'DEP_DELAY': <tf.Tensor 'Identity_23:0' shape=() dtype=int32>,\n",
       " 'DEST': <tf.Tensor 'Identity_21:0' shape=() dtype=string>,\n",
       " 'FL_DOW': <tf.Tensor 'Identity_19:0' shape=() dtype=int32>,\n",
       " 'FL_MONTH': <tf.Tensor 'Identity_18:0' shape=() dtype=int32>,\n",
       " 'FL_YEAR': <tf.Tensor 'Identity_17:0' shape=() dtype=int32>,\n",
       " 'ORIGIN': <tf.Tensor 'Identity_16:0' shape=() dtype=string>,\n",
       " 'UNIQUE_CARRIER': <tf.Tensor 'Identity_20:0' shape=() dtype=string>}"
      ]
     },
     "execution_count": 56,
     "metadata": {},
     "output_type": "execute_result"
    }
   ],
   "source": [
    "preprocessing_fn(records[0])"
   ]
  },
  {
   "cell_type": "code",
   "execution_count": 57,
   "metadata": {},
   "outputs": [],
   "source": [
    "ORDERED_COLS=['ORIGIN', 'FL_YEAR', 'FL_MONTH', 'FL_DOW', 'UNIQUE_CARRIER', 'DEST', 'CRS_ARR_TIME', 'DEP_DELAY', 'ARR_DELAY']"
   ]
  },
  {
   "cell_type": "code",
   "execution_count": 58,
   "metadata": {},
   "outputs": [],
   "source": [
    "in_test_mode = True\n",
    "OUTPUT_DIR=\"./out\"\n",
    "job_name = 'tft_tutorial' + '-' + datetime.datetime.now().strftime('%y%m%d-%H%M%S')    \n",
    "\n",
    "options = {\n",
    "    'staging_location': os.path.join(OUTPUT_DIR, 'tmp', 'staging'),\n",
    "    'temp_location': os.path.join(OUTPUT_DIR, 'tmp'),\n",
    "    'job_name': job_name,\n",
    "    'project': PROJECT,\n",
    "    'max_num_workers': 24,\n",
    "    'teardown_policy': 'TEARDOWN_ALWAYS',\n",
    "    'no_save_main_session': True,\n",
    "    'requirements_file': 'requirements.txt'\n",
    "}\n",
    "opts = beam.pipeline.PipelineOptions(flags=[], **options)\n",
    "if in_test_mode:\n",
    "    RUNNER = 'DirectRunner'\n",
    "else:\n",
    "    RUNNER = 'DataflowRunner'"
   ]
  },
  {
   "cell_type": "code",
   "execution_count": 59,
   "metadata": {},
   "outputs": [
    {
     "name": "stdout",
     "output_type": "stream",
     "text": [
      "INFO:tensorflow:Assets added to graph.\n"
     ]
    },
    {
     "name": "stderr",
     "output_type": "stream",
     "text": [
      "INFO:tensorflow:Assets added to graph.\n"
     ]
    },
    {
     "name": "stdout",
     "output_type": "stream",
     "text": [
      "INFO:tensorflow:No assets to write.\n"
     ]
    },
    {
     "name": "stderr",
     "output_type": "stream",
     "text": [
      "INFO:tensorflow:No assets to write.\n"
     ]
    },
    {
     "name": "stdout",
     "output_type": "stream",
     "text": [
      "INFO:tensorflow:SavedModel written to: /tmp/tmpxFqKiS/tftransform_tmp/afd394cd93f841afb83acb5e6827faaa/saved_model.pb\n"
     ]
    },
    {
     "name": "stderr",
     "output_type": "stream",
     "text": [
      "INFO:tensorflow:SavedModel written to: /tmp/tmpxFqKiS/tftransform_tmp/afd394cd93f841afb83acb5e6827faaa/saved_model.pb\n"
     ]
    },
    {
     "name": "stdout",
     "output_type": "stream",
     "text": [
      "INFO:tensorflow:Assets added to graph.\n"
     ]
    },
    {
     "name": "stderr",
     "output_type": "stream",
     "text": [
      "INFO:tensorflow:Assets added to graph.\n"
     ]
    },
    {
     "name": "stdout",
     "output_type": "stream",
     "text": [
      "INFO:tensorflow:No assets to write.\n"
     ]
    },
    {
     "name": "stderr",
     "output_type": "stream",
     "text": [
      "INFO:tensorflow:No assets to write.\n"
     ]
    },
    {
     "name": "stdout",
     "output_type": "stream",
     "text": [
      "INFO:tensorflow:SavedModel written to: /tmp/tmpxFqKiS/tftransform_tmp/93a66cf053b14f999ba5cf382940ddb4/saved_model.pb\n"
     ]
    },
    {
     "name": "stderr",
     "output_type": "stream",
     "text": [
      "INFO:tensorflow:SavedModel written to: /tmp/tmpxFqKiS/tftransform_tmp/93a66cf053b14f999ba5cf382940ddb4/saved_model.pb\n",
      "/usr/local/lib/python2.7/dist-packages/apache_beam/runners/direct/direct_runner.py:357: DeprecationWarning: options is deprecated since First stable release. References to <pipeline>.options will not be supported\n",
      "  pipeline.replace_all(_get_transform_overrides(pipeline.options))\n",
      "WARNING:root:Dataset going-tfx:temp_dataset_b15262d3d679410b8e9100bcd84874a1 does not exist so we will create it as temporary with location=None\n"
     ]
    },
    {
     "name": "stdout",
     "output_type": "stream",
     "text": [
      "INFO:tensorflow:Saver not created because there are no variables in the graph to restore\n"
     ]
    },
    {
     "name": "stderr",
     "output_type": "stream",
     "text": [
      "INFO:tensorflow:Saver not created because there are no variables in the graph to restore\n"
     ]
    },
    {
     "name": "stdout",
     "output_type": "stream",
     "text": [
      "INFO:tensorflow:Saver not created because there are no variables in the graph to restore\n"
     ]
    },
    {
     "name": "stderr",
     "output_type": "stream",
     "text": [
      "INFO:tensorflow:Saver not created because there are no variables in the graph to restore\n"
     ]
    },
    {
     "name": "stdout",
     "output_type": "stream",
     "text": [
      "INFO:tensorflow:Assets added to graph.\n"
     ]
    },
    {
     "name": "stderr",
     "output_type": "stream",
     "text": [
      "INFO:tensorflow:Assets added to graph.\n"
     ]
    },
    {
     "name": "stdout",
     "output_type": "stream",
     "text": [
      "INFO:tensorflow:No assets to write.\n"
     ]
    },
    {
     "name": "stderr",
     "output_type": "stream",
     "text": [
      "INFO:tensorflow:No assets to write.\n"
     ]
    },
    {
     "name": "stdout",
     "output_type": "stream",
     "text": [
      "INFO:tensorflow:SavedModel written to: /tmp/tmpxFqKiS/tftransform_tmp/6edb9696bd6b4f4cb11e4b1a36e71316/saved_model.pb\n"
     ]
    },
    {
     "name": "stderr",
     "output_type": "stream",
     "text": [
      "INFO:tensorflow:SavedModel written to: /tmp/tmpxFqKiS/tftransform_tmp/6edb9696bd6b4f4cb11e4b1a36e71316/saved_model.pb\n"
     ]
    },
    {
     "name": "stdout",
     "output_type": "stream",
     "text": [
      "INFO:tensorflow:Saver not created because there are no variables in the graph to restore\n"
     ]
    },
    {
     "name": "stderr",
     "output_type": "stream",
     "text": [
      "INFO:tensorflow:Saver not created because there are no variables in the graph to restore\n"
     ]
    },
    {
     "name": "stdout",
     "output_type": "stream",
     "text": [
      "INFO:tensorflow:Saver not created because there are no variables in the graph to restore\n"
     ]
    },
    {
     "name": "stderr",
     "output_type": "stream",
     "text": [
      "INFO:tensorflow:Saver not created because there are no variables in the graph to restore\n"
     ]
    }
   ],
   "source": [
    "import tempfile\n",
    "with beam.Pipeline(RUNNER, options=opts) as p:\n",
    "    with beam_impl.Context(temp_dir=tempfile.mkdtemp()):\n",
    "        raw_data = p | \"ReadCSV\"  >> beam.io.Read(beam.io.BigQuerySource(query=query_0001, use_standard_sql=True)) \n",
    "\n",
    "        _ = (raw_data, raw_data_metadata)    |\\\n",
    "        'Decode' >> beam_impl.AnalyzeAndTransformDataset(preprocessing_fn)\n",
    "\n"
   ]
  },
  {
   "cell_type": "code",
   "execution_count": 60,
   "metadata": {},
   "outputs": [
    {
     "data": {
      "text/plain": [
       "<PCollection[ReadCSV.None] at 0x7f12b93f4b10>"
      ]
     },
     "execution_count": 60,
     "metadata": {},
     "output_type": "execute_result"
    }
   ],
   "source": [
    "raw_data"
   ]
  },
  {
   "cell_type": "markdown",
   "metadata": {},
   "source": [
    "import tempfile\n",
    "with beam.Pipeline() as p:\n",
    "    with beam_impl.Context(temp_dir=tempfile.mkdtemp()):\n",
    "        converter = tft.coders.CsvCoder(ORDERED_COLS, raw_data_metadata.schema)\n",
    "        raw_data = p | \"ReadCSV\"  >> beam.io.ReadFromText('atl_june_46.csv') \n",
    "\n",
    "        _ = (raw_data, raw_data_metadata)    |\\\n",
    "        'Decode' >> beam_impl.AnalyzeAndTransformDataset(preprocessing_fn)\n",
    "\n"
   ]
  },
  {
   "cell_type": "code",
   "execution_count": 30,
   "metadata": {},
   "outputs": [
    {
     "data": {
      "text/plain": [
       "'DONE'"
      ]
     },
     "execution_count": 30,
     "metadata": {},
     "output_type": "execute_result"
    }
   ],
   "source": [
    "res"
   ]
  },
  {
   "cell_type": "code",
   "execution_count": null,
   "metadata": {},
   "outputs": [],
   "source": [
    "transformed_dataseet, transform_fn = "
   ]
  }
 ],
 "metadata": {
  "kernelspec": {
   "display_name": "Python 2",
   "language": "python",
   "name": "python2"
  },
  "language_info": {
   "codemirror_mode": {
    "name": "ipython",
    "version": 2
   },
   "file_extension": ".py",
   "mimetype": "text/x-python",
   "name": "python",
   "nbconvert_exporter": "python",
   "pygments_lexer": "ipython2",
   "version": "2.7.13"
  }
 },
 "nbformat": 4,
 "nbformat_minor": 2
}
