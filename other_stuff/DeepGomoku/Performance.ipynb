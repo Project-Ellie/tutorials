{
 "cells": [
  {
   "cell_type": "code",
   "execution_count": 4,
   "metadata": {},
   "outputs": [],
   "source": [
    "import tensorflow as tf\n",
    "import numpy as np"
   ]
  },
  {
   "cell_type": "code",
   "execution_count": 100,
   "metadata": {},
   "outputs": [
    {
     "data": {
      "text/plain": [
       "[[2147483648, 0, 0, 0, 8388608, 0, 0, 0, 32768],\n",
       " [0, 1073741824, 0, 0, 4194304, 0, 0, 16384, 0],\n",
       " [0, 0, 536870912, 0, 2097152, 0, 8192, 0, 0],\n",
       " [0, 0, 0, 268435456, 1048576, 4096, 0, 0, 0],\n",
       " [1, 2, 4, 8, 0, 16, 32, 64, 128],\n",
       " [0, 0, 0, 2048, 524288, 134217728, 0, 0, 0],\n",
       " [0, 0, 1024, 0, 262144, 0, 67108864, 0, 0],\n",
       " [0, 512, 0, 0, 131072, 0, 0, 33554432, 0],\n",
       " [256, 0, 0, 0, 65536, 0, 0, 0, 16777216]]"
      ]
     },
     "execution_count": 100,
     "metadata": {},
     "output_type": "execute_result"
    }
   ],
   "source": [
    "impact9x9=[\n",
    "    [ \n",
    "        0x1 << c if r == 4 and c<4 \n",
    "        else 0x1 << (c-1) if c>4 and r==4\n",
    "\n",
    "        else 0x100 << c if c == 8-r and c<4\n",
    "        else 0x100 << (c-1) if c == 8-r and c>4\n",
    "\n",
    "        else 0x10000 << 8-r-1 if r<4 and c == 4  \n",
    "        else 0x10000 << 8-r if r>4 and c==4\n",
    "\n",
    "        else 0x1000000 << 8-c-1 if c == r and c<4\n",
    "        else 0x1000000 << 8-c if c == r and c>4\n",
    "\n",
    "        else 0\n",
    "         for c in range(9) \n",
    "    ] for r in range(9) \n",
    "]\n",
    "impact9x9"
   ]
  },
  {
   "cell_type": "code",
   "execution_count": 120,
   "metadata": {},
   "outputs": [
    {
     "data": {
      "text/plain": [
       "[0, 0, 0, 0, 0, 1, 0, 0]"
      ]
     },
     "execution_count": 120,
     "metadata": {},
     "output_type": "execute_result"
    }
   ],
   "source": [
    "# l3 is the nw-line. point 2,2 on that line sees the stone at a distance of 2\n",
    "x=impact9x9[2][2]\n",
    "l0=(x & 0xFF)\n",
    "l1=(x & 0xFF00) >> 8\n",
    "l2=(x & 0xFF0000) >> 16\n",
    "l3=(x & 0xFF000000) >> 24\n",
    "[np.sign(l3 & (1<<i)) for i in range(8)]"
   ]
  },
  {
   "cell_type": "code",
   "execution_count": 112,
   "metadata": {},
   "outputs": [],
   "source": [
    "def stone_at(r,c, n=15):\n",
    "    \"\"\"\n",
    "    Construct a complete nxn impact representation of a stone at row=r, col=c\n",
    "    \"\"\"\n",
    "    src=np.hstack([\n",
    "        np.zeros((n+8,c),dtype=np.int),\n",
    "        np.vstack([\n",
    "            np.zeros((r,9), dtype=np.int32), \n",
    "            impact9x9, \n",
    "            np.zeros((n-1-r,9), dtype=np.int32)\n",
    "        ]),\n",
    "        np.zeros((n+8,n-1-c),dtype=np.int)\n",
    "    ])\n",
    "    return (src[4:-4].T[4:-4].T).copy()"
   ]
  },
  {
   "cell_type": "code",
   "execution_count": 116,
   "metadata": {},
   "outputs": [],
   "source": [
    "s77=stone_at(7,7, n=15)"
   ]
  },
  {
   "cell_type": "code",
   "execution_count": 117,
   "metadata": {},
   "outputs": [
    {
     "data": {
      "text/plain": [
       "(15, 15)"
      ]
     },
     "execution_count": 117,
     "metadata": {},
     "output_type": "execute_result"
    }
   ],
   "source": [
    "np.shape(s77)"
   ]
  },
  {
   "cell_type": "code",
   "execution_count": 118,
   "metadata": {},
   "outputs": [
    {
     "name": "stderr",
     "output_type": "stream",
     "text": [
      "/Users/wgiersche/workspace/tutorials/other_stuff/venv3/lib/python3.6/site-packages/ipykernel_launcher.py:1: RuntimeWarning: divide by zero encountered in log2\n",
      "  \"\"\"Entry point for launching an IPython kernel.\n"
     ]
    },
    {
     "data": {
      "text/plain": [
       "array([[ 31., -inf, -inf, -inf,  23., -inf, -inf, -inf,  15.],\n",
       "       [-inf,  30., -inf, -inf,  22., -inf, -inf,  14., -inf],\n",
       "       [-inf, -inf,  29., -inf,  21., -inf,  13., -inf, -inf],\n",
       "       [-inf, -inf, -inf,  28.,  20.,  12., -inf, -inf, -inf],\n",
       "       [  0.,   1.,   2.,   3., -inf,   4.,   5.,   6.,   7.],\n",
       "       [-inf, -inf, -inf,  11.,  19.,  27., -inf, -inf, -inf],\n",
       "       [-inf, -inf,  10., -inf,  18., -inf,  26., -inf, -inf],\n",
       "       [-inf,   9., -inf, -inf,  17., -inf, -inf,  25., -inf],\n",
       "       [  8., -inf, -inf, -inf,  16., -inf, -inf, -inf,  24.]])"
      ]
     },
     "execution_count": 118,
     "metadata": {},
     "output_type": "execute_result"
    }
   ],
   "source": [
    "np.log2(s77[3:-3].T[3:-3].T)"
   ]
  },
  {
   "cell_type": "code",
   "execution_count": 111,
   "metadata": {},
   "outputs": [
    {
     "data": {
      "text/plain": [
       "1912"
      ]
     },
     "execution_count": 111,
     "metadata": {},
     "output_type": "execute_result"
    }
   ],
   "source": [
    "import sys\n",
    "sys.getsizeof(s77)"
   ]
  },
  {
   "cell_type": "code",
   "execution_count": 136,
   "metadata": {},
   "outputs": [],
   "source": [
    "n=15\n",
    "impacts=[[stone_at(r,c,n) for c in range(n)] for r in range(n)]"
   ]
  },
  {
   "cell_type": "code",
   "execution_count": 137,
   "metadata": {},
   "outputs": [
    {
     "data": {
      "text/plain": [
       "array([[     0,      0,      0,      0,      0,      0,      0,      0,\n",
       "             0,      0,      1,      2,      4,      8,      0],\n",
       "       [     0,      0,      0,      0,      0,      0,      0,      0,\n",
       "             0,      0,      0,      0,      0,   2048, 524288],\n",
       "       [     0,      0,      0,      0,      0,      0,      0,      0,\n",
       "             0,      0,      0,      0,   1024,      0, 262144],\n",
       "       [     0,      0,      0,      0,      0,      0,      0,      0,\n",
       "             0,      0,      0,    512,      0,      0, 131072],\n",
       "       [     0,      0,      0,      0,      0,      0,      0,      0,\n",
       "             0,      0,    256,      0,      0,      0,  65536],\n",
       "       [     0,      0,      0,      0,      0,      0,      0,      0,\n",
       "             0,      0,      0,      0,      0,      0,      0],\n",
       "       [     0,      0,      0,      0,      0,      0,      0,      0,\n",
       "             0,      0,      0,      0,      0,      0,      0],\n",
       "       [     0,      0,      0,      0,      0,      0,      0,      0,\n",
       "             0,      0,      0,      0,      0,      0,      0],\n",
       "       [     0,      0,      0,      0,      0,      0,      0,      0,\n",
       "             0,      0,      0,      0,      0,      0,      0],\n",
       "       [     0,      0,      0,      0,      0,      0,      0,      0,\n",
       "             0,      0,      0,      0,      0,      0,      0],\n",
       "       [     0,      0,      0,      0,      0,      0,      0,      0,\n",
       "             0,      0,      0,      0,      0,      0,      0],\n",
       "       [     0,      0,      0,      0,      0,      0,      0,      0,\n",
       "             0,      0,      0,      0,      0,      0,      0],\n",
       "       [     0,      0,      0,      0,      0,      0,      0,      0,\n",
       "             0,      0,      0,      0,      0,      0,      0],\n",
       "       [     0,      0,      0,      0,      0,      0,      0,      0,\n",
       "             0,      0,      0,      0,      0,      0,      0],\n",
       "       [     0,      0,      0,      0,      0,      0,      0,      0,\n",
       "             0,      0,      0,      0,      0,      0,      0]])"
      ]
     },
     "execution_count": 137,
     "metadata": {},
     "output_type": "execute_result"
    }
   ],
   "source": [
    "(impacts[0][14])"
   ]
  },
  {
   "cell_type": "code",
   "execution_count": 139,
   "metadata": {},
   "outputs": [
    {
     "data": {
      "text/plain": [
       "2056"
      ]
     },
     "execution_count": 139,
     "metadata": {},
     "output_type": "execute_result"
    }
   ],
   "source": [
    "(impacts[0][14] | impacts[1][14])[1][13]"
   ]
  },
  {
   "cell_type": "markdown",
   "metadata": {},
   "source": [
    "That's 2048 (bit 3 on north east line) and 8 (bit 3 on east line)\n",
    "\n",
    "The above expression answers the question what an observer on (1,13) sees when (0,14) and (1,14) are occupied:\n",
    "It sees the two stones in one step each to north east and east respectively. That's what we expect.\n",
    "```\n",
    "      (0,14)\n",
    "(1,13)(1,14)\n",
    "```\n",
    "\n",
    "So, the full impact of an ensemble of stones on the entire field is simply computed by or-ing the pre-computed impacts of each stone within that ensemble. That's orders of magnitude faster than the for-comprehension we used in the naive approach."
   ]
  },
  {
   "cell_type": "code",
   "execution_count": 140,
   "metadata": {},
   "outputs": [],
   "source": [
    "import tensorflow as tf"
   ]
  },
  {
   "cell_type": "code",
   "execution_count": 172,
   "metadata": {},
   "outputs": [],
   "source": [
    "black=0x8A458133\n",
    "white=0x41824284"
   ]
  },
  {
   "cell_type": "code",
   "execution_count": 173,
   "metadata": {},
   "outputs": [],
   "source": [
    "# neighbourhoods black and white\n",
    "nb = tf.constant(black, dtype=tf.int32)\n",
    "nw = tf.constant(white, dtype=tf.int32)"
   ]
  },
  {
   "cell_type": "code",
   "execution_count": 174,
   "metadata": {},
   "outputs": [],
   "source": [
    "nw_b = tf.bitwise.bitwise_and(0xFF, tf.bitwise.right_shift(nb, 0))\n",
    "n_b = tf.bitwise.bitwise_and(0xFF, tf.bitwise.right_shift(nb, 8))\n",
    "ne_b = tf.bitwise.bitwise_and(0xFF, tf.bitwise.right_shift(nb, 16))\n",
    "e_b = tf.bitwise.bitwise_and(0xFF, tf.bitwise.right_shift(nb, 24))\n",
    "\n",
    "nw_w = tf.bitwise.bitwise_and(0xFF, tf.bitwise.right_shift(nw, 0))\n",
    "n_w = tf.bitwise.bitwise_and(0xFF, tf.bitwise.right_shift(nw, 8))\n",
    "ne_w = tf.bitwise.bitwise_and(0xFF, tf.bitwise.right_shift(nw, 16))\n",
    "e_w = tf.bitwise.bitwise_and(0xFF, tf.bitwise.right_shift(nw, 24))"
   ]
  },
  {
   "cell_type": "code",
   "execution_count": 175,
   "metadata": {},
   "outputs": [
    {
     "name": "stdout",
     "output_type": "stream",
     "text": [
      "66\n"
     ]
    }
   ],
   "source": [
    "with tf.Session() as s:\n",
    "    print(n_w.eval())"
   ]
  },
  {
   "cell_type": "code",
   "execution_count": 181,
   "metadata": {},
   "outputs": [],
   "source": [
    "keys=[256*b+w for b in range(256) for w in range(256)]\n",
    "values=keys\n",
    "table = tf.contrib.lookup.HashTable(\n",
    "        tf.contrib.lookup.KeyValueTensorInitializer(keys, values),\n",
    "        0)"
   ]
  },
  {
   "cell_type": "code",
   "execution_count": 188,
   "metadata": {},
   "outputs": [
    {
     "name": "stdout",
     "output_type": "stream",
     "text": [
      "10\n"
     ]
    }
   ],
   "source": [
    "with tf.Session():\n",
    "    table.init.run()\n",
    "    out=table.lookup(tf.constant(10))\n",
    "    print(out.eval())"
   ]
  },
  {
   "cell_type": "code",
   "execution_count": 193,
   "metadata": {},
   "outputs": [],
   "source": [
    "class TotalScore:\n",
    "\n",
    "    def __init__(self, kappa1):\n",
    "\n",
    "        keys, values = ...TODO!\n",
    "        \n",
    "        self.kappa1 = kappa1\n",
    "        self.table = tf.contrib.lookup.HashTable(\n",
    "            tf.contrib.lookup.KeyValueTensorInitializer(keys, values),0)\n",
    "    \n",
    "    def as_tensor(self, nb, nw):    \n",
    "        nw_b = tf.bitwise.bitwise_and(0xFF, tf.bitwise.right_shift(nb, 0))\n",
    "        n_b = tf.bitwise.bitwise_and(0xFF, tf.bitwise.right_shift(nb, 8))\n",
    "        ne_b = tf.bitwise.bitwise_and(0xFF, tf.bitwise.right_shift(nb, 16))\n",
    "        e_b = tf.bitwise.bitwise_and(0xFF, tf.bitwise.right_shift(nb, 24))\n",
    "\n",
    "        nw_w = tf.bitwise.bitwise_and(0xFF, tf.bitwise.right_shift(nw, 0))\n",
    "        n_w = tf.bitwise.bitwise_and(0xFF, tf.bitwise.right_shift(nw, 8))\n",
    "        ne_w = tf.bitwise.bitwise_and(0xFF, tf.bitwise.right_shift(nw, 16))\n",
    "        e_w = tf.bitwise.bitwise_and(0xFF, tf.bitwise.right_shift(nw, 24)) \n",
    "\n",
    "        score_nw_w = self.table.lookup(256*nw_w + nw_b)\n",
    "        score_n_w = self.table.lookup(256*n_w + n_b)\n",
    "        score_ne_w = self.table.lookup(256*ne_w + ne_b)\n",
    "        score_e_w = self.table.lookup(256*e_w + e_b)\n",
    "\n",
    "        score_nw_b = self.table.lookup(256*nw_b + nw_w)\n",
    "        score_n_b = self.table.lookup(256*n_b + n_w)\n",
    "        score_ne_b = self.table.lookup(256*ne_b + ne_w)\n",
    "        score_e_b = self.table.lookup(256*e_b + e_w)\n",
    "\n",
    "        ts_w = tf.add( \n",
    "            tf.pow(score_nw_w, tf.kappa1),\n",
    "            tf.add (\n",
    "                tf.pow(score_n_w, tf.kappa1),\n",
    "                tf.add (\n",
    "                    tf.pow(score_ne_w, tf.kappa1), \n",
    "                    score_e_w)))\n",
    "\n",
    "        ts_b = tf.add( \n",
    "            tf.pow(score_nw_b, tf.kappa1),\n",
    "            tf.add (\n",
    "                tf.pow(score_n_b, tf.kappa1),\n",
    "                tf.add (\n",
    "                    tf.pow(score_ne_b, tf.kappa1), \n",
    "                    score_e_b)))\n",
    "\n",
    "        "
   ]
  },
  {
   "cell_type": "code",
   "execution_count": 207,
   "metadata": {},
   "outputs": [
    {
     "data": {
      "text/plain": [
       "6"
      ]
     },
     "execution_count": 207,
     "metadata": {},
     "output_type": "execute_result"
    }
   ],
   "source": [
    "b=0x81\n",
    "hib=[4,0,1,0,2,0,1,0,3,0,1,0,2,0,1,0]\n",
    "lob=[4,3,2,2,1,1,1,1,0,0,0,0,0,0,0,0]\n",
    "rh = (b & 0xF0) >> 4\n",
    "rl = b & 0xF\n",
    "hib[rh]+lob[rl]"
   ]
  },
  {
   "cell_type": "code",
   "execution_count": 236,
   "metadata": {},
   "outputs": [],
   "source": [
    "def central_mask(b):\n",
    "    \"\"\"\n",
    "    determine a mask covering the 'central' zero bits\n",
    "    e.g. central_mask( 0 1 0 0 | 0 0 1 1 ) =\n",
    "                       0 0 1 1 | 1 1 0 0 = 0x3C\n",
    "    Args:\n",
    "        b: an 8 bit integer representing a line of stones of one color\n",
    "    Returns:\n",
    "        a pair of tensors:\n",
    "        1. A bit mask covering the central 'empty' region\n",
    "        2. The length of that masked region.\n",
    "    \"\"\"\n",
    "    hi_len  = tf.constant([4,0,1,0,2,0,1,0,3,0,1,0,2,0,1,0], dtype=tf.int32) \n",
    "    hi_mask = tf.constant(\n",
    "        [0xF,0x0,0x1,0x0,0x3,0x0,0x1,0x0,0x7,0x0,0x1,0x0,0x3,0x0,0x1,0x0], \n",
    "        dtype=tf.int32) # hi byte\n",
    "\n",
    "    lo_len  = tf.constant([4,3,2,2,1,1,1,1,0,0,0,0,0,0,0,0], dtype=tf.int32)\n",
    "    lo_mask = tf.constant(\n",
    "        [0xF,0xE,0xC,0xC,0x8,0x8,0x8,0x8,0x0,0x0,0x0,0x0,0x0,0x0,0x0,0x0], \n",
    "        dtype=tf.int32) # lo byte\n",
    "\n",
    "    i_h = tf.bitwise.right_shift(tf.bitwise.bitwise_and(b, 0xF0), 4)\n",
    "    i_l = tf.bitwise.bitwise_and(b, 0xF)\n",
    "\n",
    "    return hi_mask[i_h]*0x10 + lo_mask[i_l], hi_len[i_h] + lo_len[i_l]"
   ]
  },
  {
   "cell_type": "code",
   "execution_count": 214,
   "metadata": {},
   "outputs": [],
   "source": [
    "a=tf.constant([[1,2,3,4,5,6],[3,4,5,6,7,8], [2,3,4,5,6,7]], dtype=tf.int32)"
   ]
  },
  {
   "cell_type": "code",
   "execution_count": 209,
   "metadata": {},
   "outputs": [],
   "source": [
    "s=a[:-1]"
   ]
  },
  {
   "cell_type": "code",
   "execution_count": 237,
   "metadata": {},
   "outputs": [
    {
     "name": "stdout",
     "output_type": "stream",
     "text": [
      "(60, 4)\n"
     ]
    }
   ],
   "source": [
    "with tf.Session() as sess:\n",
    "    print(sess.run(central_mask(tf.constant(0x43, dtype=tf.int32))))"
   ]
  },
  {
   "cell_type": "code",
   "execution_count": null,
   "metadata": {},
   "outputs": [],
   "source": []
  }
 ],
 "metadata": {
  "kernelspec": {
   "display_name": "Python 3",
   "language": "python",
   "name": "python3"
  },
  "language_info": {
   "codemirror_mode": {
    "name": "ipython",
    "version": 3
   },
   "file_extension": ".py",
   "mimetype": "text/x-python",
   "name": "python",
   "nbconvert_exporter": "python",
   "pygments_lexer": "ipython3",
   "version": "3.6.4"
  }
 },
 "nbformat": 4,
 "nbformat_minor": 2
}
