{
 "cells": [
  {
   "cell_type": "markdown",
   "metadata": {},
   "source": [
    "# GKE - flask - Let's Encrypt HTTPS\n",
    "#### Deploying a flask app on a K8s Cluster in the Google Cloud and access it through HTTPS"
   ]
  },
  {
   "cell_type": "code",
   "execution_count": 1,
   "metadata": {},
   "outputs": [
    {
     "name": "stdout",
     "output_type": "stream",
     "text": [
      "/home/wgiersche/workspace/tutorials/microblog\n"
     ]
    }
   ],
   "source": [
    "!pwd"
   ]
  },
  {
   "cell_type": "code",
   "execution_count": null,
   "metadata": {},
   "outputs": [],
   "source": []
  },
  {
   "cell_type": "code",
   "execution_count": null,
   "metadata": {},
   "outputs": [],
   "source": [
    "!docker build "
   ]
  },
  {
   "cell_type": "markdown",
   "metadata": {},
   "source": [
    "```\n",
    "gcloud container clusters create microblog-cluster --num-nodes=2\n",
    "```"
   ]
  },
  {
   "cell_type": "markdown",
   "metadata": {},
   "source": [
    "### Links: \n",
    "\n",
    "#### 1) [The flask mega-tutorial](https://blog.miguelgrinberg.com/)\n",
    "#### 2) [HTTPS on GKE](https://medium.com/a-little-bit/https-and-gke-6a0dc702603f)\n",
    "#### 3) [Install gcloud sdk](https://cloud.google.com/sdk/docs/quickstart-linux)\n",
    "#### 4) [Cluster access with kubectl](https://cloud.google.com/kubernetes-engine/docs/how-to/cluster-access-for-kubectl)\n",
    "#### 5) [Install docker on Debian](https://docs.docker.com/install/linux/docker-ce/debian/#install-docker-ce-1)\n",
    "#### 6) [Viacheslav's Ready-to-go Approach for machine learning on GCE](https://blog.kovalevskyi.com/semi-managed-jupyter-lab-with-access-to-google-cloud-resources-cc6f9e439416)\n",
    "#### 7) []()\n",
    "#### 8) []()\n",
    "#### 9) []()"
   ]
  },
  {
   "cell_type": "markdown",
   "metadata": {},
   "source": [
    "Follow [the gcloud sdk installation guide](https://cloud.google.com/sdk/docs/quickstart-linux) to install the gcloud SDK. Clean up older executables when prompted to do so.\n",
    "\n",
    "Perform the following to install the gcloud, kubectl and docker \n",
    "```\n",
    "# Cloud SDK (gcloud and friends)\n",
    "export CLOUD_SDK_REPO=\"cloud-sdk-$(lsb_release -c -s)\"\n",
    "echo \"deb http://packages.cloud.google.com/apt $CLOUD_SDK_REPO main\" | sudo tee -a /etc/apt/sources.list.d/google-cloud-sdk.list\n",
    "curl https://packages.cloud.google.com/apt/doc/apt-key.gpg | sudo apt-key add -\n",
    "sudo apt-get update && sudo apt-get install google-cloud-sdk\n",
    "\n",
    "# docker\n",
    "sudo apt-get install apt-transport-https ca-certificates curl gnupg2 software-properties-common\n",
    "curl -fsSL https://download.docker.com/linux/debian/gpg | sudo apt-key add -\n",
    "sudo add-apt-repository \"deb [arch=amd64] https://download.docker.com/linux/debian $(lsb_release -cs) stable\"\n",
    "sudo apt-get update\n",
    "sudo apt-get install docker-ce\n",
    "```\n",
    "The last command should indicate that your active account is a service account, created for you on the fly to access the GCP resources.\n",
    "\n",
    "Now the following command should succeed and create a small 2-node cluster for you"
   ]
  },
  {
   "cell_type": "code",
   "execution_count": 8,
   "metadata": {},
   "outputs": [
    {
     "name": "stdout",
     "output_type": "stream",
     "text": [
      "/home/wgiersche/workspace/venv3/bin:/usr/local/bin:/usr/bin:/bin:/usr/local/games:/usr/games\n"
     ]
    }
   ],
   "source": [
    "%%bash\n",
    "echo $PATH"
   ]
  },
  {
   "cell_type": "code",
   "execution_count": 1,
   "metadata": {},
   "outputs": [
    {
     "name": "stdout",
     "output_type": "stream",
     "text": [
      "/usr/bin/kubectl\n"
     ]
    }
   ],
   "source": [
    "!which kubectl"
   ]
  },
  {
   "cell_type": "code",
   "execution_count": 2,
   "metadata": {},
   "outputs": [
    {
     "name": "stdout",
     "output_type": "stream",
     "text": [
      "/usr/bin/gcloud\n"
     ]
    }
   ],
   "source": [
    "!which gcloud"
   ]
  },
  {
   "cell_type": "code",
   "execution_count": null,
   "metadata": {},
   "outputs": [],
   "source": [
    "gcloud container cluster "
   ]
  }
 ],
 "metadata": {
  "kernelspec": {
   "display_name": "Python 3",
   "language": "python",
   "name": "python3"
  },
  "language_info": {
   "codemirror_mode": {
    "name": "ipython",
    "version": 3
   },
   "file_extension": ".py",
   "mimetype": "text/x-python",
   "name": "python",
   "nbconvert_exporter": "python",
   "pygments_lexer": "ipython3",
   "version": "3.5.3"
  }
 },
 "nbformat": 4,
 "nbformat_minor": 2
}
