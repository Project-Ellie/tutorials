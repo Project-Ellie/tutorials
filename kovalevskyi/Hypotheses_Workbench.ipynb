{
 "cells": [
  {
   "cell_type": "code",
   "execution_count": 1,
   "metadata": {},
   "outputs": [],
   "source": [
    "from __future__ import division\n",
    "from __future__ import print_function\n",
    "from __future__ import absolute_import"
   ]
  },
  {
   "cell_type": "code",
   "execution_count": 2,
   "metadata": {},
   "outputs": [
    {
     "data": {
      "text/plain": [
       "'1.12.0'"
      ]
     },
     "execution_count": 2,
     "metadata": {},
     "output_type": "execute_result"
    }
   ],
   "source": [
    "import os\n",
    "import pandas as pd\n",
    "import tensorflow as tf\n",
    "import google.datalab.bigquery as dlbq\n",
    "tf.__version__"
   ]
  },
  {
   "cell_type": "markdown",
   "metadata": {},
   "source": [
    "---\n",
    "##### From Jupyter notebook to python package\n",
    "From exploration to production.\n",
    "\n",
    "This little tool dumps a given function to a file with the same name in a certain package"
   ]
  },
  {
   "cell_type": "code",
   "execution_count": 3,
   "metadata": {},
   "outputs": [],
   "source": [
    "PACKAGE=\"./train\"\n",
    "from tools import make_src_dumper\n",
    "write_py = make_src_dumper(PACKAGE)"
   ]
  },
  {
   "cell_type": "markdown",
   "metadata": {},
   "source": [
    "---\n",
    "# Hypotheses"
   ]
  },
  {
   "cell_type": "markdown",
   "metadata": {},
   "source": [
    "#### The Catalogue of hypotheses. \n",
    "Import this function and choose by key in your model_fn"
   ]
  },
  {
   "cell_type": "code",
   "execution_count": 4,
   "metadata": {},
   "outputs": [
    {
     "data": {
      "text/plain": [
       "'make_hypotheses written to ./train/make_hypotheses.py.'"
      ]
     },
     "execution_count": 4,
     "metadata": {},
     "output_type": "execute_result"
    }
   ],
   "source": [
    "def make_hypotheses():\n",
    "\n",
    "    from train.hypothesis_wd1 import hypothesis_wd1\n",
    "    from train.hypothesis_linear import hypothesis_linear\n",
    "    \n",
    "    return {\n",
    "        'wide_and_deep': hypothesis_wd1,\n",
    "        'linear': hypothesis_linear \n",
    "    }\n",
    "    \n",
    "write_py(make_hypotheses)"
   ]
  },
  {
   "cell_type": "markdown",
   "metadata": {},
   "source": [
    "#### Linear model"
   ]
  },
  {
   "cell_type": "code",
   "execution_count": 5,
   "metadata": {},
   "outputs": [
    {
     "data": {
      "text/plain": [
       "'hypothesis_linear written to ./train/hypothesis_linear.py.'"
      ]
     },
     "execution_count": 5,
     "metadata": {},
     "output_type": "execute_result"
    }
   ],
   "source": [
    "def hypothesis_linear(features, feature_columns, options):\n",
    "    \n",
    "    import tensorflow as tf\n",
    "    from train.train_tools import weight_summary\n",
    "\n",
    "    with tf.name_scope('Linear'):\n",
    "    \n",
    "        all_feature_columns = feature_columns['wide'] + feature_columns['deep']\n",
    "\n",
    "        input_layer = tf.feature_column.input_layer( \n",
    "            features, feature_columns=all_feature_columns)\n",
    "\n",
    "        out = tf.layers.dense(input_layer, 1, activation=None)\n",
    "        weight_summary(out)\n",
    "    \n",
    "    return out\n",
    "    \n",
    "write_py(hypothesis_linear)"
   ]
  },
  {
   "cell_type": "markdown",
   "metadata": {},
   "source": [
    "#### Deep and wide"
   ]
  },
  {
   "cell_type": "code",
   "execution_count": 6,
   "metadata": {},
   "outputs": [
    {
     "data": {
      "text/plain": [
       "'hypothesis_wd1 written to ./train/hypothesis_wd1.py.'"
      ]
     },
     "execution_count": 6,
     "metadata": {},
     "output_type": "execute_result"
    }
   ],
   "source": [
    "def hypothesis_wd1(features, feature_columns, options):\n",
    "    \n",
    "    import tensorflow as tf\n",
    "\n",
    "    \n",
    "    wide_input_layer = tf.feature_column.input_layer( \n",
    "        features, feature_columns=feature_columns['wide'])\n",
    "\n",
    "    deep_input_layer = tf.feature_column.input_layer( \n",
    "        features, feature_columns=feature_columns['deep'])\n",
    "\n",
    "    # 40 x 20\n",
    "    h1 = tf.layers.dense(deep_input_layer, 20, activation='relu')\n",
    "    \n",
    "    # 20 x 10\n",
    "    h2 = tf.layers.dense(h1, 10, activation='relu')\n",
    "\n",
    "    # 10 x 1\n",
    "    o1 = tf.layers.dense(h2, 1, activation=None)\n",
    "\n",
    "    o2 = tf.layers.dense(wide_input_layer, 1, activation=None)\n",
    "    \n",
    "    o = tf.concat([o1, o2], axis=1)\n",
    "    \n",
    "    hypothesis = tf.layers.dense(o, 1, activation=None)\n",
    "\n",
    "    return hypothesis\n",
    "    \n",
    "write_py(hypothesis_wd1)"
   ]
  },
  {
   "cell_type": "code",
   "execution_count": null,
   "metadata": {},
   "outputs": [],
   "source": []
  }
 ],
 "metadata": {
  "kernelspec": {
   "display_name": "Python 2",
   "language": "python",
   "name": "python2"
  },
  "language_info": {
   "codemirror_mode": {
    "name": "ipython",
    "version": 2
   },
   "file_extension": ".py",
   "mimetype": "text/x-python",
   "name": "python",
   "nbconvert_exporter": "python",
   "pygments_lexer": "ipython2",
   "version": "2.7.13"
  }
 },
 "nbformat": 4,
 "nbformat_minor": 2
}
