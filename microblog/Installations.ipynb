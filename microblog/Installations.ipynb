{
 "cells": [
  {
   "cell_type": "markdown",
   "metadata": {},
   "source": [
    "Follow [the gcloud sdk installation guide](https://cloud.google.com/sdk/docs/quickstart-linux) to install the gcloud SDK. Clean up older executables when prompted to do so.\n",
    "\n",
    "Perform the following to install the gcloud, kubectl and docker \n",
    "```\n",
    "# Cloud SDK (gcloud and friends)\n",
    "export CLOUD_SDK_REPO=\"cloud-sdk-$(lsb_release -c -s)\"\n",
    "echo \"deb http://packages.cloud.google.com/apt $CLOUD_SDK_REPO main\" | sudo tee -a /etc/apt/sources.list.d/google-cloud-sdk.list\n",
    "curl https://packages.cloud.google.com/apt/doc/apt-key.gpg | sudo apt-key add -\n",
    "sudo apt-get update && sudo apt-get install -y google-cloud-sdk\n",
    "sudo apt-get install -y kubectl\n",
    "\n",
    "# docker\n",
    "sudo apt-get install apt-transport-https ca-certificates curl gnupg2 software-properties-common\n",
    "curl -fsSL https://download.docker.com/linux/debian/gpg | sudo apt-key add -\n",
    "sudo add-apt-repository \"deb [arch=amd64] https://download.docker.com/linux/debian $(lsb_release -cs) stable\"\n",
    "sudo apt-get update\n",
    "sudo apt-get install -y docker-ce\n",
    "\n",
    "# Not sure whether this is really needed. Change to your service account.\n",
    "# Use gcloud auth list to identify your service account\n",
    "SERVICE_ACCOUNT=serviceAccount:1094881674505-compute@developer.gserviceaccount.com\n",
    "gsutil iam ch $SERVICE_ACCOUNT:admin gs://going-tfx\n",
    "\n",
    "# docker credential helper provides access to the image repo\n",
    "VERSION=1.5.0\n",
    "OS=linux\n",
    "ARCH=amd64\n",
    "curl -fsSL \"https://github.com/GoogleCloudPlatform/docker-credential-gcr/releases/download/v${VERSION}/docker-credential-gcr_${OS}_${ARCH}-${VERSION}.tar.gz\" | tar xz\n",
    "sudo mv docker-credential-gcr /usr/bin/docker-credential-gcr\n",
    "sudo chmod +x /usr/bin/docker-credential-gcr\n",
    "docker-credential-gcr\n",
    "```\n",
    "The last command should indicate that your active account is a service account, created for you on the fly to access the GCP resources.\n",
    "\n",
    "Now the following command should succeed and create a small 2-node cluster for you"
   ]
  },
  {
   "cell_type": "code",
   "execution_count": null,
   "metadata": {},
   "outputs": [],
   "source": []
  }
 ],
 "metadata": {
  "kernelspec": {
   "display_name": "Python 3",
   "language": "python",
   "name": "python3"
  },
  "language_info": {
   "codemirror_mode": {
    "name": "ipython",
    "version": 3
   },
   "file_extension": ".py",
   "mimetype": "text/x-python",
   "name": "python",
   "nbconvert_exporter": "python",
   "pygments_lexer": "ipython3",
   "version": "3.5.3"
  }
 },
 "nbformat": 4,
 "nbformat_minor": 2
}
