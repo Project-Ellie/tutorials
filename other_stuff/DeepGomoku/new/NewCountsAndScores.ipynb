{
 "cells": [
  {
   "cell_type": "code",
   "execution_count": 1,
   "metadata": {},
   "outputs": [],
   "source": [
    "%load_ext autoreload\n",
    "%autoreload 2"
   ]
  },
  {
   "cell_type": "code",
   "execution_count": 2,
   "metadata": {},
   "outputs": [],
   "source": [
    "from __future__ import print_function, absolute_import, division"
   ]
  },
  {
   "cell_type": "code",
   "execution_count": 3,
   "metadata": {},
   "outputs": [],
   "source": [
    "import numpy as np\n",
    "from GomokuBoard import GomokuBoard\n",
    "from GomokuTools import GomokuTools as gt\n",
    "from NH9x9 import NH9x9\n",
    "from NewHeuristics import NewHeuristics"
   ]
  },
  {
   "cell_type": "code",
   "execution_count": 4,
   "metadata": {},
   "outputs": [],
   "source": [
    "A,B,C,D,E,F,G,H,I,J,K,L,M,N,O,P,Q,R,S,T,U = \\\n",
    "    1,2,3,4,5,6,7,8,9,10,11,12,13,14,15,16,17,18,19,20,21\n",
    "BLACK=0\n",
    "WHITE=1\n",
    "EDGES=2"
   ]
  },
  {
   "cell_type": "markdown",
   "metadata": {},
   "source": [
    "## Single line scores"
   ]
  },
  {
   "cell_type": "markdown",
   "metadata": {},
   "source": [
    "```Heuristics``` pre-computes all counts and scores a initialization time "
   ]
  },
  {
   "cell_type": "code",
   "execution_count": 5,
   "metadata": {},
   "outputs": [],
   "source": [
    "h = NewHeuristics(kappa=3.0)"
   ]
  },
  {
   "cell_type": "markdown",
   "metadata": {},
   "source": [
    "Displaying the relevance count, which is a function of the number of offensive stones, their density, and open-ended-ness. Also displaying the score which adds some more fine-grained heuristic relevance aspects."
   ]
  },
  {
   "cell_type": "code",
   "execution_count": 6,
   "metadata": {},
   "outputs": [
    {
     "data": {
      "text/plain": [
       "[24, 4]"
      ]
     },
     "execution_count": 6,
     "metadata": {},
     "output_type": "execute_result"
    }
   ],
   "source": [
    "gt.line_for_xo('...xxo..')"
   ]
  },
  {
   "cell_type": "code",
   "execution_count": 7,
   "metadata": {},
   "outputs": [
    {
     "data": {
      "text/plain": [
       "3.5"
      ]
     },
     "execution_count": 7,
     "metadata": {},
     "output_type": "execute_result"
    }
   ],
   "source": [
    "h.line_score_for(24,4)"
   ]
  },
  {
   "cell_type": "code",
   "execution_count": 8,
   "metadata": {},
   "outputs": [
    {
     "data": {
      "text/plain": [
       "3.5"
      ]
     },
     "execution_count": 8,
     "metadata": {},
     "output_type": "execute_result"
    }
   ],
   "source": [
    "h.lookup_line_score(24,4)"
   ]
  },
  {
   "cell_type": "code",
   "execution_count": 9,
   "metadata": {},
   "outputs": [
    {
     "data": {
      "text/plain": [
       "array([[6.9, 8. ]])"
      ]
     },
     "execution_count": 9,
     "metadata": {},
     "output_type": "execute_result"
    }
   ],
   "source": [
    "h.lookup_total_scores(np.array([[[4, 5, 0, 0],[4, 7.5, 0, 0]]]))"
   ]
  },
  {
   "cell_type": "code",
   "execution_count": 10,
   "metadata": {},
   "outputs": [
    {
     "name": "stdout",
     "output_type": "stream",
     "text": [
      "...ox... 0.5\n",
      "...x..xo 1.5\n",
      ".....x.. 2.0\n",
      "...x.xo. 2.5\n",
      "...x..x. 3.0\n",
      "...xxo.. 3.5\n",
      "xx...... 3.5\n",
      "...x.x.. 4.0\n",
      "..oxx.x. 4.5\n",
      "...xx... 5.0\n",
      ".xx..... 5.0\n",
      ".....xxx 5.5\n",
      "...xxxo. 5.5\n",
      "...xx.x. 6.0\n",
      "...xxx.. 7.0\n",
      ".oxxxx.. 7.5\n",
      "..xxxx.. 9.0\n"
     ]
    }
   ],
   "source": [
    "for i in [\n",
    "    '...ox...',\n",
    "    '...x..xo',\n",
    "    '.....x..',\n",
    "    '...x.xo.',\n",
    "    '...x..x.',\n",
    "    '...xxo..',\n",
    "    'xx......',\n",
    "    '...x.x..',\n",
    "    '..oxx.x.',\n",
    "    '...xx...',\n",
    "    '.xx.....',\n",
    "    '.....xxx',\n",
    "    '...xxxo.',\n",
    "    '...xx.x.',\n",
    "    '...xxx..',\n",
    "    '.oxxxx..',\n",
    "    '..xxxx..']:\n",
    "    print(i, h.lookup_line_score(*gt.line_for_xo(i)))"
   ]
  },
  {
   "cell_type": "markdown",
   "metadata": {},
   "source": [
    "## Multi-line (neighbourhood) scores"
   ]
  },
  {
   "cell_type": "code",
   "execution_count": 11,
   "metadata": {},
   "outputs": [],
   "source": [
    "line_counts=9-(np.sqrt(np.random.randint(0,18**2, [5, 5, 4]))).astype(int)/2"
   ]
  },
  {
   "cell_type": "code",
   "execution_count": 12,
   "metadata": {},
   "outputs": [
    {
     "data": {
      "text/plain": [
       "array([[[1.5, 5. , 8.5, 5. ],\n",
       "        [1.5, 2. , 0.5, 4.5],\n",
       "        [3.5, 4.5, 1. , 4. ],\n",
       "        [1. , 7. , 1. , 4. ],\n",
       "        [1. , 2.5, 1.5, 0.5]],\n",
       "\n",
       "       [[2. , 2. , 3. , 0.5],\n",
       "        [3. , 2. , 2. , 5.5],\n",
       "        [0.5, 4.5, 1. , 1. ],\n",
       "        [7. , 1. , 1.5, 2.5],\n",
       "        [3.5, 3. , 5. , 1.5]],\n",
       "\n",
       "       [[3. , 4.5, 1. , 6.5],\n",
       "        [3.5, 1. , 1.5, 1.5],\n",
       "        [2.5, 3.5, 2. , 1. ],\n",
       "        [6. , 3. , 1.5, 4. ],\n",
       "        [2.5, 2. , 1.5, 1.5]],\n",
       "\n",
       "       [[3.5, 1. , 5. , 3. ],\n",
       "        [5.5, 5. , 3. , 2. ],\n",
       "        [2.5, 5. , 6. , 3. ],\n",
       "        [0.5, 2. , 3. , 4.5],\n",
       "        [6.5, 2. , 3. , 1.5]],\n",
       "\n",
       "       [[0.5, 4. , 2. , 0.5],\n",
       "        [1.5, 7. , 6.5, 8.5],\n",
       "        [0.5, 3. , 7. , 4. ],\n",
       "        [6. , 5. , 2. , 2. ],\n",
       "        [4. , 3. , 2.5, 8. ]]])"
      ]
     },
     "execution_count": 12,
     "metadata": {},
     "output_type": "execute_result"
    }
   ],
   "source": [
    "line_counts"
   ]
  },
  {
   "cell_type": "code",
   "execution_count": 13,
   "metadata": {},
   "outputs": [
    {
     "data": {
      "text/plain": [
       "array([[8.        , 4.62801119, 7.        , 7.        , 2.66840165],\n",
       "       [3.27106631, 5.78273702, 4.51640106, 7.        , 5.5164795 ],\n",
       "       [7.        , 3.58952718, 3.88196804, 7.        , 2.86939677],\n",
       "       [5.5164795 , 6.9       , 7.        , 4.90659947, 6.70639473],\n",
       "       [4.16016765, 8.        , 7.        , 7.        , 8.        ]])"
      ]
     },
     "execution_count": 13,
     "metadata": {},
     "output_type": "execute_result"
    }
   ],
   "source": [
    "h.lookup_total_scores(line_counts)"
   ]
  },
  {
   "cell_type": "markdown",
   "metadata": {},
   "source": [
    "---\n",
    "Some tools for visualization"
   ]
  },
  {
   "cell_type": "code",
   "execution_count": 14,
   "metadata": {},
   "outputs": [],
   "source": [
    "def nhforxo(e,ne='........', n='........', nw='........'):\n",
    "    \"\"\"\n",
    "    Neighbourhood from xo-strings\n",
    "    \"\"\"\n",
    "    lines = np.array([gt.line_for_xo(xo) for xo in [e,ne,n,nw]])\n",
    "    lines = np.rollaxis(lines, 1, 0)\n",
    "    return NH9x9(*lines)"
   ]
  },
  {
   "cell_type": "code",
   "execution_count": 15,
   "metadata": {},
   "outputs": [],
   "source": [
    "def dsc(h, e,ne='........',n='........', nw='........', kappa=1.2):\n",
    "    \"\"\"\n",
    "    Display the neighbourhood and its score\n",
    "    \"\"\"\n",
    "    counts = [h.lookup_line_score(*gt.line_for_xo(s)) for s in [e,ne,n,nw]]\n",
    "    print(counts)\n",
    "    print(h.lookup_total_scores(np.array([[counts]])))\n",
    "    print(nhforxo(e,ne,n,nw))"
   ]
  },
  {
   "cell_type": "markdown",
   "metadata": {},
   "source": [
    "---"
   ]
  },
  {
   "cell_type": "markdown",
   "metadata": {},
   "source": [
    "#### Not strictly dangerous, yet."
   ]
  },
  {
   "cell_type": "code",
   "execution_count": 16,
   "metadata": {},
   "outputs": [
    {
     "name": "stdout",
     "output_type": "stream",
     "text": [
      "[5.5, 0.0, 0.0, 0.0]\n",
      "[[5.5]]\n",
      "|                 |\n",
      "|                 |\n",
      "|                 |\n",
      "|                 |\n",
      "|        *   x x x|\n",
      "|                 |\n",
      "|                 |\n",
      "|                 |\n",
      "|                 |\n"
     ]
    }
   ],
   "source": [
    "dsc(h, '.....xxx')"
   ]
  },
  {
   "cell_type": "code",
   "execution_count": 17,
   "metadata": {},
   "outputs": [
    {
     "name": "stdout",
     "output_type": "stream",
     "text": [
      "[5.5, 5.0, 0.0, 0.0]\n",
      "[[6.9]]\n",
      "|                 |\n",
      "|                 |\n",
      "|            x    |\n",
      "|          x      |\n",
      "|        *   x x x|\n",
      "|                 |\n",
      "|                 |\n",
      "|                 |\n",
      "|                 |\n"
     ]
    }
   ],
   "source": [
    "dsc(h, '.....xxx', '....xx..')"
   ]
  },
  {
   "cell_type": "code",
   "execution_count": 18,
   "metadata": {},
   "outputs": [
    {
     "name": "stdout",
     "output_type": "stream",
     "text": [
      "[5.0, 2.5, 0.0, 0.0]\n",
      "[[5.20020956]]\n",
      "|                 |\n",
      "|              o  |\n",
      "|            x    |\n",
      "|                 |\n",
      "|      x * x     o|\n",
      "|      x          |\n",
      "|                 |\n",
      "|                 |\n",
      "|                 |\n"
     ]
    }
   ],
   "source": [
    "dsc(h, '...xx..o', '...x.xo.')"
   ]
  },
  {
   "cell_type": "code",
   "execution_count": 19,
   "metadata": {},
   "outputs": [
    {
     "name": "stdout",
     "output_type": "stream",
     "text": [
      "[5.5, 2.0, 0.0, 0.0]\n",
      "[[5.5867779]]\n",
      "|                 |\n",
      "|                 |\n",
      "|                 |\n",
      "|                 |\n",
      "|      x * x x o  |\n",
      "|                 |\n",
      "|    x            |\n",
      "|                 |\n",
      "|                 |\n"
     ]
    }
   ],
   "source": [
    "dsc(h, '...xxxo.','..x.....')"
   ]
  },
  {
   "cell_type": "markdown",
   "metadata": {},
   "source": [
    "### Soft attack"
   ]
  },
  {
   "cell_type": "code",
   "execution_count": 20,
   "metadata": {},
   "outputs": [
    {
     "name": "stdout",
     "output_type": "stream",
     "text": [
      "[4.0, 5.0, 0.0, 0.0]\n",
      "[[6.9]]\n",
      "|                 |\n",
      "|                 |\n",
      "|                 |\n",
      "|          x      |\n",
      "|      x *   x   o|\n",
      "|      x          |\n",
      "|                 |\n",
      "|                 |\n",
      "|                 |\n"
     ]
    }
   ],
   "source": [
    "dsc(h, '...x.x.o', '...xx...')"
   ]
  },
  {
   "cell_type": "code",
   "execution_count": 21,
   "metadata": {},
   "outputs": [
    {
     "name": "stdout",
     "output_type": "stream",
     "text": [
      "[5.0, 5.0, 0.0, 0.0]\n",
      "[[6.9]]\n",
      "|                 |\n",
      "|                 |\n",
      "|                 |\n",
      "|          x      |\n",
      "|      x * x     o|\n",
      "|      x          |\n",
      "|                 |\n",
      "|                 |\n",
      "|                 |\n"
     ]
    }
   ],
   "source": [
    "dsc(h, '...xx..o', '...xx...')"
   ]
  },
  {
   "cell_type": "markdown",
   "metadata": {},
   "source": [
    "#### Hard attack"
   ]
  },
  {
   "cell_type": "code",
   "execution_count": 22,
   "metadata": {},
   "outputs": [
    {
     "name": "stdout",
     "output_type": "stream",
     "text": [
      "[5.5, 5.0, 0.0, 0.0]\n",
      "[[6.9]]\n",
      "|                 |\n",
      "|                 |\n",
      "|                 |\n",
      "|                 |\n",
      "|      x * x x o  |\n",
      "|                 |\n",
      "|    x            |\n",
      "|  x              |\n",
      "|                 |\n"
     ]
    }
   ],
   "source": [
    "dsc(h, '...xxxo.','.xx.....')"
   ]
  },
  {
   "cell_type": "markdown",
   "metadata": {},
   "source": [
    "#### Fatal"
   ]
  },
  {
   "cell_type": "code",
   "execution_count": 23,
   "metadata": {},
   "outputs": [
    {
     "name": "stdout",
     "output_type": "stream",
     "text": [
      "[7.0, 0.0, 0.0, 0.0]\n",
      "[[7.]]\n",
      "|                 |\n",
      "|                 |\n",
      "|                 |\n",
      "|                 |\n",
      "|      x * x x   o|\n",
      "|                 |\n",
      "|                 |\n",
      "|                 |\n",
      "|                 |\n"
     ]
    }
   ],
   "source": [
    "dsc(h, '...xxx.o')"
   ]
  },
  {
   "cell_type": "markdown",
   "metadata": {},
   "source": [
    "#### Dead"
   ]
  },
  {
   "cell_type": "code",
   "execution_count": 24,
   "metadata": {},
   "outputs": [
    {
     "name": "stdout",
     "output_type": "stream",
     "text": [
      "[7.5, 0.0, 0.0, 0.0]\n",
      "[[8.]]\n",
      "|                 |\n",
      "|                 |\n",
      "|                 |\n",
      "|                 |\n",
      "|      x * x x x o|\n",
      "|                 |\n",
      "|                 |\n",
      "|                 |\n",
      "|                 |\n"
     ]
    }
   ],
   "source": [
    "dsc(h, '...xxxxo')"
   ]
  },
  {
   "cell_type": "markdown",
   "metadata": {},
   "source": [
    "---\n",
    "## Scoring the entire board"
   ]
  },
  {
   "cell_type": "code",
   "execution_count": 25,
   "metadata": {},
   "outputs": [
    {
     "data": {
      "image/png": "[encoded data removed]",
      "text/plain": [
       "<Figure size 432x432 with 1 Axes>"
      ]
     },
     "metadata": {
      "needs_background": "light"
     },
     "output_type": "display_data"
    }
   ],
   "source": [
    "board=GomokuBoard(NewHeuristics(kappa=3.0))\n",
    "board.set(I,1).set(J,1).set(K,3).set(J,2).display()"
   ]
  },
  {
   "cell_type": "markdown",
   "metadata": {},
   "source": [
    "We'll be looking at the neighbourhood of position (J,3)."
   ]
  },
  {
   "cell_type": "code",
   "execution_count": 26,
   "metadata": {},
   "outputs": [
    {
     "data": {
      "text/plain": [
       "|                 |\n",
       "|                 |\n",
       "|                 |\n",
       "|                 |\n",
       "|        * x      |\n",
       "|        o        |\n",
       "|        o        |\n",
       "|  +     +     +  |\n",
       "|                 |"
      ]
     },
     "execution_count": 26,
     "metadata": {},
     "output_type": "execute_result"
    }
   ],
   "source": [
    "board.getnh(J,3)"
   ]
  },
  {
   "cell_type": "code",
   "execution_count": 27,
   "metadata": {},
   "outputs": [
    {
     "data": {
      "text/plain": [
       "(array([8, 0, 0, 0]), array([ 0,  0, 48,  0]), array([ 0, 64, 64, 64]))"
      ]
     },
     "execution_count": 27,
     "metadata": {},
     "output_type": "execute_result"
    }
   ],
   "source": [
    "board.lines[0][12][9], board.lines[1][12][9], board.lines[2][12][9]"
   ]
  },
  {
   "cell_type": "markdown",
   "metadata": {},
   "source": [
    "#### Black's perspective"
   ]
  },
  {
   "cell_type": "markdown",
   "metadata": {},
   "source": [
    "Calculating indices for the count/score lookup"
   ]
  },
  {
   "cell_type": "code",
   "execution_count": 28,
   "metadata": {},
   "outputs": [],
   "source": [
    "b_indices = 256*board.lines[BLACK]+(board.lines[WHITE] | board.lines[EDGES])"
   ]
  },
  {
   "cell_type": "code",
   "execution_count": 29,
   "metadata": {},
   "outputs": [
    {
     "data": {
      "text/plain": [
       "(15, 15, 4)"
      ]
     },
     "execution_count": 29,
     "metadata": {},
     "output_type": "execute_result"
    }
   ],
   "source": [
    "b_indices.shape"
   ]
  },
  {
   "cell_type": "markdown",
   "metadata": {},
   "source": [
    "Noticed? This is lookup by array: super-efficient!"
   ]
  },
  {
   "cell_type": "code",
   "execution_count": 30,
   "metadata": {},
   "outputs": [],
   "source": [
    "b_scores = h.line_scores[b_indices]\n",
    "b_counts = h.line_scores[b_indices]"
   ]
  },
  {
   "cell_type": "code",
   "execution_count": 31,
   "metadata": {},
   "outputs": [
    {
     "data": {
      "text/plain": [
       "(15, 15, 4)"
      ]
     },
     "execution_count": 31,
     "metadata": {},
     "output_type": "execute_result"
    }
   ],
   "source": [
    "b_counts.shape"
   ]
  },
  {
   "cell_type": "code",
   "execution_count": 32,
   "metadata": {},
   "outputs": [
    {
     "data": {
      "text/plain": [
       "array([2., 0., 0., 0.])"
      ]
     },
     "execution_count": 32,
     "metadata": {},
     "output_type": "execute_result"
    }
   ],
   "source": [
    "# This is position (J,3): a single black stone on the eastern line\n",
    "b_counts[12][9]"
   ]
  },
  {
   "cell_type": "markdown",
   "metadata": {},
   "source": [
    "#### White's perspective"
   ]
  },
  {
   "cell_type": "code",
   "execution_count": 33,
   "metadata": {},
   "outputs": [],
   "source": [
    "w_indices = 256*board.lines[1]+(board.lines[0] | board.lines[2])"
   ]
  },
  {
   "cell_type": "code",
   "execution_count": 34,
   "metadata": {},
   "outputs": [],
   "source": [
    "w_scores = h.line_scores[w_indices]\n",
    "w_counts = h.line_scores[w_indices]"
   ]
  },
  {
   "cell_type": "code",
   "execution_count": 35,
   "metadata": {},
   "outputs": [
    {
     "data": {
      "text/plain": [
       "array([0. , 0. , 3.5, 0. ])"
      ]
     },
     "execution_count": 35,
     "metadata": {},
     "output_type": "execute_result"
    }
   ],
   "source": [
    "# This is position (J,3) - two stones facing north with one open end\n",
    "w_counts[12][9]"
   ]
  },
  {
   "cell_type": "code",
   "execution_count": 36,
   "metadata": {},
   "outputs": [
    {
     "data": {
      "text/plain": [
       "3.5"
      ]
     },
     "execution_count": 36,
     "metadata": {},
     "output_type": "execute_result"
    }
   ],
   "source": [
    "# compare: two stones, one open end\n",
    "h.lookup_line_score(*gt.line_for_xo('.oxx....'))"
   ]
  },
  {
   "cell_type": "markdown",
   "metadata": {},
   "source": [
    "# Let's play"
   ]
  },
  {
   "cell_type": "code",
   "execution_count": 37,
   "metadata": {},
   "outputs": [
    {
     "data": {
      "image/png": "[encoded data removed]",
      "text/plain": [
       "<Figure size 576x576 with 1 Axes>"
      ]
     },
     "metadata": {
      "needs_background": "light"
     },
     "output_type": "display_data"
    }
   ],
   "source": [
    "board = GomokuBoard(h, N=15, disp_width=8)\n",
    "board.set(H,8).set('G',6).set(G,8).set(F,8).set(H,9).set(H,10)\n",
    "board.display('current');"
   ]
  },
  {
   "cell_type": "code",
   "execution_count": 38,
   "metadata": {},
   "outputs": [],
   "source": [
    "def position(board, index, viewpoint):\n",
    "    x,y,vv = pos_and_scores(board, index, viewpoint)\n",
    "    return \"(%s, %s): %1.2f\" % (chr(x+64),y,vv)    "
   ]
  },
  {
   "cell_type": "code",
   "execution_count": 39,
   "metadata": {},
   "outputs": [],
   "source": [
    "def pos_and_scores(board, index, viewpoint):\n",
    "        mpos = np.divmod(index, 15)\n",
    "        bpos = gt.m2b(mpos, 15)\n",
    "        return (bpos[0], bpos[1], \n",
    "            board.scores[viewpoint][mpos[0]][mpos[1]])"
   ]
  },
  {
   "cell_type": "code",
   "execution_count": 40,
   "metadata": {},
   "outputs": [
    {
     "name": "stdout",
     "output_type": "stream",
     "text": [
      "(G, 7): 2.01\n"
     ]
    },
    {
     "data": {
      "text/plain": [
       "(7, 7, 2.010362879294529)"
      ]
     },
     "execution_count": 40,
     "metadata": {},
     "output_type": "execute_result"
    }
   ],
   "source": [
    "print(position(board, 126, 0))\n",
    "pos_and_scores(board, 126, 0)"
   ]
  },
  {
   "cell_type": "markdown",
   "metadata": {},
   "source": [
    "#### best offensive/defensive"
   ]
  },
  {
   "cell_type": "code",
   "execution_count": 41,
   "metadata": {},
   "outputs": [
    {
     "name": "stdout",
     "output_type": "stream",
     "text": [
      "Black to move\n",
      "Best offensive: (J, 11): 5.00\n",
      "Best defensive: (G, 9): 5.00\n",
      "Best mixed:   (G, 9): 7.52\n"
     ]
    },
    {
     "data": {
      "image/png": "[encoded data removed]",
      "text/plain": [
       "<Figure size 576x576 with 1 Axes>"
      ]
     },
     "metadata": {
      "needs_background": "light"
     },
     "output_type": "display_data"
    }
   ],
   "source": [
    "viewpoint = board.current_color\n",
    "o, d  = np.argmax(board.scores[1-viewpoint]), np.argmax(board.scores[viewpoint]) \n",
    "sum_scores = board.scores[viewpoint] + board.scores[1-viewpoint]\n",
    "s = np.argmax(sum_scores)\n",
    "#print(b,w,s)\n",
    "print((\"Black\" if viewpoint==1 else \"White\") + \" to move\")\n",
    "\n",
    "xo, yo, vo = pos_and_scores(board, o, 1-viewpoint)\n",
    "xd, yd, vd = pos_and_scores(board, d, viewpoint)\n",
    "\n",
    "if vo > 7.0:\n",
    "    print(\"Immediate win at position (%s, %s)\" % (chr(xo+64), yo))\n",
    "elif vd > 7.0:\n",
    "    if sorted(board.scores[viewpoint].reshape(15*15))[-2] > 7.0:\n",
    "        print(\"Two or more immediate threats. Giving up.\")\n",
    "    print(\"Defending immediate threat at (%s, %s)\" % (chr(xd+64), yd))\n",
    "elif vo == 7.0:\n",
    "    print(\"Win-in-2 at position (%s, %s)\" % (chr(xo+64), yo))\n",
    "elif vd == 7.0:\n",
    "    print(\"Defending Win-in-2 at (%s, %s)\" % (chr(xd+64), yd))\n",
    "\n",
    "elif vo == 6.9:\n",
    "    print(\"Soft-win-in-2 at position (%s, %s)\" % (chr(xo+64), yo))\n",
    "elif vd == 6.9:\n",
    "    print(\"Defending Soft-win-in-2 at (%s, %s)\" % (chr(xd+64), yd))\n",
    "else:    \n",
    "    print(\"Best offensive: \" + position(board, o, 1-viewpoint))\n",
    "    print(\"Best defensive: \" + position(board, d, viewpoint))\n",
    "    mpos = np.divmod(s, 15)\n",
    "    x,y = gt.m2b(mpos, 15)\n",
    "    sv = sum_scores[mpos[0]][mpos[1]]\n",
    "    print(\"Best mixed:   \" + \"(%s, %s): %1.2f\" % (chr(x+64),y,sv))\n",
    "\n",
    "board.display('current')"
   ]
  },
  {
   "cell_type": "markdown",
   "metadata": {},
   "source": [
    "### A non-deterministic policy for non-critical situations"
   ]
  },
  {
   "cell_type": "markdown",
   "metadata": {},
   "source": [
    "#### Sort all scores with their indices"
   ]
  },
  {
   "cell_type": "code",
   "execution_count": 42,
   "metadata": {},
   "outputs": [
    {
     "data": {
      "text/plain": [
       "[((7, 10), 3.4999999999999996),\n",
       " ((9, 7), 3.4999999999999996),\n",
       " ((10, 3), 3.4999999999999996),\n",
       " ((10, 7), 3.4999999999999996),\n",
       " ((7, 8), 3.7053975277103093),\n",
       " ((8, 7), 3.7053975277103093),\n",
       " ((4, 9), 4.999999999999999),\n",
       " ((5, 8), 4.999999999999999),\n",
       " ((8, 5), 4.999999999999999),\n",
       " ((9, 4), 4.999999999999999)]"
      ]
     },
     "execution_count": 42,
     "metadata": {},
     "output_type": "execute_result"
    }
   ],
   "source": [
    "from operator import itemgetter\n",
    "\n",
    "w_o, w_d = 0.5, 0.5 # relative weights\n",
    "oscores = board.scores[1-viewpoint]\n",
    "dscores = board.scores[viewpoint]\n",
    "sscores = w_o * oscores + w_d * dscores\n",
    "top10_o = sorted(list(np.ndenumerate(oscores)), key=itemgetter(1))[-10:]\n",
    "top10_d = sorted(list(np.ndenumerate(dscores)), key=itemgetter(1))[-10:]\n",
    "top10_s = sorted(list(np.ndenumerate(sscores)), key=itemgetter(1))[-10:]\n",
    "top10_o"
   ]
  },
  {
   "cell_type": "markdown",
   "metadata": {},
   "source": [
    "#### Extract the values "
   ]
  },
  {
   "cell_type": "code",
   "execution_count": 43,
   "metadata": {},
   "outputs": [
    {
     "data": {
      "text/plain": [
       "[2.4999999999999996,\n",
       " 2.75,\n",
       " 2.75,\n",
       " 2.8526987638551544,\n",
       " 2.8526987638551544,\n",
       " 3.009921049894873,\n",
       " 3.4999999999999996,\n",
       " 3.4999999999999996,\n",
       " 3.7599210498948725,\n",
       " 3.7599210498948725]"
      ]
     },
     "execution_count": 43,
     "metadata": {},
     "output_type": "execute_result"
    }
   ],
   "source": [
    "values = [v for _,v in top10_s]\n",
    "positions = [p for p,_ in top10_s]\n",
    "values"
   ]
  },
  {
   "cell_type": "markdown",
   "metadata": {},
   "source": [
    "#### Softmax: Higher scores get more likely selected"
   ]
  },
  {
   "cell_type": "code",
   "execution_count": 44,
   "metadata": {},
   "outputs": [
    {
     "data": {
      "text/plain": [
       "array([0.04862426, 0.06243479, 0.06243479, 0.06918758, 0.06918758,\n",
       "       0.08096716, 0.13217444, 0.13217444, 0.17140748, 0.17140748])"
      ]
     },
     "execution_count": 44,
     "metadata": {},
     "output_type": "execute_result"
    }
   ],
   "source": [
    "scoreMatExp = np.exp(np.asarray(values))\n",
    "probs = scoreMatExp / scoreMatExp.sum(0)\n",
    "probs"
   ]
  },
  {
   "cell_type": "markdown",
   "metadata": {},
   "source": [
    "#### Draw by arbitrarily choosing from appropriately-sized buckets"
   ]
  },
  {
   "cell_type": "code",
   "execution_count": 45,
   "metadata": {},
   "outputs": [
    {
     "data": {
      "text/plain": [
       "[0,\n",
       " 0.0486242605560332,\n",
       " 0.11105904697762707,\n",
       " 0.17349383339922095,\n",
       " 0.24268141283588548,\n",
       " 0.31186899227255005,\n",
       " 0.39283615261909993,\n",
       " 0.5250105965108229,\n",
       " 0.6571850404025459,\n",
       " 0.8285925202012729,\n",
       " 1.0]"
      ]
     },
     "execution_count": 45,
     "metadata": {},
     "output_type": "execute_result"
    }
   ],
   "source": [
    "boundaries = [0]+list(np.cumsum(probs))\n",
    "boundaries"
   ]
  },
  {
   "cell_type": "code",
   "execution_count": 46,
   "metadata": {},
   "outputs": [
    {
     "data": {
      "text/plain": [
       "[(0, (4, 9)),\n",
       " (0.0486242605560332, (7, 9)),\n",
       " (0.11105904697762707, (10, 7)),\n",
       " (0.17349383339922095, (7, 8)),\n",
       " (0.24268141283588548, (8, 7)),\n",
       " (0.31186899227255005, (9, 7)),\n",
       " (0.39283615261909993, (5, 8)),\n",
       " (0.5250105965108229, (9, 4)),\n",
       " (0.6571850404025459, (6, 6)),\n",
       " (0.8285925202012729, (8, 5))]"
      ]
     },
     "execution_count": 46,
     "metadata": {},
     "output_type": "execute_result"
    }
   ],
   "source": [
    "choices = list(zip(boundaries[:-1], positions))\n",
    "choices"
   ]
  },
  {
   "cell_type": "code",
   "execution_count": 47,
   "metadata": {},
   "outputs": [
    {
     "name": "stdout",
     "output_type": "stream",
     "text": [
      "(8, 7)\n"
     ]
    }
   ],
   "source": [
    "r = np.random.uniform(0,1)\n",
    "for i in choices[::-1]:\n",
    "    if r > i[0]:\n",
    "        print(i[1])\n",
    "        break"
   ]
  },
  {
   "cell_type": "markdown",
   "metadata": {},
   "source": [
    "### Wrap it up in a policy class"
   ]
  },
  {
   "cell_type": "code",
   "execution_count": 48,
   "metadata": {},
   "outputs": [],
   "source": [
    "class Move:\n",
    "    def __init__(self, x, y, comment, status):\n",
    "        self.status=0 # 0: ongoing, -1: giving up, 1: declaring victory\n",
    "        self.x = x\n",
    "        self.y = y\n",
    "        self.comment = comment\n",
    "        \n",
    "    def __repr__(self):\n",
    "        return self.comment+ (\"\" if self.status != 0 \n",
    "                              else \": (%s, %s)\" % (chr(self.x+64), self.y))"
   ]
  },
  {
   "cell_type": "code",
   "execution_count": 49,
   "metadata": {},
   "outputs": [],
   "source": [
    "class HeuristicGomokuPolicy:\n",
    "    def __init__(self, board, style, strictness=0.0):\n",
    "        self.strictness = strictness\n",
    "        self.board = board\n",
    "        self.style = style # 0=aggressive, 1=defensive, 2=mixed\n",
    "    \n",
    "    def pos_and_scores(self, index, viewpoint):\n",
    "        \"index: the index of the scored position in a flattened array\"\n",
    "        mpos = np.divmod(index, 15)\n",
    "        bpos = gt.m2b(mpos, 15)\n",
    "        return (bpos[0], bpos[1], \n",
    "            self.board.scores[viewpoint][mpos[0]][mpos[1]])\n",
    "    \n",
    "    def most_critical_pos(self):\n",
    "        \"If this function returns not None, take the move or die.\"\n",
    "    \n",
    "        viewpoint = self.board.current_color\n",
    "        o = np.argmax(self.board.scores[1-viewpoint])\n",
    "        d = np.argmax(self.board.scores[viewpoint]) \n",
    "        xo, yo, vo = self.pos_and_scores(o, 1-self.board.current_color)\n",
    "        xd, yd, vd = self.pos_and_scores(d, self.board.current_color)\n",
    "        #print(xo, yo, vo)\n",
    "        #print(xd, yd, vd)\n",
    "        if vo > 7.0:\n",
    "            return Move(xo, yo, \"Immediate win\", 1)\n",
    "        elif vd > 7.0:\n",
    "            if sorted(self.board.scores[viewpoint].reshape(15*15))[-2] > 7.0:\n",
    "                return Move(0,0,\"Two or more immediate threats. Giving up.\", -1)\n",
    "            return Move (xd, yd, \"Defending immediate threat\", 0)\n",
    "        elif vo == 7.0:\n",
    "            return Move(xo, yo, \"Win-in-2\", 1)\n",
    "        elif vd == 7.0:\n",
    "            return Move(xd, yd, \"Defending Win-in-2\", 0)\n",
    "\n",
    "        elif vo == 6.9:\n",
    "            return Move(xo, yo, \"Soft-win-in-2\", 0)\n",
    "        elif vd == 6.9:\n",
    "            return Move(xd, yd, \"Defending Soft-win-in-2\", 0)\n",
    "        else:\n",
    "            return None\n",
    "        \n",
    "        \n",
    "    def suggest(self):\n",
    "        critical = self.most_critical_pos()\n",
    "        if critical is not None:\n",
    "            return critical\n",
    "        else:\n",
    "            suggestions = self.suggest_from_top10()\n",
    "            r_c = suggestions[self.style]\n",
    "            x, y = gt.m2b(r_c, board.N)\n",
    "            return Move(x, y, \"Style: %s\" % self.style, 0)\n",
    "\n",
    "        \n",
    "    def suggest_from_top10(self):\n",
    "        from operator import itemgetter\n",
    "\n",
    "        viewpoint = self.board.current_color\n",
    "        w_o, w_d = 0.5, 0.5 # relative weights\n",
    "        oscores = self.board.scores[1-viewpoint] # offensive scores\n",
    "        dscores = self.board.scores[viewpoint] # defensive scores\n",
    "        sscores = w_o * oscores + w_d * dscores # weighted sum of both scores\n",
    "\n",
    "        top10s = [sorted(list(np.ndenumerate(score)), key=itemgetter(1))[-10:] \n",
    "                  for score in [oscores, dscores, sscores]]\n",
    "\n",
    "        suggestions=[]\n",
    "        for top10 in top10s:\n",
    "            values = [v for _,v in top10]\n",
    "            positions = [p for p,_ in top10]\n",
    "\n",
    "            probs = np.exp(np.asarray(values))\n",
    "            probs = probs / scoreMatExp.sum(0)\n",
    "\n",
    "            multiplier = (np.arange(10)+1)*self.strictness+1\n",
    "            probs*=multiplier\n",
    "            \n",
    "            boundaries = [0]+list(np.cumsum(probs))\n",
    "            choices = list(zip(boundaries[:-1], positions))\n",
    "            suggestions.append(self.draw(choices))\n",
    "\n",
    "        return suggestions\n",
    "\n",
    "    \n",
    "    def draw(self, choices):\n",
    "        r = np.random.uniform(0,1)\n",
    "        for i in choices[::-1]:\n",
    "            if r > i[0]:\n",
    "                return i[1]\n"
   ]
  },
  {
   "cell_type": "code",
   "execution_count": 50,
   "metadata": {},
   "outputs": [],
   "source": [
    "p = HeuristicGomokuPolicy(board, 0, strictness=1.0)"
   ]
  },
  {
   "cell_type": "code",
   "execution_count": 51,
   "metadata": {},
   "outputs": [
    {
     "data": {
      "text/plain": [
       "(7, 7, 2.010362879294529)"
      ]
     },
     "execution_count": 51,
     "metadata": {},
     "output_type": "execute_result"
    }
   ],
   "source": [
    "p.pos_and_scores(126, 0)"
   ]
  },
  {
   "cell_type": "code",
   "execution_count": 52,
   "metadata": {},
   "outputs": [],
   "source": [
    "p.most_critical_pos()"
   ]
  },
  {
   "cell_type": "code",
   "execution_count": 53,
   "metadata": {},
   "outputs": [
    {
     "data": {
      "text/plain": [
       "Style: 0: (K, 8)"
      ]
     },
     "execution_count": 53,
     "metadata": {},
     "output_type": "execute_result"
    }
   ],
   "source": [
    "p.suggest()"
   ]
  },
  {
   "cell_type": "code",
   "execution_count": 54,
   "metadata": {},
   "outputs": [
    {
     "data": {
      "image/png": "[encoded data removed]",
      "text/plain": [
       "<Figure size 576x576 with 1 Axes>"
      ]
     },
     "metadata": {
      "needs_background": "light"
     },
     "output_type": "display_data"
    }
   ],
   "source": [
    "board = GomokuBoard(h, N=15, disp_width=8)\n",
    "p = HeuristicGomokuPolicy(board, 2)\n",
    "board.set(H,8).set('G',6).set(G,8).set(F,8).set(H,9).set(H,10)\n",
    "board.display('current');"
   ]
  },
  {
   "cell_type": "code",
   "execution_count": 55,
   "metadata": {},
   "outputs": [
    {
     "name": "stdout",
     "output_type": "stream",
     "text": [
      "Style: 2: (I, 10)\n"
     ]
    },
    {
     "data": {
      "image/png": "[encoded data removed]",
      "text/plain": [
       "<Figure size 576x576 with 1 Axes>"
      ]
     },
     "metadata": {
      "needs_background": "light"
     },
     "output_type": "display_data"
    }
   ],
   "source": [
    "move = p.suggest()\n",
    "print(move)\n",
    "if move.status == 0:\n",
    "    board.set(move.x, move.y)\n",
    "board.display('current')"
   ]
  },
  {
   "cell_type": "markdown",
   "metadata": {},
   "source": [
    "### Considering all options for critical defense states\n",
    "The defense of critical positions may not only come through occupation of that position but also through any other position within the 9x9 neighbourhood of that position. Thus, when there is a critical defense situation, all candidate positions must be checked by test-occupying them and checking whether the originally alerting position's criticality is alleviated by that stone. The policy should meaningfully choose between all those potentially alleviating options. Not too smartly though, for that's what we'll have the Deep Q-Network for. "
   ]
  },
  {
   "cell_type": "markdown",
   "metadata": {},
   "source": [
    "### Determining an estimate for the Q-Values\n",
    "#### An estimate for the state's value\n",
    "The difference between the sums of offensive scores and defensive scores may be a good first estimate for the value of a board state. \n",
    "\n",
    "\n",
    "#### Q-Value Estimation for non-critical states\n",
    "We could use the top10 of each style -> 30 positions, occupy each, calculate the state value afterwards to obtain s,a->v triples. All other s,a combinations are considered bad, and may get a penalty as \"value of an irrelevant move followed by opponent's best response"
   ]
  },
  {
   "cell_type": "code",
   "execution_count": null,
   "metadata": {},
   "outputs": [],
   "source": []
  }
 ],
 "metadata": {
  "kernelspec": {
   "display_name": "Python 3",
   "language": "python",
   "name": "python3"
  },
  "language_info": {
   "codemirror_mode": {
    "name": "ipython",
    "version": 3
   },
   "file_extension": ".py",
   "mimetype": "text/x-python",
   "name": "python",
   "nbconvert_exporter": "python",
   "pygments_lexer": "ipython3",
   "version": "3.6.7"
  }
 },
 "nbformat": 4,
 "nbformat_minor": 2
}
