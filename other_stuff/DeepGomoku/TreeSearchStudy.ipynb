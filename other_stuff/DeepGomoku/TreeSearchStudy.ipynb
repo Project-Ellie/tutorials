{
 "cells": [
  {
   "cell_type": "code",
   "execution_count": 1,
   "metadata": {},
   "outputs": [],
   "source": [
    "%load_ext autoreload\n",
    "%autoreload 2"
   ]
  },
  {
   "cell_type": "code",
   "execution_count": 2,
   "metadata": {},
   "outputs": [],
   "source": [
    "from __future__ import (division, print_function, absolute_import)\n",
    "import numpy as np\n",
    "from operator import itemgetter"
   ]
  },
  {
   "cell_type": "code",
   "execution_count": 3,
   "metadata": {},
   "outputs": [],
   "source": [
    "class State:\n",
    "    def valid_actions(self):\n",
    "        raise NotImplementeddError()\n",
    "    def after(move):\n",
    "        raise NotImplementedError()"
   ]
  },
  {
   "cell_type": "code",
   "execution_count": 4,
   "metadata": {},
   "outputs": [],
   "source": [
    "class Action:\n",
    "    pass"
   ]
  },
  {
   "cell_type": "code",
   "execution_count": 5,
   "metadata": {},
   "outputs": [],
   "source": [
    "class QFunction:\n",
    "    def __apply__(self, state, action):\n",
    "        raise NotImplementedError()"
   ]
  },
  {
   "cell_type": "code",
   "execution_count": 6,
   "metadata": {},
   "outputs": [],
   "source": [
    "class VFunction:\n",
    "    def __apply__(self, state):\n",
    "        raise NotImplementedError()"
   ]
  },
  {
   "cell_type": "code",
   "execution_count": 7,
   "metadata": {},
   "outputs": [],
   "source": [
    "class Policy:\n",
    "    def distr(self, state):\n",
    "        raise NotImplementedError()\n",
    "    def draw(self, state):\n",
    "        raise NotImplementedError()"
   ]
  },
  {
   "cell_type": "code",
   "execution_count": 8,
   "metadata": {},
   "outputs": [],
   "source": [
    "class Actor:\n",
    "    def suggest_action(self, state, max_width, max_depth):\n",
    "        raise NotImplementedError()"
   ]
  },
  {
   "cell_type": "markdown",
   "metadata": {},
   "source": [
    "---"
   ]
  },
  {
   "cell_type": "code",
   "execution_count": 27,
   "metadata": {},
   "outputs": [],
   "source": [
    "class Move(Action):\n",
    "    def __init__(self, pos):\n",
    "        self.pos = pos\n",
    "    def __repr__(self):\n",
    "        return \"(%s, %s)\" % (chr(self.pos[0]+64), self.pos[1])"
   ]
  },
  {
   "cell_type": "code",
   "execution_count": 60,
   "metadata": {},
   "outputs": [],
   "source": [
    "class GomokuState(State):\n",
    "    def __init__(self, board):\n",
    "        self.board = board\n",
    "        \n",
    "    def valid_actions(self):\n",
    "        return [Move((x,y)) for x in range(1, board.size+1) \n",
    "                for y in range(1, board.size+1) if (x,y) not in self.board.stones]\n",
    "    \n",
    "    def after(self, move):\n",
    "        from copy import deepcopy\n",
    "        new_state = deepcopy(self)\n",
    "        new_state.board.set(*move.pos)\n",
    "        return new_state\n",
    "    \n",
    "    def soft_values(self, nh, viewpoint):\n",
    "        return self.board.lsh.heuristics.soft_values(nh, viewpoint)"
   ]
  },
  {
   "cell_type": "code",
   "execution_count": 61,
   "metadata": {},
   "outputs": [],
   "source": [
    "class GomokuHeuristicQFunction(QFunction):\n",
    "    def __init__(self, viewpoint):\n",
    "        self.viewpoint = viewpoint\n",
    "        \n",
    "    def __call__(self, state, action):\n",
    "        nh = state.board.getn9x9(*action.pos)\n",
    "        agressive, defensive = state.soft_values(nh=nh, viewpoint=self.viewpoint)\n",
    "        return agressive + defensive"
   ]
  },
  {
   "cell_type": "code",
   "execution_count": 62,
   "metadata": {},
   "outputs": [],
   "source": [
    "class GomokuHeuristicVFunction(VFunction):\n",
    "\n",
    "    def __init__(self, viewpoint):\n",
    "        self.viewpoint = viewpoint\n",
    "        \n",
    "    def __call__(self, state):\n",
    "        ag = []\n",
    "        de = []\n",
    "        for action in state.valid_actions():\n",
    "            nh = state.board.getn9x9(*action.pos)\n",
    "            a, d = state.soft_values(nh=nh, viewpoint=self.viewpoint)\n",
    "            ag.append((action, a))\n",
    "            de.append((action, d))\n",
    "\n",
    "        ag = sorted(ag, key=itemgetter(1))[-1]\n",
    "        de = sorted(de, key=itemgetter(1))[-1]\n",
    "        \n",
    "        return ag if ag[1] > de[1] else (de[0], -de[1])"
   ]
  },
  {
   "cell_type": "code",
   "execution_count": 63,
   "metadata": {},
   "outputs": [],
   "source": [
    "class HeuristicPolicy(Policy):\n",
    "    def __init__(self, qfunction, viewpoint):\n",
    "        self.qf = qfunction\n",
    "        self.viewpoint = viewpoint\n",
    "    \n",
    "    def distr(self, state):\n",
    "        options = [(a, qf(state, a)) for a in state.valid_actions()]\n",
    "        n = len(options)\n",
    "        moves = sorted(options, key=itemgetter(1))\n",
    "        max_val = moves[-1][1]\n",
    "        best_options = [d for d in moves if d[1] == max_val]\n",
    "        n_best = len(best_options)\n",
    "        p = 1.0/n_best\n",
    "        distr=[(p, m[0]) for m in best_options]\n",
    "        return distr        \n",
    "    \n",
    "    def draw(self, state):\n",
    "        probs = [0] + [d[0] for d in self.distr(state)]\n",
    "        boundaries = np.cumsum(probs)/np.sum(probs)\n",
    "        choices = zip(boundaries, self.distr(state))\n",
    "        r = np.random.uniform(0,1)\n",
    "        for i in reversed(choices):\n",
    "            if r > i[0]:\n",
    "                return i[1][1]"
   ]
  },
  {
   "cell_type": "code",
   "execution_count": 64,
   "metadata": {},
   "outputs": [],
   "source": [
    "class PolicyDrivenAdversary(Actor):\n",
    "    \"\"\"\n",
    "    Always takes the top advised action of the policy\n",
    "    \"\"\"\n",
    "    def __init__(self, viewpoint, policy):\n",
    "        self.viewpoint = viewpoint\n",
    "        self.policy = policy\n",
    "        \n",
    "    def suggest_action(self, state, max_width=1, max_depth=0):\n",
    "        return self.policy.draw(state)\n",
    "        \n",
    "        "
   ]
  },
  {
   "cell_type": "code",
   "execution_count": 128,
   "metadata": {},
   "outputs": [],
   "source": [
    "class SimpleActor(Actor):\n",
    "    \n",
    "    def __init__(self, viewpoint, policy, qf, vf, adversary):\n",
    "        self.viewpoint = viewpoint\n",
    "        self.policy = policy\n",
    "        self.qf = qf\n",
    "        self.vf = vf\n",
    "        self.adversary = adversary\n",
    "        \n",
    "    def suggest_action(self, state, max_width=1, max_depth=0, verbose=False):\n",
    "        if max_depth == 0:\n",
    "            # Special case: No tree search at all\n",
    "            return self.policy.draw(state)\n",
    "        else:             \n",
    "            return self.recursive_suggest(state, max_width, max_depth, verbose)\n",
    "        \n",
    "    def recursive_suggest(self, state, max_width, max_depth, verbose):\n",
    "        import sys\n",
    "        options = [self.policy.draw(state) for i in range(max_width)]\n",
    "        maxvalue = -sys.maxint - 1\n",
    "        for move in options:\n",
    "            s1 = state.after(move)\n",
    "\n",
    "            counter = self.adversary.suggest_action(s1, max_width=1, max_depth=0)\n",
    "            s1.board.set(*counter.pos)\n",
    "\n",
    "            if verbose:\n",
    "                tab=\"  \"*(4-max_depth)\n",
    "                print(tab+\"policy    suggests %s\" % move)\n",
    "                print(tab+\"adversary suggests %s\" % counter)\n",
    "\n",
    "            value = self.recursive_value(s1, max_width, max_depth, verbose)\n",
    "\n",
    "            if verbose:\n",
    "                tab=\"  \"*(4-max_depth)\n",
    "                print(tab+\"value after adversary's reaction: %s\" % value[1])\n",
    "\n",
    "            if value[1] > maxvalue:\n",
    "                suggestion = (move, value[1])\n",
    "                maxvalue = value[1]\n",
    "\n",
    "        return suggestion\n",
    "\n",
    "    def recursive_value(self, state, max_width, max_depth, verbose):\n",
    "        if max_depth == 0:\n",
    "            return self.vf(state)\n",
    "        else:\n",
    "            # The value after the best move\n",
    "            value = self.recursive_suggest(state, max_width, max_depth-1, verbose)\n",
    "            return value"
   ]
  },
  {
   "cell_type": "markdown",
   "metadata": {},
   "source": [
    "---"
   ]
  },
  {
   "cell_type": "code",
   "execution_count": null,
   "metadata": {},
   "outputs": [],
   "source": []
  },
  {
   "cell_type": "code",
   "execution_count": 129,
   "metadata": {},
   "outputs": [],
   "source": [
    "A,B,C,D,E,F,G,H,I,J,K,L,M,N,O,P,Q,R,S = \\\n",
    "    1,2,3,4,5,6,7,8,9,10,11,12,13,14,15,16,17,18,19"
   ]
  },
  {
   "cell_type": "code",
   "execution_count": 130,
   "metadata": {},
   "outputs": [
    {
     "data": {
      "image/png": "[encoded data removed]",
      "text/plain": [
       "<Figure size 432x432 with 1 Axes>"
      ]
     },
     "metadata": {
      "needs_background": "light"
     },
     "output_type": "display_data"
    }
   ],
   "source": [
    "from FastGomokuBoard import FastGomokuBoard as Board\n",
    "board = Board(disp_width=6, size=15)\n",
    "board.set(H,8).set('G',6).set(7,8).set(6,8).set(8,9).set(8,10).display()"
   ]
  },
  {
   "cell_type": "code",
   "execution_count": 132,
   "metadata": {},
   "outputs": [
    {
     "name": "stdout",
     "output_type": "stream",
     "text": [
      "CPU times: user 23.6 s, sys: 597 ms, total: 24.2 s\n",
      "Wall time: 23.8 s\n"
     ]
    },
    {
     "data": {
      "text/plain": [
       "((F, 7), 1320)"
      ]
     },
     "execution_count": 132,
     "metadata": {},
     "output_type": "execute_result"
    }
   ],
   "source": [
    "WHITE=1\n",
    "qf_a = GomokuHeuristicQFunction(viewpoint=WHITE)\n",
    "policy_a = HeuristicPolicy(qf_a, viewpoint=WHITE)\n",
    "adversary_model=PolicyDrivenAdversary(WHITE, policy_a)\n",
    "\n",
    "BLACK=0\n",
    "qf = GomokuHeuristicQFunction(viewpoint=BLACK)\n",
    "vf = GomokuHeuristicVFunction(viewpoint=BLACK)\n",
    "policy = HeuristicPolicy(qf, viewpoint=BLACK)\n",
    "actor = SimpleActor(BLACK, policy, qf, vf, adversary_model)\n",
    "state = GomokuState(board)\n",
    "%time nextAction = actor.suggest_action(state, 2, 3, verbose=False)\n",
    "nextAction"
   ]
  },
  {
   "cell_type": "code",
   "execution_count": 173,
   "metadata": {},
   "outputs": [
    {
     "data": {
      "image/png": "[encoded data removed]",
      "text/plain": [
       "<Figure size 432x432 with 1 Axes>"
      ]
     },
     "metadata": {
      "needs_background": "light"
     },
     "output_type": "display_data"
    }
   ],
   "source": [
    "move = actor.suggest_action(state, 2, 3, verbose=False)\n",
    "board.set(*(move[0].pos)).display()"
   ]
  },
  {
   "cell_type": "code",
   "execution_count": 172,
   "metadata": {},
   "outputs": [
    {
     "data": {
      "image/png": "[encoded data removed]",
      "text/plain": [
       "<Figure size 432x432 with 1 Axes>"
      ]
     },
     "metadata": {
      "needs_background": "light"
     },
     "output_type": "display_data"
    }
   ],
   "source": [
    "board.set(D,3).display()"
   ]
  },
  {
   "cell_type": "code",
   "execution_count": 143,
   "metadata": {},
   "outputs": [
    {
     "data": {
      "text/plain": [
       "<FastGomokuBoard.FastGomokuBoard instance at 0x11fff64d0>"
      ]
     },
     "execution_count": 143,
     "metadata": {},
     "output_type": "execute_result"
    }
   ],
   "source": [
    "board.undo()"
   ]
  },
  {
   "cell_type": "code",
   "execution_count": 174,
   "metadata": {},
   "outputs": [],
   "source": [
    "board.save(\"TreeSearchStudy.csv\")"
   ]
  },
  {
   "cell_type": "code",
   "execution_count": null,
   "metadata": {},
   "outputs": [],
   "source": []
  }
 ],
 "metadata": {
  "kernelspec": {
   "display_name": "Python 3",
   "language": "python",
   "name": "python3"
  },
  "language_info": {
   "codemirror_mode": {
    "name": "ipython",
    "version": 2
   },
   "file_extension": ".py",
   "mimetype": "text/x-python",
   "name": "python",
   "nbconvert_exporter": "python",
   "pygments_lexer": "ipython2",
   "version": "2.7.10"
  }
 },
 "nbformat": 4,
 "nbformat_minor": 2
}
