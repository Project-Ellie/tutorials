{
 "cells": [
  {
   "cell_type": "code",
   "execution_count": 1,
   "metadata": {},
   "outputs": [],
   "source": [
    "from __future__ import absolute_import, print_function, division"
   ]
  },
  {
   "cell_type": "code",
   "execution_count": 2,
   "metadata": {},
   "outputs": [],
   "source": [
    "import random\n",
    "import numpy as np\n",
    "import tensorflow as tf"
   ]
  },
  {
   "cell_type": "markdown",
   "metadata": {},
   "source": [
    "## Synthetic data\n",
    "\n",
    "We create a set of *boards* of size $5 \\times 5$ with 3 channels for each position. The label at each position $(j,k)$ is computed as a function of the channel values $v_{jkl}$ at that position.\n",
    "\n",
    "$$\n",
    "    L_{jk} = \\sum_{l=0}^2 a_l \\cdot (v_{jkl})^{l+1}\n",
    "$$\n",
    "\n",
    "Here, $a_l$ denote arbitrary coefficients defined below. Note that this function is the same for every position. Thus, a sufficiently deep convolutional network with only $1 \\times 1$ kernels should easily learn this function by simultaneously looking at all the positions of any given training board."
   ]
  },
  {
   "cell_type": "code",
   "execution_count": 3,
   "metadata": {},
   "outputs": [],
   "source": [
    "def create_data(N):\n",
    "    batch = np.zeros([N,5,5,3])\n",
    "    labels = np.zeros([N,5,5,1])\n",
    "    a=[.9, .3, -.2]\n",
    "    for i in range(N):\n",
    "        for x in range(5):\n",
    "            for y in range(5):\n",
    "                for l in range(3):\n",
    "                    v = 2*(random.random()-0.5)\n",
    "                    batch[i][x][y][l] = v\n",
    "                    labels[i][x][y][0] += a[l] * v**(l+1)\n",
    "    return batch,labels"
   ]
  },
  {
   "cell_type": "code",
   "execution_count": 4,
   "metadata": {},
   "outputs": [],
   "source": [
    "N = 100\n",
    "batch, labels = create_data(N)\n",
    "batch_t, labels_t = create_data(N)"
   ]
  },
  {
   "cell_type": "code",
   "execution_count": 5,
   "metadata": {},
   "outputs": [
    {
     "data": {
      "text/plain": [
       "(100, 5, 5, 3)"
      ]
     },
     "execution_count": 5,
     "metadata": {},
     "output_type": "execute_result"
    }
   ],
   "source": [
    "batch.shape"
   ]
  },
  {
   "cell_type": "markdown",
   "metadata": {},
   "source": [
    "Smartly rearranging the dimensions of the first *board* of the batch shows the three $5 \\times 5$ channels"
   ]
  },
  {
   "cell_type": "code",
   "execution_count": 6,
   "metadata": {},
   "outputs": [
    {
     "name": "stdout",
     "output_type": "stream",
     "text": [
      "[[[ 0.35850863 -0.50650643  0.70127042  0.10181383  0.24201709]\n",
      "  [ 0.32239252  0.11228678 -0.82959599  0.81922063  0.44812617]\n",
      "  [ 0.95869282 -0.61259188 -0.09248631  0.63458556  0.85511342]\n",
      "  [ 0.70357736  0.93989487 -0.4975352   0.11490962  0.06208572]\n",
      "  [-0.239458    0.94670246 -0.16017788 -0.2543227   0.85040315]]\n",
      "\n",
      " [[-0.31278101  0.11198577  0.74601011 -0.48412776 -0.40929415]\n",
      "  [-0.6502192  -0.0682995   0.30129259 -0.95519985  0.17725096]\n",
      "  [ 0.27154885  0.71561505 -0.81219297 -0.51167167  0.36633658]\n",
      "  [-0.75669388  0.67317356  0.5935581  -0.26156191 -0.03661875]\n",
      "  [ 0.70679617 -0.48727793  0.18582762  0.18072797  0.09590351]]\n",
      "\n",
      " [[-0.32884058 -0.57291667  0.15772602  0.06486667 -0.00777459]\n",
      "  [-0.73416199 -0.28142968  0.7019069  -0.92166543  0.24770141]\n",
      "  [-0.72763667 -0.57381429  0.39340685  0.3592027   0.1685061 ]\n",
      "  [-0.17761214 -0.37058863  0.06300717 -0.2637818  -0.71707643]\n",
      "  [ 0.86579486 -0.07786734 -0.25712719 -0.60855109 -0.69856288]]]\n"
     ]
    }
   ],
   "source": [
    "print(np.rollaxis(batch[0], 2, 0))"
   ]
  },
  {
   "cell_type": "code",
   "execution_count": 7,
   "metadata": {},
   "outputs": [],
   "source": [
    "_inputs = tf.placeholder(tf.float32, [None, 5, 5, 3])\n",
    "_labels = tf.placeholder(tf.float32, [None, 5, 5, 1])"
   ]
  },
  {
   "cell_type": "markdown",
   "metadata": {},
   "source": [
    "### A special CNN\n",
    "The convolutional network below can actually be regarded as a single convolutional layer with the kernel itself being a 5-layer feed-forward NN with layers $[3, 8, 32, 32, 1]$."
   ]
  },
  {
   "cell_type": "code",
   "execution_count": 8,
   "metadata": {},
   "outputs": [
    {
     "name": "stdout",
     "output_type": "stream",
     "text": [
      "WARNING:tensorflow:From <ipython-input-8-367ad2e9af64>:1: conv2d (from tensorflow.python.layers.convolutional) is deprecated and will be removed in a future version.\n",
      "Instructions for updating:\n",
      "Use keras.layers.conv2d instead.\n",
      "WARNING:tensorflow:From /home/wgiersche/workspace/venv3/lib/python3.5/site-packages/tensorflow/python/framework/op_def_library.py:263: colocate_with (from tensorflow.python.framework.ops) is deprecated and will be removed in a future version.\n",
      "Instructions for updating:\n",
      "Colocations handled automatically by placer.\n",
      "WARNING:tensorflow:From /home/wgiersche/workspace/venv3/lib/python3.5/site-packages/tensorflow/python/ops/losses/losses_impl.py:667: to_float (from tensorflow.python.ops.math_ops) is deprecated and will be removed in a future version.\n",
      "Instructions for updating:\n",
      "Use tf.cast instead.\n"
     ]
    }
   ],
   "source": [
    "conv1 = tf.layers.conv2d(inputs=_inputs, filters=32, kernel_size=[1,1], strides=[1,1], padding='VALID', activation=tf.nn.elu)\n",
    "conv2 = tf.layers.conv2d(inputs=conv1, filters=128, kernel_size=[1,1], strides=[1,1], padding='VALID', activation=tf.nn.elu)\n",
    "conv3 = tf.layers.conv2d(inputs=conv2, filters=32, kernel_size=[1,1], strides=[1,1], padding='VALID', activation=tf.nn.elu)\n",
    "conv4 = tf.layers.conv2d(inputs=conv3, filters=1, kernel_size=[1,1], strides=[1,1], padding='VALID')\n",
    "\n",
    "loss = tf.losses.mean_squared_error(_labels,conv4)\n",
    "optimizer = tf.train.AdamOptimizer(learning_rate=3e-4).minimize(loss)"
   ]
  },
  {
   "cell_type": "markdown",
   "metadata": {},
   "source": [
    "### Training\n",
    "We train the network and compute training loss and test loss once in a while"
   ]
  },
  {
   "cell_type": "code",
   "execution_count": 10,
   "metadata": {},
   "outputs": [
    {
     "name": "stdout",
     "output_type": "stream",
     "text": [
      "0.05490766 0.053159654\n",
      "0.0002807435 0.000308975\n",
      "0.00010162818 0.00011235645\n",
      "5.0289535e-05 5.325704e-05\n"
     ]
    }
   ],
   "source": [
    "with tf.Session() as session:\n",
    "    session.run(tf.global_variables_initializer())\n",
    "    for i in range(3001):\n",
    "        _ = session.run(optimizer, feed_dict={_inputs: batch, _labels: labels})\n",
    "        if i % 1000 == 0:\n",
    "            l = session.run(loss, feed_dict={_inputs: batch, _labels: labels})\n",
    "            l_t = session.run(loss, feed_dict={_inputs: batch_t, _labels: labels_t})\n",
    "            print(l, l_t)"
   ]
  },
  {
   "cell_type": "markdown",
   "metadata": {},
   "source": [
    "From the smooth convergence also on the test set we can see that the network has indeed learned our label function."
   ]
  },
  {
   "cell_type": "code",
   "execution_count": null,
   "metadata": {},
   "outputs": [],
   "source": []
  }
 ],
 "metadata": {
  "kernelspec": {
   "display_name": "Python 3",
   "language": "python",
   "name": "python3"
  },
  "language_info": {
   "codemirror_mode": {
    "name": "ipython",
    "version": 3
   },
   "file_extension": ".py",
   "mimetype": "text/x-python",
   "name": "python",
   "nbconvert_exporter": "python",
   "pygments_lexer": "ipython3",
   "version": "3.5.3"
  }
 },
 "nbformat": 4,
 "nbformat_minor": 2
}
