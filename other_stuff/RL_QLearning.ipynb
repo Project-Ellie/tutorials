{
 "cells": [
  {
   "cell_type": "code",
   "execution_count": 3,
   "metadata": {
    "colab": {},
    "colab_type": "code",
    "id": "8zgrSyfZ1Wwh"
   },
   "outputs": [],
   "source": [
    "import numpy as np\n",
    "import seaborn as sns\n",
    "import matplotlib.pyplot as plt"
   ]
  },
  {
   "cell_type": "markdown",
   "metadata": {
    "colab_type": "text",
    "id": "CSggb7f5FaXS"
   },
   "source": [
    "# A Reinforcement Learning toy problem - visualized\n",
    "\n",
    "Here, we study a typical toy problem that's often used for introductory courses. An actor finds herself in an environment represented by a board - a 2-dimensional grid. The fields in that grid can have different characteristics, and in our case the characteristic is given by the reward $R$ associated with each field. We have regular fields with a small negative reward, meant to encourage the actor to look for the shortest path, and we have fields that come with great reward or great penalties. You'll see a graphical representation of that field in a minute, don't worry.\n"
   ]
  },
  {
   "cell_type": "markdown",
   "metadata": {
    "colab_type": "text",
    "id": "BUnkCCMNNP-x"
   },
   "source": [
    "---\n",
    "\n",
    "### State and environment\n",
    "We have a stationary environment, so state is well-defined by position and directions of the actor."
   ]
  },
  {
   "cell_type": "code",
   "execution_count": 354,
   "metadata": {},
   "outputs": [],
   "source": [
    "class Board():\n",
    "    \"\"\"\n",
    "    Just an intuitively indexed array\n",
    "    \"\"\"\n",
    "    def __init__(self, array):\n",
    "        self.array = np.array(array)\n",
    "        self.width = np.shape(array)[1]\n",
    "        self.height = np.shape(array)[0]\n",
    "        \n",
    "    def get(self, x,y):\n",
    "        return self.array[self.height-y-1][x]\n",
    "    \n",
    "    def set(self, x,y,v):\n",
    "        self.array[self.height-y-1][x] = v\n",
    "        \n",
    "    def __repr__(self):\n",
    "        return str(self.array)"
   ]
  },
  {
   "cell_type": "code",
   "execution_count": 460,
   "metadata": {},
   "outputs": [],
   "source": [
    "class State1:\n",
    "    def __init__(self, environment, position, direction = [0, 0]):\n",
    "        self.env = environment\n",
    "        self.pos = np.array(position)\n",
    "        self.d = direction\n",
    "                \n",
    "    def options(self): \n",
    "        \"\"\"\n",
    "        All actions that lead to fields with valid rewards\n",
    "        \"\"\"\n",
    "        return [a[0]\n",
    "            for a in Move.actions(include_none=False).items()\n",
    "            if not np.isnan(self.env.reward_at(self.pos+a[1]))]\n",
    "\n",
    "    def is_done(self):\n",
    "        return self.env.is_done(self.pos)\n",
    "    \n",
    "    def go(self, dir):\n",
    "        new_pos = self.pos + dir\n",
    "        if new_pos[0] < 0 or new_pos[0] >= self.env.right \\\n",
    "            or new_pos[1] < 0 or  new_pos[1] >= self.env.top:\n",
    "            new_dir = [0,0]\n",
    "            new_pos = self.pos\n",
    "            return State1(self.env, new_pos, new_dir)\n",
    " \n",
    "        if np.isnan(self.env.board.get(*new_pos)):\n",
    "            new_dir=[0, 0]\n",
    "            new_pos = self.pos\n",
    "        else:\n",
    "            new_dir = dir\n",
    "            self.env.vf_matrix.set(new_pos[0], new_pos[1], \n",
    "                                   self.env.bellmann(new_pos))\n",
    "        return State1(self.env, new_pos, new_dir)\n",
    "        \n",
    "        \n",
    "    def show(self):\n",
    "        \"\"\"\n",
    "        Display this state in the context of its environment.\n",
    "        State refers to an Environment, but the environment doesn't know this state.\n",
    "        \"\"\"\n",
    "        self.env.show(self)\n",
    "        \n",
    "    def __repr__(self):\n",
    "        return \"Pos: %s, Dir: %s\" % (self.pos, self.d)"
   ]
  },
  {
   "cell_type": "code",
   "execution_count": 537,
   "metadata": {
    "colab": {},
    "colab_type": "code",
    "id": "12qxMsYV0ecg"
   },
   "outputs": [],
   "source": [
    "class Environment:\n",
    "    def __init__(self, array, gamma=0.9):\n",
    "        self.board = Board(array)\n",
    "        self.top=np.shape(array)[0]\n",
    "        self.right=np.shape(array)[1]\n",
    "        self.gamma = gamma\n",
    "        self.vf_matrix=Board(np.zeros(np.shape(array)))\n",
    "    \n",
    "    def show(self, state):\n",
    "        import seaborn as sns\n",
    "\n",
    "        fig, (ax1, ax2) = plt.subplots(1,2, figsize=(12, 4))        \n",
    "        \n",
    "        # The board itself as a heat map\n",
    "        axes = sns.heatmap(self.board.array, annot=True, \n",
    "                           cmap='bwr_r', ax=ax1, cbar=False)\n",
    "        axes.set_xticks([], [])\n",
    "        axes.set_yticks([], [])\n",
    "        \n",
    "        # The actor's position\n",
    "        axes.plot([state.pos[0]+0.5], [self.top-state.pos[1]-0.5], \n",
    "                  'go', markersize=30)\n",
    "        \n",
    "        # the actor's direction\n",
    "        l = np.max([np.sqrt(state.d[0]**2 + state.d[1]**2), 1])\n",
    "        d = 0.4/l\n",
    "        axes.plot([state.pos[0]+0.5+d*state.d[0]], \n",
    "                  [self.top-state.pos[1]-0.5-d*state.d[1]], \n",
    "                  'go', markersize=15)\n",
    "\n",
    "        # the value function's heat map\n",
    "        axes = sns.heatmap(self.vf_matrix.array, \n",
    "                           annot=True, cmap='bwr_r', ax=ax2)\n",
    "        axes.set_xticks([], [])\n",
    "        axes.set_yticks([], [])\n",
    "\n",
    "        return \"\"\n",
    "\n",
    "  \n",
    "    def bellmann(self, pos):\n",
    "        \"\"\"\n",
    "        The new value according to the bellmann equation\n",
    "        \"\"\"\n",
    "        return np.max([\n",
    "            self.reward_at(np.array(pos)+Move.actions()[a]) + \n",
    "            self.gamma * self.vf_matrix.get(*(np.array(pos) + Move.actions()[a]))\n",
    "            for a in State1(env, pos).options()])      \n",
    "\n",
    "\n",
    "    def reward_at(self, pos):\n",
    "        if pos[0] < 0 or pos[0] >= self.right or pos[1] < 0 or pos[1] >= self.top:\n",
    "            return np.nan\n",
    "        if np.isnan(self.board.get(*pos)):\n",
    "            return np.nan\n",
    "        else:\n",
    "            return self.board.get(*pos)\n",
    "    \n",
    "\n",
    "    def success(self, pos):\n",
    "        return self.reward_at(pos) == 1\n",
    "       \n",
    "    def failure(self, pos):\n",
    "        return self.reward_at(pos) == -1\n",
    "  \n",
    "    def is_done(self, pos):\n",
    "        return self.failure(pos) or self.success(pos)\n",
    "\n",
    "    def clear_vf(self):\n",
    "        self.vf_matrix=Board(np.zeros((self.top, self.right)))    "
   ]
  },
  {
   "cell_type": "code",
   "execution_count": 538,
   "metadata": {
    "colab": {
     "base_uri": "https://localhost:8080/",
     "height": 269
    },
    "colab_type": "code",
    "executionInfo": {
     "elapsed": 968,
     "status": "ok",
     "timestamp": 1548614320061,
     "user": {
      "displayName": "Wolfgang Giersche",
      "photoUrl": "https://lh5.googleusercontent.com/-d5rneunu3Yc/AAAAAAAAAAI/AAAAAAAAAGQ/WOMkOQAJCbE/s64/photo.jpg",
      "userId": "00882654998842616980"
     },
     "user_tz": -60
    },
    "id": "gtm1uewd1VZZ",
    "outputId": "5db6ffed-b38e-4ffe-834e-03ec5269e491"
   },
   "outputs": [
    {
     "data": {
      "text/plain": [
       "(5, 7)"
      ]
     },
     "execution_count": 538,
     "metadata": {},
     "output_type": "execute_result"
    }
   ],
   "source": [
    "board = np.array([[-0.01, -0.01, -0.01, -0.01, -0.01, -0.01, -0.01],\n",
    "       [-0.01, -0.01, -0.01, -0.01, -0.01, np.nan, -0.01],\n",
    "       [-0.01, -0.01, np.nan, -0.01, -0.01, -0.01, -1],\n",
    "       [-0.01, -0.01, -0.01, -0.01, -0.01, -0.01, 1],\n",
    "       [-0.01, np.nan, -0.01, -0.01, -1, -0.01, -0.01]])\n",
    "\n",
    "env = Environment(board)\n",
    "np.shape(board)"
   ]
  },
  {
   "cell_type": "code",
   "execution_count": 539,
   "metadata": {},
   "outputs": [
    {
     "data": {
      "image/png": "[encoded data removed]",
      "text/plain": [
       "<Figure size 864x288 with 3 Axes>"
      ]
     },
     "metadata": {
      "needs_background": "light"
     },
     "output_type": "display_data"
    }
   ],
   "source": [
    "state = State1(env,  [0,4], [1, 0])\n",
    "state.show()"
   ]
  },
  {
   "cell_type": "markdown",
   "metadata": {
    "colab_type": "text",
    "id": "it2BZAPyXQA0"
   },
   "source": [
    "The grey areas are *forbidden*. The State class will simply ignore moves onto those fields - just as well as it will ignore moves that would lead beyond the limits of the board."
   ]
  },
  {
   "cell_type": "markdown",
   "metadata": {
    "colab_type": "text",
    "id": "hJse_VybbfaH"
   },
   "source": [
    "The state is considered done when the reward is either $1$ or $-1$"
   ]
  },
  {
   "cell_type": "code",
   "execution_count": 540,
   "metadata": {
    "colab": {
     "base_uri": "https://localhost:8080/",
     "height": 35
    },
    "colab_type": "code",
    "executionInfo": {
     "elapsed": 482,
     "status": "ok",
     "timestamp": 1548608798855,
     "user": {
      "displayName": "Wolfgang Giersche",
      "photoUrl": "https://lh5.googleusercontent.com/-d5rneunu3Yc/AAAAAAAAAAI/AAAAAAAAAGQ/WOMkOQAJCbE/s64/photo.jpg",
      "userId": "00882654998842616980"
     },
     "user_tz": -60
    },
    "id": "UlmiQnHZL61f",
    "outputId": "e65fbdab-9d3d-4253-e59f-4e2f1114d642"
   },
   "outputs": [
    {
     "data": {
      "text/plain": [
       "['s', 'e', 'se']"
      ]
     },
     "execution_count": 540,
     "metadata": {},
     "output_type": "execute_result"
    }
   ],
   "source": [
    "state.options()"
   ]
  },
  {
   "cell_type": "code",
   "execution_count": 541,
   "metadata": {},
   "outputs": [
    {
     "data": {
      "text/plain": [
       "-1.0"
      ]
     },
     "execution_count": 541,
     "metadata": {},
     "output_type": "execute_result"
    }
   ],
   "source": [
    "env.reward_at([6,2])"
   ]
  },
  {
   "cell_type": "code",
   "execution_count": 542,
   "metadata": {
    "colab": {
     "base_uri": "https://localhost:8080/",
     "height": 35
    },
    "colab_type": "code",
    "executionInfo": {
     "elapsed": 748,
     "status": "ok",
     "timestamp": 1548608799658,
     "user": {
      "displayName": "Wolfgang Giersche",
      "photoUrl": "https://lh5.googleusercontent.com/-d5rneunu3Yc/AAAAAAAAAAI/AAAAAAAAAGQ/WOMkOQAJCbE/s64/photo.jpg",
      "userId": "00882654998842616980"
     },
     "user_tz": -60
    },
    "id": "75GuhnnGb1-i",
    "outputId": "7a74b0c2-095b-487a-8cfc-b15f27b9d92d"
   },
   "outputs": [
    {
     "data": {
      "text/plain": [
       "False"
      ]
     },
     "execution_count": 542,
     "metadata": {},
     "output_type": "execute_result"
    }
   ],
   "source": [
    "state.is_done()"
   ]
  },
  {
   "cell_type": "code",
   "execution_count": 543,
   "metadata": {},
   "outputs": [
    {
     "data": {
      "text/plain": [
       "1.0"
      ]
     },
     "execution_count": 543,
     "metadata": {},
     "output_type": "execute_result"
    }
   ],
   "source": [
    "env.bellmann([5,1])"
   ]
  },
  {
   "cell_type": "markdown",
   "metadata": {
    "colab_type": "text",
    "id": "eiN_m0fXMdZU"
   },
   "source": [
    "---\n",
    "### Deterministic Moves\n",
    "Here, a deterministic move is an action in the terminology of Reinforcement Learning. A deterministic move takes a state and returns a new one, namely the particular state where the actor has moved into the given direction. We'll introduce states hereafter. Moves can go into the 8 typical directions, with the 'none' move as a nineth option to not move at all.\n",
    "We modelled moves as classes with a ```__call__()``` method to be able to actually apply a move to a state and return the state - the board - with the actor now sitting on a field adjacent to the previously occupied field.\n",
    "\n",
    "We can already play around with the Moves without knowing the board - the state - yet. Noticed the use of complex numbers for rotation? Cool stuff, huh?"
   ]
  },
  {
   "cell_type": "code",
   "execution_count": 544,
   "metadata": {},
   "outputs": [],
   "source": [
    "class Move:\n",
    "    @staticmethod\n",
    "    def actions(include_none=False):\n",
    "        all = {\n",
    "            's': [0,-1], 'w': [-1,0], 'n': [0,1], 'e':[1,0],\n",
    "            'ne': [1,1], 'nw': [-1,1], 'se': [1,-1], 'sw': [-1, -1]}\n",
    "        if include_none:\n",
    "            all['none'] = [0,0]\n",
    "        return all\n",
    "    \n",
    "    @staticmethod\n",
    "    def compare(d1, d2):\n",
    "        return np.sign(d1[0]*d2[0] + d1[1]*d2[1])\n"
   ]
  },
  {
   "cell_type": "code",
   "execution_count": 545,
   "metadata": {
    "colab": {},
    "colab_type": "code",
    "id": "u-z2T_fVEIOv"
   },
   "outputs": [],
   "source": [
    "class DMove(Move):\n",
    "    \"Deterministic action\"\n",
    "  \n",
    "    def __init__(self, dir):\n",
    "        self.R=1-1j\n",
    "        self.L=1+1j\n",
    "        self.dir = Move.actions(include_none=True)[dir] if type(dir)==str else dir\n",
    "    \n",
    "    def __call__(self, state):\n",
    "        return state.go(self.dir)\n",
    "    \n",
    "    def compare(self, other):\n",
    "        \"\"\"\n",
    "        basically the sign of the inner product\n",
    "        \"\"\"\n",
    "        return np.sign(self.dir[0]*other.dir[0] + self.dir[1]*other.dir[1])\n",
    "  \n",
    "    def rot_left(self, n=1):\n",
    "        return self.rot(self.L, n)\n",
    "  \n",
    "    def rot_right(self, n=1):\n",
    "        return self.rot(self.R, n)\n",
    "  \n",
    "    def rot(self, A, n=1):\n",
    "        D= complex(self.dir[0], self.dir[1])\n",
    "        once = DMove([np.sign(np.real(A*D)), np.sign(np.imag(A*D))])\n",
    "        return once if n==1 else once.rot(A, n-1)\n",
    "\n",
    "    def __repr__(self):\n",
    "        return str(self.dir)"
   ]
  },
  {
   "cell_type": "code",
   "execution_count": 546,
   "metadata": {
    "colab": {
     "base_uri": "https://localhost:8080/",
     "height": 35
    },
    "colab_type": "code",
    "executionInfo": {
     "elapsed": 491,
     "status": "ok",
     "timestamp": 1548607793766,
     "user": {
      "displayName": "Wolfgang Giersche",
      "photoUrl": "https://lh5.googleusercontent.com/-d5rneunu3Yc/AAAAAAAAAAI/AAAAAAAAAGQ/WOMkOQAJCbE/s64/photo.jpg",
      "userId": "00882654998842616980"
     },
     "user_tz": -60
    },
    "id": "WmjUTRh9Ng0b",
    "outputId": "aba6cf3f-6e38-4d1a-aa3d-27bbc605342f"
   },
   "outputs": [
    {
     "data": {
      "text/plain": [
       "([0, -1], [1.0, -1.0])"
      ]
     },
     "execution_count": 546,
     "metadata": {},
     "output_type": "execute_result"
    }
   ],
   "source": [
    "south = DMove('s')\n",
    "south, south.rot_left() # from south to south-east."
   ]
  },
  {
   "cell_type": "markdown",
   "metadata": {
    "colab_type": "text",
    "id": "M5oExDuMPs_u"
   },
   "source": [
    "```compare()``` returns $1$ if the moves are somewhat parallel - $0$, if they're perpendicular and $-1$ if they're somewhat antiparallel. We'll use that feature to make the agents moves less *unmotivated*. We want her to avoid going back after she'd made a step into a certain direction. This behaviour will be encoded into her  policy $p(s,a)$ "
   ]
  },
  {
   "cell_type": "code",
   "execution_count": 547,
   "metadata": {
    "colab": {
     "base_uri": "https://localhost:8080/",
     "height": 35
    },
    "colab_type": "code",
    "executionInfo": {
     "elapsed": 336,
     "status": "ok",
     "timestamp": 1548607794492,
     "user": {
      "displayName": "Wolfgang Giersche",
      "photoUrl": "https://lh5.googleusercontent.com/-d5rneunu3Yc/AAAAAAAAAAI/AAAAAAAAAGQ/WOMkOQAJCbE/s64/photo.jpg",
      "userId": "00882654998842616980"
     },
     "user_tz": -60
    },
    "id": "NcjE0rxgPi8V",
    "outputId": "5711040e-487d-40e9-ee3d-2f8e7ebe1fad"
   },
   "outputs": [
    {
     "data": {
      "text/plain": [
       "-1.0"
      ]
     },
     "execution_count": 547,
     "metadata": {},
     "output_type": "execute_result"
    }
   ],
   "source": [
    "south.compare(south.rot_left(3))"
   ]
  },
  {
   "cell_type": "code",
   "execution_count": 548,
   "metadata": {
    "colab": {},
    "colab_type": "code",
    "id": "cecpab_1OQiD"
   },
   "outputs": [],
   "source": [
    "s, se, e, w = [DMove(i) for i in ['s', 'se', 'e', 'w']]"
   ]
  },
  {
   "cell_type": "code",
   "execution_count": 549,
   "metadata": {},
   "outputs": [
    {
     "name": "stdout",
     "output_type": "stream",
     "text": [
      "Pos: [0 4], Dir: [1, 0]\n",
      "Pos: [1 4], Dir: [1, 0]\n",
      "Pos: [0 4], Dir: [0, 0]\n"
     ]
    }
   ],
   "source": [
    "print(state)\n",
    "print(e(state))\n",
    "print(w(state))"
   ]
  },
  {
   "cell_type": "code",
   "execution_count": 550,
   "metadata": {},
   "outputs": [
    {
     "data": {
      "text/plain": [
       "['s', 'e', 'se']"
      ]
     },
     "execution_count": 550,
     "metadata": {},
     "output_type": "execute_result"
    }
   ],
   "source": [
    "state.options()\n",
    "#env.bellmann([6,1])"
   ]
  },
  {
   "cell_type": "code",
   "execution_count": 555,
   "metadata": {
    "colab": {
     "base_uri": "https://localhost:8080/",
     "height": 347
    },
    "colab_type": "code",
    "executionInfo": {
     "elapsed": 628,
     "status": "ok",
     "timestamp": 1548608800220,
     "user": {
      "displayName": "Wolfgang Giersche",
      "photoUrl": "https://lh5.googleusercontent.com/-d5rneunu3Yc/AAAAAAAAAAI/AAAAAAAAAGQ/WOMkOQAJCbE/s64/photo.jpg",
      "userId": "00882654998842616980"
     },
     "user_tz": -60
    },
    "id": "TKSX4YZ9b6Cn",
    "outputId": "7e8e91d6-9c2e-4a6a-d264-20d5a466bb8f"
   },
   "outputs": [
    {
     "name": "stdout",
     "output_type": "stream",
     "text": [
      "Pos: [6 1], Dir: [1, -1]\n"
     ]
    },
    {
     "data": {
      "image/png": "[encoded data removed]",
      "text/plain": [
       "<Figure size 864x288 with 3 Axes>"
      ]
     },
     "metadata": {
      "needs_background": "light"
     },
     "output_type": "display_data"
    }
   ],
   "source": [
    "s1 = se(se(e(e(se(e(state)))))) # Moving on to the maximum reward\n",
    "print(s1)\n",
    "s1.show()"
   ]
  },
  {
   "cell_type": "code",
   "execution_count": 556,
   "metadata": {
    "colab": {
     "base_uri": "https://localhost:8080/",
     "height": 35
    },
    "colab_type": "code",
    "executionInfo": {
     "elapsed": 539,
     "status": "ok",
     "timestamp": 1548608800927,
     "user": {
      "displayName": "Wolfgang Giersche",
      "photoUrl": "https://lh5.googleusercontent.com/-d5rneunu3Yc/AAAAAAAAAAI/AAAAAAAAAGQ/WOMkOQAJCbE/s64/photo.jpg",
      "userId": "00882654998842616980"
     },
     "user_tz": -60
    },
    "id": "06F7_YVzcCjT",
    "outputId": "9653125d-0935-4417-954a-63ba09fe7f26"
   },
   "outputs": [
    {
     "data": {
      "text/plain": [
       "True"
      ]
     },
     "execution_count": 556,
     "metadata": {},
     "output_type": "execute_result"
    }
   ],
   "source": [
    "s1.is_done()"
   ]
  },
  {
   "cell_type": "markdown",
   "metadata": {
    "colab_type": "text",
    "id": "AeUDd21CdEYL"
   },
   "source": [
    "---\n",
    "### The policy"
   ]
  },
  {
   "cell_type": "code",
   "execution_count": 557,
   "metadata": {
    "colab": {},
    "colab_type": "code",
    "id": "s2DgVKxMXxEn"
   },
   "outputs": [],
   "source": [
    "class Policy_epsilon_off:\n",
    "    \"\"\"      \n",
    "    This policy prefers the max reward, but allows epsilon probability for \n",
    "    each non-max-expecting action in the direction of the previous move\n",
    "    \"\"\"\n",
    "    def __init__(self, epsilon=.1):\n",
    "        self.epsilon = epsilon\n",
    "    \n",
    "    def __call__(self, s, include_none=False):\n",
    "        # Look at the neighbours\n",
    "        environ = { a[0]: s.env.reward_at(s.pos+a[1]) \n",
    "                   for a in Move.actions(include_none).items()}\n",
    "\n",
    "        # omit those going somewhat backwards\n",
    "        environ={a[0]: a[1] if Move.compare(DMove(a[0]).dir, s.d) >= 0 else np.nan \n",
    "                 for a in environ.items()} \n",
    "        return self.policy(environ)\n",
    "  \n",
    "  \n",
    "    def policy(self, environ):\n",
    "        # The number of possible directions\n",
    "        lenr = len([i[1] for i in environ.items() if not np.isnan(i[1])])\n",
    "\n",
    "        # The max return (maybe multiple)\n",
    "        maxr = np.max([i[1] for i in environ.items() if not np.isnan(i[1])])\n",
    "\n",
    "        # The number of values equal to the max\n",
    "        lenm = len([i[1] for i in environ.items() \n",
    "                    if not np.isnan(i[1]) and i[1]==maxr])\n",
    "\n",
    "        pmax = (1 - (lenr-lenm) * self.epsilon) / lenm\n",
    "\n",
    "        return { i[0]: pmax if i[1] == maxr else .1\n",
    "                if not np.isnan(i[1]) else 0 \n",
    "                for i in environ.items()}\n",
    "  \n",
    "  \n",
    "    def draw(self, s, include_none=False):\n",
    "        \"\"\"\n",
    "        Choose an action according to the given epsilon-greedy distribution\n",
    "        \"\"\"\n",
    "        d = self.__call__(s, include_none)\n",
    "        keys = ['s', 'w', 'e', 'n', 'se', 'ne', 'sw', 'nw']\n",
    "        if include_none:\n",
    "            keys.append('none')\n",
    "        values = np.cumsum([ d[k] for k in keys])\n",
    "        values = np.insert(values, 0,0)\n",
    "        index = np.digitize(np.random.uniform(), values)-1\n",
    "        return keys[index]"
   ]
  },
  {
   "cell_type": "code",
   "execution_count": 558,
   "metadata": {},
   "outputs": [
    {
     "data": {
      "text/plain": [
       "{'e': 0.3333333333333333,\n",
       " 'n': 0,\n",
       " 'ne': 0,\n",
       " 'nw': 0,\n",
       " 's': 0.3333333333333333,\n",
       " 'se': 0.3333333333333333,\n",
       " 'sw': 0,\n",
       " 'w': 0}"
      ]
     },
     "execution_count": 558,
     "metadata": {},
     "output_type": "execute_result"
    }
   ],
   "source": [
    "p = Policy_epsilon_off(.1)\n",
    "p(state)"
   ]
  },
  {
   "cell_type": "markdown",
   "metadata": {
    "colab_type": "text",
    "id": "fAjT77iLftOD"
   },
   "source": [
    "Our policy provides a distribution for choosing the next action somewhat *not-so-greedy*. It avoids going back. Observe that the last move below is going east, so our policy omits all options that have an western component. "
   ]
  },
  {
   "cell_type": "code",
   "execution_count": 559,
   "metadata": {
    "colab": {
     "base_uri": "https://localhost:8080/",
     "height": 35
    },
    "colab_type": "code",
    "executionInfo": {
     "elapsed": 514,
     "status": "ok",
     "timestamp": 1548608803649,
     "user": {
      "displayName": "Wolfgang Giersche",
      "photoUrl": "https://lh5.googleusercontent.com/-d5rneunu3Yc/AAAAAAAAAAI/AAAAAAAAAGQ/WOMkOQAJCbE/s64/photo.jpg",
      "userId": "00882654998842616980"
     },
     "user_tz": -60
    },
    "id": "AnGxU6A45FjN",
    "outputId": "4f027108-bcd9-4959-a1b9-1798d63e51e8"
   },
   "outputs": [
    {
     "data": {
      "text/plain": [
       "{'e': 0.6, 'n': 0.1, 'ne': 0.1, 'nw': 0, 's': 0.1, 'se': 0.1, 'sw': 0, 'w': 0}"
      ]
     },
     "execution_count": 559,
     "metadata": {},
     "output_type": "execute_result"
    }
   ],
   "source": [
    "p = Policy_epsilon_off(.1)\n",
    "e, w = [DMove(i) for i in ['e', 'w']]\n",
    "s1 = e(w(w(s1)))\n",
    "p(s1)"
   ]
  },
  {
   "cell_type": "markdown",
   "metadata": {
    "colab_type": "text",
    "id": "Hyz7JdePffLR"
   },
   "source": [
    "You can see the policy in action if you draw from the distribution that it establishes:"
   ]
  },
  {
   "cell_type": "code",
   "execution_count": 560,
   "metadata": {
    "colab": {
     "base_uri": "https://localhost:8080/",
     "height": 181
    },
    "colab_type": "code",
    "executionInfo": {
     "elapsed": 2403,
     "status": "ok",
     "timestamp": 1548608806556,
     "user": {
      "displayName": "Wolfgang Giersche",
      "photoUrl": "https://lh5.googleusercontent.com/-d5rneunu3Yc/AAAAAAAAAAI/AAAAAAAAAGQ/WOMkOQAJCbE/s64/photo.jpg",
      "userId": "00882654998842616980"
     },
     "user_tz": -60
    },
    "id": "onKwSCixkUmm",
    "outputId": "789c7e3c-c875-4905-f365-73cdd7e85c06"
   },
   "outputs": [
    {
     "data": {
      "text/plain": [
       "{'e': 5960,\n",
       " 'n': 985,\n",
       " 'ne': 989,\n",
       " 'none': 0,\n",
       " 'nw': 0,\n",
       " 's': 1049,\n",
       " 'se': 1017,\n",
       " 'sw': 0,\n",
       " 'w': 0}"
      ]
     },
     "execution_count": 560,
     "metadata": {},
     "output_type": "execute_result"
    }
   ],
   "source": [
    "p = Policy_epsilon_off(.1)\n",
    "bins={'none': 0, 'n': 0, 'e': 0, 's': 0, 'w': 0, 'ne': 0, 'se': 0, 'sw': 0, 'nw': 0}\n",
    "for i in range(10000):\n",
    "  bins[p.draw(s1, include_none=False)]+=1\n",
    "bins"
   ]
  },
  {
   "cell_type": "code",
   "execution_count": 561,
   "metadata": {
    "colab": {
     "base_uri": "https://localhost:8080/",
     "height": 347
    },
    "colab_type": "code",
    "executionInfo": {
     "elapsed": 2320,
     "status": "ok",
     "timestamp": 1548608806769,
     "user": {
      "displayName": "Wolfgang Giersche",
      "photoUrl": "https://lh5.googleusercontent.com/-d5rneunu3Yc/AAAAAAAAAAI/AAAAAAAAAGQ/WOMkOQAJCbE/s64/photo.jpg",
      "userId": "00882654998842616980"
     },
     "user_tz": -60
    },
    "id": "CwpvfXiudoe6",
    "outputId": "48aa4e2b-bcf1-4301-bf31-9b07acb01dd6"
   },
   "outputs": [
    {
     "data": {
      "image/png": "[encoded data removed]",
      "text/plain": [
       "<Figure size 864x288 with 3 Axes>"
      ]
     },
     "metadata": {
      "needs_background": "light"
     },
     "output_type": "display_data"
    }
   ],
   "source": [
    "s1.show()"
   ]
  },
  {
   "cell_type": "markdown",
   "metadata": {
    "colab_type": "text",
    "id": "dQjr_AJLCPjJ"
   },
   "source": [
    "---\n",
    "### Bellmann equation for deterministic environments\n",
    "\n",
    "$$\n",
    "V(s)=\\text{max}_a(R(s,a) + \\gamma \\cdot V(a(s))\n",
    "$$\n",
    "\n",
    "Note that the value of a state does not depend on the current policy. "
   ]
  },
  {
   "cell_type": "code",
   "execution_count": null,
   "metadata": {
    "colab": {},
    "colab_type": "code",
    "id": "yS_Qti3PDJ0M"
   },
   "outputs": [],
   "source": []
  },
  {
   "cell_type": "code",
   "execution_count": null,
   "metadata": {
    "colab": {},
    "colab_type": "code",
    "id": "Da6cAXHHDJfv"
   },
   "outputs": [],
   "source": []
  },
  {
   "cell_type": "code",
   "execution_count": null,
   "metadata": {
    "colab": {},
    "colab_type": "code",
    "id": "toFZEXotCT8O"
   },
   "outputs": [],
   "source": []
  },
  {
   "cell_type": "markdown",
   "metadata": {
    "colab_type": "text",
    "id": "CDFtJEhnd6vR"
   },
   "source": [
    "From finance talk: Check the following (out of curiosity)\n",
    "\n",
    "- Hurst exponents\n",
    "- strange attractors\n",
    "- Problem: markets change, so models will always be off-guard\n",
    "- Black-Scholes learned by RL (paper!)\n",
    "- Dynamich Replication and Hedging A Reinforcement Learning Approach\n",
    "- Inverse RL: Find the utility function $v(s)$\n",
    "- Watch: Alpha-go: The movie\n",
    "- paper: Inverse Reinforcement Learning for Marketing\n",
    "- Book: Big Data and ML in Quantitative Investment: Tony Guida"
   ]
  },
  {
   "cell_type": "markdown",
   "metadata": {
    "colab_type": "text",
    "id": "AZnF0nhDd6kl"
   },
   "source": []
  },
  {
   "cell_type": "code",
   "execution_count": null,
   "metadata": {
    "colab": {},
    "colab_type": "code",
    "id": "gH7Dk_nlxWz-"
   },
   "outputs": [],
   "source": []
  }
 ],
 "metadata": {
  "colab": {
   "collapsed_sections": [],
   "name": "RL_QLearning.ipynb",
   "provenance": [],
   "version": "0.3.2"
  },
  "kernelspec": {
   "display_name": "Python 2",
   "language": "python",
   "name": "python2"
  },
  "language_info": {
   "codemirror_mode": {
    "name": "ipython",
    "version": 2
   },
   "file_extension": ".py",
   "mimetype": "text/x-python",
   "name": "python",
   "nbconvert_exporter": "python",
   "pygments_lexer": "ipython2",
   "version": "2.7.15rc1"
  }
 },
 "nbformat": 4,
 "nbformat_minor": 2
}
