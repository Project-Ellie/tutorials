{
 "cells": [
  {
   "cell_type": "code",
   "execution_count": 1,
   "metadata": {},
   "outputs": [],
   "source": [
    "from __future__ import division\n",
    "from __future__ import print_function\n",
    "from __future__ import absolute_import"
   ]
  },
  {
   "cell_type": "code",
   "execution_count": 2,
   "metadata": {},
   "outputs": [
    {
     "name": "stderr",
     "output_type": "stream",
     "text": [
      "/usr/local/lib/python2.7/dist-packages/h5py/__init__.py:36: RuntimeWarning: numpy.dtype size changed, may indicate binary incompatibility. Expected 96, got 88\n",
      "  from ._conv import register_converters as _register_converters\n",
      "/usr/local/lib/python2.7/dist-packages/h5py/_hl/group.py:22: RuntimeWarning: numpy.dtype size changed, may indicate binary incompatibility. Expected 96, got 88\n",
      "  from .. import h5g, h5i, h5o, h5r, h5t, h5l, h5p\n",
      "/usr/local/lib/python2.7/site-packages/scipy/spatial/__init__.py:96: ImportWarning: Not importing directory '/usr/local/lib/python2.7/site-packages/scipy/spatial/qhull': missing __init__.py\n",
      "  from .qhull import *\n",
      "/usr/local/lib/python2.7/dist-packages/sklearn/utils/__init__.py:12: RuntimeWarning: numpy.dtype size changed, may indicate binary incompatibility. Expected 96, got 88\n",
      "  from .murmurhash import murmurhash3_32\n",
      "/usr/local/lib/python2.7/site-packages/scipy/optimize/_minimize.py:37: ImportWarning: Not importing directory '/usr/local/lib/python2.7/site-packages/scipy/optimize/lbfgsb': missing __init__.py\n",
      "  from .lbfgsb import _minimize_lbfgsb\n",
      "/usr/local/lib/python2.7/dist-packages/sklearn/utils/extmath.py:23: RuntimeWarning: numpy.dtype size changed, may indicate binary incompatibility. Expected 96, got 88\n",
      "  from ._logistic_sigmoid import _log_logistic_sigmoid\n",
      "/usr/local/lib/python2.7/dist-packages/sklearn/metrics/cluster/supervised.py:25: RuntimeWarning: numpy.dtype size changed, may indicate binary incompatibility. Expected 96, got 88\n",
      "  from .expected_mutual_info_fast import expected_mutual_information\n",
      "/usr/local/lib/python2.7/dist-packages/sklearn/metrics/pairwise.py:31: RuntimeWarning: numpy.dtype size changed, may indicate binary incompatibility. Expected 96, got 88\n",
      "  from .pairwise_fast import _chi2_kernel_fast, _sparse_manhattan\n"
     ]
    }
   ],
   "source": [
    "import datetime\n",
    "import os\n",
    "import tempfile\n",
    "import math\n",
    "import shutil\n",
    "\n",
    "import pandas as pd\n",
    "import apache_beam as beam\n",
    "\n",
    "import tensorflow as tf\n",
    "import tensorflow_transform as tft\n",
    "import tensorflow_transform.beam.impl as beam_impl\n",
    "from tensorflow_transform.tf_metadata import dataset_metadata\n",
    "from tensorflow_transform.tf_metadata import dataset_schema\n",
    "from tensorflow_transform.beam.tft_beam_io import transform_fn_io\n",
    "\n",
    "import google.datalab.bigquery as dlbq\n",
    "\n",
    "from tools import tf_haversine"
   ]
  },
  {
   "cell_type": "code",
   "execution_count": 3,
   "metadata": {},
   "outputs": [],
   "source": [
    "%load_ext google.cloud.bigquery"
   ]
  },
  {
   "cell_type": "code",
   "execution_count": 81,
   "metadata": {},
   "outputs": [],
   "source": [
    "PROJECT='going-tfx'\n",
    "BUCKET='going-tfx'\n",
    "DATASET='examples'"
   ]
  },
  {
   "cell_type": "markdown",
   "metadata": {},
   "source": [
    "---\n",
    "We will distinguish different stages, such as 'sample' or 'full', to avoid mixing up things. That's what we need the ```stage``` parameter for:"
   ]
  },
  {
   "cell_type": "code",
   "execution_count": 85,
   "metadata": {},
   "outputs": [],
   "source": [
    "def directories(env, stage): \n",
    "    if env == 'gs':\n",
    "        form = \"gs://{}/{}/{}\".format(BUCKET, '{}', {})\n",
    "    elif env == 'local':\n",
    "        form = \"/tmp/atl_june/{}/{}\"\n",
    "    else: \n",
    "        raise Exception(\"Environment {} not supported\".format(env))\n",
    "        \n",
    "    def _dir(usage):\n",
    "        return form.format(stage, usage)\n",
    "    return {usage: _dir(usage) for usage in ['tmp', 'data', 'metadata']}"
   ]
  },
  {
   "cell_type": "markdown",
   "metadata": {},
   "source": [
    "---\n",
    "As an example:\n",
    "\n",
    "- The first dictionary groups the directories containing *sample* stage data on Google cloud storage\n",
    "- The second dictionary groups the directories containing *full* stage data on some local directory"
   ]
  },
  {
   "cell_type": "code",
   "execution_count": 86,
   "metadata": {},
   "outputs": [
    {
     "data": {
      "text/plain": [
       "({'data': 'gs://going-tfx/sample/data',\n",
       "  'metadata': 'gs://going-tfx/sample/metadata',\n",
       "  'tmp': 'gs://going-tfx/sample/tmp'},\n",
       " {'data': '/tmp/atl_june/full/data',\n",
       "  'metadata': '/tmp/atl_june/full/metadata',\n",
       "  'tmp': '/tmp/atl_june/full/tmp'})"
      ]
     },
     "execution_count": 86,
     "metadata": {},
     "output_type": "execute_result"
    }
   ],
   "source": [
    "directories('gs', 'sample'), directories('local', 'full')"
   ]
  },
  {
   "cell_type": "markdown",
   "metadata": {},
   "source": [
    "---\n",
    "# Signature data in Bigquery\n",
    "We collected the raw data that we use from various sources into a single denormalized table holding the data in so-called signature format. That table's schema is meant to reflect the structure of the data/requests that we expect to be served at prediction time. "
   ]
  },
  {
   "cell_type": "code",
   "execution_count": 7,
   "metadata": {},
   "outputs": [
    {
     "data": {
      "text/html": [
       "<div>\n",
       "<style scoped>\n",
       "    .dataframe tbody tr th:only-of-type {\n",
       "        vertical-align: middle;\n",
       "    }\n",
       "\n",
       "    .dataframe tbody tr th {\n",
       "        vertical-align: top;\n",
       "    }\n",
       "\n",
       "    .dataframe thead th {\n",
       "        text-align: right;\n",
       "    }\n",
       "</style>\n",
       "<table border=\"1\" class=\"dataframe\">\n",
       "  <thead>\n",
       "    <tr style=\"text-align: right;\">\n",
       "      <th></th>\n",
       "      <th>DATE</th>\n",
       "      <th>YEAR</th>\n",
       "      <th>MONTH</th>\n",
       "      <th>DAY</th>\n",
       "      <th>DEP_DOW</th>\n",
       "      <th>AIRLINE</th>\n",
       "      <th>DEP_T</th>\n",
       "      <th>DEP</th>\n",
       "      <th>DEP_LAT</th>\n",
       "      <th>DEP_LON</th>\n",
       "      <th>...</th>\n",
       "      <th>WND_SPD_DEP</th>\n",
       "      <th>ARR_T</th>\n",
       "      <th>ARR_DELAY</th>\n",
       "      <th>ARR</th>\n",
       "      <th>ARR_LAT</th>\n",
       "      <th>ARR_LON</th>\n",
       "      <th>ARR_W</th>\n",
       "      <th>MEAN_TEMP_ARR</th>\n",
       "      <th>MEAN_VIS_ARR</th>\n",
       "      <th>WND_SPD_ARR</th>\n",
       "    </tr>\n",
       "  </thead>\n",
       "  <tbody>\n",
       "    <tr>\n",
       "      <th>0</th>\n",
       "      <td>2002-06-01</td>\n",
       "      <td>2002</td>\n",
       "      <td>6</td>\n",
       "      <td>1</td>\n",
       "      <td>7</td>\n",
       "      <td>US Airways Inc.: US (Merged with America West ...</td>\n",
       "      <td>610</td>\n",
       "      <td>ATL</td>\n",
       "      <td>33.63</td>\n",
       "      <td>-84.42</td>\n",
       "      <td>...</td>\n",
       "      <td>6.9</td>\n",
       "      <td>712</td>\n",
       "      <td>-12.0</td>\n",
       "      <td>CLT</td>\n",
       "      <td>35.21</td>\n",
       "      <td>-80.94</td>\n",
       "      <td>CHARLOTTE/DOUGLAS INTERNATION</td>\n",
       "      <td>78.3</td>\n",
       "      <td>9.5</td>\n",
       "      <td>2.7</td>\n",
       "    </tr>\n",
       "    <tr>\n",
       "      <th>1</th>\n",
       "      <td>2002-06-01</td>\n",
       "      <td>2002</td>\n",
       "      <td>6</td>\n",
       "      <td>1</td>\n",
       "      <td>7</td>\n",
       "      <td>Delta Air Lines Inc.: DL</td>\n",
       "      <td>620</td>\n",
       "      <td>ATL</td>\n",
       "      <td>33.63</td>\n",
       "      <td>-84.42</td>\n",
       "      <td>...</td>\n",
       "      <td>6.9</td>\n",
       "      <td>749</td>\n",
       "      <td>-1.0</td>\n",
       "      <td>ORF</td>\n",
       "      <td>36.89</td>\n",
       "      <td>-76.20</td>\n",
       "      <td>NORFOLK REGIONAL ARPT</td>\n",
       "      <td>80.9</td>\n",
       "      <td>9.7</td>\n",
       "      <td>9.4</td>\n",
       "    </tr>\n",
       "    <tr>\n",
       "      <th>2</th>\n",
       "      <td>2002-06-01</td>\n",
       "      <td>2002</td>\n",
       "      <td>6</td>\n",
       "      <td>1</td>\n",
       "      <td>7</td>\n",
       "      <td>Delta Air Lines Inc.: DL</td>\n",
       "      <td>620</td>\n",
       "      <td>ATL</td>\n",
       "      <td>33.63</td>\n",
       "      <td>-84.42</td>\n",
       "      <td>...</td>\n",
       "      <td>6.9</td>\n",
       "      <td>740</td>\n",
       "      <td>9.0</td>\n",
       "      <td>MCO</td>\n",
       "      <td>28.42</td>\n",
       "      <td>-81.30</td>\n",
       "      <td>ORLANDO INTERNATIONAL AIRPORT</td>\n",
       "      <td>77.4</td>\n",
       "      <td>9.6</td>\n",
       "      <td>5.7</td>\n",
       "    </tr>\n",
       "  </tbody>\n",
       "</table>\n",
       "<p>3 rows × 24 columns</p>\n",
       "</div>"
      ],
      "text/plain": [
       "         DATE  YEAR  MONTH  DAY  DEP_DOW  \\\n",
       "0  2002-06-01  2002      6    1        7   \n",
       "1  2002-06-01  2002      6    1        7   \n",
       "2  2002-06-01  2002      6    1        7   \n",
       "\n",
       "                                             AIRLINE  DEP_T  DEP  DEP_LAT  \\\n",
       "0  US Airways Inc.: US (Merged with America West ...    610  ATL    33.63   \n",
       "1                           Delta Air Lines Inc.: DL    620  ATL    33.63   \n",
       "2                           Delta Air Lines Inc.: DL    620  ATL    33.63   \n",
       "\n",
       "   DEP_LON     ...       WND_SPD_DEP ARR_T  ARR_DELAY  ARR  ARR_LAT  ARR_LON  \\\n",
       "0   -84.42     ...               6.9   712      -12.0  CLT    35.21   -80.94   \n",
       "1   -84.42     ...               6.9   749       -1.0  ORF    36.89   -76.20   \n",
       "2   -84.42     ...               6.9   740        9.0  MCO    28.42   -81.30   \n",
       "\n",
       "                           ARR_W MEAN_TEMP_ARR  MEAN_VIS_ARR  WND_SPD_ARR  \n",
       "0  CHARLOTTE/DOUGLAS INTERNATION          78.3           9.5          2.7  \n",
       "1          NORFOLK REGIONAL ARPT          80.9           9.7          9.4  \n",
       "2  ORLANDO INTERNATIONAL AIRPORT          77.4           9.6          5.7  \n",
       "\n",
       "[3 rows x 24 columns]"
      ]
     },
     "execution_count": 7,
     "metadata": {},
     "output_type": "execute_result"
    }
   ],
   "source": [
    "%%bigquery aj_sample\n",
    "select * FROM `going-tfx.examples.ATL_JUNE_SIGNATURE` limit 3"
   ]
  },
  {
   "cell_type": "code",
   "execution_count": 8,
   "metadata": {},
   "outputs": [],
   "source": [
    "from data_schemas import SIGNATURE_METADATA\n",
    "from data_schemas import SIGNATURE_SCHEMA\n",
    "from data_schemas import SIGNATURE_COLUMNS\n",
    "from data_schemas import TRAINING_COLUMNS"
   ]
  },
  {
   "cell_type": "markdown",
   "metadata": {},
   "source": [
    "---\n",
    "These are the columns that we expect to be provided at prediction time. We have exactly those columns made available in the signature data in Bigquery"
   ]
  },
  {
   "cell_type": "code",
   "execution_count": 9,
   "metadata": {},
   "outputs": [
    {
     "name": "stdout",
     "output_type": "stream",
     "text": [
      "['DATE', 'AIRLINE', 'DEP', 'DEP_W', 'ARR', 'ARR_W', 'YEAR', 'MONTH', 'DAY', 'DEP_DOW', 'DEP_T', 'ARR_T', 'DEP_LAT', 'DEP_LON', 'DEP_DELAY', 'MEAN_TEMP_DEP', 'MEAN_VIS_DEP', 'WND_SPD_DEP', 'ARR_DELAY', 'ARR_LAT', 'ARR_LON', 'MEAN_TEMP_ARR', 'MEAN_VIS_ARR', 'WND_SPD_ARR']\n"
     ]
    }
   ],
   "source": [
    "print(SIGNATURE_COLUMNS)"
   ]
  },
  {
   "cell_type": "markdown",
   "metadata": {},
   "source": [
    "---\n",
    "These are the feature-engineered columns that we intend to use for training. You see: Some columns are dropped and others added, like e.g. ```DISTANCE```"
   ]
  },
  {
   "cell_type": "code",
   "execution_count": 10,
   "metadata": {},
   "outputs": [
    {
     "name": "stdout",
     "output_type": "stream",
     "text": [
      "['YEAR', 'MONTH', 'DEP_DOW', 'AIRLINE', 'DEP', 'DEP_LAT', 'DEP_LON', 'MEAN_TEMP_DEP', 'MEAN_VIS_DEP', 'WND_SPD_DEP', 'DEP_T', 'DEP_DELAY', 'ARR', 'ARR_LAT', 'ARR_LON', 'MEAN_TEMP_ARR', 'MEAN_VIS_ARR', 'WND_SPD_ARR', 'ARR_T', 'ARR_DELAY', 'DIFF_LAT', 'DIFF_LON', 'DISTANCE']\n"
     ]
    }
   ],
   "source": [
    "print(TRAINING_COLUMNS)"
   ]
  },
  {
   "cell_type": "markdown",
   "metadata": {},
   "source": [
    "---\n",
    "# Repeatable random subsets "
   ]
  },
  {
   "cell_type": "code",
   "execution_count": 11,
   "metadata": {},
   "outputs": [],
   "source": [
    "def sample_query(total, lower, upper):\n",
    "    return \"\"\"\n",
    "        SELECT\n",
    "            *\n",
    "        FROM `going-tfx.examples.ATL_JUNE_SIGNATURE` \n",
    "\n",
    "        where\n",
    "          MOD(ABS(FARM_FINGERPRINT(\n",
    "            CONCAT(DATE,AIRLINE,ARR)\n",
    "          )) + DEP_T, {0}) >= {1} \n",
    "        and\n",
    "          MOD(ABS(FARM_FINGERPRINT(\n",
    "            CONCAT( DATE, AIRLINE, ARR)\n",
    "           )) + DEP_T, {0}) < {2} \n",
    "    \"\"\".format(total, lower, upper)"
   ]
  },
  {
   "cell_type": "code",
   "execution_count": 12,
   "metadata": {},
   "outputs": [],
   "source": [
    "def sample_queries(fractions, rate=0.1):\n",
    "    start = 0\n",
    "    total = int(sum(fractions) / rate)\n",
    "    res = []\n",
    "    for f in fractions:\n",
    "        f_ = int(f) \n",
    "        q = sample_query(total, start, start+f_)\n",
    "        start = start + f_\n",
    "        res.append(q)\n",
    "    return dict(zip(['train', 'eval', 'test'], res))"
   ]
  },
  {
   "cell_type": "code",
   "execution_count": 13,
   "metadata": {},
   "outputs": [],
   "source": [
    "queries = sample_queries([80,10,10], .1)"
   ]
  },
  {
   "cell_type": "code",
   "execution_count": 14,
   "metadata": {},
   "outputs": [
    {
     "name": "stdout",
     "output_type": "stream",
     "text": [
      "\n",
      "        SELECT\n",
      "            *\n",
      "        FROM `going-tfx.examples.ATL_JUNE_SIGNATURE` \n",
      "\n",
      "        where\n",
      "          MOD(ABS(FARM_FINGERPRINT(\n",
      "            CONCAT(DATE,AIRLINE,ARR)\n",
      "          )) + DEP_T, 1000) >= 80 \n",
      "        and\n",
      "          MOD(ABS(FARM_FINGERPRINT(\n",
      "            CONCAT( DATE, AIRLINE, ARR)\n",
      "           )) + DEP_T, 1000) < 90 \n",
      "    \n"
     ]
    }
   ],
   "source": [
    "print(queries['eval'])"
   ]
  },
  {
   "cell_type": "markdown",
   "metadata": {},
   "source": [
    "#### A super-small random subset "
   ]
  },
  {
   "cell_type": "code",
   "execution_count": 15,
   "metadata": {},
   "outputs": [
    {
     "name": "stdout",
     "output_type": "stream",
     "text": [
      "Only 40 examples. Showing first three:\n"
     ]
    },
    {
     "data": {
      "text/html": [
       "<div>\n",
       "<style scoped>\n",
       "    .dataframe tbody tr th:only-of-type {\n",
       "        vertical-align: middle;\n",
       "    }\n",
       "\n",
       "    .dataframe tbody tr th {\n",
       "        vertical-align: top;\n",
       "    }\n",
       "\n",
       "    .dataframe thead th {\n",
       "        text-align: right;\n",
       "    }\n",
       "</style>\n",
       "<table border=\"1\" class=\"dataframe\">\n",
       "  <thead>\n",
       "    <tr style=\"text-align: right;\">\n",
       "      <th></th>\n",
       "      <th>DATE</th>\n",
       "      <th>YEAR</th>\n",
       "      <th>MONTH</th>\n",
       "      <th>DAY</th>\n",
       "      <th>DEP_DOW</th>\n",
       "      <th>AIRLINE</th>\n",
       "      <th>DEP_T</th>\n",
       "      <th>DEP</th>\n",
       "      <th>DEP_LAT</th>\n",
       "      <th>DEP_LON</th>\n",
       "      <th>...</th>\n",
       "      <th>WND_SPD_DEP</th>\n",
       "      <th>ARR_T</th>\n",
       "      <th>ARR_DELAY</th>\n",
       "      <th>ARR</th>\n",
       "      <th>ARR_LAT</th>\n",
       "      <th>ARR_LON</th>\n",
       "      <th>ARR_W</th>\n",
       "      <th>MEAN_TEMP_ARR</th>\n",
       "      <th>MEAN_VIS_ARR</th>\n",
       "      <th>WND_SPD_ARR</th>\n",
       "    </tr>\n",
       "  </thead>\n",
       "  <tbody>\n",
       "    <tr>\n",
       "      <th>0</th>\n",
       "      <td>2004-06-07</td>\n",
       "      <td>2004</td>\n",
       "      <td>6</td>\n",
       "      <td>7</td>\n",
       "      <td>2</td>\n",
       "      <td>Delta Air Lines Inc.: DL</td>\n",
       "      <td>842</td>\n",
       "      <td>ATL</td>\n",
       "      <td>33.63</td>\n",
       "      <td>-84.42</td>\n",
       "      <td>...</td>\n",
       "      <td>4.4</td>\n",
       "      <td>949</td>\n",
       "      <td>16.0</td>\n",
       "      <td>SAV</td>\n",
       "      <td>32.12</td>\n",
       "      <td>-81.20</td>\n",
       "      <td>SAVANNAH/HILTON HEAD INTL AIR</td>\n",
       "      <td>79.4</td>\n",
       "      <td>9.8</td>\n",
       "      <td>5.7</td>\n",
       "    </tr>\n",
       "    <tr>\n",
       "      <th>1</th>\n",
       "      <td>2006-06-27</td>\n",
       "      <td>2006</td>\n",
       "      <td>6</td>\n",
       "      <td>27</td>\n",
       "      <td>3</td>\n",
       "      <td>Delta Air Lines Inc.: DL</td>\n",
       "      <td>2130</td>\n",
       "      <td>ATL</td>\n",
       "      <td>33.63</td>\n",
       "      <td>-84.42</td>\n",
       "      <td>...</td>\n",
       "      <td>6.3</td>\n",
       "      <td>2354</td>\n",
       "      <td>45.0</td>\n",
       "      <td>PVD</td>\n",
       "      <td>41.72</td>\n",
       "      <td>-71.42</td>\n",
       "      <td>PROVIDENCE T F GREEN ARPT</td>\n",
       "      <td>74.7</td>\n",
       "      <td>10.0</td>\n",
       "      <td>10.1</td>\n",
       "    </tr>\n",
       "    <tr>\n",
       "      <th>2</th>\n",
       "      <td>2005-06-22</td>\n",
       "      <td>2005</td>\n",
       "      <td>6</td>\n",
       "      <td>22</td>\n",
       "      <td>4</td>\n",
       "      <td>America West Airlines Inc.: HP (Merged with US...</td>\n",
       "      <td>805</td>\n",
       "      <td>ATL</td>\n",
       "      <td>33.63</td>\n",
       "      <td>-84.42</td>\n",
       "      <td>...</td>\n",
       "      <td>6.1</td>\n",
       "      <td>916</td>\n",
       "      <td>-25.0</td>\n",
       "      <td>PHX</td>\n",
       "      <td>33.43</td>\n",
       "      <td>-112.01</td>\n",
       "      <td>PHOENIX SKY HARBOR INTL AIRPO</td>\n",
       "      <td>102.4</td>\n",
       "      <td>10.0</td>\n",
       "      <td>8.5</td>\n",
       "    </tr>\n",
       "  </tbody>\n",
       "</table>\n",
       "<p>3 rows × 24 columns</p>\n",
       "</div>"
      ],
      "text/plain": [
       "         DATE  YEAR  MONTH  DAY  DEP_DOW  \\\n",
       "0  2004-06-07  2004      6    7        2   \n",
       "1  2006-06-27  2006      6   27        3   \n",
       "2  2005-06-22  2005      6   22        4   \n",
       "\n",
       "                                             AIRLINE  DEP_T  DEP  DEP_LAT  \\\n",
       "0                           Delta Air Lines Inc.: DL    842  ATL    33.63   \n",
       "1                           Delta Air Lines Inc.: DL   2130  ATL    33.63   \n",
       "2  America West Airlines Inc.: HP (Merged with US...    805  ATL    33.63   \n",
       "\n",
       "   DEP_LON     ...       WND_SPD_DEP ARR_T  ARR_DELAY  ARR  ARR_LAT  ARR_LON  \\\n",
       "0   -84.42     ...               4.4   949       16.0  SAV    32.12   -81.20   \n",
       "1   -84.42     ...               6.3  2354       45.0  PVD    41.72   -71.42   \n",
       "2   -84.42     ...               6.1   916      -25.0  PHX    33.43  -112.01   \n",
       "\n",
       "                           ARR_W MEAN_TEMP_ARR  MEAN_VIS_ARR  WND_SPD_ARR  \n",
       "0  SAVANNAH/HILTON HEAD INTL AIR          79.4           9.8          5.7  \n",
       "1      PROVIDENCE T F GREEN ARPT          74.7          10.0         10.1  \n",
       "2  PHOENIX SKY HARBOR INTL AIRPO         102.4          10.0          8.5  \n",
       "\n",
       "[3 rows x 24 columns]"
      ]
     },
     "execution_count": 15,
     "metadata": {},
     "output_type": "execute_result"
    }
   ],
   "source": [
    "tiny_query = sample_query(10000, 0, 1)\n",
    "sample = dlbq.Query(tiny_query).execute().result().to_dataframe()\n",
    "print('Only {} examples. Showing first three:'.format(len(sample)))\n",
    "sample[:3]"
   ]
  },
  {
   "cell_type": "markdown",
   "metadata": {},
   "source": [
    "---\n",
    "# Reading from Bigquery into a beam pipeline"
   ]
  },
  {
   "cell_type": "code",
   "execution_count": 16,
   "metadata": {},
   "outputs": [],
   "source": [
    "OUTPUT_DIR=\"./out\"\n",
    "job_name = 'tft_tutorial' + '-' + datetime.datetime.now().strftime('%y%m%d-%H%M%S')    \n",
    "\n",
    "options = {\n",
    "    'staging_location': os.path.join(OUTPUT_DIR, 'tmp', 'staging'),\n",
    "    'temp_location': os.path.join(OUTPUT_DIR, 'tmp'),\n",
    "    'job_name': job_name,\n",
    "    'project': PROJECT,\n",
    "    'max_num_workers': 24,\n",
    "    'teardown_policy': 'TEARDOWN_ALWAYS',\n",
    "    'no_save_main_session': True,\n",
    "    'requirements_file': 'requirements.txt'\n",
    "}\n",
    "opts = beam.pipeline.PipelineOptions(flags=[], **options)\n",
    "tf.logging.set_verbosity(tf.logging.ERROR)"
   ]
  },
  {
   "cell_type": "markdown",
   "metadata": {},
   "source": [
    "---\n",
    "This simple pipeline reads, transforms and emits the result into a csv file. It returns a pair consisting of a pandas dataframe containing the data, and the transformed schema"
   ]
  },
  {
   "cell_type": "code",
   "execution_count": 27,
   "metadata": {},
   "outputs": [
    {
     "name": "stdout",
     "output_type": "stream",
     "text": [
      "Output will be written to /tmp/atl_june\n"
     ]
    }
   ],
   "source": [
    "def exec_pipeline(query, preprocessing_fn, output_columns, out_name = 'atl_june_transformed', write_header=False, runner='DirectRunner'):\n",
    "    \n",
    "    header=\",\".join(output_columns) if write_header else None\n",
    "    \n",
    "    out_prefix = os.path.join(LOCAL_TMPDIR, out_name)\n",
    "    with beam.Pipeline(runner, options=opts) as p:\n",
    "        with beam_impl.Context(temp_dir=tempfile.mkdtemp()):\n",
    "            \n",
    "            \n",
    "            #   Read from Big Query\n",
    "            #\n",
    "            sig_data = p | \"ReadFromBigQuery\"  >> beam.io.Read(beam.io.BigQuerySource(query=query, use_standard_sql=True)) \n",
    "            sig_dataset = (sig_data, SIGNATURE_METADATA)\n",
    "\n",
    "            \n",
    "            #   Analyze and transform by calling a single function that has all the tft.transforms in it\n",
    "            #\n",
    "            t_dataset, t_fn = (sig_dataset | beam_impl.AnalyzeAndTransformDataset(preprocessing_fn))\n",
    "            t_data, t_metadata = t_dataset\n",
    "            \n",
    "            \n",
    "            # Encode back to CSV file(s)\n",
    "            #\n",
    "            csv_encode = tft.coders.CsvCoder(output_columns, t_metadata.schema).encode    \n",
    "            res = (t_data \n",
    "                   | beam.Map(csv_encode)\n",
    "                   | beam.io.WriteToText(file_path_prefix=out_prefix, header=header))\n",
    "\n",
    "            \n",
    "    # Return a pandas dataframe containing the result\n",
    "    #\n",
    "    resfile = !ls $LOCAL_TMPDIR | grep $out_name\n",
    "    resfile = resfile[0]\n",
    "    resfile = os.path.join(LOCAL_TMPDIR, resfile)\n",
    "    return pd.read_csv(resfile), t_metadata.schema\n",
    "\n",
    "print(\"Output will be written to {}\".format(LOCAL_TMPDIR))"
   ]
  },
  {
   "cell_type": "markdown",
   "metadata": {},
   "source": [
    "---\n",
    "# Developing the pre-processing function"
   ]
  },
  {
   "cell_type": "markdown",
   "metadata": {},
   "source": [
    "#### Step 1: Do nothing\n",
    "Here, we simply verify that the pipeline setup is correct."
   ]
  },
  {
   "cell_type": "code",
   "execution_count": 28,
   "metadata": {},
   "outputs": [],
   "source": [
    "def do_nothing(inputs):\n",
    "    return inputs"
   ]
  },
  {
   "cell_type": "code",
   "execution_count": 29,
   "metadata": {},
   "outputs": [
    {
     "name": "stderr",
     "output_type": "stream",
     "text": [
      "WARNING:root:Dataset going-tfx:temp_dataset_8f7ebe04573e483398180dfd0c3cda4a does not exist so we will create it as temporary with location=US\n",
      "WARNING:root:Deleting 1 existing files in target path matching: -*-of-%(num_shards)05d\n"
     ]
    },
    {
     "data": {
      "text/html": [
       "<div>\n",
       "<style scoped>\n",
       "    .dataframe tbody tr th:only-of-type {\n",
       "        vertical-align: middle;\n",
       "    }\n",
       "\n",
       "    .dataframe tbody tr th {\n",
       "        vertical-align: top;\n",
       "    }\n",
       "\n",
       "    .dataframe thead th {\n",
       "        text-align: right;\n",
       "    }\n",
       "</style>\n",
       "<table border=\"1\" class=\"dataframe\">\n",
       "  <thead>\n",
       "    <tr style=\"text-align: right;\">\n",
       "      <th></th>\n",
       "      <th>DATE</th>\n",
       "      <th>AIRLINE</th>\n",
       "      <th>DEP</th>\n",
       "      <th>DEP_W</th>\n",
       "      <th>ARR</th>\n",
       "      <th>ARR_W</th>\n",
       "      <th>YEAR</th>\n",
       "      <th>MONTH</th>\n",
       "      <th>DAY</th>\n",
       "      <th>DEP_DOW</th>\n",
       "      <th>...</th>\n",
       "      <th>DEP_DELAY</th>\n",
       "      <th>MEAN_TEMP_DEP</th>\n",
       "      <th>MEAN_VIS_DEP</th>\n",
       "      <th>WND_SPD_DEP</th>\n",
       "      <th>ARR_DELAY</th>\n",
       "      <th>ARR_LAT</th>\n",
       "      <th>ARR_LON</th>\n",
       "      <th>MEAN_TEMP_ARR</th>\n",
       "      <th>MEAN_VIS_ARR</th>\n",
       "      <th>WND_SPD_ARR</th>\n",
       "    </tr>\n",
       "  </thead>\n",
       "  <tbody>\n",
       "    <tr>\n",
       "      <th>0</th>\n",
       "      <td>2002-06-10</td>\n",
       "      <td>Delta Air Lines Inc.: DL</td>\n",
       "      <td>ATL</td>\n",
       "      <td>HARTSFIELD-JACKSON ATLANTA IN</td>\n",
       "      <td>CAE</td>\n",
       "      <td>COLUMBIA METRO ARPT</td>\n",
       "      <td>2002</td>\n",
       "      <td>6</td>\n",
       "      <td>10</td>\n",
       "      <td>2</td>\n",
       "      <td>...</td>\n",
       "      <td>-1.0</td>\n",
       "      <td>74.6</td>\n",
       "      <td>10.0</td>\n",
       "      <td>6.1</td>\n",
       "      <td>-12.0</td>\n",
       "      <td>33.93</td>\n",
       "      <td>-81.11</td>\n",
       "      <td>75.7</td>\n",
       "      <td>9.9</td>\n",
       "      <td>2.9</td>\n",
       "    </tr>\n",
       "    <tr>\n",
       "      <th>1</th>\n",
       "      <td>2002-06-23</td>\n",
       "      <td>Delta Air Lines Inc.: DL</td>\n",
       "      <td>ATL</td>\n",
       "      <td>HARTSFIELD-JACKSON ATLANTA IN</td>\n",
       "      <td>RDU</td>\n",
       "      <td>RALEIGH-DURHAM INTERNATIONAL</td>\n",
       "      <td>2002</td>\n",
       "      <td>6</td>\n",
       "      <td>23</td>\n",
       "      <td>1</td>\n",
       "      <td>...</td>\n",
       "      <td>-1.0</td>\n",
       "      <td>74.5</td>\n",
       "      <td>6.9</td>\n",
       "      <td>9.8</td>\n",
       "      <td>7.0</td>\n",
       "      <td>35.87</td>\n",
       "      <td>-78.78</td>\n",
       "      <td>78.6</td>\n",
       "      <td>9.0</td>\n",
       "      <td>4.6</td>\n",
       "    </tr>\n",
       "    <tr>\n",
       "      <th>2</th>\n",
       "      <td>2002-06-17</td>\n",
       "      <td>Delta Air Lines Inc.: DL</td>\n",
       "      <td>ATL</td>\n",
       "      <td>HARTSFIELD-JACKSON ATLANTA IN</td>\n",
       "      <td>DFW</td>\n",
       "      <td>DALLAS-FORT WORTH INTL AP</td>\n",
       "      <td>2002</td>\n",
       "      <td>6</td>\n",
       "      <td>17</td>\n",
       "      <td>2</td>\n",
       "      <td>...</td>\n",
       "      <td>19.0</td>\n",
       "      <td>73.1</td>\n",
       "      <td>9.9</td>\n",
       "      <td>6.2</td>\n",
       "      <td>37.0</td>\n",
       "      <td>32.89</td>\n",
       "      <td>-97.03</td>\n",
       "      <td>75.8</td>\n",
       "      <td>9.9</td>\n",
       "      <td>3.3</td>\n",
       "    </tr>\n",
       "  </tbody>\n",
       "</table>\n",
       "<p>3 rows × 24 columns</p>\n",
       "</div>"
      ],
      "text/plain": [
       "         DATE                   AIRLINE  DEP                          DEP_W  \\\n",
       "0  2002-06-10  Delta Air Lines Inc.: DL  ATL  HARTSFIELD-JACKSON ATLANTA IN   \n",
       "1  2002-06-23  Delta Air Lines Inc.: DL  ATL  HARTSFIELD-JACKSON ATLANTA IN   \n",
       "2  2002-06-17  Delta Air Lines Inc.: DL  ATL  HARTSFIELD-JACKSON ATLANTA IN   \n",
       "\n",
       "   ARR                         ARR_W  YEAR  MONTH  DAY  DEP_DOW     ...       \\\n",
       "0  CAE           COLUMBIA METRO ARPT  2002      6   10        2     ...        \n",
       "1  RDU  RALEIGH-DURHAM INTERNATIONAL  2002      6   23        1     ...        \n",
       "2  DFW     DALLAS-FORT WORTH INTL AP  2002      6   17        2     ...        \n",
       "\n",
       "   DEP_DELAY  MEAN_TEMP_DEP  MEAN_VIS_DEP  WND_SPD_DEP  ARR_DELAY  ARR_LAT  \\\n",
       "0       -1.0           74.6          10.0          6.1      -12.0    33.93   \n",
       "1       -1.0           74.5           6.9          9.8        7.0    35.87   \n",
       "2       19.0           73.1           9.9          6.2       37.0    32.89   \n",
       "\n",
       "   ARR_LON  MEAN_TEMP_ARR  MEAN_VIS_ARR  WND_SPD_ARR  \n",
       "0   -81.11           75.7           9.9          2.9  \n",
       "1   -78.78           78.6           9.0          4.6  \n",
       "2   -97.03           75.8           9.9          3.3  \n",
       "\n",
       "[3 rows x 24 columns]"
      ]
     },
     "execution_count": 29,
     "metadata": {},
     "output_type": "execute_result"
    }
   ],
   "source": [
    "res, _ = exec_pipeline(tiny_query, do_nothing, SIGNATURE_COLUMNS, write_header=True, runner='DirectRunner')\n",
    "res[:3]"
   ]
  },
  {
   "cell_type": "markdown",
   "metadata": {},
   "source": [
    "---\n",
    "#### Step 2: Select only the useful columns\n",
    "These columns could, of course, already been excluded in the signature. Just demonstrating that the signature may indeed contain more data than is actually required for training."
   ]
  },
  {
   "cell_type": "code",
   "execution_count": 31,
   "metadata": {},
   "outputs": [
    {
     "name": "stdout",
     "output_type": "stream",
     "text": [
      "['AIRLINE', 'DEP', 'ARR', 'YEAR', 'MONTH', 'DEP_DOW', 'DEP_T', 'ARR_T', 'DEP_LAT', 'DEP_LON', 'DEP_DELAY', 'MEAN_TEMP_DEP', 'MEAN_VIS_DEP', 'WND_SPD_DEP', 'ARR_DELAY', 'ARR_LAT', 'ARR_LON', 'MEAN_TEMP_ARR', 'MEAN_VIS_ARR', 'WND_SPD_ARR']\n"
     ]
    }
   ],
   "source": [
    "IGNORE = ['ARR_W', 'DEP_W', 'DATE', 'DAY']\n",
    "SELECTED_COLUMNS = [key for key in SIGNATURE_COLUMNS if key not in IGNORE]\n",
    "print(SELECTED_COLUMNS)"
   ]
  },
  {
   "cell_type": "code",
   "execution_count": 32,
   "metadata": {},
   "outputs": [
    {
     "name": "stdout",
     "output_type": "stream",
     "text": [
      "{'ARR': 'SAV', 'WND_SPD_ARR': 5.7, 'ARR_T': 949, 'DEP_DELAY': -2.0, 'DEP': 'ATL', 'ARR_LON': -81.2, 'MEAN_VIS_DEP': 6.0, 'DEP_T': 842, 'WND_SPD_DEP': 4.4, 'DEP_LON': -84.42, 'MONTH': 6, 'MEAN_VIS_ARR': 9.8, 'ARR_LAT': 32.12, 'AIRLINE': 'Delta Air Lines Inc.: DL', 'YEAR': 2004, 'ARR_DELAY': 16.0, 'DEP_LAT': 33.63, 'DEP_DOW': 2, 'MEAN_TEMP_DEP': 75.2, 'MEAN_TEMP_ARR': 79.4}\n"
     ]
    }
   ],
   "source": [
    "def make_ignore_cols(to_ignore):\n",
    "    def _ignore_cols(row):\n",
    "        return {key: row[key] for key in SIGNATURE_COLUMNS if key not in to_ignore }\n",
    "    return _ignore_cols\n",
    "\n",
    "one_row = sample.to_dict(orient='records')[0]\n",
    "print(make_ignore_cols(IGNORE)(one_row))"
   ]
  },
  {
   "cell_type": "code",
   "execution_count": 33,
   "metadata": {},
   "outputs": [
    {
     "name": "stderr",
     "output_type": "stream",
     "text": [
      "WARNING:root:Dataset going-tfx:temp_dataset_59115145df5a435dbffd74f8bc004a63 does not exist so we will create it as temporary with location=US\n",
      "WARNING:root:Deleting 1 existing files in target path matching: -*-of-%(num_shards)05d\n"
     ]
    },
    {
     "data": {
      "text/html": [
       "<div>\n",
       "<style scoped>\n",
       "    .dataframe tbody tr th:only-of-type {\n",
       "        vertical-align: middle;\n",
       "    }\n",
       "\n",
       "    .dataframe tbody tr th {\n",
       "        vertical-align: top;\n",
       "    }\n",
       "\n",
       "    .dataframe thead th {\n",
       "        text-align: right;\n",
       "    }\n",
       "</style>\n",
       "<table border=\"1\" class=\"dataframe\">\n",
       "  <thead>\n",
       "    <tr style=\"text-align: right;\">\n",
       "      <th></th>\n",
       "      <th>AIRLINE</th>\n",
       "      <th>DEP</th>\n",
       "      <th>ARR</th>\n",
       "      <th>YEAR</th>\n",
       "      <th>MONTH</th>\n",
       "      <th>DEP_DOW</th>\n",
       "      <th>DEP_T</th>\n",
       "      <th>ARR_T</th>\n",
       "      <th>DEP_LAT</th>\n",
       "      <th>DEP_LON</th>\n",
       "      <th>DEP_DELAY</th>\n",
       "      <th>MEAN_TEMP_DEP</th>\n",
       "      <th>MEAN_VIS_DEP</th>\n",
       "      <th>WND_SPD_DEP</th>\n",
       "      <th>ARR_DELAY</th>\n",
       "      <th>ARR_LAT</th>\n",
       "      <th>ARR_LON</th>\n",
       "      <th>MEAN_TEMP_ARR</th>\n",
       "      <th>MEAN_VIS_ARR</th>\n",
       "      <th>WND_SPD_ARR</th>\n",
       "    </tr>\n",
       "  </thead>\n",
       "  <tbody>\n",
       "    <tr>\n",
       "      <th>0</th>\n",
       "      <td>Delta Air Lines Inc.: DL</td>\n",
       "      <td>ATL</td>\n",
       "      <td>SAV</td>\n",
       "      <td>2004</td>\n",
       "      <td>6</td>\n",
       "      <td>2</td>\n",
       "      <td>842</td>\n",
       "      <td>949</td>\n",
       "      <td>33.63</td>\n",
       "      <td>-84.42</td>\n",
       "      <td>-2.0</td>\n",
       "      <td>75.2</td>\n",
       "      <td>6.0</td>\n",
       "      <td>4.4</td>\n",
       "      <td>16.0</td>\n",
       "      <td>32.12</td>\n",
       "      <td>-81.20</td>\n",
       "      <td>79.4</td>\n",
       "      <td>9.8</td>\n",
       "      <td>5.7</td>\n",
       "    </tr>\n",
       "    <tr>\n",
       "      <th>1</th>\n",
       "      <td>Delta Air Lines Inc.: DL</td>\n",
       "      <td>ATL</td>\n",
       "      <td>PVD</td>\n",
       "      <td>2006</td>\n",
       "      <td>6</td>\n",
       "      <td>3</td>\n",
       "      <td>2130</td>\n",
       "      <td>2354</td>\n",
       "      <td>33.63</td>\n",
       "      <td>-84.42</td>\n",
       "      <td>50.0</td>\n",
       "      <td>73.3</td>\n",
       "      <td>6.5</td>\n",
       "      <td>6.3</td>\n",
       "      <td>45.0</td>\n",
       "      <td>41.72</td>\n",
       "      <td>-71.42</td>\n",
       "      <td>74.7</td>\n",
       "      <td>10.0</td>\n",
       "      <td>10.1</td>\n",
       "    </tr>\n",
       "    <tr>\n",
       "      <th>2</th>\n",
       "      <td>America West Airlines Inc.: HP (Merged with US...</td>\n",
       "      <td>ATL</td>\n",
       "      <td>PHX</td>\n",
       "      <td>2005</td>\n",
       "      <td>6</td>\n",
       "      <td>4</td>\n",
       "      <td>805</td>\n",
       "      <td>916</td>\n",
       "      <td>33.63</td>\n",
       "      <td>-84.42</td>\n",
       "      <td>-2.0</td>\n",
       "      <td>73.6</td>\n",
       "      <td>8.0</td>\n",
       "      <td>6.1</td>\n",
       "      <td>-25.0</td>\n",
       "      <td>33.43</td>\n",
       "      <td>-112.01</td>\n",
       "      <td>102.4</td>\n",
       "      <td>10.0</td>\n",
       "      <td>8.5</td>\n",
       "    </tr>\n",
       "  </tbody>\n",
       "</table>\n",
       "</div>"
      ],
      "text/plain": [
       "                                             AIRLINE  DEP  ARR  YEAR  MONTH  \\\n",
       "0                           Delta Air Lines Inc.: DL  ATL  SAV  2004      6   \n",
       "1                           Delta Air Lines Inc.: DL  ATL  PVD  2006      6   \n",
       "2  America West Airlines Inc.: HP (Merged with US...  ATL  PHX  2005      6   \n",
       "\n",
       "   DEP_DOW  DEP_T  ARR_T  DEP_LAT  DEP_LON  DEP_DELAY  MEAN_TEMP_DEP  \\\n",
       "0        2    842    949    33.63   -84.42       -2.0           75.2   \n",
       "1        3   2130   2354    33.63   -84.42       50.0           73.3   \n",
       "2        4    805    916    33.63   -84.42       -2.0           73.6   \n",
       "\n",
       "   MEAN_VIS_DEP  WND_SPD_DEP  ARR_DELAY  ARR_LAT  ARR_LON  MEAN_TEMP_ARR  \\\n",
       "0           6.0          4.4       16.0    32.12   -81.20           79.4   \n",
       "1           6.5          6.3       45.0    41.72   -71.42           74.7   \n",
       "2           8.0          6.1      -25.0    33.43  -112.01          102.4   \n",
       "\n",
       "   MEAN_VIS_ARR  WND_SPD_ARR  \n",
       "0           9.8          5.7  \n",
       "1          10.0         10.1  \n",
       "2          10.0          8.5  "
      ]
     },
     "execution_count": 33,
     "metadata": {},
     "output_type": "execute_result"
    }
   ],
   "source": [
    "res, _ = exec_pipeline(tiny_query, make_ignore_cols(IGNORE), SELECTED_COLUMNS, write_header=True)\n",
    "res[:3]"
   ]
  },
  {
   "cell_type": "markdown",
   "metadata": {},
   "source": [
    "---\n",
    "#### Adding engineered features\n",
    "We use the well-known haversine function (defined in ```tools.py```) to calculate the distance between two lat/lon coordinate pairs"
   ]
  },
  {
   "cell_type": "code",
   "execution_count": 35,
   "metadata": {},
   "outputs": [
    {
     "name": "stdout",
     "output_type": "stream",
     "text": [
      "def tf_haversine(lat1, lon1, lat2, lon2):\n",
      "    \n",
      "    def radians(a):\n",
      "        return a * math.pi / 180.0\n",
      "\n",
      "    radius = 6371.0\n",
      "    dlat = radians (lat2 - lat1) \n",
      "    dlon = radians (lon2 - lon1)\n",
      "    a = (tf.sin(dlat / 2.0) * tf.sin(dlat/2.0) +\n",
      "         tf.cos(radians(lat1)) * tf.cos(radians(lat2)) *\n",
      "         tf.sin(dlon / 2.0) * tf.sin(dlon / 2.0))\n",
      "    c = 2.0 * tf.atan2(tf.sqrt(a), tf.sqrt(1.0 - a))\n",
      "    return radius * c\n"
     ]
    }
   ],
   "source": [
    "!grep -A 13 tf_haversine tools.py"
   ]
  },
  {
   "cell_type": "code",
   "execution_count": 38,
   "metadata": {},
   "outputs": [],
   "source": [
    "def add_engineered(row):\n",
    "    dep_lat = row['DEP_LAT']\n",
    "    dep_lon = row['DEP_LON']\n",
    "    arr_lat = row['ARR_LAT']\n",
    "    arr_lon = row['ARR_LON']\n",
    "    row['DIFF_LAT'] = arr_lat - dep_lat\n",
    "    row['DIFF_LON'] = arr_lon - dep_lon\n",
    "    row['DISTANCE'] = tf_haversine(arr_lat, arr_lon, dep_lat, dep_lon)\n",
    "    return row"
   ]
  },
  {
   "cell_type": "code",
   "execution_count": 39,
   "metadata": {},
   "outputs": [
    {
     "name": "stderr",
     "output_type": "stream",
     "text": [
      "WARNING:root:Dataset going-tfx:temp_dataset_d36705f34d7249cfb9ce463366e9e47e does not exist so we will create it as temporary with location=US\n",
      "WARNING:root:Deleting 1 existing files in target path matching: -*-of-%(num_shards)05d\n"
     ]
    },
    {
     "data": {
      "text/html": [
       "<div>\n",
       "<style scoped>\n",
       "    .dataframe tbody tr th:only-of-type {\n",
       "        vertical-align: middle;\n",
       "    }\n",
       "\n",
       "    .dataframe tbody tr th {\n",
       "        vertical-align: top;\n",
       "    }\n",
       "\n",
       "    .dataframe thead th {\n",
       "        text-align: right;\n",
       "    }\n",
       "</style>\n",
       "<table border=\"1\" class=\"dataframe\">\n",
       "  <thead>\n",
       "    <tr style=\"text-align: right;\">\n",
       "      <th></th>\n",
       "      <th>YEAR</th>\n",
       "      <th>MONTH</th>\n",
       "      <th>DEP_DOW</th>\n",
       "      <th>AIRLINE</th>\n",
       "      <th>DEP</th>\n",
       "      <th>DEP_LAT</th>\n",
       "      <th>DEP_LON</th>\n",
       "      <th>MEAN_TEMP_DEP</th>\n",
       "      <th>MEAN_VIS_DEP</th>\n",
       "      <th>WND_SPD_DEP</th>\n",
       "      <th>...</th>\n",
       "      <th>ARR_LAT</th>\n",
       "      <th>ARR_LON</th>\n",
       "      <th>MEAN_TEMP_ARR</th>\n",
       "      <th>MEAN_VIS_ARR</th>\n",
       "      <th>WND_SPD_ARR</th>\n",
       "      <th>ARR_T</th>\n",
       "      <th>ARR_DELAY</th>\n",
       "      <th>DIFF_LAT</th>\n",
       "      <th>DIFF_LON</th>\n",
       "      <th>DISTANCE</th>\n",
       "    </tr>\n",
       "  </thead>\n",
       "  <tbody>\n",
       "    <tr>\n",
       "      <th>0</th>\n",
       "      <td>2004</td>\n",
       "      <td>6</td>\n",
       "      <td>2</td>\n",
       "      <td>Delta Air Lines Inc.: DL</td>\n",
       "      <td>ATL</td>\n",
       "      <td>33.63</td>\n",
       "      <td>-84.42</td>\n",
       "      <td>75.2</td>\n",
       "      <td>6.0</td>\n",
       "      <td>4.4</td>\n",
       "      <td>...</td>\n",
       "      <td>32.12</td>\n",
       "      <td>-81.20</td>\n",
       "      <td>79.4</td>\n",
       "      <td>9.8</td>\n",
       "      <td>5.7</td>\n",
       "      <td>949</td>\n",
       "      <td>16.0</td>\n",
       "      <td>-1.510002</td>\n",
       "      <td>3.220001</td>\n",
       "      <td>344.38202</td>\n",
       "    </tr>\n",
       "    <tr>\n",
       "      <th>1</th>\n",
       "      <td>2006</td>\n",
       "      <td>6</td>\n",
       "      <td>3</td>\n",
       "      <td>Delta Air Lines Inc.: DL</td>\n",
       "      <td>ATL</td>\n",
       "      <td>33.63</td>\n",
       "      <td>-84.42</td>\n",
       "      <td>73.3</td>\n",
       "      <td>6.5</td>\n",
       "      <td>6.3</td>\n",
       "      <td>...</td>\n",
       "      <td>41.72</td>\n",
       "      <td>-71.42</td>\n",
       "      <td>74.7</td>\n",
       "      <td>10.0</td>\n",
       "      <td>10.1</td>\n",
       "      <td>2354</td>\n",
       "      <td>45.0</td>\n",
       "      <td>8.090000</td>\n",
       "      <td>13.000000</td>\n",
       "      <td>1452.60740</td>\n",
       "    </tr>\n",
       "    <tr>\n",
       "      <th>2</th>\n",
       "      <td>2005</td>\n",
       "      <td>6</td>\n",
       "      <td>4</td>\n",
       "      <td>America West Airlines Inc.: HP (Merged with US...</td>\n",
       "      <td>ATL</td>\n",
       "      <td>33.63</td>\n",
       "      <td>-84.42</td>\n",
       "      <td>73.6</td>\n",
       "      <td>8.0</td>\n",
       "      <td>6.1</td>\n",
       "      <td>...</td>\n",
       "      <td>33.43</td>\n",
       "      <td>-112.01</td>\n",
       "      <td>102.4</td>\n",
       "      <td>10.0</td>\n",
       "      <td>8.5</td>\n",
       "      <td>916</td>\n",
       "      <td>-25.0</td>\n",
       "      <td>-0.200001</td>\n",
       "      <td>-27.590004</td>\n",
       "      <td>2549.80420</td>\n",
       "    </tr>\n",
       "  </tbody>\n",
       "</table>\n",
       "<p>3 rows × 23 columns</p>\n",
       "</div>"
      ],
      "text/plain": [
       "   YEAR  MONTH  DEP_DOW                                            AIRLINE  \\\n",
       "0  2004      6        2                           Delta Air Lines Inc.: DL   \n",
       "1  2006      6        3                           Delta Air Lines Inc.: DL   \n",
       "2  2005      6        4  America West Airlines Inc.: HP (Merged with US...   \n",
       "\n",
       "   DEP  DEP_LAT  DEP_LON  MEAN_TEMP_DEP  MEAN_VIS_DEP  WND_SPD_DEP  \\\n",
       "0  ATL    33.63   -84.42           75.2           6.0          4.4   \n",
       "1  ATL    33.63   -84.42           73.3           6.5          6.3   \n",
       "2  ATL    33.63   -84.42           73.6           8.0          6.1   \n",
       "\n",
       "      ...      ARR_LAT  ARR_LON MEAN_TEMP_ARR  MEAN_VIS_ARR  WND_SPD_ARR  \\\n",
       "0     ...        32.12   -81.20          79.4           9.8          5.7   \n",
       "1     ...        41.72   -71.42          74.7          10.0         10.1   \n",
       "2     ...        33.43  -112.01         102.4          10.0          8.5   \n",
       "\n",
       "   ARR_T  ARR_DELAY  DIFF_LAT   DIFF_LON    DISTANCE  \n",
       "0    949       16.0 -1.510002   3.220001   344.38202  \n",
       "1   2354       45.0  8.090000  13.000000  1452.60740  \n",
       "2    916      -25.0 -0.200001 -27.590004  2549.80420  \n",
       "\n",
       "[3 rows x 23 columns]"
      ]
     },
     "execution_count": 39,
     "metadata": {},
     "output_type": "execute_result"
    }
   ],
   "source": [
    "def pre_processor(row):\n",
    "    row = make_ignore_cols(IGNORE)(row)\n",
    "    return add_engineered(row)\n",
    "\n",
    "res, _ = exec_pipeline(tiny_query, pre_processor, TRAINING_COLUMNS, write_header=True)\n",
    "res[:3]"
   ]
  },
  {
   "cell_type": "markdown",
   "metadata": {},
   "source": [
    "---\n",
    "#### Step 4: Scaling floats"
   ]
  },
  {
   "cell_type": "code",
   "execution_count": 40,
   "metadata": {},
   "outputs": [],
   "source": [
    "def scale_floats(row):\n",
    "    for c in ['MEAN_TEMP_DEP', 'MEAN_VIS_DEP', 'WND_SPD_DEP', 'MEAN_TEMP_ARR', 'MEAN_VIS_ARR', 'WND_SPD_ARR', 'DEP_DELAY',\n",
    "             'DIFF_LAT', 'DIFF_LON', 'DISTANCE']:\n",
    "        row[c] = tft.scale_to_0_1(row[c])\n",
    "    return row"
   ]
  },
  {
   "cell_type": "code",
   "execution_count": 42,
   "metadata": {},
   "outputs": [],
   "source": [
    "def pre_processor(row):\n",
    "    row = row.copy()\n",
    "    row = make_ignore_cols(IGNORE)(row)\n",
    "    row = add_engineered(row)\n",
    "    row = scale_floats(row)\n",
    "    return row"
   ]
  },
  {
   "cell_type": "code",
   "execution_count": 41,
   "metadata": {},
   "outputs": [
    {
     "name": "stderr",
     "output_type": "stream",
     "text": [
      "WARNING:root:Dataset going-tfx:temp_dataset_1f85f79edd414ef8909601993b929776 does not exist so we will create it as temporary with location=US\n",
      "WARNING:root:Deleting 1 existing files in target path matching: -*-of-%(num_shards)05d\n"
     ]
    },
    {
     "data": {
      "text/html": [
       "<div>\n",
       "<style scoped>\n",
       "    .dataframe tbody tr th:only-of-type {\n",
       "        vertical-align: middle;\n",
       "    }\n",
       "\n",
       "    .dataframe tbody tr th {\n",
       "        vertical-align: top;\n",
       "    }\n",
       "\n",
       "    .dataframe thead th {\n",
       "        text-align: right;\n",
       "    }\n",
       "</style>\n",
       "<table border=\"1\" class=\"dataframe\">\n",
       "  <thead>\n",
       "    <tr style=\"text-align: right;\">\n",
       "      <th></th>\n",
       "      <th>YEAR</th>\n",
       "      <th>MONTH</th>\n",
       "      <th>DEP_DOW</th>\n",
       "      <th>AIRLINE</th>\n",
       "      <th>DEP</th>\n",
       "      <th>DEP_LAT</th>\n",
       "      <th>DEP_LON</th>\n",
       "      <th>MEAN_TEMP_DEP</th>\n",
       "      <th>MEAN_VIS_DEP</th>\n",
       "      <th>WND_SPD_DEP</th>\n",
       "      <th>...</th>\n",
       "      <th>ARR_LAT</th>\n",
       "      <th>ARR_LON</th>\n",
       "      <th>MEAN_TEMP_ARR</th>\n",
       "      <th>MEAN_VIS_ARR</th>\n",
       "      <th>WND_SPD_ARR</th>\n",
       "      <th>ARR_T</th>\n",
       "      <th>ARR_DELAY</th>\n",
       "      <th>DIFF_LAT</th>\n",
       "      <th>DIFF_LON</th>\n",
       "      <th>DISTANCE</th>\n",
       "    </tr>\n",
       "  </thead>\n",
       "  <tbody>\n",
       "    <tr>\n",
       "      <th>0</th>\n",
       "      <td>2004</td>\n",
       "      <td>6</td>\n",
       "      <td>2</td>\n",
       "      <td>Delta Air Lines Inc.: DL</td>\n",
       "      <td>ATL</td>\n",
       "      <td>33.63</td>\n",
       "      <td>-84.42</td>\n",
       "      <td>0.33125</td>\n",
       "      <td>0.000</td>\n",
       "      <td>0.0750</td>\n",
       "      <td>...</td>\n",
       "      <td>32.12</td>\n",
       "      <td>-81.20</td>\n",
       "      <td>0.507495</td>\n",
       "      <td>0.96</td>\n",
       "      <td>0.222973</td>\n",
       "      <td>949</td>\n",
       "      <td>16.0</td>\n",
       "      <td>0.354622</td>\n",
       "      <td>0.773389</td>\n",
       "      <td>0.044136</td>\n",
       "    </tr>\n",
       "    <tr>\n",
       "      <th>1</th>\n",
       "      <td>2006</td>\n",
       "      <td>6</td>\n",
       "      <td>3</td>\n",
       "      <td>Delta Air Lines Inc.: DL</td>\n",
       "      <td>ATL</td>\n",
       "      <td>33.63</td>\n",
       "      <td>-84.42</td>\n",
       "      <td>0.21250</td>\n",
       "      <td>0.125</td>\n",
       "      <td>0.3125</td>\n",
       "      <td>...</td>\n",
       "      <td>41.72</td>\n",
       "      <td>-71.42</td>\n",
       "      <td>0.406852</td>\n",
       "      <td>1.00</td>\n",
       "      <td>0.520270</td>\n",
       "      <td>2354</td>\n",
       "      <td>45.0</td>\n",
       "      <td>0.892437</td>\n",
       "      <td>0.976715</td>\n",
       "      <td>0.424967</td>\n",
       "    </tr>\n",
       "    <tr>\n",
       "      <th>2</th>\n",
       "      <td>2005</td>\n",
       "      <td>6</td>\n",
       "      <td>4</td>\n",
       "      <td>America West Airlines Inc.: HP (Merged with US...</td>\n",
       "      <td>ATL</td>\n",
       "      <td>33.63</td>\n",
       "      <td>-84.42</td>\n",
       "      <td>0.23125</td>\n",
       "      <td>0.500</td>\n",
       "      <td>0.2875</td>\n",
       "      <td>...</td>\n",
       "      <td>33.43</td>\n",
       "      <td>-112.01</td>\n",
       "      <td>1.000000</td>\n",
       "      <td>1.00</td>\n",
       "      <td>0.412162</td>\n",
       "      <td>916</td>\n",
       "      <td>-25.0</td>\n",
       "      <td>0.428011</td>\n",
       "      <td>0.132848</td>\n",
       "      <td>0.802009</td>\n",
       "    </tr>\n",
       "  </tbody>\n",
       "</table>\n",
       "<p>3 rows × 23 columns</p>\n",
       "</div>"
      ],
      "text/plain": [
       "   YEAR  MONTH  DEP_DOW                                            AIRLINE  \\\n",
       "0  2004      6        2                           Delta Air Lines Inc.: DL   \n",
       "1  2006      6        3                           Delta Air Lines Inc.: DL   \n",
       "2  2005      6        4  America West Airlines Inc.: HP (Merged with US...   \n",
       "\n",
       "   DEP  DEP_LAT  DEP_LON  MEAN_TEMP_DEP  MEAN_VIS_DEP  WND_SPD_DEP    ...     \\\n",
       "0  ATL    33.63   -84.42        0.33125         0.000       0.0750    ...      \n",
       "1  ATL    33.63   -84.42        0.21250         0.125       0.3125    ...      \n",
       "2  ATL    33.63   -84.42        0.23125         0.500       0.2875    ...      \n",
       "\n",
       "   ARR_LAT  ARR_LON MEAN_TEMP_ARR  MEAN_VIS_ARR  WND_SPD_ARR  ARR_T  \\\n",
       "0    32.12   -81.20      0.507495          0.96     0.222973    949   \n",
       "1    41.72   -71.42      0.406852          1.00     0.520270   2354   \n",
       "2    33.43  -112.01      1.000000          1.00     0.412162    916   \n",
       "\n",
       "   ARR_DELAY  DIFF_LAT  DIFF_LON  DISTANCE  \n",
       "0       16.0  0.354622  0.773389  0.044136  \n",
       "1       45.0  0.892437  0.976715  0.424967  \n",
       "2      -25.0  0.428011  0.132848  0.802009  \n",
       "\n",
       "[3 rows x 23 columns]"
      ]
     },
     "execution_count": 41,
     "metadata": {},
     "output_type": "execute_result"
    }
   ],
   "source": [
    "res, _ = exec_pipeline(tiny_query, pre_processor, TRAINING_COLUMNS, write_header=True)\n",
    "res[:3]"
   ]
  },
  {
   "cell_type": "markdown",
   "metadata": {},
   "source": [
    "---\n",
    "# Create the big files"
   ]
  },
  {
   "cell_type": "markdown",
   "metadata": {},
   "source": [
    "We tell dataflow what packages our pipeline requires"
   ]
  },
  {
   "cell_type": "code",
   "execution_count": 43,
   "metadata": {},
   "outputs": [
    {
     "name": "stdout",
     "output_type": "stream",
     "text": [
      "tensorflow-transform"
     ]
    }
   ],
   "source": [
    "!cat dataflow_requirements.txt"
   ]
  },
  {
   "cell_type": "code",
   "execution_count": 106,
   "metadata": {},
   "outputs": [],
   "source": [
    "def exec_pipeline_prod (environment, stage, \n",
    "                        preprocessing_fn, output_columns, \n",
    "                        fractions, sample_rate, prefix,\n",
    "                        runner='DirectRunner', write_header=False):\n",
    "    \n",
    "    header=\",\".join(output_columns) if write_header else None\n",
    "    \n",
    "    dirs = directories(environment, stage)    \n",
    "    tmpdir = dirs['tmp']\n",
    "    datadir = dirs['data']\n",
    "    metadir = dirs['metadata']\n",
    "\n",
    "    job_name = 'tft-tutorial' + '-' + datetime.datetime.now().strftime('%y%m%d-%H%M%S')    \n",
    "\n",
    "    options = {\n",
    "        'staging_location': tmpdir,\n",
    "        'temp_location': tmpdir,\n",
    "        'job_name': job_name,\n",
    "        'project': PROJECT,\n",
    "        'max_num_workers': 24,\n",
    "        'teardown_policy': 'TEARDOWN_ALWAYS',\n",
    "        'no_save_main_session': True,\n",
    "        'requirements_file': 'dataflow_requirements.txt'\n",
    "    }    \n",
    "    opts = beam.pipeline.PipelineOptions(flags=[], **options)\n",
    "    \n",
    "    with beam.Pipeline(runner, options=opts) as p:\n",
    "        with beam_impl.Context(temp_dir=tmpdir):\n",
    "            \n",
    "            queries = sample_queries(fractions, sample_rate)\n",
    "\n",
    "            #   Read training data from Big Query\n",
    "            #\n",
    "            signature_data = p | \"ReadFromBigQuery_train\"  >> beam.io.Read(beam.io.BigQuerySource(query=queries['train'], use_standard_sql=True)) \n",
    "            signature_dataset = (signature_data, SIGNATURE_METADATA)\n",
    "\n",
    "            \n",
    "            #   Analyze and transform by calling a single function that has all the tft.transforms in it\n",
    "            #\n",
    "            t_dataset, transform_fn = (signature_dataset \n",
    "                                       | \"AnalyzeAndTransform\" >> beam_impl.AnalyzeAndTransformDataset(preprocessing_fn))\n",
    "            t_data, t_metadata = t_dataset\n",
    "            \n",
    "            \n",
    "            # Encode back to CSV file(s)\n",
    "            #\n",
    "            train_prefix = os.path.join(datadir, prefix + \"_train\")\n",
    "\n",
    "            csv_encode = tft.coders.CsvCoder(output_columns, t_metadata.schema).encode    \n",
    "            res = (t_data \n",
    "                   | \"EncodeTraining\" >> beam.Map(csv_encode)\n",
    "                   | \"WriteTraining\" >> beam.io.WriteToText(file_path_prefix=train_prefix, header=header))\n",
    "\n",
    "\n",
    "            #   Read eval data from Big Query\n",
    "            #\n",
    "            signature_data = p | \"ReadFromBigQuery_eval\"  >> beam.io.Read(beam.io.BigQuerySource(query=queries['eval'], use_standard_sql=True)) \n",
    "            signature_dataset = (signature_data, SIGNATURE_METADATA)\n",
    "\n",
    "            \n",
    "            #   Transform the eval dataset with the transform function derived above\n",
    "            #\n",
    "            t_dataset = ((signature_dataset, transform_fn) \n",
    "                         | \"TransformEval\" >> beam_impl.TransformDataset())\n",
    "            t_data, _ = t_dataset\n",
    "            \n",
    "            \n",
    "            # Encode back to CSV file(s)\n",
    "            #\n",
    "            eval_prefix = os.path.join(datadir, prefix + \"_eval\")\n",
    "            csv_encode = tft.coders.CsvCoder(output_columns, t_metadata.schema).encode    \n",
    "            res = (t_data \n",
    "                   | \"EncodeEval\" >> beam.Map(csv_encode)\n",
    "                   | \"WriteEval\" >> beam.io.WriteToText(file_path_prefix=eval_prefix, header=header))\n",
    "\n",
    "            \n",
    "            # save transformation function to disk for use at serving time\n",
    "            #\n",
    "            transform_fn | 'WriteTransformFn' >> transform_fn_io.WriteTransformFn(metadir)\n",
    "            "
   ]
  },
  {
   "cell_type": "markdown",
   "metadata": {},
   "source": [
    "---\n",
    "## First stage: Run locally on a smaller sample"
   ]
  },
  {
   "cell_type": "markdown",
   "metadata": {},
   "source": [
    "#### Cleaning up before we start\n",
    "We distinguish a sample scenario that we still want to run with DirectRunner, and then a full scenario. That's why we use two different file locations even in the local directory"
   ]
  },
  {
   "cell_type": "code",
   "execution_count": 118,
   "metadata": {},
   "outputs": [
    {
     "data": {
      "text/plain": [
       "({'data': 'gs://going-tfx/sample/data',\n",
       "  'metadata': 'gs://going-tfx/sample/metadata',\n",
       "  'tmp': 'gs://going-tfx/sample/tmp'},\n",
       " {'data': '/tmp/atl_june/sample/data',\n",
       "  'metadata': '/tmp/atl_june/sample/metadata',\n",
       "  'tmp': '/tmp/atl_june/sample/tmp'})"
      ]
     },
     "execution_count": 118,
     "metadata": {},
     "output_type": "execute_result"
    }
   ],
   "source": [
    "gsdirs = directories('gs', 'sample')\n",
    "localdirs = directories('local', 'sample')\n",
    "gsdirs, localdirs"
   ]
  },
  {
   "cell_type": "code",
   "execution_count": 108,
   "metadata": {},
   "outputs": [],
   "source": [
    "def cleanup(stage):\n",
    "    local_dirs = directories('local', stage)\n",
    "    gs_dirs = directories('gs', stage)\n",
    "\n",
    "    for path in local_dirs.values():\n",
    "        shutil.rmtree(path, ignore_errors=True)\n",
    "        os.mkdir(path)\n",
    "        res = !ls $path\n",
    "        print(\"{} contains {} files.\".format(path, len(res)))\n",
    "        \n",
    "    for path in gs_dirs.values():\n",
    "        _ = !gsutil -m rm -rf $path\n",
    "        res = !gsutil ls $path\n",
    "        print(\"{}: {}\".format(path, res[0]))"
   ]
  },
  {
   "cell_type": "code",
   "execution_count": 109,
   "metadata": {},
   "outputs": [
    {
     "name": "stdout",
     "output_type": "stream",
     "text": [
      "/tmp/atl_june/sample/tmp contains 0 files.\n",
      "/tmp/atl_june/sample/data contains 0 files.\n",
      "/tmp/atl_june/sample/metadata contains 0 files.\n",
      "gs://going-tfx/sample/tmp: CommandException: One or more URLs matched no objects.\n",
      "gs://going-tfx/sample/data: CommandException: One or more URLs matched no objects.\n",
      "gs://going-tfx/sample/metadata: CommandException: One or more URLs matched no objects.\n"
     ]
    }
   ],
   "source": [
    "cleanup('sample')"
   ]
  },
  {
   "cell_type": "markdown",
   "metadata": {},
   "source": [
    "#### Run the pipeline!\n",
    "This takes about two minutes. Be patient."
   ]
  },
  {
   "cell_type": "code",
   "execution_count": 110,
   "metadata": {},
   "outputs": [
    {
     "name": "stderr",
     "output_type": "stream",
     "text": [
      "WARNING:root:Dataset going-tfx:temp_dataset_bf01654b3d5343fd9d3340b6aa85f58c does not exist so we will create it as temporary with location=US\n",
      "WARNING:root:Dataset going-tfx:temp_dataset_bf5440a1aad348538457859e6e20976f does not exist so we will create it as temporary with location=US\n"
     ]
    }
   ],
   "source": [
    "exec_pipeline_prod (\n",
    "    'gs', 'sample',\n",
    "    preprocessing_fn=pre_processor, \n",
    "    output_columns=TRAINING_COLUMNS, \n",
    "    fractions=[80, 10, 10], \n",
    "    sample_rate=0.1,\n",
    "    prefix='atl_june',\n",
    "    runner = 'DirectRunner')"
   ]
  },
  {
   "cell_type": "markdown",
   "metadata": {},
   "source": [
    "#### Examine and retrieve the results."
   ]
  },
  {
   "cell_type": "code",
   "execution_count": 127,
   "metadata": {},
   "outputs": [
    {
     "name": "stdout",
     "output_type": "stream",
     "text": [
      "Displaying first 6 of gs://going-tfx/sample/data.\n"
     ]
    },
    {
     "data": {
      "text/plain": [
       "['gs://going-tfx/sample/data/atl_june_eval-00000-of-00003',\n",
       " 'gs://going-tfx/sample/data/atl_june_eval-00001-of-00003',\n",
       " 'gs://going-tfx/sample/data/atl_june_eval-00002-of-00003',\n",
       " 'gs://going-tfx/sample/data/atl_june_train-00000-of-00025',\n",
       " 'gs://going-tfx/sample/data/atl_june_train-00001-of-00025',\n",
       " 'gs://going-tfx/sample/data/atl_june_train-00002-of-00025']"
      ]
     },
     "execution_count": 127,
     "metadata": {},
     "output_type": "execute_result"
    }
   ],
   "source": [
    "gsdatadir = gsdirs['data']\n",
    "res = !gsutil ls $gsdatadir\n",
    "print(\"Displaying first 6 of {}.\".format(gsdatadir))\n",
    "res[:6]"
   ]
  },
  {
   "cell_type": "code",
   "execution_count": 128,
   "metadata": {},
   "outputs": [],
   "source": [
    "localdatadir = localdirs['data']\n",
    "_ = !gsutil -m cp $gsdatadir/*eval* $localdatadir\n",
    "_ = !gsutil -m cp $gsdatadir/*train* $localdatadir"
   ]
  },
  {
   "cell_type": "code",
   "execution_count": 129,
   "metadata": {},
   "outputs": [
    {
     "name": "stdout",
     "output_type": "stream",
     "text": [
      "/tmp/atl_june/data/sample contains ['atl_june_eval-00000-of-00003', 'atl_june_eval-00001-of-00003', 'atl_june_eval-00002-of-00003', 'atl_june_train-00000-of-00025', 'atl_june_train-00001-of-00025', 'atl_june_train-00002-of-00025', 'atl_june_train-00003-of-00025', 'atl_june_train-00004-of-00025', 'atl_june_train-00005-of-00025', 'atl_june_train-00006-of-00025', 'atl_june_train-00007-of-00025', 'atl_june_train-00008-of-00025', 'atl_june_train-00009-of-00025', 'atl_june_train-00010-of-00025', 'atl_june_train-00011-of-00025', 'atl_june_train-00012-of-00025', 'atl_june_train-00013-of-00025', 'atl_june_train-00014-of-00025', 'atl_june_train-00015-of-00025', 'atl_june_train-00016-of-00025', 'atl_june_train-00017-of-00025', 'atl_june_train-00018-of-00025', 'atl_june_train-00019-of-00025', 'atl_june_train-00020-of-00025', 'atl_june_train-00021-of-00025', 'atl_june_train-00022-of-00025', 'atl_june_train-00023-of-00025', 'atl_june_train-00024-of-00025'].\n"
     ]
    }
   ],
   "source": [
    "res = !ls $localdatadir\n",
    "print(\"{} contains {}.\".format(local_sample_dir, res if len(res) > 0 else \"no files\"))"
   ]
  },
  {
   "cell_type": "markdown",
   "metadata": {},
   "source": [
    "---\n",
    "#### Have a look into the first training file"
   ]
  },
  {
   "cell_type": "code",
   "execution_count": 142,
   "metadata": {},
   "outputs": [
    {
     "name": "stdout",
     "output_type": "stream",
     "text": [
      "47545 /tmp/atl_june/full/data/atl_june_train-00000-of-00005\n"
     ]
    }
   ],
   "source": [
    "a_training_file = !ls $localdatadir/atl_june_train-00000-of-*\n",
    "a_training_file = a_training_file[0]\n",
    "!wc -l $a_training_file"
   ]
  },
  {
   "cell_type": "code",
   "execution_count": 126,
   "metadata": {},
   "outputs": [
    {
     "name": "stdout",
     "output_type": "stream",
     "text": [
      "2007,6,6,AirTran Airways Corporation: FL,ATL,33.63,-84.42,0.394958,0.98437494,0.33333334,1448,0.11622277,ROC,43.11,-77.67,0.3949275,0.4892473,0.0033003297,1652,-13.0,0.5845411,0.86179125,0.1518046\n",
      "2007,6,4,ExpressJet Airlines Inc.: EV,ATL,33.63,-84.42,0.59243685,0.875,0.5426357,955,0.29539952,ROC,43.11,-77.67,0.35688406,0.46774197,0.010701069,1213,44.0,0.5845411,0.86179125,0.1518046\n",
      "2007,6,5,AirTran Airways Corporation: FL,ATL,33.63,-84.42,0.7268908,1.0,0.45736435,2120,0.15496369,ROC,43.11,-77.67,0.35869563,0.4892473,0.008900889,2324,2.0,0.5845411,0.86179125,0.1518046\n",
      "2007,6,6,Delta Air Lines Inc.: DL,ATL,33.63,-84.42,0.760504,1.0,0.2635659,2058,0.12348669,ROC,43.11,-77.67,0.30615938,0.4892473,0.0120012,2306,-3.0,0.5845411,0.86179125,0.1518046\n"
     ]
    }
   ],
   "source": [
    "!head -4 $a_training_file"
   ]
  },
  {
   "cell_type": "code",
   "execution_count": 125,
   "metadata": {},
   "outputs": [
    {
     "data": {
      "text/html": [
       "<div>\n",
       "<style scoped>\n",
       "    .dataframe tbody tr th:only-of-type {\n",
       "        vertical-align: middle;\n",
       "    }\n",
       "\n",
       "    .dataframe tbody tr th {\n",
       "        vertical-align: top;\n",
       "    }\n",
       "\n",
       "    .dataframe thead th {\n",
       "        text-align: right;\n",
       "    }\n",
       "</style>\n",
       "<table border=\"1\" class=\"dataframe\">\n",
       "  <thead>\n",
       "    <tr style=\"text-align: right;\">\n",
       "      <th></th>\n",
       "      <th>YEAR</th>\n",
       "      <th>MONTH</th>\n",
       "      <th>DEP_DOW</th>\n",
       "      <th>AIRLINE</th>\n",
       "      <th>DEP</th>\n",
       "      <th>DEP_LAT</th>\n",
       "      <th>DEP_LON</th>\n",
       "      <th>MEAN_TEMP_DEP</th>\n",
       "      <th>MEAN_VIS_DEP</th>\n",
       "      <th>WND_SPD_DEP</th>\n",
       "      <th>...</th>\n",
       "      <th>ARR_LAT</th>\n",
       "      <th>ARR_LON</th>\n",
       "      <th>MEAN_TEMP_ARR</th>\n",
       "      <th>MEAN_VIS_ARR</th>\n",
       "      <th>WND_SPD_ARR</th>\n",
       "      <th>ARR_T</th>\n",
       "      <th>ARR_DELAY</th>\n",
       "      <th>DIFF_LAT</th>\n",
       "      <th>DIFF_LON</th>\n",
       "      <th>DISTANCE</th>\n",
       "    </tr>\n",
       "  </thead>\n",
       "  <tbody>\n",
       "    <tr>\n",
       "      <th>0</th>\n",
       "      <td>2007</td>\n",
       "      <td>6</td>\n",
       "      <td>6</td>\n",
       "      <td>AirTran Airways Corporation: FL</td>\n",
       "      <td>ATL</td>\n",
       "      <td>33.63</td>\n",
       "      <td>-84.42</td>\n",
       "      <td>0.394958</td>\n",
       "      <td>0.984375</td>\n",
       "      <td>0.333333</td>\n",
       "      <td>...</td>\n",
       "      <td>43.11</td>\n",
       "      <td>-77.67</td>\n",
       "      <td>0.394927</td>\n",
       "      <td>0.489247</td>\n",
       "      <td>0.003300</td>\n",
       "      <td>1652</td>\n",
       "      <td>-13.0</td>\n",
       "      <td>0.584541</td>\n",
       "      <td>0.861791</td>\n",
       "      <td>0.151805</td>\n",
       "    </tr>\n",
       "    <tr>\n",
       "      <th>1</th>\n",
       "      <td>2007</td>\n",
       "      <td>6</td>\n",
       "      <td>4</td>\n",
       "      <td>ExpressJet Airlines Inc.: EV</td>\n",
       "      <td>ATL</td>\n",
       "      <td>33.63</td>\n",
       "      <td>-84.42</td>\n",
       "      <td>0.592437</td>\n",
       "      <td>0.875000</td>\n",
       "      <td>0.542636</td>\n",
       "      <td>...</td>\n",
       "      <td>43.11</td>\n",
       "      <td>-77.67</td>\n",
       "      <td>0.356884</td>\n",
       "      <td>0.467742</td>\n",
       "      <td>0.010701</td>\n",
       "      <td>1213</td>\n",
       "      <td>44.0</td>\n",
       "      <td>0.584541</td>\n",
       "      <td>0.861791</td>\n",
       "      <td>0.151805</td>\n",
       "    </tr>\n",
       "    <tr>\n",
       "      <th>2</th>\n",
       "      <td>2007</td>\n",
       "      <td>6</td>\n",
       "      <td>5</td>\n",
       "      <td>AirTran Airways Corporation: FL</td>\n",
       "      <td>ATL</td>\n",
       "      <td>33.63</td>\n",
       "      <td>-84.42</td>\n",
       "      <td>0.726891</td>\n",
       "      <td>1.000000</td>\n",
       "      <td>0.457364</td>\n",
       "      <td>...</td>\n",
       "      <td>43.11</td>\n",
       "      <td>-77.67</td>\n",
       "      <td>0.358696</td>\n",
       "      <td>0.489247</td>\n",
       "      <td>0.008901</td>\n",
       "      <td>2324</td>\n",
       "      <td>2.0</td>\n",
       "      <td>0.584541</td>\n",
       "      <td>0.861791</td>\n",
       "      <td>0.151805</td>\n",
       "    </tr>\n",
       "  </tbody>\n",
       "</table>\n",
       "<p>3 rows × 23 columns</p>\n",
       "</div>"
      ],
      "text/plain": [
       "   YEAR  MONTH  DEP_DOW                          AIRLINE  DEP  DEP_LAT  \\\n",
       "0  2007      6        6  AirTran Airways Corporation: FL  ATL    33.63   \n",
       "1  2007      6        4     ExpressJet Airlines Inc.: EV  ATL    33.63   \n",
       "2  2007      6        5  AirTran Airways Corporation: FL  ATL    33.63   \n",
       "\n",
       "   DEP_LON  MEAN_TEMP_DEP  MEAN_VIS_DEP  WND_SPD_DEP    ...     ARR_LAT  \\\n",
       "0   -84.42       0.394958      0.984375     0.333333    ...       43.11   \n",
       "1   -84.42       0.592437      0.875000     0.542636    ...       43.11   \n",
       "2   -84.42       0.726891      1.000000     0.457364    ...       43.11   \n",
       "\n",
       "   ARR_LON MEAN_TEMP_ARR  MEAN_VIS_ARR  WND_SPD_ARR  ARR_T  ARR_DELAY  \\\n",
       "0   -77.67      0.394927      0.489247     0.003300   1652      -13.0   \n",
       "1   -77.67      0.356884      0.467742     0.010701   1213       44.0   \n",
       "2   -77.67      0.358696      0.489247     0.008901   2324        2.0   \n",
       "\n",
       "   DIFF_LAT  DIFF_LON  DISTANCE  \n",
       "0  0.584541  0.861791  0.151805  \n",
       "1  0.584541  0.861791  0.151805  \n",
       "2  0.584541  0.861791  0.151805  \n",
       "\n",
       "[3 rows x 23 columns]"
      ]
     },
     "execution_count": 125,
     "metadata": {},
     "output_type": "execute_result"
    }
   ],
   "source": [
    "t1 = pd.read_csv(a_training_file, names=TRAINING_COLUMNS)\n",
    "t1[:3]"
   ]
  },
  {
   "cell_type": "markdown",
   "metadata": {},
   "source": [
    "---\n",
    "## Second stage: Full dataset"
   ]
  },
  {
   "cell_type": "code",
   "execution_count": 148,
   "metadata": {},
   "outputs": [
    {
     "data": {
      "text/plain": [
       "({'data': 'gs://going-tfx/full/data',\n",
       "  'metadata': 'gs://going-tfx/full/metadata',\n",
       "  'tmp': 'gs://going-tfx/full/tmp'},\n",
       " {'data': '/tmp/atl_june/full/data',\n",
       "  'metadata': '/tmp/atl_june/full/metadata',\n",
       "  'tmp': '/tmp/atl_june/full/tmp'})"
      ]
     },
     "execution_count": 148,
     "metadata": {},
     "output_type": "execute_result"
    }
   ],
   "source": [
    "gsdirs = directories('gs', 'full')\n",
    "localdirs = directories('local', 'full')\n",
    "gsdirs, localdirs"
   ]
  },
  {
   "cell_type": "code",
   "execution_count": 133,
   "metadata": {},
   "outputs": [
    {
     "name": "stdout",
     "output_type": "stream",
     "text": [
      "/tmp/atl_june/full/tmp contains 0 files.\n",
      "/tmp/atl_june/full/data contains 0 files.\n",
      "/tmp/atl_june/full/metadata contains 0 files.\n",
      "gs://going-tfx/full/tmp: CommandException: One or more URLs matched no objects.\n",
      "gs://going-tfx/full/data: CommandException: One or more URLs matched no objects.\n",
      "gs://going-tfx/full/metadata: CommandException: One or more URLs matched no objects.\n"
     ]
    }
   ],
   "source": [
    "cleanup('full')"
   ]
  },
  {
   "cell_type": "markdown",
   "metadata": {},
   "source": [
    "---\n",
    "#### This executes in dataflow and takes some 12 - 20 minutes\n",
    "But if you watch the graph in the dataflow console, you see that the job lives until the VM is shutdown. The files may be available a bit earlier."
   ]
  },
  {
   "cell_type": "code",
   "execution_count": 134,
   "metadata": {},
   "outputs": [
    {
     "name": "stderr",
     "output_type": "stream",
     "text": [
      "/usr/local/lib/python2.7/dist-packages/apache_beam/runners/dataflow/dataflow_runner.py:795: DeprecationWarning: options is deprecated since First stable release. References to <pipeline>.options will not be supported\n",
      "  standard_options = transform_node.inputs[0].pipeline.options.view_as(\n"
     ]
    }
   ],
   "source": [
    "exec_pipeline_prod (\n",
    "    'gs', 'full',\n",
    "    preprocessing_fn=pre_processor, \n",
    "    output_columns=TRAINING_COLUMNS, \n",
    "    fractions=[90, 5, 5], \n",
    "    sample_rate=1.0, \n",
    "    prefix='atl_june',\n",
    "    runner = 'DataflowRunner')"
   ]
  },
  {
   "cell_type": "markdown",
   "metadata": {},
   "source": [
    "#### Examine and retrieve the results."
   ]
  },
  {
   "cell_type": "code",
   "execution_count": 149,
   "metadata": {},
   "outputs": [
    {
     "name": "stdout",
     "output_type": "stream",
     "text": [
      "Displaying first 6 of gs://going-tfx/full/data.\n"
     ]
    },
    {
     "data": {
      "text/plain": [
       "['gs://going-tfx/full/data/atl_june_eval-00000-of-00001',\n",
       " 'gs://going-tfx/full/data/atl_june_train-00000-of-00005',\n",
       " 'gs://going-tfx/full/data/atl_june_train-00001-of-00005',\n",
       " 'gs://going-tfx/full/data/atl_june_train-00002-of-00005',\n",
       " 'gs://going-tfx/full/data/atl_june_train-00003-of-00005',\n",
       " 'gs://going-tfx/full/data/atl_june_train-00004-of-00005']"
      ]
     },
     "execution_count": 149,
     "metadata": {},
     "output_type": "execute_result"
    }
   ],
   "source": [
    "gsdatadir = gsdirs['data']\n",
    "res = !gsutil ls $gsdatadir\n",
    "print(\"Displaying first 6 of {}.\".format(gsdatadir))\n",
    "res[:6]"
   ]
  },
  {
   "cell_type": "code",
   "execution_count": 150,
   "metadata": {},
   "outputs": [],
   "source": [
    "localdatadir = localdirs['data']"
   ]
  },
  {
   "cell_type": "code",
   "execution_count": 139,
   "metadata": {},
   "outputs": [],
   "source": [
    "_ = !gsutil -m cp $gsdatadir/*eval* $localdatadir\n",
    "_ = !gsutil -m cp $gsdatadir/*train* $localdatadir"
   ]
  },
  {
   "cell_type": "code",
   "execution_count": 151,
   "metadata": {},
   "outputs": [
    {
     "name": "stdout",
     "output_type": "stream",
     "text": [
      "/tmp/atl_june/full/data contains ['atl_june_eval-00000-of-00001', 'atl_june_train-00000-of-00005', 'atl_june_train-00001-of-00005', 'atl_june_train-00002-of-00005', 'atl_june_train-00003-of-00005', 'atl_june_train-00004-of-00005'].\n"
     ]
    }
   ],
   "source": [
    "res = !ls $localdatadir\n",
    "print(\"{} contains {}.\".format(localdatadir, res if len(res) > 0 else \"no files\"))"
   ]
  },
  {
   "cell_type": "markdown",
   "metadata": {},
   "source": [
    "---\n",
    "#### Have a look into the first training file"
   ]
  },
  {
   "cell_type": "code",
   "execution_count": 152,
   "metadata": {},
   "outputs": [
    {
     "name": "stdout",
     "output_type": "stream",
     "text": [
      "47545 /tmp/atl_june/full/data/atl_june_train-00000-of-00005\n"
     ]
    }
   ],
   "source": [
    "a_training_file = !ls $localdatadir/atl_june_train-00000-of-*\n",
    "a_training_file = a_training_file[0]\n",
    "!wc -l $a_training_file"
   ]
  },
  {
   "cell_type": "code",
   "execution_count": 153,
   "metadata": {},
   "outputs": [
    {
     "name": "stdout",
     "output_type": "stream",
     "text": [
      "2010,6,2,Delta Air Lines Inc.: DL,ATL,33.63,-84.42,0.840336,1.0,0.41085273,1506,0.06144698,RIC,37.5,-77.31,0.78649926,0.009406583,0.010000999,1649,18.0,0.45548654,0.86565727,0.090910725\n"
     ]
    }
   ],
   "source": [
    "!head -1 $a_training_file"
   ]
  },
  {
   "cell_type": "code",
   "execution_count": 154,
   "metadata": {},
   "outputs": [],
   "source": [
    "t1 = pd.read_csv(a_training_file, names=TRAINING_COLUMNS)"
   ]
  },
  {
   "cell_type": "code",
   "execution_count": 158,
   "metadata": {},
   "outputs": [
    {
     "data": {
      "text/html": [
       "<div>\n",
       "<style scoped>\n",
       "    .dataframe tbody tr th:only-of-type {\n",
       "        vertical-align: middle;\n",
       "    }\n",
       "\n",
       "    .dataframe tbody tr th {\n",
       "        vertical-align: top;\n",
       "    }\n",
       "\n",
       "    .dataframe thead th {\n",
       "        text-align: right;\n",
       "    }\n",
       "</style>\n",
       "<table border=\"1\" class=\"dataframe\">\n",
       "  <thead>\n",
       "    <tr style=\"text-align: right;\">\n",
       "      <th></th>\n",
       "      <th>YEAR</th>\n",
       "      <th>MONTH</th>\n",
       "      <th>DEP_DOW</th>\n",
       "      <th>AIRLINE</th>\n",
       "      <th>DEP</th>\n",
       "      <th>DEP_LAT</th>\n",
       "      <th>DEP_LON</th>\n",
       "      <th>MEAN_TEMP_DEP</th>\n",
       "      <th>MEAN_VIS_DEP</th>\n",
       "      <th>WND_SPD_DEP</th>\n",
       "      <th>...</th>\n",
       "      <th>ARR_LAT</th>\n",
       "      <th>ARR_LON</th>\n",
       "      <th>MEAN_TEMP_ARR</th>\n",
       "      <th>MEAN_VIS_ARR</th>\n",
       "      <th>WND_SPD_ARR</th>\n",
       "      <th>ARR_T</th>\n",
       "      <th>ARR_DELAY</th>\n",
       "      <th>DIFF_LAT</th>\n",
       "      <th>DIFF_LON</th>\n",
       "      <th>DISTANCE</th>\n",
       "    </tr>\n",
       "  </thead>\n",
       "  <tbody>\n",
       "    <tr>\n",
       "      <th>0</th>\n",
       "      <td>2010</td>\n",
       "      <td>6</td>\n",
       "      <td>2</td>\n",
       "      <td>Delta Air Lines Inc.: DL</td>\n",
       "      <td>ATL</td>\n",
       "      <td>33.63</td>\n",
       "      <td>-84.42</td>\n",
       "      <td>0.840336</td>\n",
       "      <td>1.0</td>\n",
       "      <td>0.410853</td>\n",
       "      <td>...</td>\n",
       "      <td>37.5</td>\n",
       "      <td>-77.31</td>\n",
       "      <td>0.786499</td>\n",
       "      <td>0.009407</td>\n",
       "      <td>0.010001</td>\n",
       "      <td>1649</td>\n",
       "      <td>18.0</td>\n",
       "      <td>0.455487</td>\n",
       "      <td>0.865657</td>\n",
       "      <td>0.090911</td>\n",
       "    </tr>\n",
       "    <tr>\n",
       "      <th>1</th>\n",
       "      <td>2010</td>\n",
       "      <td>6</td>\n",
       "      <td>2</td>\n",
       "      <td>AirTran Airways Corporation: FL</td>\n",
       "      <td>ATL</td>\n",
       "      <td>33.63</td>\n",
       "      <td>-84.42</td>\n",
       "      <td>0.840336</td>\n",
       "      <td>1.0</td>\n",
       "      <td>0.410853</td>\n",
       "      <td>...</td>\n",
       "      <td>37.5</td>\n",
       "      <td>-77.31</td>\n",
       "      <td>0.786499</td>\n",
       "      <td>0.009407</td>\n",
       "      <td>0.010001</td>\n",
       "      <td>1013</td>\n",
       "      <td>-2.0</td>\n",
       "      <td>0.455487</td>\n",
       "      <td>0.865657</td>\n",
       "      <td>0.090911</td>\n",
       "    </tr>\n",
       "    <tr>\n",
       "      <th>2</th>\n",
       "      <td>2010</td>\n",
       "      <td>6</td>\n",
       "      <td>2</td>\n",
       "      <td>Delta Air Lines Inc.: DL</td>\n",
       "      <td>ATL</td>\n",
       "      <td>33.63</td>\n",
       "      <td>-84.42</td>\n",
       "      <td>0.840336</td>\n",
       "      <td>1.0</td>\n",
       "      <td>0.410853</td>\n",
       "      <td>...</td>\n",
       "      <td>37.5</td>\n",
       "      <td>-77.31</td>\n",
       "      <td>0.786499</td>\n",
       "      <td>0.009407</td>\n",
       "      <td>0.010001</td>\n",
       "      <td>1825</td>\n",
       "      <td>75.0</td>\n",
       "      <td>0.455487</td>\n",
       "      <td>0.865657</td>\n",
       "      <td>0.090911</td>\n",
       "    </tr>\n",
       "  </tbody>\n",
       "</table>\n",
       "<p>3 rows × 23 columns</p>\n",
       "</div>"
      ],
      "text/plain": [
       "   YEAR  MONTH  DEP_DOW                          AIRLINE  DEP  DEP_LAT  \\\n",
       "0  2010      6        2         Delta Air Lines Inc.: DL  ATL    33.63   \n",
       "1  2010      6        2  AirTran Airways Corporation: FL  ATL    33.63   \n",
       "2  2010      6        2         Delta Air Lines Inc.: DL  ATL    33.63   \n",
       "\n",
       "   DEP_LON  MEAN_TEMP_DEP  MEAN_VIS_DEP  WND_SPD_DEP    ...     ARR_LAT  \\\n",
       "0   -84.42       0.840336           1.0     0.410853    ...        37.5   \n",
       "1   -84.42       0.840336           1.0     0.410853    ...        37.5   \n",
       "2   -84.42       0.840336           1.0     0.410853    ...        37.5   \n",
       "\n",
       "   ARR_LON MEAN_TEMP_ARR  MEAN_VIS_ARR  WND_SPD_ARR  ARR_T  ARR_DELAY  \\\n",
       "0   -77.31      0.786499      0.009407     0.010001   1649       18.0   \n",
       "1   -77.31      0.786499      0.009407     0.010001   1013       -2.0   \n",
       "2   -77.31      0.786499      0.009407     0.010001   1825       75.0   \n",
       "\n",
       "   DIFF_LAT  DIFF_LON  DISTANCE  \n",
       "0  0.455487  0.865657  0.090911  \n",
       "1  0.455487  0.865657  0.090911  \n",
       "2  0.455487  0.865657  0.090911  \n",
       "\n",
       "[3 rows x 23 columns]"
      ]
     },
     "execution_count": 158,
     "metadata": {},
     "output_type": "execute_result"
    }
   ],
   "source": [
    "t1 = pd.read_csv(a_training_file, names=TRAINING_COLUMNS)\n",
    "t1[:3]"
   ]
  },
  {
   "cell_type": "code",
   "execution_count": null,
   "metadata": {},
   "outputs": [],
   "source": []
  }
 ],
 "metadata": {
  "kernelspec": {
   "display_name": "Python 2",
   "language": "python",
   "name": "python2"
  },
  "language_info": {
   "codemirror_mode": {
    "name": "ipython",
    "version": 2
   },
   "file_extension": ".py",
   "mimetype": "text/x-python",
   "name": "python",
   "nbconvert_exporter": "python",
   "pygments_lexer": "ipython2",
   "version": "2.7.13"
  }
 },
 "nbformat": 4,
 "nbformat_minor": 2
}
