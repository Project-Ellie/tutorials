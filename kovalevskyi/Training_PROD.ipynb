{
 "cells": [
  {
   "cell_type": "code",
   "execution_count": 1,
   "metadata": {},
   "outputs": [],
   "source": [
    "from __future__ import division\n",
    "from __future__ import print_function\n",
    "from __future__ import absolute_import"
   ]
  },
  {
   "cell_type": "code",
   "execution_count": 2,
   "metadata": {},
   "outputs": [],
   "source": [
    "import os\n",
    "import pandas as pd\n",
    "import tensorflow as tf\n",
    "import google.datalab.bigquery as dlbq"
   ]
  },
  {
   "cell_type": "code",
   "execution_count": 3,
   "metadata": {},
   "outputs": [
    {
     "name": "stdout",
     "output_type": "stream",
     "text": [
      "1.12.0-rc2\n",
      "Built with cuda\n",
      "GPU available.\n"
     ]
    }
   ],
   "source": [
    "print(tf.__version__)\n",
    "if tf.test.is_built_with_cuda():\n",
    "    print (\"Built with cuda\")\n",
    "if tf.test.is_gpu_available():\n",
    "    print(\"GPU available.\")"
   ]
  },
  {
   "cell_type": "code",
   "execution_count": 4,
   "metadata": {},
   "outputs": [],
   "source": [
    "tf.logging.set_verbosity(tf.logging.INFO)"
   ]
  },
  {
   "cell_type": "markdown",
   "metadata": {},
   "source": [
    "---\n",
    "##### From Jupyter notebook to python package\n",
    "From exploration to production.\n",
    "\n",
    "This little tool dumps a given function to a file with the same name in a certain package"
   ]
  },
  {
   "cell_type": "code",
   "execution_count": 5,
   "metadata": {},
   "outputs": [],
   "source": [
    "PACKAGE=\"./train\"\n",
    "from tools import make_src_dumper\n",
    "write_py = make_src_dumper(PACKAGE)"
   ]
  },
  {
   "cell_type": "markdown",
   "metadata": {},
   "source": [
    "---"
   ]
  },
  {
   "cell_type": "markdown",
   "metadata": {},
   "source": [
    "# Training and Evaluation Data\n",
    "Training and evaluation data should be provided in files already.\n",
    "\n",
    "If not, please go back an run ```Processing_ATL_JUNE.ipynb```\n",
    "\n",
    "#### Fetch a sample file for examination"
   ]
  },
  {
   "cell_type": "code",
   "execution_count": 7,
   "metadata": {},
   "outputs": [
    {
     "name": "stdout",
     "output_type": "stream",
     "text": [
      "Copying gs://going-tfx/sample/train_data/atl_june_train-00000-of-00025...\n",
      "/ [1 files][136.5 KiB/136.5 KiB]                                                \n",
      "Operation completed over 1 objects/136.5 KiB.                                    \n",
      "\n",
      "1000 records in /tmp/atl_june/sample/atl_june_train-00000-of-00025\n"
     ]
    }
   ],
   "source": [
    "a_training_file = !gsutil ls gs://going-tfx/sample/train_data/atl_june_train-00000-of-*\n",
    "a_training_file = a_training_file[0]\n",
    "TEMP_DIR='/tmp/atl_june/sample'\n",
    "!rm -rf $TEMP_DIR\n",
    "!mkdir -p $TEMP_DIR\n",
    "!gsutil cp $a_training_file $TEMP_DIR\n",
    "a_training_file = !ls $TEMP_DIR\n",
    "a_training_file = os.path.join(TEMP_DIR,a_training_file[0])\n",
    "res=!wc -l $a_training_file\n",
    "res=res[0].split(\" \")\n",
    "print()\n",
    "print(\"{} records in {}\".format(res[0], res[1]))"
   ]
  },
  {
   "cell_type": "markdown",
   "metadata": {},
   "source": [
    "#### Have a look into the first training data file\n",
    "\n",
    "This data is at the **training data** stage. It's got all and only the columns we want. Is has been normalized and integerized. We'll use the ```tf.feature_column``` API to further prepare categorical features."
   ]
  },
  {
   "cell_type": "code",
   "execution_count": 8,
   "metadata": {},
   "outputs": [
    {
     "data": {
      "text/html": [
       "<div>\n",
       "<style scoped>\n",
       "    .dataframe tbody tr th:only-of-type {\n",
       "        vertical-align: middle;\n",
       "    }\n",
       "\n",
       "    .dataframe tbody tr th {\n",
       "        vertical-align: top;\n",
       "    }\n",
       "\n",
       "    .dataframe thead th {\n",
       "        text-align: right;\n",
       "    }\n",
       "</style>\n",
       "<table border=\"1\" class=\"dataframe\">\n",
       "  <thead>\n",
       "    <tr style=\"text-align: right;\">\n",
       "      <th></th>\n",
       "      <th>ARR_DELAY</th>\n",
       "      <th>ARR_LAT</th>\n",
       "      <th>ARR_LON</th>\n",
       "      <th>DEP_DELAY</th>\n",
       "      <th>DEP_DOW</th>\n",
       "      <th>DEP_HOD</th>\n",
       "      <th>DEP_LAT</th>\n",
       "      <th>DEP_LON</th>\n",
       "      <th>DIFF_LAT</th>\n",
       "      <th>DIFF_LON</th>\n",
       "      <th>DISTANCE</th>\n",
       "      <th>MEAN_TEMP_ARR</th>\n",
       "      <th>MEAN_TEMP_DEP</th>\n",
       "      <th>MEAN_VIS_ARR</th>\n",
       "      <th>MEAN_VIS_DEP</th>\n",
       "      <th>WND_SPD_ARR</th>\n",
       "      <th>WND_SPD_DEP</th>\n",
       "    </tr>\n",
       "  </thead>\n",
       "  <tbody>\n",
       "    <tr>\n",
       "      <th>901</th>\n",
       "      <td>1.0</td>\n",
       "      <td>42.21</td>\n",
       "      <td>-83.35</td>\n",
       "      <td>0.118644</td>\n",
       "      <td>6</td>\n",
       "      <td>17</td>\n",
       "      <td>33.63</td>\n",
       "      <td>-84.42</td>\n",
       "      <td>0.563837</td>\n",
       "      <td>0.800795</td>\n",
       "      <td>0.116967</td>\n",
       "      <td>0.461956</td>\n",
       "      <td>0.684874</td>\n",
       "      <td>0.489247</td>\n",
       "      <td>0.87500</td>\n",
       "      <td>0.006601</td>\n",
       "      <td>0.248062</td>\n",
       "    </tr>\n",
       "    <tr>\n",
       "      <th>752</th>\n",
       "      <td>15.0</td>\n",
       "      <td>25.79</td>\n",
       "      <td>-80.29</td>\n",
       "      <td>0.184019</td>\n",
       "      <td>6</td>\n",
       "      <td>21</td>\n",
       "      <td>33.63</td>\n",
       "      <td>-84.42</td>\n",
       "      <td>0.186105</td>\n",
       "      <td>0.833655</td>\n",
       "      <td>0.116937</td>\n",
       "      <td>0.657609</td>\n",
       "      <td>0.810924</td>\n",
       "      <td>0.489247</td>\n",
       "      <td>0.46875</td>\n",
       "      <td>0.007801</td>\n",
       "      <td>0.248062</td>\n",
       "    </tr>\n",
       "  </tbody>\n",
       "</table>\n",
       "</div>"
      ],
      "text/plain": [
       "     ARR_DELAY  ARR_LAT  ARR_LON  DEP_DELAY  DEP_DOW  DEP_HOD  DEP_LAT  \\\n",
       "901        1.0    42.21   -83.35   0.118644        6       17    33.63   \n",
       "752       15.0    25.79   -80.29   0.184019        6       21    33.63   \n",
       "\n",
       "     DEP_LON  DIFF_LAT  DIFF_LON  DISTANCE  MEAN_TEMP_ARR  MEAN_TEMP_DEP  \\\n",
       "901   -84.42  0.563837  0.800795  0.116967       0.461956       0.684874   \n",
       "752   -84.42  0.186105  0.833655  0.116937       0.657609       0.810924   \n",
       "\n",
       "     MEAN_VIS_ARR  MEAN_VIS_DEP  WND_SPD_ARR  WND_SPD_DEP  \n",
       "901      0.489247       0.87500     0.006601     0.248062  \n",
       "752      0.489247       0.46875     0.007801     0.248062  "
      ]
     },
     "execution_count": 8,
     "metadata": {},
     "output_type": "execute_result"
    }
   ],
   "source": [
    "from train.model_config import ORDERED_TRAINING_COLUMNS\n",
    "probe = pd.read_csv(a_training_file, names=ORDERED_TRAINING_COLUMNS)\n",
    "probe.sample(frac=1.0)[:2]"
   ]
  },
  {
   "cell_type": "code",
   "execution_count": 9,
   "metadata": {},
   "outputs": [
    {
     "data": {
      "text/html": [
       "<div>\n",
       "<style scoped>\n",
       "    .dataframe tbody tr th:only-of-type {\n",
       "        vertical-align: middle;\n",
       "    }\n",
       "\n",
       "    .dataframe tbody tr th {\n",
       "        vertical-align: top;\n",
       "    }\n",
       "\n",
       "    .dataframe thead th {\n",
       "        text-align: right;\n",
       "    }\n",
       "</style>\n",
       "<table border=\"1\" class=\"dataframe\">\n",
       "  <thead>\n",
       "    <tr style=\"text-align: right;\">\n",
       "      <th></th>\n",
       "      <th>ARR_DELAY</th>\n",
       "      <th>ARR_LAT</th>\n",
       "      <th>ARR_LON</th>\n",
       "      <th>DEP_DELAY</th>\n",
       "      <th>DEP_DOW</th>\n",
       "      <th>DEP_HOD</th>\n",
       "      <th>DEP_LAT</th>\n",
       "      <th>DEP_LON</th>\n",
       "      <th>DIFF_LAT</th>\n",
       "      <th>DIFF_LON</th>\n",
       "      <th>DISTANCE</th>\n",
       "      <th>MEAN_TEMP_ARR</th>\n",
       "      <th>MEAN_TEMP_DEP</th>\n",
       "      <th>MEAN_VIS_ARR</th>\n",
       "      <th>MEAN_VIS_DEP</th>\n",
       "      <th>WND_SPD_ARR</th>\n",
       "      <th>WND_SPD_DEP</th>\n",
       "    </tr>\n",
       "  </thead>\n",
       "  <tbody>\n",
       "    <tr>\n",
       "      <th>count</th>\n",
       "      <td>1000.000000</td>\n",
       "      <td>1000.000000</td>\n",
       "      <td>1000.000000</td>\n",
       "      <td>1000.000000</td>\n",
       "      <td>1000.000000</td>\n",
       "      <td>1000.000000</td>\n",
       "      <td>1000.00</td>\n",
       "      <td>1000.00</td>\n",
       "      <td>1000.000000</td>\n",
       "      <td>1000.000000</td>\n",
       "      <td>1000.000000</td>\n",
       "      <td>1000.000000</td>\n",
       "      <td>1000.000000</td>\n",
       "      <td>1000.000000</td>\n",
       "      <td>1000.000000</td>\n",
       "      <td>1000.000000</td>\n",
       "      <td>1000.000000</td>\n",
       "    </tr>\n",
       "    <tr>\n",
       "      <th>mean</th>\n",
       "      <td>12.653000</td>\n",
       "      <td>35.649160</td>\n",
       "      <td>-87.960920</td>\n",
       "      <td>0.164726</td>\n",
       "      <td>4.744000</td>\n",
       "      <td>14.378000</td>\n",
       "      <td>33.63</td>\n",
       "      <td>-84.42</td>\n",
       "      <td>0.412909</td>\n",
       "      <td>0.751279</td>\n",
       "      <td>0.137534</td>\n",
       "      <td>0.541755</td>\n",
       "      <td>0.639660</td>\n",
       "      <td>0.434478</td>\n",
       "      <td>0.727578</td>\n",
       "      <td>0.006493</td>\n",
       "      <td>0.349775</td>\n",
       "    </tr>\n",
       "    <tr>\n",
       "      <th>std</th>\n",
       "      <td>35.990776</td>\n",
       "      <td>5.288832</td>\n",
       "      <td>13.495345</td>\n",
       "      <td>0.082028</td>\n",
       "      <td>2.015571</td>\n",
       "      <td>4.654114</td>\n",
       "      <td>0.00</td>\n",
       "      <td>0.00</td>\n",
       "      <td>0.121666</td>\n",
       "      <td>0.144924</td>\n",
       "      <td>0.121488</td>\n",
       "      <td>0.132366</td>\n",
       "      <td>0.195845</td>\n",
       "      <td>0.074008</td>\n",
       "      <td>0.210591</td>\n",
       "      <td>0.002687</td>\n",
       "      <td>0.225363</td>\n",
       "    </tr>\n",
       "    <tr>\n",
       "      <th>min</th>\n",
       "      <td>-30.000000</td>\n",
       "      <td>18.330000</td>\n",
       "      <td>-157.920000</td>\n",
       "      <td>0.094431</td>\n",
       "      <td>1.000000</td>\n",
       "      <td>5.000000</td>\n",
       "      <td>33.63</td>\n",
       "      <td>-84.42</td>\n",
       "      <td>0.014493</td>\n",
       "      <td>0.000000</td>\n",
       "      <td>0.000000</td>\n",
       "      <td>0.106884</td>\n",
       "      <td>0.214286</td>\n",
       "      <td>0.086022</td>\n",
       "      <td>0.375000</td>\n",
       "      <td>0.000700</td>\n",
       "      <td>0.124031</td>\n",
       "    </tr>\n",
       "    <tr>\n",
       "      <th>25%</th>\n",
       "      <td>-8.000000</td>\n",
       "      <td>31.320000</td>\n",
       "      <td>-93.450000</td>\n",
       "      <td>0.123487</td>\n",
       "      <td>4.000000</td>\n",
       "      <td>10.000000</td>\n",
       "      <td>33.63</td>\n",
       "      <td>-84.42</td>\n",
       "      <td>0.313320</td>\n",
       "      <td>0.692333</td>\n",
       "      <td>0.062985</td>\n",
       "      <td>0.474638</td>\n",
       "      <td>0.483193</td>\n",
       "      <td>0.408602</td>\n",
       "      <td>0.515625</td>\n",
       "      <td>0.004700</td>\n",
       "      <td>0.209302</td>\n",
       "    </tr>\n",
       "    <tr>\n",
       "      <th>50%</th>\n",
       "      <td>1.000000</td>\n",
       "      <td>35.870000</td>\n",
       "      <td>-83.350000</td>\n",
       "      <td>0.128329</td>\n",
       "      <td>4.000000</td>\n",
       "      <td>14.000000</td>\n",
       "      <td>33.63</td>\n",
       "      <td>-84.42</td>\n",
       "      <td>0.417989</td>\n",
       "      <td>0.800795</td>\n",
       "      <td>0.106730</td>\n",
       "      <td>0.564312</td>\n",
       "      <td>0.684874</td>\n",
       "      <td>0.467742</td>\n",
       "      <td>0.671875</td>\n",
       "      <td>0.006201</td>\n",
       "      <td>0.248062</td>\n",
       "    </tr>\n",
       "    <tr>\n",
       "      <th>75%</th>\n",
       "      <td>18.000000</td>\n",
       "      <td>39.900000</td>\n",
       "      <td>-79.970000</td>\n",
       "      <td>0.169492</td>\n",
       "      <td>7.000000</td>\n",
       "      <td>18.000000</td>\n",
       "      <td>33.63</td>\n",
       "      <td>-84.42</td>\n",
       "      <td>0.510697</td>\n",
       "      <td>0.837092</td>\n",
       "      <td>0.150884</td>\n",
       "      <td>0.628623</td>\n",
       "      <td>0.816176</td>\n",
       "      <td>0.489247</td>\n",
       "      <td>0.984375</td>\n",
       "      <td>0.007901</td>\n",
       "      <td>0.604651</td>\n",
       "    </tr>\n",
       "    <tr>\n",
       "      <th>max</th>\n",
       "      <td>252.000000</td>\n",
       "      <td>61.170000</td>\n",
       "      <td>-64.970000</td>\n",
       "      <td>0.777240</td>\n",
       "      <td>7.000000</td>\n",
       "      <td>23.000000</td>\n",
       "      <td>33.63</td>\n",
       "      <td>-84.42</td>\n",
       "      <td>1.000000</td>\n",
       "      <td>0.998174</td>\n",
       "      <td>1.000000</td>\n",
       "      <td>0.947464</td>\n",
       "      <td>0.869748</td>\n",
       "      <td>0.489247</td>\n",
       "      <td>1.000000</td>\n",
       "      <td>0.024102</td>\n",
       "      <td>0.798450</td>\n",
       "    </tr>\n",
       "  </tbody>\n",
       "</table>\n",
       "</div>"
      ],
      "text/plain": [
       "         ARR_DELAY      ARR_LAT      ARR_LON    DEP_DELAY      DEP_DOW  \\\n",
       "count  1000.000000  1000.000000  1000.000000  1000.000000  1000.000000   \n",
       "mean     12.653000    35.649160   -87.960920     0.164726     4.744000   \n",
       "std      35.990776     5.288832    13.495345     0.082028     2.015571   \n",
       "min     -30.000000    18.330000  -157.920000     0.094431     1.000000   \n",
       "25%      -8.000000    31.320000   -93.450000     0.123487     4.000000   \n",
       "50%       1.000000    35.870000   -83.350000     0.128329     4.000000   \n",
       "75%      18.000000    39.900000   -79.970000     0.169492     7.000000   \n",
       "max     252.000000    61.170000   -64.970000     0.777240     7.000000   \n",
       "\n",
       "           DEP_HOD  DEP_LAT  DEP_LON     DIFF_LAT     DIFF_LON     DISTANCE  \\\n",
       "count  1000.000000  1000.00  1000.00  1000.000000  1000.000000  1000.000000   \n",
       "mean     14.378000    33.63   -84.42     0.412909     0.751279     0.137534   \n",
       "std       4.654114     0.00     0.00     0.121666     0.144924     0.121488   \n",
       "min       5.000000    33.63   -84.42     0.014493     0.000000     0.000000   \n",
       "25%      10.000000    33.63   -84.42     0.313320     0.692333     0.062985   \n",
       "50%      14.000000    33.63   -84.42     0.417989     0.800795     0.106730   \n",
       "75%      18.000000    33.63   -84.42     0.510697     0.837092     0.150884   \n",
       "max      23.000000    33.63   -84.42     1.000000     0.998174     1.000000   \n",
       "\n",
       "       MEAN_TEMP_ARR  MEAN_TEMP_DEP  MEAN_VIS_ARR  MEAN_VIS_DEP  WND_SPD_ARR  \\\n",
       "count    1000.000000    1000.000000   1000.000000   1000.000000  1000.000000   \n",
       "mean        0.541755       0.639660      0.434478      0.727578     0.006493   \n",
       "std         0.132366       0.195845      0.074008      0.210591     0.002687   \n",
       "min         0.106884       0.214286      0.086022      0.375000     0.000700   \n",
       "25%         0.474638       0.483193      0.408602      0.515625     0.004700   \n",
       "50%         0.564312       0.684874      0.467742      0.671875     0.006201   \n",
       "75%         0.628623       0.816176      0.489247      0.984375     0.007901   \n",
       "max         0.947464       0.869748      0.489247      1.000000     0.024102   \n",
       "\n",
       "       WND_SPD_DEP  \n",
       "count  1000.000000  \n",
       "mean      0.349775  \n",
       "std       0.225363  \n",
       "min       0.124031  \n",
       "25%       0.209302  \n",
       "50%       0.248062  \n",
       "75%       0.604651  \n",
       "max       0.798450  "
      ]
     },
     "execution_count": 9,
     "metadata": {},
     "output_type": "execute_result"
    }
   ],
   "source": [
    "probe.describe()"
   ]
  },
  {
   "cell_type": "markdown",
   "metadata": {},
   "source": [
    "---\n",
    "# ```tf.data``` input function"
   ]
  },
  {
   "cell_type": "markdown",
   "metadata": {},
   "source": [
    "#### These input functions read from any number of files containing pre-processed data\n",
    "In our parlour, this data is at the **training stage**. It's been fetched from a BigQuery table and pre-processed. It's not what'll come in at prediction time!\n",
    "\n",
    "That pre-processing function has been stored in a metadata directory that is available to us to treat data at prediction time (**signature stage**) exactly the same way that our training data has been treated."
   ]
  },
  {
   "cell_type": "markdown",
   "metadata": {},
   "source": [
    "#### Read from TFRecords\n",
    "This is highly optimized for throughput, but files are not that easy to play with"
   ]
  },
  {
   "cell_type": "code",
   "execution_count": 72,
   "metadata": {},
   "outputs": [
    {
     "data": {
      "text/plain": [
       "'make_tfr_input_fn written to ./train/make_tfr_input_fn.py.'"
      ]
     },
     "execution_count": 72,
     "metadata": {},
     "output_type": "execute_result"
    }
   ],
   "source": [
    "def make_tfr_input_fn(filename_pattern, batch_size, shuffle_buffer_size=10000, distribute=False,\n",
    "                     reader_num_threads=16, parser_num_threads=16, sloppy_ordering=True,\n",
    "                      prefetch_buffer_size=1024):\n",
    "    \n",
    "    import tensorflow as tf\n",
    "    from train.model_config import LABEL_COLUMN\n",
    "    from train.model_config import TRAINING_METADATA\n",
    "\n",
    "    feature_spec = TRAINING_METADATA.schema.as_feature_spec()\n",
    "\n",
    "    def _input_fn():\n",
    "        dataset = tf.data.experimental.make_batched_features_dataset(\n",
    "            file_pattern=filename_pattern,\n",
    "            batch_size=batch_size,\n",
    "            features=feature_spec,\n",
    "            shuffle_buffer_size=shuffle_buffer_size,\n",
    "            prefetch_buffer_size=prefetch_buffer_size,\n",
    "            reader_num_threads=reader_num_threads,\n",
    "            parser_num_threads=parser_num_threads,\n",
    "            sloppy_ordering=sloppy_ordering,\n",
    "            label_key=LABEL_COLUMN)\n",
    "\n",
    "        if distribute:\n",
    "            return dataset \n",
    "        else:\n",
    "            return dataset.make_one_shot_iterator().get_next()\n",
    "    return _input_fn\n",
    "\n",
    "write_py(make_tfr_input_fn)"
   ]
  },
  {
   "cell_type": "markdown",
   "metadata": {},
   "source": [
    "---\n",
    "#### Verify the input_function's behaviour\n",
    "```make_input_fn()``` returns an input_function. This function will be passed to the estimator, such that the estimator can call it in its own session/graph context to create a particularly useful input tensor. That input tensor will return the next batch of input records whenever it is evaluated. Let's create that tensor ourselves to see it in action."
   ]
  },
  {
   "cell_type": "code",
   "execution_count": 78,
   "metadata": {},
   "outputs": [
    {
     "data": {
      "text/plain": [
       "[({'ARR_LAT': array([29.69, 39.17], dtype=float32),\n",
       "   'ARR_LON': array([-82.27, -76.66], dtype=float32),\n",
       "   'DEP_DELAY': array([0.094431 , 0.1283293], dtype=float32),\n",
       "   'DEP_DOW': array([4, 7]),\n",
       "   'DEP_HOD': array([16, 12]),\n",
       "   'DEP_LAT': array([33.63, 33.63], dtype=float32),\n",
       "   'DEP_LON': array([-84.42, -84.42], dtype=float32),\n",
       "   'DIFF_LAT': array([0.2758224, 0.4939038], dtype=float32),\n",
       "   'DIFF_LON': array([0.81239265, 0.87263745], dtype=float32),\n",
       "   'DISTANCE': array([0.05005224, 0.11261214], dtype=float32),\n",
       "   'MEAN_TEMP_ARR': array([0.5942029, 0.5380435], dtype=float32),\n",
       "   'MEAN_TEMP_DEP': array([0.8613444 , 0.60924363], dtype=float32),\n",
       "   'MEAN_VIS_ARR': array([0.40860212, 0.4784946 ], dtype=float32),\n",
       "   'MEAN_VIS_DEP': array([1.      , 0.515625], dtype=float32),\n",
       "   'WND_SPD_ARR': array([0.08943089, 0.17479675], dtype=float32),\n",
       "   'WND_SPD_DEP': array([0.124031  , 0.60465115], dtype=float32)},\n",
       "  array([-13.,   3.], dtype=float32))]"
      ]
     },
     "execution_count": 78,
     "metadata": {},
     "output_type": "execute_result"
    }
   ],
   "source": [
    "with tf.Session() as sess:\n",
    "    train_input_fn = make_tfr_input_fn(\n",
    "        \"gs://going-tfx/sandbox/train_data/atl_june-00000-of-00025\", batch_size=2)\n",
    "    input = train_input_fn()\n",
    "    res = [sess.run(input) for i in range(1)]\n",
    "res"
   ]
  },
  {
   "cell_type": "markdown",
   "metadata": {},
   "source": [
    "----\n",
    "#### Read from CSV\n",
    "Not so good for production, but may come handy for exploration."
   ]
  },
  {
   "cell_type": "code",
   "execution_count": 80,
   "metadata": {},
   "outputs": [
    {
     "data": {
      "text/plain": [
       "'make_input_fn written to ./train/make_input_fn.py.'"
      ]
     },
     "execution_count": 80,
     "metadata": {},
     "output_type": "execute_result"
    }
   ],
   "source": [
    "def make_input_fn(filename_pattern, batch_size, shuffle_buffer_size=None, distribute=False):\n",
    "\n",
    "    import tensorflow as tf\n",
    "    from train.model_config import ORDERED_TRAINING_DEFAULTS\n",
    "    from train.model_config import ORDERED_TRAINING_COLUMNS\n",
    "    from train.model_config import LABEL_COLUMN\n",
    "    \n",
    "    \n",
    "    def _input_fn():\n",
    "        filenames = tf.gfile.Glob(filename_pattern)\n",
    "        dataset = tf.data.TextLineDataset(filenames)\n",
    "\n",
    "        def decode_csv(row):\n",
    "            cols = tf.decode_csv(row, record_defaults=ORDERED_TRAINING_DEFAULTS)\n",
    "            features = dict(zip(ORDERED_TRAINING_COLUMNS, cols))\n",
    "            return features\n",
    "\n",
    "        def pop_target(features):\n",
    "            target = features.pop(LABEL_COLUMN)\n",
    "            return features, target\n",
    "        \n",
    "        if shuffle_buffer_size is not None:\n",
    "            dataset = dataset.shuffle(buffer_size=shuffle_buffer_size)\n",
    "                \n",
    "        dataset = (dataset.repeat()\n",
    "                   .map(decode_csv)\n",
    "                   .map(pop_target)\n",
    "                   .batch(batch_size))\n",
    "        \n",
    "        if distribute:\n",
    "            return dataset \n",
    "        else:\n",
    "            return dataset.make_one_shot_iterator().get_next()\n",
    "    \n",
    "    return _input_fn\n",
    "\n",
    "write_py(make_input_fn)"
   ]
  },
  {
   "cell_type": "code",
   "execution_count": 81,
   "metadata": {},
   "outputs": [
    {
     "data": {
      "text/plain": [
       "[({'ARR_LAT': array([32.89, 42.96], dtype=float32),\n",
       "   'ARR_LON': array([-80.04, -83.74], dtype=float32),\n",
       "   'DEP_DELAY': array([0.12348669, 0.13317192], dtype=float32),\n",
       "   'DEP_DOW': array([3, 3], dtype=int32),\n",
       "   'DEP_HOD': array([22, 14], dtype=int32),\n",
       "   'DEP_LAT': array([33.63, 33.63], dtype=float32),\n",
       "   'DEP_LON': array([-84.42, -84.42], dtype=float32),\n",
       "   'DIFF_LAT': array([0.34943637, 0.5810904 ], dtype=float32),\n",
       "   'DIFF_LON': array([0.8363402 , 0.79660654], dtype=float32),\n",
       "   'DISTANCE': array([0.04054482, 0.12829289], dtype=float32),\n",
       "   'MEAN_TEMP_ARR': array([0.55978256, 0.2735507 ], dtype=float32),\n",
       "   'MEAN_TEMP_DEP': array([0.6260504, 0.6260504], dtype=float32),\n",
       "   'MEAN_VIS_ARR': array([0.37634405, 0.42473117], dtype=float32),\n",
       "   'MEAN_VIS_DEP': array([0.765625, 0.765625], dtype=float32),\n",
       "   'WND_SPD_ARR': array([0.00370037, 0.01020102], dtype=float32),\n",
       "   'WND_SPD_DEP': array([0.2635659, 0.2635659], dtype=float32)},\n",
       "  array([-9.,  0.], dtype=float32))]"
      ]
     },
     "execution_count": 81,
     "metadata": {},
     "output_type": "execute_result"
    }
   ],
   "source": [
    "with tf.Session() as sess:\n",
    "    train_input_fn = make_input_fn(\n",
    "        \"gs://going-tfx/sample/eval_data/*\", batch_size=2)\n",
    "    input = train_input_fn()\n",
    "    res = [sess.run(input) for i in range(1)]\n",
    "res"
   ]
  },
  {
   "cell_type": "markdown",
   "metadata": {},
   "source": [
    "We evaluated the input tensor twice to each time receive a batch of 2 examples from the list of input files."
   ]
  },
  {
   "cell_type": "markdown",
   "metadata": {},
   "source": [
    "---\n",
    "# Additional feature engineering for categorical columns"
   ]
  },
  {
   "cell_type": "markdown",
   "metadata": {},
   "source": [
    "Categorical columns need to be treated once more to derive at numerical input suitable for model training. That involves bucketizing, the use of dictionaries, feature crossing and embedding"
   ]
  },
  {
   "cell_type": "markdown",
   "metadata": {},
   "source": [
    "#### Find ranges to bucketize latitude and longitude \n",
    "We can easily understand the range of values with the help of a bq query and ```pandas.describe()```"
   ]
  },
  {
   "cell_type": "code",
   "execution_count": 82,
   "metadata": {},
   "outputs": [
    {
     "data": {
      "text/html": [
       "<div>\n",
       "<style scoped>\n",
       "    .dataframe tbody tr th:only-of-type {\n",
       "        vertical-align: middle;\n",
       "    }\n",
       "\n",
       "    .dataframe tbody tr th {\n",
       "        vertical-align: top;\n",
       "    }\n",
       "\n",
       "    .dataframe thead th {\n",
       "        text-align: right;\n",
       "    }\n",
       "</style>\n",
       "<table border=\"1\" class=\"dataframe\">\n",
       "  <thead>\n",
       "    <tr style=\"text-align: right;\">\n",
       "      <th></th>\n",
       "      <th>lat</th>\n",
       "      <th>lon</th>\n",
       "    </tr>\n",
       "  </thead>\n",
       "  <tbody>\n",
       "    <tr>\n",
       "      <th>count</th>\n",
       "      <td>344.000000</td>\n",
       "      <td>344.000000</td>\n",
       "    </tr>\n",
       "    <tr>\n",
       "      <th>mean</th>\n",
       "      <td>38.491570</td>\n",
       "      <td>-98.531599</td>\n",
       "    </tr>\n",
       "    <tr>\n",
       "      <th>std</th>\n",
       "      <td>8.547964</td>\n",
       "      <td>21.746974</td>\n",
       "    </tr>\n",
       "    <tr>\n",
       "      <th>min</th>\n",
       "      <td>13.480000</td>\n",
       "      <td>-176.640000</td>\n",
       "    </tr>\n",
       "    <tr>\n",
       "      <th>25%</th>\n",
       "      <td>33.450000</td>\n",
       "      <td>-111.675000</td>\n",
       "    </tr>\n",
       "    <tr>\n",
       "      <th>50%</th>\n",
       "      <td>38.715000</td>\n",
       "      <td>-93.300000</td>\n",
       "    </tr>\n",
       "    <tr>\n",
       "      <th>75%</th>\n",
       "      <td>42.907500</td>\n",
       "      <td>-82.497500</td>\n",
       "    </tr>\n",
       "    <tr>\n",
       "      <th>max</th>\n",
       "      <td>71.280000</td>\n",
       "      <td>-64.800000</td>\n",
       "    </tr>\n",
       "  </tbody>\n",
       "</table>\n",
       "</div>"
      ],
      "text/plain": [
       "              lat         lon\n",
       "count  344.000000  344.000000\n",
       "mean    38.491570  -98.531599\n",
       "std      8.547964   21.746974\n",
       "min     13.480000 -176.640000\n",
       "25%     33.450000 -111.675000\n",
       "50%     38.715000  -93.300000\n",
       "75%     42.907500  -82.497500\n",
       "max     71.280000  -64.800000"
      ]
     },
     "execution_count": 82,
     "metadata": {},
     "output_type": "execute_result"
    }
   ],
   "source": [
    "query=\"\"\"\n",
    "select \n",
    "    distinct arrival_airport as airport, arrival_lat as lat, arrival_lon as lon \n",
    "from \n",
    "    `bigquery-samples.airline_ontime_data.flights`\n",
    "\"\"\"\n",
    "locations = dlbq.Query(query).execute().result().to_dataframe()\n",
    "locations.describe()"
   ]
  },
  {
   "cell_type": "code",
   "execution_count": 83,
   "metadata": {},
   "outputs": [
    {
     "data": {
      "text/plain": [
       "[10, 15, 20, 25, 30, 35, 40, 45, 50, 55, 60, 65, 70, 75]"
      ]
     },
     "execution_count": 83,
     "metadata": {},
     "output_type": "execute_result"
    }
   ],
   "source": [
    "lat_boundaries = range(10,80,5)\n",
    "lat_boundaries"
   ]
  },
  {
   "cell_type": "code",
   "execution_count": 84,
   "metadata": {},
   "outputs": [
    {
     "data": {
      "text/plain": [
       "[-100, -95, -90, -85, -80, -75, -70, -65, -60]"
      ]
     },
     "execution_count": 84,
     "metadata": {},
     "output_type": "execute_result"
    }
   ],
   "source": [
    "lon_boundaries = range(-100, -55, 5)\n",
    "lon_boundaries"
   ]
  },
  {
   "cell_type": "markdown",
   "metadata": {},
   "source": [
    "We're going to use those boundaries in the function below"
   ]
  },
  {
   "cell_type": "markdown",
   "metadata": {},
   "source": [
    "#### Using tf feature_column api for bucketizing, crossing and embedding"
   ]
  },
  {
   "cell_type": "code",
   "execution_count": 85,
   "metadata": {},
   "outputs": [
    {
     "data": {
      "text/plain": [
       "'create_feature_columns written to ./train/create_feature_columns.py.'"
      ]
     },
     "execution_count": 85,
     "metadata": {},
     "output_type": "execute_result"
    }
   ],
   "source": [
    "def create_feature_columns():\n",
    "    \n",
    "    from tensorflow.feature_column import numeric_column as num\n",
    "    from tensorflow.feature_column import bucketized_column as buck\n",
    "    from tensorflow.feature_column import crossed_column as cross\n",
    "    from tensorflow.feature_column import embedding_column as emb\n",
    "    from tensorflow.feature_column import categorical_column_with_identity as cid\n",
    "    \n",
    "    ################################################################\n",
    "    #  Numerical columns for the pre-processed features\n",
    "    ################################################################\n",
    "    feature_columns = [\n",
    "        num(col) for col in [\n",
    "            'DEP_DELAY',  \n",
    "            'MEAN_TEMP_DEP','MEAN_VIS_DEP','WND_SPD_DEP',\n",
    "            'MEAN_TEMP_ARR','MEAN_VIS_ARR','WND_SPD_ARR',\n",
    "            'DIFF_LAT','DIFF_LON','DISTANCE']]\n",
    "    \n",
    "    ################################################################\n",
    "    #  Crossed and embedded\n",
    "    ################################################################\n",
    "    lat_boundaries = range(10,80,5)\n",
    "    lon_boundaries = range(-100, -55, 5)\n",
    "    cross_size = len(lat_boundaries) * len(lon_boundaries)\n",
    "\n",
    "    arr_geo_emb = emb(cross([\n",
    "        buck(num('ARR_LAT'), lat_boundaries), \n",
    "        buck(num('ARR_LON'), lon_boundaries)], cross_size), 10)\n",
    "\n",
    "    dep_geo_emb = emb(cross([\n",
    "        buck(num(\"DEP_LAT\"), lat_boundaries), \n",
    "        buck(num(\"DEP_LON\"), lon_boundaries)], cross_size), 10)\n",
    "\n",
    "    dep_how_emb = emb(cross([\n",
    "        cid(\"DEP_HOD\", num_buckets=24), \n",
    "        cid(\"DEP_DOW\", num_buckets=8)], 7*24), 10)\n",
    "\n",
    "    ################################################################\n",
    "    #  Crossed and embedded\n",
    "    ################################################################\n",
    "    return feature_columns + [dep_how_emb, arr_geo_emb, dep_geo_emb]\n",
    "    \n",
    "write_py(create_feature_columns)"
   ]
  },
  {
   "cell_type": "code",
   "execution_count": 86,
   "metadata": {},
   "outputs": [
    {
     "data": {
      "text/plain": [
       "[_NumericColumn(key='DEP_DELAY', shape=(1,), default_value=None, dtype=tf.float32, normalizer_fn=None),\n",
       " _NumericColumn(key='MEAN_TEMP_DEP', shape=(1,), default_value=None, dtype=tf.float32, normalizer_fn=None),\n",
       " _NumericColumn(key='MEAN_VIS_DEP', shape=(1,), default_value=None, dtype=tf.float32, normalizer_fn=None),\n",
       " _NumericColumn(key='WND_SPD_DEP', shape=(1,), default_value=None, dtype=tf.float32, normalizer_fn=None),\n",
       " _NumericColumn(key='MEAN_TEMP_ARR', shape=(1,), default_value=None, dtype=tf.float32, normalizer_fn=None),\n",
       " _NumericColumn(key='MEAN_VIS_ARR', shape=(1,), default_value=None, dtype=tf.float32, normalizer_fn=None),\n",
       " _NumericColumn(key='WND_SPD_ARR', shape=(1,), default_value=None, dtype=tf.float32, normalizer_fn=None),\n",
       " _NumericColumn(key='DIFF_LAT', shape=(1,), default_value=None, dtype=tf.float32, normalizer_fn=None),\n",
       " _NumericColumn(key='DIFF_LON', shape=(1,), default_value=None, dtype=tf.float32, normalizer_fn=None),\n",
       " _NumericColumn(key='DISTANCE', shape=(1,), default_value=None, dtype=tf.float32, normalizer_fn=None),\n",
       " _EmbeddingColumn(categorical_column=_CrossedColumn(keys=(_IdentityCategoricalColumn(key='DEP_HOD', num_buckets=24, default_value=None), _IdentityCategoricalColumn(key='DEP_DOW', num_buckets=8, default_value=None)), hash_bucket_size=168, hash_key=None), dimension=10, combiner='mean', layer_creator=<function _creator at 0x7fcf046c37d0>, ckpt_to_load_from=None, tensor_name_in_ckpt=None, max_norm=None, trainable=True),\n",
       " _EmbeddingColumn(categorical_column=_CrossedColumn(keys=(_BucketizedColumn(source_column=_NumericColumn(key='ARR_LAT', shape=(1,), default_value=None, dtype=tf.float32, normalizer_fn=None), boundaries=(10, 15, 20, 25, 30, 35, 40, 45, 50, 55, 60, 65, 70, 75)), _BucketizedColumn(source_column=_NumericColumn(key='ARR_LON', shape=(1,), default_value=None, dtype=tf.float32, normalizer_fn=None), boundaries=(-100, -95, -90, -85, -80, -75, -70, -65, -60))), hash_bucket_size=126, hash_key=None), dimension=10, combiner='mean', layer_creator=<function _creator at 0x7fcf046c36e0>, ckpt_to_load_from=None, tensor_name_in_ckpt=None, max_norm=None, trainable=True),\n",
       " _EmbeddingColumn(categorical_column=_CrossedColumn(keys=(_BucketizedColumn(source_column=_NumericColumn(key='DEP_LAT', shape=(1,), default_value=None, dtype=tf.float32, normalizer_fn=None), boundaries=(10, 15, 20, 25, 30, 35, 40, 45, 50, 55, 60, 65, 70, 75)), _BucketizedColumn(source_column=_NumericColumn(key='DEP_LON', shape=(1,), default_value=None, dtype=tf.float32, normalizer_fn=None), boundaries=(-100, -95, -90, -85, -80, -75, -70, -65, -60))), hash_bucket_size=126, hash_key=None), dimension=10, combiner='mean', layer_creator=<function _creator at 0x7fcf046c31b8>, ckpt_to_load_from=None, tensor_name_in_ckpt=None, max_norm=None, trainable=True)]"
      ]
     },
     "execution_count": 86,
     "metadata": {},
     "output_type": "execute_result"
    }
   ],
   "source": [
    "create_feature_columns()"
   ]
  },
  {
   "cell_type": "markdown",
   "metadata": {},
   "source": [
    "These feature columns encode a construction plan. The ```tf.feature_column.input_column()``` helper will construct a sub-graph from this plan and feed the root (the *result*) of the graph into the model. You see the pattern: All parts of the tensor graph are created within the session/graph context of the ```Estimator``` API. Never outside of it."
   ]
  },
  {
   "cell_type": "markdown",
   "metadata": {},
   "source": [
    "---\n",
    "# Hypothesis, model function and custom estimator"
   ]
  },
  {
   "cell_type": "markdown",
   "metadata": {},
   "source": [
    "#### The hypothesis\n",
    "This computational sub-graph represents the trainable hypothesis"
   ]
  },
  {
   "cell_type": "code",
   "execution_count": 87,
   "metadata": {},
   "outputs": [
    {
     "data": {
      "text/plain": [
       "'make_hypothesis written to ./train/make_hypothesis.py.'"
      ]
     },
     "execution_count": 87,
     "metadata": {},
     "output_type": "execute_result"
    }
   ],
   "source": [
    "def make_hypothesis(input_layer, options):\n",
    "    \n",
    "    import tensorflow as tf\n",
    "        \n",
    "    out = tf.layers.dense(input_layer, 1, activation=None)\n",
    "\n",
    "    return out\n",
    "    \n",
    "write_py(make_hypothesis)"
   ]
  },
  {
   "cell_type": "markdown",
   "metadata": {},
   "source": [
    "#### The model function\n",
    "The model function is responsible for providing different variants of the actual model suitable for training, evaluation and prediction"
   ]
  },
  {
   "cell_type": "code",
   "execution_count": 88,
   "metadata": {},
   "outputs": [
    {
     "data": {
      "text/plain": [
       "'make_model_fn written to ./train/make_model_fn.py.'"
      ]
     },
     "execution_count": 88,
     "metadata": {},
     "output_type": "execute_result"
    }
   ],
   "source": [
    "def make_model_fn(feature_columns, options):\n",
    "    \n",
    "    import tensorflow as tf\n",
    "    from train.make_hypothesis import make_hypothesis\n",
    "    \n",
    "    def _model_fn(features, labels, mode):\n",
    "\n",
    "        input_layer = tf.feature_column.input_layer( \n",
    "            features, feature_columns=feature_columns)\n",
    "\n",
    "        #############################################################\n",
    "        # This single line is the actual model\n",
    "        #############################################################\n",
    "        out = make_hypothesis(input_layer, options)\n",
    "\n",
    "        if mode == tf.estimator.ModeKeys.PREDICT:\n",
    "            return tf.estimator.EstimatorSpec(mode, predictions=out)\n",
    "\n",
    "\n",
    "        labels = tf.expand_dims(labels, -1)\n",
    "        loss = tf.losses.mean_squared_error(labels, out)\n",
    "\n",
    "        if mode == tf.estimator.ModeKeys.EVAL:    \n",
    "            return tf.estimator.EstimatorSpec(\n",
    "                mode=mode,\n",
    "                loss = loss,\n",
    "                #eval_metric_ops={'my_metric': }\n",
    "            )\n",
    "\n",
    "        else:\n",
    "            optimizer = tf.train.GradientDescentOptimizer(options['learning_rate'])\n",
    "            train_op = optimizer.minimize(loss, global_step=tf.train.get_or_create_global_step())\n",
    "\n",
    "            return tf.estimator.EstimatorSpec(  \n",
    "                mode,\n",
    "                loss = loss,\n",
    "                train_op = train_op)\n",
    "        \n",
    "    return _model_fn\n",
    "write_py(make_model_fn)"
   ]
  },
  {
   "cell_type": "markdown",
   "metadata": {},
   "source": [
    "---\n",
    "# The tft serving input function\n",
    "The saved ```transform_fn``` of the preprocessing step is recovered and applied to the **signature** input, which is represented by placeholders.\n",
    "This function will be exported together with the ```tf.feature_columns``` transforms after training, to make sure that exactly the same preprocessing steps will be executed at prediction time.\n",
    "The estimator will apply this function to the signature data coming at prediction time. The result will then be feed into the graph constructed with the help of the ```feature_columns``` API."
   ]
  },
  {
   "cell_type": "code",
   "execution_count": 89,
   "metadata": {},
   "outputs": [
    {
     "data": {
      "text/plain": [
       "'make_tft_serving_input_fn written to ./train/make_tft_serving_input_fn.py.'"
      ]
     },
     "execution_count": 89,
     "metadata": {},
     "output_type": "execute_result"
    }
   ],
   "source": [
    "def make_tft_serving_input_fn(metadata_dir):\n",
    "\n",
    "    import tensorflow as tf\n",
    "    import tensorflow_transform as tft\n",
    "    from train.model_config import SIGNATURE_INT_COLUMNS\n",
    "    from train.model_config import SIGNATURE_FLOAT_COLUMNS\n",
    "    \n",
    "    \n",
    "    def _input_fn():\n",
    "        # placeholders for all the raw inputs\n",
    "        placeholders = {\n",
    "            key: tf.placeholder(name = key, shape=[None], dtype=tf.int64)\n",
    "            for key in SIGNATURE_INT_COLUMNS\n",
    "        }\n",
    "        placeholders.update({\n",
    "            key: tf.placeholder(name = key, shape=[None], dtype=tf.float32)\n",
    "            for key in SIGNATURE_FLOAT_COLUMNS\n",
    "        })\n",
    "\n",
    "        # transform using the saved model in transform_fn        \n",
    "        transform_output = tft.TFTransformOutput(transform_output_dir=metadata_dir)\n",
    "        features = transform_output.transform_raw_features(placeholders)\n",
    "            \n",
    "        return tf.estimator.export.ServingInputReceiver(features, placeholders)\n",
    "\n",
    "    return _input_fn\n",
    "write_py(make_tft_serving_input_fn)"
   ]
  },
  {
   "cell_type": "markdown",
   "metadata": {},
   "source": [
    "---\n",
    "# Training and Serving"
   ]
  },
  {
   "cell_type": "markdown",
   "metadata": {},
   "source": [
    "#### At last, start the training!\n",
    "First, we use the smaller sample data to verify the setup."
   ]
  },
  {
   "cell_type": "code",
   "execution_count": 11,
   "metadata": {},
   "outputs": [
    {
     "data": {
      "text/plain": [
       "'train_and_evaluate written to ./train/train_and_evaluate.py.'"
      ]
     },
     "execution_count": 11,
     "metadata": {},
     "output_type": "execute_result"
    }
   ],
   "source": [
    "def train_and_evaluate(options):\n",
    "\n",
    "    import tensorflow as tf\n",
    "    from train.make_model_fn import make_model_fn\n",
    "    from train.make_tft_serving_input_fn import make_tft_serving_input_fn\n",
    "    from train.create_feature_columns import create_feature_columns\n",
    "\n",
    "    #from train.make_input_fn import make_input_fn\n",
    "    from train.make_tfr_input_fn import make_tfr_input_fn\n",
    "    \n",
    "    feature_columns = create_feature_columns()\n",
    "    \n",
    "    if options['distribute']:\n",
    "        print(\"#####################################################################\")\n",
    "        print(\"    Runnin in distibuted mode\")\n",
    "        print(\"#####################################################################\")\n",
    "        strategy=tf.contrib.distribute.MirroredStrategy()    \n",
    "        config = tf.estimator.RunConfig(model_dir=options['model_dir'], train_distribute=strategy)\n",
    "    else:\n",
    "        config = tf.estimator.RunConfig(model_dir=options['model_dir'])\n",
    "        \n",
    "\n",
    "    model_fn = make_model_fn(feature_columns, options)\n",
    "\n",
    "    estimator = tf.estimator.Estimator(\n",
    "            config=config,\n",
    "            model_fn=model_fn)\n",
    "\n",
    "    exporter = tf.estimator.LatestExporter('exporter', \n",
    "                                           make_tft_serving_input_fn(options['metadata_dir']))\n",
    "\n",
    "    train_input_fn = make_tfr_input_fn(\n",
    "        options['train_data_pattern'], shuffle_buffer_size=80000, \n",
    "        batch_size=options['train_batch_size'], distribute=options['distribute'],\n",
    "        prefetch_buffer_size=options['prefetch_buffer_size'])\n",
    "\n",
    "    eval_input_fn = make_tfr_input_fn(\n",
    "        options['eval_data_pattern'], \n",
    "        batch_size=options['eval_batch_size'])  \n",
    "\n",
    "    train_spec = tf.estimator.TrainSpec(input_fn=train_input_fn, max_steps=options['max_train_steps'])\n",
    "    eval_spec = tf.estimator.EvalSpec(input_fn=eval_input_fn, steps = options['eval_batch_size'], exporters=exporter)\n",
    "    \n",
    "    tf.estimator.train_and_evaluate(estimator, train_spec=train_spec, eval_spec=eval_spec)\n",
    "    \n",
    "write_py(train_and_evaluate)"
   ]
  },
  {
   "cell_type": "code",
   "execution_count": 75,
   "metadata": {},
   "outputs": [
    {
     "name": "stdout",
     "output_type": "stream",
     "text": [
      "\n",
      "###############################################################################################################\n",
      "using directory gs://going-tfx/sandbox/model to store the model. Remove the directory if you want to start from scratch\n",
      "###############################################################################################################\n",
      "CommandException: 1 files/objects could not be removed.\n",
      "INFO:tensorflow:Using config: {'_save_checkpoints_secs': 600, '_session_config': allow_soft_placement: true\n",
      "graph_options {\n",
      "  rewrite_options {\n",
      "    meta_optimizer_iterations: ONE\n",
      "  }\n",
      "}\n",
      ", '_keep_checkpoint_max': 5, '_task_type': 'worker', '_train_distribute': None, '_is_chief': True, '_cluster_spec': <tensorflow.python.training.server_lib.ClusterSpec object at 0x7fcf3514dfd0>, '_model_dir': 'gs://going-tfx/sandbox/model', '_protocol': None, '_save_checkpoints_steps': None, '_keep_checkpoint_every_n_hours': 10000, '_service': None, '_num_ps_replicas': 0, '_tf_random_seed': None, '_save_summary_steps': 100, '_device_fn': None, '_experimental_distribute': None, '_num_worker_replicas': 1, '_task_id': 0, '_log_step_count_steps': 100, '_evaluation_master': '', '_eval_distribute': None, '_global_id_in_cluster': 0, '_master': ''}\n",
      "INFO:tensorflow:Not using Distribute Coordinator.\n",
      "INFO:tensorflow:Running training and evaluation locally (non-distributed).\n",
      "INFO:tensorflow:Start train and evaluate loop. The evaluate will happen after every checkpoint. Checkpoint frequency is determined based on RunConfig arguments: save_checkpoints_steps None or save_checkpoints_secs 600.\n",
      "INFO:tensorflow:Calling model_fn.\n",
      "INFO:tensorflow:Done calling model_fn.\n",
      "INFO:tensorflow:Create CheckpointSaverHook.\n",
      "INFO:tensorflow:Graph was finalized.\n",
      "INFO:tensorflow:Running local_init_op.\n",
      "INFO:tensorflow:Done running local_init_op.\n",
      "INFO:tensorflow:Saving checkpoints for 0 into gs://going-tfx/sandbox/model/model.ckpt.\n",
      "INFO:tensorflow:loss = 1136.5201, step = 1\n",
      "INFO:tensorflow:global_step/sec: 99.2478\n",
      "INFO:tensorflow:loss = 1318.6232, step = 101 (1.010 sec)\n",
      "INFO:tensorflow:global_step/sec: 223.141\n",
      "INFO:tensorflow:loss = 1178.5332, step = 201 (0.451 sec)\n",
      "INFO:tensorflow:global_step/sec: 132.044\n",
      "INFO:tensorflow:loss = 1988.8511, step = 301 (0.754 sec)\n",
      "INFO:tensorflow:global_step/sec: 123.517\n",
      "INFO:tensorflow:loss = 1345.0736, step = 401 (0.810 sec)\n",
      "INFO:tensorflow:global_step/sec: 33.8152\n",
      "INFO:tensorflow:loss = 1487.5361, step = 501 (2.959 sec)\n",
      "INFO:tensorflow:global_step/sec: 135.043\n",
      "INFO:tensorflow:loss = 1642.6863, step = 601 (0.738 sec)\n",
      "INFO:tensorflow:global_step/sec: 126.75\n",
      "INFO:tensorflow:loss = 1705.3501, step = 701 (0.790 sec)\n",
      "INFO:tensorflow:global_step/sec: 131.15\n",
      "INFO:tensorflow:loss = 1767.4241, step = 801 (0.762 sec)\n",
      "INFO:tensorflow:global_step/sec: 125.638\n",
      "INFO:tensorflow:loss = 1600.5242, step = 901 (0.798 sec)\n",
      "INFO:tensorflow:Saving checkpoints for 1000 into gs://going-tfx/sandbox/model/model.ckpt.\n",
      "INFO:tensorflow:Calling model_fn.\n",
      "INFO:tensorflow:Done calling model_fn.\n",
      "INFO:tensorflow:Starting evaluation at 2018-11-17-15:53:15\n",
      "INFO:tensorflow:Graph was finalized.\n",
      "INFO:tensorflow:Restoring parameters from gs://going-tfx/sandbox/model/model.ckpt-1000\n",
      "INFO:tensorflow:Running local_init_op.\n",
      "INFO:tensorflow:Done running local_init_op.\n",
      "INFO:tensorflow:Evaluation [51/512]\n",
      "INFO:tensorflow:Evaluation [102/512]\n",
      "INFO:tensorflow:Evaluation [153/512]\n",
      "INFO:tensorflow:Evaluation [204/512]\n",
      "INFO:tensorflow:Evaluation [255/512]\n",
      "INFO:tensorflow:Evaluation [306/512]\n",
      "INFO:tensorflow:Evaluation [357/512]\n",
      "INFO:tensorflow:Evaluation [408/512]\n",
      "INFO:tensorflow:Evaluation [459/512]\n",
      "INFO:tensorflow:Evaluation [510/512]\n",
      "INFO:tensorflow:Evaluation [512/512]\n",
      "INFO:tensorflow:Finished evaluation at 2018-11-17-15:53:21\n",
      "INFO:tensorflow:Saving dict for global step 1000: global_step = 1000, loss = 1536.7717\n",
      "INFO:tensorflow:Saving 'checkpoint_path' summary for global step 1000: gs://going-tfx/sandbox/model/model.ckpt-1000\n",
      "INFO:tensorflow:Saver not created because there are no variables in the graph to restore\n",
      "INFO:tensorflow:Calling model_fn.\n",
      "INFO:tensorflow:Done calling model_fn.\n",
      "INFO:tensorflow:Signatures INCLUDED in export for Eval: None\n",
      "INFO:tensorflow:Signatures INCLUDED in export for Classify: None\n",
      "INFO:tensorflow:Signatures INCLUDED in export for Regress: None\n",
      "INFO:tensorflow:Signatures INCLUDED in export for Predict: ['serving_default']\n",
      "INFO:tensorflow:Signatures INCLUDED in export for Train: None\n",
      "INFO:tensorflow:Restoring parameters from gs://going-tfx/sandbox/model/model.ckpt-1000\n",
      "WARNING:tensorflow:From /home/wgiersche/py2/local/lib/python2.7/site-packages/tensorflow/python/estimator/estimator.py:1044: calling add_meta_graph_and_variables (from tensorflow.python.saved_model.builder_impl) with legacy_init_op is deprecated and will be removed in a future version.\n",
      "Instructions for updating:\n",
      "Pass your op to the equivalent parameter main_op instead.\n",
      "INFO:tensorflow:Assets added to graph.\n",
      "INFO:tensorflow:No assets to write.\n",
      "INFO:tensorflow:SavedModel written to: gs://going-tfx/sandbox/model/export/exporter/temp-1542470004/saved_model.pb\n",
      "INFO:tensorflow:Loss for final step: 1223.6394.\n"
     ]
    }
   ],
   "source": [
    "from train.train_tools import join_paths\n",
    "\n",
    "args={}\n",
    "args['base_dir']='gs://going-tfx/sandbox'\n",
    "args['metadata_dir']='metadata'\n",
    "args['train_data_pattern']='train_data/*'\n",
    "args['eval_data_pattern']='eval_data/*'\n",
    "args['train_batch_size']=512\n",
    "args['eval_batch_size']=512\n",
    "args['max_train_steps']=1000\n",
    "args['eval_steps']=10\n",
    "args['learning_rate']=1e-3\n",
    "args['model_dir']='model'\n",
    "\n",
    "model_dir = os.path.join(args['base_dir'], args['model_dir'])\n",
    "print(\"\\n###############################################################################################################\")\n",
    "print(\"using directory {} to store the model. Remove the directory if you want to start from scratch\".format(model_dir))\n",
    "print(\"###############################################################################################################\")\n",
    "!gsutil -m rm -rf $model_dir\n",
    "\n",
    "#\n",
    "# You can't distribute work from a jupyter notebook. \n",
    "#\n",
    "train_and_evaluate(join_paths(args), distribute=False)"
   ]
  },
  {
   "cell_type": "markdown",
   "metadata": {},
   "source": [
    "---\n",
    "#### Train with the full training set of ~300k records"
   ]
  },
  {
   "cell_type": "code",
   "execution_count": null,
   "metadata": {},
   "outputs": [],
   "source": [
    "from train.train_tools import join_paths\n",
    "\n",
    "args={}\n",
    "args['base_dir']='gs://going-tfx/full'\n",
    "\n",
    "# using a full path allows us to specify other locations\n",
    "args['metadata_dir']='gs://going-tfx/sample/metadata'\n",
    "\n",
    "args['train_data_pattern']='train_data/*'\n",
    "args['eval_data_pattern']='eval_data/*'\n",
    "args['train_batch_size']=512\n",
    "args['eval_batch_size']=512\n",
    "args['max_train_steps']=1000 # That's about 5 epochs\n",
    "args['eval_steps']=10\n",
    "args['learning_rate']=1e-3\n",
    "args['model_dir']='model'\n",
    "\n",
    "model_dir = os.path.join(args['base_dir'], args['model_dir'])\n",
    "print(\"\\n###############################################################################################################\")\n",
    "print(\"using directory {} to store the model. Remove the directory if you want to start from scratch\".format(model_dir))\n",
    "print(\"###############################################################################################################\")\n",
    "# !gsutil rm -rf $model_dir\n",
    "\n",
    "train_and_evaluate(create_feature_columns(), join_paths(args))"
   ]
  },
  {
   "cell_type": "markdown",
   "metadata": {},
   "source": [
    "---\n",
    "# Prediction \n"
   ]
  },
  {
   "cell_type": "markdown",
   "metadata": {},
   "source": [
    "#### Signature data for testing"
   ]
  },
  {
   "cell_type": "markdown",
   "metadata": {},
   "source": [
    "First, let's get some test data. Now we need signature data, and that's what we have in Bigquery. Remember? "
   ]
  },
  {
   "cell_type": "code",
   "execution_count": null,
   "metadata": {},
   "outputs": [],
   "source": [
    "from train.model_config import SIGNATURE_FLOAT_COLUMNS\n",
    "from train.model_config import SIGNATURE_INT_COLUMNS\n",
    "from signature_queries import sample_query\n",
    "\n",
    "SIGNATURE_COLUMNS = SIGNATURE_FLOAT_COLUMNS+SIGNATURE_INT_COLUMNS\n",
    "signature_query=sample_query(SIGNATURE_COLUMNS, total=10000)\n",
    "print(signature_query)\n",
    "sample = dlbq.Query(signature_query).execute().result().to_dataframe()\n",
    "print('Only {} examples. Showing first three:'.format(len(sample)))\n",
    "sample[:3]"
   ]
  },
  {
   "cell_type": "code",
   "execution_count": 91,
   "metadata": {},
   "outputs": [
    {
     "name": "stdout",
     "output_type": "stream",
     "text": [
      "{\"WND_SPD_DEP\": 5.0, \"DEP_DELAY\": -3.0, \"ARR_LAT\": 30.47, \"WND_SPD_ARR\": 4.8, \"MEAN_VIS_DEP\": 7.6, \"DEP_T\": 1025.0, \"MEAN_TEMP_ARR\": 79.7, \"DEP_LON\": -84.42, \"DEP_DOW\": 1.0, \"MEAN_VIS_ARR\": 10.0, \"MEAN_TEMP_DEP\": 74.0, \"DEP_LAT\": 33.63, \"ARR_LON\": -87.18}"
     ]
    }
   ],
   "source": [
    "import json\n",
    "samplefile='/tmp/test.json'\n",
    "a_record = sample.to_dict(orient='records')[0]\n",
    "a_record.pop('ARR_DELAY')\n",
    "with open(samplefile, 'w') as f:\n",
    "    f.write(json.dumps(a_record))\n",
    "!cat $samplefile"
   ]
  },
  {
   "cell_type": "markdown",
   "metadata": {},
   "source": [
    "---\n",
    "#### Local prediction with gcloud ml-engine"
   ]
  },
  {
   "cell_type": "code",
   "execution_count": 102,
   "metadata": {},
   "outputs": [
    {
     "data": {
      "text/plain": [
       "['gs://going-tfx/full/model/export/exporter/1542222163/',\n",
       " 'gs://going-tfx/full/model/export/exporter/1542223148/',\n",
       " 'gs://going-tfx/full/model/export/exporter/1542223414/',\n",
       " 'gs://going-tfx/full/model/export/exporter/1542223805/',\n",
       " 'gs://going-tfx/full/model/export/exporter/1542224320/']"
      ]
     },
     "execution_count": 102,
     "metadata": {},
     "output_type": "execute_result"
    }
   ],
   "source": [
    "all_versions = !gsutil ls $model_dir/export/exporter\n",
    "all_versions[1:]"
   ]
  },
  {
   "cell_type": "code",
   "execution_count": 112,
   "metadata": {},
   "outputs": [
    {
     "name": "stdout",
     "output_type": "stream",
     "text": [
      "gs://going-tfx/full/model/export/exporter/1542224320/\n"
     ]
    }
   ],
   "source": [
    "latest_model=$(gsutil ls $model_dir/export/exporter | sort | tail -1)"
   ]
  },
  {
   "cell_type": "code",
   "execution_count": 107,
   "metadata": {},
   "outputs": [
    {
     "name": "stdout",
     "output_type": "stream",
     "text": [
      "\n"
     ]
    }
   ],
   "source": [
    "%%bash\n",
    "echo $latest"
   ]
  },
  {
   "cell_type": "markdown",
   "metadata": {},
   "source": [
    "Choose your version from the above"
   ]
  },
  {
   "cell_type": "code",
   "execution_count": 115,
   "metadata": {},
   "outputs": [
    {
     "name": "stdout",
     "output_type": "stream",
     "text": [
      "gs://going-tfx/full/model/export/exporter/1542224320/\n",
      "OUTPUT\n",
      "[7.942289352416992]\n"
     ]
    },
    {
     "name": "stderr",
     "output_type": "stream",
     "text": [
      "WARNING: 2018-11-14 19:47:06.059640: I tensorflow/core/platform/cpu_feature_guard.cc:141] Your CPU supports instructions that this TensorFlow binary was not compiled to use: AVX2 FMA\n",
      "2018-11-14 19:47:06.066056: I tensorflow/core/common_runtime/process_util.cc:69] Creating new thread pool with default inter op setting: 2. Tune using inter_op_parallelism_threads for best performance.\n",
      "\n"
     ]
    }
   ],
   "source": [
    "%%bash\n",
    "latest_model=$(gsutil ls gs://going-tfx/full/model/export/exporter | sort | tail -1)\n",
    "echo latest model: $latest_model\n",
    "gcloud ml-engine local predict \\\n",
    "  --model-dir=$latest_model \\\n",
    "  --json-instances=/tmp/test.json"
   ]
  },
  {
   "cell_type": "code",
   "execution_count": 66,
   "metadata": {},
   "outputs": [
    {
     "name": "stdout",
     "output_type": "stream",
     "text": [
      "{\"WND_SPD_DEP\": 6.1, \"DEP_DELAY\": -2.0, \"ARR_LAT\": 33.43, \"WND_SPD_ARR\": 8.5, \"MEAN_VIS_DEP\": 8.0, \"DEP_T\": 805.0, \"MEAN_TEMP_ARR\": 102.4, \"DEP_LON\": -84.42, \"DEP_DOW\": 4.0, \"MEAN_VIS_ARR\": 10.0, \"MEAN_TEMP_DEP\": 73.6, \"DEP_LAT\": 33.63, \"ARR_LON\": -112.01}\n",
      "{\"WND_SPD_DEP\": 6.7, \"DEP_DELAY\": -5.0, \"ARR_LAT\": 29.53, \"WND_SPD_ARR\": 10.4, \"MEAN_VIS_DEP\": 9.0, \"DEP_T\": 1725.0, \"MEAN_TEMP_ARR\": 83.3, \"DEP_LON\": -84.42, \"DEP_DOW\": 4.0, \"MEAN_VIS_ARR\": 9.9, \"MEAN_TEMP_DEP\": 77.9, \"DEP_LAT\": 33.63, \"ARR_LON\": -98.46}\n"
     ]
    }
   ],
   "source": [
    "import json\n",
    "samplefile='/tmp/test.json'\n",
    "records = sample.to_dict(orient='records')[:20]\n",
    "with open(samplefile, 'w') as f:\n",
    "    for record in records:\n",
    "        record.pop('ARR_DELAY')\n",
    "        f.write(json.dumps(record))\n",
    "        f.write('\\n')\n",
    "!cat $samplefile | tail -2"
   ]
  },
  {
   "cell_type": "markdown",
   "metadata": {},
   "source": [
    "---\n",
    "#### Predicting from within python code"
   ]
  },
  {
   "cell_type": "code",
   "execution_count": 130,
   "metadata": {},
   "outputs": [],
   "source": [
    "latest_model=!gsutil ls gs://going-tfx/full/model/export/exporter | sort | tail -1\n",
    "latest_model=latest_model[0]"
   ]
  },
  {
   "cell_type": "code",
   "execution_count": 131,
   "metadata": {},
   "outputs": [
    {
     "name": "stdout",
     "output_type": "stream",
     "text": [
      "INFO:tensorflow:Restoring parameters from gs://going-tfx/full/model/export/exporter/1542230440/variables/variables\n"
     ]
    }
   ],
   "source": [
    "estimator = tf.contrib.predictor.from_saved_model(latest_model)"
   ]
  },
  {
   "cell_type": "code",
   "execution_count": 132,
   "metadata": {},
   "outputs": [
    {
     "data": {
      "text/plain": [
       "<matplotlib.axes._subplots.AxesSubplot at 0x7f25bfba6610>"
      ]
     },
     "execution_count": 132,
     "metadata": {},
     "output_type": "execute_result"
    },
    {
     "data": {
      "image/png": "[encoded data removed]",
      "text/plain": [
       "<Figure size 432x288 with 1 Axes>"
      ]
     },
     "metadata": {},
     "output_type": "display_data"
    }
   ],
   "source": [
    "%matplotlib inline\n",
    "compare=sample.copy()\n",
    "predicted = estimator(sample.to_dict(orient='list'))\n",
    "compare['PREDICTED'] = predicted['output']\n",
    "compare.plot.scatter(x='ARR_DELAY', y='PREDICTED')"
   ]
  },
  {
   "cell_type": "markdown",
   "metadata": {},
   "source": [
    "---\n",
    "#### run the training locally"
   ]
  },
  {
   "cell_type": "code",
   "execution_count": 76,
   "metadata": {},
   "outputs": [
    {
     "name": "stdout",
     "output_type": "stream",
     "text": [
      "\n",
      "###############################################################################################################\n",
      "using directory gs://going-tfx/sample/model to store the model. Remove the directory if you want to start from scratch\n",
      "###############################################################################################################\n"
     ]
    }
   ],
   "source": [
    "model_dir = 'gs://going-tfx/sample/model'\n",
    "print(\"\\n###############################################################################################################\")\n",
    "print(\"using directory {} to store the model. Remove the directory if you want to start from scratch\".format(model_dir))\n",
    "print(\"###############################################################################################################\")\n",
    "_ = !gsutil rm -rf $model_dir"
   ]
  },
  {
   "cell_type": "code",
   "execution_count": null,
   "metadata": {},
   "outputs": [],
   "source": [
    "%%bash\n",
    "\n",
    "# --distribute to use both GPUs with a resulting performance penalty - hence: Don't!\n",
    "\n",
    "export PYTHONPATH=${PYTHONPATH}:${PWD}\n",
    "python -m train.task \\\n",
    "  --base_dir=gs://going-tfx/sample/ \\\n",
    "  --metadata_dir=metadata \\\n",
    "  --train_data_pattern=\"train_data/*\" \\\n",
    "  --eval_data_pattern=\"eval_data/*\"  \\\n",
    "  --model_dir=model \\\n",
    "  --max_train_steps=3000 \\\n",
    "  --learning_rate=1e-3 \\\n",
    "  --job-dir=/tmp"
   ]
  },
  {
   "cell_type": "code",
   "execution_count": 12,
   "metadata": {},
   "outputs": [
    {
     "ename": "SyntaxError",
     "evalue": "invalid syntax (<ipython-input-12-e2f0736cf2a6>, line 1)",
     "output_type": "error",
     "traceback": [
      "\u001b[0;36m  File \u001b[0;32m\"<ipython-input-12-e2f0736cf2a6>\"\u001b[0;36m, line \u001b[0;32m1\u001b[0m\n\u001b[0;31m    python -m train.task   --base_dir=gs://going-tfx/full/   --metadata_dir=metadata   --train_data_pattern=\"train_data/*\"   --eval_data_pattern=\"eval_data/*\"    --model_dir=model   --max_train_steps=43000   --learning_rate=1e-3  --job-dir=/tmp --train_batch_size=256 --prefetch_buffer_size=50000\u001b[0m\n\u001b[0m                  ^\u001b[0m\n\u001b[0;31mSyntaxError\u001b[0m\u001b[0;31m:\u001b[0m invalid syntax\n"
     ]
    }
   ],
   "source": [
    "python -m train.task   \n",
    "    --base_dir=gs://going-tfx/full/   --metadata_dir=metadata   --train_data_pattern=\"train_data/*\"   --eval_data_pattern=\"eval_data/*\"    --model_dir=model   --max_train_steps=43000   --learning_rate=1e-3  --job-dir=/tmp --train_batch_size=256 --prefetch_buffer_size=50000"
   ]
  },
  {
   "cell_type": "code",
   "execution_count": null,
   "metadata": {},
   "outputs": [],
   "source": []
  }
 ],
 "metadata": {
  "kernelspec": {
   "display_name": "Python 2",
   "language": "python",
   "name": "python2"
  },
  "language_info": {
   "codemirror_mode": {
    "name": "ipython",
    "version": 2
   },
   "file_extension": ".py",
   "mimetype": "text/x-python",
   "name": "python",
   "nbconvert_exporter": "python",
   "pygments_lexer": "ipython2",
   "version": "2.7.13"
  }
 },
 "nbformat": 4,
 "nbformat_minor": 2
}
