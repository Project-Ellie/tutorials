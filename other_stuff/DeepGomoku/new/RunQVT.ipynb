{
 "cells": [
  {
   "cell_type": "code",
   "execution_count": 1,
   "metadata": {},
   "outputs": [],
   "source": [
    "%load_ext autoreload\n",
    "%autoreload 2"
   ]
  },
  {
   "cell_type": "code",
   "execution_count": 2,
   "metadata": {},
   "outputs": [],
   "source": [
    "import train.qvaluetrainer as qvt"
   ]
  },
  {
   "cell_type": "code",
   "execution_count": 13,
   "metadata": {},
   "outputs": [],
   "source": [
    "options = {\n",
    "    'shuffle_buffer_size': 1024,\n",
    "    'prefetch_buffer_size': 1024,\n",
    "    'reader_num_threads': 4,\n",
    "    'parser_num_threads': 4,\n",
    "    'train_data_pattern': \"gs://gomoku-data/tfrecords/*\",\n",
    "    'train_batch_size': 128,\n",
    "    'max_train_steps': 100000,\n",
    "    'eval_data_pattern': \"gs://gomoku-data/tfrecords/*\",\n",
    "    'eval_batch_size': 32,\n",
    "    'eval_steps': 10,\n",
    "    'throttle_secs': 1200,\n",
    "    'hypothesis': 'conv_2x1024_5',\n",
    "    'learning_rate': 1e-4,\n",
    "    'distribute': False,\n",
    "    'model_dir': \"gs://gomoku-data/model5\",\n",
    "    'save_summary_steps': 128,\n",
    "    'save_checkpoints_steps': 1024,\n",
    "    'log_step_count_steps': 64,\n",
    "    'optimizer': 'adam'\n",
    "}"
   ]
  },
  {
   "cell_type": "code",
   "execution_count": null,
   "metadata": {},
   "outputs": [
    {
     "name": "stdout",
     "output_type": "stream",
     "text": [
      "INFO:tensorflow:Using config: {'_task_id': 0, '_model_dir': 'gs://gomoku-data/model5', '_evaluation_master': '', '_eval_distribute': None, '_task_type': 'worker', '_train_distribute': None, '_num_ps_replicas': 0, '_keep_checkpoint_max': 5, '_session_config': allow_soft_placement: true\n",
      "graph_options {\n",
      "  rewrite_options {\n",
      "    meta_optimizer_iterations: ONE\n",
      "  }\n",
      "}\n",
      ", '_cluster_spec': <tensorflow.python.training.server_lib.ClusterSpec object at 0x7f9a9c54c320>, '_device_fn': None, '_save_checkpoints_steps': 1024, '_save_checkpoints_secs': None, '_protocol': None, '_global_id_in_cluster': 0, '_tf_random_seed': None, '_is_chief': True, '_master': '', '_num_worker_replicas': 1, '_keep_checkpoint_every_n_hours': 10000, '_service': None, '_experimental_distribute': None, '_save_summary_steps': 128, '_log_step_count_steps': 64}\n",
      "INFO:tensorflow:Not using Distribute Coordinator.\n",
      "INFO:tensorflow:Running training and evaluation locally (non-distributed).\n",
      "INFO:tensorflow:Start train and evaluate loop. The evaluate will happen after every checkpoint. Checkpoint frequency is determined based on RunConfig arguments: save_checkpoints_steps 1024 or save_checkpoints_secs None.\n",
      "INFO:tensorflow:Calling model_fn.\n",
      "INFO:tensorflow:Done calling model_fn.\n",
      "INFO:tensorflow:Create CheckpointSaverHook.\n",
      "INFO:tensorflow:Graph was finalized.\n",
      "INFO:tensorflow:Running local_init_op.\n",
      "INFO:tensorflow:Done running local_init_op.\n",
      "INFO:tensorflow:Saving checkpoints for 0 into gs://gomoku-data/model5/model.ckpt.\n",
      "INFO:tensorflow:loss = 18305.262, step = 0\n"
     ]
    }
   ],
   "source": [
    "qvt.train_and_evaluate(board_size=20, options=options)"
   ]
  },
  {
   "cell_type": "code",
   "execution_count": null,
   "metadata": {},
   "outputs": [],
   "source": []
  },
  {
   "cell_type": "code",
   "execution_count": null,
   "metadata": {},
   "outputs": [],
   "source": []
  },
  {
   "cell_type": "code",
   "execution_count": null,
   "metadata": {},
   "outputs": [],
   "source": []
  },
  {
   "cell_type": "code",
   "execution_count": null,
   "metadata": {},
   "outputs": [],
   "source": []
  },
  {
   "cell_type": "code",
   "execution_count": null,
   "metadata": {},
   "outputs": [],
   "source": []
  },
  {
   "cell_type": "code",
   "execution_count": null,
   "metadata": {},
   "outputs": [],
   "source": []
  }
 ],
 "metadata": {
  "kernelspec": {
   "display_name": "Python 3",
   "language": "python",
   "name": "python3"
  },
  "language_info": {
   "codemirror_mode": {
    "name": "ipython",
    "version": 3
   },
   "file_extension": ".py",
   "mimetype": "text/x-python",
   "name": "python",
   "nbconvert_exporter": "python",
   "pygments_lexer": "ipython3",
   "version": "3.5.3"
  }
 },
 "nbformat": 4,
 "nbformat_minor": 2
}
