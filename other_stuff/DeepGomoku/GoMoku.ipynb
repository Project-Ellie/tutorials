{
 "cells": [
  {
   "cell_type": "code",
   "execution_count": 52,
   "metadata": {},
   "outputs": [
    {
     "name": "stdout",
     "output_type": "stream",
     "text": [
      "The autoreload extension is already loaded. To reload it, use:\n",
      "  %reload_ext autoreload\n"
     ]
    }
   ],
   "source": [
    "%load_ext autoreload\n",
    "%autoreload 2"
   ]
  },
  {
   "cell_type": "code",
   "execution_count": 53,
   "metadata": {},
   "outputs": [],
   "source": [
    "import matplotlib.pyplot as plt\n",
    "import numpy as np"
   ]
  },
  {
   "cell_type": "markdown",
   "metadata": {},
   "source": [
    "# Deep Reinforcement Learning with Gomoku "
   ]
  },
  {
   "cell_type": "markdown",
   "metadata": {},
   "source": [
    "### Gomoku as an RL problem"
   ]
  },
  {
   "cell_type": "markdown",
   "metadata": {},
   "source": [
    "---\n",
    "### Judging a field's value by its neighborhood"
   ]
  },
  {
   "cell_type": "code",
   "execution_count": 54,
   "metadata": {},
   "outputs": [],
   "source": [
    "from GomokuTools import GomokuTools, N_9x9"
   ]
  },
  {
   "cell_type": "markdown",
   "metadata": {},
   "source": [
    "We make the (admittedly naive and limiting) assumptions that  \n",
    "1. what matters for the primary estimation of a position's value is determined by the 9x9 neighborhood of that field, and\n",
    "2. fields that don't share a common line (x, y, or diagonal) with the given position, don't matter either.\n",
    "\n",
    "Farther fields simply won't directly contribute to a common line of length 5 or smaller.\n",
    "\n",
    "Class ```N_9x9``` in [GomokuTools.py](GomokuTools.py) describes the world from the point of view of a particular position. This view can be regarded as the relevant environment represented in some kind of polar-coordinates. It is much more meaningful to a neural network (I hope) than the cartesian representation. It allows us to devise a 64-bit representation of the current *threat* or *opportunity* created for a position by the adjacent stones."
   ]
  },
  {
   "cell_type": "markdown",
   "metadata": {},
   "source": [
    "```register(color, direction, distance) ``` tells the class that there is a stone of color $c$ in direction $d$ with distance $s$\n",
    "\n",
    "Observe the different representations of the 9x9 neighborhood: First the hex string representation, then the 64 bits, which we'll eventually feed into our valuation network, and finally the human-readable form we'll use for contemplation throughout this tutorial."
   ]
  },
  {
   "cell_type": "code",
   "execution_count": 55,
   "metadata": {},
   "outputs": [
    {
     "name": "stdout",
     "output_type": "stream",
     "text": [
      "|                 |\n",
      "|                 |\n",
      "|    o            |\n",
      "|      x          |\n",
      "|        *        |\n",
      "|                 |\n",
      "|                 |\n",
      "|                 |\n",
      "|        o        |\n",
      "0000000000800804\n"
     ]
    },
    {
     "data": {
      "text/plain": [
       "[[[0, 0, 0, 0, 0, 0, 0, 0], [0, 0, 0, 0, 0, 0, 0, 0]],\n",
       " [[0, 0, 0, 0, 0, 0, 0, 0], [0, 0, 0, 0, 0, 0, 0, 0]],\n",
       " [[0, 0, 0, 0, 0, 0, 0, 0], [1, 0, 0, 0, 0, 0, 0, 0]],\n",
       " [[0, 0, 0, 0, 1, 0, 0, 0], [0, 0, 0, 0, 0, 1, 0, 0]]]"
      ]
     },
     "execution_count": 55,
     "metadata": {},
     "output_type": "execute_result"
    }
   ],
   "source": [
    "f = N_9x9().register('b', 'nw', 1).register('w', 'nw', 2).register('w', 's', 4)\n",
    "print(f)\n",
    "print(f.as_hex())\n",
    "f.as_bits()"
   ]
  },
  {
   "cell_type": "markdown",
   "metadata": {},
   "source": [
    "---\n",
    "### Heuristic Score\n",
    "The heuristic score class is trying to provide a good measure of reward for offensive and defensive moves. See [Heuristics.ipynb](Heuristics.ipynb) for a deeper look into the reasoning behind this particular implementation."
   ]
  },
  {
   "cell_type": "code",
   "execution_count": 56,
   "metadata": {},
   "outputs": [
    {
     "data": {
      "text/plain": [
       "|                 |\n",
       "|  x              |\n",
       "|    x            |\n",
       "|                 |\n",
       "|        * x x    |\n",
       "|                 |\n",
       "|                 |\n",
       "|                 |\n",
       "|                 |"
      ]
     },
     "execution_count": 56,
     "metadata": {},
     "output_type": "execute_result"
    }
   ],
   "source": [
    "from HeuristicScore import HeuristicScore\n",
    "h = HeuristicScore()\n",
    "n = (N_9x9()\n",
    "     .register('b', 'e', 1)\n",
    "     .register('b', 'e', 2)\n",
    "     .register('b', 'nw', 2)\n",
    "     .register('b', 'nw', 3))\n",
    "n"
   ]
  },
  {
   "cell_type": "markdown",
   "metadata": {},
   "source": [
    "A score of $3$ and above means: Serious trouble ahead. That's what we'd expect from the above picture."
   ]
  },
  {
   "cell_type": "code",
   "execution_count": 57,
   "metadata": {},
   "outputs": [
    {
     "data": {
      "text/plain": [
       "3.5635948725613575"
      ]
     },
     "execution_count": 57,
     "metadata": {},
     "output_type": "execute_result"
    }
   ],
   "source": [
    "h.total_score(n.as_bits())"
   ]
  },
  {
   "cell_type": "markdown",
   "metadata": {},
   "source": [
    "---\n",
    "## The Gomoku Board"
   ]
  },
  {
   "cell_type": "code",
   "execution_count": 58,
   "metadata": {},
   "outputs": [],
   "source": [
    "A,B,C,D,E,F,G,H,I,K,L,M,N,O,P = 1,2,3,4,5,6,7,8,9,10,11,12,13,14,15"
   ]
  },
  {
   "cell_type": "code",
   "execution_count": 59,
   "metadata": {},
   "outputs": [
    {
     "data": {
      "image/png": "[encoded data removed]",
      "text/plain": [
       "<Figure size 720x720 with 1 Axes>"
      ]
     },
     "metadata": {
      "needs_background": "light"
     },
     "output_type": "display_data"
    }
   ],
   "source": [
    "board = GomokuBoard(15, 10, [(H,8), (I,9), (G,10), (H,7), (G, 9), (I,7)])\n",
    "board.display(score='current');"
   ]
  },
  {
   "cell_type": "markdown",
   "metadata": {},
   "source": [
    "---\n",
    "## Let's play"
   ]
  },
  {
   "cell_type": "code",
   "execution_count": null,
   "metadata": {},
   "outputs": [],
   "source": []
  }
 ],
 "metadata": {
  "kernelspec": {
   "display_name": "Python 3",
   "language": "python",
   "name": "python3"
  },
  "language_info": {
   "codemirror_mode": {
    "name": "ipython",
    "version": 3
   },
   "file_extension": ".py",
   "mimetype": "text/x-python",
   "name": "python",
   "nbconvert_exporter": "python",
   "pygments_lexer": "ipython3",
   "version": "3.6.4"
  }
 },
 "nbformat": 4,
 "nbformat_minor": 2
}
