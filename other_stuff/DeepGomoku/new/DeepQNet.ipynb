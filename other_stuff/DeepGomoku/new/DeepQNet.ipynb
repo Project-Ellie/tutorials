{
 "cells": [
  {
   "cell_type": "code",
   "execution_count": 2,
   "metadata": {},
   "outputs": [],
   "source": [
    "from __future__ import absolute_import, print_function, division"
   ]
  },
  {
   "cell_type": "code",
   "execution_count": 3,
   "metadata": {},
   "outputs": [],
   "source": [
    "import random\n",
    "import numpy as np\n",
    "import tensorflow as tf"
   ]
  },
  {
   "cell_type": "code",
   "execution_count": 7,
   "metadata": {},
   "outputs": [
    {
     "data": {
      "text/plain": [
       "'1.12.0'"
      ]
     },
     "execution_count": 7,
     "metadata": {},
     "output_type": "execute_result"
    }
   ],
   "source": [
    "tf.__version__"
   ]
  },
  {
   "cell_type": "code",
   "execution_count": 14,
   "metadata": {},
   "outputs": [],
   "source": [
    "batch = np.load(\"samples.npy\")\n",
    "labels = np.load(\"values.npy\")\n",
    "\n",
    "batch_t = np.load(\"samples.npy\")\n",
    "labels_t = np.load(\"values.npy\")"
   ]
  },
  {
   "cell_type": "code",
   "execution_count": 15,
   "metadata": {},
   "outputs": [
    {
     "data": {
      "text/plain": [
       "(320, 17, 17, 2)"
      ]
     },
     "execution_count": 15,
     "metadata": {},
     "output_type": "execute_result"
    }
   ],
   "source": [
    "batch.shape"
   ]
  },
  {
   "cell_type": "code",
   "execution_count": 16,
   "metadata": {},
   "outputs": [],
   "source": [
    "bsize=15\n",
    "bsize2=17 # The size with the defensive border"
   ]
  },
  {
   "cell_type": "code",
   "execution_count": 17,
   "metadata": {},
   "outputs": [],
   "source": [
    "_inputs = tf.placeholder(tf.float32, [None, bsize2, bsize2, 2])\n",
    "_labels = tf.placeholder(tf.float32, [None, bsize2, bsize2, 1])"
   ]
  },
  {
   "cell_type": "code",
   "execution_count": 20,
   "metadata": {},
   "outputs": [],
   "source": [
    "conv1 = tf.layers.conv2d(inputs=_inputs, filters=128, kernel_size=[9,9], \n",
    "                         strides=[1,1], padding='SAME', activation=tf.nn.elu)\n",
    "conv2 = tf.layers.conv2d(inputs=conv1, filters=64, kernel_size=[9,9], \n",
    "                         strides=[1,1], padding='SAME', activation=tf.nn.elu)\n",
    "conv3 = tf.layers.conv2d(inputs=conv2, filters=32, kernel_size=[9,9], \n",
    "                         strides=[1,1], padding='SAME', activation=tf.nn.elu)\n",
    "conv4 = tf.layers.conv2d(inputs=conv3, filters=1, kernel_size=[9,9], \n",
    "                         strides=[1,1], padding='SAME')\n",
    "\n",
    "loss = tf.losses.mean_squared_error(_labels,conv4)\n",
    "optimizer = tf.train.AdamOptimizer(learning_rate=3e-3).minimize(loss)"
   ]
  },
  {
   "cell_type": "markdown",
   "metadata": {},
   "source": [
    "### Training\n",
    "We train the network and compute training loss and test loss once in a while"
   ]
  },
  {
   "cell_type": "code",
   "execution_count": 21,
   "metadata": {},
   "outputs": [
    {
     "name": "stdout",
     "output_type": "stream",
     "text": [
      "22366386.0 22366386.0\n",
      "19916490.0 19916490.0\n",
      "18304924.0 18304924.0\n",
      "17977846.0 17977846.0\n",
      "16480617.0 16480617.0\n",
      "16111745.0 16111745.0\n",
      "15452383.0 15452383.0\n",
      "17837956.0 17837956.0\n",
      "16099800.0 16099800.0\n",
      "14806014.0 14806014.0\n",
      "14091051.0 14091051.0\n",
      "13828173.0 13828173.0\n",
      "13605387.0 13605387.0\n",
      "13464751.0 13464751.0\n",
      "13324709.0 13324709.0\n",
      "13172528.0 13172528.0\n",
      "13069178.0 13069178.0\n",
      "13055535.0 13055535.0\n",
      "12764806.0 12764806.0\n",
      "12587902.0 12587902.0\n",
      "12442516.0 12442516.0\n",
      "12241705.0 12241705.0\n",
      "11666122.0 11666122.0\n",
      "11410179.0 11410179.0\n",
      "11358012.0 11358012.0\n",
      "10915952.0 10915952.0\n",
      "10607120.0 10607120.0\n",
      "10696849.0 10696849.0\n",
      "12146054.0 12146054.0\n",
      "10964272.0 10964272.0\n",
      "10482337.0 10482337.0\n",
      "10218987.0 10218987.0\n",
      "9930204.0 9930204.0\n",
      "9751359.0 9751359.0\n",
      "9697756.0 9697756.0\n",
      "9522905.0 9522905.0\n",
      "9230869.0 9230869.0\n",
      "9031789.0 9031789.0\n",
      "8854256.0 8854256.0\n",
      "8929032.0 8929032.0\n",
      "9836473.0 9836473.0\n",
      "9524850.0 9524850.0\n",
      "8910604.0 8910604.0\n",
      "8374001.5 8374001.5\n",
      "8216450.0 8216450.0\n",
      "8075095.5 8075095.5\n",
      "7925393.0 7925393.0\n",
      "7784224.0 7784224.0\n",
      "7647930.5 7647930.5\n",
      "7772476.0 7772476.0\n",
      "7697339.5 7697339.5\n",
      "7318762.0 7318762.0\n",
      "7206110.0 7206110.0\n",
      "7077489.0 7077489.0\n",
      "6909896.5 6909896.5\n",
      "8568862.0 8568862.0\n",
      "6995604.0 6995604.0\n",
      "6763714.0 6763714.0\n",
      "6569199.0 6569199.0\n",
      "6390023.0 6390023.0\n",
      "6228302.5 6228302.5\n",
      "6071051.0 6071051.0\n",
      "7455704.5 7455704.5\n",
      "6328900.5 6328900.5\n",
      "5810042.0 5810042.0\n",
      "5589356.5 5589356.5\n",
      "5435027.5 5435027.5\n",
      "5401455.5 5401455.5\n",
      "5198168.5 5198168.5\n",
      "5190669.5 5190669.5\n",
      "4894971.0 4894971.0\n",
      "4788622.5 4788622.5\n",
      "4809419.5 4809419.5\n",
      "4579095.0 4579095.0\n",
      "4620936.5 4620936.5\n",
      "4302197.0 4302197.0\n",
      "4512833.0 4512833.0\n",
      "4651498.5 4651498.5\n",
      "4135533.8 4135533.8\n",
      "3982647.5 3982647.5\n",
      "4401812.0 4401812.0\n",
      "4220741.0 4220741.0\n",
      "3817832.8 3817832.8\n",
      "3798181.8 3798181.8\n",
      "4044078.2 4044078.2\n",
      "3667470.5 3667470.5\n",
      "3565184.0 3565184.0\n",
      "3529029.5 3529029.5\n",
      "3436751.2 3436751.2\n",
      "3466383.8 3466383.8\n",
      "3381034.2 3381034.2\n",
      "3241740.2 3241740.2\n",
      "3783914.5 3783914.5\n",
      "3462383.5 3462383.5\n",
      "3166991.0 3166991.0\n",
      "3115988.0 3115988.0\n",
      "3048250.0 3048250.0\n",
      "2982496.8 2982496.8\n",
      "2935454.5 2935454.5\n",
      "2914321.8 2914321.8\n",
      "3266566.5 3266566.5\n"
     ]
    }
   ],
   "source": [
    "with tf.Session() as session:\n",
    "    session.run(tf.global_variables_initializer())\n",
    "    for i in range(1001):\n",
    "        _ = session.run(optimizer, feed_dict={_inputs: batch, _labels: labels})\n",
    "        if i % 10 == 0:\n",
    "            l = session.run(loss, feed_dict={_inputs: batch, _labels: labels})\n",
    "            l_t = session.run(loss, feed_dict={_inputs: batch_t, _labels: labels_t})\n",
    "            print(l, l_t)"
   ]
  },
  {
   "cell_type": "markdown",
   "metadata": {},
   "source": [
    "From the smooth convergence also on the test set we can see that the network has indeed learned our label function."
   ]
  },
  {
   "cell_type": "code",
   "execution_count": null,
   "metadata": {},
   "outputs": [],
   "source": []
  }
 ],
 "metadata": {
  "kernelspec": {
   "display_name": "Python 3",
   "language": "python",
   "name": "python3"
  },
  "language_info": {
   "codemirror_mode": {
    "name": "ipython",
    "version": 3
   },
   "file_extension": ".py",
   "mimetype": "text/x-python",
   "name": "python",
   "nbconvert_exporter": "python",
   "pygments_lexer": "ipython3",
   "version": "3.5.3"
  }
 },
 "nbformat": 4,
 "nbformat_minor": 2
}
