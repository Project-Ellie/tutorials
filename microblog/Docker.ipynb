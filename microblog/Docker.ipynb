{
 "cells": [
  {
   "cell_type": "markdown",
   "metadata": {},
   "source": [
    "### Building the docker image"
   ]
  },
  {
   "cell_type": "code",
   "execution_count": 1,
   "metadata": {},
   "outputs": [
    {
     "name": "stdout",
     "output_type": "stream",
     "text": [
      "/home/wgiersche/workspace/tutorials/microblog\n"
     ]
    }
   ],
   "source": [
    "!pwd"
   ]
  },
  {
   "cell_type": "code",
   "execution_count": 2,
   "metadata": {},
   "outputs": [
    {
     "name": "stdout",
     "output_type": "stream",
     "text": [
      "\u001b[0m\u001b[01;34mapp\u001b[0m/        Docker.ipynb  LICENSE       \u001b[01;34m__pycache__\u001b[0m/  requirements.txt\n",
      "Dockerfile  \u001b[01;34mk8s\u001b[0m/          microblog.py  Readme.MD     Tutorial.ipynb\n"
     ]
    }
   ],
   "source": [
    "ls"
   ]
  },
  {
   "cell_type": "code",
   "execution_count": 3,
   "metadata": {},
   "outputs": [
    {
     "name": "stdout",
     "output_type": "stream",
     "text": [
      "Sending build context to Docker daemon  88.58kB\n",
      "Step 1/9 : FROM python:3.6-alpine\n",
      " ---> 1d981af1e3b4\n",
      "Step 2/9 : WORKDIR /home/microblog\n",
      " ---> Using cache\n",
      " ---> 0b46cfe16221\n",
      "Step 3/9 : COPY requirements.txt requirements.txt\n",
      " ---> Using cache\n",
      " ---> b81a388c325f\n",
      "Step 4/9 : RUN pip install -r requirements.txt\n",
      " ---> Using cache\n",
      " ---> 0fb67cf46cb9\n",
      "Step 5/9 : COPY app app\n",
      " ---> Using cache\n",
      " ---> 48b0a03232aa\n",
      "Step 6/9 : COPY microblog.py microblog.py\n",
      " ---> Using cache\n",
      " ---> 1d2ebe70bbdf\n",
      "Step 7/9 : ENV FLASK_APP microblog.py\n",
      " ---> Using cache\n",
      " ---> 949e554d2467\n",
      "Step 8/9 : EXPOSE 5000\n",
      " ---> Using cache\n",
      " ---> 9bb22f48b3d1\n",
      "Step 9/9 : ENTRYPOINT [\"flask\", \"run\", \"--host=0.0.0.0\"]\n",
      " ---> Using cache\n",
      " ---> c7e38ea0da04\n",
      "Successfully built c7e38ea0da04\n",
      "Successfully tagged microblog:latest\n"
     ]
    }
   ],
   "source": [
    "!sudo docker build -t microblog:latest ."
   ]
  },
  {
   "cell_type": "code",
   "execution_count": 4,
   "metadata": {},
   "outputs": [
    {
     "name": "stdout",
     "output_type": "stream",
     "text": [
      "REPOSITORY                        TAG                 IMAGE ID            CREATED             SIZE\n",
      "microblog                         latest              c7e38ea0da04        4 hours ago         84.9MB\n",
      "us.gcr.io/going-tfx/microblog     v1                  c7e38ea0da04        4 hours ago         84.9MB\n",
      "us.gcr.io/project-tfx/microblog   v1                  c7e38ea0da04        4 hours ago         84.9MB\n",
      "python                            3.6-alpine          1d981af1e3b4        4 weeks ago         74.3MB\n"
     ]
    }
   ],
   "source": [
    "!sudo docker images"
   ]
  },
  {
   "cell_type": "code",
   "execution_count": 5,
   "metadata": {},
   "outputs": [
    {
     "name": "stdout",
     "output_type": "stream",
     "text": [
      "d194333d498345ef72b0d38c33dcdaa4019320cb2d4f9bf150ce68c41ba569e2\n"
     ]
    }
   ],
   "source": [
    "!sudo docker run --name microblog -d -p 8000:5000 --rm microblog:latest"
   ]
  },
  {
   "cell_type": "code",
   "execution_count": 6,
   "metadata": {},
   "outputs": [
    {
     "name": "stdout",
     "output_type": "stream",
     "text": [
      "  % Total    % Received % Xferd  Average Speed   Time    Time     Time  Current\n",
      "                                 Dload  Upload   Total   Spent    Left  Speed\n",
      "100  1621  100  1621    0     0  77663      0 --:--:-- --:--:-- --:--:-- 81050\n",
      "<h1>Hello, Wolfie!</h1>\n"
     ]
    }
   ],
   "source": [
    "!curl localhost:8000 | grep Wolfie"
   ]
  },
  {
   "cell_type": "code",
   "execution_count": 7,
   "metadata": {},
   "outputs": [
    {
     "name": "stdout",
     "output_type": "stream",
     "text": [
      "microblog\n"
     ]
    }
   ],
   "source": [
    "!sudo docker stop microblog"
   ]
  },
  {
   "cell_type": "code",
   "execution_count": 8,
   "metadata": {},
   "outputs": [],
   "source": [
    "!sudo docker tag microblog us.gcr.io/going-tfx/microblog:v1"
   ]
  },
  {
   "cell_type": "code",
   "execution_count": 9,
   "metadata": {},
   "outputs": [
    {
     "name": "stdout",
     "output_type": "stream",
     "text": [
      "The push refers to repository [us.gcr.io/going-tfx/microblog]\n",
      "\n",
      "\u001b[1B\n",
      "\u001b[1B\n",
      "\u001b[1B\n",
      "\u001b[1B\n",
      "\u001b[1B\n",
      "\u001b[1B\n",
      "\u001b[1B\n",
      "\u001b[1B\n",
      "\u001b[1B\n",
      "\u001b[2Bv1: digest: sha256:478215afa1bf565c8e39bf1669eec55f5c60af18fcba5d42cfdc271166c6e207 size: 2408\n"
     ]
    }
   ],
   "source": [
    "!sudo docker push us.gcr.io/going-tfx/microblog:v1"
   ]
  },
  {
   "cell_type": "code",
   "execution_count": null,
   "metadata": {},
   "outputs": [],
   "source": []
  }
 ],
 "metadata": {
  "kernelspec": {
   "display_name": "Python 3",
   "language": "python",
   "name": "python3"
  },
  "language_info": {
   "name": ""
  }
 },
 "nbformat": 4,
 "nbformat_minor": 2
}
