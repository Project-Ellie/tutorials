{
 "cells": [
  {
   "cell_type": "markdown",
   "metadata": {},
   "source": [
    "# Detecting active ranges "
   ]
  },
  {
   "cell_type": "markdown",
   "metadata": {},
   "source": [
    "Here we examine, how a modestly deep network of dense layers is able to recognize the fact that a single feature influences the prediction only when it is within a certain range."
   ]
  },
  {
   "cell_type": "code",
   "execution_count": 97,
   "metadata": {},
   "outputs": [],
   "source": [
    "%matplotlib inline"
   ]
  },
  {
   "cell_type": "code",
   "execution_count": 98,
   "metadata": {},
   "outputs": [],
   "source": [
    "import random\n",
    "import numpy as np\n",
    "import pandas as pd\n",
    "import matplotlib.pyplot as plt\n",
    "import tensorflow as tf"
   ]
  },
  {
   "cell_type": "markdown",
   "metadata": {},
   "source": [
    "### Creating the data"
   ]
  },
  {
   "cell_type": "markdown",
   "metadata": {},
   "source": [
    "Guaranteeing reproducible results by seeding all random number generators. Thanks for the enlightening advice, [Aurelion Geron](https://www.youtube.com/watch?v=Ys8ofBeR2kA)"
   ]
  },
  {
   "cell_type": "code",
   "execution_count": 99,
   "metadata": {},
   "outputs": [],
   "source": [
    "def seed_random(seed):\n",
    "    random.seed(seed)\n",
    "    np.random.seed(seed)\n",
    "    tf.set_random_seed(seed)"
   ]
  },
  {
   "cell_type": "code",
   "execution_count": 148,
   "metadata": {},
   "outputs": [],
   "source": [
    "seed_random(40)"
   ]
  },
  {
   "cell_type": "markdown",
   "metadata": {},
   "source": [
    "This creates a feature 'x' with a noisy influence on the label 'y'"
   ]
  },
  {
   "cell_type": "code",
   "execution_count": 149,
   "metadata": {},
   "outputs": [],
   "source": [
    "def create_data_frame(function, left, right, size, noisy=None):\n",
    "    import numpy as np\n",
    "    import pandas as pd\n",
    "\n",
    "    if noisy == None:\n",
    "        noisy = lambda x: x\n",
    "    x_data = np.random.uniform(low=left, high=right, size=size)\n",
    "    y_data = noisy(function(x_data))\n",
    "    return pd.DataFrame({'x': x_data, 'y': y_data})"
   ]
  },
  {
   "cell_type": "code",
   "execution_count": 150,
   "metadata": {},
   "outputs": [],
   "source": [
    "noisy=lambda x: x+ np.random.normal(loc=0.0, scale=.02, size=len(x))"
   ]
  },
  {
   "cell_type": "code",
   "execution_count": 151,
   "metadata": {},
   "outputs": [],
   "source": [
    "def rangind(bl, br):\n",
    "    def _f(x):\n",
    "        return (np.sign(x-bl+.01)+1) * (np.sign(br - x+.01)+1)/4.0\n",
    "    return _f"
   ]
  },
  {
   "cell_type": "code",
   "execution_count": 152,
   "metadata": {},
   "outputs": [],
   "source": [
    "fn = lambda x: rangind(-.5, -.2)(x) + rangind(.2,.5)(x)\n",
    "#fn = lambda x: rangind(-1, 0)(x)"
   ]
  },
  {
   "cell_type": "code",
   "execution_count": 153,
   "metadata": {},
   "outputs": [
    {
     "data": {
      "image/png": "[encoded data removed]",
      "text/plain": [
       "<Figure size 432x288 with 1 Axes>"
      ]
     },
     "metadata": {
      "needs_background": "light"
     },
     "output_type": "display_data"
    }
   ],
   "source": [
    "df = create_data_frame(fn, -1, 1, 400, noisy)\n",
    "x_input = list(df['x'])\n",
    "x_input = np.reshape(x_input, (-1, 1)) # cosmetics for the neural network\n",
    "y_input = list(df['y'])\n",
    "y_input = np.reshape(y_input, (-1, 1)) # cosmetics for the neural network\n",
    "plt.scatter(list(df['x']),list(df['y']));"
   ]
  },
  {
   "cell_type": "markdown",
   "metadata": {},
   "source": [
    "The feature $x$ on the x-Axis has an influence on the to-be-predicted observable $y$ only if it is between -0.2 and -0.5 or between 0.2 and 0.5  "
   ]
  },
  {
   "cell_type": "markdown",
   "metadata": {},
   "source": [
    "---\n",
    "### The hypothesis\n",
    "Here, you define your hypothesis as a neural network function"
   ]
  },
  {
   "cell_type": "code",
   "execution_count": 154,
   "metadata": {},
   "outputs": [],
   "source": [
    "x_p=tf.placeholder(shape=(None, 1), dtype=tf.float32)\n",
    "y_p=tf.placeholder(shape=(None, 1), dtype=tf.float32)"
   ]
  },
  {
   "cell_type": "code",
   "execution_count": 155,
   "metadata": {},
   "outputs": [],
   "source": [
    "lrelu = lambda x: tf.nn.leaky_relu(alpha=.02, features=x)"
   ]
  },
  {
   "cell_type": "markdown",
   "metadata": {},
   "source": [
    "In case you wonder: I'm using ```leaky_relu``` here, because ```relu```s can easily starve off once in the negative reign. For large models, that's typically not a problem but in fact desired. In small models though, too often all gradients disappear and training doesn't go anywhere. "
   ]
  },
  {
   "cell_type": "code",
   "execution_count": 156,
   "metadata": {},
   "outputs": [],
   "source": [
    "def dnn(units, inp):\n",
    "    _inp = inp\n",
    "    for u in units:\n",
    "        l = tf.layers.Dense(units=u, activation=lrelu)\n",
    "        _inp = l(_inp)\n",
    "    return _inp"
   ]
  },
  {
   "cell_type": "code",
   "execution_count": 157,
   "metadata": {},
   "outputs": [],
   "source": [
    "h = dnn([4,4,4,1], x_p)"
   ]
  },
  {
   "cell_type": "markdown",
   "metadata": {},
   "source": [
    "---\n",
    "### Start the training\n",
    "\n",
    "with ```h = dnn([4,4,4,1], x_p)``` in the above cell and 10000 training steps, the result of the training will vary significantly, depending on the seed you chose. For $seed=42$, the neural network will miss the second active range. With $seed=39$, it misses the first one. With $seed=40$, it will detect both active ranges. This illustrates that - unlike networks with a very large number of parameters - small networks may indeed converge into local minima."
   ]
  },
  {
   "cell_type": "markdown",
   "metadata": {},
   "source": [
    "The following cell is again to guarantee reproducibility"
   ]
  },
  {
   "cell_type": "code",
   "execution_count": 158,
   "metadata": {},
   "outputs": [],
   "source": [
    "config = tf.ConfigProto(\n",
    "    intra_op_parallelism_threads=1,\n",
    "    inter_op_parallelism_threads=1)"
   ]
  },
  {
   "cell_type": "code",
   "execution_count": 159,
   "metadata": {},
   "outputs": [],
   "source": [
    "init = tf.global_variables_initializer()"
   ]
  },
  {
   "cell_type": "code",
   "execution_count": 160,
   "metadata": {},
   "outputs": [],
   "source": [
    "loss=tf.losses.mean_squared_error(y_p, h)"
   ]
  },
  {
   "cell_type": "code",
   "execution_count": 161,
   "metadata": {},
   "outputs": [],
   "source": [
    "optimizer=tf.train.GradientDescentOptimizer(learning_rate=.01)\n",
    "train_op = optimizer.minimize(loss=loss)"
   ]
  },
  {
   "cell_type": "code",
   "execution_count": 162,
   "metadata": {},
   "outputs": [
    {
     "name": "stdout",
     "output_type": "stream",
     "text": [
      "0.021903457\n"
     ]
    },
    {
     "data": {
      "text/plain": [
       "<matplotlib.collections.PathCollection at 0x7f926e6d7f10>"
      ]
     },
     "execution_count": 162,
     "metadata": {},
     "output_type": "execute_result"
    },
    {
     "data": {
      "image/png": "[encoded data removed]",
      "text/plain": [
       "<Figure size 432x288 with 1 Axes>"
      ]
     },
     "metadata": {
      "needs_background": "light"
     },
     "output_type": "display_data"
    }
   ],
   "source": [
    "with tf.Session(config=config) as sess:\n",
    "    sess.run(init)\n",
    "    for _ in range(10000):\n",
    "        _, loss_r = sess.run([train_op, loss], feed_dict={x_p: x_input, y_p: y_input})\n",
    "\n",
    "    y, y_ = sess.run([h, y_p], feed_dict={x_p: x_input, y_p: y_input})\n",
    "\n",
    "\n",
    "print(loss_r)\n",
    "\n",
    "y=[l[0] for l in list(y)]\n",
    "y_=[l[0] for l in list(y_)]\n",
    "\n",
    "plt.scatter(x_input, y_)\n",
    "plt.scatter(x_input, y)"
   ]
  },
  {
   "cell_type": "markdown",
   "metadata": {},
   "source": [
    "Sometimes a system's properties don't depend linearly on a seemingly linear factor. If x is for example a frequency that appears to have a linear influence on the life time of a machine, then it's possible that it's impact increases drastically in the vicinity of the system's other eigenfrequencies. The same may happen when you happen to have chosen daytime of day of month as a linear feature.  "
   ]
  },
  {
   "cell_type": "code",
   "execution_count": null,
   "metadata": {},
   "outputs": [],
   "source": []
  }
 ],
 "metadata": {
  "kernelspec": {
   "display_name": "Python 2",
   "language": "python",
   "name": "python2"
  },
  "language_info": {
   "codemirror_mode": {
    "name": "ipython",
    "version": 2
   },
   "file_extension": ".py",
   "mimetype": "text/x-python",
   "name": "python",
   "nbconvert_exporter": "python",
   "pygments_lexer": "ipython2",
   "version": "2.7.13"
  }
 },
 "nbformat": 4,
 "nbformat_minor": 2
}
