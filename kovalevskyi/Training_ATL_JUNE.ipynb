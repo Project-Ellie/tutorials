{
 "cells": [
  {
   "cell_type": "code",
   "execution_count": 1,
   "metadata": {},
   "outputs": [],
   "source": [
    "from __future__ import division\n",
    "from __future__ import print_function\n",
    "from __future__ import absolute_import"
   ]
  },
  {
   "cell_type": "code",
   "execution_count": 2,
   "metadata": {},
   "outputs": [],
   "source": [
    "import os\n",
    "import shutil\n",
    "import json\n",
    "\n",
    "\n",
    "import pandas as pd\n",
    "import numpy as np\n",
    "\n",
    "import tensorflow as tf\n",
    "import tensorflow_transform as tft\n",
    "from tensorflow_transform.saved import input_fn_maker, saved_transform_io\n",
    "from tensorflow_transform.tf_metadata import metadata_io\n",
    "import google.datalab.bigquery as dlbq\n",
    "\n",
    "from configuration_2 import directories\n",
    "from configuration_2 import ORDERED_TRAINING_COLUMNS, ORDERED_TRAINING_DEFAULTS, SIGNATURE_INT_COLUMNS, SIGNATURE_FLOAT_COLUMNS, SIGNATURE_METADATA\n",
    "\n",
    "from signature_queries import sample_query"
   ]
  },
  {
   "cell_type": "code",
   "execution_count": 15,
   "metadata": {},
   "outputs": [],
   "source": [
    "import os\n",
    "import pandas as pd\n",
    "import tensorflow as tf\n",
    "import google.datalab.bigquery as dlbq"
   ]
  },
  {
   "cell_type": "code",
   "execution_count": 3,
   "metadata": {},
   "outputs": [],
   "source": [
    "tf.logging.set_verbosity(tf.logging.INFO)"
   ]
  },
  {
   "cell_type": "markdown",
   "metadata": {},
   "source": [
    "---\n",
    "##### From Jupyter notebook to python package\n",
    "From exploration to production.\n",
    "\n",
    "This little tool dumps a given function to a file with the same name in a certain package"
   ]
  },
  {
   "cell_type": "code",
   "execution_count": 2,
   "metadata": {},
   "outputs": [],
   "source": [
    "PACKAGE=\"./train\"\n",
    "from tools import make_src_dumper\n",
    "write_py = make_src_dumper(PACKAGE)"
   ]
  },
  {
   "cell_type": "markdown",
   "metadata": {},
   "source": [
    "---"
   ]
  },
  {
   "cell_type": "markdown",
   "metadata": {},
   "source": [
    "# Training and Evaluation Data\n",
    "Training and evaluation data should be provided in files already.\n",
    "\n",
    "If not, please go back an run ```Processing_ATL_JUNE.ipynb```\n",
    "\n",
    "#### Fetch a sample file for examination"
   ]
  },
  {
   "cell_type": "code",
   "execution_count": 6,
   "metadata": {},
   "outputs": [
    {
     "name": "stdout",
     "output_type": "stream",
     "text": [
      "Copying gs://going-tfx/sample/train_data/atl_june_train-00000-of-00025...\n",
      "/ [1 files][136.5 KiB/136.5 KiB]                                                \n",
      "Operation completed over 1 objects/136.5 KiB.                                    \n",
      "1000 /tmp/atl_june/sample/atl_june_train-00000-of-00025\n"
     ]
    }
   ],
   "source": [
    "a_training_file = !gsutil ls gs://going-tfx/sample/train_data/atl_june_train-00000-of-*\n",
    "a_training_file = a_training_file[0]\n",
    "TEMP_DIR='/tmp/atl_june/sample'\n",
    "!rm -rf $TEMP_DIR\n",
    "!mkdir -p $TEMP_DIR\n",
    "!gsutil cp $a_training_file $TEMP_DIR\n",
    "a_training_file = !ls $TEMP_DIR\n",
    "a_training_file = os.path.join(TEMP_DIR,a_training_file[0])\n",
    "!wc -l $a_training_file"
   ]
  },
  {
   "cell_type": "markdown",
   "metadata": {},
   "source": [
    "#### Have a look into the first training data file\n",
    "\n",
    "This data is at the **training data** stage. It's got all and only the columns we want. Is has been normalized and integerized. We'll use the ```tf.feature_column``` API to further prepare categorical features."
   ]
  },
  {
   "cell_type": "code",
   "execution_count": 8,
   "metadata": {},
   "outputs": [
    {
     "data": {
      "text/html": [
       "<div>\n",
       "<style scoped>\n",
       "    .dataframe tbody tr th:only-of-type {\n",
       "        vertical-align: middle;\n",
       "    }\n",
       "\n",
       "    .dataframe tbody tr th {\n",
       "        vertical-align: top;\n",
       "    }\n",
       "\n",
       "    .dataframe thead th {\n",
       "        text-align: right;\n",
       "    }\n",
       "</style>\n",
       "<table border=\"1\" class=\"dataframe\">\n",
       "  <thead>\n",
       "    <tr style=\"text-align: right;\">\n",
       "      <th></th>\n",
       "      <th>ARR_DELAY</th>\n",
       "      <th>ARR_LAT</th>\n",
       "      <th>ARR_LON</th>\n",
       "      <th>DEP_DELAY</th>\n",
       "      <th>DEP_DOW</th>\n",
       "      <th>DEP_HOD</th>\n",
       "      <th>DEP_LAT</th>\n",
       "      <th>DEP_LON</th>\n",
       "      <th>DIFF_LAT</th>\n",
       "      <th>DIFF_LON</th>\n",
       "      <th>DISTANCE</th>\n",
       "      <th>MEAN_TEMP_ARR</th>\n",
       "      <th>MEAN_TEMP_DEP</th>\n",
       "      <th>MEAN_VIS_ARR</th>\n",
       "      <th>MEAN_VIS_DEP</th>\n",
       "      <th>WND_SPD_ARR</th>\n",
       "      <th>WND_SPD_DEP</th>\n",
       "    </tr>\n",
       "  </thead>\n",
       "  <tbody>\n",
       "    <tr>\n",
       "      <th>14</th>\n",
       "      <td>-14.0</td>\n",
       "      <td>32.89</td>\n",
       "      <td>-97.03</td>\n",
       "      <td>0.128329</td>\n",
       "      <td>7</td>\n",
       "      <td>8</td>\n",
       "      <td>33.63</td>\n",
       "      <td>-84.42</td>\n",
       "      <td>0.349436</td>\n",
       "      <td>0.653887</td>\n",
       "      <td>0.147357</td>\n",
       "      <td>0.701087</td>\n",
       "      <td>0.609244</td>\n",
       "      <td>0.456989</td>\n",
       "      <td>0.515625</td>\n",
       "      <td>0.006201</td>\n",
       "      <td>0.604651</td>\n",
       "    </tr>\n",
       "    <tr>\n",
       "      <th>854</th>\n",
       "      <td>14.0</td>\n",
       "      <td>26.68</td>\n",
       "      <td>-80.09</td>\n",
       "      <td>0.138015</td>\n",
       "      <td>4</td>\n",
       "      <td>10</td>\n",
       "      <td>33.63</td>\n",
       "      <td>-84.42</td>\n",
       "      <td>0.206579</td>\n",
       "      <td>0.835803</td>\n",
       "      <td>0.105560</td>\n",
       "      <td>0.664855</td>\n",
       "      <td>0.831933</td>\n",
       "      <td>0.489247</td>\n",
       "      <td>0.984375</td>\n",
       "      <td>0.011301</td>\n",
       "      <td>0.248062</td>\n",
       "    </tr>\n",
       "  </tbody>\n",
       "</table>\n",
       "</div>"
      ],
      "text/plain": [
       "     ARR_DELAY  ARR_LAT  ARR_LON  DEP_DELAY  DEP_DOW  DEP_HOD  DEP_LAT  \\\n",
       "14       -14.0    32.89   -97.03   0.128329        7        8    33.63   \n",
       "854       14.0    26.68   -80.09   0.138015        4       10    33.63   \n",
       "\n",
       "     DEP_LON  DIFF_LAT  DIFF_LON  DISTANCE  MEAN_TEMP_ARR  MEAN_TEMP_DEP  \\\n",
       "14    -84.42  0.349436  0.653887  0.147357       0.701087       0.609244   \n",
       "854   -84.42  0.206579  0.835803  0.105560       0.664855       0.831933   \n",
       "\n",
       "     MEAN_VIS_ARR  MEAN_VIS_DEP  WND_SPD_ARR  WND_SPD_DEP  \n",
       "14       0.456989      0.515625     0.006201     0.604651  \n",
       "854      0.489247      0.984375     0.011301     0.248062  "
      ]
     },
     "execution_count": 8,
     "metadata": {},
     "output_type": "execute_result"
    }
   ],
   "source": [
    "from train.model_config import ORDERED_TRAINING_COLUMNS\n",
    "probe = pd.read_csv(a_training_file, names=ORDERED_TRAINING_COLUMNS)\n",
    "probe.sample(frac=1.0)[:2]"
   ]
  },
  {
   "cell_type": "code",
   "execution_count": 9,
   "metadata": {},
   "outputs": [
    {
     "data": {
      "text/html": [
       "<div>\n",
       "<style scoped>\n",
       "    .dataframe tbody tr th:only-of-type {\n",
       "        vertical-align: middle;\n",
       "    }\n",
       "\n",
       "    .dataframe tbody tr th {\n",
       "        vertical-align: top;\n",
       "    }\n",
       "\n",
       "    .dataframe thead th {\n",
       "        text-align: right;\n",
       "    }\n",
       "</style>\n",
       "<table border=\"1\" class=\"dataframe\">\n",
       "  <thead>\n",
       "    <tr style=\"text-align: right;\">\n",
       "      <th></th>\n",
       "      <th>ARR_DELAY</th>\n",
       "      <th>ARR_LAT</th>\n",
       "      <th>ARR_LON</th>\n",
       "      <th>DEP_DELAY</th>\n",
       "      <th>DEP_DOW</th>\n",
       "      <th>DEP_HOD</th>\n",
       "      <th>DEP_LAT</th>\n",
       "      <th>DEP_LON</th>\n",
       "      <th>DIFF_LAT</th>\n",
       "      <th>DIFF_LON</th>\n",
       "      <th>DISTANCE</th>\n",
       "      <th>MEAN_TEMP_ARR</th>\n",
       "      <th>MEAN_TEMP_DEP</th>\n",
       "      <th>MEAN_VIS_ARR</th>\n",
       "      <th>MEAN_VIS_DEP</th>\n",
       "      <th>WND_SPD_ARR</th>\n",
       "      <th>WND_SPD_DEP</th>\n",
       "    </tr>\n",
       "  </thead>\n",
       "  <tbody>\n",
       "    <tr>\n",
       "      <th>count</th>\n",
       "      <td>1000.000000</td>\n",
       "      <td>1000.000000</td>\n",
       "      <td>1000.000000</td>\n",
       "      <td>1000.000000</td>\n",
       "      <td>1000.000000</td>\n",
       "      <td>1000.000000</td>\n",
       "      <td>1000.00</td>\n",
       "      <td>1000.00</td>\n",
       "      <td>1000.000000</td>\n",
       "      <td>1000.000000</td>\n",
       "      <td>1000.000000</td>\n",
       "      <td>1000.000000</td>\n",
       "      <td>1000.000000</td>\n",
       "      <td>1000.000000</td>\n",
       "      <td>1000.000000</td>\n",
       "      <td>1000.000000</td>\n",
       "      <td>1000.000000</td>\n",
       "    </tr>\n",
       "    <tr>\n",
       "      <th>mean</th>\n",
       "      <td>12.653000</td>\n",
       "      <td>35.649160</td>\n",
       "      <td>-87.960920</td>\n",
       "      <td>0.164726</td>\n",
       "      <td>4.744000</td>\n",
       "      <td>14.378000</td>\n",
       "      <td>33.63</td>\n",
       "      <td>-84.42</td>\n",
       "      <td>0.412909</td>\n",
       "      <td>0.751279</td>\n",
       "      <td>0.137534</td>\n",
       "      <td>0.541755</td>\n",
       "      <td>0.639660</td>\n",
       "      <td>0.434478</td>\n",
       "      <td>0.727578</td>\n",
       "      <td>0.006493</td>\n",
       "      <td>0.349775</td>\n",
       "    </tr>\n",
       "    <tr>\n",
       "      <th>std</th>\n",
       "      <td>35.990776</td>\n",
       "      <td>5.288832</td>\n",
       "      <td>13.495345</td>\n",
       "      <td>0.082028</td>\n",
       "      <td>2.015571</td>\n",
       "      <td>4.654114</td>\n",
       "      <td>0.00</td>\n",
       "      <td>0.00</td>\n",
       "      <td>0.121666</td>\n",
       "      <td>0.144924</td>\n",
       "      <td>0.121488</td>\n",
       "      <td>0.132366</td>\n",
       "      <td>0.195845</td>\n",
       "      <td>0.074008</td>\n",
       "      <td>0.210591</td>\n",
       "      <td>0.002687</td>\n",
       "      <td>0.225363</td>\n",
       "    </tr>\n",
       "    <tr>\n",
       "      <th>min</th>\n",
       "      <td>-30.000000</td>\n",
       "      <td>18.330000</td>\n",
       "      <td>-157.920000</td>\n",
       "      <td>0.094431</td>\n",
       "      <td>1.000000</td>\n",
       "      <td>5.000000</td>\n",
       "      <td>33.63</td>\n",
       "      <td>-84.42</td>\n",
       "      <td>0.014493</td>\n",
       "      <td>0.000000</td>\n",
       "      <td>0.000000</td>\n",
       "      <td>0.106884</td>\n",
       "      <td>0.214286</td>\n",
       "      <td>0.086022</td>\n",
       "      <td>0.375000</td>\n",
       "      <td>0.000700</td>\n",
       "      <td>0.124031</td>\n",
       "    </tr>\n",
       "    <tr>\n",
       "      <th>25%</th>\n",
       "      <td>-8.000000</td>\n",
       "      <td>31.320000</td>\n",
       "      <td>-93.450000</td>\n",
       "      <td>0.123487</td>\n",
       "      <td>4.000000</td>\n",
       "      <td>10.000000</td>\n",
       "      <td>33.63</td>\n",
       "      <td>-84.42</td>\n",
       "      <td>0.313320</td>\n",
       "      <td>0.692333</td>\n",
       "      <td>0.062985</td>\n",
       "      <td>0.474638</td>\n",
       "      <td>0.483193</td>\n",
       "      <td>0.408602</td>\n",
       "      <td>0.515625</td>\n",
       "      <td>0.004700</td>\n",
       "      <td>0.209302</td>\n",
       "    </tr>\n",
       "    <tr>\n",
       "      <th>50%</th>\n",
       "      <td>1.000000</td>\n",
       "      <td>35.870000</td>\n",
       "      <td>-83.350000</td>\n",
       "      <td>0.128329</td>\n",
       "      <td>4.000000</td>\n",
       "      <td>14.000000</td>\n",
       "      <td>33.63</td>\n",
       "      <td>-84.42</td>\n",
       "      <td>0.417989</td>\n",
       "      <td>0.800795</td>\n",
       "      <td>0.106730</td>\n",
       "      <td>0.564312</td>\n",
       "      <td>0.684874</td>\n",
       "      <td>0.467742</td>\n",
       "      <td>0.671875</td>\n",
       "      <td>0.006201</td>\n",
       "      <td>0.248062</td>\n",
       "    </tr>\n",
       "    <tr>\n",
       "      <th>75%</th>\n",
       "      <td>18.000000</td>\n",
       "      <td>39.900000</td>\n",
       "      <td>-79.970000</td>\n",
       "      <td>0.169492</td>\n",
       "      <td>7.000000</td>\n",
       "      <td>18.000000</td>\n",
       "      <td>33.63</td>\n",
       "      <td>-84.42</td>\n",
       "      <td>0.510697</td>\n",
       "      <td>0.837092</td>\n",
       "      <td>0.150884</td>\n",
       "      <td>0.628623</td>\n",
       "      <td>0.816176</td>\n",
       "      <td>0.489247</td>\n",
       "      <td>0.984375</td>\n",
       "      <td>0.007901</td>\n",
       "      <td>0.604651</td>\n",
       "    </tr>\n",
       "    <tr>\n",
       "      <th>max</th>\n",
       "      <td>252.000000</td>\n",
       "      <td>61.170000</td>\n",
       "      <td>-64.970000</td>\n",
       "      <td>0.777240</td>\n",
       "      <td>7.000000</td>\n",
       "      <td>23.000000</td>\n",
       "      <td>33.63</td>\n",
       "      <td>-84.42</td>\n",
       "      <td>1.000000</td>\n",
       "      <td>0.998174</td>\n",
       "      <td>1.000000</td>\n",
       "      <td>0.947464</td>\n",
       "      <td>0.869748</td>\n",
       "      <td>0.489247</td>\n",
       "      <td>1.000000</td>\n",
       "      <td>0.024102</td>\n",
       "      <td>0.798450</td>\n",
       "    </tr>\n",
       "  </tbody>\n",
       "</table>\n",
       "</div>"
      ],
      "text/plain": [
       "         ARR_DELAY      ARR_LAT      ARR_LON    DEP_DELAY      DEP_DOW  \\\n",
       "count  1000.000000  1000.000000  1000.000000  1000.000000  1000.000000   \n",
       "mean     12.653000    35.649160   -87.960920     0.164726     4.744000   \n",
       "std      35.990776     5.288832    13.495345     0.082028     2.015571   \n",
       "min     -30.000000    18.330000  -157.920000     0.094431     1.000000   \n",
       "25%      -8.000000    31.320000   -93.450000     0.123487     4.000000   \n",
       "50%       1.000000    35.870000   -83.350000     0.128329     4.000000   \n",
       "75%      18.000000    39.900000   -79.970000     0.169492     7.000000   \n",
       "max     252.000000    61.170000   -64.970000     0.777240     7.000000   \n",
       "\n",
       "           DEP_HOD  DEP_LAT  DEP_LON     DIFF_LAT     DIFF_LON     DISTANCE  \\\n",
       "count  1000.000000  1000.00  1000.00  1000.000000  1000.000000  1000.000000   \n",
       "mean     14.378000    33.63   -84.42     0.412909     0.751279     0.137534   \n",
       "std       4.654114     0.00     0.00     0.121666     0.144924     0.121488   \n",
       "min       5.000000    33.63   -84.42     0.014493     0.000000     0.000000   \n",
       "25%      10.000000    33.63   -84.42     0.313320     0.692333     0.062985   \n",
       "50%      14.000000    33.63   -84.42     0.417989     0.800795     0.106730   \n",
       "75%      18.000000    33.63   -84.42     0.510697     0.837092     0.150884   \n",
       "max      23.000000    33.63   -84.42     1.000000     0.998174     1.000000   \n",
       "\n",
       "       MEAN_TEMP_ARR  MEAN_TEMP_DEP  MEAN_VIS_ARR  MEAN_VIS_DEP  WND_SPD_ARR  \\\n",
       "count    1000.000000    1000.000000   1000.000000   1000.000000  1000.000000   \n",
       "mean        0.541755       0.639660      0.434478      0.727578     0.006493   \n",
       "std         0.132366       0.195845      0.074008      0.210591     0.002687   \n",
       "min         0.106884       0.214286      0.086022      0.375000     0.000700   \n",
       "25%         0.474638       0.483193      0.408602      0.515625     0.004700   \n",
       "50%         0.564312       0.684874      0.467742      0.671875     0.006201   \n",
       "75%         0.628623       0.816176      0.489247      0.984375     0.007901   \n",
       "max         0.947464       0.869748      0.489247      1.000000     0.024102   \n",
       "\n",
       "       WND_SPD_DEP  \n",
       "count  1000.000000  \n",
       "mean      0.349775  \n",
       "std       0.225363  \n",
       "min       0.124031  \n",
       "25%       0.209302  \n",
       "50%       0.248062  \n",
       "75%       0.604651  \n",
       "max       0.798450  "
      ]
     },
     "execution_count": 9,
     "metadata": {},
     "output_type": "execute_result"
    }
   ],
   "source": [
    "probe.describe()"
   ]
  },
  {
   "cell_type": "markdown",
   "metadata": {},
   "source": [
    "---\n",
    "# ```tf.data``` input function"
   ]
  },
  {
   "cell_type": "markdown",
   "metadata": {},
   "source": [
    "#### This input function reads from any number of CSV files containing pre-processed data\n",
    "In our parlour, this data is at the **training stage**. It's been fetched from a BigQuery table and pre-processed. It's not what'll come in at prediction time!\n",
    "\n",
    "That pre-processing function has been stored in a metadata directory that is available to us to treat data at prediction time (**signature stage**) exactly the same way that our training data has been treated."
   ]
  },
  {
   "cell_type": "code",
   "execution_count": 13,
   "metadata": {},
   "outputs": [
    {
     "data": {
      "text/plain": [
       "'make_input_fn written to ./train/make_input_fn.py.'"
      ]
     },
     "execution_count": 13,
     "metadata": {},
     "output_type": "execute_result"
    }
   ],
   "source": [
    "def make_input_fn(filename_pattern, batch_size, shuffle_buffer_size=None):\n",
    "\n",
    "    import tensorflow as tf\n",
    "    from train.model_config import ORDERED_TRAINING_DEFAULTS\n",
    "    from train.model_config import ORDERED_TRAINING_COLUMNS\n",
    "    from train.model_config import LABEL_COLUMN\n",
    "    \n",
    "    \n",
    "    def _input_fn():\n",
    "        filenames = tf.gfile.Glob(filename_pattern)\n",
    "        dataset = tf.data.TextLineDataset(filenames)\n",
    "\n",
    "        def decode_csv(row):\n",
    "            cols = tf.decode_csv(row, record_defaults=ORDERED_TRAINING_DEFAULTS)\n",
    "            features = dict(zip(ORDERED_TRAINING_COLUMNS, cols))\n",
    "            return features\n",
    "\n",
    "        def pop_target(features):\n",
    "            target = features.pop(LABEL_COLUMN)\n",
    "            return features, target\n",
    "        \n",
    "        if shuffle_buffer_size is not None:\n",
    "            dataset = dataset.shuffle(buffer_size=shuffle_buffer_size)\n",
    "                \n",
    "        dataset = (dataset.repeat()\n",
    "                   .map(decode_csv)\n",
    "                   .map(pop_target)\n",
    "                   .batch(batch_size))\n",
    "\n",
    "        return dataset.make_one_shot_iterator().get_next()\n",
    "    \n",
    "    return _input_fn\n",
    "\n",
    "write_py(make_input_fn)"
   ]
  },
  {
   "cell_type": "markdown",
   "metadata": {},
   "source": [
    "---\n",
    "#### Verify the input_function's behaviour\n",
    "```make_input_fn()``` returns an input_function. This function will be passed to the estimator, such that the estimator can call it in its own session/graph context to create a particularly useful input tensor. That input tensor will return the next batch of input records whenever it is evaluated. Let's create that tensor ourselves to see it in action."
   ]
  },
  {
   "cell_type": "code",
   "execution_count": 14,
   "metadata": {},
   "outputs": [
    {
     "data": {
      "text/plain": [
       "[({'ARR_LAT': array([32.89, 42.96], dtype=float32),\n",
       "   'ARR_LON': array([-80.04, -83.74], dtype=float32),\n",
       "   'DEP_DELAY': array([0.12348669, 0.13317192], dtype=float32),\n",
       "   'DEP_DOW': array([3, 3], dtype=int32),\n",
       "   'DEP_HOD': array([22, 14], dtype=int32),\n",
       "   'DEP_LAT': array([33.63, 33.63], dtype=float32),\n",
       "   'DEP_LON': array([-84.42, -84.42], dtype=float32),\n",
       "   'DIFF_LAT': array([0.34943637, 0.5810904 ], dtype=float32),\n",
       "   'DIFF_LON': array([0.8363402 , 0.79660654], dtype=float32),\n",
       "   'DISTANCE': array([0.04054482, 0.12829289], dtype=float32),\n",
       "   'MEAN_TEMP_ARR': array([0.55978256, 0.2735507 ], dtype=float32),\n",
       "   'MEAN_TEMP_DEP': array([0.6260504, 0.6260504], dtype=float32),\n",
       "   'MEAN_VIS_ARR': array([0.37634405, 0.42473117], dtype=float32),\n",
       "   'MEAN_VIS_DEP': array([0.765625, 0.765625], dtype=float32),\n",
       "   'WND_SPD_ARR': array([0.00370037, 0.01020102], dtype=float32),\n",
       "   'WND_SPD_DEP': array([0.2635659, 0.2635659], dtype=float32)},\n",
       "  array([-9.,  0.], dtype=float32)),\n",
       " ({'ARR_LAT': array([36.08, 33.94], dtype=float32),\n",
       "   'ARR_LON': array([-115.15, -118.4 ], dtype=float32),\n",
       "   'DEP_DELAY': array([0.14285715, 0.34140438], dtype=float32),\n",
       "   'DEP_DOW': array([3, 4], dtype=int32),\n",
       "   'DEP_HOD': array([20, 16], dtype=int32),\n",
       "   'DEP_LAT': array([33.63, 33.63], dtype=float32),\n",
       "   'DEP_LON': array([-84.42, -84.42], dtype=float32),\n",
       "   'DIFF_LAT': array([0.4228204 , 0.37359095], dtype=float32),\n",
       "   'DIFF_LON': array([0.4592998, 0.4243986], dtype=float32),\n",
       "   'DISTANCE': array([0.3768159 , 0.42189407], dtype=float32),\n",
       "   'MEAN_TEMP_ARR': array([0.5923913, 0.3170289], dtype=float32),\n",
       "   'MEAN_TEMP_DEP': array([0.6260504, 0.9621848], dtype=float32),\n",
       "   'MEAN_VIS_ARR': array([0.4892473 , 0.15053764], dtype=float32),\n",
       "   'MEAN_VIS_DEP': array([0.765625  , 0.96875006], dtype=float32),\n",
       "   'WND_SPD_ARR': array([0.00740074, 0.00670067], dtype=float32),\n",
       "   'WND_SPD_DEP': array([0.2635659, 0.2635659], dtype=float32)},\n",
       "  array([  5., 124.], dtype=float32))]"
      ]
     },
     "execution_count": 14,
     "metadata": {},
     "output_type": "execute_result"
    }
   ],
   "source": [
    "with tf.Session() as sess:\n",
    "    train_input_fn = make_input_fn(\n",
    "        \"gs://going-tfx/sample/eval_data/*\", batch_size=2)\n",
    "    input = train_input_fn()\n",
    "    res = [sess.run(input) for i in range(2)]\n",
    "res"
   ]
  },
  {
   "cell_type": "markdown",
   "metadata": {},
   "source": [
    "We evaluated the input tensor twice to each time receive a batch of 2 examples from the list of input files."
   ]
  },
  {
   "cell_type": "markdown",
   "metadata": {},
   "source": [
    "---\n",
    "# Additional feature engineering for categorical columns"
   ]
  },
  {
   "cell_type": "markdown",
   "metadata": {},
   "source": [
    "Categorical columns need to be treated once more to derive at numerical input suitable for model training. That involves bucketizing, the use of dictionaries, feature crossing and embedding"
   ]
  },
  {
   "cell_type": "markdown",
   "metadata": {},
   "source": [
    "#### Find ranges to bucketize latitude and longitude \n",
    "We can easily understand the range of values with the help of a bq query and ```pandas.describe()```"
   ]
  },
  {
   "cell_type": "code",
   "execution_count": 16,
   "metadata": {},
   "outputs": [
    {
     "data": {
      "text/html": [
       "<div>\n",
       "<style scoped>\n",
       "    .dataframe tbody tr th:only-of-type {\n",
       "        vertical-align: middle;\n",
       "    }\n",
       "\n",
       "    .dataframe tbody tr th {\n",
       "        vertical-align: top;\n",
       "    }\n",
       "\n",
       "    .dataframe thead th {\n",
       "        text-align: right;\n",
       "    }\n",
       "</style>\n",
       "<table border=\"1\" class=\"dataframe\">\n",
       "  <thead>\n",
       "    <tr style=\"text-align: right;\">\n",
       "      <th></th>\n",
       "      <th>lat</th>\n",
       "      <th>lon</th>\n",
       "    </tr>\n",
       "  </thead>\n",
       "  <tbody>\n",
       "    <tr>\n",
       "      <th>count</th>\n",
       "      <td>344.000000</td>\n",
       "      <td>344.000000</td>\n",
       "    </tr>\n",
       "    <tr>\n",
       "      <th>mean</th>\n",
       "      <td>38.491570</td>\n",
       "      <td>-98.531599</td>\n",
       "    </tr>\n",
       "    <tr>\n",
       "      <th>std</th>\n",
       "      <td>8.547964</td>\n",
       "      <td>21.746974</td>\n",
       "    </tr>\n",
       "    <tr>\n",
       "      <th>min</th>\n",
       "      <td>13.480000</td>\n",
       "      <td>-176.640000</td>\n",
       "    </tr>\n",
       "    <tr>\n",
       "      <th>25%</th>\n",
       "      <td>33.450000</td>\n",
       "      <td>-111.675000</td>\n",
       "    </tr>\n",
       "    <tr>\n",
       "      <th>50%</th>\n",
       "      <td>38.715000</td>\n",
       "      <td>-93.300000</td>\n",
       "    </tr>\n",
       "    <tr>\n",
       "      <th>75%</th>\n",
       "      <td>42.907500</td>\n",
       "      <td>-82.497500</td>\n",
       "    </tr>\n",
       "    <tr>\n",
       "      <th>max</th>\n",
       "      <td>71.280000</td>\n",
       "      <td>-64.800000</td>\n",
       "    </tr>\n",
       "  </tbody>\n",
       "</table>\n",
       "</div>"
      ],
      "text/plain": [
       "              lat         lon\n",
       "count  344.000000  344.000000\n",
       "mean    38.491570  -98.531599\n",
       "std      8.547964   21.746974\n",
       "min     13.480000 -176.640000\n",
       "25%     33.450000 -111.675000\n",
       "50%     38.715000  -93.300000\n",
       "75%     42.907500  -82.497500\n",
       "max     71.280000  -64.800000"
      ]
     },
     "execution_count": 16,
     "metadata": {},
     "output_type": "execute_result"
    }
   ],
   "source": [
    "query=\"\"\"\n",
    "select \n",
    "    distinct arrival_airport as airport, arrival_lat as lat, arrival_lon as lon \n",
    "from \n",
    "    `bigquery-samples.airline_ontime_data.flights`\n",
    "\"\"\"\n",
    "locations = dlbq.Query(query).execute().result().to_dataframe()\n",
    "locations.describe()"
   ]
  },
  {
   "cell_type": "code",
   "execution_count": 17,
   "metadata": {},
   "outputs": [
    {
     "data": {
      "text/plain": [
       "[10, 15, 20, 25, 30, 35, 40, 45, 50, 55, 60, 65, 70, 75]"
      ]
     },
     "execution_count": 17,
     "metadata": {},
     "output_type": "execute_result"
    }
   ],
   "source": [
    "lat_boundaries = range(10,80,5)\n",
    "lat_boundaries"
   ]
  },
  {
   "cell_type": "code",
   "execution_count": 18,
   "metadata": {},
   "outputs": [
    {
     "data": {
      "text/plain": [
       "[-100, -95, -90, -85, -80, -75, -70, -65, -60]"
      ]
     },
     "execution_count": 18,
     "metadata": {},
     "output_type": "execute_result"
    }
   ],
   "source": [
    "lon_boundaries = range(-100, -55, 5)\n",
    "lon_boundaries"
   ]
  },
  {
   "cell_type": "markdown",
   "metadata": {},
   "source": [
    "We're going to use those boundaries in the function below"
   ]
  },
  {
   "cell_type": "markdown",
   "metadata": {},
   "source": [
    "#### Using tf feature_column api for bucketizing, crossing and embedding"
   ]
  },
  {
   "cell_type": "code",
   "execution_count": 19,
   "metadata": {},
   "outputs": [
    {
     "data": {
      "text/plain": [
       "'create_feature_columns written to ./train/create_feature_columns.py.'"
      ]
     },
     "execution_count": 19,
     "metadata": {},
     "output_type": "execute_result"
    }
   ],
   "source": [
    "def create_feature_columns():\n",
    "    \n",
    "    from tensorflow.feature_column import numeric_column as num\n",
    "    from tensorflow.feature_column import bucketized_column as buck\n",
    "    from tensorflow.feature_column import crossed_column as cross\n",
    "    from tensorflow.feature_column import embedding_column as emb\n",
    "    from tensorflow.feature_column import categorical_column_with_identity as cid\n",
    "    \n",
    "    ################################################################\n",
    "    #  Numerical columns for the pre-processed features\n",
    "    ################################################################\n",
    "    feature_columns = [\n",
    "        num(col) for col in [\n",
    "            'DEP_DELAY',  \n",
    "            'MEAN_TEMP_DEP','MEAN_VIS_DEP','WND_SPD_DEP',\n",
    "            'MEAN_TEMP_ARR','MEAN_VIS_ARR','WND_SPD_ARR',\n",
    "            'DIFF_LAT','DIFF_LON','DISTANCE']]\n",
    "    \n",
    "    ################################################################\n",
    "    #  Crossed and embedded\n",
    "    ################################################################\n",
    "    lat_boundaries = range(10,80,5)\n",
    "    lon_boundaries = range(-100, -55, 5)\n",
    "    cross_size = len(lat_boundaries) * len(lon_boundaries)\n",
    "\n",
    "    arr_geo_emb = emb(cross([\n",
    "        buck(num('ARR_LAT'), lat_boundaries), \n",
    "        buck(num('ARR_LON'), lon_boundaries)], cross_size), 10)\n",
    "\n",
    "    dep_geo_emb = emb(cross([\n",
    "        buck(num(\"DEP_LAT\"), lat_boundaries), \n",
    "        buck(num(\"DEP_LON\"), lon_boundaries)], cross_size), 10)\n",
    "\n",
    "    dep_how_emb = emb(cross([\n",
    "        cid(\"DEP_HOD\", num_buckets=24), \n",
    "        cid(\"DEP_DOW\", num_buckets=8)], 7*24), 10)\n",
    "\n",
    "    ################################################################\n",
    "    #  Crossed and embedded\n",
    "    ################################################################\n",
    "    return feature_columns + [dep_how_emb, arr_geo_emb, dep_geo_emb]\n",
    "    \n",
    "write_py(create_feature_columns)"
   ]
  },
  {
   "cell_type": "code",
   "execution_count": 20,
   "metadata": {},
   "outputs": [
    {
     "data": {
      "text/plain": [
       "[_NumericColumn(key='DEP_DELAY', shape=(1,), default_value=None, dtype=tf.float32, normalizer_fn=None),\n",
       " _NumericColumn(key='MEAN_TEMP_DEP', shape=(1,), default_value=None, dtype=tf.float32, normalizer_fn=None),\n",
       " _NumericColumn(key='MEAN_VIS_DEP', shape=(1,), default_value=None, dtype=tf.float32, normalizer_fn=None),\n",
       " _NumericColumn(key='WND_SPD_DEP', shape=(1,), default_value=None, dtype=tf.float32, normalizer_fn=None),\n",
       " _NumericColumn(key='MEAN_TEMP_ARR', shape=(1,), default_value=None, dtype=tf.float32, normalizer_fn=None),\n",
       " _NumericColumn(key='MEAN_VIS_ARR', shape=(1,), default_value=None, dtype=tf.float32, normalizer_fn=None),\n",
       " _NumericColumn(key='WND_SPD_ARR', shape=(1,), default_value=None, dtype=tf.float32, normalizer_fn=None),\n",
       " _NumericColumn(key='DIFF_LAT', shape=(1,), default_value=None, dtype=tf.float32, normalizer_fn=None),\n",
       " _NumericColumn(key='DIFF_LON', shape=(1,), default_value=None, dtype=tf.float32, normalizer_fn=None),\n",
       " _NumericColumn(key='DISTANCE', shape=(1,), default_value=None, dtype=tf.float32, normalizer_fn=None),\n",
       " _EmbeddingColumn(categorical_column=_CrossedColumn(keys=(_IdentityCategoricalColumn(key='DEP_HOD', num_buckets=24, default_value=None), _IdentityCategoricalColumn(key='DEP_DOW', num_buckets=8, default_value=None)), hash_bucket_size=168, hash_key=None), dimension=10, combiner='mean', layer_creator=<function _creator at 0x7f26ded8df50>, ckpt_to_load_from=None, tensor_name_in_ckpt=None, max_norm=None, trainable=True),\n",
       " _EmbeddingColumn(categorical_column=_CrossedColumn(keys=(_BucketizedColumn(source_column=_NumericColumn(key='ARR_LAT', shape=(1,), default_value=None, dtype=tf.float32, normalizer_fn=None), boundaries=(10, 15, 20, 25, 30, 35, 40, 45, 50, 55, 60, 65, 70, 75)), _BucketizedColumn(source_column=_NumericColumn(key='ARR_LON', shape=(1,), default_value=None, dtype=tf.float32, normalizer_fn=None), boundaries=(-100, -95, -90, -85, -80, -75, -70, -65, -60))), hash_bucket_size=126, hash_key=None), dimension=10, combiner='mean', layer_creator=<function _creator at 0x7f271ebb5e60>, ckpt_to_load_from=None, tensor_name_in_ckpt=None, max_norm=None, trainable=True),\n",
       " _EmbeddingColumn(categorical_column=_CrossedColumn(keys=(_BucketizedColumn(source_column=_NumericColumn(key='DEP_LAT', shape=(1,), default_value=None, dtype=tf.float32, normalizer_fn=None), boundaries=(10, 15, 20, 25, 30, 35, 40, 45, 50, 55, 60, 65, 70, 75)), _BucketizedColumn(source_column=_NumericColumn(key='DEP_LON', shape=(1,), default_value=None, dtype=tf.float32, normalizer_fn=None), boundaries=(-100, -95, -90, -85, -80, -75, -70, -65, -60))), hash_bucket_size=126, hash_key=None), dimension=10, combiner='mean', layer_creator=<function _creator at 0x7f26ded8db18>, ckpt_to_load_from=None, tensor_name_in_ckpt=None, max_norm=None, trainable=True)]"
      ]
     },
     "execution_count": 20,
     "metadata": {},
     "output_type": "execute_result"
    }
   ],
   "source": [
    "create_feature_columns()"
   ]
  },
  {
   "cell_type": "markdown",
   "metadata": {},
   "source": [
    "These feature columns encode a construction plan. The ```tf.feature_column.input_column()``` helper will construct a sub-graph from this plan and feed the root (the *result*) of the graph into the model. You see the pattern: All parts of the tensor graph are created within the session/graph context of the ```Estimator``` API. Never outside of it."
   ]
  },
  {
   "cell_type": "markdown",
   "metadata": {},
   "source": [
    "---\n",
    "# Hypothesis, model function and custom estimator"
   ]
  },
  {
   "cell_type": "markdown",
   "metadata": {},
   "source": [
    "#### The hypothesis\n",
    "This computational sub-graph represents the trainable hypothesis"
   ]
  },
  {
   "cell_type": "code",
   "execution_count": 21,
   "metadata": {},
   "outputs": [
    {
     "data": {
      "text/plain": [
       "'make_hypothesis written to ./train/make_hypothesis.py.'"
      ]
     },
     "execution_count": 21,
     "metadata": {},
     "output_type": "execute_result"
    }
   ],
   "source": [
    "def make_hypothesis(input_layer, options):\n",
    "    \n",
    "    import tensorflow as tf\n",
    "        \n",
    "    out = tf.layers.dense(input_layer, 1, activation=None)\n",
    "\n",
    "    return out\n",
    "    \n",
    "write_py(make_hypothesis)"
   ]
  },
  {
   "cell_type": "markdown",
   "metadata": {},
   "source": [
    "#### The model function\n",
    "The model function is responsible for providing different variants of the actual model suitable for training, evaluation and prediction"
   ]
  },
  {
   "cell_type": "code",
   "execution_count": 22,
   "metadata": {},
   "outputs": [
    {
     "data": {
      "text/plain": [
       "'make_model_fn written to ./train/make_model_fn.py.'"
      ]
     },
     "execution_count": 22,
     "metadata": {},
     "output_type": "execute_result"
    }
   ],
   "source": [
    "def make_model_fn(feature_columns, options):\n",
    "    \n",
    "    import tensorflow as tf\n",
    "    from train.make_hypothesis import make_hypothesis\n",
    "    \n",
    "    def _model_fn(features, labels, mode):\n",
    "\n",
    "        input_layer = tf.feature_column.input_layer( \n",
    "            features, feature_columns=feature_columns)\n",
    "\n",
    "        #############################################################\n",
    "        # This single line is the actual model\n",
    "        #############################################################\n",
    "        out = make_hypothesis(input_layer, options)\n",
    "\n",
    "        if mode == tf.estimator.ModeKeys.PREDICT:\n",
    "            return tf.estimator.EstimatorSpec(mode, predictions=out)\n",
    "\n",
    "\n",
    "        labels = tf.expand_dims(labels, -1)\n",
    "        loss = tf.losses.mean_squared_error(labels, out)\n",
    "\n",
    "        if mode == tf.estimator.ModeKeys.EVAL:    \n",
    "            return tf.estimator.EstimatorSpec(\n",
    "                mode=mode,\n",
    "                loss = loss,\n",
    "                #eval_metric_ops={'my_metric': }\n",
    "            )\n",
    "\n",
    "        else:\n",
    "            optimizer = tf.train.GradientDescentOptimizer(options['learning_rate'])\n",
    "            train_op = optimizer.minimize(loss, global_step=tf.train.get_or_create_global_step())\n",
    "\n",
    "            return tf.estimator.EstimatorSpec(  \n",
    "                mode,\n",
    "                loss = loss,\n",
    "                train_op = train_op)\n",
    "        \n",
    "    return _model_fn\n",
    "write_py(make_model_fn)"
   ]
  },
  {
   "cell_type": "markdown",
   "metadata": {},
   "source": [
    "---\n",
    "# The tft serving input function\n",
    "The saved ```transform_fn``` of the preprocessing step is recovered and applied to the **signature** input, which is represented by placeholders.\n",
    "This function will be exported together with the ```tf.feature_columns``` transforms after training, to make sure that exactly the same preprocessing steps will be executed at prediction time.\n",
    "The estimator will apply this function to the signature data coming at prediction time. The result will then be feed into the graph constructed with the help of the ```feature_columns``` API."
   ]
  },
  {
   "cell_type": "code",
   "execution_count": 23,
   "metadata": {},
   "outputs": [
    {
     "data": {
      "text/plain": [
       "'make_tft_serving_input_fn written to ./train/make_tft_serving_input_fn.py.'"
      ]
     },
     "execution_count": 23,
     "metadata": {},
     "output_type": "execute_result"
    }
   ],
   "source": [
    "def make_tft_serving_input_fn(metadata_dir):\n",
    "\n",
    "    import tensorflow as tf\n",
    "    import tensorflow_transform as tft\n",
    "    from train.model_config import SIGNATURE_INT_COLUMNS\n",
    "    from train.model_config import SIGNATURE_FLOAT_COLUMNS\n",
    "    \n",
    "    \n",
    "    def _input_fn():\n",
    "        # placeholders for all the raw inputs\n",
    "        placeholders = {\n",
    "            key: tf.placeholder(name = key, shape=[None], dtype=tf.int64)\n",
    "            for key in SIGNATURE_INT_COLUMNS\n",
    "        }\n",
    "        placeholders.update({\n",
    "            key: tf.placeholder(name = key, shape=[None], dtype=tf.float32)\n",
    "            for key in SIGNATURE_FLOAT_COLUMNS\n",
    "        })\n",
    "\n",
    "        # transform using the saved model in transform_fn        \n",
    "        transform_output = tft.TFTransformOutput(transform_output_dir=metadata_dir)\n",
    "        features = transform_output.transform_raw_features(placeholders)\n",
    "            \n",
    "        return tf.estimator.export.ServingInputReceiver(features, placeholders)\n",
    "\n",
    "    return _input_fn\n",
    "write_py(make_tft_serving_input_fn)"
   ]
  },
  {
   "cell_type": "markdown",
   "metadata": {},
   "source": [
    "---\n",
    "# Training and Serving"
   ]
  },
  {
   "cell_type": "markdown",
   "metadata": {},
   "source": [
    "#### At last, start the training!\n",
    "First, we use the smaller sample data to verify the setup."
   ]
  },
  {
   "cell_type": "code",
   "execution_count": 24,
   "metadata": {},
   "outputs": [
    {
     "data": {
      "text/plain": [
       "'train_and_evaluate written to ./train/train_and_evaluate.py.'"
      ]
     },
     "execution_count": 24,
     "metadata": {},
     "output_type": "execute_result"
    }
   ],
   "source": [
    "def train_and_evaluate(feature_columns, options):\n",
    "\n",
    "    import tensorflow as tf\n",
    "    from train.make_model_fn import make_model_fn\n",
    "    from train.make_tft_serving_input_fn import make_tft_serving_input_fn\n",
    "    from train.make_input_fn import make_input_fn\n",
    "    \n",
    "    config = tf.estimator.RunConfig(model_dir=options['model_dir'])\n",
    "\n",
    "    model_fn = make_model_fn(feature_columns, options)\n",
    "\n",
    "    estimator = tf.estimator.Estimator(\n",
    "            config=config,\n",
    "            model_fn=model_fn)\n",
    "\n",
    "    exporter = tf.estimator.LatestExporter('exporter', \n",
    "                                           make_tft_serving_input_fn(options['metadata_dir']))\n",
    "\n",
    "    train_input_fn = make_input_fn(\n",
    "        options['train_data_pattern'], shuffle_buffer_size=80000, \n",
    "        batch_size=options['train_batch_size'])\n",
    "\n",
    "    eval_input_fn = make_input_fn(\n",
    "        options['eval_data_pattern'], \n",
    "        batch_size=options['eval_batch_size'])  \n",
    "\n",
    "    train_spec = tf.estimator.TrainSpec(input_fn=train_input_fn, max_steps=options['max_train_steps'])\n",
    "    eval_spec = tf.estimator.EvalSpec(input_fn=eval_input_fn, steps = options['eval_batch_size'], exporters=exporter)\n",
    "    \n",
    "    tf.estimator.train_and_evaluate(estimator, train_spec=train_spec, eval_spec=eval_spec)\n",
    "    \n",
    "write_py(train_and_evaluate)"
   ]
  },
  {
   "cell_type": "code",
   "execution_count": 25,
   "metadata": {},
   "outputs": [
    {
     "name": "stdout",
     "output_type": "stream",
     "text": [
      "\n",
      "###############################################################################################################\n",
      "using directory gs://going-tfx/sample/model to store the model. Remove the directory if you want to start from scratch\n",
      "###############################################################################################################\n",
      "Removing gs://going-tfx/sample/model/#1542212162061611...\n",
      "Removing gs://going-tfx/sample/model/checkpoint#1542212164426227...\n",
      "Removing gs://going-tfx/sample/model/eval/#1542144699704847...\n",
      "Removing gs://going-tfx/sample/model/eval/events.out.tfevents.1542144699.kovalevskyi3#1542144701472897...\n",
      "/ [4 objects]                                                                   \n",
      "==> NOTE: You are performing a sequence of gsutil operations that may\n",
      "run significantly faster if you instead use gsutil -m -o ... Please\n",
      "see the -m section under \"gsutil help options\" for further information\n",
      "about when gsutil -m can be advantageous.\n",
      "\n",
      "Removing gs://going-tfx/sample/model/eval/events.out.tfevents.1542154182.kovalevskyi6#1542154184569672...\n",
      "Removing gs://going-tfx/sample/model/eval/events.out.tfevents.1542190413.kovalevskyi6#1542190415216711...\n",
      "Removing gs://going-tfx/sample/model/eval/events.out.tfevents.1542212200.kovalevskyi6#1542212202301843...\n",
      "Removing gs://going-tfx/sample/model/events.out.tfevents.1542144189.kovalevskyi3#1542144713478056...\n",
      "Removing gs://going-tfx/sample/model/events.out.tfevents.1542154080.kovalevskyi6#1542154080906820...\n",
      "Removing gs://going-tfx/sample/model/events.out.tfevents.1542190304.kovalevskyi6#1542190426650377...\n",
      "Removing gs://going-tfx/sample/model/events.out.tfevents.1542212100.kovalevskyi6#1542212213865772...\n",
      "Removing gs://going-tfx/sample/model/export/#1542144702986554...\n",
      "Removing gs://going-tfx/sample/model/export/exporter/#1542144703275626...\n",
      "Removing gs://going-tfx/sample/model/export/exporter/1542144701/#1542144711009850...\n",
      "Removing gs://going-tfx/sample/model/export/exporter/1542144701/saved_model.pb#1542144711521524...\n",
      "Removing gs://going-tfx/sample/model/export/exporter/1542144701/variables/#1542144711872058...\n",
      "Removing gs://going-tfx/sample/model/export/exporter/1542144701/variables/variables.data-00000-of-00001#1542144712251171...\n",
      "Removing gs://going-tfx/sample/model/export/exporter/1542144701/variables/variables.index#1542144712683353...\n",
      "Removing gs://going-tfx/sample/model/export/exporter/1542190415/#1542190424395968...\n",
      "Removing gs://going-tfx/sample/model/export/exporter/1542190415/saved_model.pb#1542190424746094...\n",
      "Removing gs://going-tfx/sample/model/export/exporter/1542190415/variables/#1542190425182202...\n",
      "Removing gs://going-tfx/sample/model/export/exporter/1542190415/variables/variables.data-00000-of-00001#1542190425532460...\n",
      "Removing gs://going-tfx/sample/model/export/exporter/1542190415/variables/variables.index#1542190425982437...\n",
      "Removing gs://going-tfx/sample/model/export/exporter/1542212202/#1542212211416738...\n",
      "Removing gs://going-tfx/sample/model/export/exporter/1542212202/saved_model.pb#1542212211870785...\n",
      "Removing gs://going-tfx/sample/model/export/exporter/1542212202/variables/#1542212212213732...\n",
      "Removing gs://going-tfx/sample/model/export/exporter/1542212202/variables/variables.data-00000-of-00001#1542212212672846...\n",
      "Removing gs://going-tfx/sample/model/export/exporter/1542212202/variables/variables.index#1542212213136889...\n",
      "Removing gs://going-tfx/sample/model/export/exporter/temp-1542154184/#1542154185910257...\n",
      "Removing gs://going-tfx/sample/model/graph.pbtxt#1542212103002760...\n",
      "Removing gs://going-tfx/sample/model/model.ckpt-0.data-00000-of-00001#1542144590777117...\n",
      "Removing gs://going-tfx/sample/model/model.ckpt-0.index#1542144591204879...\n",
      "Removing gs://going-tfx/sample/model/model.ckpt-0.meta#1542144593477598...\n",
      "Removing gs://going-tfx/sample/model/model.ckpt-1000.data-00000-of-00001#1542154087184684...\n",
      "Removing gs://going-tfx/sample/model/model.ckpt-1000.index#1542154087695852...\n",
      "Removing gs://going-tfx/sample/model/model.ckpt-1000.meta#1542154090276943...\n",
      "Removing gs://going-tfx/sample/model/model.ckpt-1400.data-00000-of-00001#1542190311922237...\n",
      "Removing gs://going-tfx/sample/model/model.ckpt-1400.index#1542190312447198...\n",
      "Removing gs://going-tfx/sample/model/model.ckpt-1400.meta#1542190314799352...\n",
      "Removing gs://going-tfx/sample/model/model.ckpt-2000.data-00000-of-00001#1542212106624685...\n",
      "Removing gs://going-tfx/sample/model/model.ckpt-2000.index#1542212107169129...\n",
      "Removing gs://going-tfx/sample/model/model.ckpt-2000.meta#1542212109745864...\n",
      "Removing gs://going-tfx/sample/model/model.ckpt-2500.data-00000-of-00001#1542212162673058...\n",
      "Removing gs://going-tfx/sample/model/model.ckpt-2500.index#1542212163227220...\n",
      "Removing gs://going-tfx/sample/model/model.ckpt-2500.meta#1542212165621192...\n",
      "/ [45 objects]  4.54 objects/s                                                  \n",
      "==> NOTE: You are performing a sequence of gsutil operations that may\n",
      "run significantly faster if you instead use gsutil -m -o ... Please\n",
      "see the -m section under \"gsutil help options\" for further information\n",
      "about when gsutil -m can be advantageous.\n",
      "\n",
      "\n",
      "Operation completed over 45 objects.                                             \n",
      "INFO:tensorflow:Using config: {'_save_checkpoints_secs': 600, '_session_config': allow_soft_placement: true\n",
      "graph_options {\n",
      "  rewrite_options {\n",
      "    meta_optimizer_iterations: ONE\n",
      "  }\n",
      "}\n",
      ", '_keep_checkpoint_max': 5, '_task_type': 'worker', '_train_distribute': None, '_is_chief': True, '_cluster_spec': <tensorflow.python.training.server_lib.ClusterSpec object at 0x7f26ded4ee50>, '_model_dir': 'gs://going-tfx/sample/model', '_protocol': None, '_save_checkpoints_steps': None, '_keep_checkpoint_every_n_hours': 10000, '_service': None, '_num_ps_replicas': 0, '_tf_random_seed': None, '_save_summary_steps': 100, '_device_fn': None, '_experimental_distribute': None, '_num_worker_replicas': 1, '_task_id': 0, '_log_step_count_steps': 100, '_evaluation_master': '', '_eval_distribute': None, '_global_id_in_cluster': 0, '_master': ''}\n",
      "INFO:tensorflow:Not using Distribute Coordinator.\n",
      "INFO:tensorflow:Running training and evaluation locally (non-distributed).\n",
      "INFO:tensorflow:Start train and evaluate loop. The evaluate will happen after every checkpoint. Checkpoint frequency is determined based on RunConfig arguments: save_checkpoints_steps None or save_checkpoints_secs 600.\n",
      "INFO:tensorflow:Calling model_fn.\n",
      "INFO:tensorflow:Done calling model_fn.\n",
      "INFO:tensorflow:Create CheckpointSaverHook.\n",
      "INFO:tensorflow:Graph was finalized.\n",
      "INFO:tensorflow:Running local_init_op.\n",
      "INFO:tensorflow:Done running local_init_op.\n",
      "INFO:tensorflow:Saving checkpoints for 0 into gs://going-tfx/sample/model/model.ckpt.\n",
      "INFO:tensorflow:loss = 1432.0059, step = 1\n",
      "INFO:tensorflow:global_step/sec: 10.9064\n",
      "INFO:tensorflow:loss = 2020.6338, step = 101 (9.177 sec)\n",
      "INFO:tensorflow:global_step/sec: 12.7578\n",
      "INFO:tensorflow:loss = 1509.8289, step = 201 (7.832 sec)\n",
      "INFO:tensorflow:global_step/sec: 12.4077\n",
      "INFO:tensorflow:loss = 1495.3209, step = 301 (8.065 sec)\n",
      "INFO:tensorflow:global_step/sec: 12.511\n",
      "INFO:tensorflow:loss = 1591.9567, step = 401 (7.988 sec)\n",
      "INFO:tensorflow:global_step/sec: 13.0267\n",
      "INFO:tensorflow:loss = 1364.193, step = 501 (7.676 sec)\n",
      "INFO:tensorflow:global_step/sec: 12.5206\n",
      "INFO:tensorflow:loss = 1775.0089, step = 601 (7.987 sec)\n",
      "INFO:tensorflow:global_step/sec: 12.7749\n",
      "INFO:tensorflow:loss = 1484.9629, step = 701 (7.828 sec)\n",
      "INFO:tensorflow:global_step/sec: 12.3389\n",
      "INFO:tensorflow:loss = 1515.7158, step = 801 (8.104 sec)\n",
      "INFO:tensorflow:global_step/sec: 10.7399\n",
      "INFO:tensorflow:loss = 1396.6953, step = 901 (9.316 sec)\n",
      "INFO:tensorflow:Saving checkpoints for 1000 into gs://going-tfx/sample/model/model.ckpt.\n",
      "INFO:tensorflow:Calling model_fn.\n",
      "INFO:tensorflow:Done calling model_fn.\n",
      "INFO:tensorflow:Starting evaluation at 2018-11-14-16:51:35\n",
      "INFO:tensorflow:Graph was finalized.\n",
      "INFO:tensorflow:Restoring parameters from gs://going-tfx/sample/model/model.ckpt-1000\n",
      "INFO:tensorflow:Running local_init_op.\n",
      "INFO:tensorflow:Done running local_init_op.\n",
      "INFO:tensorflow:Evaluation [51/512]\n",
      "INFO:tensorflow:Evaluation [102/512]\n",
      "INFO:tensorflow:Evaluation [153/512]\n",
      "INFO:tensorflow:Evaluation [204/512]\n",
      "INFO:tensorflow:Evaluation [255/512]\n",
      "INFO:tensorflow:Evaluation [306/512]\n",
      "INFO:tensorflow:Evaluation [357/512]\n",
      "INFO:tensorflow:Evaluation [408/512]\n",
      "INFO:tensorflow:Evaluation [459/512]\n",
      "INFO:tensorflow:Evaluation [510/512]\n",
      "INFO:tensorflow:Evaluation [512/512]\n",
      "INFO:tensorflow:Finished evaluation at 2018-11-14-16:52:09\n",
      "INFO:tensorflow:Saving dict for global step 1000: global_step = 1000, loss = 1532.7747\n",
      "INFO:tensorflow:Saving 'checkpoint_path' summary for global step 1000: gs://going-tfx/sample/model/model.ckpt-1000\n",
      "INFO:tensorflow:Saver not created because there are no variables in the graph to restore\n",
      "INFO:tensorflow:Calling model_fn.\n",
      "INFO:tensorflow:Done calling model_fn.\n",
      "INFO:tensorflow:Signatures INCLUDED in export for Eval: None\n",
      "INFO:tensorflow:Signatures INCLUDED in export for Classify: None\n",
      "INFO:tensorflow:Signatures INCLUDED in export for Regress: None\n",
      "INFO:tensorflow:Signatures INCLUDED in export for Predict: ['serving_default']\n",
      "INFO:tensorflow:Signatures INCLUDED in export for Train: None\n",
      "INFO:tensorflow:Restoring parameters from gs://going-tfx/sample/model/model.ckpt-1000\n",
      "WARNING:tensorflow:From /usr/local/lib/python2.7/dist-packages/tensorflow/python/estimator/estimator.py:1044: calling add_meta_graph_and_variables (from tensorflow.python.saved_model.builder_impl) with legacy_init_op is deprecated and will be removed in a future version.\n",
      "Instructions for updating:\n",
      "Pass your op to the equivalent parameter main_op instead.\n",
      "INFO:tensorflow:Assets added to graph.\n",
      "INFO:tensorflow:No assets to write.\n",
      "INFO:tensorflow:SavedModel written to: gs://going-tfx/sample/model/export/exporter/temp-1542214332/saved_model.pb\n",
      "INFO:tensorflow:Loss for final step: 1744.9843.\n"
     ]
    }
   ],
   "source": [
    "from train.train_tools import join_paths\n",
    "\n",
    "args={}\n",
    "args['base_dir']='gs://going-tfx/sample'\n",
    "args['metadata_dir']='metadata'\n",
    "args['train_data_pattern']='train_data/*'\n",
    "args['eval_data_pattern']='eval_data/*'\n",
    "args['train_batch_size']=512\n",
    "args['eval_batch_size']=512\n",
    "args['max_train_steps']=1000\n",
    "args['eval_steps']=10\n",
    "args['learning_rate']=1e-3\n",
    "args['model_dir']='model'\n",
    "\n",
    "model_dir = os.path.join(args['base_dir'], args['model_dir'])\n",
    "print(\"\\n###############################################################################################################\")\n",
    "print(\"using directory {} to store the model. Remove the directory if you want to start from scratch\".format(model_dir))\n",
    "print(\"###############################################################################################################\")\n",
    "!gsutil -m rm -rf $model_dir\n",
    "\n",
    "train_and_evaluate(create_feature_columns(), join_paths(args))"
   ]
  },
  {
   "cell_type": "markdown",
   "metadata": {},
   "source": [
    "---\n",
    "#### Train with the full training set of ~300k records"
   ]
  },
  {
   "cell_type": "code",
   "execution_count": 129,
   "metadata": {},
   "outputs": [
    {
     "name": "stdout",
     "output_type": "stream",
     "text": [
      "\n",
      "###############################################################################################################\n",
      "using directory gs://going-tfx/full/model to store the model. Remove the directory if you want to start from scratch\n",
      "###############################################################################################################\n",
      "INFO:tensorflow:Using config: {'_save_checkpoints_secs': 600, '_session_config': allow_soft_placement: true\n",
      "graph_options {\n",
      "  rewrite_options {\n",
      "    meta_optimizer_iterations: ONE\n",
      "  }\n",
      "}\n",
      ", '_keep_checkpoint_max': 5, '_task_type': 'worker', '_train_distribute': None, '_is_chief': True, '_cluster_spec': <tensorflow.python.training.server_lib.ClusterSpec object at 0x7f25bd5f8350>, '_model_dir': 'gs://going-tfx/full/model', '_protocol': None, '_save_checkpoints_steps': None, '_keep_checkpoint_every_n_hours': 10000, '_service': None, '_num_ps_replicas': 0, '_tf_random_seed': None, '_save_summary_steps': 100, '_device_fn': None, '_experimental_distribute': None, '_num_worker_replicas': 1, '_task_id': 0, '_log_step_count_steps': 100, '_evaluation_master': '', '_eval_distribute': None, '_global_id_in_cluster': 0, '_master': ''}\n",
      "INFO:tensorflow:Not using Distribute Coordinator.\n",
      "INFO:tensorflow:Running training and evaluation locally (non-distributed).\n",
      "INFO:tensorflow:Start train and evaluate loop. The evaluate will happen after every checkpoint. Checkpoint frequency is determined based on RunConfig arguments: save_checkpoints_steps None or save_checkpoints_secs 600.\n",
      "INFO:tensorflow:Calling model_fn.\n",
      "INFO:tensorflow:Done calling model_fn.\n",
      "INFO:tensorflow:Create CheckpointSaverHook.\n",
      "INFO:tensorflow:Graph was finalized.\n",
      "INFO:tensorflow:Restoring parameters from gs://going-tfx/full/model/model.ckpt-60000\n",
      "INFO:tensorflow:Running local_init_op.\n",
      "INFO:tensorflow:Done running local_init_op.\n",
      "INFO:tensorflow:Saving checkpoints for 60000 into gs://going-tfx/full/model/model.ckpt.\n",
      "INFO:tensorflow:loss = 1321.1799, step = 60001\n",
      "INFO:tensorflow:global_step/sec: 11.3271\n",
      "INFO:tensorflow:loss = 1077.0507, step = 60101 (8.835 sec)\n",
      "INFO:tensorflow:global_step/sec: 12.8097\n",
      "INFO:tensorflow:loss = 912.9524, step = 60201 (7.806 sec)\n",
      "INFO:tensorflow:global_step/sec: 13.0452\n",
      "INFO:tensorflow:loss = 979.9984, step = 60301 (7.661 sec)\n",
      "INFO:tensorflow:global_step/sec: 12.9282\n",
      "INFO:tensorflow:loss = 1637.1215, step = 60401 (7.739 sec)\n",
      "INFO:tensorflow:global_step/sec: 13.4963\n",
      "INFO:tensorflow:loss = 1292.0378, step = 60501 (7.409 sec)\n",
      "INFO:tensorflow:global_step/sec: 12.4511\n",
      "INFO:tensorflow:loss = 1017.62036, step = 60601 (8.032 sec)\n",
      "INFO:tensorflow:global_step/sec: 12.9256\n",
      "INFO:tensorflow:loss = 1463.2227, step = 60701 (7.736 sec)\n",
      "INFO:tensorflow:global_step/sec: 12.8074\n",
      "INFO:tensorflow:loss = 1211.4512, step = 60801 (7.805 sec)\n",
      "INFO:tensorflow:global_step/sec: 13.0251\n",
      "INFO:tensorflow:loss = 1368.3916, step = 60901 (7.676 sec)\n",
      "INFO:tensorflow:global_step/sec: 12.9784\n",
      "INFO:tensorflow:loss = 788.6271, step = 61001 (7.710 sec)\n",
      "INFO:tensorflow:global_step/sec: 12.0851\n",
      "INFO:tensorflow:loss = 1424.3234, step = 61101 (8.274 sec)\n",
      "INFO:tensorflow:global_step/sec: 11.8305\n",
      "INFO:tensorflow:loss = 1387.9702, step = 61201 (8.453 sec)\n",
      "INFO:tensorflow:global_step/sec: 12.3906\n",
      "INFO:tensorflow:loss = 1231.5986, step = 61301 (8.071 sec)\n",
      "INFO:tensorflow:global_step/sec: 12.561\n",
      "INFO:tensorflow:loss = 886.42236, step = 61401 (7.962 sec)\n",
      "INFO:tensorflow:global_step/sec: 13.0253\n",
      "INFO:tensorflow:loss = 1208.5046, step = 61501 (8.121 sec)\n",
      "INFO:tensorflow:global_step/sec: 11.3304\n",
      "INFO:tensorflow:loss = 1219.8711, step = 61601 (8.382 sec)\n",
      "INFO:tensorflow:global_step/sec: 12.3777\n",
      "INFO:tensorflow:loss = 1044.5972, step = 61701 (8.079 sec)\n",
      "INFO:tensorflow:global_step/sec: 12.8979\n",
      "INFO:tensorflow:loss = 1064.3525, step = 61801 (7.753 sec)\n",
      "INFO:tensorflow:global_step/sec: 11.4452\n",
      "INFO:tensorflow:loss = 1225.2063, step = 61901 (8.739 sec)\n",
      "INFO:tensorflow:global_step/sec: 12.9147\n",
      "INFO:tensorflow:loss = 936.59375, step = 62001 (7.737 sec)\n",
      "INFO:tensorflow:global_step/sec: 12.7545\n",
      "INFO:tensorflow:loss = 944.9119, step = 62101 (7.845 sec)\n",
      "INFO:tensorflow:global_step/sec: 12.6074\n",
      "INFO:tensorflow:loss = 1094.0388, step = 62201 (7.931 sec)\n",
      "INFO:tensorflow:global_step/sec: 12.9331\n",
      "INFO:tensorflow:loss = 1275.6978, step = 62301 (7.729 sec)\n",
      "INFO:tensorflow:global_step/sec: 12.7284\n",
      "INFO:tensorflow:loss = 1050.4637, step = 62401 (7.860 sec)\n",
      "INFO:tensorflow:global_step/sec: 12.7837\n",
      "INFO:tensorflow:loss = 1112.1288, step = 62501 (7.823 sec)\n",
      "INFO:tensorflow:global_step/sec: 13.3736\n",
      "INFO:tensorflow:loss = 1122.0752, step = 62601 (7.478 sec)\n",
      "INFO:tensorflow:global_step/sec: 12.3489\n",
      "INFO:tensorflow:loss = 1224.3325, step = 62701 (8.093 sec)\n",
      "INFO:tensorflow:global_step/sec: 12.9056\n",
      "INFO:tensorflow:loss = 1304.4585, step = 62801 (7.753 sec)\n",
      "INFO:tensorflow:global_step/sec: 12.794\n",
      "INFO:tensorflow:loss = 1001.8651, step = 62901 (7.813 sec)\n",
      "INFO:tensorflow:global_step/sec: 13.3234\n",
      "INFO:tensorflow:loss = 1098.0868, step = 63001 (7.509 sec)\n",
      "INFO:tensorflow:global_step/sec: 13.3909\n",
      "INFO:tensorflow:loss = 1175.4915, step = 63101 (7.937 sec)\n",
      "INFO:tensorflow:global_step/sec: 11.4613\n",
      "INFO:tensorflow:loss = 1278.4333, step = 63201 (8.256 sec)\n",
      "INFO:tensorflow:global_step/sec: 12.2171\n",
      "INFO:tensorflow:loss = 877.27795, step = 63301 (8.183 sec)\n",
      "INFO:tensorflow:global_step/sec: 12.4052\n",
      "INFO:tensorflow:loss = 887.6394, step = 63401 (8.063 sec)\n",
      "INFO:tensorflow:global_step/sec: 12.9314\n",
      "INFO:tensorflow:loss = 893.0525, step = 63501 (7.729 sec)\n",
      "INFO:tensorflow:global_step/sec: 13.3711\n",
      "INFO:tensorflow:loss = 1257.2417, step = 63601 (7.483 sec)\n",
      "INFO:tensorflow:global_step/sec: 12.6317\n",
      "INFO:tensorflow:loss = 1298.361, step = 63701 (7.917 sec)\n",
      "INFO:tensorflow:global_step/sec: 12.0211\n",
      "INFO:tensorflow:loss = 1057.3864, step = 63801 (8.318 sec)\n",
      "INFO:tensorflow:global_step/sec: 12.2129\n",
      "INFO:tensorflow:loss = 1009.8302, step = 63901 (8.188 sec)\n",
      "INFO:tensorflow:global_step/sec: 12.9592\n",
      "INFO:tensorflow:loss = 1303.6534, step = 64001 (7.717 sec)\n",
      "INFO:tensorflow:global_step/sec: 12.8829\n",
      "INFO:tensorflow:loss = 823.58636, step = 64101 (7.761 sec)\n",
      "INFO:tensorflow:global_step/sec: 12.8625\n",
      "INFO:tensorflow:loss = 946.97723, step = 64201 (7.775 sec)\n",
      "INFO:tensorflow:global_step/sec: 12.4489\n",
      "INFO:tensorflow:loss = 1108.8552, step = 64301 (8.028 sec)\n",
      "INFO:tensorflow:global_step/sec: 12.734\n",
      "INFO:tensorflow:loss = 1080.7461, step = 64401 (7.857 sec)\n",
      "INFO:tensorflow:global_step/sec: 12.7704\n",
      "INFO:tensorflow:loss = 1249.7485, step = 64501 (7.831 sec)\n",
      "INFO:tensorflow:global_step/sec: 12.3008\n",
      "INFO:tensorflow:loss = 1395.0217, step = 64601 (8.130 sec)\n",
      "INFO:tensorflow:global_step/sec: 13.4067\n",
      "INFO:tensorflow:loss = 1448.5198, step = 64701 (7.938 sec)\n",
      "INFO:tensorflow:global_step/sec: 11.4699\n",
      "INFO:tensorflow:loss = 884.88135, step = 64801 (8.240 sec)\n",
      "INFO:tensorflow:global_step/sec: 12.8803\n",
      "INFO:tensorflow:loss = 1289.1794, step = 64901 (7.760 sec)\n",
      "INFO:tensorflow:global_step/sec: 12.2166\n",
      "INFO:tensorflow:loss = 1129.2659, step = 65001 (8.190 sec)\n",
      "INFO:tensorflow:global_step/sec: 11.7452\n",
      "INFO:tensorflow:loss = 1845.1469, step = 65101 (8.514 sec)\n",
      "INFO:tensorflow:global_step/sec: 13.8485\n",
      "INFO:tensorflow:loss = 1061.4794, step = 65201 (7.220 sec)\n",
      "INFO:tensorflow:global_step/sec: 12.7278\n",
      "INFO:tensorflow:loss = 1145.742, step = 65301 (7.859 sec)\n",
      "INFO:tensorflow:global_step/sec: 13.4102\n",
      "INFO:tensorflow:loss = 1085.9027, step = 65401 (7.456 sec)\n",
      "INFO:tensorflow:global_step/sec: 12.7633\n",
      "INFO:tensorflow:loss = 1382.1638, step = 65501 (7.835 sec)\n",
      "INFO:tensorflow:global_step/sec: 11.8967\n",
      "INFO:tensorflow:loss = 1132.8539, step = 65601 (8.405 sec)\n",
      "INFO:tensorflow:global_step/sec: 13.7148\n",
      "INFO:tensorflow:loss = 1044.2351, step = 65701 (7.292 sec)\n",
      "INFO:tensorflow:global_step/sec: 13.0254\n",
      "INFO:tensorflow:loss = 1154.0135, step = 65801 (7.677 sec)\n",
      "INFO:tensorflow:global_step/sec: 12.702\n",
      "INFO:tensorflow:loss = 1593.4188, step = 65901 (7.873 sec)\n",
      "INFO:tensorflow:global_step/sec: 12.7695\n",
      "INFO:tensorflow:loss = 881.4712, step = 66001 (7.831 sec)\n",
      "INFO:tensorflow:global_step/sec: 12.8529\n",
      "INFO:tensorflow:loss = 918.069, step = 66101 (7.777 sec)\n",
      "INFO:tensorflow:global_step/sec: 13.0637\n",
      "INFO:tensorflow:loss = 1062.0948, step = 66201 (7.659 sec)\n",
      "INFO:tensorflow:global_step/sec: 13.2874\n",
      "INFO:tensorflow:loss = 1251.6367, step = 66301 (8.031 sec)\n",
      "INFO:tensorflow:global_step/sec: 11.8398\n",
      "INFO:tensorflow:loss = 1179.0852, step = 66401 (7.941 sec)\n",
      "INFO:tensorflow:global_step/sec: 12.5033\n",
      "INFO:tensorflow:loss = 917.8809, step = 66501 (7.993 sec)\n",
      "INFO:tensorflow:global_step/sec: 12.8302\n",
      "INFO:tensorflow:loss = 945.0681, step = 66601 (7.799 sec)\n",
      "INFO:tensorflow:global_step/sec: 12.9648\n",
      "INFO:tensorflow:loss = 905.5889, step = 66701 (7.713 sec)\n",
      "INFO:tensorflow:global_step/sec: 13.8762\n",
      "INFO:tensorflow:loss = 1444.6533, step = 66801 (7.206 sec)\n",
      "INFO:tensorflow:global_step/sec: 12.2465\n",
      "INFO:tensorflow:loss = 929.968, step = 66901 (8.166 sec)\n",
      "INFO:tensorflow:global_step/sec: 12.7585\n",
      "INFO:tensorflow:loss = 1111.2347, step = 67001 (7.838 sec)\n",
      "INFO:tensorflow:global_step/sec: 13.0096\n",
      "INFO:tensorflow:loss = 1020.15924, step = 67101 (7.686 sec)\n",
      "INFO:tensorflow:global_step/sec: 12.9103\n",
      "INFO:tensorflow:loss = 1124.8322, step = 67201 (7.747 sec)\n",
      "INFO:tensorflow:global_step/sec: 14.05\n",
      "INFO:tensorflow:loss = 1002.67395, step = 67301 (7.118 sec)\n",
      "INFO:tensorflow:global_step/sec: 12.2419\n",
      "INFO:tensorflow:loss = 1122.8247, step = 67401 (8.169 sec)\n",
      "INFO:tensorflow:global_step/sec: 13.2759\n",
      "INFO:tensorflow:loss = 794.2182, step = 67501 (7.533 sec)\n",
      "INFO:tensorflow:Saving checkpoints for 67599 into gs://going-tfx/full/model/model.ckpt.\n",
      "INFO:tensorflow:Calling model_fn.\n",
      "INFO:tensorflow:Done calling model_fn.\n",
      "INFO:tensorflow:Starting evaluation at 2018-11-14-21:15:57\n",
      "INFO:tensorflow:Graph was finalized.\n",
      "INFO:tensorflow:Restoring parameters from gs://going-tfx/full/model/model.ckpt-67599\n",
      "INFO:tensorflow:Running local_init_op.\n",
      "INFO:tensorflow:Done running local_init_op.\n",
      "INFO:tensorflow:Evaluation [51/512]\n",
      "INFO:tensorflow:Evaluation [102/512]\n",
      "INFO:tensorflow:Evaluation [153/512]\n",
      "INFO:tensorflow:Evaluation [204/512]\n",
      "INFO:tensorflow:Evaluation [255/512]\n",
      "INFO:tensorflow:Evaluation [306/512]\n",
      "INFO:tensorflow:Evaluation [357/512]\n",
      "INFO:tensorflow:Evaluation [408/512]\n",
      "INFO:tensorflow:Evaluation [459/512]\n",
      "INFO:tensorflow:Evaluation [510/512]\n",
      "INFO:tensorflow:Evaluation [512/512]\n",
      "INFO:tensorflow:Finished evaluation at 2018-11-14-21:16:33\n",
      "INFO:tensorflow:Saving dict for global step 67599: global_step = 67599, loss = 1117.8094\n",
      "INFO:tensorflow:Saving 'checkpoint_path' summary for global step 67599: gs://going-tfx/full/model/model.ckpt-67599\n",
      "INFO:tensorflow:Saver not created because there are no variables in the graph to restore\n",
      "INFO:tensorflow:Calling model_fn.\n",
      "INFO:tensorflow:Done calling model_fn.\n",
      "INFO:tensorflow:Signatures INCLUDED in export for Eval: None\n",
      "INFO:tensorflow:Signatures INCLUDED in export for Classify: None\n",
      "INFO:tensorflow:Signatures INCLUDED in export for Regress: None\n",
      "INFO:tensorflow:Signatures INCLUDED in export for Predict: ['serving_default']\n",
      "INFO:tensorflow:Signatures INCLUDED in export for Train: None\n",
      "INFO:tensorflow:Restoring parameters from gs://going-tfx/full/model/model.ckpt-67599\n",
      "INFO:tensorflow:Assets added to graph.\n",
      "INFO:tensorflow:No assets to write.\n",
      "INFO:tensorflow:SavedModel written to: gs://going-tfx/full/model/export/exporter/temp-1542230194/saved_model.pb\n",
      "INFO:tensorflow:global_step/sec: 1.53383\n",
      "INFO:tensorflow:loss = 1261.4636, step = 67601 (65.639 sec)\n",
      "INFO:tensorflow:global_step/sec: 11.6254\n",
      "INFO:tensorflow:loss = 1231.9596, step = 67701 (8.155 sec)\n",
      "INFO:tensorflow:global_step/sec: 13.5487\n",
      "INFO:tensorflow:loss = 973.1947, step = 67801 (7.384 sec)\n",
      "INFO:tensorflow:global_step/sec: 12.9761\n",
      "INFO:tensorflow:loss = 1113.3655, step = 67901 (7.707 sec)\n",
      "INFO:tensorflow:global_step/sec: 12.8567\n",
      "INFO:tensorflow:loss = 1152.9579, step = 68001 (7.774 sec)\n",
      "INFO:tensorflow:global_step/sec: 13.0375\n",
      "INFO:tensorflow:loss = 1262.9518, step = 68101 (7.670 sec)\n",
      "INFO:tensorflow:global_step/sec: 12.6551\n",
      "INFO:tensorflow:loss = 1365.2687, step = 68201 (7.906 sec)\n",
      "INFO:tensorflow:global_step/sec: 13.6804\n",
      "INFO:tensorflow:loss = 1067.7137, step = 68301 (7.311 sec)\n",
      "INFO:tensorflow:global_step/sec: 12.774\n",
      "INFO:tensorflow:loss = 1025.2568, step = 68401 (7.824 sec)\n",
      "INFO:tensorflow:global_step/sec: 11.9737\n",
      "INFO:tensorflow:loss = 763.93823, step = 68501 (8.352 sec)\n",
      "INFO:tensorflow:global_step/sec: 12.3961\n",
      "INFO:tensorflow:loss = 1043.6943, step = 68601 (8.072 sec)\n",
      "INFO:tensorflow:global_step/sec: 11.7564\n",
      "INFO:tensorflow:loss = 1118.9395, step = 68701 (8.505 sec)\n",
      "INFO:tensorflow:global_step/sec: 12.8303\n",
      "INFO:tensorflow:loss = 1006.9448, step = 68801 (7.790 sec)\n",
      "INFO:tensorflow:global_step/sec: 13.5645\n",
      "INFO:tensorflow:loss = 951.199, step = 68901 (7.376 sec)\n",
      "INFO:tensorflow:global_step/sec: 11.942\n",
      "INFO:tensorflow:loss = 1276.9854, step = 69001 (8.369 sec)\n",
      "INFO:tensorflow:global_step/sec: 12.5721\n",
      "INFO:tensorflow:loss = 1139.3474, step = 69101 (7.954 sec)\n",
      "INFO:tensorflow:global_step/sec: 12.1132\n",
      "INFO:tensorflow:loss = 1133.1802, step = 69201 (8.768 sec)\n",
      "INFO:tensorflow:global_step/sec: 11.349\n",
      "INFO:tensorflow:loss = 1156.1387, step = 69301 (8.303 sec)\n",
      "INFO:tensorflow:global_step/sec: 12.6306\n",
      "INFO:tensorflow:loss = 1025.4175, step = 69401 (7.918 sec)\n",
      "INFO:tensorflow:global_step/sec: 12.297\n",
      "INFO:tensorflow:loss = 1299.0167, step = 69501 (8.131 sec)\n",
      "INFO:tensorflow:global_step/sec: 13.024\n",
      "INFO:tensorflow:loss = 957.7346, step = 69601 (7.675 sec)\n",
      "INFO:tensorflow:global_step/sec: 12.613\n",
      "INFO:tensorflow:loss = 911.9724, step = 69701 (7.928 sec)\n",
      "INFO:tensorflow:global_step/sec: 13.0035\n",
      "INFO:tensorflow:loss = 1188.5366, step = 69801 (7.691 sec)\n",
      "INFO:tensorflow:global_step/sec: 13.7533\n",
      "INFO:tensorflow:loss = 1241.868, step = 69901 (7.276 sec)\n",
      "INFO:tensorflow:Saving checkpoints for 70000 into gs://going-tfx/full/model/model.ckpt.\n",
      "INFO:tensorflow:Skip the current checkpoint eval due to throttle secs (600 secs).\n",
      "INFO:tensorflow:Calling model_fn.\n",
      "INFO:tensorflow:Done calling model_fn.\n",
      "INFO:tensorflow:Starting evaluation at 2018-11-14-21:20:04\n",
      "INFO:tensorflow:Graph was finalized.\n",
      "INFO:tensorflow:Restoring parameters from gs://going-tfx/full/model/model.ckpt-70000\n",
      "INFO:tensorflow:Running local_init_op.\n",
      "INFO:tensorflow:Done running local_init_op.\n",
      "INFO:tensorflow:Evaluation [51/512]\n",
      "INFO:tensorflow:Evaluation [102/512]\n",
      "INFO:tensorflow:Evaluation [153/512]\n",
      "INFO:tensorflow:Evaluation [204/512]\n",
      "INFO:tensorflow:Evaluation [255/512]\n",
      "INFO:tensorflow:Evaluation [306/512]\n",
      "INFO:tensorflow:Evaluation [357/512]\n",
      "INFO:tensorflow:Evaluation [408/512]\n",
      "INFO:tensorflow:Evaluation [459/512]\n",
      "INFO:tensorflow:Evaluation [510/512]\n",
      "INFO:tensorflow:Evaluation [512/512]\n",
      "INFO:tensorflow:Finished evaluation at 2018-11-14-21:20:39\n",
      "INFO:tensorflow:Saving dict for global step 70000: global_step = 70000, loss = 1107.0385\n",
      "INFO:tensorflow:Saving 'checkpoint_path' summary for global step 70000: gs://going-tfx/full/model/model.ckpt-70000\n",
      "INFO:tensorflow:Saver not created because there are no variables in the graph to restore\n",
      "INFO:tensorflow:Calling model_fn.\n",
      "INFO:tensorflow:Done calling model_fn.\n",
      "INFO:tensorflow:Signatures INCLUDED in export for Eval: None\n",
      "INFO:tensorflow:Signatures INCLUDED in export for Classify: None\n",
      "INFO:tensorflow:Signatures INCLUDED in export for Regress: None\n",
      "INFO:tensorflow:Signatures INCLUDED in export for Predict: ['serving_default']\n",
      "INFO:tensorflow:Signatures INCLUDED in export for Train: None\n",
      "INFO:tensorflow:Restoring parameters from gs://going-tfx/full/model/model.ckpt-70000\n",
      "INFO:tensorflow:Assets added to graph.\n",
      "INFO:tensorflow:No assets to write.\n",
      "INFO:tensorflow:SavedModel written to: gs://going-tfx/full/model/export/exporter/temp-1542230440/saved_model.pb\n",
      "INFO:tensorflow:Loss for final step: 1018.0361.\n"
     ]
    }
   ],
   "source": [
    "from train.train_tools import join_paths\n",
    "\n",
    "args={}\n",
    "args['base_dir']='gs://going-tfx/full'\n",
    "\n",
    "# using a full path allows us to specify other locations\n",
    "args['metadata_dir']='gs://going-tfx/sample/metadata'\n",
    "\n",
    "args['train_data_pattern']='train_data/*'\n",
    "args['eval_data_pattern']='eval_data/*'\n",
    "args['train_batch_size']=512\n",
    "args['eval_batch_size']=512\n",
    "args['max_train_steps']=70000 # That's about 5 epochs\n",
    "args['eval_steps']=10\n",
    "args['learning_rate']=1e-3\n",
    "args['model_dir']='model'\n",
    "\n",
    "model_dir = os.path.join(args['base_dir'], args['model_dir'])\n",
    "print(\"\\n###############################################################################################################\")\n",
    "print(\"using directory {} to store the model. Remove the directory if you want to start from scratch\".format(model_dir))\n",
    "print(\"###############################################################################################################\")\n",
    "# !gsutil rm -rf $model_dir\n",
    "\n",
    "train_and_evaluate(create_feature_columns(), join_paths(args))"
   ]
  },
  {
   "cell_type": "markdown",
   "metadata": {},
   "source": [
    "---\n",
    "# Prediction \n"
   ]
  },
  {
   "cell_type": "markdown",
   "metadata": {},
   "source": [
    "#### Signature data for testing"
   ]
  },
  {
   "cell_type": "markdown",
   "metadata": {},
   "source": [
    "First, let's get some test data. Now we need signature data, and that's what we have in Bigquery. Remember? "
   ]
  },
  {
   "cell_type": "code",
   "execution_count": 123,
   "metadata": {},
   "outputs": [
    {
     "name": "stdout",
     "output_type": "stream",
     "text": [
      "\n",
      "    SELECT\n",
      "        DEP_LAT, DEP_LON, DEP_DELAY, MEAN_TEMP_DEP, MEAN_VIS_DEP, WND_SPD_DEP, ARR_LAT, ARR_LON, ARR_DELAY, MEAN_TEMP_ARR, MEAN_VIS_ARR, WND_SPD_ARR, DEP_DOW, DEP_T\n",
      "    FROM \n",
      "        `going-tfx.examples.ATL_JUNE_SIGNATURE` \n",
      "    where\n",
      "        MOD(ABS(FARM_FINGERPRINT(\n",
      "            CONCAT(DATE,AIRLINE,ARR)\n",
      "        )) + DEP_T, 10000) >= 0 \n",
      "    and\n",
      "        MOD(ABS(FARM_FINGERPRINT(\n",
      "            CONCAT( DATE, AIRLINE, ARR)\n",
      "        )) + DEP_T, 10000) < 1 \n",
      "    \n",
      "Only 40 examples. Showing first three:\n"
     ]
    },
    {
     "data": {
      "text/html": [
       "<div>\n",
       "<style scoped>\n",
       "    .dataframe tbody tr th:only-of-type {\n",
       "        vertical-align: middle;\n",
       "    }\n",
       "\n",
       "    .dataframe tbody tr th {\n",
       "        vertical-align: top;\n",
       "    }\n",
       "\n",
       "    .dataframe thead th {\n",
       "        text-align: right;\n",
       "    }\n",
       "</style>\n",
       "<table border=\"1\" class=\"dataframe\">\n",
       "  <thead>\n",
       "    <tr style=\"text-align: right;\">\n",
       "      <th></th>\n",
       "      <th>DEP_LAT</th>\n",
       "      <th>DEP_LON</th>\n",
       "      <th>DEP_DELAY</th>\n",
       "      <th>MEAN_TEMP_DEP</th>\n",
       "      <th>MEAN_VIS_DEP</th>\n",
       "      <th>WND_SPD_DEP</th>\n",
       "      <th>ARR_LAT</th>\n",
       "      <th>ARR_LON</th>\n",
       "      <th>ARR_DELAY</th>\n",
       "      <th>MEAN_TEMP_ARR</th>\n",
       "      <th>MEAN_VIS_ARR</th>\n",
       "      <th>WND_SPD_ARR</th>\n",
       "      <th>DEP_DOW</th>\n",
       "      <th>DEP_T</th>\n",
       "    </tr>\n",
       "  </thead>\n",
       "  <tbody>\n",
       "    <tr>\n",
       "      <th>0</th>\n",
       "      <td>33.63</td>\n",
       "      <td>-84.42</td>\n",
       "      <td>-3.0</td>\n",
       "      <td>74.0</td>\n",
       "      <td>7.6</td>\n",
       "      <td>5.0</td>\n",
       "      <td>30.47</td>\n",
       "      <td>-87.18</td>\n",
       "      <td>-9.0</td>\n",
       "      <td>79.7</td>\n",
       "      <td>10.0</td>\n",
       "      <td>4.8</td>\n",
       "      <td>1</td>\n",
       "      <td>1025</td>\n",
       "    </tr>\n",
       "    <tr>\n",
       "      <th>1</th>\n",
       "      <td>33.63</td>\n",
       "      <td>-84.42</td>\n",
       "      <td>16.0</td>\n",
       "      <td>76.7</td>\n",
       "      <td>9.5</td>\n",
       "      <td>7.7</td>\n",
       "      <td>35.81</td>\n",
       "      <td>-83.99</td>\n",
       "      <td>14.0</td>\n",
       "      <td>74.2</td>\n",
       "      <td>9.9</td>\n",
       "      <td>9.8</td>\n",
       "      <td>1</td>\n",
       "      <td>1608</td>\n",
       "    </tr>\n",
       "    <tr>\n",
       "      <th>2</th>\n",
       "      <td>33.63</td>\n",
       "      <td>-84.42</td>\n",
       "      <td>2.0</td>\n",
       "      <td>75.7</td>\n",
       "      <td>9.3</td>\n",
       "      <td>6.5</td>\n",
       "      <td>27.97</td>\n",
       "      <td>-82.53</td>\n",
       "      <td>-1.0</td>\n",
       "      <td>82.5</td>\n",
       "      <td>10.0</td>\n",
       "      <td>4.3</td>\n",
       "      <td>1</td>\n",
       "      <td>1405</td>\n",
       "    </tr>\n",
       "  </tbody>\n",
       "</table>\n",
       "</div>"
      ],
      "text/plain": [
       "   DEP_LAT  DEP_LON  DEP_DELAY  MEAN_TEMP_DEP  MEAN_VIS_DEP  WND_SPD_DEP  \\\n",
       "0    33.63   -84.42       -3.0           74.0           7.6          5.0   \n",
       "1    33.63   -84.42       16.0           76.7           9.5          7.7   \n",
       "2    33.63   -84.42        2.0           75.7           9.3          6.5   \n",
       "\n",
       "   ARR_LAT  ARR_LON  ARR_DELAY  MEAN_TEMP_ARR  MEAN_VIS_ARR  WND_SPD_ARR  \\\n",
       "0    30.47   -87.18       -9.0           79.7          10.0          4.8   \n",
       "1    35.81   -83.99       14.0           74.2           9.9          9.8   \n",
       "2    27.97   -82.53       -1.0           82.5          10.0          4.3   \n",
       "\n",
       "   DEP_DOW  DEP_T  \n",
       "0        1   1025  \n",
       "1        1   1608  \n",
       "2        1   1405  "
      ]
     },
     "execution_count": 123,
     "metadata": {},
     "output_type": "execute_result"
    }
   ],
   "source": [
    "from train.model_config import SIGNATURE_FLOAT_COLUMNS\n",
    "from train.model_config import SIGNATURE_INT_COLUMNS\n",
    "from signature_queries import sample_query\n",
    "\n",
    "SIGNATURE_COLUMNS = SIGNATURE_FLOAT_COLUMNS+SIGNATURE_INT_COLUMNS\n",
    "signature_query=sample_query(SIGNATURE_COLUMNS, total=10000)\n",
    "print(signature_query)\n",
    "sample = dlbq.Query(signature_query).execute().result().to_dataframe()\n",
    "print('Only {} examples. Showing first three:'.format(len(sample)))\n",
    "sample[:3]"
   ]
  },
  {
   "cell_type": "code",
   "execution_count": 91,
   "metadata": {},
   "outputs": [
    {
     "name": "stdout",
     "output_type": "stream",
     "text": [
      "{\"WND_SPD_DEP\": 5.0, \"DEP_DELAY\": -3.0, \"ARR_LAT\": 30.47, \"WND_SPD_ARR\": 4.8, \"MEAN_VIS_DEP\": 7.6, \"DEP_T\": 1025.0, \"MEAN_TEMP_ARR\": 79.7, \"DEP_LON\": -84.42, \"DEP_DOW\": 1.0, \"MEAN_VIS_ARR\": 10.0, \"MEAN_TEMP_DEP\": 74.0, \"DEP_LAT\": 33.63, \"ARR_LON\": -87.18}"
     ]
    }
   ],
   "source": [
    "import json\n",
    "samplefile='/tmp/test.json'\n",
    "a_record = sample.to_dict(orient='records')[0]\n",
    "a_record.pop('ARR_DELAY')\n",
    "with open(samplefile, 'w') as f:\n",
    "    f.write(json.dumps(a_record))\n",
    "!cat $samplefile"
   ]
  },
  {
   "cell_type": "markdown",
   "metadata": {},
   "source": [
    "---\n",
    "#### Local prediction with gcloud ml-engine"
   ]
  },
  {
   "cell_type": "code",
   "execution_count": 102,
   "metadata": {},
   "outputs": [
    {
     "data": {
      "text/plain": [
       "['gs://going-tfx/full/model/export/exporter/1542222163/',\n",
       " 'gs://going-tfx/full/model/export/exporter/1542223148/',\n",
       " 'gs://going-tfx/full/model/export/exporter/1542223414/',\n",
       " 'gs://going-tfx/full/model/export/exporter/1542223805/',\n",
       " 'gs://going-tfx/full/model/export/exporter/1542224320/']"
      ]
     },
     "execution_count": 102,
     "metadata": {},
     "output_type": "execute_result"
    }
   ],
   "source": [
    "all_versions = !gsutil ls $model_dir/export/exporter\n",
    "all_versions[1:]"
   ]
  },
  {
   "cell_type": "code",
   "execution_count": 112,
   "metadata": {},
   "outputs": [
    {
     "name": "stdout",
     "output_type": "stream",
     "text": [
      "gs://going-tfx/full/model/export/exporter/1542224320/\n"
     ]
    }
   ],
   "source": [
    "latest_model=$(gsutil ls $model_dir/export/exporter | sort | tail -1)"
   ]
  },
  {
   "cell_type": "code",
   "execution_count": 107,
   "metadata": {},
   "outputs": [
    {
     "name": "stdout",
     "output_type": "stream",
     "text": [
      "\n"
     ]
    }
   ],
   "source": [
    "%%bash\n",
    "echo $latest"
   ]
  },
  {
   "cell_type": "markdown",
   "metadata": {},
   "source": [
    "Choose your version from the above"
   ]
  },
  {
   "cell_type": "code",
   "execution_count": 115,
   "metadata": {},
   "outputs": [
    {
     "name": "stdout",
     "output_type": "stream",
     "text": [
      "gs://going-tfx/full/model/export/exporter/1542224320/\n",
      "OUTPUT\n",
      "[7.942289352416992]\n"
     ]
    },
    {
     "name": "stderr",
     "output_type": "stream",
     "text": [
      "WARNING: 2018-11-14 19:47:06.059640: I tensorflow/core/platform/cpu_feature_guard.cc:141] Your CPU supports instructions that this TensorFlow binary was not compiled to use: AVX2 FMA\n",
      "2018-11-14 19:47:06.066056: I tensorflow/core/common_runtime/process_util.cc:69] Creating new thread pool with default inter op setting: 2. Tune using inter_op_parallelism_threads for best performance.\n",
      "\n"
     ]
    }
   ],
   "source": [
    "%%bash\n",
    "latest_model=$(gsutil ls gs://going-tfx/full/model/export/exporter | sort | tail -1)\n",
    "echo latest model: $latest_model\n",
    "gcloud ml-engine local predict \\\n",
    "  --model-dir=$latest_model \\\n",
    "  --json-instances=/tmp/test.json"
   ]
  },
  {
   "cell_type": "code",
   "execution_count": 66,
   "metadata": {},
   "outputs": [
    {
     "name": "stdout",
     "output_type": "stream",
     "text": [
      "{\"WND_SPD_DEP\": 6.1, \"DEP_DELAY\": -2.0, \"ARR_LAT\": 33.43, \"WND_SPD_ARR\": 8.5, \"MEAN_VIS_DEP\": 8.0, \"DEP_T\": 805.0, \"MEAN_TEMP_ARR\": 102.4, \"DEP_LON\": -84.42, \"DEP_DOW\": 4.0, \"MEAN_VIS_ARR\": 10.0, \"MEAN_TEMP_DEP\": 73.6, \"DEP_LAT\": 33.63, \"ARR_LON\": -112.01}\n",
      "{\"WND_SPD_DEP\": 6.7, \"DEP_DELAY\": -5.0, \"ARR_LAT\": 29.53, \"WND_SPD_ARR\": 10.4, \"MEAN_VIS_DEP\": 9.0, \"DEP_T\": 1725.0, \"MEAN_TEMP_ARR\": 83.3, \"DEP_LON\": -84.42, \"DEP_DOW\": 4.0, \"MEAN_VIS_ARR\": 9.9, \"MEAN_TEMP_DEP\": 77.9, \"DEP_LAT\": 33.63, \"ARR_LON\": -98.46}\n"
     ]
    }
   ],
   "source": [
    "import json\n",
    "samplefile='/tmp/test.json'\n",
    "records = sample.to_dict(orient='records')[:20]\n",
    "with open(samplefile, 'w') as f:\n",
    "    for record in records:\n",
    "        record.pop('ARR_DELAY')\n",
    "        f.write(json.dumps(record))\n",
    "        f.write('\\n')\n",
    "!cat $samplefile | tail -2"
   ]
  },
  {
   "cell_type": "markdown",
   "metadata": {},
   "source": [
    "---\n",
    "#### Predicting from within python code"
   ]
  },
  {
   "cell_type": "code",
   "execution_count": 130,
   "metadata": {},
   "outputs": [],
   "source": [
    "latest_model=!gsutil ls gs://going-tfx/full/model/export/exporter | sort | tail -1\n",
    "latest_model=latest_model[0]"
   ]
  },
  {
   "cell_type": "code",
   "execution_count": 131,
   "metadata": {},
   "outputs": [
    {
     "name": "stdout",
     "output_type": "stream",
     "text": [
      "INFO:tensorflow:Restoring parameters from gs://going-tfx/full/model/export/exporter/1542230440/variables/variables\n"
     ]
    }
   ],
   "source": [
    "estimator = tf.contrib.predictor.from_saved_model(latest_model)"
   ]
  },
  {
   "cell_type": "code",
   "execution_count": 132,
   "metadata": {},
   "outputs": [
    {
     "data": {
      "text/plain": [
       "<matplotlib.axes._subplots.AxesSubplot at 0x7f25bfba6610>"
      ]
     },
     "execution_count": 132,
     "metadata": {},
     "output_type": "execute_result"
    },
    {
     "data": {
      "image/png": "[encoded data removed]",
      "text/plain": [
       "<Figure size 432x288 with 1 Axes>"
      ]
     },
     "metadata": {},
     "output_type": "display_data"
    }
   ],
   "source": [
    "%matplotlib inline\n",
    "compare=sample.copy()\n",
    "predicted = estimator(sample.to_dict(orient='list'))\n",
    "compare['PREDICTED'] = predicted['output']\n",
    "compare.plot.scatter(x='ARR_DELAY', y='PREDICTED')"
   ]
  },
  {
   "cell_type": "code",
   "execution_count": null,
   "metadata": {},
   "outputs": [],
   "source": []
  }
 ],
 "metadata": {
  "kernelspec": {
   "display_name": "Python 2",
   "language": "python",
   "name": "python2"
  },
  "language_info": {
   "codemirror_mode": {
    "name": "ipython",
    "version": 2
   },
   "file_extension": ".py",
   "mimetype": "text/x-python",
   "name": "python",
   "nbconvert_exporter": "python",
   "pygments_lexer": "ipython2",
   "version": "2.7.13"
  }
 },
 "nbformat": 4,
 "nbformat_minor": 2
}
