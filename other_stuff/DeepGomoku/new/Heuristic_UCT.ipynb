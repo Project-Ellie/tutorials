{
 "cells": [
  {
   "cell_type": "code",
   "execution_count": 1,
   "metadata": {},
   "outputs": [],
   "source": [
    "from __future__ import division, absolute_import, print_function"
   ]
  },
  {
   "cell_type": "code",
   "execution_count": 2,
   "metadata": {},
   "outputs": [],
   "source": [
    "import numpy as np"
   ]
  },
  {
   "cell_type": "code",
   "execution_count": 463,
   "metadata": {},
   "outputs": [],
   "source": [
    "def uct_search(game_state, policy, num_reads, verbose=0):\n",
    "    count = [0,0,0]\n",
    "    root = UCT_Node(game_state)\n",
    "    for _ in range(num_reads):\n",
    "        leaf = root.select_leaf()\n",
    "        child_priors, _,  value_estimate = policy.evaluate(leaf.game_state)\n",
    "        count[value_estimate+1] += 1\n",
    "        if value_estimate == 0:\n",
    "            leaf.expand(child_priors)\n",
    "        leaf.backup(value_estimate)\n",
    "    print(\"Counts: %s\" % count)\n",
    "    move, _ = max(root.children.items(), \n",
    "               key = lambda item: item[1].number_visits)\n",
    "    return root, move"
   ]
  },
  {
   "cell_type": "code",
   "execution_count": 500,
   "metadata": {},
   "outputs": [],
   "source": [
    "class UCT_Node:\n",
    "    def __init__(self, game_state, move=None, parent=None, C=1.4):\n",
    "        self.game_state = game_state\n",
    "        self.move = move\n",
    "        self.is_expanded = False\n",
    "        self.parent = parent\n",
    "        self.children = {}\n",
    "        self.child_priors = np.zeros(\n",
    "            [self.game_state.n_actions+1], dtype=np.float32)\n",
    "        self.child_total_value =  np.zeros(\n",
    "            [self.game_state.n_actions+1], dtype=np.float32)\n",
    "        self.child_number_visits =  np.zeros(\n",
    "            [self.game_state.n_actions+1], dtype=np.float32)\n",
    "        self.C = C\n",
    "        self.penalty = 0\n",
    "\n",
    "        \n",
    "    def any_argmax(self, aa):\n",
    "        \"\"\"\n",
    "        stochastic function:\n",
    "        returns any of the indices that have the maximum.\n",
    "        \"\"\"\n",
    "        import random\n",
    "        ind = np.argmax(aa)\n",
    "        m = aa[ind]\n",
    "        choices = np.where(aa == m)\n",
    "        return random.choice(np.ndarray.tolist(choices[0]))        \n",
    "\n",
    "    \n",
    "    def child_Q(self):\n",
    "        return self.child_total_value / (1 + self.child_number_visits)\n",
    "\n",
    "    def child_U(self):\n",
    "        if self.number_visits == 0: \n",
    "            return np.zeros([5], dtype=float)\n",
    "        else:\n",
    "            return np.sqrt(np.log(self.number_visits) / \n",
    "                           (1 + self.child_number_visits))\n",
    "\n",
    "        # TODO: This is not reflecting the theory\n",
    "        return np.sqrt(self.number_visits) * (\n",
    "            self.child_priors / (1 + self.child_number_visits))\n",
    "\n",
    "    def best_child(self):\n",
    "        \"\"\"\n",
    "        We are looking for the child that has the *worst* value, because\n",
    "        the value is always computed as from the point of view of the one\n",
    "        who's moving next. And the children of this node are all adversary\n",
    "        moves. In short: Maximize the opponents pain! My move is your pain.\n",
    "        \"\"\"\n",
    "        qus = - self.child_Q() + self.C * self.child_U()\n",
    "        move = self.any_argmax(qus[1:])+1 # because we're starting at index 1\n",
    "        if self.children:\n",
    "            return self.children[move]\n",
    "        else:\n",
    "            return None\n",
    "\n",
    "    \n",
    "    def select_leaf(self):\n",
    "        current = self\n",
    "        while current.is_expanded:\n",
    "            current.number_visits += 1\n",
    "            current.total_value -= self.penalty #make it less attractive until backup\n",
    "            current = current.best_child()\n",
    "        return current\n",
    "    \n",
    "    def expand(self, child_priors):\n",
    "        self.is_expanded = True\n",
    "        self.child_priors = child_priors\n",
    "        \n",
    "        for move in self.game_state.legal_actions:\n",
    "            self.add_child(move)\n",
    "            \n",
    "    def add_child(self, move):\n",
    "        self.children[move] = UCT_Node(\n",
    "            self.game_state.play(move), move=move, parent=self)\n",
    "    \n",
    "    def backup(self, value_estimate):\n",
    "        current = self\n",
    "        while current.parent is not None:\n",
    "            upd = value_estimate * current.game_state.to_play + current.penalty\n",
    "            #print(\"Updating: %s: %s, %s\" % (self, current.game_state.to_play, upd))\n",
    "            current.total_value += upd\n",
    "            current = current.parent\n",
    "            \n",
    "    def pathid(self):\n",
    "        leaf = self\n",
    "        name = [leaf.move]\n",
    "        while leaf.parent:\n",
    "            name = [leaf.parent.move] + name\n",
    "            leaf = leaf.parent\n",
    "        return name    \n",
    "            \n",
    "    def __repr__(self):\n",
    "        return str(self.pathid())\n",
    "        \n",
    "    @property\n",
    "    def number_visits(self):\n",
    "        if self.parent:\n",
    "            return self.parent.child_number_visits[self.move]\n",
    "        else:\n",
    "            return 0\n",
    "    \n",
    "    @number_visits.setter\n",
    "    def number_visits(self, value):\n",
    "        #print(\"Value: %s\" % value)\n",
    "        #raise ValueError()\n",
    "        if self.parent:\n",
    "            self.parent.child_number_visits[self.move] = value\n",
    "        \n",
    "    @property\n",
    "    def total_value(self):\n",
    "        if self.parent:\n",
    "            return self.parent.child_total_value[self.move]\n",
    "        else:\n",
    "            return 0\n",
    "    \n",
    "    @total_value.setter\n",
    "    def total_value(self, value):\n",
    "        if self.parent:\n",
    "            self.parent.child_total_value[self.move] = value"
   ]
  },
  {
   "cell_type": "code",
   "execution_count": 501,
   "metadata": {},
   "outputs": [],
   "source": [
    "from copy import deepcopy\n",
    "class SillyGame: \n",
    "    \n",
    "    def __init__(self, board='......I....II.........III............IIII'):\n",
    "        self.legal_actions = [1,2,3,4]\n",
    "        self.n_actions = len(self.legal_actions)\n",
    "        self.total = 0\n",
    "        self.to_play = 1\n",
    "        self.board=board\n",
    "\n",
    "    def play(self, move):     \n",
    "        if self.total + move >= len(self.board):            \n",
    "            print(self)\n",
    "            raise ValueError(\"Beyond boundary: Pos=%s, Move=%s\" % (self.total,move))\n",
    "        if not move in self.legal_actions:\n",
    "            raise ValueError(\"Not a legal move: %s\" %move)\n",
    "        cp = deepcopy(self)\n",
    "        cp.to_play *= -1\n",
    "        cp.total += move\n",
    "        return cp\n",
    "    \n",
    "    def __repr__(self):\n",
    "        stone = 'x' if self.to_play==1 else 'o'\n",
    "        board = self.board[:self.total] + stone + self.board[self.total+1:]\n",
    "        return (\"total: %02d, %s\" % (self.total, board))\n",
    "    "
   ]
  },
  {
   "cell_type": "code",
   "execution_count": 502,
   "metadata": {},
   "outputs": [],
   "source": [
    "class SillyPolicy:\n",
    "\n",
    "    def __init__(self, lookahead=False):\n",
    "        self.lookahead = lookahead\n",
    "    \n",
    "    def _is_done(self, board, total):\n",
    "        return board[total] == 'I'\n",
    "            \n",
    "    def evaluate(self, game, view_point=1):\n",
    "        if self._is_done(game.board, game.total):\n",
    "            # the opponent lost -> I won\n",
    "            return [0,0,0,0,0], 0, view_point * game.to_play\n",
    "        else: \n",
    "            distr = [0,0,0,0,0]\n",
    "            array = [1,2,3,4]\n",
    "            np.random.shuffle(array)\n",
    "            if not self.lookahead:\n",
    "                return [0., .25,  .25,  .25,  .25], array[0], 0\n",
    "            for n in array:\n",
    "                if not self._is_done(game.board, game.total+n):\n",
    "                    distr[n] = 1\n",
    "                    return distr, n, 0\n",
    "            # Can't move -> I make my losing move\n",
    "            return distr, 0, view_point * game.to_play\n",
    "                    "
   ]
  },
  {
   "cell_type": "code",
   "execution_count": 503,
   "metadata": {},
   "outputs": [
    {
     "name": "stdout",
     "output_type": "stream",
     "text": [
      "total: 00, x.....I....II.........III............IIII\n"
     ]
    },
    {
     "data": {
      "text/plain": [
       "True"
      ]
     },
     "execution_count": 503,
     "metadata": {},
     "output_type": "execute_result"
    }
   ],
   "source": [
    "p = SillyPolicy()\n",
    "g = SillyGame()\n",
    "print(g)\n",
    "p._is_done(g.board, 6)"
   ]
  },
  {
   "cell_type": "code",
   "execution_count": 504,
   "metadata": {},
   "outputs": [
    {
     "name": "stdout",
     "output_type": "stream",
     "text": [
      "1\n",
      "total: 00, x.....I....II.........III............IIII 0\n",
      "1\n",
      "total: 00, x.....I....II.........III............IIII 0\n",
      "1\n",
      "total: 00, x.....I....II.........III............IIII 0\n",
      "1\n",
      "total: 00, x.....I....II.........III............IIII 0\n"
     ]
    }
   ],
   "source": [
    "p = SillyPolicy()\n",
    "g = SillyGame()\n",
    "\n",
    "print(g.to_play)\n",
    "_, choice, state = p.evaluate(g)\n",
    "print(g, state)\n",
    "\n",
    "g.play(1)\n",
    "print(g.to_play)\n",
    "_, choice, state = p.evaluate(g)\n",
    "print(g, state)\n",
    "\n",
    "g.play(1)\n",
    "print(g.to_play)\n",
    "_, choice, state = p.evaluate(g)\n",
    "print(g, state)\n",
    "\n",
    "g.play(4)\n",
    "print(g.to_play)\n",
    "_, choice, state = p.evaluate(g)\n",
    "print(g, state)\n",
    "\n"
   ]
  },
  {
   "cell_type": "code",
   "execution_count": 505,
   "metadata": {},
   "outputs": [
    {
     "name": "stdout",
     "output_type": "stream",
     "text": [
      "total: 02, ..o...I....II.........III............IIII 1 0\n",
      "total: 03, ...x..I....II.........III............IIII 2 0\n",
      "total: 05, .....oI....II.........III............IIII 2 0\n",
      "total: 07, ......Ix...II.........III............IIII 2 0\n",
      "total: 09, ......I..o.II.........III............IIII 1 0\n",
      "total: 10, ......I...xII.........III............IIII 4 0\n",
      "total: 14, ......I....II.o.......III............IIII 2 0\n",
      "total: 16, ......I....II...x.....III............IIII 3 0\n",
      "total: 19, ......I....II......o..III............IIII 2 0\n",
      "total: 21, ......I....II........xIII............IIII 4 0\n",
      "total: 25, ......I....II.........IIIo...........IIII 1 0\n",
      "total: 26, ......I....II.........III.x..........IIII 2 0\n",
      "total: 28, ......I....II.........III...o........IIII 4 0\n",
      "total: 32, ......I....II.........III.......x....IIII 1 0\n",
      "total: 33, ......I....II.........III........o...IIII 3 0\n",
      "total: 36, ......I....II.........III...........xIIII 0 1\n",
      "black wins.\n"
     ]
    }
   ],
   "source": [
    "p = SillyPolicy(lookahead=True)\n",
    "g = SillyGame()\n",
    "choice = 2\n",
    "\n",
    "while choice != 0:\n",
    "    g = g.play(choice)\n",
    "    _, choice, value = p.evaluate(g)\n",
    "    print(g, choice, value)\n",
    "    \n",
    "print((\"white\" if value == -1 else \"black\") + \" wins.\")"
   ]
  },
  {
   "cell_type": "code",
   "execution_count": 506,
   "metadata": {},
   "outputs": [
    {
     "name": "stdout",
     "output_type": "stream",
     "text": [
      "Counts: [0, 3, 0]\n"
     ]
    }
   ],
   "source": [
    "p = SillyPolicy(lookahead=False)\n",
    "g0 = SillyGame('...............IIII')\n",
    "root, move = uct_search(g0, p, 3)"
   ]
  },
  {
   "cell_type": "code",
   "execution_count": 507,
   "metadata": {},
   "outputs": [
    {
     "name": "stdout",
     "output_type": "stream",
     "text": [
      "P/V: [0.0, 0.25, 0.25, 0.25, 0.25] / 0.0\n",
      "[None, 3] 0\n"
     ]
    }
   ],
   "source": [
    "root = UCT_Node(g0)\n",
    "root.expand([0., .25, .25, .25, .25])\n",
    "leaf = root.select_leaf()\n",
    "child_priors, _,  value_estimate = p.evaluate(leaf.game_state)\n",
    "if value_estimate == 0:\n",
    "    leaf.expand(child_priors)\n",
    "leaf.backup(value_estimate)\n",
    "print(\"P/V: %s / %s\" %(leaf.child_priors, leaf.total_value))\n",
    "print(leaf, leaf.parent.number_visits)"
   ]
  },
  {
   "cell_type": "code",
   "execution_count": 508,
   "metadata": {},
   "outputs": [
    {
     "name": "stdout",
     "output_type": "stream",
     "text": [
      "P/V: [0.0, 0.25, 0.25, 0.25, 0.25] / 0.0\n",
      "[None, 4] total: 04, ....o..........IIII 0\n"
     ]
    }
   ],
   "source": [
    "leaf = root.select_leaf()\n",
    "child_priors, _,  value_estimate = p.evaluate(leaf.game_state)\n",
    "if value_estimate == 0:\n",
    "    leaf.expand(child_priors)\n",
    "leaf.backup(value_estimate)\n",
    "print(\"P/V: %s / %s\" %(leaf.child_priors, leaf.total_value))\n",
    "print(leaf.pathid(), leaf.game_state, leaf.parent.number_visits)"
   ]
  },
  {
   "cell_type": "code",
   "execution_count": 509,
   "metadata": {},
   "outputs": [
    {
     "name": "stdout",
     "output_type": "stream",
     "text": [
      "P/V: [0.0, 0.25, 0.25, 0.25, 0.25] / 0.0\n",
      "[None, 4, 4] total: 08, ........x......IIII\n"
     ]
    }
   ],
   "source": [
    "leaf = root.select_leaf()\n",
    "child_priors, _,  value_estimate = p.evaluate(leaf.game_state)\n",
    "if value_estimate == 0:\n",
    "    leaf.expand(child_priors)\n",
    "leaf.backup(value_estimate)\n",
    "print(\"P/V: %s / %s\" %(leaf.child_priors, leaf.total_value))\n",
    "print(leaf.pathid(), leaf.game_state)"
   ]
  },
  {
   "cell_type": "code",
   "execution_count": 510,
   "metadata": {},
   "outputs": [
    {
     "name": "stdout",
     "output_type": "stream",
     "text": [
      "P/V: [0.0, 0.25, 0.25, 0.25, 0.25] / 0.0\n",
      "[None, 4, 1] total: 05, .....x.........IIII\n"
     ]
    }
   ],
   "source": [
    "leaf = root.select_leaf()\n",
    "child_priors, _,  value_estimate = p.evaluate(leaf.game_state)\n",
    "if value_estimate == 0:\n",
    "    leaf.expand(child_priors)\n",
    "leaf.backup(value_estimate)\n",
    "print(\"P/V: %s / %s\" %(leaf.child_priors, leaf.total_value))\n",
    "print(leaf.pathid(), leaf.game_state)"
   ]
  },
  {
   "cell_type": "code",
   "execution_count": 511,
   "metadata": {},
   "outputs": [
    {
     "name": "stdout",
     "output_type": "stream",
     "text": [
      "P/V: [0.0, 0.25, 0.25, 0.25, 0.25] / 0.0\n",
      "[None, 3, 2] total: 05, .....x.........IIII\n"
     ]
    }
   ],
   "source": [
    "leaf = root.select_leaf()\n",
    "child_priors, _,  value_estimate = p.evaluate(leaf.game_state)\n",
    "if value_estimate == 0:\n",
    "    leaf.expand(child_priors)\n",
    "leaf.backup(value_estimate)\n",
    "print(\"P/V: %s / %s\" %(leaf.child_priors, leaf.total_value))\n",
    "print(leaf.pathid(), leaf.game_state)"
   ]
  },
  {
   "cell_type": "code",
   "execution_count": 519,
   "metadata": {},
   "outputs": [
    {
     "name": "stdout",
     "output_type": "stream",
     "text": [
      "total: 00, x...-....-....-IIII\n",
      "total: 15, ....-....-....-xIII [None, 4, 4, 1, 2, 3, 1]\n"
     ]
    },
    {
     "data": {
      "text/plain": [
       "([0, 0, 0, 0, 0], 0, 1)"
      ]
     },
     "execution_count": 519,
     "metadata": {},
     "output_type": "execute_result"
    }
   ],
   "source": [
    "b_sure_win = '....-....-....-IIII'\n",
    "w_sure_win = '.....-....-....-IIII'\n",
    "g0 = SillyGame(b_sure_win)\n",
    "print(g0)\n",
    "root = UCT_Node(g0)\n",
    "leaf = root\n",
    "\n",
    "for move in [4,4,1,2,3,1]:\n",
    "    leaf.expand([0]+[.25]*4)\n",
    "    leaf = leaf.children[move]\n",
    "print(leaf.game_state, leaf)\n",
    "p.evaluate(leaf.game_state)\n",
    "\n",
    "\n",
    "#white_loss = g0.play(4).play(4).play(1).play(2).play(3).play(1)\n",
    "#print(white_loss)\n",
    "#print(p.evaluate(white_loss))\n",
    "#black_loss = g0.play(2).play(2).play(4).play(1).play(2).play(3).play(1)\n",
    "#print(black_loss)\n",
    "#print(p.evaluate(black_loss))"
   ]
  },
  {
   "cell_type": "code",
   "execution_count": 513,
   "metadata": {},
   "outputs": [],
   "source": [
    "leaf.backup(1)"
   ]
  },
  {
   "cell_type": "code",
   "execution_count": 514,
   "metadata": {},
   "outputs": [
    {
     "name": "stdout",
     "output_type": "stream",
     "text": [
      "[None, 4, 4, 1, 2, 3, 1] 1.0\n",
      "[None, 4, 4, 1, 2, 3] -1.0\n",
      "[None, 4, 4, 1, 2] 1.0\n",
      "[None, 4, 4, 1] -1.0\n",
      "[None, 4, 4] 1.0\n",
      "[None, 4] -1.0\n"
     ]
    }
   ],
   "source": [
    "while leaf.parent:\n",
    "    print(leaf, leaf.total_value)\n",
    "    leaf = leaf.parent"
   ]
  },
  {
   "cell_type": "code",
   "execution_count": 515,
   "metadata": {},
   "outputs": [
    {
     "data": {
      "text/plain": [
       "(1, array([ 0.,  0.,  0.,  0., -1.], dtype=float32))"
      ]
     },
     "execution_count": 515,
     "metadata": {},
     "output_type": "execute_result"
    }
   ],
   "source": [
    "root.game_state.to_play, root.child_Q()"
   ]
  },
  {
   "cell_type": "code",
   "execution_count": 516,
   "metadata": {},
   "outputs": [
    {
     "data": {
      "text/plain": [
       "array([0., 0., 0., 0., 1.], dtype=float32)"
      ]
     },
     "execution_count": 516,
     "metadata": {},
     "output_type": "execute_result"
    }
   ],
   "source": [
    "root.children[4].child_Q()"
   ]
  },
  {
   "cell_type": "code",
   "execution_count": 499,
   "metadata": {},
   "outputs": [
    {
     "data": {
      "text/plain": [
       "array([ 0., -1.,  0.,  0.,  0.], dtype=float32)"
      ]
     },
     "execution_count": 499,
     "metadata": {},
     "output_type": "execute_result"
    }
   ],
   "source": [
    "root.children[4].children[4].child_Q()"
   ]
  },
  {
   "cell_type": "code",
   "execution_count": 544,
   "metadata": {},
   "outputs": [
    {
     "name": "stdout",
     "output_type": "stream",
     "text": [
      "Counts: [2814, 3556, 3630]\n"
     ]
    },
    {
     "data": {
      "text/plain": [
       "4"
      ]
     },
     "execution_count": 544,
     "metadata": {},
     "output_type": "execute_result"
    }
   ],
   "source": [
    "g0 = SillyGame(b_sure_win)\n",
    "root = UCT_Node(g0)\n",
    "root, move = uct_search(g0, p, 10000)\n",
    "move"
   ]
  },
  {
   "cell_type": "code",
   "execution_count": 545,
   "metadata": {},
   "outputs": [
    {
     "data": {
      "text/plain": [
       "[None, 4, 1, 4, 1, 4]"
      ]
     },
     "execution_count": 545,
     "metadata": {},
     "output_type": "execute_result"
    }
   ],
   "source": [
    "root.best_child().best_child().best_child().best_child().best_child()"
   ]
  },
  {
   "cell_type": "code",
   "execution_count": 395,
   "metadata": {},
   "outputs": [
    {
     "name": "stdout",
     "output_type": "stream",
     "text": [
      "total: 03, ...o...........IIII [None, 3]\n",
      "\n",
      "Q:       [ 0.03539823 -0.03703704 -0.07575758 -0.20512821]\n",
      "U:       [0.22460277 0.26528448 0.29388833 0.3823156 ]\n",
      "Values:  [ 4. -3. -5. -8.]\n",
      "Visits:  [112.  80.  65.  38.] 299.0\n",
      "total: 04, ....x..........IIII [None, 3, 1]\n",
      "\n",
      "Q:       [-0.03571429 -0.07692308 -0.03703704  0.        ]\n",
      "U:       [0.4105092  0.42600554 0.41804212 0.39014053]\n",
      "Values:  [-1. -2. -1.  0.]\n",
      "Visits:  [27. 25. 26. 30.] 112.0\n",
      "total: 07, .......o.......IIII [None, 3, 1, 3]\n",
      "\n",
      "Q:       [ 0.125       0.14285715  0.125      -0.6666667 ]\n",
      "U:       [0.6381709  0.68223333 0.6381709  1.0421287 ]\n",
      "Values:  [ 1.  1.  1. -2.]\n",
      "Visits:  [7. 6. 7. 2.] 26.0\n",
      "total: 09, .........x.....IIII [None, 3, 1, 3, 2]\n",
      "\n",
      "Q:       [ 0.   0.  -0.5  0. ]\n",
      "U:       [1.3385662  0.94650924 0.94650924 1.3385662 ]\n",
      "Values:  [ 0.  0. -1.  0.]\n",
      "Visits:  [0. 1. 1. 0.] 6.0\n",
      "total: 13, .............o.IIII [None, 3, 1, 3, 2, 4]\n",
      "\n",
      "Q:       [0. 0. 0. 0.]\n",
      "U:       [0. 0. 0. 0.]\n",
      "Values:  [0. 0. 0. 0.]\n",
      "Visits:  [0. 0. 0. 0.] 0.0\n",
      "total: 15, ...............xIII [None, 3, 1, 3, 2, 4, 2]\n",
      "\n"
     ]
    }
   ],
   "source": [
    "move = res[1]\n",
    "print(move.game_state, move)\n",
    "print()\n",
    "while move.best_child():\n",
    "    move = move.best_child()\n",
    "    print(\"Q:      \", move.parent.child_Q()[1:])\n",
    "    print(\"U:      \", move.parent.child_U()[1:])\n",
    "    print(\"Values: \", move.parent.child_total_value[1:])\n",
    "    print(\"Visits: \", move.parent.child_number_visits[1:], \n",
    "          move.parent.number_visits)\n",
    "    print(move.game_state, move)\n",
    "    print()"
   ]
  },
  {
   "cell_type": "code",
   "execution_count": 106,
   "metadata": {},
   "outputs": [
    {
     "data": {
      "text/plain": [
       "0"
      ]
     },
     "execution_count": 106,
     "metadata": {},
     "output_type": "execute_result"
    }
   ],
   "source": [
    "move.parent.child_U()"
   ]
  },
  {
   "cell_type": "code",
   "execution_count": null,
   "metadata": {},
   "outputs": [],
   "source": []
  },
  {
   "cell_type": "code",
   "execution_count": null,
   "metadata": {},
   "outputs": [],
   "source": []
  },
  {
   "cell_type": "code",
   "execution_count": 61,
   "metadata": {},
   "outputs": [],
   "source": [
    "if value_estimate == 0:\n",
    "    leaf.expand(child_priors)\n",
    "leaf.backup(value_estimate)"
   ]
  },
  {
   "cell_type": "code",
   "execution_count": 65,
   "metadata": {},
   "outputs": [
    {
     "data": {
      "text/plain": [
       "(<__main__.UCT_Node at 0x24e899feef0>, <__main__.UCT_Node at 0x24e899feef0>)"
      ]
     },
     "execution_count": 65,
     "metadata": {},
     "output_type": "execute_result"
    }
   ],
   "source": [
    "root, leaf"
   ]
  },
  {
   "cell_type": "code",
   "execution_count": null,
   "metadata": {},
   "outputs": [],
   "source": [
    "return max(root.children.items(), \n",
    "           key = lambda item: item[1].number_visits)"
   ]
  }
 ],
 "metadata": {
  "kernelspec": {
   "display_name": "Python 3",
   "language": "python",
   "name": "python3"
  },
  "language_info": {
   "codemirror_mode": {
    "name": "ipython",
    "version": 3
   },
   "file_extension": ".py",
   "mimetype": "text/x-python",
   "name": "python",
   "nbconvert_exporter": "python",
   "pygments_lexer": "ipython3",
   "version": "3.7.1"
  }
 },
 "nbformat": 4,
 "nbformat_minor": 2
}
