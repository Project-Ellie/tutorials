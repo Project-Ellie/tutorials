{
 "cells": [
  {
   "cell_type": "code",
   "execution_count": 1,
   "metadata": {},
   "outputs": [],
   "source": [
    "from __future__ import division\n",
    "from __future__ import print_function\n",
    "from __future__ import absolute_import"
   ]
  },
  {
   "cell_type": "code",
   "execution_count": 2,
   "metadata": {},
   "outputs": [],
   "source": [
    "import os\n",
    "import pandas as pd\n",
    "import tensorflow as tf\n",
    "import google.datalab.bigquery as dlbq"
   ]
  },
  {
   "cell_type": "code",
   "execution_count": 1,
   "metadata": {},
   "outputs": [],
   "source": [
    "%load_ext autoreload\n",
    "%autoreload 2"
   ]
  },
  {
   "cell_type": "code",
   "execution_count": 3,
   "metadata": {},
   "outputs": [
    {
     "data": {
      "text/plain": [
       "False"
      ]
     },
     "execution_count": 3,
     "metadata": {},
     "output_type": "execute_result"
    }
   ],
   "source": [
    "tf.test.is_built_with_cuda()"
   ]
  },
  {
   "cell_type": "code",
   "execution_count": 4,
   "metadata": {},
   "outputs": [],
   "source": [
    "tf.logging.set_verbosity(tf.logging.INFO)"
   ]
  },
  {
   "cell_type": "markdown",
   "metadata": {},
   "source": [
    "---\n",
    "##### From Jupyter notebook to python package\n",
    "From exploration to production.\n",
    "\n",
    "This little tool dumps a given function to a file with the same name in a certain package"
   ]
  },
  {
   "cell_type": "code",
   "execution_count": 5,
   "metadata": {},
   "outputs": [],
   "source": [
    "PACKAGE=\"./train\"\n",
    "from tools import make_src_dumper\n",
    "write_py = make_src_dumper(PACKAGE)"
   ]
  },
  {
   "cell_type": "markdown",
   "metadata": {},
   "source": [
    "---\n",
    "# Prediction \n"
   ]
  },
  {
   "cell_type": "markdown",
   "metadata": {},
   "source": [
    "#### Signature data for testing"
   ]
  },
  {
   "cell_type": "markdown",
   "metadata": {},
   "source": [
    "First, let's get some test data. Now we need signature data, and that's what we have in Bigquery. Remember? "
   ]
  },
  {
   "cell_type": "code",
   "execution_count": 14,
   "metadata": {},
   "outputs": [
    {
     "name": "stdout",
     "output_type": "stream",
     "text": [
      "\n",
      "    SELECT\n",
      "        DEP_LAT, DEP_LON, DEP_DELAY, MEAN_TEMP_DEP, MEAN_VIS_DEP, WND_SPD_DEP, ARR_LAT, ARR_LON, ARR_DELAY, MEAN_TEMP_ARR, MEAN_VIS_ARR, WND_SPD_ARR, DEP_DOW, DEP_T, ARR, AIRLINE\n",
      "    FROM \n",
      "        `going-tfx.examples.ATL_JUNE_SIGNATURE` \n",
      "    where\n",
      "        MOD(ABS(FARM_FINGERPRINT(\n",
      "            CONCAT(DATE,AIRLINE,ARR)\n",
      "        )) + DEP_T, 1000) >= 0 \n",
      "    and\n",
      "        MOD(ABS(FARM_FINGERPRINT(\n",
      "            CONCAT( DATE, AIRLINE, ARR)\n",
      "        )) + DEP_T, 1000) < 1 \n",
      "    \n",
      "Only 304 examples. Showing first three:\n"
     ]
    },
    {
     "data": {
      "text/html": [
       "<div>\n",
       "<style scoped>\n",
       "    .dataframe tbody tr th:only-of-type {\n",
       "        vertical-align: middle;\n",
       "    }\n",
       "\n",
       "    .dataframe tbody tr th {\n",
       "        vertical-align: top;\n",
       "    }\n",
       "\n",
       "    .dataframe thead th {\n",
       "        text-align: right;\n",
       "    }\n",
       "</style>\n",
       "<table border=\"1\" class=\"dataframe\">\n",
       "  <thead>\n",
       "    <tr style=\"text-align: right;\">\n",
       "      <th></th>\n",
       "      <th>DEP_LAT</th>\n",
       "      <th>DEP_LON</th>\n",
       "      <th>DEP_DELAY</th>\n",
       "      <th>MEAN_TEMP_DEP</th>\n",
       "      <th>MEAN_VIS_DEP</th>\n",
       "      <th>WND_SPD_DEP</th>\n",
       "      <th>ARR_LAT</th>\n",
       "      <th>ARR_LON</th>\n",
       "      <th>ARR_DELAY</th>\n",
       "      <th>MEAN_TEMP_ARR</th>\n",
       "      <th>MEAN_VIS_ARR</th>\n",
       "      <th>WND_SPD_ARR</th>\n",
       "      <th>DEP_DOW</th>\n",
       "      <th>DEP_T</th>\n",
       "      <th>ARR</th>\n",
       "      <th>AIRLINE</th>\n",
       "    </tr>\n",
       "  </thead>\n",
       "  <tbody>\n",
       "    <tr>\n",
       "      <th>0</th>\n",
       "      <td>33.63</td>\n",
       "      <td>-84.42</td>\n",
       "      <td>45.0</td>\n",
       "      <td>75.6</td>\n",
       "      <td>7.4</td>\n",
       "      <td>4.2</td>\n",
       "      <td>27.77</td>\n",
       "      <td>-97.5</td>\n",
       "      <td>41.0</td>\n",
       "      <td>82.2</td>\n",
       "      <td>9.5</td>\n",
       "      <td>10.5</td>\n",
       "      <td>1</td>\n",
       "      <td>2032</td>\n",
       "      <td>CRP</td>\n",
       "      <td>EV</td>\n",
       "    </tr>\n",
       "    <tr>\n",
       "      <th>1</th>\n",
       "      <td>33.63</td>\n",
       "      <td>-84.42</td>\n",
       "      <td>0.0</td>\n",
       "      <td>78.0</td>\n",
       "      <td>8.1</td>\n",
       "      <td>6.0</td>\n",
       "      <td>27.77</td>\n",
       "      <td>-97.5</td>\n",
       "      <td>-7.0</td>\n",
       "      <td>83.2</td>\n",
       "      <td>9.8</td>\n",
       "      <td>5.8</td>\n",
       "      <td>7</td>\n",
       "      <td>1807</td>\n",
       "      <td>CRP</td>\n",
       "      <td>EV</td>\n",
       "    </tr>\n",
       "    <tr>\n",
       "      <th>2</th>\n",
       "      <td>33.63</td>\n",
       "      <td>-84.42</td>\n",
       "      <td>61.0</td>\n",
       "      <td>84.2</td>\n",
       "      <td>9.8</td>\n",
       "      <td>5.2</td>\n",
       "      <td>27.77</td>\n",
       "      <td>-97.5</td>\n",
       "      <td>63.0</td>\n",
       "      <td>82.9</td>\n",
       "      <td>9.5</td>\n",
       "      <td>7.6</td>\n",
       "      <td>5</td>\n",
       "      <td>1838</td>\n",
       "      <td>CRP</td>\n",
       "      <td>EV</td>\n",
       "    </tr>\n",
       "  </tbody>\n",
       "</table>\n",
       "</div>"
      ],
      "text/plain": [
       "   DEP_LAT  DEP_LON  DEP_DELAY  MEAN_TEMP_DEP  MEAN_VIS_DEP  WND_SPD_DEP  \\\n",
       "0    33.63   -84.42       45.0           75.6           7.4          4.2   \n",
       "1    33.63   -84.42        0.0           78.0           8.1          6.0   \n",
       "2    33.63   -84.42       61.0           84.2           9.8          5.2   \n",
       "\n",
       "   ARR_LAT  ARR_LON  ARR_DELAY  MEAN_TEMP_ARR  MEAN_VIS_ARR  WND_SPD_ARR  \\\n",
       "0    27.77    -97.5       41.0           82.2           9.5         10.5   \n",
       "1    27.77    -97.5       -7.0           83.2           9.8          5.8   \n",
       "2    27.77    -97.5       63.0           82.9           9.5          7.6   \n",
       "\n",
       "   DEP_DOW  DEP_T  ARR AIRLINE  \n",
       "0        1   2032  CRP      EV  \n",
       "1        7   1807  CRP      EV  \n",
       "2        5   1838  CRP      EV  "
      ]
     },
     "execution_count": 14,
     "metadata": {},
     "output_type": "execute_result"
    }
   ],
   "source": [
    "from train.model_config import SIGNATURE_FLOAT_COLUMNS\n",
    "from train.model_config import SIGNATURE_INT_COLUMNS\n",
    "from train.model_config import SIGNATURE_STR_COLUMNS\n",
    "from signature_queries import sample_query\n",
    "\n",
    "SIGNATURE_COLUMNS = SIGNATURE_FLOAT_COLUMNS+SIGNATURE_INT_COLUMNS+SIGNATURE_STR_COLUMNS\n",
    "signature_query=sample_query(SIGNATURE_COLUMNS, total=1000)\n",
    "print(signature_query)\n",
    "sample = dlbq.Query(signature_query).execute().result().to_dataframe()\n",
    "print('Only {} examples. Showing first three:'.format(len(sample)))\n",
    "sample[:3]"
   ]
  },
  {
   "cell_type": "code",
   "execution_count": 15,
   "metadata": {},
   "outputs": [
    {
     "name": "stdout",
     "output_type": "stream",
     "text": [
      "{\"WND_SPD_DEP\": 4.2, \"DEP_DELAY\": 45.0, \"ARR_LAT\": 27.77, \"WND_SPD_ARR\": 10.5, \"MEAN_VIS_DEP\": 7.4, \"DEP_T\": 2032, \"MEAN_TEMP_ARR\": 82.2, \"DEP_LON\": -84.42, \"DEP_DOW\": 1, \"MEAN_VIS_ARR\": 9.5, \"ARR\": \"CRP\", \"AIRLINE\": \"EV\", \"MEAN_TEMP_DEP\": 75.6, \"DEP_LAT\": 33.63, \"ARR_LON\": -97.5}"
     ]
    }
   ],
   "source": [
    "import json\n",
    "samplefile='/tmp/test.json'\n",
    "a_record = sample.to_dict(orient='records')[0]\n",
    "a_record.pop('ARR_DELAY')\n",
    "with open(samplefile, 'w') as f:\n",
    "    f.write(json.dumps(a_record))\n",
    "!cat $samplefile"
   ]
  },
  {
   "cell_type": "markdown",
   "metadata": {},
   "source": [
    "---\n",
    "#### Local prediction with gcloud ml-engine"
   ]
  },
  {
   "cell_type": "code",
   "execution_count": 8,
   "metadata": {},
   "outputs": [
    {
     "data": {
      "text/plain": [
       "['gs://going-tfx/full/model/export/exporter/1542977434/',\n",
       " 'gs://going-tfx/full/model/export/exporter/1542977626/',\n",
       " 'gs://going-tfx/full/model/export/exporter/1542977816/',\n",
       " 'gs://going-tfx/full/model/export/exporter/1542978009/',\n",
       " 'gs://going-tfx/full/model/export/exporter/1542978200/']"
      ]
     },
     "execution_count": 8,
     "metadata": {},
     "output_type": "execute_result"
    }
   ],
   "source": [
    "DATASET='full'\n",
    "model_dir='gs://going-tfx/%s/model' % DATASET\n",
    "all_versions = !gsutil ls $model_dir/export/exporter\n",
    "all_versions[1:]"
   ]
  },
  {
   "cell_type": "markdown",
   "metadata": {},
   "source": [
    "Choose your version from the above"
   ]
  },
  {
   "cell_type": "code",
   "execution_count": 16,
   "metadata": {},
   "outputs": [
    {
     "data": {
      "text/plain": [
       "'gs://going-tfx/full/model/export/exporter/1542978200/'"
      ]
     },
     "execution_count": 16,
     "metadata": {},
     "output_type": "execute_result"
    }
   ],
   "source": [
    "latest_model=!gsutil ls gs://going-tfx/$DATASET/model/export/exporter | sort | tail -1\n",
    "latest_model = latest_model[0]\n",
    "latest_model"
   ]
  },
  {
   "cell_type": "code",
   "execution_count": 10,
   "metadata": {},
   "outputs": [
    {
     "name": "stdout",
     "output_type": "stream",
     "text": [
      "\u001b[1;33mWARNING:\u001b[0m 2018-11-23 16:39:35.966262: I tensorflow/core/platform/cpu_feature_guard.cc:141] Your CPU supports instructions that this TensorFlow binary was not compiled to use: AVX2 AVX512F FMA\n",
      "\n",
      "OUTPUT\n",
      "[27.34381866455078]\n"
     ]
    }
   ],
   "source": [
    "!gcloud ml-engine local predict \\\n",
    "  --model-dir=$latest_model \\\n",
    "  --json-instances=/tmp/test.json"
   ]
  },
  {
   "cell_type": "code",
   "execution_count": 11,
   "metadata": {},
   "outputs": [
    {
     "name": "stdout",
     "output_type": "stream",
     "text": [
      "{\"WND_SPD_DEP\": 4.8, \"DEP_DELAY\": 102.0, \"ARR_LAT\": 36.89, \"WND_SPD_ARR\": 7.4, \"MEAN_VIS_DEP\": 8.7, \"DEP_T\": 1728, \"MEAN_TEMP_ARR\": 77.6, \"DEP_LON\": -84.42, \"DEP_DOW\": 4, \"MEAN_VIS_ARR\": 8.9, \"ARR\": \"ORF\", \"AIRLINE\": \"EV\", \"MEAN_TEMP_DEP\": 78.4, \"DEP_LAT\": 33.63, \"ARR_LON\": -76.2}\n",
      "{\"WND_SPD_DEP\": 8.4, \"DEP_DELAY\": -2.0, \"ARR_LAT\": 26.68, \"WND_SPD_ARR\": 4.5, \"MEAN_VIS_DEP\": 8.5, \"DEP_T\": 1605, \"MEAN_TEMP_ARR\": 83.1, \"DEP_LON\": -84.42, \"DEP_DOW\": 4, \"MEAN_VIS_ARR\": 9.3, \"ARR\": \"PBI\", \"AIRLINE\": \"DL\", \"MEAN_TEMP_DEP\": 74.1, \"DEP_LAT\": 33.63, \"ARR_LON\": -80.09}\n"
     ]
    }
   ],
   "source": [
    "import json\n",
    "samplefile='/tmp/test.json'\n",
    "records = sample.to_dict(orient='records')[:20]\n",
    "with open(samplefile, 'w') as f:\n",
    "    for record in records:\n",
    "        record.pop('ARR_DELAY')\n",
    "        f.write(json.dumps(record))\n",
    "        f.write('\\n')\n",
    "!cat $samplefile | tail -2"
   ]
  },
  {
   "cell_type": "markdown",
   "metadata": {},
   "source": [
    "---\n",
    "#### Predicting from within python code"
   ]
  },
  {
   "cell_type": "code",
   "execution_count": 12,
   "metadata": {},
   "outputs": [
    {
     "name": "stdout",
     "output_type": "stream",
     "text": [
      "INFO:tensorflow:Restoring parameters from gs://going-tfx/full/model/export/exporter/1542978200/variables/variables\n"
     ]
    }
   ],
   "source": [
    "estimator = tf.contrib.predictor.from_saved_model(latest_model)"
   ]
  },
  {
   "cell_type": "code",
   "execution_count": 17,
   "metadata": {},
   "outputs": [
    {
     "data": {
      "text/plain": [
       "<matplotlib.axes._subplots.AxesSubplot at 0x7f7a1462f2d0>"
      ]
     },
     "execution_count": 17,
     "metadata": {},
     "output_type": "execute_result"
    },
    {
     "data": {
      "image/png": "[encoded data removed]",
      "text/plain": [
       "<Figure size 432x288 with 1 Axes>"
      ]
     },
     "metadata": {
      "needs_background": "light"
     },
     "output_type": "display_data"
    }
   ],
   "source": [
    "%matplotlib inline\n",
    "compare=sample.copy()\n",
    "predicted = estimator(sample.to_dict(orient='list'))\n",
    "compare['PREDICTED'] = predicted['output']\n",
    "compare.plot.scatter(x='ARR_DELAY', y='PREDICTED')"
   ]
  },
  {
   "cell_type": "code",
   "execution_count": null,
   "metadata": {},
   "outputs": [],
   "source": []
  }
 ],
 "metadata": {
  "kernelspec": {
   "display_name": "Python 2",
   "language": "python",
   "name": "python2"
  },
  "language_info": {
   "codemirror_mode": {
    "name": "ipython",
    "version": 2
   },
   "file_extension": ".py",
   "mimetype": "text/x-python",
   "name": "python",
   "nbconvert_exporter": "python",
   "pygments_lexer": "ipython2",
   "version": "2.7.13"
  }
 },
 "nbformat": 4,
 "nbformat_minor": 2
}
