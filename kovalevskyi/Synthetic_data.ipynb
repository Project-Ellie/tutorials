{
 "cells": [
  {
   "cell_type": "markdown",
   "metadata": {},
   "source": [
    "# Exploring Models With Synthetic Data\n",
    "The advantage of synthetic data is that we know the prior or ground truth and we know exactly how concealed it is. That helps us to determine with certainty that an algorithm is per se capable of discovering the ground truth. If an algorithm fails on the easy task of learning from synthetic data, then it won't be good in real life. The opposite, unfortunately, is not true."
   ]
  },
  {
   "cell_type": "code",
   "execution_count": 52,
   "metadata": {},
   "outputs": [],
   "source": [
    "%matplotlib inline\n",
    "\n",
    "import sys\n",
    "import inspect\n",
    "\n",
    "import pandas as pd\n",
    "import numpy as np\n",
    "import seaborn as sns\n",
    "import tensorflow as tf\n",
    "from tensorflow import feature_column as fc\n",
    "from tools import print_progress, array_in, create_input_data\n",
    "\n",
    "from __future__ import division"
   ]
  },
  {
   "cell_type": "markdown",
   "metadata": {},
   "source": [
    "## Generating Noisy Samples From A Well-Known Ground Truth"
   ]
  },
  {
   "cell_type": "code",
   "execution_count": 2,
   "metadata": {},
   "outputs": [],
   "source": [
    "# create a function of x that returns random samples around a*x+b\n",
    "def make_lin(a, b, rnd):\n",
    "    def _f_a(x):\n",
    "        mu = a*x + b\n",
    "        return rnd(mu)\n",
    "    return _f_a"
   ]
  },
  {
   "cell_type": "markdown",
   "metadata": {},
   "source": [
    "---\n",
    "Two linear but noisy signals:"
   ]
  },
  {
   "cell_type": "code",
   "execution_count": 3,
   "metadata": {},
   "outputs": [],
   "source": [
    "f_a = make_lin(2, 1, lambda mu: np.random.normal(loc=mu, scale=1.0))\n",
    "f_b = make_lin(-.5, -1.5, lambda mu: np.random.normal(loc=mu, scale=1.0))"
   ]
  },
  {
   "cell_type": "markdown",
   "metadata": {},
   "source": [
    "---\n",
    "A look at one of the signals:"
   ]
  },
  {
   "cell_type": "code",
   "execution_count": 4,
   "metadata": {},
   "outputs": [
    {
     "data": {
      "image/png": "[encoded data removed]",
      "text/plain": [
       "<Figure size 432x288 with 1 Axes>"
      ]
     },
     "metadata": {},
     "output_type": "display_data"
    }
   ],
   "source": [
    "df = pd.DataFrame([f_a(1) for i in range(1000)])\n",
    "df.plot.hist(bins=20);"
   ]
  },
  {
   "cell_type": "markdown",
   "metadata": {},
   "source": [
    "---\n",
    "Now we create a data set/frame representing $f_a(x)+f_b(y)$ as a random variable that depends on random variables $x$ and $y$"
   ]
  },
  {
   "cell_type": "code",
   "execution_count": 5,
   "metadata": {},
   "outputs": [],
   "source": [
    "def create_data_frame_v1(size):\n",
    "    x_data = np.random.uniform(high=5, low=-5, size=size)\n",
    "    y_data = np.random.uniform(high=5, low=-5, size=size)\n",
    "    f_data = f_a(x_data) + f_b(y_data)\n",
    "    f_perf = -.5 * y_data - 1.5 + 2 * x_data + 1\n",
    "    df = pd.DataFrame({'x': x_data, 'y': y_data, 'f': f_data, 'p': f_perf})\n",
    "    return df"
   ]
  },
  {
   "cell_type": "markdown",
   "metadata": {},
   "source": [
    "In total, this is equivalent to saying that the ground truth is:\n",
    "\n",
    "$$ f(x, y) = 2x - \\frac{1}{2} y - \\frac{1}{2} $$\n"
   ]
  },
  {
   "cell_type": "code",
   "execution_count": 6,
   "metadata": {},
   "outputs": [],
   "source": [
    "NUM_RECORDS = 10000"
   ]
  },
  {
   "cell_type": "code",
   "execution_count": 7,
   "metadata": {},
   "outputs": [
    {
     "data": {
      "text/html": [
       "<div>\n",
       "<style scoped>\n",
       "    .dataframe tbody tr th:only-of-type {\n",
       "        vertical-align: middle;\n",
       "    }\n",
       "\n",
       "    .dataframe tbody tr th {\n",
       "        vertical-align: top;\n",
       "    }\n",
       "\n",
       "    .dataframe thead th {\n",
       "        text-align: right;\n",
       "    }\n",
       "</style>\n",
       "<table border=\"1\" class=\"dataframe\">\n",
       "  <thead>\n",
       "    <tr style=\"text-align: right;\">\n",
       "      <th></th>\n",
       "      <th>x</th>\n",
       "      <th>y</th>\n",
       "      <th>f</th>\n",
       "      <th>p</th>\n",
       "    </tr>\n",
       "  </thead>\n",
       "  <tbody>\n",
       "    <tr>\n",
       "      <th>0</th>\n",
       "      <td>3.399682</td>\n",
       "      <td>-0.400144</td>\n",
       "      <td>9.614239</td>\n",
       "      <td>6.499435</td>\n",
       "    </tr>\n",
       "    <tr>\n",
       "      <th>1</th>\n",
       "      <td>-1.836593</td>\n",
       "      <td>1.228568</td>\n",
       "      <td>-5.998465</td>\n",
       "      <td>-4.787471</td>\n",
       "    </tr>\n",
       "    <tr>\n",
       "      <th>2</th>\n",
       "      <td>-4.130946</td>\n",
       "      <td>0.613711</td>\n",
       "      <td>-7.276137</td>\n",
       "      <td>-9.068748</td>\n",
       "    </tr>\n",
       "    <tr>\n",
       "      <th>3</th>\n",
       "      <td>1.340600</td>\n",
       "      <td>1.570992</td>\n",
       "      <td>-0.682609</td>\n",
       "      <td>1.395703</td>\n",
       "    </tr>\n",
       "    <tr>\n",
       "      <th>4</th>\n",
       "      <td>4.207173</td>\n",
       "      <td>2.263344</td>\n",
       "      <td>8.689191</td>\n",
       "      <td>6.782673</td>\n",
       "    </tr>\n",
       "  </tbody>\n",
       "</table>\n",
       "</div>"
      ],
      "text/plain": [
       "          x         y         f         p\n",
       "0  3.399682 -0.400144  9.614239  6.499435\n",
       "1 -1.836593  1.228568 -5.998465 -4.787471\n",
       "2 -4.130946  0.613711 -7.276137 -9.068748\n",
       "3  1.340600  1.570992 -0.682609  1.395703\n",
       "4  4.207173  2.263344  8.689191  6.782673"
      ]
     },
     "execution_count": 7,
     "metadata": {},
     "output_type": "execute_result"
    }
   ],
   "source": [
    "df_train = create_data_frame_v1(NUM_RECORDS)\n",
    "df_train[:5]"
   ]
  },
  {
   "cell_type": "markdown",
   "metadata": {},
   "source": [
    "## Building A Linear Regressor From Scratch With Tensorflow\n",
    "Let's train a self-made tensorflow linear regressor with the synthetic data to see whether it finds the coefficients above"
   ]
  },
  {
   "cell_type": "code",
   "execution_count": 8,
   "metadata": {},
   "outputs": [
    {
     "name": "stdout",
     "output_type": "stream",
     "text": [
      "OK. Was already closed or didn't exist. That's fine.\n"
     ]
    }
   ],
   "source": [
    "try:\n",
    "    sess.close()\n",
    "except:\n",
    "    print(\"OK. Was already closed or didn't exist. That's fine.\")\n",
    "    \n",
    "sess = tf.InteractiveSession()"
   ]
  },
  {
   "cell_type": "markdown",
   "metadata": {},
   "source": [
    "The learning rate"
   ]
  },
  {
   "cell_type": "code",
   "execution_count": 9,
   "metadata": {},
   "outputs": [],
   "source": [
    "lr = .01"
   ]
  },
  {
   "cell_type": "markdown",
   "metadata": {},
   "source": [
    "---\n",
    "### Creating The Tensorflow Graph"
   ]
  },
  {
   "cell_type": "code",
   "execution_count": 10,
   "metadata": {},
   "outputs": [],
   "source": [
    "class Linear():\n",
    "    def __init__(self, x_dim, lr):\n",
    "\n",
    "        # Variables for the parameters: weights M and bias b\n",
    "        self.M = tf.Variable(tf.zeros(shape=(1, x_dim)))\n",
    "        self.b = tf.Variable(0.)\n",
    "\n",
    "        # Placeholders for x and labels\n",
    "        self.x = tf.placeholder(shape=(x_dim,None), dtype=tf.float32)\n",
    "        self.lbls = tf.placeholder(shape=(1,None), dtype=tf.float32)\n",
    "\n",
    "        # The prediction and the distance (loss)\n",
    "        self.f = tf.matmul(self.M, self.x) + self.b\n",
    "        self.d = tf.losses.mean_squared_error(self.lbls, self.f)\n",
    "\n",
    "        # The gradients\n",
    "        self.nM = tf.gradients(self.d, self.M)\n",
    "        self.nb = tf.gradients(self.d, self.b)\n",
    "\n",
    "        # The optimizers\n",
    "        self.aM = tf.assign_add( self.M, tf.multiply(self.nM[0],-lr))\n",
    "        self.ab = tf.assign_add( self.b, tf.multiply(self.nb[0], -lr))\n",
    "\n",
    "        # The initializer\n",
    "        self.init = tf.global_variables_initializer()\n",
    "    \n",
    "    def train(self, sess, x_data, labels_data, num_steps):        \n",
    "        sess.run(self.init)\n",
    "        for i in range(num_steps):\n",
    "            _, dist, _, _, _, _ = sess.run([self.f, self.d, self.nM, self.nb, self.aM, self.ab], \n",
    "                                           feed_dict = {self.x: x_data, self.lbls: labels_data})\n",
    "            print_progress(\"- Loss: {}\", dist)\n",
    "        return dist\n",
    "    \n",
    "    def predict(self, sess, x_data):\n",
    "        pred = sess.run(self.f, feed_dict={self.x: x_data})\n",
    "        return pred"
   ]
  },
  {
   "cell_type": "markdown",
   "metadata": {},
   "source": [
    "---\n",
    "### Perform The Training And Examine The Results"
   ]
  },
  {
   "cell_type": "code",
   "execution_count": 11,
   "metadata": {},
   "outputs": [],
   "source": [
    "input_data = [list(df_train['x']), list(df_train['y'])]\n",
    "lbls_data = [list(df_train['f'])]"
   ]
  },
  {
   "cell_type": "code",
   "execution_count": 12,
   "metadata": {},
   "outputs": [
    {
     "name": "stdout",
     "output_type": "stream",
     "text": [
      "- Loss: 2.0531539916992188"
     ]
    },
    {
     "data": {
      "text/plain": [
       "2.053154"
      ]
     },
     "execution_count": 12,
     "metadata": {},
     "output_type": "execute_result"
    }
   ],
   "source": [
    "linear1 = Linear(x_dim=2, lr=0.01)\n",
    "linear1.train(sess, input_data, lbls_data, 1000)"
   ]
  },
  {
   "cell_type": "markdown",
   "metadata": {},
   "source": [
    "We expect the parameters to be close to $2, -0.5, -0.5$:"
   ]
  },
  {
   "cell_type": "code",
   "execution_count": 13,
   "metadata": {},
   "outputs": [
    {
     "data": {
      "text/plain": [
       "[array([[ 2.001272  , -0.50020266]], dtype=float32), -0.5086103]"
      ]
     },
     "execution_count": 13,
     "metadata": {},
     "output_type": "execute_result"
    }
   ],
   "source": [
    "sess.run([linear1.M, linear1.b])"
   ]
  },
  {
   "cell_type": "markdown",
   "metadata": {},
   "source": [
    "---\n",
    "Now the tensor f represents the hypothesis. Let's evaluate it with some fresh test data"
   ]
  },
  {
   "cell_type": "code",
   "execution_count": 14,
   "metadata": {},
   "outputs": [],
   "source": [
    "df_test = create_data_frame_v1(size=10000)\n",
    "test_data = [list(df_test['x']), list(df_test['y'])]"
   ]
  },
  {
   "cell_type": "code",
   "execution_count": 15,
   "metadata": {},
   "outputs": [],
   "source": [
    "predictions = linear1.predict(sess=sess, x_data=test_data)"
   ]
  },
  {
   "cell_type": "code",
   "execution_count": 16,
   "metadata": {},
   "outputs": [
    {
     "data": {
      "text/html": [
       "<div>\n",
       "<style scoped>\n",
       "    .dataframe tbody tr th:only-of-type {\n",
       "        vertical-align: middle;\n",
       "    }\n",
       "\n",
       "    .dataframe tbody tr th {\n",
       "        vertical-align: top;\n",
       "    }\n",
       "\n",
       "    .dataframe thead th {\n",
       "        text-align: right;\n",
       "    }\n",
       "</style>\n",
       "<table border=\"1\" class=\"dataframe\">\n",
       "  <thead>\n",
       "    <tr style=\"text-align: right;\">\n",
       "      <th></th>\n",
       "      <th>x</th>\n",
       "      <th>y</th>\n",
       "      <th>f</th>\n",
       "      <th>p</th>\n",
       "      <th>predictions</th>\n",
       "    </tr>\n",
       "  </thead>\n",
       "  <tbody>\n",
       "    <tr>\n",
       "      <th>0</th>\n",
       "      <td>4.421837</td>\n",
       "      <td>2.721789</td>\n",
       "      <td>7.242147</td>\n",
       "      <td>6.982780</td>\n",
       "      <td>6.979243</td>\n",
       "    </tr>\n",
       "    <tr>\n",
       "      <th>1</th>\n",
       "      <td>4.632382</td>\n",
       "      <td>-4.875022</td>\n",
       "      <td>11.584552</td>\n",
       "      <td>11.202274</td>\n",
       "      <td>11.200543</td>\n",
       "    </tr>\n",
       "    <tr>\n",
       "      <th>2</th>\n",
       "      <td>0.912983</td>\n",
       "      <td>2.531394</td>\n",
       "      <td>0.848731</td>\n",
       "      <td>0.060269</td>\n",
       "      <td>0.052307</td>\n",
       "    </tr>\n",
       "    <tr>\n",
       "      <th>3</th>\n",
       "      <td>-3.086742</td>\n",
       "      <td>-2.603373</td>\n",
       "      <td>-6.433733</td>\n",
       "      <td>-5.371798</td>\n",
       "      <td>-5.383807</td>\n",
       "    </tr>\n",
       "    <tr>\n",
       "      <th>4</th>\n",
       "      <td>-2.583154</td>\n",
       "      <td>-0.700489</td>\n",
       "      <td>-4.770781</td>\n",
       "      <td>-5.316064</td>\n",
       "      <td>-5.327818</td>\n",
       "    </tr>\n",
       "    <tr>\n",
       "      <th>5</th>\n",
       "      <td>-3.104859</td>\n",
       "      <td>-3.152265</td>\n",
       "      <td>-6.209662</td>\n",
       "      <td>-5.133586</td>\n",
       "      <td>-5.145506</td>\n",
       "    </tr>\n",
       "    <tr>\n",
       "      <th>6</th>\n",
       "      <td>-3.323252</td>\n",
       "      <td>4.547638</td>\n",
       "      <td>-13.472069</td>\n",
       "      <td>-9.420323</td>\n",
       "      <td>-9.434083</td>\n",
       "    </tr>\n",
       "    <tr>\n",
       "      <th>7</th>\n",
       "      <td>2.887259</td>\n",
       "      <td>1.600672</td>\n",
       "      <td>3.725684</td>\n",
       "      <td>4.474182</td>\n",
       "      <td>4.468920</td>\n",
       "    </tr>\n",
       "    <tr>\n",
       "      <th>8</th>\n",
       "      <td>2.785658</td>\n",
       "      <td>-4.228159</td>\n",
       "      <td>6.173240</td>\n",
       "      <td>7.185396</td>\n",
       "      <td>7.181186</td>\n",
       "    </tr>\n",
       "    <tr>\n",
       "      <th>9</th>\n",
       "      <td>-2.316506</td>\n",
       "      <td>-4.560759</td>\n",
       "      <td>-3.414165</td>\n",
       "      <td>-2.852632</td>\n",
       "      <td>-2.863264</td>\n",
       "    </tr>\n",
       "  </tbody>\n",
       "</table>\n",
       "</div>"
      ],
      "text/plain": [
       "          x         y          f          p  predictions\n",
       "0  4.421837  2.721789   7.242147   6.982780     6.979243\n",
       "1  4.632382 -4.875022  11.584552  11.202274    11.200543\n",
       "2  0.912983  2.531394   0.848731   0.060269     0.052307\n",
       "3 -3.086742 -2.603373  -6.433733  -5.371798    -5.383807\n",
       "4 -2.583154 -0.700489  -4.770781  -5.316064    -5.327818\n",
       "5 -3.104859 -3.152265  -6.209662  -5.133586    -5.145506\n",
       "6 -3.323252  4.547638 -13.472069  -9.420323    -9.434083\n",
       "7  2.887259  1.600672   3.725684   4.474182     4.468920\n",
       "8  2.785658 -4.228159   6.173240   7.185396     7.181186\n",
       "9 -2.316506 -4.560759  -3.414165  -2.852632    -2.863264"
      ]
     },
     "execution_count": 16,
     "metadata": {},
     "output_type": "execute_result"
    }
   ],
   "source": [
    "df_test['predictions'] = predictions[0]\n",
    "df_test[:10]"
   ]
  },
  {
   "cell_type": "markdown",
   "metadata": {},
   "source": [
    "We can see without surprise that the predictions are typically closer to the ground truth than to the noisy signal. This means we have enough data to average out the noise and reveal the ground truth. A look at the distribution of the errors reveals pure noise around 0. That's typically a good sign that our network has understood the data."
   ]
  },
  {
   "cell_type": "code",
   "execution_count": 17,
   "metadata": {},
   "outputs": [
    {
     "data": {
      "image/png": "[encoded data removed]",
      "text/plain": [
       "<Figure size 432x288 with 1 Axes>"
      ]
     },
     "metadata": {},
     "output_type": "display_data"
    }
   ],
   "source": [
    "df_errors = df_test['f'] - df_test['predictions']\n",
    "df_errors.plot.hist(bins=100);"
   ]
  },
  {
   "cell_type": "markdown",
   "metadata": {},
   "source": [
    "## The Tensorflow LinearRegressor Estimator\n",
    "Now we'll reproduce this with the high-level estimator API. Surprisingly, the calculations here take much longer than in the basic approach above"
   ]
  },
  {
   "cell_type": "code",
   "execution_count": 18,
   "metadata": {},
   "outputs": [],
   "source": [
    "input_fn = tf.estimator.inputs.pandas_input_fn(df_train, shuffle=True, num_epochs=100, y=df_train['f'], batch_size=NUM_RECORDS)\n",
    "feature_columns = [\n",
    "    fc.numeric_column('x', dtype=tf.float32),\n",
    "    fc.numeric_column('y', dtype=tf.float32)\n",
    "]\n",
    "config = tf.estimator.RunConfig(log_step_count_steps=5)"
   ]
  },
  {
   "cell_type": "code",
   "execution_count": 19,
   "metadata": {},
   "outputs": [
    {
     "name": "stdout",
     "output_type": "stream",
     "text": [
      "WARNING:tensorflow:Using temporary folder as model directory: /var/folders/cy/7hf1bx3113n2tbn4fvbjx0pc0000gn/T/tmp183sakuq\n",
      "INFO:tensorflow:Using config: {'_model_dir': '/var/folders/cy/7hf1bx3113n2tbn4fvbjx0pc0000gn/T/tmp183sakuq', '_tf_random_seed': None, '_save_summary_steps': 100, '_save_checkpoints_steps': None, '_save_checkpoints_secs': 600, '_session_config': None, '_keep_checkpoint_max': 5, '_keep_checkpoint_every_n_hours': 10000, '_log_step_count_steps': 5, '_train_distribute': None, '_service': None, '_cluster_spec': <tensorflow.python.training.server_lib.ClusterSpec object at 0x12b668780>, '_task_type': 'worker', '_task_id': 0, '_global_id_in_cluster': 0, '_master': '', '_evaluation_master': '', '_is_chief': True, '_num_ps_replicas': 0, '_num_worker_replicas': 1}\n"
     ]
    }
   ],
   "source": [
    "regressor = tf.estimator.LinearRegressor( feature_columns=feature_columns, config=config )"
   ]
  },
  {
   "cell_type": "markdown",
   "metadata": {},
   "source": [
    "---\n",
    "Perform the training on the regressor"
   ]
  },
  {
   "cell_type": "code",
   "execution_count": 20,
   "metadata": {},
   "outputs": [
    {
     "name": "stdout",
     "output_type": "stream",
     "text": [
      "INFO:tensorflow:Calling model_fn.\n",
      "INFO:tensorflow:Done calling model_fn.\n",
      "INFO:tensorflow:Create CheckpointSaverHook.\n",
      "INFO:tensorflow:Graph was finalized.\n",
      "INFO:tensorflow:Running local_init_op.\n",
      "INFO:tensorflow:Done running local_init_op.\n",
      "INFO:tensorflow:Saving checkpoints for 1 into /var/folders/cy/7hf1bx3113n2tbn4fvbjx0pc0000gn/T/tmp183sakuq/model.ckpt.\n",
      "INFO:tensorflow:loss = 377856.8, step = 1\n",
      "INFO:tensorflow:global_step/sec: 7.87774\n",
      "INFO:tensorflow:loss = 183399.25, step = 6 (0.636 sec)\n",
      "INFO:tensorflow:global_step/sec: 10.3908\n",
      "INFO:tensorflow:loss = 123422.55, step = 11 (0.481 sec)\n",
      "INFO:tensorflow:global_step/sec: 10.5092\n",
      "INFO:tensorflow:loss = 89214.734, step = 16 (0.475 sec)\n",
      "INFO:tensorflow:global_step/sec: 8.42879\n",
      "INFO:tensorflow:loss = 67536.66, step = 21 (0.594 sec)\n",
      "INFO:tensorflow:global_step/sec: 8.45852\n",
      "INFO:tensorflow:loss = 53648.39, step = 26 (0.591 sec)\n",
      "INFO:tensorflow:global_step/sec: 8.44646\n",
      "INFO:tensorflow:loss = 44181.844, step = 31 (0.592 sec)\n",
      "INFO:tensorflow:global_step/sec: 9.05176\n",
      "INFO:tensorflow:loss = 37611.24, step = 36 (0.552 sec)\n",
      "INFO:tensorflow:global_step/sec: 9.27736\n",
      "INFO:tensorflow:loss = 32533.021, step = 41 (0.539 sec)\n",
      "INFO:tensorflow:global_step/sec: 11.3518\n",
      "INFO:tensorflow:loss = 29356.66, step = 46 (0.440 sec)\n",
      "INFO:tensorflow:global_step/sec: 11.4399\n",
      "INFO:tensorflow:loss = 26966.238, step = 51 (0.437 sec)\n",
      "INFO:tensorflow:global_step/sec: 15.0994\n",
      "INFO:tensorflow:loss = 24959.41, step = 56 (0.331 sec)\n",
      "INFO:tensorflow:global_step/sec: 14.7811\n",
      "INFO:tensorflow:loss = 23753.627, step = 61 (0.338 sec)\n",
      "INFO:tensorflow:global_step/sec: 18.1627\n",
      "INFO:tensorflow:loss = 22974.166, step = 66 (0.275 sec)\n",
      "INFO:tensorflow:global_step/sec: 18.3853\n",
      "INFO:tensorflow:loss = 22359.207, step = 71 (0.272 sec)\n",
      "INFO:tensorflow:global_step/sec: 18.2519\n",
      "INFO:tensorflow:loss = 21731.098, step = 76 (0.274 sec)\n",
      "INFO:tensorflow:global_step/sec: 18.4553\n",
      "INFO:tensorflow:loss = 21335.025, step = 81 (0.271 sec)\n",
      "INFO:tensorflow:global_step/sec: 18.6286\n",
      "INFO:tensorflow:loss = 21239.354, step = 86 (0.269 sec)\n",
      "INFO:tensorflow:global_step/sec: 18.1213\n",
      "INFO:tensorflow:loss = 21035.191, step = 91 (0.276 sec)\n",
      "INFO:tensorflow:global_step/sec: 18.1278\n",
      "INFO:tensorflow:loss = 20808.258, step = 96 (0.276 sec)\n",
      "INFO:tensorflow:Saving checkpoints for 100 into /var/folders/cy/7hf1bx3113n2tbn4fvbjx0pc0000gn/T/tmp183sakuq/model.ckpt.\n",
      "INFO:tensorflow:Loss for final step: 20760.562.\n"
     ]
    },
    {
     "data": {
      "text/plain": [
       "<tensorflow.python.estimator.canned.linear.LinearRegressor at 0x12b668b70>"
      ]
     },
     "execution_count": 20,
     "metadata": {},
     "output_type": "execute_result"
    }
   ],
   "source": [
    "regressor.train(input_fn)"
   ]
  },
  {
   "cell_type": "markdown",
   "metadata": {},
   "source": [
    "---\n",
    "### Comparing The Results"
   ]
  },
  {
   "cell_type": "code",
   "execution_count": 21,
   "metadata": {},
   "outputs": [],
   "source": [
    "input_fn_test = tf.estimator.inputs.pandas_input_fn(df_test, shuffle=False)"
   ]
  },
  {
   "cell_type": "code",
   "execution_count": 22,
   "metadata": {},
   "outputs": [],
   "source": [
    "generator = regressor.predict(input_fn_test)"
   ]
  },
  {
   "cell_type": "code",
   "execution_count": 23,
   "metadata": {},
   "outputs": [
    {
     "name": "stdout",
     "output_type": "stream",
     "text": [
      "INFO:tensorflow:Calling model_fn.\n",
      "INFO:tensorflow:Done calling model_fn.\n",
      "INFO:tensorflow:Graph was finalized.\n",
      "INFO:tensorflow:Restoring parameters from /var/folders/cy/7hf1bx3113n2tbn4fvbjx0pc0000gn/T/tmp183sakuq/model.ckpt-100\n",
      "INFO:tensorflow:Running local_init_op.\n",
      "INFO:tensorflow:Done running local_init_op.\n"
     ]
    },
    {
     "data": {
      "text/html": [
       "<div>\n",
       "<style scoped>\n",
       "    .dataframe tbody tr th:only-of-type {\n",
       "        vertical-align: middle;\n",
       "    }\n",
       "\n",
       "    .dataframe tbody tr th {\n",
       "        vertical-align: top;\n",
       "    }\n",
       "\n",
       "    .dataframe thead th {\n",
       "        text-align: right;\n",
       "    }\n",
       "</style>\n",
       "<table border=\"1\" class=\"dataframe\">\n",
       "  <thead>\n",
       "    <tr style=\"text-align: right;\">\n",
       "      <th></th>\n",
       "      <th>x</th>\n",
       "      <th>y</th>\n",
       "      <th>f</th>\n",
       "      <th>p</th>\n",
       "      <th>predictions</th>\n",
       "      <th>pred_estimator</th>\n",
       "    </tr>\n",
       "  </thead>\n",
       "  <tbody>\n",
       "    <tr>\n",
       "      <th>0</th>\n",
       "      <td>4.421837</td>\n",
       "      <td>2.721789</td>\n",
       "      <td>7.242147</td>\n",
       "      <td>6.982780</td>\n",
       "      <td>6.979243</td>\n",
       "      <td>6.737907</td>\n",
       "    </tr>\n",
       "    <tr>\n",
       "      <th>1</th>\n",
       "      <td>4.632382</td>\n",
       "      <td>-4.875022</td>\n",
       "      <td>11.584552</td>\n",
       "      <td>11.202274</td>\n",
       "      <td>11.200543</td>\n",
       "      <td>10.947616</td>\n",
       "    </tr>\n",
       "    <tr>\n",
       "      <th>2</th>\n",
       "      <td>0.912983</td>\n",
       "      <td>2.531394</td>\n",
       "      <td>0.848731</td>\n",
       "      <td>0.060269</td>\n",
       "      <td>0.052307</td>\n",
       "      <td>0.003874</td>\n",
       "    </tr>\n",
       "    <tr>\n",
       "      <th>3</th>\n",
       "      <td>-3.086742</td>\n",
       "      <td>-2.603373</td>\n",
       "      <td>-6.433733</td>\n",
       "      <td>-5.371798</td>\n",
       "      <td>-5.383807</td>\n",
       "      <td>-5.212363</td>\n",
       "    </tr>\n",
       "    <tr>\n",
       "      <th>4</th>\n",
       "      <td>-2.583154</td>\n",
       "      <td>-0.700489</td>\n",
       "      <td>-4.770781</td>\n",
       "      <td>-5.316064</td>\n",
       "      <td>-5.327818</td>\n",
       "      <td>-5.184055</td>\n",
       "    </tr>\n",
       "    <tr>\n",
       "      <th>5</th>\n",
       "      <td>-3.104859</td>\n",
       "      <td>-3.152265</td>\n",
       "      <td>-6.209662</td>\n",
       "      <td>-5.133586</td>\n",
       "      <td>-5.145506</td>\n",
       "      <td>-4.973069</td>\n",
       "    </tr>\n",
       "    <tr>\n",
       "      <th>6</th>\n",
       "      <td>-3.323252</td>\n",
       "      <td>4.547638</td>\n",
       "      <td>-13.472069</td>\n",
       "      <td>-9.420323</td>\n",
       "      <td>-9.434083</td>\n",
       "      <td>-9.249619</td>\n",
       "    </tr>\n",
       "    <tr>\n",
       "      <th>7</th>\n",
       "      <td>2.887259</td>\n",
       "      <td>1.600672</td>\n",
       "      <td>3.725684</td>\n",
       "      <td>4.474182</td>\n",
       "      <td>4.468920</td>\n",
       "      <td>4.311946</td>\n",
       "    </tr>\n",
       "    <tr>\n",
       "      <th>8</th>\n",
       "      <td>2.785658</td>\n",
       "      <td>-4.228159</td>\n",
       "      <td>6.173240</td>\n",
       "      <td>7.185396</td>\n",
       "      <td>7.181186</td>\n",
       "      <td>7.029784</td>\n",
       "    </tr>\n",
       "    <tr>\n",
       "      <th>9</th>\n",
       "      <td>-2.316506</td>\n",
       "      <td>-4.560759</td>\n",
       "      <td>-3.414165</td>\n",
       "      <td>-2.852632</td>\n",
       "      <td>-2.863264</td>\n",
       "      <td>-2.734170</td>\n",
       "    </tr>\n",
       "  </tbody>\n",
       "</table>\n",
       "</div>"
      ],
      "text/plain": [
       "          x         y          f          p  predictions  pred_estimator\n",
       "0  4.421837  2.721789   7.242147   6.982780     6.979243        6.737907\n",
       "1  4.632382 -4.875022  11.584552  11.202274    11.200543       10.947616\n",
       "2  0.912983  2.531394   0.848731   0.060269     0.052307        0.003874\n",
       "3 -3.086742 -2.603373  -6.433733  -5.371798    -5.383807       -5.212363\n",
       "4 -2.583154 -0.700489  -4.770781  -5.316064    -5.327818       -5.184055\n",
       "5 -3.104859 -3.152265  -6.209662  -5.133586    -5.145506       -4.973069\n",
       "6 -3.323252  4.547638 -13.472069  -9.420323    -9.434083       -9.249619\n",
       "7  2.887259  1.600672   3.725684   4.474182     4.468920        4.311946\n",
       "8  2.785658 -4.228159   6.173240   7.185396     7.181186        7.029784\n",
       "9 -2.316506 -4.560759  -3.414165  -2.852632    -2.863264       -2.734170"
      ]
     },
     "execution_count": 23,
     "metadata": {},
     "output_type": "execute_result"
    }
   ],
   "source": [
    "pred_estimator = [f['predictions'][0] for f in generator]\n",
    "df_test['pred_estimator'] = pred_estimator\n",
    "df_test[:10]"
   ]
  },
  {
   "cell_type": "markdown",
   "metadata": {},
   "source": [
    "We see that the pre-canned estimator arrives at (almost) the same results as our hand-made linear regressor. Not that we had a doubt, though..."
   ]
  },
  {
   "cell_type": "markdown",
   "metadata": {},
   "source": [
    "---\n",
    "## Learning From Categorical Data"
   ]
  },
  {
   "cell_type": "markdown",
   "metadata": {},
   "source": [
    "Let's now assume that the ground truth is a totally unexpected function of the week day and time of day. That could happen e.g., if you measure the humidity and fail to realize that your sensor is near a dry-cleaner's. Let's assume the dry-cleaner's have peek hours on Mon, Tue, Wed from 18:00h to 21:00 and Fri, Sat from 14:00h to 16:00h. During those hours humidity is significantly higher due to the steam produced there. \n",
    "\n",
    "First, let's create a dataset that reflects that situation. Day of week and hour of day shall be represented by categorical data. "
   ]
  },
  {
   "cell_type": "markdown",
   "metadata": {},
   "source": [
    "### Creating a new dataframe with days of week and hour-of-day columns"
   ]
  },
  {
   "cell_type": "code",
   "execution_count": 24,
   "metadata": {},
   "outputs": [],
   "source": [
    "NUM_RECORDS = 20000"
   ]
  },
  {
   "cell_type": "code",
   "execution_count": 25,
   "metadata": {},
   "outputs": [],
   "source": [
    "# create a function of x that returns random samples around a constant, if the hour of week \n",
    "conditions = np.array([\n",
    "    (0, 18), (0, 19), (0, 20), (0, 21), # Mondays\n",
    "    (1, 18), (1, 19), (1, 20), (1, 21), # Tuesdays\n",
    "    (2, 18), (2, 19), (2, 20), (2, 21), # Wednesdays\n",
    "    # closed on Thursdays\n",
    "    (4, 14), (4, 15), (4, 16),          # Fridays\n",
    "    (5, 14), (5, 15), (5, 16)           # Saturdays\n",
    "    # closed on Sundays\n",
    "    ])\n",
    "\n",
    "def make_noisy_amplitude_function(amplitude):\n",
    "    def _f(c1, c2):\n",
    "        zipped = zip(c1,c2)\n",
    "        res = array_in(zipped, conditions)        \n",
    "        return res * (np.random.normal( 0 * res, .2 ) + amplitude)\n",
    "    return _f"
   ]
  },
  {
   "cell_type": "code",
   "execution_count": 26,
   "metadata": {},
   "outputs": [],
   "source": [
    "def create_data_frame_v2(size, amplitude=5.0):\n",
    "    x_data = np.random.uniform(high=5, low=-5, size=size)\n",
    "    y_data = np.random.uniform(high=5, low=-5, size=size)\n",
    "    dow_data = np.random.randint(7, size=size)\n",
    "    hod_data = np.random.randint(24, size=size)\n",
    "    f_data = f_a(x_data) + f_b(y_data)\n",
    "    \n",
    "    f_special = make_noisy_amplitude_function(amplitude)(dow_data, hod_data)\n",
    "\n",
    "    f_total = f_data + f_special\n",
    "    f_perf = -.5 * y_data - 1.5 + 2 * x_data + 1\n",
    "    df = pd.DataFrame({'x': x_data, 'y': y_data, 'dow': dow_data, 'hod': hod_data, 'f_orig': f_data, 'p': f_perf, 'special': f_special, 'f': f_total})\n",
    "    return df"
   ]
  },
  {
   "cell_type": "code",
   "execution_count": 27,
   "metadata": {},
   "outputs": [
    {
     "data": {
      "text/html": [
       "<div>\n",
       "<style scoped>\n",
       "    .dataframe tbody tr th:only-of-type {\n",
       "        vertical-align: middle;\n",
       "    }\n",
       "\n",
       "    .dataframe tbody tr th {\n",
       "        vertical-align: top;\n",
       "    }\n",
       "\n",
       "    .dataframe thead th {\n",
       "        text-align: right;\n",
       "    }\n",
       "</style>\n",
       "<table border=\"1\" class=\"dataframe\">\n",
       "  <thead>\n",
       "    <tr style=\"text-align: right;\">\n",
       "      <th></th>\n",
       "      <th>x</th>\n",
       "      <th>y</th>\n",
       "      <th>dow</th>\n",
       "      <th>hod</th>\n",
       "      <th>f_orig</th>\n",
       "      <th>p</th>\n",
       "      <th>special</th>\n",
       "      <th>f</th>\n",
       "    </tr>\n",
       "  </thead>\n",
       "  <tbody>\n",
       "    <tr>\n",
       "      <th>0</th>\n",
       "      <td>0.434463</td>\n",
       "      <td>2.611624</td>\n",
       "      <td>0</td>\n",
       "      <td>14</td>\n",
       "      <td>-0.723552</td>\n",
       "      <td>-0.936887</td>\n",
       "      <td>0.000000</td>\n",
       "      <td>-0.723552</td>\n",
       "    </tr>\n",
       "    <tr>\n",
       "      <th>1</th>\n",
       "      <td>-0.515673</td>\n",
       "      <td>1.674799</td>\n",
       "      <td>0</td>\n",
       "      <td>12</td>\n",
       "      <td>-3.378942</td>\n",
       "      <td>-2.368745</td>\n",
       "      <td>0.000000</td>\n",
       "      <td>-3.378942</td>\n",
       "    </tr>\n",
       "    <tr>\n",
       "      <th>2</th>\n",
       "      <td>-3.762068</td>\n",
       "      <td>-0.257951</td>\n",
       "      <td>3</td>\n",
       "      <td>20</td>\n",
       "      <td>-6.573010</td>\n",
       "      <td>-7.895161</td>\n",
       "      <td>0.000000</td>\n",
       "      <td>-6.573010</td>\n",
       "    </tr>\n",
       "    <tr>\n",
       "      <th>3</th>\n",
       "      <td>-2.293598</td>\n",
       "      <td>0.114673</td>\n",
       "      <td>1</td>\n",
       "      <td>13</td>\n",
       "      <td>-7.986032</td>\n",
       "      <td>-5.144533</td>\n",
       "      <td>0.000000</td>\n",
       "      <td>-7.986032</td>\n",
       "    </tr>\n",
       "    <tr>\n",
       "      <th>4</th>\n",
       "      <td>-3.942051</td>\n",
       "      <td>1.991502</td>\n",
       "      <td>0</td>\n",
       "      <td>12</td>\n",
       "      <td>-6.574093</td>\n",
       "      <td>-9.379854</td>\n",
       "      <td>0.000000</td>\n",
       "      <td>-6.574093</td>\n",
       "    </tr>\n",
       "    <tr>\n",
       "      <th>5</th>\n",
       "      <td>1.647159</td>\n",
       "      <td>0.453196</td>\n",
       "      <td>6</td>\n",
       "      <td>5</td>\n",
       "      <td>0.781300</td>\n",
       "      <td>2.567720</td>\n",
       "      <td>0.000000</td>\n",
       "      <td>0.781300</td>\n",
       "    </tr>\n",
       "    <tr>\n",
       "      <th>6</th>\n",
       "      <td>-4.729679</td>\n",
       "      <td>-4.162701</td>\n",
       "      <td>6</td>\n",
       "      <td>17</td>\n",
       "      <td>-9.673458</td>\n",
       "      <td>-7.878008</td>\n",
       "      <td>0.000000</td>\n",
       "      <td>-9.673458</td>\n",
       "    </tr>\n",
       "    <tr>\n",
       "      <th>7</th>\n",
       "      <td>-2.388270</td>\n",
       "      <td>4.353431</td>\n",
       "      <td>0</td>\n",
       "      <td>15</td>\n",
       "      <td>-5.276994</td>\n",
       "      <td>-7.453255</td>\n",
       "      <td>0.000000</td>\n",
       "      <td>-5.276994</td>\n",
       "    </tr>\n",
       "    <tr>\n",
       "      <th>8</th>\n",
       "      <td>2.936654</td>\n",
       "      <td>1.052962</td>\n",
       "      <td>5</td>\n",
       "      <td>9</td>\n",
       "      <td>4.992209</td>\n",
       "      <td>4.846827</td>\n",
       "      <td>0.000000</td>\n",
       "      <td>4.992209</td>\n",
       "    </tr>\n",
       "    <tr>\n",
       "      <th>9</th>\n",
       "      <td>0.657399</td>\n",
       "      <td>1.929293</td>\n",
       "      <td>1</td>\n",
       "      <td>7</td>\n",
       "      <td>1.013177</td>\n",
       "      <td>-0.149848</td>\n",
       "      <td>0.000000</td>\n",
       "      <td>1.013177</td>\n",
       "    </tr>\n",
       "    <tr>\n",
       "      <th>10</th>\n",
       "      <td>-3.483456</td>\n",
       "      <td>3.254133</td>\n",
       "      <td>5</td>\n",
       "      <td>17</td>\n",
       "      <td>-9.240877</td>\n",
       "      <td>-9.093978</td>\n",
       "      <td>0.000000</td>\n",
       "      <td>-9.240877</td>\n",
       "    </tr>\n",
       "    <tr>\n",
       "      <th>11</th>\n",
       "      <td>4.901805</td>\n",
       "      <td>0.760880</td>\n",
       "      <td>6</td>\n",
       "      <td>12</td>\n",
       "      <td>9.167588</td>\n",
       "      <td>8.923170</td>\n",
       "      <td>0.000000</td>\n",
       "      <td>9.167588</td>\n",
       "    </tr>\n",
       "    <tr>\n",
       "      <th>12</th>\n",
       "      <td>0.678610</td>\n",
       "      <td>-4.483805</td>\n",
       "      <td>1</td>\n",
       "      <td>0</td>\n",
       "      <td>1.880276</td>\n",
       "      <td>3.099122</td>\n",
       "      <td>0.000000</td>\n",
       "      <td>1.880276</td>\n",
       "    </tr>\n",
       "    <tr>\n",
       "      <th>13</th>\n",
       "      <td>0.761952</td>\n",
       "      <td>3.136413</td>\n",
       "      <td>5</td>\n",
       "      <td>13</td>\n",
       "      <td>0.188926</td>\n",
       "      <td>-0.544302</td>\n",
       "      <td>0.000000</td>\n",
       "      <td>0.188926</td>\n",
       "    </tr>\n",
       "    <tr>\n",
       "      <th>14</th>\n",
       "      <td>1.815532</td>\n",
       "      <td>4.844921</td>\n",
       "      <td>0</td>\n",
       "      <td>9</td>\n",
       "      <td>2.993123</td>\n",
       "      <td>0.708603</td>\n",
       "      <td>0.000000</td>\n",
       "      <td>2.993123</td>\n",
       "    </tr>\n",
       "    <tr>\n",
       "      <th>15</th>\n",
       "      <td>-3.799962</td>\n",
       "      <td>-4.041785</td>\n",
       "      <td>5</td>\n",
       "      <td>13</td>\n",
       "      <td>-4.635633</td>\n",
       "      <td>-6.079032</td>\n",
       "      <td>0.000000</td>\n",
       "      <td>-4.635633</td>\n",
       "    </tr>\n",
       "    <tr>\n",
       "      <th>16</th>\n",
       "      <td>1.013944</td>\n",
       "      <td>-4.293043</td>\n",
       "      <td>5</td>\n",
       "      <td>0</td>\n",
       "      <td>3.128083</td>\n",
       "      <td>3.674409</td>\n",
       "      <td>0.000000</td>\n",
       "      <td>3.128083</td>\n",
       "    </tr>\n",
       "    <tr>\n",
       "      <th>17</th>\n",
       "      <td>4.628499</td>\n",
       "      <td>4.738225</td>\n",
       "      <td>1</td>\n",
       "      <td>20</td>\n",
       "      <td>6.895222</td>\n",
       "      <td>6.387886</td>\n",
       "      <td>9.892573</td>\n",
       "      <td>16.787795</td>\n",
       "    </tr>\n",
       "    <tr>\n",
       "      <th>18</th>\n",
       "      <td>2.730700</td>\n",
       "      <td>-0.054843</td>\n",
       "      <td>0</td>\n",
       "      <td>3</td>\n",
       "      <td>3.263551</td>\n",
       "      <td>4.988822</td>\n",
       "      <td>0.000000</td>\n",
       "      <td>3.263551</td>\n",
       "    </tr>\n",
       "    <tr>\n",
       "      <th>19</th>\n",
       "      <td>-3.110574</td>\n",
       "      <td>-3.197846</td>\n",
       "      <td>3</td>\n",
       "      <td>13</td>\n",
       "      <td>-6.167035</td>\n",
       "      <td>-5.122224</td>\n",
       "      <td>0.000000</td>\n",
       "      <td>-6.167035</td>\n",
       "    </tr>\n",
       "  </tbody>\n",
       "</table>\n",
       "</div>"
      ],
      "text/plain": [
       "           x         y  dow  hod    f_orig         p   special          f\n",
       "0   0.434463  2.611624    0   14 -0.723552 -0.936887  0.000000  -0.723552\n",
       "1  -0.515673  1.674799    0   12 -3.378942 -2.368745  0.000000  -3.378942\n",
       "2  -3.762068 -0.257951    3   20 -6.573010 -7.895161  0.000000  -6.573010\n",
       "3  -2.293598  0.114673    1   13 -7.986032 -5.144533  0.000000  -7.986032\n",
       "4  -3.942051  1.991502    0   12 -6.574093 -9.379854  0.000000  -6.574093\n",
       "5   1.647159  0.453196    6    5  0.781300  2.567720  0.000000   0.781300\n",
       "6  -4.729679 -4.162701    6   17 -9.673458 -7.878008  0.000000  -9.673458\n",
       "7  -2.388270  4.353431    0   15 -5.276994 -7.453255  0.000000  -5.276994\n",
       "8   2.936654  1.052962    5    9  4.992209  4.846827  0.000000   4.992209\n",
       "9   0.657399  1.929293    1    7  1.013177 -0.149848  0.000000   1.013177\n",
       "10 -3.483456  3.254133    5   17 -9.240877 -9.093978  0.000000  -9.240877\n",
       "11  4.901805  0.760880    6   12  9.167588  8.923170  0.000000   9.167588\n",
       "12  0.678610 -4.483805    1    0  1.880276  3.099122  0.000000   1.880276\n",
       "13  0.761952  3.136413    5   13  0.188926 -0.544302  0.000000   0.188926\n",
       "14  1.815532  4.844921    0    9  2.993123  0.708603  0.000000   2.993123\n",
       "15 -3.799962 -4.041785    5   13 -4.635633 -6.079032  0.000000  -4.635633\n",
       "16  1.013944 -4.293043    5    0  3.128083  3.674409  0.000000   3.128083\n",
       "17  4.628499  4.738225    1   20  6.895222  6.387886  9.892573  16.787795\n",
       "18  2.730700 -0.054843    0    3  3.263551  4.988822  0.000000   3.263551\n",
       "19 -3.110574 -3.197846    3   13 -6.167035 -5.122224  0.000000  -6.167035"
      ]
     },
     "execution_count": 27,
     "metadata": {},
     "output_type": "execute_result"
    }
   ],
   "source": [
    "df_train_v2 = create_data_frame_v2(size = NUM_RECORDS, amplitude=10.0)\n",
    "df_train_v2[:20]"
   ]
  },
  {
   "cell_type": "markdown",
   "metadata": {},
   "source": [
    "---\n",
    "### Create a data set suitable for training\n",
    "In the following, our assumption that it is particular hours on particular days makes this problem a candidate for the categorical features 'hour of day' and 'day of week'. Hence, in a first step, let's take those two features into account. For that, we have to one-hot encode those features."
   ]
  },
  {
   "cell_type": "code",
   "execution_count": 28,
   "metadata": {},
   "outputs": [
    {
     "data": {
      "text/plain": [
       "array([[1., 1., 0., 0., 1., 0., 0., 1., 0., 0.],\n",
       "       [0., 0., 0., 1., 0., 0., 0., 0., 0., 1.],\n",
       "       [0., 0., 0., 0., 0., 0., 0., 0., 0., 0.],\n",
       "       [0., 0., 1., 0., 0., 0., 0., 0., 0., 0.],\n",
       "       [0., 0., 0., 0., 0., 0., 0., 0., 0., 0.],\n",
       "       [0., 0., 0., 0., 0., 0., 0., 0., 1., 0.],\n",
       "       [0., 0., 0., 0., 0., 1., 1., 0., 0., 0.]])"
      ]
     },
     "execution_count": 28,
     "metadata": {},
     "output_type": "execute_result"
    }
   ],
   "source": [
    "ordinals = list(df_train_v2['dow'])\n",
    "one_hot_dows = np.transpose(np.eye(7)[ordinals])\n",
    "one_hot_dows[:7,:10]"
   ]
  },
  {
   "cell_type": "code",
   "execution_count": 29,
   "metadata": {},
   "outputs": [],
   "source": [
    "ordinals = list(df_train_v2['hod'])\n",
    "one_hot_hods = np.transpose(np.eye(24)[ordinals])"
   ]
  },
  {
   "cell_type": "code",
   "execution_count": 30,
   "metadata": {},
   "outputs": [
    {
     "name": "stdout",
     "output_type": "stream",
     "text": [
      "shapes: (2, 20000) + (7, 20000) + (24, 20000) = (33, 20000)\n"
     ]
    }
   ],
   "source": [
    "input_numerical = [list(df_train_v2['x']), list(df_train_v2['y'])]\n",
    "lbls_data = [list(df_train_v2['f'])]\n",
    "input_data = np.append(input_numerical, one_hot_dows, axis=0)\n",
    "input_data = np.append(input_data, one_hot_hods, axis=0)\n",
    "print(\"shapes: {} + {} + {} = {}\".format(np.shape(input_numerical), np.shape(one_hot_dows), np.shape(one_hot_hods), np.shape(input_data)))"
   ]
  },
  {
   "cell_type": "markdown",
   "metadata": {},
   "source": [
    "Now we have 33 columns, 31 of which only sparsely populated. That's ok for the time being."
   ]
  },
  {
   "cell_type": "code",
   "execution_count": 31,
   "metadata": {},
   "outputs": [
    {
     "data": {
      "text/plain": [
       "array([[ 0.43446255, -0.51567307, -3.7620684 , -2.29359801],\n",
       "       [ 2.61162374,  1.6747987 , -0.25795063,  0.11467317],\n",
       "       [ 1.        ,  1.        ,  0.        ,  0.        ],\n",
       "       [ 0.        ,  0.        ,  0.        ,  1.        ],\n",
       "       [ 0.        ,  0.        ,  0.        ,  0.        ],\n",
       "       [ 0.        ,  0.        ,  1.        ,  0.        ],\n",
       "       [ 0.        ,  0.        ,  0.        ,  0.        ],\n",
       "       [ 0.        ,  0.        ,  0.        ,  0.        ],\n",
       "       [ 0.        ,  0.        ,  0.        ,  0.        ],\n",
       "       [ 0.        ,  0.        ,  0.        ,  0.        ],\n",
       "       [ 0.        ,  0.        ,  0.        ,  0.        ],\n",
       "       [ 0.        ,  0.        ,  0.        ,  0.        ],\n",
       "       [ 0.        ,  0.        ,  0.        ,  0.        ],\n",
       "       [ 0.        ,  0.        ,  0.        ,  0.        ],\n",
       "       [ 0.        ,  0.        ,  0.        ,  0.        ],\n",
       "       [ 0.        ,  0.        ,  0.        ,  0.        ],\n",
       "       [ 0.        ,  0.        ,  0.        ,  0.        ],\n",
       "       [ 0.        ,  0.        ,  0.        ,  0.        ],\n",
       "       [ 0.        ,  0.        ,  0.        ,  0.        ],\n",
       "       [ 0.        ,  0.        ,  0.        ,  0.        ],\n",
       "       [ 0.        ,  0.        ,  0.        ,  0.        ],\n",
       "       [ 0.        ,  1.        ,  0.        ,  0.        ],\n",
       "       [ 0.        ,  0.        ,  0.        ,  1.        ],\n",
       "       [ 1.        ,  0.        ,  0.        ,  0.        ],\n",
       "       [ 0.        ,  0.        ,  0.        ,  0.        ],\n",
       "       [ 0.        ,  0.        ,  0.        ,  0.        ],\n",
       "       [ 0.        ,  0.        ,  0.        ,  0.        ],\n",
       "       [ 0.        ,  0.        ,  0.        ,  0.        ],\n",
       "       [ 0.        ,  0.        ,  0.        ,  0.        ],\n",
       "       [ 0.        ,  0.        ,  1.        ,  0.        ],\n",
       "       [ 0.        ,  0.        ,  0.        ,  0.        ],\n",
       "       [ 0.        ,  0.        ,  0.        ,  0.        ],\n",
       "       [ 0.        ,  0.        ,  0.        ,  0.        ]])"
      ]
     },
     "execution_count": 31,
     "metadata": {},
     "output_type": "execute_result"
    }
   ],
   "source": [
    "input_data[:,:4]"
   ]
  },
  {
   "cell_type": "markdown",
   "metadata": {},
   "source": [
    "---\n",
    "Hereafter, we'll use create_input_data from the tools file to achieve just that."
   ]
  },
  {
   "cell_type": "code",
   "execution_count": 32,
   "metadata": {},
   "outputs": [],
   "source": [
    "import inspect"
   ]
  },
  {
   "cell_type": "code",
   "execution_count": 33,
   "metadata": {},
   "outputs": [
    {
     "name": "stdout",
     "output_type": "stream",
     "text": [
      "def create_input_data(df, select_feats=[], oh_feats={}, cross_feats=[]):    \n",
      "    \"\"\"\n",
      "    create a list of input columns from pandas raw data\n",
      "    df: a pandas dataframe containing raw input data\n",
      "    select_feats: an array containing the names of features to be selected without transformation\n",
      "    oh_feats: a dictionary containing the names and sizes of discrete numerical features that are to be one-hot encoded\n",
      "    cross_feats: a list of oh_feats consisting of two discrete features to cross\n",
      "    \"\"\"\n",
      "\n",
      "    def _safe_append(l, r):\n",
      "        if l == [] or l is None:\n",
      "            return r\n",
      "        else:\n",
      "            return np.append(l, r, axis=0)\n",
      "\n",
      "    res = [list(df[n]) for n in select_feats]\n",
      "    \n",
      "    for k in oh_feats:\n",
      "        res = _safe_append(res, one_hot(df[k], oh_feats[k]))\n",
      "\n",
      "    for c in cross_feats:\n",
      "        keys = list(c.keys())\n",
      "        keys.sort()\n",
      "        \n",
      "        lk, ls = keys[0], c[keys[0]]\n",
      "        rk, rs = keys[1], c[keys[1]]\n",
      "        lhs = one_hot(df[lk], ls)\n",
      "        rhs = one_hot(df[rk], rs)\n",
      "        cross = [(lhs[:,i].reshape(ls,1) * rhs[:,i].reshape(1,rs)).reshape(rs*ls) for i in range(len(df))]\n",
      "        cross = np.transpose(cross)\n",
      "        res = _safe_append(res, cross)\n",
      "\n",
      "    return res\n",
      "\n"
     ]
    }
   ],
   "source": [
    "print(inspect.getsource(create_input_data))"
   ]
  },
  {
   "cell_type": "markdown",
   "metadata": {},
   "source": [
    "---\n",
    "### Create the network and start the training"
   ]
  },
  {
   "cell_type": "markdown",
   "metadata": {},
   "source": [
    "We use once more our self-made linear regressor. Below is the code that we hade previously, only this time augmented by the 24 + 7 new input features from the categorical columns. Observe that we train a long time with a lot more data, and the training loss still doesn't improve much."
   ]
  },
  {
   "cell_type": "code",
   "execution_count": 34,
   "metadata": {},
   "outputs": [],
   "source": [
    "NUMERICAL_DIM = 2 # namely x and y\n",
    "WEEKDAY_DIM = 7 # obviously\n",
    "HOUR_OF_DAY_DIM = 24\n",
    "X_DIM = NUMERICAL_DIM + WEEKDAY_DIM + HOUR_OF_DAY_DIM"
   ]
  },
  {
   "cell_type": "code",
   "execution_count": 35,
   "metadata": {},
   "outputs": [
    {
     "name": "stdout",
     "output_type": "stream",
     "text": [
      "- Loss: 8.156059265136719"
     ]
    },
    {
     "data": {
      "text/plain": [
       "8.156059"
      ]
     },
     "execution_count": 35,
     "metadata": {},
     "output_type": "execute_result"
    }
   ],
   "source": [
    "linear2 = Linear(X_DIM, .01)\n",
    "linear2.train(sess, input_data, lbls_data, 5000)"
   ]
  },
  {
   "cell_type": "markdown",
   "metadata": {},
   "source": [
    "That loss is significantly larger than the one that we experienced in the simple case. So either the signal/noise ratio is worse (we know it isn't) or there's some signal in the data that we don't recognize yet. "
   ]
  },
  {
   "cell_type": "markdown",
   "metadata": {},
   "source": [
    "---\n",
    "Sometimes the distribution of the prediction errors reveals additional facts of the problems that our network has. Usually we'll need large enough samples to allow for sufficient statistics."
   ]
  },
  {
   "cell_type": "code",
   "execution_count": 36,
   "metadata": {},
   "outputs": [
    {
     "data": {
      "text/html": [
       "<div>\n",
       "<style scoped>\n",
       "    .dataframe tbody tr th:only-of-type {\n",
       "        vertical-align: middle;\n",
       "    }\n",
       "\n",
       "    .dataframe tbody tr th {\n",
       "        vertical-align: top;\n",
       "    }\n",
       "\n",
       "    .dataframe thead th {\n",
       "        text-align: right;\n",
       "    }\n",
       "</style>\n",
       "<table border=\"1\" class=\"dataframe\">\n",
       "  <thead>\n",
       "    <tr style=\"text-align: right;\">\n",
       "      <th></th>\n",
       "      <th>f</th>\n",
       "      <th>p</th>\n",
       "      <th>predicted</th>\n",
       "      <th>special</th>\n",
       "    </tr>\n",
       "  </thead>\n",
       "  <tbody>\n",
       "    <tr>\n",
       "      <th>0</th>\n",
       "      <td>-4.825540</td>\n",
       "      <td>-4.442504</td>\n",
       "      <td>-3.782084</td>\n",
       "      <td>0.000000</td>\n",
       "    </tr>\n",
       "    <tr>\n",
       "      <th>1</th>\n",
       "      <td>-6.329561</td>\n",
       "      <td>-9.379998</td>\n",
       "      <td>-9.279288</td>\n",
       "      <td>0.000000</td>\n",
       "    </tr>\n",
       "    <tr>\n",
       "      <th>2</th>\n",
       "      <td>-10.774609</td>\n",
       "      <td>-10.276996</td>\n",
       "      <td>-9.495276</td>\n",
       "      <td>0.000000</td>\n",
       "    </tr>\n",
       "    <tr>\n",
       "      <th>3</th>\n",
       "      <td>-2.276895</td>\n",
       "      <td>-1.121980</td>\n",
       "      <td>-0.968489</td>\n",
       "      <td>0.000000</td>\n",
       "    </tr>\n",
       "    <tr>\n",
       "      <th>4</th>\n",
       "      <td>5.294388</td>\n",
       "      <td>6.978662</td>\n",
       "      <td>5.994357</td>\n",
       "      <td>0.000000</td>\n",
       "    </tr>\n",
       "    <tr>\n",
       "      <th>5</th>\n",
       "      <td>-7.229097</td>\n",
       "      <td>-8.510607</td>\n",
       "      <td>-8.382927</td>\n",
       "      <td>0.000000</td>\n",
       "    </tr>\n",
       "    <tr>\n",
       "      <th>6</th>\n",
       "      <td>12.506073</td>\n",
       "      <td>4.695551</td>\n",
       "      <td>9.622369</td>\n",
       "      <td>9.999974</td>\n",
       "    </tr>\n",
       "    <tr>\n",
       "      <th>7</th>\n",
       "      <td>5.755718</td>\n",
       "      <td>6.656700</td>\n",
       "      <td>7.401284</td>\n",
       "      <td>0.000000</td>\n",
       "    </tr>\n",
       "    <tr>\n",
       "      <th>8</th>\n",
       "      <td>-7.178016</td>\n",
       "      <td>-5.693405</td>\n",
       "      <td>-1.123306</td>\n",
       "      <td>0.000000</td>\n",
       "    </tr>\n",
       "    <tr>\n",
       "      <th>9</th>\n",
       "      <td>-4.965578</td>\n",
       "      <td>-6.644349</td>\n",
       "      <td>-6.017790</td>\n",
       "      <td>0.000000</td>\n",
       "    </tr>\n",
       "  </tbody>\n",
       "</table>\n",
       "</div>"
      ],
      "text/plain": [
       "           f          p  predicted   special\n",
       "0  -4.825540  -4.442504  -3.782084  0.000000\n",
       "1  -6.329561  -9.379998  -9.279288  0.000000\n",
       "2 -10.774609 -10.276996  -9.495276  0.000000\n",
       "3  -2.276895  -1.121980  -0.968489  0.000000\n",
       "4   5.294388   6.978662   5.994357  0.000000\n",
       "5  -7.229097  -8.510607  -8.382927  0.000000\n",
       "6  12.506073   4.695551   9.622369  9.999974\n",
       "7   5.755718   6.656700   7.401284  0.000000\n",
       "8  -7.178016  -5.693405  -1.123306  0.000000\n",
       "9  -4.965578  -6.644349  -6.017790  0.000000"
      ]
     },
     "execution_count": 36,
     "metadata": {},
     "output_type": "execute_result"
    }
   ],
   "source": [
    "df_test_v2 = create_data_frame_v2(size = 20000, amplitude=10)\n",
    "test_data = create_input_data(df=df_test_v2, select_feats=['x','y'], oh_feats={'dow': 7, 'hod': 24})\n",
    "\n",
    "pred = linear2.predict(x_data=test_data, sess=sess)\n",
    "df_test_v2['predicted'] = pred[0]\n",
    "df_test_v2[['f', 'p', 'predicted', 'special']][:10]"
   ]
  },
  {
   "cell_type": "code",
   "execution_count": 37,
   "metadata": {},
   "outputs": [
    {
     "data": {
      "image/png": "[encoded data removed]",
      "text/plain": [
       "<Figure size 432x288 with 1 Axes>"
      ]
     },
     "metadata": {},
     "output_type": "display_data"
    }
   ],
   "source": [
    "df_errors = df_test_v2['predicted'] - df_test_v2['f']\n",
    "df_errors.plot.hist(bins=100);"
   ]
  },
  {
   "cell_type": "markdown",
   "metadata": {},
   "source": [
    "We can see from the error distribution that there's some really interesting stuff going on. This is almost certainly a hint that our data contains structure that we didn't discover yet. This distribution is telling: For the majority of the data - the large bump - we have a tendency to over-predict. For some minority though we significantly under-predict. This is a typical sign that the linear regression is finding a weak compromise between two distinct and somehow unrelated distributions that make up our total input data.\n",
    "\n",
    "Obviously, although or network actually had all the information it needed, simply adding the categorical features didn't allow it to learn the specific characteristic, namely the \"and\" relationship like in: \"The humidity is higher, when it's Wednesday *and* it's 18:00h\". \n",
    "\n",
    "Feature crossings and embeddings to the rescue!"
   ]
  },
  {
   "cell_type": "markdown",
   "metadata": {},
   "source": [
    "## Feature Crossings"
   ]
  },
  {
   "cell_type": "markdown",
   "metadata": {},
   "source": [
    "Let's look at an example: This is Wednesday, 08:00h:"
   ]
  },
  {
   "cell_type": "code",
   "execution_count": 38,
   "metadata": {},
   "outputs": [
    {
     "data": {
      "text/plain": [
       "(array([[0, 0, 1, 0, 0, 0, 0]]),\n",
       " array([[0., 0., 0., 0., 0., 0., 0., 0., 1., 0., 0., 0., 0., 0., 0., 0.,\n",
       "         0., 0., 0., 0., 0., 0., 0., 0.]]))"
      ]
     },
     "execution_count": 38,
     "metadata": {},
     "output_type": "execute_result"
    }
   ],
   "source": [
    "wednesday = np.array([[0,0,1,0,0,0,0]])\n",
    "at_0800 = np.zeros((1,24))\n",
    "at_0800[0,8] = 1\n",
    "wednesday, at_0800"
   ]
  },
  {
   "cell_type": "markdown",
   "metadata": {},
   "source": [
    "Crossing categorical features $a$ and $b$ means: Put a 1 only where both $a$ and $b$ have a one. Put zeros anywhere else. Python broadcasting helps us achieve that with ease."
   ]
  },
  {
   "cell_type": "code",
   "execution_count": 39,
   "metadata": {},
   "outputs": [
    {
     "data": {
      "text/plain": [
       "array([[0., 0., 0., 0., 0., 0., 0., 0., 0., 0., 0., 0., 0., 0., 0., 0.,\n",
       "        0., 0., 0., 0., 0., 0., 0., 0.],\n",
       "       [0., 0., 0., 0., 0., 0., 0., 0., 0., 0., 0., 0., 0., 0., 0., 0.,\n",
       "        0., 0., 0., 0., 0., 0., 0., 0.],\n",
       "       [0., 0., 0., 0., 0., 0., 0., 0., 1., 0., 0., 0., 0., 0., 0., 0.,\n",
       "        0., 0., 0., 0., 0., 0., 0., 0.],\n",
       "       [0., 0., 0., 0., 0., 0., 0., 0., 0., 0., 0., 0., 0., 0., 0., 0.,\n",
       "        0., 0., 0., 0., 0., 0., 0., 0.],\n",
       "       [0., 0., 0., 0., 0., 0., 0., 0., 0., 0., 0., 0., 0., 0., 0., 0.,\n",
       "        0., 0., 0., 0., 0., 0., 0., 0.],\n",
       "       [0., 0., 0., 0., 0., 0., 0., 0., 0., 0., 0., 0., 0., 0., 0., 0.,\n",
       "        0., 0., 0., 0., 0., 0., 0., 0.],\n",
       "       [0., 0., 0., 0., 0., 0., 0., 0., 0., 0., 0., 0., 0., 0., 0., 0.,\n",
       "        0., 0., 0., 0., 0., 0., 0., 0.]])"
      ]
     },
     "execution_count": 39,
     "metadata": {},
     "output_type": "execute_result"
    }
   ],
   "source": [
    "wednesday_at_0800 = wednesday.T * at_0800\n",
    "wednesday_at_0800"
   ]
  },
  {
   "cell_type": "code",
   "execution_count": 40,
   "metadata": {},
   "outputs": [
    {
     "data": {
      "text/plain": [
       "True"
      ]
     },
     "execution_count": 40,
     "metadata": {},
     "output_type": "execute_result"
    }
   ],
   "source": [
    "cross = np.reshape(wednesday_at_0800, newshape=(1,-1))\n",
    "np.argmax(cross) == 2 * 24 + 8 # Wed * 24 + at_0800"
   ]
  },
  {
   "cell_type": "markdown",
   "metadata": {},
   "source": [
    "It gets a little more involved when dealing with a batch of feature pairs as you can see in the example below:"
   ]
  },
  {
   "cell_type": "code",
   "execution_count": 41,
   "metadata": {},
   "outputs": [
    {
     "data": {
      "text/plain": [
       "(array([[0, 0, 1, 0, 0, 0, 0],\n",
       "        [0, 0, 0, 0, 0, 1, 0]]),\n",
       " array([[0., 0., 0., 0., 0., 0., 0., 0., 1., 0., 0., 0., 0., 0., 0., 0.,\n",
       "         0., 0., 0., 0., 0., 0., 0., 0.],\n",
       "        [0., 0., 0., 0., 0., 0., 0., 0., 0., 0., 0., 0., 0., 0., 0., 0.,\n",
       "         1., 0., 0., 0., 0., 0., 0., 0.]]))"
      ]
     },
     "execution_count": 41,
     "metadata": {},
     "output_type": "execute_result"
    }
   ],
   "source": [
    "dows = np.array([[0,0,1,0,0,0,0],[0,0,0,0,0,1,0]])\n",
    "hods = np.zeros((2,24))\n",
    "hods[0,8] = 1\n",
    "hods[1,16] = 1\n",
    "dows, hods"
   ]
  },
  {
   "cell_type": "code",
   "execution_count": 42,
   "metadata": {},
   "outputs": [
    {
     "data": {
      "text/plain": [
       "[array([0., 0., 0., 0., 0., 0., 0., 0., 0., 0., 0., 0., 0., 0., 0., 0., 0.,\n",
       "        0., 0., 0., 0., 0., 0., 0., 0., 0., 0., 0., 0., 0., 0., 0., 0., 0.,\n",
       "        0., 0., 0., 0., 0., 0., 0., 0., 0., 0., 0., 0., 0., 0., 0., 0., 0.,\n",
       "        0., 0., 0., 0., 0., 1., 0., 0., 0., 0., 0., 0., 0., 0., 0., 0., 0.,\n",
       "        0., 0., 0., 0., 0., 0., 0., 0., 0., 0., 0., 0., 0., 0., 0., 0., 0.,\n",
       "        0., 0., 0., 0., 0., 0., 0., 0., 0., 0., 0., 0., 0., 0., 0., 0., 0.,\n",
       "        0., 0., 0., 0., 0., 0., 0., 0., 0., 0., 0., 0., 0., 0., 0., 0., 0.,\n",
       "        0., 0., 0., 0., 0., 0., 0., 0., 0., 0., 0., 0., 0., 0., 0., 0., 0.,\n",
       "        0., 0., 0., 0., 0., 0., 0., 0., 0., 0., 0., 0., 0., 0., 0., 0., 0.,\n",
       "        0., 0., 0., 0., 0., 0., 0., 0., 0., 0., 0., 0., 0., 0., 0.]),\n",
       " array([0., 0., 0., 0., 0., 0., 0., 0., 0., 0., 0., 0., 0., 0., 0., 0., 0.,\n",
       "        0., 0., 0., 0., 0., 0., 0., 0., 0., 0., 0., 0., 0., 0., 0., 0., 0.,\n",
       "        0., 0., 0., 0., 0., 0., 0., 0., 0., 0., 0., 0., 0., 0., 0., 0., 0.,\n",
       "        0., 0., 0., 0., 0., 0., 0., 0., 0., 0., 0., 0., 0., 0., 0., 0., 0.,\n",
       "        0., 0., 0., 0., 0., 0., 0., 0., 0., 0., 0., 0., 0., 0., 0., 0., 0.,\n",
       "        0., 0., 0., 0., 0., 0., 0., 0., 0., 0., 0., 0., 0., 0., 0., 0., 0.,\n",
       "        0., 0., 0., 0., 0., 0., 0., 0., 0., 0., 0., 0., 0., 0., 0., 0., 0.,\n",
       "        0., 0., 0., 0., 0., 0., 0., 0., 0., 0., 0., 0., 0., 0., 0., 0., 0.,\n",
       "        1., 0., 0., 0., 0., 0., 0., 0., 0., 0., 0., 0., 0., 0., 0., 0., 0.,\n",
       "        0., 0., 0., 0., 0., 0., 0., 0., 0., 0., 0., 0., 0., 0., 0.])]"
      ]
     },
     "execution_count": 42,
     "metadata": {},
     "output_type": "execute_result"
    }
   ],
   "source": [
    "[(dows[i].reshape(7,1) * hods[i].reshape(1,24)).reshape(168) for i in range(2)]"
   ]
  },
  {
   "cell_type": "markdown",
   "metadata": {},
   "source": [
    "---\n",
    "Now, instead of feeding both features independently we feed the feature cross into our linear regression model. Note that we need a lot of data to have sufficient statistics for each hour of the week"
   ]
  },
  {
   "cell_type": "code",
   "execution_count": 43,
   "metadata": {},
   "outputs": [
    {
     "data": {
      "text/plain": [
       "((170, 20000), 20000)"
      ]
     },
     "execution_count": 43,
     "metadata": {},
     "output_type": "execute_result"
    }
   ],
   "source": [
    "NUM_RECORDS = 20000\n",
    "\n",
    "df_train_v3 = create_data_frame_v2(size = NUM_RECORDS, amplitude=10.0)\n",
    "input_data_v3 = create_input_data(df=df_train_v3, select_feats=['x', 'y'], cross_feats=[{'dow': 7, 'hod': 24}])    \n",
    "lbls_data_v3 = [list(df_train_v3['f'])]\n",
    "input_data_v3.shape, len(lbls_data_v3[0])"
   ]
  },
  {
   "cell_type": "code",
   "execution_count": 44,
   "metadata": {},
   "outputs": [
    {
     "name": "stdout",
     "output_type": "stream",
     "text": [
      "- Loss: 2.077442169189453"
     ]
    },
    {
     "data": {
      "text/plain": [
       "2.0774422"
      ]
     },
     "execution_count": 44,
     "metadata": {},
     "output_type": "execute_result"
    }
   ],
   "source": [
    "regressor_v3 = Linear(lr=.05, x_dim=170)\n",
    "regressor_v3.train(sess=sess, num_steps=4000, x_data=input_data_v3, labels_data=lbls_data_v3)"
   ]
  },
  {
   "cell_type": "markdown",
   "metadata": {},
   "source": [
    "---\n",
    "We can see that the loss function has indeed gone down dramatically. Now let's examine the error statistics on some fresh data."
   ]
  },
  {
   "cell_type": "code",
   "execution_count": 45,
   "metadata": {},
   "outputs": [
    {
     "data": {
      "image/png": "[encoded data removed]",
      "text/plain": [
       "<Figure size 432x288 with 1 Axes>"
      ]
     },
     "metadata": {},
     "output_type": "display_data"
    }
   ],
   "source": [
    "df_test_v3 = create_data_frame_v2(size = 20000, amplitude=10.0)\n",
    "input_data_test_v3 = create_input_data(df=df_test_v3, select_feats=['x', 'y'], cross_feats=[{'dow': 7, 'hod': 24}])    \n",
    "preds = regressor_v3.predict(sess=sess, x_data=input_data_test_v3)\n",
    "\n",
    "errors = preds[0] - df_test_v3['f']\n",
    "df_test_v3['preds'] = preds[0]\n",
    "df_test_v3['err'] = errors\n",
    "df_test_v3['err'].plot.hist(bins=100);"
   ]
  },
  {
   "cell_type": "markdown",
   "metadata": {},
   "source": [
    "Still, there's some subtle asymmetry in the error distribution, depending on how long you trained, but we can see that the characteristic second bump has disappeared. When we look at the weights associated with the 168 different hours of a week, we spot a few larger positive values amongst otherwise smaller negative values."
   ]
  },
  {
   "cell_type": "code",
   "execution_count": 46,
   "metadata": {},
   "outputs": [
    {
     "data": {
      "text/plain": [
       "array([-0.92451054, -0.9105595 , -0.7312683 , -0.99688226, -0.82971704,\n",
       "       -0.9796364 , -1.0322107 , -0.7919396 , -0.9527571 , -0.83081305,\n",
       "       -0.8958984 , -1.1073065 , -0.8674313 , -1.0217636 , -0.8798526 ,\n",
       "       -1.0595101 , -0.9710994 , -0.9295249 ,  8.123133  ,  8.147578  ,\n",
       "        8.058648  ,  7.983456  , -1.0556803 , -1.027305  , -0.9248636 ,\n",
       "       -0.9859836 , -0.82457083, -0.8321773 , -1.0499196 , -0.87207127,\n",
       "       -0.947699  , -0.86126167, -0.95848054, -0.9792089 , -1.045009  ,\n",
       "       -1.064327  , -0.93257385, -0.99947834, -1.1326177 , -0.9904683 ,\n",
       "       -0.7458987 , -1.0242755 ,  7.9645324 ,  8.168488  ,  7.723741  ,\n",
       "        8.146595  , -1.1398586 , -1.1344804 , -0.98596895, -1.0821922 ,\n",
       "       -0.71281946, -1.1208999 , -1.0399061 , -0.9765209 , -0.8167832 ,\n",
       "       -1.0876834 , -0.7790154 , -0.9157768 , -1.1180328 , -1.0416971 ,\n",
       "       -0.8730049 , -1.0084373 , -1.1433038 , -1.0723602 , -1.0801103 ,\n",
       "       -0.93582433,  8.107384  ,  8.155861  ,  8.008792  ,  7.757335  ,\n",
       "       -0.85199356, -0.9803269 , -0.94283867, -0.9840081 , -0.7489897 ,\n",
       "       -0.94832605, -1.0091559 , -0.9808731 , -0.919946  , -1.0263878 ,\n",
       "       -1.0453731 , -0.8758226 , -0.8415308 , -1.0424273 , -0.92115057,\n",
       "       -0.96765345, -1.0533527 , -1.0767367 , -0.91994476, -0.93905795,\n",
       "       -1.0989368 , -1.19071   , -0.9833116 , -1.1140475 , -0.988632  ,\n",
       "       -1.1811286 , -0.8195832 , -1.1491923 , -1.1514249 , -0.9695134 ,\n",
       "       -0.979766  , -0.85492736, -1.0220361 , -1.0422839 , -0.9821452 ,\n",
       "       -0.9227496 , -0.7754158 , -1.0945932 , -1.0193996 , -1.012043  ,\n",
       "        8.251155  ,  8.360069  ,  8.1040745 , -0.7086211 , -0.96290857,\n",
       "       -1.0297557 , -1.0191088 , -1.0627153 , -1.1265033 , -1.0697111 ,\n",
       "       -0.6533825 , -1.0063968 , -0.9657451 , -1.0264463 , -0.9735221 ,\n",
       "       -1.0256922 , -1.1541448 , -0.9370887 , -1.0466963 , -1.0248761 ,\n",
       "       -0.7083373 , -1.0560411 , -0.9410085 , -0.8884615 ,  8.142945  ,\n",
       "        8.177367  ,  8.120462  , -0.83838344, -0.8577857 , -1.0459346 ,\n",
       "       -0.71018994, -1.0159345 , -0.90269953, -1.0486947 , -1.0387725 ,\n",
       "       -0.8562905 , -0.7452074 , -0.96747535, -0.93895286, -0.9667377 ,\n",
       "       -0.8836553 , -0.9882548 , -0.9882449 , -1.0356299 , -0.958836  ,\n",
       "       -0.91102797, -1.0106868 , -0.98913574, -0.86154336, -0.87688667,\n",
       "       -0.8059427 , -1.0209804 , -0.9935925 , -0.9159556 , -1.0026686 ,\n",
       "       -1.1255628 , -0.85760087, -0.9333978 ], dtype=float32)"
      ]
     },
     "execution_count": 46,
     "metadata": {},
     "output_type": "execute_result"
    }
   ],
   "source": [
    "weights = regressor_v3.M.eval()\n",
    "weights_t = weights.squeeze()[2:]\n",
    "weights_t"
   ]
  },
  {
   "cell_type": "markdown",
   "metadata": {},
   "source": [
    "The indexes of the larger values allow us to discover exactly those hours of week during which the dry-cleaner anomalies are observed. The network truly learned when these anomalies are typically observed and adds some more humidity in its prediction during those times of the week. Ain't that cool?"
   ]
  },
  {
   "cell_type": "code",
   "execution_count": 48,
   "metadata": {},
   "outputs": [
    {
     "data": {
      "text/plain": [
       "[((0.75, 18), array([ 0, 18])),\n",
       " ((0.7916666666666666, 19), array([ 0, 19])),\n",
       " ((0.8333333333333334, 20), array([ 0, 20])),\n",
       " ((0.875, 21), array([ 0, 21])),\n",
       " ((1.75, 18), array([ 1, 18])),\n",
       " ((1.7916666666666667, 19), array([ 1, 19])),\n",
       " ((1.8333333333333333, 20), array([ 1, 20])),\n",
       " ((1.875, 21), array([ 1, 21])),\n",
       " ((2.75, 18), array([ 2, 18])),\n",
       " ((2.7916666666666665, 19), array([ 2, 19])),\n",
       " ((2.8333333333333335, 20), array([ 2, 20])),\n",
       " ((2.875, 21), array([ 2, 21])),\n",
       " ((4.583333333333333, 14), array([ 4, 14])),\n",
       " ((4.625, 15), array([ 4, 15])),\n",
       " ((4.666666666666667, 16), array([ 4, 16])),\n",
       " ((5.583333333333333, 14), array([ 5, 14])),\n",
       " ((5.625, 15), array([ 5, 15])),\n",
       " ((5.666666666666667, 16), array([ 5, 16]))]"
      ]
     },
     "execution_count": 48,
     "metadata": {},
     "output_type": "execute_result"
    }
   ],
   "source": [
    "indexes = [i for i in range(168) if weights_t[i] > 1]\n",
    "how_detected = [(i / 24, i % 24 ) for i in indexes]\n",
    "how_detected = sorted(how_detected, key=lambda d: d[0])\n",
    "list(zip(how_detected, conditions))"
   ]
  },
  {
   "cell_type": "markdown",
   "metadata": {},
   "source": [
    "To the left, the hours of the week as detected by the network, to the left the conditions that lead to the anomalies in the data. A perfect fit!"
   ]
  },
  {
   "cell_type": "code",
   "execution_count": 49,
   "metadata": {},
   "outputs": [
    {
     "data": {
      "text/plain": [
       "[18, 19, 20, 21, 42, 43, 44, 45, 66, 67, 68, 69, 110, 111, 112, 134, 135, 136]"
      ]
     },
     "execution_count": 49,
     "metadata": {},
     "output_type": "execute_result"
    }
   ],
   "source": [
    "indexes"
   ]
  },
  {
   "cell_type": "code",
   "execution_count": 53,
   "metadata": {},
   "outputs": [
    {
     "data": {
      "text/plain": [
       "[(0.75, 18),\n",
       " (0.7916666666666666, 19),\n",
       " (0.8333333333333334, 20),\n",
       " (0.875, 21),\n",
       " (1.75, 18),\n",
       " (1.7916666666666667, 19),\n",
       " (1.8333333333333333, 20),\n",
       " (1.875, 21),\n",
       " (2.75, 18),\n",
       " (2.7916666666666665, 19),\n",
       " (2.8333333333333335, 20),\n",
       " (2.875, 21),\n",
       " (4.583333333333333, 14),\n",
       " (4.625, 15),\n",
       " (4.666666666666667, 16),\n",
       " (5.583333333333333, 14),\n",
       " (5.625, 15),\n",
       " (5.666666666666667, 16)]"
      ]
     },
     "execution_count": 53,
     "metadata": {},
     "output_type": "execute_result"
    }
   ],
   "source": [
    "[(i // 24, i % 24 ) for i in indexes]"
   ]
  },
  {
   "cell_type": "code",
   "execution_count": null,
   "metadata": {},
   "outputs": [],
   "source": []
  }
 ],
 "metadata": {
  "kernelspec": {
   "display_name": "Python 3",
   "language": "python",
   "name": "python3"
  },
  "language_info": {
   "codemirror_mode": {
    "name": "ipython",
    "version": 2
   },
   "file_extension": ".py",
   "mimetype": "text/x-python",
   "name": "python",
   "nbconvert_exporter": "python",
   "pygments_lexer": "ipython2",
   "version": "2.7.12"
  }
 },
 "nbformat": 4,
 "nbformat_minor": 2
}
