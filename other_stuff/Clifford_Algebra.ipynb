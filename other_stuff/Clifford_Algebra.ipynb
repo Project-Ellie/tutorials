{
 "cells": [
  {
   "cell_type": "code",
   "execution_count": 1,
   "metadata": {},
   "outputs": [],
   "source": [
    "from __future__ import (print_function, division, absolute_import)"
   ]
  },
  {
   "cell_type": "markdown",
   "metadata": {},
   "source": [
    "Let $\\mathbb{G}$ be any metric vector space with a metric. We call $\\mathbb{G}$ a *geometric algebra* if it defines a geometric product $uv$ with $u,v \\in \\mathbb{G}$ such that $uv$ can be expressed as the sum of a non-vanishing commutative *dot* ($\\cdot$) product and a non-vanishing anti-commutative *wedge* ($\\wedge$) product:\n",
    "\n",
    "$$(uv)w = u(vw)$$\n",
    "$$uu = |u|^2$$\n",
    "$$(u+v)w = uw + vw$$\n",
    "\n",
    "and the products:\n",
    "\n",
    "$$u \\cdot v \\equiv \\frac{1}{2}(uv + vu)$$\n",
    "$$u \\wedge v \\equiv \\frac{1}{2}(uv - vu)$$\n",
    "\n",
    "hence\n",
    "\n",
    "$$ uv = u \\cdot v + u \\wedge v$$"
   ]
  },
  {
   "cell_type": "markdown",
   "metadata": {},
   "source": [
    "It turns out that the smallest possible dimension of such an algebra is $dim(\\mathbb{G})=4$, and since we can generate it from $\\mathbb{R}^2$, it's usually denoted by $\\mathbb{G}(2)$. I'd like to only add a single assumption and that is: $\\mathbb{G}(2)$ has a 2-dimensional sub-space (not a sub-algegra!) $\\hat{\\mathbb{G}}$ thats isomorphic to $\\mathbb{R}^2$. This already allows us to conclude that there is an orthonormal basis for that sub-space $e_1$ and $e_2$ and every element $u$ from that subspace can be expressed as a linear combination of those:\n",
    "\n",
    "$$\n",
    "\\forall u\\in \\hat{\\mathbb{G}}, \\exists a,b \\in \\mathbb{R}: u = a\\mathbf{e}_1 + b\\mathbf{e}_2\n",
    "$$"
   ]
  },
  {
   "cell_type": "code",
   "execution_count": null,
   "metadata": {},
   "outputs": [],
   "source": []
  }
 ],
 "metadata": {
  "kernelspec": {
   "display_name": "Python 2",
   "language": "python",
   "name": "python2"
  },
  "language_info": {
   "codemirror_mode": {
    "name": "ipython",
    "version": 2
   },
   "file_extension": ".py",
   "mimetype": "text/x-python",
   "name": "python",
   "nbconvert_exporter": "python",
   "pygments_lexer": "ipython2",
   "version": "2.7.15rc1"
  }
 },
 "nbformat": 4,
 "nbformat_minor": 2
}
