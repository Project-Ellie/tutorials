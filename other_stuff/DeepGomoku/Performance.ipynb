{
 "cells": [
  {
   "cell_type": "code",
   "execution_count": 1,
   "metadata": {},
   "outputs": [],
   "source": [
    "%load_ext autoreload\n",
    "%autoreload 2"
   ]
  },
  {
   "cell_type": "code",
   "execution_count": 100,
   "metadata": {},
   "outputs": [
    {
     "data": {
      "text/plain": [
       "[[2147483648, 0, 0, 0, 8388608, 0, 0, 0, 32768],\n",
       " [0, 1073741824, 0, 0, 4194304, 0, 0, 16384, 0],\n",
       " [0, 0, 536870912, 0, 2097152, 0, 8192, 0, 0],\n",
       " [0, 0, 0, 268435456, 1048576, 4096, 0, 0, 0],\n",
       " [1, 2, 4, 8, 0, 16, 32, 64, 128],\n",
       " [0, 0, 0, 2048, 524288, 134217728, 0, 0, 0],\n",
       " [0, 0, 1024, 0, 262144, 0, 67108864, 0, 0],\n",
       " [0, 512, 0, 0, 131072, 0, 0, 33554432, 0],\n",
       " [256, 0, 0, 0, 65536, 0, 0, 0, 16777216]]"
      ]
     },
     "execution_count": 100,
     "metadata": {},
     "output_type": "execute_result"
    }
   ],
   "source": [
    "impact9x9=[\n",
    "    [ \n",
    "        0x1 << c if r == 4 and c<4 \n",
    "        else 0x1 << (c-1) if c>4 and r==4\n",
    "\n",
    "        else 0x100 << c if c == 8-r and c<4\n",
    "        else 0x100 << (c-1) if c == 8-r and c>4\n",
    "\n",
    "        else 0x10000 << 8-r-1 if r<4 and c == 4  \n",
    "        else 0x10000 << 8-r if r>4 and c==4\n",
    "\n",
    "        else 0x1000000 << 8-c-1 if c == r and c<4\n",
    "        else 0x1000000 << 8-c if c == r and c>4\n",
    "\n",
    "        else 0\n",
    "         for c in range(9) \n",
    "    ] for r in range(9) \n",
    "]\n",
    "impact9x9"
   ]
  },
  {
   "cell_type": "code",
   "execution_count": 120,
   "metadata": {},
   "outputs": [
    {
     "data": {
      "text/plain": [
       "[0, 0, 0, 0, 0, 1, 0, 0]"
      ]
     },
     "execution_count": 120,
     "metadata": {},
     "output_type": "execute_result"
    }
   ],
   "source": [
    "# l3 is the nw-line. point 2,2 on that line sees the stone at a distance of 2\n",
    "x=impact9x9[2][2]\n",
    "l0=(x & 0xFF)\n",
    "l1=(x & 0xFF00) >> 8\n",
    "l2=(x & 0xFF0000) >> 16\n",
    "l3=(x & 0xFF000000) >> 24\n",
    "[np.sign(l3 & (1<<i)) for i in range(8)]"
   ]
  },
  {
   "cell_type": "code",
   "execution_count": 112,
   "metadata": {},
   "outputs": [],
   "source": [
    "def stone_at(r,c, n=15):\n",
    "    \"\"\"\n",
    "    Construct a complete nxn impact representation of a stone at row=r, col=c\n",
    "    \"\"\"\n",
    "    src=np.hstack([\n",
    "        np.zeros((n+8,c),dtype=np.int),\n",
    "        np.vstack([\n",
    "            np.zeros((r,9), dtype=np.int32), \n",
    "            impact9x9, \n",
    "            np.zeros((n-1-r,9), dtype=np.int32)\n",
    "        ]),\n",
    "        np.zeros((n+8,n-1-c),dtype=np.int)\n",
    "    ])\n",
    "    return (src[4:-4].T[4:-4].T).copy()"
   ]
  },
  {
   "cell_type": "code",
   "execution_count": 116,
   "metadata": {},
   "outputs": [],
   "source": [
    "s77=stone_at(7,7, n=15)"
   ]
  },
  {
   "cell_type": "code",
   "execution_count": 117,
   "metadata": {},
   "outputs": [
    {
     "data": {
      "text/plain": [
       "(15, 15)"
      ]
     },
     "execution_count": 117,
     "metadata": {},
     "output_type": "execute_result"
    }
   ],
   "source": [
    "np.shape(s77)"
   ]
  },
  {
   "cell_type": "code",
   "execution_count": 118,
   "metadata": {},
   "outputs": [
    {
     "name": "stderr",
     "output_type": "stream",
     "text": [
      "/Users/wgiersche/workspace/tutorials/other_stuff/venv3/lib/python3.6/site-packages/ipykernel_launcher.py:1: RuntimeWarning: divide by zero encountered in log2\n",
      "  \"\"\"Entry point for launching an IPython kernel.\n"
     ]
    },
    {
     "data": {
      "text/plain": [
       "array([[ 31., -inf, -inf, -inf,  23., -inf, -inf, -inf,  15.],\n",
       "       [-inf,  30., -inf, -inf,  22., -inf, -inf,  14., -inf],\n",
       "       [-inf, -inf,  29., -inf,  21., -inf,  13., -inf, -inf],\n",
       "       [-inf, -inf, -inf,  28.,  20.,  12., -inf, -inf, -inf],\n",
       "       [  0.,   1.,   2.,   3., -inf,   4.,   5.,   6.,   7.],\n",
       "       [-inf, -inf, -inf,  11.,  19.,  27., -inf, -inf, -inf],\n",
       "       [-inf, -inf,  10., -inf,  18., -inf,  26., -inf, -inf],\n",
       "       [-inf,   9., -inf, -inf,  17., -inf, -inf,  25., -inf],\n",
       "       [  8., -inf, -inf, -inf,  16., -inf, -inf, -inf,  24.]])"
      ]
     },
     "execution_count": 118,
     "metadata": {},
     "output_type": "execute_result"
    }
   ],
   "source": [
    "np.log2(s77[3:-3].T[3:-3].T)"
   ]
  },
  {
   "cell_type": "code",
   "execution_count": 111,
   "metadata": {},
   "outputs": [
    {
     "data": {
      "text/plain": [
       "1912"
      ]
     },
     "execution_count": 111,
     "metadata": {},
     "output_type": "execute_result"
    }
   ],
   "source": [
    "import sys\n",
    "sys.getsizeof(s77)"
   ]
  },
  {
   "cell_type": "code",
   "execution_count": 136,
   "metadata": {},
   "outputs": [],
   "source": [
    "n=15\n",
    "impacts=[[stone_at(r,c,n) for c in range(n)] for r in range(n)]"
   ]
  },
  {
   "cell_type": "code",
   "execution_count": 137,
   "metadata": {},
   "outputs": [
    {
     "data": {
      "text/plain": [
       "array([[     0,      0,      0,      0,      0,      0,      0,      0,\n",
       "             0,      0,      1,      2,      4,      8,      0],\n",
       "       [     0,      0,      0,      0,      0,      0,      0,      0,\n",
       "             0,      0,      0,      0,      0,   2048, 524288],\n",
       "       [     0,      0,      0,      0,      0,      0,      0,      0,\n",
       "             0,      0,      0,      0,   1024,      0, 262144],\n",
       "       [     0,      0,      0,      0,      0,      0,      0,      0,\n",
       "             0,      0,      0,    512,      0,      0, 131072],\n",
       "       [     0,      0,      0,      0,      0,      0,      0,      0,\n",
       "             0,      0,    256,      0,      0,      0,  65536],\n",
       "       [     0,      0,      0,      0,      0,      0,      0,      0,\n",
       "             0,      0,      0,      0,      0,      0,      0],\n",
       "       [     0,      0,      0,      0,      0,      0,      0,      0,\n",
       "             0,      0,      0,      0,      0,      0,      0],\n",
       "       [     0,      0,      0,      0,      0,      0,      0,      0,\n",
       "             0,      0,      0,      0,      0,      0,      0],\n",
       "       [     0,      0,      0,      0,      0,      0,      0,      0,\n",
       "             0,      0,      0,      0,      0,      0,      0],\n",
       "       [     0,      0,      0,      0,      0,      0,      0,      0,\n",
       "             0,      0,      0,      0,      0,      0,      0],\n",
       "       [     0,      0,      0,      0,      0,      0,      0,      0,\n",
       "             0,      0,      0,      0,      0,      0,      0],\n",
       "       [     0,      0,      0,      0,      0,      0,      0,      0,\n",
       "             0,      0,      0,      0,      0,      0,      0],\n",
       "       [     0,      0,      0,      0,      0,      0,      0,      0,\n",
       "             0,      0,      0,      0,      0,      0,      0],\n",
       "       [     0,      0,      0,      0,      0,      0,      0,      0,\n",
       "             0,      0,      0,      0,      0,      0,      0],\n",
       "       [     0,      0,      0,      0,      0,      0,      0,      0,\n",
       "             0,      0,      0,      0,      0,      0,      0]])"
      ]
     },
     "execution_count": 137,
     "metadata": {},
     "output_type": "execute_result"
    }
   ],
   "source": [
    "(impacts[0][14])"
   ]
  },
  {
   "cell_type": "code",
   "execution_count": 139,
   "metadata": {},
   "outputs": [
    {
     "data": {
      "text/plain": [
       "2056"
      ]
     },
     "execution_count": 139,
     "metadata": {},
     "output_type": "execute_result"
    }
   ],
   "source": [
    "(impacts[0][14] | impacts[1][14])[1][13]"
   ]
  },
  {
   "cell_type": "markdown",
   "metadata": {},
   "source": [
    "That's 2048 (bit 3 on north east line) and 8 (bit 3 on east line)\n",
    "\n",
    "The above expression answers the question what an observer on (1,13) sees when (0,14) and (1,14) are occupied:\n",
    "It sees the two stones in one step each to north east and east respectively. That's what we expect.\n",
    "```\n",
    "      (0,14)\n",
    "(1,13)(1,14)\n",
    "```\n",
    "\n",
    "So, the full impact of an ensemble of stones on the entire field is simply computed by or-ing the pre-computed impacts of each stone within that ensemble. That's orders of magnitude faster than the for-comprehension we used in the naive approach."
   ]
  },
  {
   "cell_type": "markdown",
   "metadata": {},
   "source": [
    "---"
   ]
  },
  {
   "cell_type": "code",
   "execution_count": 1,
   "metadata": {},
   "outputs": [],
   "source": [
    "import tensorflow as tf"
   ]
  },
  {
   "cell_type": "code",
   "execution_count": 2,
   "metadata": {},
   "outputs": [],
   "source": [
    "black=0x8A458133\n",
    "white=0x41824284"
   ]
  },
  {
   "cell_type": "code",
   "execution_count": 3,
   "metadata": {},
   "outputs": [],
   "source": [
    "# neighbourhoods black and white\n",
    "nb = tf.constant(black, dtype=tf.int32)\n",
    "nw = tf.constant(white, dtype=tf.int32)"
   ]
  },
  {
   "cell_type": "code",
   "execution_count": 4,
   "metadata": {},
   "outputs": [],
   "source": [
    "nw_b = tf.bitwise.bitwise_and(0xFF, tf.bitwise.right_shift(nb, 0))\n",
    "n_b = tf.bitwise.bitwise_and(0xFF, tf.bitwise.right_shift(nb, 8))\n",
    "ne_b = tf.bitwise.bitwise_and(0xFF, tf.bitwise.right_shift(nb, 16))\n",
    "e_b = tf.bitwise.bitwise_and(0xFF, tf.bitwise.right_shift(nb, 24))\n",
    "\n",
    "nw_w = tf.bitwise.bitwise_and(0xFF, tf.bitwise.right_shift(nw, 0))\n",
    "n_w = tf.bitwise.bitwise_and(0xFF, tf.bitwise.right_shift(nw, 8))\n",
    "ne_w = tf.bitwise.bitwise_and(0xFF, tf.bitwise.right_shift(nw, 16))\n",
    "e_w = tf.bitwise.bitwise_and(0xFF, tf.bitwise.right_shift(nw, 24))"
   ]
  },
  {
   "cell_type": "code",
   "execution_count": 5,
   "metadata": {},
   "outputs": [
    {
     "name": "stdout",
     "output_type": "stream",
     "text": [
      "66\n"
     ]
    }
   ],
   "source": [
    "with tf.Session() as s:\n",
    "    print(n_w.eval())"
   ]
  },
  {
   "cell_type": "code",
   "execution_count": 181,
   "metadata": {},
   "outputs": [],
   "source": [
    "keys=[256*b+w for b in range(256) for w in range(256)]\n",
    "values=keys\n",
    "table = tf.contrib.lookup.HashTable(\n",
    "        tf.contrib.lookup.KeyValueTensorInitializer(keys, values),\n",
    "        0)"
   ]
  },
  {
   "cell_type": "code",
   "execution_count": 188,
   "metadata": {},
   "outputs": [
    {
     "name": "stdout",
     "output_type": "stream",
     "text": [
      "10\n"
     ]
    }
   ],
   "source": [
    "with tf.Session():\n",
    "    table.init.run()\n",
    "    out=table.lookup(tf.constant(10))\n",
    "    print(out.eval())"
   ]
  },
  {
   "cell_type": "code",
   "execution_count": 193,
   "metadata": {},
   "outputs": [],
   "source": [
    "class TotalScore:\n",
    "\n",
    "    def __init__(self, kappa1):\n",
    "\n",
    "        keys, values = ...TODO!\n",
    "        \n",
    "        self.kappa1 = kappa1\n",
    "        self.table = tf.contrib.lookup.HashTable(\n",
    "            tf.contrib.lookup.KeyValueTensorInitializer(keys, values),0)\n",
    "    \n",
    "    def as_tensor(self, nb, nw):    \n",
    "        nw_b = tf.bitwise.bitwise_and(0xFF, tf.bitwise.right_shift(nb, 0))\n",
    "        n_b = tf.bitwise.bitwise_and(0xFF, tf.bitwise.right_shift(nb, 8))\n",
    "        ne_b = tf.bitwise.bitwise_and(0xFF, tf.bitwise.right_shift(nb, 16))\n",
    "        e_b = tf.bitwise.bitwise_and(0xFF, tf.bitwise.right_shift(nb, 24))\n",
    "\n",
    "        nw_w = tf.bitwise.bitwise_and(0xFF, tf.bitwise.right_shift(nw, 0))\n",
    "        n_w = tf.bitwise.bitwise_and(0xFF, tf.bitwise.right_shift(nw, 8))\n",
    "        ne_w = tf.bitwise.bitwise_and(0xFF, tf.bitwise.right_shift(nw, 16))\n",
    "        e_w = tf.bitwise.bitwise_and(0xFF, tf.bitwise.right_shift(nw, 24)) \n",
    "\n",
    "        score_nw_w = self.table.lookup(256*nw_w + nw_b)\n",
    "        score_n_w = self.table.lookup(256*n_w + n_b)\n",
    "        score_ne_w = self.table.lookup(256*ne_w + ne_b)\n",
    "        score_e_w = self.table.lookup(256*e_w + e_b)\n",
    "\n",
    "        score_nw_b = self.table.lookup(256*nw_b + nw_w)\n",
    "        score_n_b = self.table.lookup(256*n_b + n_w)\n",
    "        score_ne_b = self.table.lookup(256*ne_b + ne_w)\n",
    "        score_e_b = self.table.lookup(256*e_b + e_w)\n",
    "\n",
    "        ts_w = tf.add( \n",
    "            tf.pow(score_nw_w, tf.kappa1),\n",
    "            tf.add (\n",
    "                tf.pow(score_n_w, tf.kappa1),\n",
    "                tf.add (\n",
    "                    tf.pow(score_ne_w, tf.kappa1), \n",
    "                    score_e_w)))\n",
    "\n",
    "        ts_b = tf.add( \n",
    "            tf.pow(score_nw_b, tf.kappa1),\n",
    "            tf.add (\n",
    "                tf.pow(score_n_b, tf.kappa1),\n",
    "                tf.add (\n",
    "                    tf.pow(score_ne_b, tf.kappa1), \n",
    "                    score_e_b)))\n",
    "\n",
    "        "
   ]
  },
  {
   "cell_type": "code",
   "execution_count": 207,
   "metadata": {},
   "outputs": [
    {
     "data": {
      "text/plain": [
       "6"
      ]
     },
     "execution_count": 207,
     "metadata": {},
     "output_type": "execute_result"
    }
   ],
   "source": [
    "b=0x81\n",
    "hib=[4,0,1,0,2,0,1,0,3,0,1,0,2,0,1,0]\n",
    "lob=[4,3,2,2,1,1,1,1,0,0,0,0,0,0,0,0]\n",
    "rh = (b & 0xF0) >> 4\n",
    "rl = b & 0xF\n",
    "hib[rh]+lob[rl]"
   ]
  },
  {
   "cell_type": "code",
   "execution_count": 29,
   "metadata": {},
   "outputs": [],
   "source": [
    "def central_mask(b):\n",
    "    \"\"\"\n",
    "    determine a mask covering the 'central' zero bits\n",
    "    e.g. central_mask( 0 1 0 0 | 0 0 1 1 ) =\n",
    "                       0 0 1 1 | 1 1 0 0 = (60, 4)\n",
    "    Args:\n",
    "        b: an 8 bit integer representing a line of stones of one color\n",
    "    Returns:\n",
    "        a pair of tensors:\n",
    "        1. A bit mask covering the central 'empty' region\n",
    "        2. The length of that masked region.\n",
    "    \"\"\"\n",
    "    hi_len  = tf.constant([4,0,1,0,2,0,1,0,3,0,1,0,2,0,1,0], dtype=tf.int32) \n",
    "    hi_mask = tf.constant(\n",
    "        [0xF0,0x00,0x10,0x00,0x30,0x00,0x10,0x00,0x70,0x00,0x10,0x00,0x30,0x00,0x10,0x00], \n",
    "        dtype=tf.int32) # hi byte\n",
    "\n",
    "    lo_len  = tf.constant([4,3,2,2,1,1,1,1,0,0,0,0,0,0,0,0], dtype=tf.int32)\n",
    "    lo_mask = tf.constant(\n",
    "        [0xF,0xE,0xC,0xC,0x8,0x8,0x8,0x8,0x0,0x0,0x0,0x0,0x0,0x0,0x0,0x0], \n",
    "        dtype=tf.int32) # lo byte\n",
    "\n",
    "    i_h = tf.bitwise.right_shift(tf.bitwise.bitwise_and(b, 0xF0), 4)\n",
    "    i_l = tf.bitwise.bitwise_and(b, 0xF)\n",
    "\n",
    "    return hi_mask[i_h] + lo_mask[i_l], hi_len[i_h] + lo_len[i_l]"
   ]
  },
  {
   "cell_type": "code",
   "execution_count": 30,
   "metadata": {},
   "outputs": [],
   "source": [
    "bits = tf.placeholder(shape=(), dtype=tf.int32, name='bits')"
   ]
  },
  {
   "cell_type": "code",
   "execution_count": 31,
   "metadata": {},
   "outputs": [],
   "source": [
    "cm_t = central_mask(bits)"
   ]
  },
  {
   "cell_type": "code",
   "execution_count": 32,
   "metadata": {},
   "outputs": [
    {
     "name": "stdout",
     "output_type": "stream",
     "text": [
      "(60, 4)\n"
     ]
    }
   ],
   "source": [
    "with tf.Session() as sess:\n",
    "    print(sess.run(cm_t, feed_dict={bits: 0x43}))"
   ]
  },
  {
   "cell_type": "code",
   "execution_count": 1,
   "metadata": {},
   "outputs": [],
   "source": [
    "from GomokuBoard import GomokuBoard\n",
    "b = GomokuBoard(size=15, disp_width=6)"
   ]
  },
  {
   "cell_type": "code",
   "execution_count": 23,
   "metadata": {},
   "outputs": [
    {
     "data": {
      "text/plain": [
       "[(None, 6), (2, 6), (2, None), (2, None)]"
      ]
     },
     "execution_count": 23,
     "metadata": {},
     "output_type": "execute_result"
    }
   ],
   "source": [
    "edges = b.all_edges(13,2)\n",
    "edges"
   ]
  },
  {
   "cell_type": "code",
   "execution_count": 22,
   "metadata": {},
   "outputs": [
    {
     "data": {
      "text/plain": [
       "[(0, 7), (3, 7), (3, 9), (3, 9)]"
      ]
     },
     "execution_count": 22,
     "metadata": {},
     "output_type": "execute_result"
    }
   ],
   "source": [
    "[(0 if l is None else l+1, 9 if r is None else r+1) for l,r in edges]"
   ]
  },
  {
   "cell_type": "code",
   "execution_count": 24,
   "metadata": {},
   "outputs": [],
   "source": [
    "edge_masks=[\n",
    "    (0xF, 4), (0x7, 3), (0x3, 2), (0x1, 1), (0x0, 0),\n",
    "    (0x0, 0), (0x8, 1), (0xC, 2), (0xE, 3), (0xF, 4)\n",
    "]"
   ]
  },
  {
   "cell_type": "code",
   "execution_count": 39,
   "metadata": {},
   "outputs": [
    {
     "data": {
      "text/plain": [
       "(0.0, 0.0)"
      ]
     },
     "execution_count": 39,
     "metadata": {},
     "output_type": "execute_result"
    }
   ],
   "source": [
    "b.set(3,12).set(5,10).get_scores('b',1,14)"
   ]
  },
  {
   "cell_type": "markdown",
   "metadata": {},
   "source": [
    "---\n",
    "---"
   ]
  },
  {
   "cell_type": "code",
   "execution_count": 13,
   "metadata": {},
   "outputs": [
    {
     "name": "stdout",
     "output_type": "stream",
     "text": [
      "The autoreload extension is already loaded. To reload it, use:\n",
      "  %reload_ext autoreload\n"
     ]
    }
   ],
   "source": [
    "%load_ext autoreload\n",
    "%autoreload 2"
   ]
  },
  {
   "cell_type": "markdown",
   "metadata": {},
   "source": [
    "## The old world\n",
    "#### Good in memory consumption - but painfully slow \n",
    "You can watch the scores being displayed with significant time lapses inbetween."
   ]
  },
  {
   "cell_type": "code",
   "execution_count": 14,
   "metadata": {},
   "outputs": [],
   "source": [
    "import numpy as np\n",
    "from GomokuBoard import GomokuBoard"
   ]
  },
  {
   "cell_type": "code",
   "execution_count": 15,
   "metadata": {},
   "outputs": [
    {
     "name": "stdout",
     "output_type": "stream",
     "text": [
      "(2.0, 0.0)\n",
      "(0.0, 2.5198420997897464)\n",
      "(2.8844991406148166, 0.0)\n"
     ]
    },
    {
     "data": {
      "image/png": "[encoded data removed]",
      "text/plain": [
       "<Figure size 432x432 with 1 Axes>"
      ]
     },
     "metadata": {
      "needs_background": "light"
     },
     "output_type": "display_data"
    }
   ],
   "source": [
    "b = GomokuBoard(size=15, disp_width=6)\n",
    "print(b.set(3,12).set(6,9).set(4,11).get_scores('b',2,13))\n",
    "print(b.set(12,5).set(9,2).set(11,4).get_scores('b',13,6))\n",
    "print(b.set(13,11).set(13,8).set(13,12).get_scores('b',13,13))\n",
    "b.display(score='b')"
   ]
  },
  {
   "cell_type": "markdown",
   "metadata": {},
   "source": [
    "---\n",
    "## Trading memory for speed\n",
    "\n",
    "#### Recording stone impacts\n",
    "\n",
    "Every stone creates an *impression* on its adjacent positions. The reach of every stone is 4 in each direction, so the influence of a stone can be expressed as a matrix of $9 \\times 9$ 32 bit integers representing the view on the stone from that position. This is what ```impact9x9``` is all about"
   ]
  },
  {
   "cell_type": "code",
   "execution_count": 16,
   "metadata": {},
   "outputs": [
    {
     "data": {
      "text/plain": [
       "[[2147483648, 0, 0, 0, 8388608, 0, 0, 0, 32768],\n",
       " [0, 1073741824, 0, 0, 4194304, 0, 0, 16384, 0],\n",
       " [0, 0, 536870912, 0, 2097152, 0, 8192, 0, 0],\n",
       " [0, 0, 0, 268435456, 1048576, 4096, 0, 0, 0],\n",
       " [1, 2, 4, 8, 0, 16, 32, 64, 128],\n",
       " [0, 0, 0, 2048, 524288, 134217728, 0, 0, 0],\n",
       " [0, 0, 1024, 0, 262144, 0, 67108864, 0, 0],\n",
       " [0, 512, 0, 0, 131072, 0, 0, 33554432, 0],\n",
       " [256, 0, 0, 0, 65536, 0, 0, 0, 16777216]]"
      ]
     },
     "execution_count": 16,
     "metadata": {},
     "output_type": "execute_result"
    }
   ],
   "source": [
    "impact9x9=[\n",
    "    [ \n",
    "        0x1 << c if r == 4 and c<4 \n",
    "        else 0x1 << (c-1) if c>4 and r==4\n",
    "\n",
    "        else 0x100 << c if c == 8-r and c<4\n",
    "        else 0x100 << (c-1) if c == 8-r and c>4\n",
    "\n",
    "        else 0x10000 << 8-r-1 if r<4 and c == 4  \n",
    "        else 0x10000 << 8-r if r>4 and c==4\n",
    "\n",
    "        else 0x1000000 << 8-c-1 if c == r and c<4\n",
    "        else 0x1000000 << 8-c if c == r and c>4\n",
    "\n",
    "        else 0\n",
    "         for c in range(9) \n",
    "    ] for r in range(9) \n",
    "]\n",
    "impact9x9"
   ]
  },
  {
   "cell_type": "markdown",
   "metadata": {},
   "source": [
    "It's much easier to see what's going on, if we look at the base-2 logarithms. Then what we get is the position of the single bit that is set for each number."
   ]
  },
  {
   "cell_type": "code",
   "execution_count": 17,
   "metadata": {},
   "outputs": [
    {
     "name": "stderr",
     "output_type": "stream",
     "text": [
      "/Users/wgiersche/workspace/tutorials/other_stuff/venv3/lib/python3.6/site-packages/ipykernel_launcher.py:1: RuntimeWarning: divide by zero encountered in log2\n",
      "  \"\"\"Entry point for launching an IPython kernel.\n"
     ]
    },
    {
     "data": {
      "text/plain": [
       "array([[ 31., -inf, -inf, -inf,  23., -inf, -inf, -inf,  15.],\n",
       "       [-inf,  30., -inf, -inf,  22., -inf, -inf,  14., -inf],\n",
       "       [-inf, -inf,  29., -inf,  21., -inf,  13., -inf, -inf],\n",
       "       [-inf, -inf, -inf,  28.,  20.,  12., -inf, -inf, -inf],\n",
       "       [  0.,   1.,   2.,   3., -inf,   4.,   5.,   6.,   7.],\n",
       "       [-inf, -inf, -inf,  11.,  19.,  27., -inf, -inf, -inf],\n",
       "       [-inf, -inf,  10., -inf,  18., -inf,  26., -inf, -inf],\n",
       "       [-inf,   9., -inf, -inf,  17., -inf, -inf,  25., -inf],\n",
       "       [  8., -inf, -inf, -inf,  16., -inf, -inf, -inf,  24.]])"
      ]
     },
     "execution_count": 17,
     "metadata": {},
     "output_type": "execute_result"
    }
   ],
   "source": [
    "np.log2(impact9x9)"
   ]
  },
  {
   "cell_type": "markdown",
   "metadata": {},
   "source": [
    "The central integer 0 is the position of the stone. If you go two steps north-east from there, you'll land at position $(6,2)$ with $V=8192$. Let's derive the meaning of that number. Each of the four bytes of the number describes a particular direction from east counter-clock-wise to north-west. So we'll look at the 8 bits of the seconde byte ```l1```: "
   ]
  },
  {
   "cell_type": "code",
   "execution_count": 18,
   "metadata": {},
   "outputs": [
    {
     "data": {
      "text/plain": [
       "{'e': [0, 0, 0, 0, 0, 0, 0, 0],\n",
       " 'ne': [0, 0, 1, 0, 0, 0, 0, 0],\n",
       " 'n': [0, 0, 0, 0, 0, 0, 0, 0],\n",
       " 'nw': [0, 0, 0, 0, 0, 0, 0, 0]}"
      ]
     },
     "execution_count": 18,
     "metadata": {},
     "output_type": "execute_result"
    }
   ],
   "source": [
    "def as_bits(byte):\n",
    "    return [np.sign(byte & (1<<i)) for i in range(8)]\n",
    "\n",
    "def as_bitarray(code):\n",
    "    # l3 is the nw-line. point 2,2 on that line sees the stone at a distance of 2\n",
    "    l=code\n",
    "    l0=(l & 0xFF)               # east\n",
    "    l1=(l & 0xFF00) >> 8        # north east\n",
    "    l2=(l & 0xFF0000) >> 16     # north\n",
    "    l3=(l & 0xFF000000) >> 24   # north west\n",
    "    return {\n",
    "        'e': as_bits(l0),\n",
    "        'ne': as_bits(l1),\n",
    "        'n': as_bits(l2),\n",
    "        'nw': as_bits(l3)\n",
    "    }\n",
    "as_bitarray(impact9x9[6][2])"
   ]
  },
  {
   "cell_type": "markdown",
   "metadata": {},
   "source": [
    "This 'ne' bit array represents the following line on the board: Position $V$ *sees* our stone 2 steps in sw-west direction, which is exactly what we wanted to achieve.\n",
    "```\n",
    ". . . . . . . . 0  \n",
    ". . . . . . . 0 . \n",
    ". . . . . . 0 . . \n",
    ". . . . . 0 . . . \n",
    ". . . . V . . . .\n",
    ". . . 0 . . . . .\n",
    ". . 1 . . . . . .\n",
    ". 0 . . . . . . .\n",
    "0 . . . . . . . .\n",
    "```"
   ]
  },
  {
   "cell_type": "markdown",
   "metadata": {},
   "source": [
    "Now, this is all about performance in this notebook. We trade memory for speed. So we pre-compute the impact for each possible position on the entire board and store it! Hence, for each position we can just lookup the impact of a stone should we put it there. And the good news is: The bit representation of the total impact of any number of stones can simply be computed by bitwise or-ing each single impact. \n",
    "\n",
    "In the below implementation we even trade more memory for computational ease."
   ]
  },
  {
   "cell_type": "code",
   "execution_count": 19,
   "metadata": {},
   "outputs": [],
   "source": [
    "n = 15\n",
    "def stone_at(r,c):\n",
    "    \"\"\"\n",
    "    Construct a complete nxn impact representation of a stone at row=r, col=c\n",
    "    \"\"\"\n",
    "    src=np.hstack([\n",
    "        np.zeros((n+8,c),dtype=np.int),\n",
    "        np.vstack([\n",
    "            np.zeros((r,9), dtype=np.int32), \n",
    "            impact9x9, \n",
    "            np.zeros((n-1-r,9), dtype=np.int32)\n",
    "        ]),\n",
    "        np.zeros((n+8,n-1-c),dtype=np.int)\n",
    "    ])\n",
    "    return (src[4:-4].T[4:-4].T).copy()\n",
    "\n",
    "stones = [[stone_at(r,c) for c in range(n)] for r in range(n)]"
   ]
  },
  {
   "cell_type": "markdown",
   "metadata": {},
   "source": [
    "Let's look at an example, now in board coordinates, i.e. 1-15 left to right, 1-15 bottom up. The stone at (8,8) viewed from 2 steps nw, which is (6,10) results in the following representation."
   ]
  },
  {
   "cell_type": "code",
   "execution_count": 20,
   "metadata": {},
   "outputs": [],
   "source": [
    "def m2b(m, size=15):\n",
    "    \"\"\"matrix index to board position\"\"\"\n",
    "    r, c = m\n",
    "    return np.array([size-r, c+1])\n",
    "\n",
    "def b2m(p, size=15):\n",
    "    \"\"\"board position to matrix index\"\"\"\n",
    "    x, y = p\n",
    "    return np.array([size-y, x-1])"
   ]
  },
  {
   "cell_type": "code",
   "execution_count": 21,
   "metadata": {},
   "outputs": [
    {
     "data": {
      "text/plain": [
       "{'e': [0, 0, 0, 0, 0, 0, 0, 0],\n",
       " 'ne': [0, 0, 0, 0, 0, 0, 0, 0],\n",
       " 'n': [0, 0, 0, 0, 0, 0, 0, 0],\n",
       " 'nw': [0, 0, 1, 0, 0, 0, 0, 0]}"
      ]
     },
     "execution_count": 21,
     "metadata": {},
     "output_type": "execute_result"
    }
   ],
   "source": [
    "rs, cs = b2m((8,8))\n",
    "rv, cv = b2m((10,6))\n",
    "\n",
    "as_bitarray(stones            \n",
    "            [rs][cs]    # the stone\n",
    "            [rv][cv]    # viewed from\n",
    "           )   "
   ]
  },
  {
   "cell_type": "markdown",
   "metadata": {},
   "source": [
    "```\n",
    "0 . . . . . . . .  \n",
    ". 0 . . . . . . . \n",
    ". . 0 . . . . . . \n",
    ". . . 0 . . . . . \n",
    ". . . . V . . . .\n",
    ". . . . . 0 . . .\n",
    ". . . . . . 1 . .\n",
    ". . . . . . . 0 .\n",
    ". . . . . . . . 0\n",
    "```"
   ]
  },
  {
   "cell_type": "markdown",
   "metadata": {},
   "source": [
    "```stones``` is an array of 15x15 = 225 complete boards having pre-computed impacts for each field once occupied. The *or-ed* overlay of $n$ of those boards will represent the board having the $n$ stones on it."
   ]
  },
  {
   "cell_type": "code",
   "execution_count": 22,
   "metadata": {},
   "outputs": [
    {
     "data": {
      "text/plain": [
       "array([[      0,       0,       0,       0,       0,       0,       0,\n",
       "              0,       0,       0,       0,       0,       0,       0,\n",
       "              0],\n",
       "       [      0,       0,       0,       0,       0,       0,       0,\n",
       "              0,       0,       0,       0,       0,       0,       0,\n",
       "              0],\n",
       "       [      0,       0,       0,       0,       0,       0,       0,\n",
       "              0,       0,       0,       0,       0,       0,       0,\n",
       "              0],\n",
       "       [      0,       0,       0,       0,       0,       0,       0,\n",
       "              0,       0,       0,       0,       0,       0,       0,\n",
       "              0],\n",
       "       [      0,       0,       0,       0,       0,       0,       0,\n",
       "              0,       0,       0,       0,       0,       0,       0,\n",
       "              0],\n",
       "       [      0,       0,       0,       0,       0,       0,       0,\n",
       "              0,       0,       0,       0,       0,       0,       0,\n",
       "              0],\n",
       "       [      0,       0,       0,       0,       0,       0,       0,\n",
       "              0,       0,       0,       0,       0,       0,       0,\n",
       "              0],\n",
       "       [      0,       0,       0,       0,       0,       0,       0,\n",
       "              0,       0,       0,       0,       0,       0,       0,\n",
       "              0],\n",
       "       [      0,       0,       0,       0,       0,       0,       0,\n",
       "              0,       0,       0,       0,       0,       0,       0,\n",
       "              0],\n",
       "       [      0,       0,       0,       0,       0,       0,       0,\n",
       "              0,       0,       0,       0,       0,       0,       0,\n",
       "              0],\n",
       "       [8388608,       0,       0,       0,   32768,       0,       0,\n",
       "              0,       0,       0,       0,       0,       0,       0,\n",
       "              0],\n",
       "       [4194304,       0,       0,   16384,       0,       0,       0,\n",
       "              0,       0,       0,       0,       0,       0,       0,\n",
       "              0],\n",
       "       [2097152,       0,    8192,       0,       0,       0,       0,\n",
       "              0,       0,       0,       0,       0,       0,       0,\n",
       "              0],\n",
       "       [1048576,    4096,       0,       0,       0,       0,       0,\n",
       "              0,       0,       0,       0,       0,       0,       0,\n",
       "              0],\n",
       "       [      0,      16,      32,      64,     128,       0,       0,\n",
       "              0,       0,       0,       0,       0,       0,       0,\n",
       "              0]])"
      ]
     },
     "execution_count": 22,
     "metadata": {},
     "output_type": "execute_result"
    }
   ],
   "source": [
    "r, c = b2m((1,1))\n",
    "stones[r][c]"
   ]
  },
  {
   "cell_type": "markdown",
   "metadata": {},
   "source": [
    "Now, the complete Gomoku board is represented by 2 overlays, one for the black stones, and one for the white ones."
   ]
  },
  {
   "cell_type": "code",
   "execution_count": 23,
   "metadata": {},
   "outputs": [],
   "source": [
    "class FastGomokuBoard:\n",
    "    \n",
    "    def __init__(self, size=15):\n",
    "        self.current_color=0\n",
    "        self.size = size\n",
    "        self.impacts=[\n",
    "            np.zeros([size,size], dtype=np.int32),\n",
    "            np.zeros([size,size], dtype=np.int32)]\n",
    "    \n",
    "    def m2b(self, m):\n",
    "        \"\"\"matrix index to board position\"\"\"\n",
    "        r, c = m\n",
    "        return np.array([self.size-r, c+1])\n",
    "\n",
    "    def b2m(self, p):\n",
    "        \"\"\"board position to matrix index\"\"\"\n",
    "        x, y = p\n",
    "        return np.array([self.size-y, x-1])\n",
    "\n",
    "    def next(self):\n",
    "        self.current_color = 1 - self.current_color\n",
    "        return 1 - self.current_color\n",
    "        \n",
    "    def color_index(self, c):\n",
    "        return 0 if c=='b' else 1\n",
    "    \n",
    "    def set(self, x,y):\n",
    "        r, c = self.b2m((x,y))\n",
    "        self.impacts[self.next()] |= stones[r][c]\n",
    "        return self\n",
    "\n",
    "    def getnh(self, x,y):\n",
    "        r, c = self.b2m((x,y))\n",
    "        return (self.impacts[0][r][c], self.impacts[1][r][c])\n",
    "        "
   ]
  },
  {
   "cell_type": "code",
   "execution_count": 24,
   "metadata": {},
   "outputs": [
    {
     "data": {
      "text/plain": [
       "(16, 0)"
      ]
     },
     "execution_count": 24,
     "metadata": {},
     "output_type": "execute_result"
    }
   ],
   "source": [
    "b1 = FastGomokuBoard()\n",
    "b1.set(1,1)\n",
    "b1.getnh(2,1)"
   ]
  },
  {
   "cell_type": "markdown",
   "metadata": {},
   "source": [
    "(2,1) sees (1,1) adjacent to the west: line=$[0,0,0,1,0,0,0,0] = 16$"
   ]
  },
  {
   "cell_type": "markdown",
   "metadata": {},
   "source": [
    "---\n",
    "## Counts and scores"
   ]
  },
  {
   "cell_type": "code",
   "execution_count": 25,
   "metadata": {},
   "outputs": [
    {
     "data": {
      "text/plain": [
       "(262144, 1024)"
      ]
     },
     "execution_count": 25,
     "metadata": {},
     "output_type": "execute_result"
    }
   ],
   "source": [
    "b1 = FastGomokuBoard()\n",
    "b1.set(4,4).set(6,4)\n",
    "nh = b1.getnh(4,2)\n",
    "nh"
   ]
  },
  {
   "cell_type": "code",
   "execution_count": 26,
   "metadata": {},
   "outputs": [],
   "source": [
    "from HeuristicScore import HeuristicScore\n",
    "from LineScores import LineScoresHelper\n",
    "h = HeuristicScore(kappa0=2, kappa1=5)\n",
    "lsh = LineScoresHelper(h)"
   ]
  },
  {
   "cell_type": "code",
   "execution_count": 27,
   "metadata": {},
   "outputs": [
    {
     "name": "stdout",
     "output_type": "stream",
     "text": [
      "[0, 0, 1, 1, 0, 0, 0, 1] [1, 0, 0, 0, 0, 0, 1, 0]\n"
     ]
    },
    {
     "data": {
      "text/plain": [
       "((2, 3), 2.491461879231035)"
      ]
     },
     "execution_count": 27,
     "metadata": {},
     "output_type": "execute_result"
    }
   ],
   "source": [
    "print(lsh.as_bits(49), lsh.as_bits(130))\n",
    "lsh.lookup_score((43, 129))"
   ]
  },
  {
   "cell_type": "code",
   "execution_count": null,
   "metadata": {},
   "outputs": [],
   "source": [
    "for b in range(256):\n",
    "    for w in range(256):\n",
    "        line = [as_bits(b), as_bits(w)]\n",
    "        score = lsh.lookup_score((b,w), 0)\n",
    "        if score[0] != h.cscore(line, 0):\n",
    "            raise AssertionError(\"scores for %s, %s don't match\" % (b, w))\n",
    "            \n",
    "print(\"All 496 possible lines of eight stones yield the same score!\")\n",
    "# That assertion does even extend to illegal lines with two stones on top of each other."
   ]
  },
  {
   "cell_type": "code",
   "execution_count": null,
   "metadata": {},
   "outputs": [],
   "source": []
  }
 ],
 "metadata": {
  "kernelspec": {
   "display_name": "Python 3",
   "language": "python",
   "name": "python3"
  },
  "language_info": {
   "codemirror_mode": {
    "name": "ipython",
    "version": 3
   },
   "file_extension": ".py",
   "mimetype": "text/x-python",
   "name": "python",
   "nbconvert_exporter": "python",
   "pygments_lexer": "ipython3",
   "version": "3.6.4"
  }
 },
 "nbformat": 4,
 "nbformat_minor": 2
}
