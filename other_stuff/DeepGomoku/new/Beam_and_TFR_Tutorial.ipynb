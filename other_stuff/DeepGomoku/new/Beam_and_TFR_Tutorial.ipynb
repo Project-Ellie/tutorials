{
 "cells": [
  {
   "cell_type": "code",
   "execution_count": 44,
   "metadata": {},
   "outputs": [],
   "source": [
    "import os\n",
    "import numpy as np\n",
    "import pandas as pd\n",
    "import matplotlib.pyplot as plt\n",
    "import tensorflow as tf\n",
    "from GomokuBoard import GomokuBoard\n",
    "from Heuristics import Heuristics\n",
    "from GomokuTools import GomokuTools as gt\n",
    "from HeuristicPolicy import HeuristicGomokuPolicy\n",
    "from google.cloud import bigquery\n",
    "import google.datalab.bigquery as bq\n",
    "import tensorflow_transform.tf_metadata as metadata\n",
    "import datetime\n",
    "import tempfile\n",
    "import tensorflow_transform.beam.impl as beam_impl\n",
    "import tensorflow_transform as tft\n",
    "import apache_beam as beam"
   ]
  },
  {
   "cell_type": "code",
   "execution_count": 4,
   "metadata": {},
   "outputs": [],
   "source": [
    "input = {'game', \"A\"}"
   ]
  },
  {
   "cell_type": "code",
   "execution_count": 5,
   "metadata": {},
   "outputs": [],
   "source": [
    "N_p=5\n",
    "feature_spec = {\n",
    "    'state': tf.FixedLenFeature([N_p * N_p * 2], tf.float32),\n",
    "    'qvalue': tf.FixedLenFeature([N_p * N_p], tf.float32)\n",
    "}"
   ]
  },
  {
   "cell_type": "code",
   "execution_count": 6,
   "metadata": {},
   "outputs": [],
   "source": [
    "schema = metadata.dataset_schema.from_feature_spec(feature_spec)"
   ]
  },
  {
   "cell_type": "code",
   "execution_count": 7,
   "metadata": {},
   "outputs": [
    {
     "data": {
      "text/plain": [
       "((3, 5, 5, 2), (3, 5, 5, 1))"
      ]
     },
     "execution_count": 7,
     "metadata": {},
     "output_type": "execute_result"
    }
   ],
   "source": [
    "def create_data(ignore_me):\n",
    "    data = (\n",
    "        np.random.randint(0,2,size=[3,5,5,2]),\n",
    "        np.random.uniform(size=[3,5,5,1]))\n",
    "    return data\n",
    "\n",
    "data = create_data(\"whatever\")\n",
    "data[0].shape, data[1].shape"
   ]
  },
  {
   "cell_type": "code",
   "execution_count": 8,
   "metadata": {},
   "outputs": [],
   "source": [
    "state2 = np.rollaxis(data[0][2], 2, 0)"
   ]
  },
  {
   "cell_type": "code",
   "execution_count": 9,
   "metadata": {},
   "outputs": [],
   "source": [
    "PROJECT='going-tfx'\n",
    "BUCKET='going-tfx'\n",
    "LOCAL_TMPDIR=\"/tmp\"\n",
    "OUTPUT_DIR=\"./out\"\n",
    "runner='DirectRunner'\n",
    "job_name = 'tournament_data' + '-' + datetime.datetime.now().strftime('%y%m%d-%H%M%S')    \n",
    "\n",
    "options = {\n",
    "    'staging_location': os.path.join(OUTPUT_DIR, 'tmp', 'staging'),\n",
    "    'temp_location': os.path.join(OUTPUT_DIR, 'tmp'),\n",
    "    'job_name': job_name,\n",
    "    'project': PROJECT,\n",
    "    'max_num_workers': 24,\n",
    "    'teardown_policy': 'TEARDOWN_ALWAYS',\n",
    "    'no_save_main_session': True,\n",
    "    'requirements_file': 'requirements.txt'\n",
    "}\n",
    "opts = beam.pipeline.PipelineOptions(flags=[], **options)"
   ]
  },
  {
   "cell_type": "code",
   "execution_count": 10,
   "metadata": {},
   "outputs": [],
   "source": [
    "def _floats_feature(value):\n",
    "    return tf.train.Feature(float_list=tf.train.FloatList(value=value))"
   ]
  },
  {
   "cell_type": "code",
   "execution_count": 11,
   "metadata": {},
   "outputs": [
    {
     "data": {
      "text/plain": [
       "((3, 5, 5, 2), (3, 5, 5, 1))"
      ]
     },
     "execution_count": 11,
     "metadata": {},
     "output_type": "execute_result"
    }
   ],
   "source": [
    "data[0].shape, data[1].shape"
   ]
  },
  {
   "cell_type": "code",
   "execution_count": 12,
   "metadata": {},
   "outputs": [],
   "source": [
    "s_and_q = list(zip(data[0], data[1]))"
   ]
  },
  {
   "cell_type": "code",
   "execution_count": 13,
   "metadata": {},
   "outputs": [
    {
     "data": {
      "text/plain": [
       "((5, 5, 2), (5, 5, 1))"
      ]
     },
     "execution_count": 13,
     "metadata": {},
     "output_type": "execute_result"
    }
   ],
   "source": [
    "s0 = s_and_q[0][0]\n",
    "q0 = s_and_q[0][1]\n",
    "s0.shape, q0.shape"
   ]
  },
  {
   "cell_type": "code",
   "execution_count": 14,
   "metadata": {},
   "outputs": [
    {
     "data": {
      "text/plain": [
       "float_list {\n",
       "  value: 0.0209263414144516\n",
       "  value: 0.3686140775680542\n",
       "  value: 0.9081296920776367\n",
       "  value: 0.8073073029518127\n",
       "  value: 0.8000392913818359\n",
       "  value: 0.8261414766311646\n",
       "  value: 0.4063945710659027\n",
       "  value: 0.2874433994293213\n",
       "  value: 0.10769154131412506\n",
       "  value: 0.4927733838558197\n",
       "  value: 0.4382688105106354\n",
       "  value: 0.8112466335296631\n",
       "  value: 0.30836591124534607\n",
       "  value: 0.6808125972747803\n",
       "  value: 0.8147794604301453\n",
       "  value: 0.35377880930900574\n",
       "  value: 0.40647491812705994\n",
       "  value: 0.28317582607269287\n",
       "  value: 0.29440751671791077\n",
       "  value: 0.2760884463787079\n",
       "  value: 0.23128415644168854\n",
       "  value: 0.3272022008895874\n",
       "  value: 0.9716960787773132\n",
       "  value: 0.9115557074546814\n",
       "  value: 0.2744579315185547\n",
       "}"
      ]
     },
     "execution_count": 14,
     "metadata": {},
     "output_type": "execute_result"
    }
   ],
   "source": [
    "f = _floats_feature(q0.flatten())\n",
    "f"
   ]
  },
  {
   "cell_type": "code",
   "execution_count": 15,
   "metadata": {},
   "outputs": [],
   "source": [
    "tfr_filename = \"deleteme.tfr\"\n",
    "with tf.python_io.TFRecordWriter(tfr_filename) as writer:\n",
    "    for vec in s_and_q:\n",
    "        # Create an example protocol buffer\n",
    "        example = tf.train.Example(features=tf.train.Features(feature={\n",
    "            'state': _floats_feature(vec[0].flatten()),\n",
    "            'qvalue' : _floats_feature(vec[1].flatten()),\n",
    "            }))\n",
    "        writer.write(example.SerializeToString())"
   ]
  },
  {
   "cell_type": "markdown",
   "metadata": {},
   "source": [
    "### Read from File"
   ]
  },
  {
   "cell_type": "code",
   "execution_count": 16,
   "metadata": {},
   "outputs": [],
   "source": [
    "def _parse_function(example):\n",
    "    return tf.parse_single_example(example, feature_spec)"
   ]
  },
  {
   "cell_type": "code",
   "execution_count": 17,
   "metadata": {},
   "outputs": [],
   "source": [
    "dataset = tf.data.TFRecordDataset(\"deleteme.tfr\")"
   ]
  },
  {
   "cell_type": "code",
   "execution_count": 18,
   "metadata": {},
   "outputs": [],
   "source": [
    "decoded = dataset.map(_parse_function).make_one_shot_iterator().get_next()"
   ]
  },
  {
   "cell_type": "code",
   "execution_count": 19,
   "metadata": {},
   "outputs": [
    {
     "data": {
      "text/plain": [
       "{'qvalue': <tf.Tensor 'IteratorGetNext:0' shape=(25,) dtype=float32>,\n",
       " 'state': <tf.Tensor 'IteratorGetNext:1' shape=(50,) dtype=float32>}"
      ]
     },
     "execution_count": 19,
     "metadata": {},
     "output_type": "execute_result"
    }
   ],
   "source": [
    "decoded"
   ]
  },
  {
   "cell_type": "code",
   "execution_count": 20,
   "metadata": {},
   "outputs": [],
   "source": [
    "with tf.Session() as sess:\n",
    "    sess.run(decoded)\n",
    "    sess.run(decoded)\n",
    "    res2 = sess.run(decoded)"
   ]
  },
  {
   "cell_type": "code",
   "execution_count": 21,
   "metadata": {},
   "outputs": [
    {
     "data": {
      "text/plain": [
       "((50,), (25,))"
      ]
     },
     "execution_count": 21,
     "metadata": {},
     "output_type": "execute_result"
    }
   ],
   "source": [
    "res2['state'].shape, res2['qvalue'].shape"
   ]
  },
  {
   "cell_type": "code",
   "execution_count": 22,
   "metadata": {},
   "outputs": [
    {
     "data": {
      "text/plain": [
       "(2, 5, 5)"
      ]
     },
     "execution_count": 22,
     "metadata": {},
     "output_type": "execute_result"
    }
   ],
   "source": [
    "np.rollaxis(res2['state'].reshape(N_p,N_p,2), 2, 0).shape"
   ]
  },
  {
   "cell_type": "code",
   "execution_count": 23,
   "metadata": {},
   "outputs": [
    {
     "data": {
      "text/plain": [
       "True"
      ]
     },
     "execution_count": 23,
     "metadata": {},
     "output_type": "execute_result"
    }
   ],
   "source": [
    "state2_p = np.rollaxis(data[0][2], 2, 0)\n",
    "np.equal(state2, state2_p).all()"
   ]
  },
  {
   "cell_type": "markdown",
   "metadata": {},
   "source": [
    "### Pipelines\n"
   ]
  },
  {
   "cell_type": "code",
   "execution_count": 24,
   "metadata": {},
   "outputs": [],
   "source": [
    "data = [1,2,3]"
   ]
  },
  {
   "cell_type": "code",
   "execution_count": 25,
   "metadata": {},
   "outputs": [],
   "source": [
    "def create_games(ignore_me):\n",
    "    data = (\n",
    "        np.random.randint(0,2,size=[3,5,5,2]),\n",
    "        np.random.uniform(size=[3,5,5,1]))\n",
    "    return data"
   ]
  },
  {
   "cell_type": "code",
   "execution_count": 26,
   "metadata": {},
   "outputs": [],
   "source": [
    "games = create_games(\"whatever\")"
   ]
  },
  {
   "cell_type": "code",
   "execution_count": 27,
   "metadata": {},
   "outputs": [
    {
     "data": {
      "text/plain": [
       "((3, 5, 5, 2), (3, 5, 5, 1))"
      ]
     },
     "execution_count": 27,
     "metadata": {},
     "output_type": "execute_result"
    }
   ],
   "source": [
    "games[0].shape, games[1].shape"
   ]
  },
  {
   "cell_type": "code",
   "execution_count": 28,
   "metadata": {},
   "outputs": [],
   "source": [
    "def recwise (games): \n",
    "    return [{'state': s.flatten(), 'qvalue': q.flatten()}  for s, q in zip(games[0], games[1])]"
   ]
  },
  {
   "cell_type": "code",
   "execution_count": 29,
   "metadata": {},
   "outputs": [],
   "source": [
    "res = data | beam.Map(create_games) | beam.FlatMap(recwise)"
   ]
  },
  {
   "cell_type": "code",
   "execution_count": 30,
   "metadata": {},
   "outputs": [
    {
     "data": {
      "text/plain": [
       "array([4.14327187e-01, 1.77229180e-01, 3.84385350e-04, 2.01961726e-01,\n",
       "       3.90489468e-01, 2.12715784e-01, 3.74710327e-01, 1.89744475e-01,\n",
       "       7.64024794e-01, 2.54353764e-01, 2.58991329e-01, 7.24080874e-01,\n",
       "       8.51405265e-01, 5.33671783e-01, 9.80782910e-01, 3.10965705e-01,\n",
       "       4.52187551e-01, 1.68917436e-01, 5.68908672e-01, 6.10763193e-01,\n",
       "       4.49291984e-01, 9.34408653e-01, 8.57797200e-01, 1.14181199e-01,\n",
       "       5.95960327e-01])"
      ]
     },
     "execution_count": 30,
     "metadata": {},
     "output_type": "execute_result"
    }
   ],
   "source": [
    "res[0]['qvalue']"
   ]
  },
  {
   "cell_type": "code",
   "execution_count": 31,
   "metadata": {},
   "outputs": [
    {
     "data": {
      "text/plain": [
       "array([1, 1, 0, 0, 1, 0, 1, 1, 0, 0, 1, 1, 0, 0, 1, 0, 0, 0, 0, 0, 0, 1,\n",
       "       0, 1, 0, 0, 1, 1, 1, 0, 0, 0, 1, 1, 1, 1, 1, 1, 0, 1, 0, 0, 1, 0,\n",
       "       1, 1, 0, 1, 0, 1])"
      ]
     },
     "execution_count": 31,
     "metadata": {},
     "output_type": "execute_result"
    }
   ],
   "source": [
    "res[0]['state']"
   ]
  },
  {
   "cell_type": "code",
   "execution_count": 32,
   "metadata": {},
   "outputs": [],
   "source": [
    "tfr_encoder = tft.coders.ExampleProtoCoder(schema)"
   ]
  },
  {
   "cell_type": "code",
   "execution_count": 33,
   "metadata": {},
   "outputs": [
    {
     "data": {
      "text/plain": [
       "b'\\n\\xcf\\x02\\n\\xd8\\x01\\n\\x05state\\x12\\xce\\x01\\x12\\xcb\\x01\\n\\xc8\\x01\\x00\\x00\\x80?\\x00\\x00\\x80?\\x00\\x00\\x00\\x00\\x00\\x00\\x00\\x00\\x00\\x00\\x80?\\x00\\x00\\x00\\x00\\x00\\x00\\x80?\\x00\\x00\\x80?\\x00\\x00\\x00\\x00\\x00\\x00\\x00\\x00\\x00\\x00\\x80?\\x00\\x00\\x80?\\x00\\x00\\x00\\x00\\x00\\x00\\x00\\x00\\x00\\x00\\x80?\\x00\\x00\\x00\\x00\\x00\\x00\\x00\\x00\\x00\\x00\\x00\\x00\\x00\\x00\\x00\\x00\\x00\\x00\\x00\\x00\\x00\\x00\\x00\\x00\\x00\\x00\\x80?\\x00\\x00\\x00\\x00\\x00\\x00\\x80?\\x00\\x00\\x00\\x00\\x00\\x00\\x00\\x00\\x00\\x00\\x80?\\x00\\x00\\x80?\\x00\\x00\\x80?\\x00\\x00\\x00\\x00\\x00\\x00\\x00\\x00\\x00\\x00\\x00\\x00\\x00\\x00\\x80?\\x00\\x00\\x80?\\x00\\x00\\x80?\\x00\\x00\\x80?\\x00\\x00\\x80?\\x00\\x00\\x80?\\x00\\x00\\x00\\x00\\x00\\x00\\x80?\\x00\\x00\\x00\\x00\\x00\\x00\\x00\\x00\\x00\\x00\\x80?\\x00\\x00\\x00\\x00\\x00\\x00\\x80?\\x00\\x00\\x80?\\x00\\x00\\x00\\x00\\x00\\x00\\x80?\\x00\\x00\\x00\\x00\\x00\\x00\\x80?\\nr\\n\\x06qvalue\\x12h\\x12f\\nd\\xb1\"\\xd4>\\x91{5>T\\x87\\xc99\\x0e\\xcfN><\\xee\\xc7>+\\xd2Y>\\x08\\xda\\xbf>`LB>!\\x97C?\\xa8:\\x82>\\x83\\x9a\\x84>]]9?\\xb2\\xf5Y?\\xb7\\x9e\\x08?\\x97\\x14{?\\xe66\\x9f> \\x85\\xe7>\\xb1\\xf8,>\\x00\\xa4\\x11?\\xfaZ\\x1c?\\x99\\t\\xe6>h5o?\\x99\\x98[?\\xd5\\xd7\\xe9=\\xdb\\x90\\x18?'"
      ]
     },
     "execution_count": 33,
     "metadata": {},
     "output_type": "execute_result"
    }
   ],
   "source": [
    "tfr_encoder.encode(res[0])"
   ]
  },
  {
   "cell_type": "markdown",
   "metadata": {},
   "source": [
    "### Pipe to TFRecord"
   ]
  },
  {
   "cell_type": "code",
   "execution_count": 34,
   "metadata": {},
   "outputs": [
    {
     "name": "stderr",
     "output_type": "stream",
     "text": [
      "WARNING:root:Dataset going-tfx:temp_dataset_840412b66fc0462a92f4df43d10c9b29 does not exist so we will create it as temporary with location=US\n",
      "WARNING:root:Couldn't find python-snappy so the implementation of _TFRecordUtil._masked_crc32c is not as fast as it could be.\n"
     ]
    },
    {
     "data": {
      "text/plain": [
       "'/tmp/games_tfr'"
      ]
     },
     "execution_count": 34,
     "metadata": {},
     "output_type": "execute_result"
    }
   ],
   "source": [
    "query = \"select distinct(game) from `going-tfx.gomoku.tournaments` limit 2\"\n",
    "out_name=\"games\"\n",
    "out_prefix = os.path.join(LOCAL_TMPDIR, out_name)\n",
    "phase='train'\n",
    "with beam.Pipeline(runner, options=opts) as p:\n",
    "    with beam_impl.Context(temp_dir=tempfile.mkdtemp()):\n",
    "\n",
    "\n",
    "        #   Read from Big Query\n",
    "        #\n",
    "        from_bq = p | \"ReadFromBigQuery\"  >> beam.io.Read(beam.io.BigQuerySource(\n",
    "            query=query, use_standard_sql=True)) \n",
    "\n",
    "        # Encode back to file(s)\n",
    "        #\n",
    "        tfr_encoder = tft.coders.ExampleProtoCoder(schema)\n",
    "        res = (from_bq\n",
    "               | beam.Map(create_games)\n",
    "               | beam.FlatMap(recwise)\n",
    "               | ('EncodeTFRecord_' + phase) >> beam.Map(tfr_encoder.encode)\n",
    "               | ('WriteTFRecord_' + phase) >> beam.io.WriteToTFRecord(out_prefix+'_tfr'))\n",
    "\n",
    "out_prefix + '_tfr'"
   ]
  },
  {
   "cell_type": "markdown",
   "metadata": {},
   "source": [
    "### Read from File"
   ]
  },
  {
   "cell_type": "code",
   "execution_count": 35,
   "metadata": {},
   "outputs": [],
   "source": [
    "def _parse_function(example):\n",
    "    return tf.parse_single_example(example, feature_spec)"
   ]
  },
  {
   "cell_type": "code",
   "execution_count": 36,
   "metadata": {},
   "outputs": [],
   "source": [
    "dataset = tf.data.TFRecordDataset(\"/tmp/games_tfr-00000-of-00001\")"
   ]
  },
  {
   "cell_type": "code",
   "execution_count": 37,
   "metadata": {},
   "outputs": [
    {
     "data": {
      "text/plain": [
       "<TFRecordDatasetV1 shapes: (), types: tf.string>"
      ]
     },
     "execution_count": 37,
     "metadata": {},
     "output_type": "execute_result"
    }
   ],
   "source": [
    "dataset"
   ]
  },
  {
   "cell_type": "code",
   "execution_count": 38,
   "metadata": {},
   "outputs": [],
   "source": [
    "record = dataset.take(1)"
   ]
  },
  {
   "cell_type": "code",
   "execution_count": null,
   "metadata": {},
   "outputs": [],
   "source": []
  },
  {
   "cell_type": "code",
   "execution_count": 39,
   "metadata": {},
   "outputs": [],
   "source": [
    "decoded = dataset.map(_parse_function).make_one_shot_iterator().get_next()"
   ]
  },
  {
   "cell_type": "code",
   "execution_count": 40,
   "metadata": {},
   "outputs": [
    {
     "data": {
      "text/plain": [
       "{'qvalue': <tf.Tensor 'IteratorGetNext_1:0' shape=(25,) dtype=float32>,\n",
       " 'state': <tf.Tensor 'IteratorGetNext_1:1' shape=(50,) dtype=float32>}"
      ]
     },
     "execution_count": 40,
     "metadata": {},
     "output_type": "execute_result"
    }
   ],
   "source": [
    "decoded"
   ]
  },
  {
   "cell_type": "code",
   "execution_count": 41,
   "metadata": {},
   "outputs": [],
   "source": [
    "with tf.Session() as sess:\n",
    "    sess.run(decoded)\n",
    "    sess.run(decoded)\n",
    "    res2 = sess.run(decoded)"
   ]
  },
  {
   "cell_type": "code",
   "execution_count": 42,
   "metadata": {},
   "outputs": [
    {
     "data": {
      "text/plain": [
       "((50,), (25,))"
      ]
     },
     "execution_count": 42,
     "metadata": {},
     "output_type": "execute_result"
    }
   ],
   "source": [
    "res2['state'].shape, res2['qvalue'].shape"
   ]
  },
  {
   "cell_type": "code",
   "execution_count": 43,
   "metadata": {},
   "outputs": [
    {
     "data": {
      "text/plain": [
       "array([[[0., 1., 1., 0., 1.],\n",
       "        [0., 0., 0., 1., 1.],\n",
       "        [0., 0., 0., 0., 0.],\n",
       "        [0., 0., 0., 0., 1.],\n",
       "        [1., 1., 0., 0., 1.]],\n",
       "\n",
       "       [[0., 0., 0., 1., 0.],\n",
       "        [1., 0., 1., 1., 0.],\n",
       "        [0., 0., 1., 0., 0.],\n",
       "        [0., 0., 1., 0., 0.],\n",
       "        [0., 1., 0., 0., 0.]]], dtype=float32)"
      ]
     },
     "execution_count": 43,
     "metadata": {},
     "output_type": "execute_result"
    }
   ],
   "source": [
    "np.rollaxis(res2['state'].reshape(N_p,N_p,2), 2, 0)"
   ]
  }
 ],
 "metadata": {
  "kernelspec": {
   "display_name": "Python 3",
   "language": "python",
   "name": "python3"
  },
  "language_info": {
   "codemirror_mode": {
    "name": "ipython",
    "version": 3
   },
   "file_extension": ".py",
   "mimetype": "text/x-python",
   "name": "python",
   "nbconvert_exporter": "python",
   "pygments_lexer": "ipython3",
   "version": "3.5.3"
  }
 },
 "nbformat": 4,
 "nbformat_minor": 2
}
