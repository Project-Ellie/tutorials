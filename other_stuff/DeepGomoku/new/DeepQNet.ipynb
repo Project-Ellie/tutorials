{
 "cells": [
  {
   "cell_type": "code",
   "execution_count": 1,
   "metadata": {},
   "outputs": [],
   "source": [
    "from __future__ import absolute_import, print_function, division"
   ]
  },
  {
   "cell_type": "code",
   "execution_count": 2,
   "metadata": {},
   "outputs": [],
   "source": [
    "import random\n",
    "import numpy as np\n",
    "import tensorflow as tf"
   ]
  },
  {
   "cell_type": "code",
   "execution_count": 3,
   "metadata": {},
   "outputs": [
    {
     "data": {
      "text/plain": [
       "('1.13.1', False)"
      ]
     },
     "execution_count": 3,
     "metadata": {},
     "output_type": "execute_result"
    }
   ],
   "source": [
    "tf.__version__, tf.test.is_gpu_available()"
   ]
  },
  {
   "cell_type": "code",
   "execution_count": 4,
   "metadata": {},
   "outputs": [],
   "source": [
    "batch = np.load(\"samples.npy\")\n",
    "labels = np.load(\"values.npy\")\n",
    "\n",
    "batch_t = np.load(\"samples.npy\")\n",
    "labels_t = np.load(\"values.npy\")"
   ]
  },
  {
   "cell_type": "code",
   "execution_count": 5,
   "metadata": {},
   "outputs": [
    {
     "data": {
      "text/plain": [
       "(320, 17, 17, 2)"
      ]
     },
     "execution_count": 5,
     "metadata": {},
     "output_type": "execute_result"
    }
   ],
   "source": [
    "batch.shape"
   ]
  },
  {
   "cell_type": "code",
   "execution_count": 6,
   "metadata": {},
   "outputs": [],
   "source": [
    "bsize=15\n",
    "bsize2=17 # The size with the defensive border"
   ]
  },
  {
   "cell_type": "code",
   "execution_count": 7,
   "metadata": {},
   "outputs": [],
   "source": [
    "_inputs = tf.placeholder(tf.float32, [None, bsize2, bsize2, 2])\n",
    "_labels = tf.placeholder(tf.float32, [None, bsize2, bsize2, 1])"
   ]
  },
  {
   "cell_type": "code",
   "execution_count": 8,
   "metadata": {},
   "outputs": [
    {
     "name": "stdout",
     "output_type": "stream",
     "text": [
      "WARNING:tensorflow:From <ipython-input-8-0a1b779ede2c>:2: conv2d (from tensorflow.python.layers.convolutional) is deprecated and will be removed in a future version.\n",
      "Instructions for updating:\n",
      "Use keras.layers.conv2d instead.\n",
      "WARNING:tensorflow:From /home/wgiersche/workspace/venv3/lib/python3.5/site-packages/tensorflow/python/framework/op_def_library.py:263: colocate_with (from tensorflow.python.framework.ops) is deprecated and will be removed in a future version.\n",
      "Instructions for updating:\n",
      "Colocations handled automatically by placer.\n",
      "WARNING:tensorflow:From /home/wgiersche/workspace/venv3/lib/python3.5/site-packages/tensorflow/python/ops/losses/losses_impl.py:667: to_float (from tensorflow.python.ops.math_ops) is deprecated and will be removed in a future version.\n",
      "Instructions for updating:\n",
      "Use tf.cast instead.\n"
     ]
    }
   ],
   "source": [
    "conv1 = tf.layers.conv2d(inputs=_inputs, filters=128, kernel_size=[9,9], \n",
    "                         strides=[1,1], padding='SAME', activation=tf.nn.elu)\n",
    "conv2 = tf.layers.conv2d(inputs=conv1, filters=64, kernel_size=[9,9], \n",
    "                         strides=[1,1], padding='SAME', activation=tf.nn.elu)\n",
    "conv3 = tf.layers.conv2d(inputs=conv2, filters=32, kernel_size=[9,9], \n",
    "                         strides=[1,1], padding='SAME', activation=tf.nn.elu)\n",
    "conv4 = tf.layers.conv2d(inputs=conv3, filters=1, kernel_size=[9,9], \n",
    "                         strides=[1,1], padding='SAME')\n",
    "\n",
    "loss = tf.losses.mean_squared_error(_labels,conv4)\n",
    "optimizer = tf.train.AdamOptimizer(learning_rate=1e-3).minimize(loss)"
   ]
  },
  {
   "cell_type": "markdown",
   "metadata": {},
   "source": [
    "### Training\n",
    "We train the network and compute training loss and test loss once in a while"
   ]
  },
  {
   "cell_type": "code",
   "execution_count": null,
   "metadata": {},
   "outputs": [],
   "source": [
    "with tf.Session() as session:\n",
    "    session.run(tf.global_variables_initializer())\n",
    "    for i in range(50001):\n",
    "        _ = session.run(optimizer, feed_dict={_inputs: batch, _labels: labels})\n",
    "        if i % 500 == 0:\n",
    "            l = session.run(loss, feed_dict={_inputs: batch, _labels: labels})\n",
    "            l_t = session.run(loss, feed_dict={_inputs: batch_t, _labels: labels_t})\n",
    "            print(l, l_t)"
   ]
  },
  {
   "cell_type": "markdown",
   "metadata": {},
   "source": [
    "From the smooth convergence also on the test set we can see that the network has indeed learned our label function."
   ]
  },
  {
   "cell_type": "code",
   "execution_count": null,
   "metadata": {},
   "outputs": [],
   "source": []
  }
 ],
 "metadata": {
  "kernelspec": {
   "display_name": "Python 3",
   "language": "python",
   "name": "python3"
  },
  "language_info": {
   "codemirror_mode": {
    "name": "ipython",
    "version": 3
   },
   "file_extension": ".py",
   "mimetype": "text/x-python",
   "name": "python",
   "nbconvert_exporter": "python",
   "pygments_lexer": "ipython3",
   "version": "3.5.3"
  }
 },
 "nbformat": 4,
 "nbformat_minor": 2
}
