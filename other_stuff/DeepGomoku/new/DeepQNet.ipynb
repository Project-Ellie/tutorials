{
 "cells": [
  {
   "cell_type": "code",
   "execution_count": 1,
   "metadata": {},
   "outputs": [],
   "source": [
    "from __future__ import absolute_import, print_function, division"
   ]
  },
  {
   "cell_type": "code",
   "execution_count": 2,
   "metadata": {},
   "outputs": [],
   "source": [
    "import random\n",
    "import numpy as np\n",
    "import tensorflow as tf"
   ]
  },
  {
   "cell_type": "code",
   "execution_count": 3,
   "metadata": {},
   "outputs": [
    {
     "data": {
      "text/plain": [
       "('1.13.1', True)"
      ]
     },
     "execution_count": 3,
     "metadata": {},
     "output_type": "execute_result"
    }
   ],
   "source": [
    "tf.__version__, tf.test.is_gpu_available()"
   ]
  },
  {
   "cell_type": "code",
   "execution_count": 4,
   "metadata": {},
   "outputs": [],
   "source": [
    "batch = np.load(\"samples.npy\")\n",
    "labels = np.load(\"values.npy\")\n",
    "\n",
    "batch_t = np.load(\"samples.npy\")\n",
    "labels_t = np.load(\"values.npy\")"
   ]
  },
  {
   "cell_type": "code",
   "execution_count": 5,
   "metadata": {},
   "outputs": [
    {
     "data": {
      "text/plain": [
       "(320, 17, 17, 2)"
      ]
     },
     "execution_count": 5,
     "metadata": {},
     "output_type": "execute_result"
    }
   ],
   "source": [
    "batch.shape"
   ]
  },
  {
   "cell_type": "code",
   "execution_count": 6,
   "metadata": {},
   "outputs": [],
   "source": [
    "bsize=15\n",
    "bsize2=17 # The size with the defensive border"
   ]
  },
  {
   "cell_type": "code",
   "execution_count": 7,
   "metadata": {},
   "outputs": [],
   "source": [
    "_inputs = tf.placeholder(tf.float32, [None, bsize2, bsize2, 2])\n",
    "_labels = tf.placeholder(tf.float32, [None, bsize2, bsize2, 1])"
   ]
  },
  {
   "cell_type": "code",
   "execution_count": 17,
   "metadata": {},
   "outputs": [],
   "source": [
    "conv1 = tf.layers.conv2d(inputs=_inputs, filters=128, kernel_size=[9,9], \n",
    "                         strides=[1,1], padding='SAME', activation=tf.nn.elu)\n",
    "conv2 = tf.layers.conv2d(inputs=conv1, filters=64, kernel_size=[9,9], \n",
    "                         strides=[1,1], padding='SAME', activation=tf.nn.elu)\n",
    "conv3 = tf.layers.conv2d(inputs=conv2, filters=32, kernel_size=[9,9], \n",
    "                         strides=[1,1], padding='SAME', activation=tf.nn.elu)\n",
    "conv4 = tf.layers.conv2d(inputs=conv3, filters=1, kernel_size=[9,9], \n",
    "                         strides=[1,1], padding='SAME')\n",
    "\n",
    "loss = tf.losses.mean_squared_error(_labels,conv4)\n",
    "optimizer = tf.train.AdamOptimizer(learning_rate=1e-3).minimize(loss)"
   ]
  },
  {
   "cell_type": "markdown",
   "metadata": {},
   "source": [
    "### Training\n",
    "We train the network and compute training loss and test loss once in a while"
   ]
  },
  {
   "cell_type": "code",
   "execution_count": 18,
   "metadata": {},
   "outputs": [
    {
     "name": "stdout",
     "output_type": "stream",
     "text": [
      "22359736.0 22359736.0\n",
      "9472314.0 9472314.0\n",
      "3932617.5 3932617.5\n",
      "2767893.8 2767893.8\n",
      "2030194.5 2030194.5\n",
      "1624877.9 1624877.9\n",
      "1274686.0 1274686.0\n",
      "1042435.56 1042435.56\n",
      "867430.75 867430.75\n",
      "758704.75 758704.75\n",
      "693006.75 693006.75\n",
      "587607.56 587607.56\n",
      "598221.94 598221.94\n",
      "572157.6 572157.6\n",
      "498479.66 498479.66\n",
      "482823.62 482823.62\n",
      "484036.22 484036.22\n",
      "389821.3 389821.3\n",
      "359265.88 359265.88\n",
      "339650.62 339650.62\n",
      "328751.47 328751.47\n",
      "342591.56 342591.56\n",
      "296728.2 296728.2\n",
      "502978.1 502978.1\n",
      "410514.66 410514.66\n",
      "279614.9 279614.9\n",
      "259483.64 259483.64\n",
      "256529.81 256529.81\n",
      "247113.12 247113.12\n",
      "239258.7 239258.7\n",
      "229890.11 229890.11\n",
      "315878.16 315878.16\n",
      "217300.55 217300.55\n",
      "212337.81 212337.81\n",
      "271676.78 271676.78\n",
      "235852.73 235852.73\n",
      "198102.77 198102.77\n",
      "193103.53 193103.53\n",
      "190167.4 190167.4\n",
      "184916.84 184916.84\n",
      "179848.55 179848.55\n",
      "175986.23 175986.23\n",
      "173997.89 173997.89\n",
      "181987.1 181987.1\n",
      "184393.06 184393.06\n",
      "163640.73 163640.73\n",
      "159644.28 159644.28\n",
      "175908.95 175908.95\n",
      "152898.11 152898.11\n",
      "169026.48 169026.48\n",
      "146413.69 146413.69\n",
      "150853.08 150853.08\n",
      "197694.16 197694.16\n",
      "137173.73 137173.73\n",
      "134115.6 134115.6\n",
      "136964.02 136964.02\n",
      "129517.46 129517.46\n",
      "169453.67 169453.67\n",
      "143205.83 143205.83\n",
      "122553.74 122553.74\n",
      "123147.41 123147.41\n",
      "119914.12 119914.12\n",
      "120466.28 120466.28\n",
      "111876.49 111876.49\n",
      "113351.24 113351.24\n",
      "111910.234 111910.234\n",
      "113290.83 113290.83\n",
      "103509.63 103509.63\n",
      "122862.484 122862.484\n",
      "99194.72 99194.72\n",
      "146117.16 146117.16\n",
      "94304.6 94304.6\n",
      "91018.484 91018.484\n",
      "94692.34 94692.34\n",
      "91387.91 91387.91\n",
      "86105.7 86105.7\n",
      "83530.38 83530.38\n",
      "102433.0 102433.0\n",
      "79092.664 79092.664\n",
      "78890.65 78890.65\n",
      "75304.27 75304.27\n",
      "72823.15 72823.15\n",
      "71836.875 71836.875\n",
      "70164.85 70164.85\n",
      "71309.51 71309.51\n",
      "82876.28 82876.28\n",
      "64248.902 64248.902\n",
      "62879.58 62879.58\n",
      "67401.97 67401.97\n",
      "63014.523 63014.523\n",
      "57025.42 57025.42\n",
      "58315.875 58315.875\n",
      "53898.73 53898.73\n",
      "57722.375 57722.375\n",
      "72658.49 72658.49\n",
      "73355.414 73355.414\n",
      "51268.184 51268.184\n",
      "60040.914 60040.914\n",
      "45713.13 45713.13\n",
      "67604.836 67604.836\n",
      "53252.02 53252.02\n"
     ]
    }
   ],
   "source": [
    "with tf.Session() as session:\n",
    "    session.run(tf.global_variables_initializer())\n",
    "    for i in range(50001):\n",
    "        _ = session.run(optimizer, feed_dict={_inputs: batch, _labels: labels})\n",
    "        if i % 500 == 0:\n",
    "            l = session.run(loss, feed_dict={_inputs: batch, _labels: labels})\n",
    "            l_t = session.run(loss, feed_dict={_inputs: batch_t, _labels: labels_t})\n",
    "            print(l, l_t)"
   ]
  },
  {
   "cell_type": "markdown",
   "metadata": {},
   "source": [
    "From the smooth convergence also on the test set we can see that the network has indeed learned our label function."
   ]
  },
  {
   "cell_type": "code",
   "execution_count": null,
   "metadata": {},
   "outputs": [],
   "source": []
  }
 ],
 "metadata": {
  "kernelspec": {
   "display_name": "Python 3",
   "language": "python",
   "name": "python3"
  },
  "language_info": {
   "codemirror_mode": {
    "name": "ipython",
    "version": 3
   },
   "file_extension": ".py",
   "mimetype": "text/x-python",
   "name": "python",
   "nbconvert_exporter": "python",
   "pygments_lexer": "ipython3",
   "version": "3.5.3"
  }
 },
 "nbformat": 4,
 "nbformat_minor": 2
}
