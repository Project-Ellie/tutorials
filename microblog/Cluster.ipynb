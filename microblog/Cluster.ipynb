{
 "cells": [
  {
   "cell_type": "markdown",
   "metadata": {},
   "source": [
    "### Start the Cluster"
   ]
  },
  {
   "cell_type": "code",
   "execution_count": 60,
   "metadata": {},
   "outputs": [
    {
     "name": "stdout",
     "output_type": "stream",
     "text": [
      "\u001b[1;33mWARNING:\u001b[0m Starting in 1.12, new clusters will have basic authentication disabled by default. Basic authentication can be enabled (or disabled) manually using the `--[no-]enable-basic-auth` flag.\n",
      "\u001b[1;33mWARNING:\u001b[0m Starting in 1.12, new clusters will not have a client certificate issued. You can manually enable (or disable) the issuance of the client certificate using the `--[no-]issue-client-certificate` flag.\n",
      "\u001b[1;33mWARNING:\u001b[0m Currently VPC-native is not the default mode during cluster creation. In the future, this will become the default mode and can be disabled using `--no-enable-ip-alias` flag. Use `--[no-]enable-ip-alias` flag to suppress this warning.\n",
      "\u001b[1;33mWARNING:\u001b[0m Starting in 1.12, default node pools in new clusters will have their legacy Compute Engine instance metadata endpoints disabled by default. To create a cluster with legacy instance metadata endpoints disabled in the default node pool, run `clusters create` with the flag `--metadata disable-legacy-endpoints=true`.\n",
      "This will enable the autorepair feature for nodes. Please see https://cloud.google.com/kubernetes-engine/docs/node-auto-repair for more information on node autorepairs.\n",
      "\u001b[1;33mWARNING:\u001b[0m Starting in Kubernetes v1.10, new clusters will no longer get compute-rw and storage-ro scopes added to what is specified in --scopes (though the latter will remain included in the default --scopes). To use these scopes, add them explicitly to --scopes. To use the new behavior, set container/new_scopes_behavior property (gcloud config set container/new_scopes_behavior true).\n",
      "Creating cluster microblog-cluster in us-central1-a...done.\n",
      "Created [https://container.googleapis.com/v1/projects/going-tfx/zones/us-central1-a/clusters/microblog-cluster].\n",
      "To inspect the contents of your cluster, go to: https://console.cloud.google.com/kubernetes/workload_/gcloud/us-central1-a/microblog-cluster?project=going-tfx\n",
      "kubeconfig entry generated for microblog-cluster.\n",
      "NAME               LOCATION       MASTER_VERSION  MASTER_IP      MACHINE_TYPE   NODE_VERSION  NUM_NODES  STATUS\n",
      "microblog-cluster  us-central1-a  1.10.9-gke.5    35.239.217.33  n1-standard-1  1.10.9-gke.5  2          RUNNING\n"
     ]
    }
   ],
   "source": [
    "!gcloud container clusters create microblog-cluster --num-nodes=2"
   ]
  },
  {
   "cell_type": "code",
   "execution_count": 61,
   "metadata": {},
   "outputs": [
    {
     "name": "stdout",
     "output_type": "stream",
     "text": [
      "Fetching cluster endpoint and auth data.\n",
      "kubeconfig entry generated for microblog-cluster.\n"
     ]
    }
   ],
   "source": [
    "!gcloud container clusters get-credentials microblog-cluster --zone us-central1-a --project going-tfx"
   ]
  },
  {
   "cell_type": "markdown",
   "metadata": {},
   "source": [
    "---\n",
    "### DNS Records"
   ]
  },
  {
   "cell_type": "code",
   "execution_count": 20,
   "metadata": {},
   "outputs": [
    {
     "name": "stdout",
     "output_type": "stream",
     "text": [
      "NAME             ADDRESS/RANGE   TYPE  PURPOSE  NETWORK  REGION       SUBNET  STATUS\n",
      "hello-server-ip  35.186.195.159                                               RESERVED\n",
      "jenkins          35.244.196.48                                                RESERVED\n",
      "microblog        35.244.236.101                                               RESERVED\n",
      "jenkins          35.184.14.235                           us-central1          IN_USE\n"
     ]
    }
   ],
   "source": [
    "!gcloud compute addresses list"
   ]
  },
  {
   "cell_type": "code",
   "execution_count": 21,
   "metadata": {},
   "outputs": [
    {
     "name": "stdout",
     "output_type": "stream",
     "text": [
      "NAME                  TYPE  TTL    DATA\n",
      "fnf.ninja.            NS    21600  ns-cloud-c1.googledomains.com.,ns-cloud-c2.googledomains.com.,ns-cloud-c3.googledomains.com.,ns-cloud-c4.googledomains.com.\n",
      "fnf.ninja.            SOA   21600  ns-cloud-c1.googledomains.com. cloud-dns-hostmaster.google.com. 1 21600 3600 259200 300\n",
      "microblog.fnf.ninja.  A     300    35.244.236.101\n"
     ]
    }
   ],
   "source": [
    "!gcloud dns record-sets list --zone=fnf-ninja-on-going-tfx"
   ]
  },
  {
   "cell_type": "code",
   "execution_count": 55,
   "metadata": {},
   "outputs": [
    {
     "name": "stdout",
     "output_type": "stream",
     "text": [
      "Transaction started [transaction.yaml].\n"
     ]
    }
   ],
   "source": [
    "!gcloud dns record-sets transaction start --zone=fnf-ninja-on-going-tfx"
   ]
  },
  {
   "cell_type": "code",
   "execution_count": 56,
   "metadata": {},
   "outputs": [
    {
     "name": "stdout",
     "output_type": "stream",
     "text": [
      "Record addition appended to transaction at [transaction.yaml].\n"
     ]
    }
   ],
   "source": [
    "!gcloud dns record-sets transaction add --zone=fnf-ninja-on-going-tfx --name=\"microblog.fnf.ninja\"\\\n",
    "    --type=A --ttl=300 \"35.244.236.101\""
   ]
  },
  {
   "cell_type": "code",
   "execution_count": 57,
   "metadata": {},
   "outputs": [
    {
     "name": "stdout",
     "output_type": "stream",
     "text": [
      "\u001b[1;31mERROR:\u001b[0m (gcloud.dns.record-sets.transaction.execute) HTTPError 409: The resource 'entity.change.additions[1]' named 'microblog.fnf.ninja. (A)' already exists\n"
     ]
    }
   ],
   "source": [
    "!gcloud dns record-sets transaction execute --zone=fnf-ninja-on-going-tfx"
   ]
  },
  {
   "cell_type": "markdown",
   "metadata": {},
   "source": [
    "---\n",
    "### Deploy and serve the application"
   ]
  },
  {
   "cell_type": "code",
   "execution_count": 62,
   "metadata": {},
   "outputs": [
    {
     "name": "stdout",
     "output_type": "stream",
     "text": [
      "kubectl run --generator=deployment/apps.v1 is DEPRECATED and will be removed in a future version. Use kubectl run --generator=run-pod/v1 or kubectl create instead.\n",
      "deployment.apps/microblog created\n"
     ]
    }
   ],
   "source": [
    "!kubectl run microblog --image=us.gcr.io/going-tfx/microblog:v1 --port=5000"
   ]
  },
  {
   "cell_type": "code",
   "execution_count": 63,
   "metadata": {},
   "outputs": [
    {
     "name": "stdout",
     "output_type": "stream",
     "text": [
      "service/microblog created\n"
     ]
    }
   ],
   "source": [
    "!kubectl apply -f k8s/service.yaml"
   ]
  },
  {
   "cell_type": "code",
   "execution_count": 64,
   "metadata": {},
   "outputs": [
    {
     "name": "stdout",
     "output_type": "stream",
     "text": [
      "ingress.extensions/microblog-ingress created\n"
     ]
    }
   ],
   "source": [
    "!kubectl apply -f k8s/ingress.yaml"
   ]
  },
  {
   "cell_type": "code",
   "execution_count": 65,
   "metadata": {},
   "outputs": [
    {
     "name": "stdout",
     "output_type": "stream",
     "text": [
      "Name:                     microblog\n",
      "Namespace:                default\n",
      "Labels:                   run=microblog\n",
      "Annotations:              kubectl.kubernetes.io/last-applied-configuration:\n",
      "                            {\"apiVersion\":\"v1\",\"kind\":\"Service\",\"metadata\":{\"annotations\":{\"service.alpha.kubernetes.io/app-protocols\":\"{\\\"my-https-port\\\":\\\"HTTPS\\\"}\"...\n",
      "                          service.alpha.kubernetes.io/app-protocols: {\"my-https-port\":\"HTTPS\"}\n",
      "Selector:                 run=microblog\n",
      "Type:                     NodePort\n",
      "IP:                       10.19.246.11\n",
      "Port:                     <unset>  5000/TCP\n",
      "TargetPort:               5000/TCP\n",
      "NodePort:                 <unset>  31709/TCP\n",
      "Endpoints:                10.16.0.8:5000\n",
      "Session Affinity:         None\n",
      "External Traffic Policy:  Cluster\n",
      "Events:                   <none>\n"
     ]
    }
   ],
   "source": [
    "!kubectl describe service microblog"
   ]
  },
  {
   "cell_type": "code",
   "execution_count": 66,
   "metadata": {},
   "outputs": [
    {
     "name": "stdout",
     "output_type": "stream",
     "text": [
      "Name:             microblog-ingress\n",
      "Namespace:        default\n",
      "Address:          \n",
      "Default backend:  default-http-backend:80 (10.16.0.7:8080)\n",
      "Rules:\n",
      "  Host  Path  Backends\n",
      "  ----  ----  --------\n",
      "  *     \n",
      "        /   microblog:5000 (<none>)\n",
      "Annotations:\n",
      "  kubernetes.io/ingress.global-static-ip-name:       microblog\n",
      "  certmanager.k8s.io/cluster-issuer:                 letsencrypt-prod\n",
      "  kubectl.kubernetes.io/last-applied-configuration:  {\"apiVersion\":\"extensions/v1beta1\",\"kind\":\"Ingress\",\"metadata\":{\"annotations\":{\"certmanager.k8s.io/cluster-issuer\":\"letsencrypt-prod\",\"kubernetes.io/ingress.global-static-ip-name\":\"microblog\"},\"labels\":{\"app\":\"microblog\"},\"name\":\"microblog-ingress\",\"namespace\":\"default\"},\"spec\":{\"rules\":[{\"http\":{\"paths\":[{\"backend\":{\"serviceName\":\"microblog\",\"servicePort\":5000},\"path\":\"/\"}]}}]}}\n",
      "\n",
      "Events:\n",
      "  Type    Reason  Age   From                     Message\n",
      "  ----    ------  ----  ----                     -------\n",
      "  Normal  ADD     9s    loadbalancer-controller  default/microblog-ingress\n"
     ]
    }
   ],
   "source": [
    "!kubectl describe -f k8s/ingress.yaml"
   ]
  },
  {
   "cell_type": "markdown",
   "metadata": {},
   "source": [
    "---\n",
    "#### Check if the service can be located through the ingress\n",
    "Give it a couple of minutes, or check on the Kubernetes console for completion"
   ]
  },
  {
   "cell_type": "code",
   "execution_count": 71,
   "metadata": {},
   "outputs": [
    {
     "name": "stdout",
     "output_type": "stream",
     "text": [
      "  % Total    % Received % Xferd  Average Speed   Time    Time     Time  Current\n",
      "                                 Dload  Upload   Total   Spent    Left  Speed\n",
      "100  1621  100  1621    0     0  95849      0 --:--:-- --:--:-- --:--:--   98k\n",
      "<h1>Hello, Wolfie!</h1>\n"
     ]
    }
   ],
   "source": [
    "!curl http://microblog.fnf.ninja | grep Wolfie"
   ]
  },
  {
   "cell_type": "markdown",
   "metadata": {},
   "source": [
    "#### Remove it, it will be replaced by a proper TLS ingress"
   ]
  },
  {
   "cell_type": "code",
   "execution_count": 72,
   "metadata": {},
   "outputs": [
    {
     "name": "stdout",
     "output_type": "stream",
     "text": [
      "ingress.extensions \"microblog-ingress\" deleted\n"
     ]
    }
   ],
   "source": [
    "!kubectl delete -f k8s/ingress.yaml"
   ]
  },
  {
   "cell_type": "markdown",
   "metadata": {},
   "source": [
    "---\n",
    "### Add certificate infrastructure via helm"
   ]
  },
  {
   "cell_type": "code",
   "execution_count": 73,
   "metadata": {},
   "outputs": [
    {
     "name": "stdout",
     "output_type": "stream",
     "text": [
      "serviceaccount/tiller created\n"
     ]
    }
   ],
   "source": [
    "!kubectl create serviceaccount -n kube-system tiller"
   ]
  },
  {
   "cell_type": "code",
   "execution_count": 74,
   "metadata": {},
   "outputs": [
    {
     "name": "stdout",
     "output_type": "stream",
     "text": [
      "clusterrolebinding.rbac.authorization.k8s.io/tiller-binding created\n"
     ]
    }
   ],
   "source": [
    "!kubectl create clusterrolebinding tiller-binding --clusterrole=cluster-admin --serviceaccount kube-system:tiller"
   ]
  },
  {
   "cell_type": "code",
   "execution_count": 75,
   "metadata": {},
   "outputs": [
    {
     "name": "stdout",
     "output_type": "stream",
     "text": [
      "$HELM_HOME has been configured at /home/wgiersche/.helm.\n",
      "\n",
      "Tiller (the Helm server-side component) has been installed into your Kubernetes Cluster.\n",
      "\n",
      "Please note: by default, Tiller is deployed with an insecure 'allow unauthenticated users' policy.\n",
      "To prevent this, run `helm init` with the --tiller-tls-verify flag.\n",
      "For more information on securing your installation see: https://docs.helm.sh/using_helm/#securing-your-helm-installation\n",
      "Happy Helming!\n"
     ]
    }
   ],
   "source": [
    "!helm init --service-account tiller"
   ]
  },
  {
   "cell_type": "code",
   "execution_count": 76,
   "metadata": {},
   "outputs": [
    {
     "name": "stdout",
     "output_type": "stream",
     "text": [
      "Hang tight while we grab the latest from your chart repositories...\n",
      "...Skip local chart repository\n",
      "...Successfully got an update from the \"stable\" chart repository\n",
      "Update Complete. ⎈ Happy Helming!⎈ \n"
     ]
    }
   ],
   "source": [
    "!helm repo update"
   ]
  },
  {
   "cell_type": "markdown",
   "metadata": {},
   "source": [
    "---\n",
    "### Install cert manager"
   ]
  },
  {
   "cell_type": "code",
   "execution_count": 77,
   "metadata": {},
   "outputs": [
    {
     "name": "stdout",
     "output_type": "stream",
     "text": [
      "NAME:   cert-manager\n",
      "LAST DEPLOYED: Sat Dec 15 16:27:53 2018\n",
      "NAMESPACE: kube-system\n",
      "STATUS: DEPLOYED\n",
      "\n",
      "RESOURCES:\n",
      "==> v1/ServiceAccount\n",
      "NAME                       SECRETS  AGE\n",
      "cert-manager-cert-manager  1        0s\n",
      "\n",
      "==> v1beta1/CustomResourceDefinition\n",
      "NAME                               AGE\n",
      "certificates.certmanager.k8s.io    0s\n",
      "clusterissuers.certmanager.k8s.io  0s\n",
      "issuers.certmanager.k8s.io         0s\n",
      "\n",
      "==> v1beta1/ClusterRole\n",
      "NAME                       AGE\n",
      "cert-manager-cert-manager  0s\n",
      "\n",
      "==> v1beta1/ClusterRoleBinding\n",
      "NAME                       AGE\n",
      "cert-manager-cert-manager  0s\n",
      "\n",
      "==> v1beta1/Deployment\n",
      "NAME                       DESIRED  CURRENT  UP-TO-DATE  AVAILABLE  AGE\n",
      "cert-manager-cert-manager  1        1        1           0          0s\n",
      "\n",
      "==> v1/Pod(related)\n",
      "NAME                                       READY  STATUS             RESTARTS  AGE\n",
      "cert-manager-cert-manager-698758c6d-zcn7c  0/1    ContainerCreating  0         0s\n",
      "\n",
      "\n",
      "NOTES:\n",
      "cert-manager has been deployed successfully!\n",
      "\n",
      "In order to begin issuing certificates, you will need to set up a ClusterIssuer\n",
      "or Issuer resource (for example, by creating a 'letsencrypt-staging' issuer).\n",
      "\n",
      "More information on the different types of issuers and how to configure them\n",
      "can be found in our documentation:\n",
      "\n",
      "https://cert-manager.readthedocs.io/en/latest/reference/issuers.html\n",
      "\n",
      "For information on how to configure cert-manager to automatically provision\n",
      "Certificates for Ingress resources, take a look at the `ingress-shim`\n",
      "documentation:\n",
      "\n",
      "https://cert-manager.readthedocs.io/en/latest/reference/ingress-shim.html\n",
      "\n"
     ]
    }
   ],
   "source": [
    "!helm install --name cert-manager --version v0.3.1 --namespace kube-system stable/cert-manager"
   ]
  },
  {
   "cell_type": "code",
   "execution_count": 78,
   "metadata": {},
   "outputs": [
    {
     "name": "stdout",
     "output_type": "stream",
     "text": [
      "NAME                        DESIRED   CURRENT   UP-TO-DATE   AVAILABLE   AGE\n",
      "cert-manager-cert-manager   1         1         1            1           6s\n"
     ]
    }
   ],
   "source": [
    "!kubectl get deployment -n kube-system cert-manager-cert-manager"
   ]
  },
  {
   "cell_type": "code",
   "execution_count": 79,
   "metadata": {},
   "outputs": [
    {
     "name": "stdout",
     "output_type": "stream",
     "text": [
      "clusterissuer.certmanager.k8s.io/letsencrypt-staging created\n",
      "clusterissuer.certmanager.k8s.io/letsencrypt-prod created\n"
     ]
    }
   ],
   "source": [
    "!kubectl apply -f k8s/clusterissuer.yaml"
   ]
  },
  {
   "cell_type": "code",
   "execution_count": 80,
   "metadata": {},
   "outputs": [
    {
     "name": "stdout",
     "output_type": "stream",
     "text": [
      "Name:         letsencrypt-staging\n",
      "  Cluster Name:        \n",
      "      Name:  letsencrypt-staging\n",
      "Name:         letsencrypt-prod\n",
      "  Cluster Name:        \n",
      "      Name:  letsencrypt-prod\n"
     ]
    }
   ],
   "source": [
    "!kubectl describe -f k8s/clusterissuer.yaml | grep Name:"
   ]
  },
  {
   "cell_type": "code",
   "execution_count": 81,
   "metadata": {},
   "outputs": [
    {
     "name": "stdout",
     "output_type": "stream",
     "text": [
      "certificate.certmanager.k8s.io/microblog-fnf-ninja-tls created\n"
     ]
    }
   ],
   "source": [
    "!kubectl apply -f k8s/certificate.yaml"
   ]
  },
  {
   "cell_type": "code",
   "execution_count": 97,
   "metadata": {},
   "outputs": [
    {
     "name": "stdout",
     "output_type": "stream",
     "text": [
      "cert-manager-cert-manager-698758c6d-zcn7c                     1/1     Running   0          6m\n"
     ]
    }
   ],
   "source": [
    "!kubectl get pods -n kube-system | grep cert-manager\n",
    "pod = !kubectl get pods -n kube-system | grep cert-manager\n",
    "pod = pod[0].split(' ')[0]"
   ]
  },
  {
   "cell_type": "code",
   "execution_count": 98,
   "metadata": {},
   "outputs": [
    {
     "name": "stdout",
     "output_type": "stream",
     "text": [
      "E1215 16:31:39.122754       1 controller.go:186] certificates controller: Re-queuing item \"default/microblog-fnf-ninja-tls\" due to error processing: ingress.extensions \"microblog-ingress-tls\" not found\n",
      "I1215 16:32:39.123096       1 controller.go:177] certificates controller: syncing item 'default/microblog-fnf-ninja-tls'\n",
      "I1215 16:32:39.123202       1 sync.go:239] Preparing certificate default/microblog-fnf-ninja-tls with issuer\n",
      "I1215 16:32:39.123210       1 acme.go:159] getting private key (letsencrypt-prod->tls.key) for acme issuer kube-system/letsencrypt-prod\n",
      "I1215 16:32:39.123634       1 logger.go:27] Calling GetOrder\n",
      "I1215 16:32:39.292226       1 logger.go:52] Calling GetAuthorization\n",
      "I1215 16:32:39.361989       1 logger.go:72] Calling HTTP01ChallengeResponse\n",
      "I1215 16:32:39.362035       1 prepare.go:263] Cleaning up old/expired challenges for Certificate default/microblog-fnf-ninja-tls\n",
      "I1215 16:32:39.362050       1 logger.go:47] Calling GetChallenge\n",
      "I1215 16:32:40.025768       1 http.go:122] wrong status code '404'\n",
      "I1215 16:32:40.026136       1 helpers.go:162] Found status change for Certificate \"microblog-fnf-ninja-tls\" condition \"Ready\": \"False\" -> \"False\"; setting lastTransitionTime to 2018-12-15 16:32:40.026128849 +0000 UTC m=+280.662330836\n",
      "I1215 16:32:40.026405       1 sync.go:241] Error preparing issuer for certificate default/microblog-fnf-ninja-tls: ingress.extensions \"microblog-ingress-tls\" not found\n",
      "E1215 16:32:40.033245       1 sync.go:168] [default/microblog-fnf-ninja-tls] Error getting certificate 'microblog-fnf-ninja-tls': secret \"microblog-fnf-ninja-tls\" not found\n",
      "E1215 16:32:40.033459       1 controller.go:186] certificates controller: Re-queuing item \"default/microblog-fnf-ninja-tls\" due to error processing: ingress.extensions \"microblog-ingress-tls\" not found\n",
      "I1215 16:33:40.033752       1 controller.go:177] certificates controller: syncing item 'default/microblog-fnf-ninja-tls'\n",
      "I1215 16:33:40.033855       1 sync.go:239] Preparing certificate default/microblog-fnf-ninja-tls with issuer\n",
      "I1215 16:33:40.033864       1 acme.go:159] getting private key (letsencrypt-prod->tls.key) for acme issuer kube-system/letsencrypt-prod\n",
      "I1215 16:33:40.034275       1 logger.go:27] Calling GetOrder\n",
      "I1215 16:33:40.161578       1 logger.go:52] Calling GetAuthorization\n",
      "I1215 16:33:40.231598       1 logger.go:72] Calling HTTP01ChallengeResponse\n",
      "I1215 16:33:40.231649       1 prepare.go:263] Cleaning up old/expired challenges for Certificate default/microblog-fnf-ninja-tls\n",
      "I1215 16:33:40.231664       1 logger.go:47] Calling GetChallenge\n",
      "I1215 16:33:40.312577       1 http.go:122] wrong status code '404'\n",
      "I1215 16:33:40.312935       1 helpers.go:162] Found status change for Certificate \"microblog-fnf-ninja-tls\" condition \"Ready\": \"False\" -> \"False\"; setting lastTransitionTime to 2018-12-15 16:33:40.312927156 +0000 UTC m=+340.949129154\n",
      "I1215 16:33:40.313061       1 sync.go:241] Error preparing issuer for certificate default/microblog-fnf-ninja-tls: ingress.extensions \"microblog-ingress-tls\" not found\n",
      "E1215 16:33:40.321077       1 sync.go:168] [default/microblog-fnf-ninja-tls] Error getting certificate 'microblog-fnf-ninja-tls': secret \"microblog-fnf-ninja-tls\" not found\n",
      "E1215 16:33:40.321348       1 controller.go:186] certificates controller: Re-queuing item \"default/microblog-fnf-ninja-tls\" due to error processing: ingress.extensions \"microblog-ingress-tls\" not found\n",
      "I1215 16:34:40.321632       1 controller.go:177] certificates controller: syncing item 'default/microblog-fnf-ninja-tls'\n",
      "I1215 16:34:40.321758       1 sync.go:239] Preparing certificate default/microblog-fnf-ninja-tls with issuer\n",
      "I1215 16:34:40.321765       1 acme.go:159] getting private key (letsencrypt-prod->tls.key) for acme issuer kube-system/letsencrypt-prod\n",
      "I1215 16:34:40.322184       1 logger.go:27] Calling GetOrder\n",
      "I1215 16:34:40.433084       1 logger.go:52] Calling GetAuthorization\n",
      "I1215 16:34:40.484640       1 logger.go:72] Calling HTTP01ChallengeResponse\n",
      "I1215 16:34:40.484885       1 prepare.go:263] Cleaning up old/expired challenges for Certificate default/microblog-fnf-ninja-tls\n",
      "I1215 16:34:40.484905       1 logger.go:47] Calling GetChallenge\n",
      "I1215 16:34:40.559522       1 http.go:122] wrong status code '404'\n",
      "I1215 16:34:40.559983       1 helpers.go:162] Found status change for Certificate \"microblog-fnf-ninja-tls\" condition \"Ready\": \"False\" -> \"False\"; setting lastTransitionTime to 2018-12-15 16:34:40.559949544 +0000 UTC m=+401.196151529\n",
      "I1215 16:34:40.560084       1 sync.go:241] Error preparing issuer for certificate default/microblog-fnf-ninja-tls: ingress.extensions \"microblog-ingress-tls\" not found\n",
      "E1215 16:34:40.568530       1 sync.go:168] [default/microblog-fnf-ninja-tls] Error getting certificate 'microblog-fnf-ninja-tls': secret \"microblog-fnf-ninja-tls\" not found\n",
      "E1215 16:34:40.568729       1 controller.go:186] certificates controller: Re-queuing item \"default/microblog-fnf-ninja-tls\" due to error processing: ingress.extensions \"microblog-ingress-tls\" not found\n"
     ]
    }
   ],
   "source": [
    "!kubectl logs -n kube-system $pod | tail -40"
   ]
  },
  {
   "cell_type": "code",
   "execution_count": 99,
   "metadata": {},
   "outputs": [
    {
     "name": "stdout",
     "output_type": "stream",
     "text": [
      "Name:         microblog-fnf-ninja-tls\n",
      "Namespace:    default\n",
      "Labels:       <none>\n",
      "Annotations:  kubectl.kubernetes.io/last-applied-configuration:\n",
      "                {\"apiVersion\":\"certmanager.k8s.io/v1alpha1\",\"kind\":\"Certificate\",\"metadata\":{\"annotations\":{},\"name\":\"microblog-fnf-ninja-tls\",\"namespace\"...\n",
      "API Version:  certmanager.k8s.io/v1alpha1\n",
      "Kind:         Certificate\n",
      "Metadata:\n",
      "  Cluster Name:        \n",
      "  Creation Timestamp:  2018-12-15T16:28:29Z\n",
      "  Generation:          1\n",
      "  Resource Version:    2711\n",
      "  Self Link:           /apis/certmanager.k8s.io/v1alpha1/namespaces/default/certificates/microblog-fnf-ninja-tls\n",
      "  UID:                 749691e7-0086-11e9-a573-42010a800190\n",
      "Spec:\n",
      "  Acme:\n",
      "    Config:\n",
      "      Domains:\n",
      "        microblog.fnf.ninja\n",
      "      Http 01:\n",
      "        Ingress:  microblog-ingress-tls\n",
      "  Common Name:    microblog.fnf.ninja\n",
      "  Dns Names:\n",
      "    microblog.fnf.ninja\n",
      "  Issuer Ref:\n",
      "    Kind:       ClusterIssuer\n",
      "    Name:       letsencrypt-prod\n",
      "  Secret Name:  microblog-fnf-ninja-tls\n",
      "Status:\n",
      "  Acme:\n",
      "    Order:\n",
      "      Challenges:\n",
      "        Authz URL:  https://acme-v02.api.letsencrypt.org/acme/authz/8mJsfTHVh93Km2MQgFyUrKo4plaTMzPeyiEDowIF-SQ\n",
      "        Domain:     microblog.fnf.ninja\n",
      "        Http 01:\n",
      "          Ingress:  microblog-ingress-tls\n",
      "        Key:        tyT4BTXNeLPp4IEVMfqUBla4jhF5S9m6kE1FjDABhYY.VtoWsmevJf11DfNymWZfC4Wq1ht-ib4F7580xZPqpl8\n",
      "        Token:      tyT4BTXNeLPp4IEVMfqUBla4jhF5S9m6kE1FjDABhYY\n",
      "        Type:       http-01\n",
      "        URL:        https://acme-v02.api.letsencrypt.org/acme/challenge/8mJsfTHVh93Km2MQgFyUrKo4plaTMzPeyiEDowIF-SQ/10362105811\n",
      "        Wildcard:   false\n",
      "      URL:          https://acme-v02.api.letsencrypt.org/acme/order/47740644/222363362\n",
      "  Conditions:\n",
      "    Last Transition Time:  2018-12-15T16:34:40Z\n",
      "    Message:               ingress.extensions \"microblog-ingress-tls\" not found\n",
      "    Reason:                ValidateError\n",
      "    Status:                False\n",
      "    Type:                  Ready\n",
      "Events:\n",
      "  Type    Reason       Age   From          Message\n",
      "  ----    ------       ----  ----          -------\n",
      "  Normal  CreateOrder  7m5s  cert-manager  Created new ACME order, attempting validation...\n"
     ]
    }
   ],
   "source": [
    "!kubectl describe -f k8s/certificate.yaml"
   ]
  },
  {
   "cell_type": "code",
   "execution_count": 104,
   "metadata": {},
   "outputs": [
    {
     "name": "stdout",
     "output_type": "stream",
     "text": [
      "ingress.extensions \"microblog-ingress-tls\" deleted\n"
     ]
    }
   ],
   "source": [
    "!kubectl delete -f k8s/ingress-tls.yaml"
   ]
  },
  {
   "cell_type": "code",
   "execution_count": 105,
   "metadata": {},
   "outputs": [
    {
     "name": "stdout",
     "output_type": "stream",
     "text": [
      "ingress.extensions/microblog-ingress-tls created\n"
     ]
    }
   ],
   "source": [
    "!kubectl apply -f k8s/ingress-tls.yaml"
   ]
  },
  {
   "cell_type": "code",
   "execution_count": 106,
   "metadata": {},
   "outputs": [
    {
     "name": "stdout",
     "output_type": "stream",
     "text": [
      "NAME                  TYPE                                  DATA   AGE\n",
      "default-token-lnbmc   kubernetes.io/service-account-token   3      41m\n",
      "microblog-fnf-ninja   kubernetes.io/tls                     2      5m\n"
     ]
    }
   ],
   "source": [
    "!kubectl get secrets"
   ]
  },
  {
   "cell_type": "code",
   "execution_count": 112,
   "metadata": {},
   "outputs": [
    {
     "name": "stdout",
     "output_type": "stream",
     "text": [
      "  % Total    % Received % Xferd  Average Speed   Time    Time     Time  Current\n",
      "                                 Dload  Upload   Total   Spent    Left  Speed\n",
      "100  1621  100  1621    0     0  57256      0 --:--:-- --:--:-- --:--:-- 57892\n",
      "<h1>Hello, Wolfie!</h1>\n"
     ]
    }
   ],
   "source": [
    "!curl https://microblog.fnf.ninja | grep Wolfie"
   ]
  },
  {
   "cell_type": "code",
   "execution_count": null,
   "metadata": {},
   "outputs": [],
   "source": []
  }
 ],
 "metadata": {
  "kernelspec": {
   "display_name": "Python 3",
   "language": "python",
   "name": "python3"
  },
  "language_info": {
   "codemirror_mode": {
    "name": "ipython",
    "version": 3
   },
   "file_extension": ".py",
   "mimetype": "text/x-python",
   "name": "python",
   "nbconvert_exporter": "python",
   "pygments_lexer": "ipython3",
   "version": "3.5.3"
  }
 },
 "nbformat": 4,
 "nbformat_minor": 2
}
