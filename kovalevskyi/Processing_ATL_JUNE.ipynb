{
 "cells": [
  {
   "cell_type": "code",
   "execution_count": 1,
   "metadata": {},
   "outputs": [],
   "source": [
    "from __future__ import division\n",
    "from __future__ import print_function\n",
    "from __future__ import absolute_import"
   ]
  },
  {
   "cell_type": "code",
   "execution_count": 2,
   "metadata": {},
   "outputs": [
    {
     "name": "stderr",
     "output_type": "stream",
     "text": [
      "/usr/local/lib/python2.7/dist-packages/h5py/__init__.py:36: RuntimeWarning: numpy.dtype size changed, may indicate binary incompatibility. Expected 96, got 88\n",
      "  from ._conv import register_converters as _register_converters\n",
      "/usr/local/lib/python2.7/dist-packages/h5py/_hl/group.py:22: RuntimeWarning: numpy.dtype size changed, may indicate binary incompatibility. Expected 96, got 88\n",
      "  from .. import h5g, h5i, h5o, h5r, h5t, h5l, h5p\n",
      "/usr/local/lib/python2.7/site-packages/scipy/spatial/__init__.py:96: ImportWarning: Not importing directory '/usr/local/lib/python2.7/site-packages/scipy/spatial/qhull': missing __init__.py\n",
      "  from .qhull import *\n",
      "/usr/local/lib/python2.7/dist-packages/sklearn/utils/__init__.py:12: RuntimeWarning: numpy.dtype size changed, may indicate binary incompatibility. Expected 96, got 88\n",
      "  from .murmurhash import murmurhash3_32\n",
      "/usr/local/lib/python2.7/site-packages/scipy/optimize/_minimize.py:37: ImportWarning: Not importing directory '/usr/local/lib/python2.7/site-packages/scipy/optimize/lbfgsb': missing __init__.py\n",
      "  from .lbfgsb import _minimize_lbfgsb\n",
      "/usr/local/lib/python2.7/dist-packages/sklearn/utils/extmath.py:23: RuntimeWarning: numpy.dtype size changed, may indicate binary incompatibility. Expected 96, got 88\n",
      "  from ._logistic_sigmoid import _log_logistic_sigmoid\n",
      "/usr/local/lib/python2.7/dist-packages/sklearn/metrics/cluster/supervised.py:25: RuntimeWarning: numpy.dtype size changed, may indicate binary incompatibility. Expected 96, got 88\n",
      "  from .expected_mutual_info_fast import expected_mutual_information\n",
      "/usr/local/lib/python2.7/dist-packages/sklearn/metrics/pairwise.py:31: RuntimeWarning: numpy.dtype size changed, may indicate binary incompatibility. Expected 96, got 88\n",
      "  from .pairwise_fast import _chi2_kernel_fast, _sparse_manhattan\n"
     ]
    }
   ],
   "source": [
    "import datetime\n",
    "import os\n",
    "import tempfile\n",
    "\n",
    "import pandas as pd\n",
    "import apache_beam as beam\n",
    "\n",
    "import tensorflow as tf\n",
    "import tensorflow_transform as tft\n",
    "import tensorflow_transform.beam.impl as beam_impl\n",
    "from tensorflow_transform.tf_metadata import dataset_metadata\n",
    "from tensorflow_transform.tf_metadata import dataset_schema\n",
    "from tensorflow_transform.beam.tft_beam_io import transform_fn_io\n",
    "\n",
    "\n",
    "import google.datalab.bigquery as dlbq"
   ]
  },
  {
   "cell_type": "code",
   "execution_count": 3,
   "metadata": {},
   "outputs": [],
   "source": [
    "%load_ext google.cloud.bigquery"
   ]
  },
  {
   "cell_type": "code",
   "execution_count": 4,
   "metadata": {},
   "outputs": [],
   "source": [
    "PROJECT='going-tfx'\n",
    "BUCKET='going-tfx'\n",
    "DATASET='examples'\n",
    "TMPDIR='/tmp'"
   ]
  },
  {
   "cell_type": "markdown",
   "metadata": {},
   "source": [
    "---\n",
    "# Raw data in Bigquery\n",
    "We collected the raw data that we use from various sources into a single denormalized table"
   ]
  },
  {
   "cell_type": "code",
   "execution_count": 5,
   "metadata": {},
   "outputs": [
    {
     "data": {
      "text/html": [
       "<div>\n",
       "<style scoped>\n",
       "    .dataframe tbody tr th:only-of-type {\n",
       "        vertical-align: middle;\n",
       "    }\n",
       "\n",
       "    .dataframe tbody tr th {\n",
       "        vertical-align: top;\n",
       "    }\n",
       "\n",
       "    .dataframe thead th {\n",
       "        text-align: right;\n",
       "    }\n",
       "</style>\n",
       "<table border=\"1\" class=\"dataframe\">\n",
       "  <thead>\n",
       "    <tr style=\"text-align: right;\">\n",
       "      <th></th>\n",
       "      <th>DATE</th>\n",
       "      <th>YEAR</th>\n",
       "      <th>MONTH</th>\n",
       "      <th>DAY</th>\n",
       "      <th>DEP_DOW</th>\n",
       "      <th>AIRLINE</th>\n",
       "      <th>DEP_T</th>\n",
       "      <th>DEP</th>\n",
       "      <th>DEP_LAT</th>\n",
       "      <th>DEP_LON</th>\n",
       "      <th>...</th>\n",
       "      <th>WND_SPD_DEP</th>\n",
       "      <th>ARR_T</th>\n",
       "      <th>ARR_DELAY</th>\n",
       "      <th>ARR</th>\n",
       "      <th>ARR_LAT</th>\n",
       "      <th>ARR_LON</th>\n",
       "      <th>ARR_W</th>\n",
       "      <th>MEAN_TEMP_ARR</th>\n",
       "      <th>MEAN_VIS_ARR</th>\n",
       "      <th>WND_SPD_ARR</th>\n",
       "    </tr>\n",
       "  </thead>\n",
       "  <tbody>\n",
       "    <tr>\n",
       "      <th>0</th>\n",
       "      <td>2002-06-01</td>\n",
       "      <td>2002</td>\n",
       "      <td>6</td>\n",
       "      <td>1</td>\n",
       "      <td>7</td>\n",
       "      <td>US Airways Inc.: US (Merged with America West ...</td>\n",
       "      <td>610</td>\n",
       "      <td>ATL</td>\n",
       "      <td>33.63</td>\n",
       "      <td>-84.42</td>\n",
       "      <td>...</td>\n",
       "      <td>6.9</td>\n",
       "      <td>712</td>\n",
       "      <td>-12.0</td>\n",
       "      <td>CLT</td>\n",
       "      <td>35.21</td>\n",
       "      <td>-80.94</td>\n",
       "      <td>CHARLOTTE/DOUGLAS INTERNATION</td>\n",
       "      <td>78.3</td>\n",
       "      <td>9.5</td>\n",
       "      <td>2.7</td>\n",
       "    </tr>\n",
       "    <tr>\n",
       "      <th>1</th>\n",
       "      <td>2002-06-01</td>\n",
       "      <td>2002</td>\n",
       "      <td>6</td>\n",
       "      <td>1</td>\n",
       "      <td>7</td>\n",
       "      <td>Delta Air Lines Inc.: DL</td>\n",
       "      <td>620</td>\n",
       "      <td>ATL</td>\n",
       "      <td>33.63</td>\n",
       "      <td>-84.42</td>\n",
       "      <td>...</td>\n",
       "      <td>6.9</td>\n",
       "      <td>738</td>\n",
       "      <td>55.0</td>\n",
       "      <td>TPA</td>\n",
       "      <td>27.97</td>\n",
       "      <td>-82.53</td>\n",
       "      <td>TAMPA INTERNATIONAL AIRPORT</td>\n",
       "      <td>79.1</td>\n",
       "      <td>9.9</td>\n",
       "      <td>5.5</td>\n",
       "    </tr>\n",
       "    <tr>\n",
       "      <th>2</th>\n",
       "      <td>2002-06-01</td>\n",
       "      <td>2002</td>\n",
       "      <td>6</td>\n",
       "      <td>1</td>\n",
       "      <td>7</td>\n",
       "      <td>Delta Air Lines Inc.: DL</td>\n",
       "      <td>620</td>\n",
       "      <td>ATL</td>\n",
       "      <td>33.63</td>\n",
       "      <td>-84.42</td>\n",
       "      <td>...</td>\n",
       "      <td>6.9</td>\n",
       "      <td>740</td>\n",
       "      <td>9.0</td>\n",
       "      <td>MCO</td>\n",
       "      <td>28.42</td>\n",
       "      <td>-81.30</td>\n",
       "      <td>ORLANDO INTERNATIONAL AIRPORT</td>\n",
       "      <td>77.4</td>\n",
       "      <td>9.6</td>\n",
       "      <td>5.7</td>\n",
       "    </tr>\n",
       "  </tbody>\n",
       "</table>\n",
       "<p>3 rows × 23 columns</p>\n",
       "</div>"
      ],
      "text/plain": [
       "         DATE  YEAR  MONTH  DAY  DEP_DOW  \\\n",
       "0  2002-06-01  2002      6    1        7   \n",
       "1  2002-06-01  2002      6    1        7   \n",
       "2  2002-06-01  2002      6    1        7   \n",
       "\n",
       "                                             AIRLINE  DEP_T  DEP  DEP_LAT  \\\n",
       "0  US Airways Inc.: US (Merged with America West ...    610  ATL    33.63   \n",
       "1                           Delta Air Lines Inc.: DL    620  ATL    33.63   \n",
       "2                           Delta Air Lines Inc.: DL    620  ATL    33.63   \n",
       "\n",
       "   DEP_LON     ...     WND_SPD_DEP  ARR_T  ARR_DELAY  ARR  ARR_LAT  ARR_LON  \\\n",
       "0   -84.42     ...             6.9    712      -12.0  CLT    35.21   -80.94   \n",
       "1   -84.42     ...             6.9    738       55.0  TPA    27.97   -82.53   \n",
       "2   -84.42     ...             6.9    740        9.0  MCO    28.42   -81.30   \n",
       "\n",
       "                           ARR_W  MEAN_TEMP_ARR  MEAN_VIS_ARR WND_SPD_ARR  \n",
       "0  CHARLOTTE/DOUGLAS INTERNATION           78.3           9.5         2.7  \n",
       "1    TAMPA INTERNATIONAL AIRPORT           79.1           9.9         5.5  \n",
       "2  ORLANDO INTERNATIONAL AIRPORT           77.4           9.6         5.7  \n",
       "\n",
       "[3 rows x 23 columns]"
      ]
     },
     "execution_count": 5,
     "metadata": {},
     "output_type": "execute_result"
    }
   ],
   "source": [
    "%%bigquery aj_sample\n",
    "select * FROM `going-tfx.examples.ATL_JUNE_RAW` limit 3"
   ]
  },
  {
   "cell_type": "code",
   "execution_count": 6,
   "metadata": {},
   "outputs": [
    {
     "name": "stdout",
     "output_type": "stream",
     "text": [
      "['DATE', 'YEAR', 'MONTH', 'DAY', 'DEP_DOW', 'AIRLINE', 'DEP_T', 'DEP', 'DEP_LAT', 'DEP_LON', 'DEP_W', 'MEAN_TEMP_DEP', 'MEAN_VIS_DEP', 'WND_SPD_DEP', 'ARR_T', 'ARR_DELAY', 'ARR', 'ARR_LAT', 'ARR_LON', 'ARR_W', 'MEAN_TEMP_ARR', 'MEAN_VIS_ARR', 'WND_SPD_ARR']\n"
     ]
    }
   ],
   "source": [
    "ALL_COLUMNS = [str(key) for key in aj_sample.keys()]\n",
    "print(ALL_COLUMNS)"
   ]
  },
  {
   "cell_type": "code",
   "execution_count": 7,
   "metadata": {},
   "outputs": [],
   "source": [
    "OUTPUT_COLUMNS = ALL_COLUMNS"
   ]
  },
  {
   "cell_type": "markdown",
   "metadata": {},
   "source": [
    "---\n",
    "# Repeatable random subsets \n",
    "\n",
    "### Here's how we create repeatable random subsets for training, evaluation, and test"
   ]
  },
  {
   "cell_type": "code",
   "execution_count": 8,
   "metadata": {},
   "outputs": [],
   "source": [
    "def sample_query(total, lower, upper):\n",
    "    return \"\"\"\n",
    "        SELECT\n",
    "            *\n",
    "        FROM `going-tfx.examples.ATL_JUNE_RAW` \n",
    "\n",
    "        where\n",
    "          MOD(ABS(FARM_FINGERPRINT(\n",
    "            CONCAT(DATE,AIRLINE,ARR)\n",
    "          )) + DEP_T, {0}) >= {1} \n",
    "        and\n",
    "          MOD(ABS(FARM_FINGERPRINT(\n",
    "            CONCAT( DATE, AIRLINE, ARR)\n",
    "           )) + DEP_T, {0}) < {2} \n",
    "    \"\"\".format(total, lower, upper)"
   ]
  },
  {
   "cell_type": "code",
   "execution_count": 9,
   "metadata": {},
   "outputs": [],
   "source": [
    "def sample_queries(fractions, rate=0.1):\n",
    "    start = 0\n",
    "    total = int(sum(fractions) / rate)\n",
    "    res = []\n",
    "    for f in fractions:\n",
    "        f_ = int(f) \n",
    "        q = sample_query(total, start, start+f_)\n",
    "        start = start + f_\n",
    "        res.append(q)\n",
    "    return dict(zip(['train', 'eval', 'test'], res))"
   ]
  },
  {
   "cell_type": "code",
   "execution_count": 10,
   "metadata": {},
   "outputs": [],
   "source": [
    "queries = sample_queries([80,10,10], .1)"
   ]
  },
  {
   "cell_type": "code",
   "execution_count": 11,
   "metadata": {},
   "outputs": [
    {
     "name": "stdout",
     "output_type": "stream",
     "text": [
      "\n",
      "        SELECT\n",
      "            *\n",
      "        FROM `going-tfx.examples.ATL_JUNE_RAW` \n",
      "\n",
      "        where\n",
      "          MOD(ABS(FARM_FINGERPRINT(\n",
      "            CONCAT(DATE,AIRLINE,ARR)\n",
      "          )) + DEP_T, 1000) >= 80 \n",
      "        and\n",
      "          MOD(ABS(FARM_FINGERPRINT(\n",
      "            CONCAT( DATE, AIRLINE, ARR)\n",
      "           )) + DEP_T, 1000) < 90 \n",
      "    \n"
     ]
    }
   ],
   "source": [
    "print(queries['eval'])"
   ]
  },
  {
   "cell_type": "markdown",
   "metadata": {},
   "source": [
    "#### A super-small random subset "
   ]
  },
  {
   "cell_type": "code",
   "execution_count": 12,
   "metadata": {},
   "outputs": [
    {
     "name": "stdout",
     "output_type": "stream",
     "text": [
      "Only 40 examples. Showing first three:\n"
     ]
    },
    {
     "data": {
      "text/html": [
       "<div>\n",
       "<style scoped>\n",
       "    .dataframe tbody tr th:only-of-type {\n",
       "        vertical-align: middle;\n",
       "    }\n",
       "\n",
       "    .dataframe tbody tr th {\n",
       "        vertical-align: top;\n",
       "    }\n",
       "\n",
       "    .dataframe thead th {\n",
       "        text-align: right;\n",
       "    }\n",
       "</style>\n",
       "<table border=\"1\" class=\"dataframe\">\n",
       "  <thead>\n",
       "    <tr style=\"text-align: right;\">\n",
       "      <th></th>\n",
       "      <th>DATE</th>\n",
       "      <th>YEAR</th>\n",
       "      <th>MONTH</th>\n",
       "      <th>DAY</th>\n",
       "      <th>DEP_DOW</th>\n",
       "      <th>AIRLINE</th>\n",
       "      <th>DEP_T</th>\n",
       "      <th>DEP</th>\n",
       "      <th>DEP_LAT</th>\n",
       "      <th>DEP_LON</th>\n",
       "      <th>...</th>\n",
       "      <th>WND_SPD_DEP</th>\n",
       "      <th>ARR_T</th>\n",
       "      <th>ARR_DELAY</th>\n",
       "      <th>ARR</th>\n",
       "      <th>ARR_LAT</th>\n",
       "      <th>ARR_LON</th>\n",
       "      <th>ARR_W</th>\n",
       "      <th>MEAN_TEMP_ARR</th>\n",
       "      <th>MEAN_VIS_ARR</th>\n",
       "      <th>WND_SPD_ARR</th>\n",
       "    </tr>\n",
       "  </thead>\n",
       "  <tbody>\n",
       "    <tr>\n",
       "      <th>0</th>\n",
       "      <td>2004-06-07</td>\n",
       "      <td>2004</td>\n",
       "      <td>6</td>\n",
       "      <td>7</td>\n",
       "      <td>2</td>\n",
       "      <td>Delta Air Lines Inc.: DL</td>\n",
       "      <td>842</td>\n",
       "      <td>ATL</td>\n",
       "      <td>33.63</td>\n",
       "      <td>-84.42</td>\n",
       "      <td>...</td>\n",
       "      <td>4.4</td>\n",
       "      <td>949</td>\n",
       "      <td>16.0</td>\n",
       "      <td>SAV</td>\n",
       "      <td>32.12</td>\n",
       "      <td>-81.20</td>\n",
       "      <td>SAVANNAH/HILTON HEAD INTL AIR</td>\n",
       "      <td>79.4</td>\n",
       "      <td>9.8</td>\n",
       "      <td>5.7</td>\n",
       "    </tr>\n",
       "    <tr>\n",
       "      <th>1</th>\n",
       "      <td>2006-06-27</td>\n",
       "      <td>2006</td>\n",
       "      <td>6</td>\n",
       "      <td>27</td>\n",
       "      <td>3</td>\n",
       "      <td>Delta Air Lines Inc.: DL</td>\n",
       "      <td>2130</td>\n",
       "      <td>ATL</td>\n",
       "      <td>33.63</td>\n",
       "      <td>-84.42</td>\n",
       "      <td>...</td>\n",
       "      <td>6.3</td>\n",
       "      <td>2354</td>\n",
       "      <td>45.0</td>\n",
       "      <td>PVD</td>\n",
       "      <td>41.72</td>\n",
       "      <td>-71.42</td>\n",
       "      <td>PROVIDENCE T F GREEN ARPT</td>\n",
       "      <td>74.7</td>\n",
       "      <td>10.0</td>\n",
       "      <td>10.1</td>\n",
       "    </tr>\n",
       "    <tr>\n",
       "      <th>2</th>\n",
       "      <td>2005-06-22</td>\n",
       "      <td>2005</td>\n",
       "      <td>6</td>\n",
       "      <td>22</td>\n",
       "      <td>4</td>\n",
       "      <td>America West Airlines Inc.: HP (Merged with US...</td>\n",
       "      <td>805</td>\n",
       "      <td>ATL</td>\n",
       "      <td>33.63</td>\n",
       "      <td>-84.42</td>\n",
       "      <td>...</td>\n",
       "      <td>6.1</td>\n",
       "      <td>916</td>\n",
       "      <td>-25.0</td>\n",
       "      <td>PHX</td>\n",
       "      <td>33.43</td>\n",
       "      <td>-112.01</td>\n",
       "      <td>PHOENIX SKY HARBOR INTL AIRPO</td>\n",
       "      <td>102.4</td>\n",
       "      <td>10.0</td>\n",
       "      <td>8.5</td>\n",
       "    </tr>\n",
       "  </tbody>\n",
       "</table>\n",
       "<p>3 rows × 23 columns</p>\n",
       "</div>"
      ],
      "text/plain": [
       "         DATE  YEAR  MONTH  DAY  DEP_DOW  \\\n",
       "0  2004-06-07  2004      6    7        2   \n",
       "1  2006-06-27  2006      6   27        3   \n",
       "2  2005-06-22  2005      6   22        4   \n",
       "\n",
       "                                             AIRLINE  DEP_T  DEP  DEP_LAT  \\\n",
       "0                           Delta Air Lines Inc.: DL    842  ATL    33.63   \n",
       "1                           Delta Air Lines Inc.: DL   2130  ATL    33.63   \n",
       "2  America West Airlines Inc.: HP (Merged with US...    805  ATL    33.63   \n",
       "\n",
       "   DEP_LON     ...     WND_SPD_DEP  ARR_T  ARR_DELAY  ARR  ARR_LAT  ARR_LON  \\\n",
       "0   -84.42     ...             4.4    949       16.0  SAV    32.12   -81.20   \n",
       "1   -84.42     ...             6.3   2354       45.0  PVD    41.72   -71.42   \n",
       "2   -84.42     ...             6.1    916      -25.0  PHX    33.43  -112.01   \n",
       "\n",
       "                           ARR_W  MEAN_TEMP_ARR  MEAN_VIS_ARR WND_SPD_ARR  \n",
       "0  SAVANNAH/HILTON HEAD INTL AIR           79.4           9.8         5.7  \n",
       "1      PROVIDENCE T F GREEN ARPT           74.7          10.0        10.1  \n",
       "2  PHOENIX SKY HARBOR INTL AIRPO          102.4          10.0         8.5  \n",
       "\n",
       "[3 rows x 23 columns]"
      ]
     },
     "execution_count": 12,
     "metadata": {},
     "output_type": "execute_result"
    }
   ],
   "source": [
    "tiny_query = sample_query(10000, 0, 1)\n",
    "sample = dlbq.Query(tiny_query).execute().result().to_dataframe()\n",
    "print('Only {} examples. Showing first three:'.format(len(sample)))\n",
    "sample[:3]"
   ]
  },
  {
   "cell_type": "markdown",
   "metadata": {},
   "source": [
    "---\n",
    "# Reading from Bigquery into a beam pipeline"
   ]
  },
  {
   "cell_type": "code",
   "execution_count": 13,
   "metadata": {},
   "outputs": [],
   "source": [
    "STRING_COLUMNS = ['DATE', 'AIRLINE', 'DEP', 'DEP_W', 'ARR', 'ARR_W']\n",
    "INT_COLUMNS = ['YEAR', 'MONTH', 'DAY', 'DEP_DOW', 'DEP_T', 'ARR_T']\n",
    "FLOAT_COLUMNS = ['DEP_LAT', 'DEP_LON', 'MEAN_TEMP_DEP', 'MEAN_VIS_DEP', 'WND_SPD_DEP', 'ARR_DELAY', 'ARR_LAT', 'ARR_LON', 'MEAN_TEMP_ARR', 'MEAN_VIS_ARR', 'WND_SPD_ARR']"
   ]
  },
  {
   "cell_type": "code",
   "execution_count": 14,
   "metadata": {},
   "outputs": [],
   "source": [
    "raw_data_schema = {}\n",
    "\n",
    "for t, cols in [(tf.string, STRING_COLUMNS), (tf.float32, FLOAT_COLUMNS), (tf.int64, INT_COLUMNS)]:\n",
    "    raw_data_schema.update({\n",
    "        col : dataset_schema.ColumnSchema(t, [], dataset_schema.FixedColumnRepresentation())\n",
    "                   for col in cols})\n",
    "raw_data_metadata = dataset_metadata.DatasetMetadata(dataset_schema.Schema(raw_data_schema))"
   ]
  },
  {
   "cell_type": "code",
   "execution_count": 15,
   "metadata": {},
   "outputs": [],
   "source": [
    "in_test_mode = True\n",
    "OUTPUT_DIR=\"./out\"\n",
    "job_name = 'tft_tutorial' + '-' + datetime.datetime.now().strftime('%y%m%d-%H%M%S')    \n",
    "\n",
    "options = {\n",
    "    'staging_location': os.path.join(OUTPUT_DIR, 'tmp', 'staging'),\n",
    "    'temp_location': os.path.join(OUTPUT_DIR, 'tmp'),\n",
    "    'job_name': job_name,\n",
    "    'project': PROJECT,\n",
    "    'max_num_workers': 24,\n",
    "    'teardown_policy': 'TEARDOWN_ALWAYS',\n",
    "    'no_save_main_session': True,\n",
    "    'requirements_file': 'requirements.txt'\n",
    "}\n",
    "opts = beam.pipeline.PipelineOptions(flags=[], **options)\n",
    "if in_test_mode:\n",
    "    RUNNER = 'DirectRunner'\n",
    "else:\n",
    "    RUNNER = 'DataflowRunner'"
   ]
  },
  {
   "cell_type": "markdown",
   "metadata": {},
   "source": [
    "---\n",
    "# Developing the pre-processing function"
   ]
  },
  {
   "cell_type": "code",
   "execution_count": 16,
   "metadata": {},
   "outputs": [],
   "source": [
    "tf.logging.set_verbosity(tf.logging.ERROR)"
   ]
  },
  {
   "cell_type": "markdown",
   "metadata": {},
   "source": [
    "---\n",
    "### This simple pipeline reads, transforms and emits the result into a csv file"
   ]
  },
  {
   "cell_type": "code",
   "execution_count": 24,
   "metadata": {},
   "outputs": [
    {
     "name": "stdout",
     "output_type": "stream",
     "text": [
      "None\n"
     ]
    }
   ],
   "source": [
    "wh = False\n",
    "header = \"Header\" if wh else None\n",
    "print(header)"
   ]
  },
  {
   "cell_type": "code",
   "execution_count": 26,
   "metadata": {},
   "outputs": [],
   "source": [
    "def exec_pipeline(query, preprocessing_fn, output_columns, out_name = 'atl_june_transformed', write_header=False):\n",
    "    \n",
    "    header=\",\".join(output_columns) if write_header else None\n",
    "    \n",
    "    out_prefix = os.path.join(TMPDIR, out_name)\n",
    "    with beam.Pipeline(RUNNER, options=opts) as p:\n",
    "        with beam_impl.Context(temp_dir=tempfile.mkdtemp()):\n",
    "            \n",
    "            \n",
    "            #   Read from Big Query\n",
    "            #\n",
    "            raw_data = p | \"ReadFromBigQuery\"  >> beam.io.Read(beam.io.BigQuerySource(query=query, use_standard_sql=True)) \n",
    "            raw_dataset = (raw_data, raw_data_metadata)\n",
    "\n",
    "            \n",
    "            #   Analyze and transform by calling a single function that has all the tft.transforms in it\n",
    "            #\n",
    "            t_dataset, t_fn = (raw_dataset | beam_impl.AnalyzeAndTransformDataset(preprocessing_fn))\n",
    "            t_data, t_metadata = t_dataset\n",
    "            \n",
    "            \n",
    "            # Encode back to CSV file(s)\n",
    "            #\n",
    "            csv_encode = tft.coders.CsvCoder(output_columns, t_metadata.schema).encode    \n",
    "            res = (t_data \n",
    "                   | beam.Map(csv_encode)\n",
    "                   | beam.io.WriteToText(file_path_prefix=out_prefix, header=header))\n",
    "\n",
    "            \n",
    "    # Return a pandas dataframe containing the result\n",
    "    #\n",
    "    resfile = !ls $TMPDIR | grep $out_name\n",
    "    resfile = resfile[0]\n",
    "    resfile = os.path.join(TMPDIR, resfile)\n",
    "    return pd.read_csv(resfile)"
   ]
  },
  {
   "cell_type": "markdown",
   "metadata": {},
   "source": [
    "---\n",
    "#### Step 1: Do nothing"
   ]
  },
  {
   "cell_type": "code",
   "execution_count": 27,
   "metadata": {},
   "outputs": [],
   "source": [
    "def do_nothing(inputs):\n",
    "    return inputs"
   ]
  },
  {
   "cell_type": "code",
   "execution_count": 29,
   "metadata": {},
   "outputs": [
    {
     "name": "stderr",
     "output_type": "stream",
     "text": [
      "WARNING:root:Dataset going-tfx:temp_dataset_bf7461d2707a409d94697aade54e9823 does not exist so we will create it as temporary with location=US\n",
      "WARNING:root:Deleting 1 existing files in target path matching: -*-of-%(num_shards)05d\n"
     ]
    },
    {
     "data": {
      "text/html": [
       "<div>\n",
       "<style scoped>\n",
       "    .dataframe tbody tr th:only-of-type {\n",
       "        vertical-align: middle;\n",
       "    }\n",
       "\n",
       "    .dataframe tbody tr th {\n",
       "        vertical-align: top;\n",
       "    }\n",
       "\n",
       "    .dataframe thead th {\n",
       "        text-align: right;\n",
       "    }\n",
       "</style>\n",
       "<table border=\"1\" class=\"dataframe\">\n",
       "  <thead>\n",
       "    <tr style=\"text-align: right;\">\n",
       "      <th></th>\n",
       "      <th>DATE</th>\n",
       "      <th>YEAR</th>\n",
       "      <th>MONTH</th>\n",
       "      <th>DAY</th>\n",
       "      <th>DEP_DOW</th>\n",
       "      <th>AIRLINE</th>\n",
       "      <th>DEP_T</th>\n",
       "      <th>DEP</th>\n",
       "      <th>DEP_LAT</th>\n",
       "      <th>DEP_LON</th>\n",
       "      <th>...</th>\n",
       "      <th>WND_SPD_DEP</th>\n",
       "      <th>ARR_T</th>\n",
       "      <th>ARR_DELAY</th>\n",
       "      <th>ARR</th>\n",
       "      <th>ARR_LAT</th>\n",
       "      <th>ARR_LON</th>\n",
       "      <th>ARR_W</th>\n",
       "      <th>MEAN_TEMP_ARR</th>\n",
       "      <th>MEAN_VIS_ARR</th>\n",
       "      <th>WND_SPD_ARR</th>\n",
       "    </tr>\n",
       "  </thead>\n",
       "  <tbody>\n",
       "    <tr>\n",
       "      <th>0</th>\n",
       "      <td>2004-06-07</td>\n",
       "      <td>2004</td>\n",
       "      <td>6</td>\n",
       "      <td>7</td>\n",
       "      <td>2</td>\n",
       "      <td>Delta Air Lines Inc.: DL</td>\n",
       "      <td>842</td>\n",
       "      <td>ATL</td>\n",
       "      <td>33.63</td>\n",
       "      <td>-84.42</td>\n",
       "      <td>...</td>\n",
       "      <td>4.4</td>\n",
       "      <td>949</td>\n",
       "      <td>16.0</td>\n",
       "      <td>SAV</td>\n",
       "      <td>32.12</td>\n",
       "      <td>-81.20</td>\n",
       "      <td>SAVANNAH/HILTON HEAD INTL AIR</td>\n",
       "      <td>79.4</td>\n",
       "      <td>9.8</td>\n",
       "      <td>5.7</td>\n",
       "    </tr>\n",
       "    <tr>\n",
       "      <th>1</th>\n",
       "      <td>2006-06-27</td>\n",
       "      <td>2006</td>\n",
       "      <td>6</td>\n",
       "      <td>27</td>\n",
       "      <td>3</td>\n",
       "      <td>Delta Air Lines Inc.: DL</td>\n",
       "      <td>2130</td>\n",
       "      <td>ATL</td>\n",
       "      <td>33.63</td>\n",
       "      <td>-84.42</td>\n",
       "      <td>...</td>\n",
       "      <td>6.3</td>\n",
       "      <td>2354</td>\n",
       "      <td>45.0</td>\n",
       "      <td>PVD</td>\n",
       "      <td>41.72</td>\n",
       "      <td>-71.42</td>\n",
       "      <td>PROVIDENCE T F GREEN ARPT</td>\n",
       "      <td>74.7</td>\n",
       "      <td>10.0</td>\n",
       "      <td>10.1</td>\n",
       "    </tr>\n",
       "    <tr>\n",
       "      <th>2</th>\n",
       "      <td>2005-06-22</td>\n",
       "      <td>2005</td>\n",
       "      <td>6</td>\n",
       "      <td>22</td>\n",
       "      <td>4</td>\n",
       "      <td>America West Airlines Inc.: HP (Merged with US...</td>\n",
       "      <td>805</td>\n",
       "      <td>ATL</td>\n",
       "      <td>33.63</td>\n",
       "      <td>-84.42</td>\n",
       "      <td>...</td>\n",
       "      <td>6.1</td>\n",
       "      <td>916</td>\n",
       "      <td>-25.0</td>\n",
       "      <td>PHX</td>\n",
       "      <td>33.43</td>\n",
       "      <td>-112.01</td>\n",
       "      <td>PHOENIX SKY HARBOR INTL AIRPO</td>\n",
       "      <td>102.4</td>\n",
       "      <td>10.0</td>\n",
       "      <td>8.5</td>\n",
       "    </tr>\n",
       "  </tbody>\n",
       "</table>\n",
       "<p>3 rows × 23 columns</p>\n",
       "</div>"
      ],
      "text/plain": [
       "         DATE  YEAR  MONTH  DAY  DEP_DOW  \\\n",
       "0  2004-06-07  2004      6    7        2   \n",
       "1  2006-06-27  2006      6   27        3   \n",
       "2  2005-06-22  2005      6   22        4   \n",
       "\n",
       "                                             AIRLINE  DEP_T  DEP  DEP_LAT  \\\n",
       "0                           Delta Air Lines Inc.: DL    842  ATL    33.63   \n",
       "1                           Delta Air Lines Inc.: DL   2130  ATL    33.63   \n",
       "2  America West Airlines Inc.: HP (Merged with US...    805  ATL    33.63   \n",
       "\n",
       "   DEP_LON     ...     WND_SPD_DEP  ARR_T  ARR_DELAY  ARR  ARR_LAT  ARR_LON  \\\n",
       "0   -84.42     ...             4.4    949       16.0  SAV    32.12   -81.20   \n",
       "1   -84.42     ...             6.3   2354       45.0  PVD    41.72   -71.42   \n",
       "2   -84.42     ...             6.1    916      -25.0  PHX    33.43  -112.01   \n",
       "\n",
       "                           ARR_W  MEAN_TEMP_ARR  MEAN_VIS_ARR WND_SPD_ARR  \n",
       "0  SAVANNAH/HILTON HEAD INTL AIR           79.4           9.8         5.7  \n",
       "1      PROVIDENCE T F GREEN ARPT           74.7          10.0        10.1  \n",
       "2  PHOENIX SKY HARBOR INTL AIRPO          102.4          10.0         8.5  \n",
       "\n",
       "[3 rows x 23 columns]"
      ]
     },
     "execution_count": 29,
     "metadata": {},
     "output_type": "execute_result"
    }
   ],
   "source": [
    "res = exec_pipeline(tiny_query, do_nothing, ALL_COLUMNS, write_header=True)\n",
    "res[:3]"
   ]
  },
  {
   "cell_type": "markdown",
   "metadata": {},
   "source": [
    "---\n",
    "#### Step 2: Select only the useful columns"
   ]
  },
  {
   "cell_type": "code",
   "execution_count": 30,
   "metadata": {},
   "outputs": [],
   "source": [
    "SELECTED_COLUMNS=[\n",
    "    'YEAR', 'MONTH', 'DEP_DOW', 'AIRLINE', \n",
    "    'DEP_T', 'DEP', 'DEP_LAT', 'DEP_LON', \n",
    "    'MEAN_TEMP_DEP', 'MEAN_VIS_DEP', 'WND_SPD_DEP', \n",
    "    'ARR_DELAY', \n",
    "    'ARR', 'ARR_LAT', 'ARR_LON', \n",
    "    'MEAN_TEMP_ARR', 'MEAN_VIS_ARR', 'WND_SPD_ARR']"
   ]
  },
  {
   "cell_type": "code",
   "execution_count": 31,
   "metadata": {},
   "outputs": [
    {
     "name": "stdout",
     "output_type": "stream",
     "text": [
      "{'WND_SPD_DEP': 4.4, 'WND_SPD_ARR': 5.7, 'MEAN_TEMP_ARR': 79.4, 'DEP': 'ATL', 'ARR_LON': -81.2, 'MEAN_VIS_DEP': 6.0, 'DEP_T': 842, 'ARR': 'SAV', 'DEP_LON': -84.42, 'DEP_DOW': 2, 'MEAN_VIS_ARR': 9.8, 'ARR_LAT': 32.12, 'AIRLINE': 'Delta Air Lines Inc.: DL', 'YEAR': 2004, 'ARR_DELAY': 16.0, 'DEP_LAT': 33.63, 'MONTH': 6, 'MEAN_TEMP_DEP': 75.2}\n"
     ]
    }
   ],
   "source": [
    "def select_cols(row):\n",
    "    return {key: row[key] for key in SELECTED_COLUMNS}\n",
    "\n",
    "one_row = sample.to_dict(orient='records')[0]\n",
    "print(select_cols(one_row))"
   ]
  },
  {
   "cell_type": "code",
   "execution_count": 32,
   "metadata": {},
   "outputs": [
    {
     "name": "stderr",
     "output_type": "stream",
     "text": [
      "WARNING:root:Dataset going-tfx:temp_dataset_10b3245e437c464eb0d1f0afacf095ed does not exist so we will create it as temporary with location=US\n",
      "WARNING:root:Deleting 1 existing files in target path matching: -*-of-%(num_shards)05d\n"
     ]
    },
    {
     "data": {
      "text/html": [
       "<div>\n",
       "<style scoped>\n",
       "    .dataframe tbody tr th:only-of-type {\n",
       "        vertical-align: middle;\n",
       "    }\n",
       "\n",
       "    .dataframe tbody tr th {\n",
       "        vertical-align: top;\n",
       "    }\n",
       "\n",
       "    .dataframe thead th {\n",
       "        text-align: right;\n",
       "    }\n",
       "</style>\n",
       "<table border=\"1\" class=\"dataframe\">\n",
       "  <thead>\n",
       "    <tr style=\"text-align: right;\">\n",
       "      <th></th>\n",
       "      <th>YEAR</th>\n",
       "      <th>MONTH</th>\n",
       "      <th>DEP_DOW</th>\n",
       "      <th>AIRLINE</th>\n",
       "      <th>DEP_T</th>\n",
       "      <th>DEP</th>\n",
       "      <th>DEP_LAT</th>\n",
       "      <th>DEP_LON</th>\n",
       "      <th>MEAN_TEMP_DEP</th>\n",
       "      <th>MEAN_VIS_DEP</th>\n",
       "      <th>WND_SPD_DEP</th>\n",
       "      <th>ARR_DELAY</th>\n",
       "      <th>ARR</th>\n",
       "      <th>ARR_LAT</th>\n",
       "      <th>ARR_LON</th>\n",
       "      <th>MEAN_TEMP_ARR</th>\n",
       "      <th>MEAN_VIS_ARR</th>\n",
       "      <th>WND_SPD_ARR</th>\n",
       "    </tr>\n",
       "  </thead>\n",
       "  <tbody>\n",
       "    <tr>\n",
       "      <th>0</th>\n",
       "      <td>2002</td>\n",
       "      <td>6</td>\n",
       "      <td>1</td>\n",
       "      <td>Delta Air Lines Inc.: DL</td>\n",
       "      <td>1030</td>\n",
       "      <td>ATL</td>\n",
       "      <td>33.63</td>\n",
       "      <td>-84.42</td>\n",
       "      <td>74.5</td>\n",
       "      <td>6.9</td>\n",
       "      <td>9.8</td>\n",
       "      <td>7.0</td>\n",
       "      <td>RDU</td>\n",
       "      <td>35.87</td>\n",
       "      <td>-78.78</td>\n",
       "      <td>78.6</td>\n",
       "      <td>9.0</td>\n",
       "      <td>4.6</td>\n",
       "    </tr>\n",
       "    <tr>\n",
       "      <th>1</th>\n",
       "      <td>2002</td>\n",
       "      <td>6</td>\n",
       "      <td>2</td>\n",
       "      <td>Delta Air Lines Inc.: DL</td>\n",
       "      <td>1425</td>\n",
       "      <td>ATL</td>\n",
       "      <td>33.63</td>\n",
       "      <td>-84.42</td>\n",
       "      <td>74.6</td>\n",
       "      <td>10.0</td>\n",
       "      <td>6.1</td>\n",
       "      <td>-12.0</td>\n",
       "      <td>CAE</td>\n",
       "      <td>33.93</td>\n",
       "      <td>-81.11</td>\n",
       "      <td>75.7</td>\n",
       "      <td>9.9</td>\n",
       "      <td>2.9</td>\n",
       "    </tr>\n",
       "    <tr>\n",
       "      <th>2</th>\n",
       "      <td>2002</td>\n",
       "      <td>6</td>\n",
       "      <td>2</td>\n",
       "      <td>Delta Air Lines Inc.: DL</td>\n",
       "      <td>1150</td>\n",
       "      <td>ATL</td>\n",
       "      <td>33.63</td>\n",
       "      <td>-84.42</td>\n",
       "      <td>73.1</td>\n",
       "      <td>9.9</td>\n",
       "      <td>6.2</td>\n",
       "      <td>37.0</td>\n",
       "      <td>DFW</td>\n",
       "      <td>32.89</td>\n",
       "      <td>-97.03</td>\n",
       "      <td>75.8</td>\n",
       "      <td>9.9</td>\n",
       "      <td>3.3</td>\n",
       "    </tr>\n",
       "  </tbody>\n",
       "</table>\n",
       "</div>"
      ],
      "text/plain": [
       "   YEAR  MONTH  DEP_DOW                   AIRLINE  DEP_T  DEP  DEP_LAT  \\\n",
       "0  2002      6        1  Delta Air Lines Inc.: DL   1030  ATL    33.63   \n",
       "1  2002      6        2  Delta Air Lines Inc.: DL   1425  ATL    33.63   \n",
       "2  2002      6        2  Delta Air Lines Inc.: DL   1150  ATL    33.63   \n",
       "\n",
       "   DEP_LON  MEAN_TEMP_DEP  MEAN_VIS_DEP  WND_SPD_DEP  ARR_DELAY  ARR  ARR_LAT  \\\n",
       "0   -84.42           74.5           6.9          9.8        7.0  RDU    35.87   \n",
       "1   -84.42           74.6          10.0          6.1      -12.0  CAE    33.93   \n",
       "2   -84.42           73.1           9.9          6.2       37.0  DFW    32.89   \n",
       "\n",
       "   ARR_LON  MEAN_TEMP_ARR  MEAN_VIS_ARR  WND_SPD_ARR  \n",
       "0   -78.78           78.6           9.0          4.6  \n",
       "1   -81.11           75.7           9.9          2.9  \n",
       "2   -97.03           75.8           9.9          3.3  "
      ]
     },
     "execution_count": 32,
     "metadata": {},
     "output_type": "execute_result"
    }
   ],
   "source": [
    "res = exec_pipeline(tiny_query, select_cols, SELECTED_COLUMNS, write_header=True)\n",
    "res[:3]"
   ]
  },
  {
   "cell_type": "markdown",
   "metadata": {},
   "source": [
    "---\n",
    "#### Step 3: Scaling floats"
   ]
  },
  {
   "cell_type": "code",
   "execution_count": 33,
   "metadata": {},
   "outputs": [],
   "source": [
    "def scale_floats(row):\n",
    "    for c in ['MEAN_TEMP_DEP', 'MEAN_VIS_DEP', 'WND_SPD_DEP', 'MEAN_TEMP_ARR', 'MEAN_VIS_ARR', 'WND_SPD_ARR']:\n",
    "        row[c] = tft.scale_to_0_1(row[c])\n",
    "    return row"
   ]
  },
  {
   "cell_type": "code",
   "execution_count": 34,
   "metadata": {},
   "outputs": [],
   "source": [
    "def pre_processor(row):\n",
    "    row = row.copy()\n",
    "    row = select_cols(row)\n",
    "    row = scale_floats(row)\n",
    "    return row"
   ]
  },
  {
   "cell_type": "code",
   "execution_count": 36,
   "metadata": {},
   "outputs": [
    {
     "name": "stderr",
     "output_type": "stream",
     "text": [
      "WARNING:root:Dataset going-tfx:temp_dataset_51acf821dba04fe1a21c5957739e7c79 does not exist so we will create it as temporary with location=US\n",
      "WARNING:root:Deleting 1 existing files in target path matching: -*-of-%(num_shards)05d\n"
     ]
    },
    {
     "data": {
      "text/html": [
       "<div>\n",
       "<style scoped>\n",
       "    .dataframe tbody tr th:only-of-type {\n",
       "        vertical-align: middle;\n",
       "    }\n",
       "\n",
       "    .dataframe tbody tr th {\n",
       "        vertical-align: top;\n",
       "    }\n",
       "\n",
       "    .dataframe thead th {\n",
       "        text-align: right;\n",
       "    }\n",
       "</style>\n",
       "<table border=\"1\" class=\"dataframe\">\n",
       "  <thead>\n",
       "    <tr style=\"text-align: right;\">\n",
       "      <th></th>\n",
       "      <th>YEAR</th>\n",
       "      <th>MONTH</th>\n",
       "      <th>DEP_DOW</th>\n",
       "      <th>AIRLINE</th>\n",
       "      <th>DEP_T</th>\n",
       "      <th>DEP</th>\n",
       "      <th>DEP_LAT</th>\n",
       "      <th>DEP_LON</th>\n",
       "      <th>MEAN_TEMP_DEP</th>\n",
       "      <th>MEAN_VIS_DEP</th>\n",
       "      <th>WND_SPD_DEP</th>\n",
       "      <th>ARR_DELAY</th>\n",
       "      <th>ARR</th>\n",
       "      <th>ARR_LAT</th>\n",
       "      <th>ARR_LON</th>\n",
       "      <th>MEAN_TEMP_ARR</th>\n",
       "      <th>MEAN_VIS_ARR</th>\n",
       "      <th>WND_SPD_ARR</th>\n",
       "    </tr>\n",
       "  </thead>\n",
       "  <tbody>\n",
       "    <tr>\n",
       "      <th>0</th>\n",
       "      <td>2004</td>\n",
       "      <td>6</td>\n",
       "      <td>2</td>\n",
       "      <td>Delta Air Lines Inc.: DL</td>\n",
       "      <td>842</td>\n",
       "      <td>ATL</td>\n",
       "      <td>33.63</td>\n",
       "      <td>-84.42</td>\n",
       "      <td>0.33125</td>\n",
       "      <td>0.000</td>\n",
       "      <td>0.0750</td>\n",
       "      <td>16.0</td>\n",
       "      <td>SAV</td>\n",
       "      <td>32.12</td>\n",
       "      <td>-81.20</td>\n",
       "      <td>0.507495</td>\n",
       "      <td>0.96</td>\n",
       "      <td>0.222973</td>\n",
       "    </tr>\n",
       "    <tr>\n",
       "      <th>1</th>\n",
       "      <td>2006</td>\n",
       "      <td>6</td>\n",
       "      <td>3</td>\n",
       "      <td>Delta Air Lines Inc.: DL</td>\n",
       "      <td>2130</td>\n",
       "      <td>ATL</td>\n",
       "      <td>33.63</td>\n",
       "      <td>-84.42</td>\n",
       "      <td>0.21250</td>\n",
       "      <td>0.125</td>\n",
       "      <td>0.3125</td>\n",
       "      <td>45.0</td>\n",
       "      <td>PVD</td>\n",
       "      <td>41.72</td>\n",
       "      <td>-71.42</td>\n",
       "      <td>0.406852</td>\n",
       "      <td>1.00</td>\n",
       "      <td>0.520270</td>\n",
       "    </tr>\n",
       "    <tr>\n",
       "      <th>2</th>\n",
       "      <td>2005</td>\n",
       "      <td>6</td>\n",
       "      <td>4</td>\n",
       "      <td>America West Airlines Inc.: HP (Merged with US...</td>\n",
       "      <td>805</td>\n",
       "      <td>ATL</td>\n",
       "      <td>33.63</td>\n",
       "      <td>-84.42</td>\n",
       "      <td>0.23125</td>\n",
       "      <td>0.500</td>\n",
       "      <td>0.2875</td>\n",
       "      <td>-25.0</td>\n",
       "      <td>PHX</td>\n",
       "      <td>33.43</td>\n",
       "      <td>-112.01</td>\n",
       "      <td>1.000000</td>\n",
       "      <td>1.00</td>\n",
       "      <td>0.412162</td>\n",
       "    </tr>\n",
       "  </tbody>\n",
       "</table>\n",
       "</div>"
      ],
      "text/plain": [
       "   YEAR  MONTH  DEP_DOW                                            AIRLINE  \\\n",
       "0  2004      6        2                           Delta Air Lines Inc.: DL   \n",
       "1  2006      6        3                           Delta Air Lines Inc.: DL   \n",
       "2  2005      6        4  America West Airlines Inc.: HP (Merged with US...   \n",
       "\n",
       "   DEP_T  DEP  DEP_LAT  DEP_LON  MEAN_TEMP_DEP  MEAN_VIS_DEP  WND_SPD_DEP  \\\n",
       "0    842  ATL    33.63   -84.42        0.33125         0.000       0.0750   \n",
       "1   2130  ATL    33.63   -84.42        0.21250         0.125       0.3125   \n",
       "2    805  ATL    33.63   -84.42        0.23125         0.500       0.2875   \n",
       "\n",
       "   ARR_DELAY  ARR  ARR_LAT  ARR_LON  MEAN_TEMP_ARR  MEAN_VIS_ARR  WND_SPD_ARR  \n",
       "0       16.0  SAV    32.12   -81.20       0.507495          0.96     0.222973  \n",
       "1       45.0  PVD    41.72   -71.42       0.406852          1.00     0.520270  \n",
       "2      -25.0  PHX    33.43  -112.01       1.000000          1.00     0.412162  "
      ]
     },
     "execution_count": 36,
     "metadata": {},
     "output_type": "execute_result"
    }
   ],
   "source": [
    "res = exec_pipeline(tiny_query, pre_processor, SELECTED_COLUMNS, write_header=True)\n",
    "res[:3]"
   ]
  },
  {
   "cell_type": "markdown",
   "metadata": {},
   "source": [
    "---\n",
    "# Create the big files\n",
    "Creating the files for training and evaluation"
   ]
  },
  {
   "cell_type": "code",
   "execution_count": 37,
   "metadata": {},
   "outputs": [
    {
     "name": "stdout",
     "output_type": "stream",
     "text": [
      "tensorflow-transform"
     ]
    }
   ],
   "source": [
    "!cat dataflow_requirements.txt"
   ]
  },
  {
   "cell_type": "code",
   "execution_count": 43,
   "metadata": {},
   "outputs": [],
   "source": [
    "def exec_pipeline_prod (preprocessing_fn, output_columns, fractions, sample_rate, runner='DirectRunner', write_header=False):\n",
    "    \n",
    "    header=\",\".join(output_columns) if write_header else None\n",
    "    \n",
    "    tmpdir='gs://{}/tmp'.format(BUCKET)\n",
    "    proddir='gs://{}/prod'.format(BUCKET)\n",
    "\n",
    "    job_name = 'tft-tutorial' + '-' + datetime.datetime.now().strftime('%y%m%d-%H%M%S')    \n",
    "\n",
    "    options = {\n",
    "        'staging_location': tmpdir,\n",
    "        'temp_location': tmpdir,\n",
    "        'job_name': job_name,\n",
    "        'project': PROJECT,\n",
    "        'max_num_workers': 24,\n",
    "        'teardown_policy': 'TEARDOWN_ALWAYS',\n",
    "        'no_save_main_session': True,\n",
    "        'requirements_file': 'dataflow_requirements.txt'\n",
    "    }\n",
    "    opts = beam.pipeline.PipelineOptions(flags=[], **options)\n",
    "    \n",
    "    with beam.Pipeline(runner, options=opts) as p:\n",
    "        with beam_impl.Context(temp_dir=tmpdir):\n",
    "            \n",
    "            queries = sample_queries(fractions, sample_rate)\n",
    "\n",
    "            #   Read training data from Big Query\n",
    "            #\n",
    "            raw_data = p | \"ReadFromBigQuery_train\"  >> beam.io.Read(beam.io.BigQuerySource(query=queries['train'], use_standard_sql=True)) \n",
    "            raw_dataset = (raw_data, raw_data_metadata)\n",
    "\n",
    "            \n",
    "            #   Analyze and transform by calling a single function that has all the tft.transforms in it\n",
    "            #\n",
    "            t_dataset, transform_fn = (raw_dataset \n",
    "                                       | \"AnalyzeAndTransform\" >> beam_impl.AnalyzeAndTransformDataset(preprocessing_fn))\n",
    "            t_data, t_metadata = t_dataset\n",
    "            \n",
    "            \n",
    "            # Encode back to CSV file(s)\n",
    "            #\n",
    "            train_prefix = os.path.join(proddir, 'atl_june_train')\n",
    "            csv_encode = tft.coders.CsvCoder(output_columns, t_metadata.schema).encode    \n",
    "            res = (t_data \n",
    "                   | \"EncodeTraining\" >> beam.Map(csv_encode)\n",
    "                   | \"WriteTraining\" >> beam.io.WriteToText(file_path_prefix=train_prefix, header=header))\n",
    "\n",
    "\n",
    "            #   Read eval data from Big Query\n",
    "            #\n",
    "            raw_data = p | \"ReadFromBigQuery_eval\"  >> beam.io.Read(beam.io.BigQuerySource(query=queries['eval'], use_standard_sql=True)) \n",
    "            raw_dataset = (raw_data, raw_data_metadata)\n",
    "\n",
    "            \n",
    "            #   Transform the eval dataset with the transform function derived above\n",
    "            #\n",
    "            t_dataset = ((raw_dataset, transform_fn) \n",
    "                         | \"TransformEval\" >> beam_impl.TransformDataset())\n",
    "            t_data, _ = t_dataset\n",
    "            \n",
    "            \n",
    "            # Encode back to CSV file(s)\n",
    "            #\n",
    "            eval_prefix = os.path.join(proddir, 'atl_june_eval')\n",
    "            csv_encode = tft.coders.CsvCoder(output_columns, t_metadata.schema).encode    \n",
    "            res = (t_data \n",
    "                   | \"EncodeEval\" >> beam.Map(csv_encode)\n",
    "                   | \"WriteEval\" >> beam.io.WriteToText(file_path_prefix=eval_prefix, header=header))\n",
    "\n",
    "            \n",
    "            # save transformation function to disk for use at serving time\n",
    "            #\n",
    "            transform_fn | 'WriteTransformFn' >> transform_fn_io.WriteTransformFn(\n",
    "                os.path.join(proddir, 'metadata'))\n",
    "            "
   ]
  },
  {
   "cell_type": "code",
   "execution_count": 44,
   "metadata": {},
   "outputs": [
    {
     "name": "stdout",
     "output_type": "stream",
     "text": [
      "dataflow-requirements-cache  tmpb1cKdO\ttmpFZwfeZ  tmpMXQtcR  tmpuTssa9\n",
      "prod\t\t\t     tmpCG3lqI\ttmpHwbyq3  tmpNTwuRG  tmpxDPw8B\n",
      "tmp4TS4t5\t\t     tmpCQJByy\ttmpkpwwCT  tmp_sbnfQ\n"
     ]
    }
   ],
   "source": [
    "!rm -f /tmp/*_june*\n",
    "!ls /tmp"
   ]
  },
  {
   "cell_type": "code",
   "execution_count": 45,
   "metadata": {},
   "outputs": [
    {
     "name": "stdout",
     "output_type": "stream",
     "text": [
      "CommandException: One or more URLs matched no objects.\n"
     ]
    }
   ],
   "source": [
    "!gsutil ls gs://going-tfx/prod"
   ]
  },
  {
   "cell_type": "code",
   "execution_count": 46,
   "metadata": {},
   "outputs": [
    {
     "name": "stdout",
     "output_type": "stream",
     "text": [
      "CommandException: 1 files/objects could not be removed.\n"
     ]
    }
   ],
   "source": [
    "!gsutil -m rm -rf gs://going-tfx/prod\n",
    "_ = !gsutil -m rm -rf gs://going-tfx/tmp/"
   ]
  },
  {
   "cell_type": "markdown",
   "metadata": {},
   "source": [
    "#### This takes about two minutes. Be patient."
   ]
  },
  {
   "cell_type": "code",
   "execution_count": 30,
   "metadata": {},
   "outputs": [
    {
     "name": "stderr",
     "output_type": "stream",
     "text": [
      "WARNING:root:Dataset going-tfx:temp_dataset_c831b2cf229148b18ba6c6420622099d does not exist so we will create it as temporary with location=US\n",
      "WARNING:root:Dataset going-tfx:temp_dataset_64dd109512194d1fa8053d45f00440e0 does not exist so we will create it as temporary with location=US\n"
     ]
    }
   ],
   "source": [
    "exec_pipeline_prod (preprocessing_fn=pre_processor, output_columns=SELECTED_COLUMNS, fractions=[80, 10, 10], sample_rate=0.1)"
   ]
  },
  {
   "cell_type": "markdown",
   "metadata": {},
   "source": [
    "---\n",
    "#### This executes in dataflow and takes some 12 - 20 minutes\n",
    "But if you watch the graph in the dataflow console, you see that the job lives until the VM is shutdown. The files may be available a bit earlier."
   ]
  },
  {
   "cell_type": "code",
   "execution_count": 47,
   "metadata": {},
   "outputs": [],
   "source": [
    "exec_pipeline_prod (preprocessing_fn=pre_processor, output_columns=SELECTED_COLUMNS, fractions=[80, 10, 10], sample_rate=1.0, runner = 'DataflowRunner')"
   ]
  },
  {
   "cell_type": "code",
   "execution_count": 48,
   "metadata": {},
   "outputs": [
    {
     "name": "stdout",
     "output_type": "stream",
     "text": [
      "gs://going-tfx/prod/\n",
      "gs://going-tfx/prod/atl_june_eval-00000-of-00002\n",
      "gs://going-tfx/prod/atl_june_eval-00001-of-00002\n",
      "gs://going-tfx/prod/atl_june_train-00000-of-00005\n",
      "gs://going-tfx/prod/atl_june_train-00001-of-00005\n",
      "gs://going-tfx/prod/atl_june_train-00002-of-00005\n",
      "gs://going-tfx/prod/atl_june_train-00003-of-00005\n",
      "gs://going-tfx/prod/atl_june_train-00004-of-00005\n",
      "\n",
      "gs://going-tfx/prod/metadata/:\n",
      "gs://going-tfx/prod/metadata/\n",
      "gs://going-tfx/prod/metadata/transform_fn/\n",
      "gs://going-tfx/prod/metadata/transformed_metadata/\n"
     ]
    }
   ],
   "source": [
    "!gsutil ls gs://going-tfx/prod/*"
   ]
  },
  {
   "cell_type": "markdown",
   "metadata": {},
   "source": [
    "---\n",
    "#### Copy the files into local directory "
   ]
  },
  {
   "cell_type": "code",
   "execution_count": 49,
   "metadata": {},
   "outputs": [
    {
     "name": "stdout",
     "output_type": "stream",
     "text": [
      "mkdir: cannot create directory ‘/tmp/prod’: File exists\n"
     ]
    }
   ],
   "source": [
    "mkdir /tmp/prod"
   ]
  },
  {
   "cell_type": "code",
   "execution_count": 50,
   "metadata": {},
   "outputs": [
    {
     "name": "stdout",
     "output_type": "stream",
     "text": [
      "Copying gs://going-tfx/prod/atl_june_eval-00001-of-00002...\n",
      "Copying gs://going-tfx/prod/atl_june_eval-00000-of-00002...\n",
      "/ [2/2 files][  4.1 MiB/  4.1 MiB] 100% Done                                    \n",
      "Operation completed over 2 objects/4.1 MiB.                                      \n"
     ]
    }
   ],
   "source": [
    "!gsutil -m cp gs://going-tfx/prod/atl_june_eval* /tmp/prod/\n",
    "_ = !gsutil -m cp gs://going-tfx/prod/atl_june_train* /tmp/prod/"
   ]
  },
  {
   "cell_type": "markdown",
   "metadata": {},
   "source": [
    "---\n",
    "#### Have a look at the result"
   ]
  },
  {
   "cell_type": "code",
   "execution_count": 54,
   "metadata": {},
   "outputs": [],
   "source": [
    "ALL_COLUMNS = [\n",
    "    'YEAR', 'MONTH', 'DEP_DOW', 'AIRLINE', \n",
    "    'DEP_T', 'DEP', 'DEP_LAT', 'DEP_LON', \n",
    "    'MEAN_TEMP_DEP', 'MEAN_VIS_DEP', 'WND_SPD_DEP', \n",
    "    'ARR_DELAY', 'ARR', 'ARR_LAT', 'ARR_LON', \n",
    "    'MEAN_TEMP_ARR', 'MEAN_VIS_ARR', 'WND_SPD_ARR']"
   ]
  },
  {
   "cell_type": "code",
   "execution_count": 51,
   "metadata": {},
   "outputs": [
    {
     "name": "stdout",
     "output_type": "stream",
     "text": [
      "29801 /tmp/prod/atl_june_train-00001-of-00005\n"
     ]
    }
   ],
   "source": [
    "a_training_file = !ls /tmp/prod/atl_june_train-00001-of-*\n",
    "a_training_file = a_training_file[0]\n",
    "!wc -l $a_training_file"
   ]
  },
  {
   "cell_type": "code",
   "execution_count": 55,
   "metadata": {},
   "outputs": [],
   "source": [
    "t1 = pd.read_csv(a_training_file, names=ALL_COLUMNS)"
   ]
  },
  {
   "cell_type": "code",
   "execution_count": 56,
   "metadata": {},
   "outputs": [
    {
     "data": {
      "text/html": [
       "<div>\n",
       "<style scoped>\n",
       "    .dataframe tbody tr th:only-of-type {\n",
       "        vertical-align: middle;\n",
       "    }\n",
       "\n",
       "    .dataframe tbody tr th {\n",
       "        vertical-align: top;\n",
       "    }\n",
       "\n",
       "    .dataframe thead th {\n",
       "        text-align: right;\n",
       "    }\n",
       "</style>\n",
       "<table border=\"1\" class=\"dataframe\">\n",
       "  <thead>\n",
       "    <tr style=\"text-align: right;\">\n",
       "      <th></th>\n",
       "      <th>YEAR</th>\n",
       "      <th>MONTH</th>\n",
       "      <th>DEP_DOW</th>\n",
       "      <th>DEP_T</th>\n",
       "      <th>DEP_LAT</th>\n",
       "      <th>DEP_LON</th>\n",
       "      <th>MEAN_TEMP_DEP</th>\n",
       "      <th>MEAN_VIS_DEP</th>\n",
       "      <th>WND_SPD_DEP</th>\n",
       "      <th>ARR_DELAY</th>\n",
       "      <th>ARR_LAT</th>\n",
       "      <th>ARR_LON</th>\n",
       "      <th>MEAN_TEMP_ARR</th>\n",
       "      <th>MEAN_VIS_ARR</th>\n",
       "      <th>WND_SPD_ARR</th>\n",
       "    </tr>\n",
       "  </thead>\n",
       "  <tbody>\n",
       "    <tr>\n",
       "      <th>count</th>\n",
       "      <td>29801.000000</td>\n",
       "      <td>29801.0</td>\n",
       "      <td>29801.000000</td>\n",
       "      <td>29801.000000</td>\n",
       "      <td>29801.00</td>\n",
       "      <td>29801.00</td>\n",
       "      <td>29801.000000</td>\n",
       "      <td>29801.000000</td>\n",
       "      <td>29801.000000</td>\n",
       "      <td>29801.000000</td>\n",
       "      <td>29801.000000</td>\n",
       "      <td>29801.000000</td>\n",
       "      <td>29801.000000</td>\n",
       "      <td>29801.000000</td>\n",
       "      <td>29801.000000</td>\n",
       "    </tr>\n",
       "    <tr>\n",
       "      <th>mean</th>\n",
       "      <td>2007.119962</td>\n",
       "      <td>6.0</td>\n",
       "      <td>3.955740</td>\n",
       "      <td>1466.346767</td>\n",
       "      <td>33.63</td>\n",
       "      <td>-84.42</td>\n",
       "      <td>0.636172</td>\n",
       "      <td>0.855615</td>\n",
       "      <td>0.355867</td>\n",
       "      <td>12.971276</td>\n",
       "      <td>36.015935</td>\n",
       "      <td>-95.366662</td>\n",
       "      <td>0.547756</td>\n",
       "      <td>0.008777</td>\n",
       "      <td>0.006683</td>\n",
       "    </tr>\n",
       "    <tr>\n",
       "      <th>std</th>\n",
       "      <td>2.656701</td>\n",
       "      <td>0.0</td>\n",
       "      <td>1.974099</td>\n",
       "      <td>459.790567</td>\n",
       "      <td>0.00</td>\n",
       "      <td>0.00</td>\n",
       "      <td>0.183590</td>\n",
       "      <td>0.179274</td>\n",
       "      <td>0.140529</td>\n",
       "      <td>36.297191</td>\n",
       "      <td>5.352652</td>\n",
       "      <td>16.996090</td>\n",
       "      <td>0.138877</td>\n",
       "      <td>0.005830</td>\n",
       "      <td>0.002888</td>\n",
       "    </tr>\n",
       "    <tr>\n",
       "      <th>min</th>\n",
       "      <td>2002.000000</td>\n",
       "      <td>6.0</td>\n",
       "      <td>1.000000</td>\n",
       "      <td>655.000000</td>\n",
       "      <td>33.63</td>\n",
       "      <td>-84.42</td>\n",
       "      <td>0.000000</td>\n",
       "      <td>0.000000</td>\n",
       "      <td>0.000000</td>\n",
       "      <td>-50.000000</td>\n",
       "      <td>26.530000</td>\n",
       "      <td>-122.370000</td>\n",
       "      <td>0.141287</td>\n",
       "      <td>0.002702</td>\n",
       "      <td>0.000300</td>\n",
       "    </tr>\n",
       "    <tr>\n",
       "      <th>25%</th>\n",
       "      <td>2005.000000</td>\n",
       "      <td>6.0</td>\n",
       "      <td>2.000000</td>\n",
       "      <td>1028.000000</td>\n",
       "      <td>33.63</td>\n",
       "      <td>-84.42</td>\n",
       "      <td>0.504202</td>\n",
       "      <td>0.765625</td>\n",
       "      <td>0.255814</td>\n",
       "      <td>-7.000000</td>\n",
       "      <td>32.120000</td>\n",
       "      <td>-111.970000</td>\n",
       "      <td>0.433281</td>\n",
       "      <td>0.008506</td>\n",
       "      <td>0.004800</td>\n",
       "    </tr>\n",
       "    <tr>\n",
       "      <th>50%</th>\n",
       "      <td>2007.000000</td>\n",
       "      <td>6.0</td>\n",
       "      <td>4.000000</td>\n",
       "      <td>1455.000000</td>\n",
       "      <td>33.63</td>\n",
       "      <td>-84.42</td>\n",
       "      <td>0.634454</td>\n",
       "      <td>0.921875</td>\n",
       "      <td>0.348837</td>\n",
       "      <td>3.000000</td>\n",
       "      <td>37.500000</td>\n",
       "      <td>-90.370000</td>\n",
       "      <td>0.585557</td>\n",
       "      <td>0.009206</td>\n",
       "      <td>0.006101</td>\n",
       "    </tr>\n",
       "    <tr>\n",
       "      <th>75%</th>\n",
       "      <td>2009.000000</td>\n",
       "      <td>6.0</td>\n",
       "      <td>6.000000</td>\n",
       "      <td>1854.000000</td>\n",
       "      <td>33.63</td>\n",
       "      <td>-84.42</td>\n",
       "      <td>0.773109</td>\n",
       "      <td>0.984375</td>\n",
       "      <td>0.434109</td>\n",
       "      <td>18.000000</td>\n",
       "      <td>38.740000</td>\n",
       "      <td>-81.200000</td>\n",
       "      <td>0.660911</td>\n",
       "      <td>0.009407</td>\n",
       "      <td>0.008001</td>\n",
       "    </tr>\n",
       "    <tr>\n",
       "      <th>max</th>\n",
       "      <td>2011.000000</td>\n",
       "      <td>6.0</td>\n",
       "      <td>7.000000</td>\n",
       "      <td>2331.000000</td>\n",
       "      <td>33.63</td>\n",
       "      <td>-84.42</td>\n",
       "      <td>1.000000</td>\n",
       "      <td>1.000000</td>\n",
       "      <td>1.000000</td>\n",
       "      <td>593.000000</td>\n",
       "      <td>47.450000</td>\n",
       "      <td>-77.310000</td>\n",
       "      <td>0.822606</td>\n",
       "      <td>1.000000</td>\n",
       "      <td>0.024102</td>\n",
       "    </tr>\n",
       "  </tbody>\n",
       "</table>\n",
       "</div>"
      ],
      "text/plain": [
       "               YEAR    MONTH       DEP_DOW         DEP_T   DEP_LAT   DEP_LON  \\\n",
       "count  29801.000000  29801.0  29801.000000  29801.000000  29801.00  29801.00   \n",
       "mean    2007.119962      6.0      3.955740   1466.346767     33.63    -84.42   \n",
       "std        2.656701      0.0      1.974099    459.790567      0.00      0.00   \n",
       "min     2002.000000      6.0      1.000000    655.000000     33.63    -84.42   \n",
       "25%     2005.000000      6.0      2.000000   1028.000000     33.63    -84.42   \n",
       "50%     2007.000000      6.0      4.000000   1455.000000     33.63    -84.42   \n",
       "75%     2009.000000      6.0      6.000000   1854.000000     33.63    -84.42   \n",
       "max     2011.000000      6.0      7.000000   2331.000000     33.63    -84.42   \n",
       "\n",
       "       MEAN_TEMP_DEP  MEAN_VIS_DEP   WND_SPD_DEP     ARR_DELAY       ARR_LAT  \\\n",
       "count   29801.000000  29801.000000  29801.000000  29801.000000  29801.000000   \n",
       "mean        0.636172      0.855615      0.355867     12.971276     36.015935   \n",
       "std         0.183590      0.179274      0.140529     36.297191      5.352652   \n",
       "min         0.000000      0.000000      0.000000    -50.000000     26.530000   \n",
       "25%         0.504202      0.765625      0.255814     -7.000000     32.120000   \n",
       "50%         0.634454      0.921875      0.348837      3.000000     37.500000   \n",
       "75%         0.773109      0.984375      0.434109     18.000000     38.740000   \n",
       "max         1.000000      1.000000      1.000000    593.000000     47.450000   \n",
       "\n",
       "            ARR_LON  MEAN_TEMP_ARR  MEAN_VIS_ARR   WND_SPD_ARR  \n",
       "count  29801.000000   29801.000000  29801.000000  29801.000000  \n",
       "mean     -95.366662       0.547756      0.008777      0.006683  \n",
       "std       16.996090       0.138877      0.005830      0.002888  \n",
       "min     -122.370000       0.141287      0.002702      0.000300  \n",
       "25%     -111.970000       0.433281      0.008506      0.004800  \n",
       "50%      -90.370000       0.585557      0.009206      0.006101  \n",
       "75%      -81.200000       0.660911      0.009407      0.008001  \n",
       "max      -77.310000       0.822606      1.000000      0.024102  "
      ]
     },
     "execution_count": 56,
     "metadata": {},
     "output_type": "execute_result"
    }
   ],
   "source": [
    "t1.describe()"
   ]
  },
  {
   "cell_type": "code",
   "execution_count": null,
   "metadata": {},
   "outputs": [],
   "source": []
  }
 ],
 "metadata": {
  "kernelspec": {
   "display_name": "Python 2",
   "language": "python",
   "name": "python2"
  },
  "language_info": {
   "codemirror_mode": {
    "name": "ipython",
    "version": 2
   },
   "file_extension": ".py",
   "mimetype": "text/x-python",
   "name": "python",
   "nbconvert_exporter": "python",
   "pygments_lexer": "ipython2",
   "version": "2.7.13"
  }
 },
 "nbformat": 4,
 "nbformat_minor": 2
}
