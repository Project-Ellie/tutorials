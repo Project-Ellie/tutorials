{
 "cells": [
  {
   "cell_type": "code",
   "execution_count": 1,
   "metadata": {},
   "outputs": [
    {
     "name": "stderr",
     "output_type": "stream",
     "text": [
      "/usr/lib/python2.7/dist-packages/h5py/__init__.py:34: FutureWarning: Conversion of the second argument of issubdtype from `float` to `np.floating` is deprecated. In future, it will be treated as `np.float64 == np.dtype(float).type`.\n",
      "  from ._conv import register_converters as _register_converters\n",
      "/home/jupyter/.local/lib/python2.7/site-packages/scipy/optimize/_trlib/__init__.py:1: RuntimeWarning: numpy.dtype size changed, may indicate binary incompatibility. Expected 96, got 88\n",
      "  from ._trlib import TRLIBQuadraticSubproblem\n",
      "/home/jupyter/.local/lib/python2.7/site-packages/scipy/optimize/_numdiff.py:10: RuntimeWarning: numpy.dtype size changed, may indicate binary incompatibility. Expected 96, got 88\n",
      "  from ._group_columns import group_dense, group_sparse\n",
      "/home/jupyter/.local/lib/python2.7/site-packages/scipy/optimize/_minimize.py:37: ImportWarning: Not importing directory '/home/jupyter/.local/lib/python2.7/site-packages/scipy/optimize/lbfgsb': missing __init__.py\n",
      "  from .lbfgsb import _minimize_lbfgsb\n",
      "/home/jupyter/.local/lib/python2.7/site-packages/scipy/stats/_continuous_distns.py:18: RuntimeWarning: numpy.dtype size changed, may indicate binary incompatibility. Expected 96, got 88\n",
      "  from . import _stats\n"
     ]
    }
   ],
   "source": [
    "from __future__ import print_function\n",
    "\n",
    "import tensorflow as tf\n",
    "import pandas as pd\n",
    "import matplotlib.pyplot as plt\n",
    "import numpy as np\n",
    "import apache_beam as beam\n",
    "import tensorflow_transform as tft"
   ]
  },
  {
   "cell_type": "code",
   "execution_count": 2,
   "metadata": {},
   "outputs": [
    {
     "name": "stderr",
     "output_type": "stream",
     "text": [
      "/usr/local/lib/python2.7/dist-packages/ipykernel_launcher.py:1: FutureWarning: from_csv is deprecated. Please use read_csv(...) instead. Note that some of the default arguments are different, so please refer to the documentation for from_csv when changing your function calls\n",
      "  \"\"\"Entry point for launching an IPython kernel.\n"
     ]
    }
   ],
   "source": [
    "df = pd.DataFrame.from_csv(\"atl_june.csv\")"
   ]
  },
  {
   "cell_type": "code",
   "execution_count": 3,
   "metadata": {},
   "outputs": [
    {
     "data": {
      "text/html": [
       "<div>\n",
       "<style scoped>\n",
       "    .dataframe tbody tr th:only-of-type {\n",
       "        vertical-align: middle;\n",
       "    }\n",
       "\n",
       "    .dataframe tbody tr th {\n",
       "        vertical-align: top;\n",
       "    }\n",
       "\n",
       "    .dataframe thead th {\n",
       "        text-align: right;\n",
       "    }\n",
       "</style>\n",
       "<table border=\"1\" class=\"dataframe\">\n",
       "  <thead>\n",
       "    <tr style=\"text-align: right;\">\n",
       "      <th></th>\n",
       "      <th>FL_YEAR</th>\n",
       "      <th>FL_MONTH</th>\n",
       "      <th>FL_DOM</th>\n",
       "      <th>FL_DOW</th>\n",
       "      <th>FL_NUM</th>\n",
       "      <th>ORIGIN_AIRPORT_SEQ_ID</th>\n",
       "      <th>DEST_AIRPORT_SEQ_ID</th>\n",
       "      <th>CRS_DEP_TIME</th>\n",
       "      <th>DEP_DELAY</th>\n",
       "      <th>TAXI_OUT</th>\n",
       "      <th>WHEELS_OFF</th>\n",
       "      <th>WHEELS_ON</th>\n",
       "      <th>TAXI_IN</th>\n",
       "      <th>CRS_ARR_TIME</th>\n",
       "      <th>ARR_DELAY</th>\n",
       "      <th>CANCELLED</th>\n",
       "      <th>CANCELLATION_CODE</th>\n",
       "      <th>DIVERTED</th>\n",
       "      <th>DISTANCE</th>\n",
       "    </tr>\n",
       "  </thead>\n",
       "  <tbody>\n",
       "    <tr>\n",
       "      <th>count</th>\n",
       "      <td>403358.000000</td>\n",
       "      <td>403358.0</td>\n",
       "      <td>403358.000000</td>\n",
       "      <td>403358.000000</td>\n",
       "      <td>403358.000000</td>\n",
       "      <td>4.033580e+05</td>\n",
       "      <td>4.033580e+05</td>\n",
       "      <td>403358.000000</td>\n",
       "      <td>403358.000000</td>\n",
       "      <td>403358.000000</td>\n",
       "      <td>403358.000000</td>\n",
       "      <td>403358.000000</td>\n",
       "      <td>403358.000000</td>\n",
       "      <td>403358.000000</td>\n",
       "      <td>403358.000000</td>\n",
       "      <td>403358.0</td>\n",
       "      <td>0.0</td>\n",
       "      <td>403358.0</td>\n",
       "      <td>403358.000000</td>\n",
       "    </tr>\n",
       "    <tr>\n",
       "      <th>mean</th>\n",
       "      <td>2011.395998</td>\n",
       "      <td>6.0</td>\n",
       "      <td>15.575033</td>\n",
       "      <td>3.958536</td>\n",
       "      <td>2324.654210</td>\n",
       "      <td>1.039704e+06</td>\n",
       "      <td>1.278804e+06</td>\n",
       "      <td>1460.046948</td>\n",
       "      <td>15.029393</td>\n",
       "      <td>20.590726</td>\n",
       "      <td>1487.350684</td>\n",
       "      <td>1514.163475</td>\n",
       "      <td>6.049626</td>\n",
       "      <td>1552.945956</td>\n",
       "      <td>11.898465</td>\n",
       "      <td>0.0</td>\n",
       "      <td>NaN</td>\n",
       "      <td>0.0</td>\n",
       "      <td>643.922352</td>\n",
       "    </tr>\n",
       "    <tr>\n",
       "      <th>std</th>\n",
       "      <td>3.438737</td>\n",
       "      <td>0.0</td>\n",
       "      <td>8.637871</td>\n",
       "      <td>1.968028</td>\n",
       "      <td>1826.668615</td>\n",
       "      <td>9.995802e-01</td>\n",
       "      <td>1.519290e+05</td>\n",
       "      <td>463.110599</td>\n",
       "      <td>39.325740</td>\n",
       "      <td>11.310037</td>\n",
       "      <td>498.089658</td>\n",
       "      <td>538.377473</td>\n",
       "      <td>4.550384</td>\n",
       "      <td>499.354124</td>\n",
       "      <td>42.376085</td>\n",
       "      <td>0.0</td>\n",
       "      <td>NaN</td>\n",
       "      <td>0.0</td>\n",
       "      <td>471.523150</td>\n",
       "    </tr>\n",
       "    <tr>\n",
       "      <th>min</th>\n",
       "      <td>2006.000000</td>\n",
       "      <td>6.0</td>\n",
       "      <td>1.000000</td>\n",
       "      <td>1.000000</td>\n",
       "      <td>1.000000</td>\n",
       "      <td>1.039703e+06</td>\n",
       "      <td>1.013501e+06</td>\n",
       "      <td>500.000000</td>\n",
       "      <td>-54.000000</td>\n",
       "      <td>0.000000</td>\n",
       "      <td>1.000000</td>\n",
       "      <td>1.000000</td>\n",
       "      <td>0.000000</td>\n",
       "      <td>0.000000</td>\n",
       "      <td>-61.000000</td>\n",
       "      <td>0.0</td>\n",
       "      <td>NaN</td>\n",
       "      <td>0.0</td>\n",
       "      <td>79.000000</td>\n",
       "    </tr>\n",
       "    <tr>\n",
       "      <th>25%</th>\n",
       "      <td>2008.000000</td>\n",
       "      <td>6.0</td>\n",
       "      <td>8.000000</td>\n",
       "      <td>2.000000</td>\n",
       "      <td>873.000000</td>\n",
       "      <td>1.039703e+06</td>\n",
       "      <td>1.129802e+06</td>\n",
       "      <td>1035.000000</td>\n",
       "      <td>-3.000000</td>\n",
       "      <td>14.000000</td>\n",
       "      <td>1051.000000</td>\n",
       "      <td>1128.000000</td>\n",
       "      <td>4.000000</td>\n",
       "      <td>1150.000000</td>\n",
       "      <td>-10.000000</td>\n",
       "      <td>0.0</td>\n",
       "      <td>NaN</td>\n",
       "      <td>0.0</td>\n",
       "      <td>356.000000</td>\n",
       "    </tr>\n",
       "    <tr>\n",
       "      <th>50%</th>\n",
       "      <td>2011.000000</td>\n",
       "      <td>6.0</td>\n",
       "      <td>16.000000</td>\n",
       "      <td>4.000000</td>\n",
       "      <td>1711.000000</td>\n",
       "      <td>1.039703e+06</td>\n",
       "      <td>1.294502e+06</td>\n",
       "      <td>1453.000000</td>\n",
       "      <td>0.000000</td>\n",
       "      <td>18.000000</td>\n",
       "      <td>1510.000000</td>\n",
       "      <td>1535.000000</td>\n",
       "      <td>5.000000</td>\n",
       "      <td>1557.000000</td>\n",
       "      <td>-1.000000</td>\n",
       "      <td>0.0</td>\n",
       "      <td>NaN</td>\n",
       "      <td>0.0</td>\n",
       "      <td>547.000000</td>\n",
       "    </tr>\n",
       "    <tr>\n",
       "      <th>75%</th>\n",
       "      <td>2014.000000</td>\n",
       "      <td>6.0</td>\n",
       "      <td>23.000000</td>\n",
       "      <td>6.000000</td>\n",
       "      <td>4332.000000</td>\n",
       "      <td>1.039705e+06</td>\n",
       "      <td>1.410001e+06</td>\n",
       "      <td>1856.000000</td>\n",
       "      <td>15.000000</td>\n",
       "      <td>24.000000</td>\n",
       "      <td>1925.000000</td>\n",
       "      <td>1948.000000</td>\n",
       "      <td>7.000000</td>\n",
       "      <td>1958.000000</td>\n",
       "      <td>16.000000</td>\n",
       "      <td>0.0</td>\n",
       "      <td>NaN</td>\n",
       "      <td>0.0</td>\n",
       "      <td>743.000000</td>\n",
       "    </tr>\n",
       "    <tr>\n",
       "      <th>max</th>\n",
       "      <td>2017.000000</td>\n",
       "      <td>6.0</td>\n",
       "      <td>30.000000</td>\n",
       "      <td>7.000000</td>\n",
       "      <td>7425.000000</td>\n",
       "      <td>1.039705e+06</td>\n",
       "      <td>1.591902e+06</td>\n",
       "      <td>2350.000000</td>\n",
       "      <td>1427.000000</td>\n",
       "      <td>226.000000</td>\n",
       "      <td>2400.000000</td>\n",
       "      <td>2400.000000</td>\n",
       "      <td>230.000000</td>\n",
       "      <td>2359.000000</td>\n",
       "      <td>1444.000000</td>\n",
       "      <td>0.0</td>\n",
       "      <td>NaN</td>\n",
       "      <td>0.0</td>\n",
       "      <td>4502.000000</td>\n",
       "    </tr>\n",
       "  </tbody>\n",
       "</table>\n",
       "</div>"
      ],
      "text/plain": [
       "             FL_YEAR  FL_MONTH         FL_DOM         FL_DOW         FL_NUM  \\\n",
       "count  403358.000000  403358.0  403358.000000  403358.000000  403358.000000   \n",
       "mean     2011.395998       6.0      15.575033       3.958536    2324.654210   \n",
       "std         3.438737       0.0       8.637871       1.968028    1826.668615   \n",
       "min      2006.000000       6.0       1.000000       1.000000       1.000000   \n",
       "25%      2008.000000       6.0       8.000000       2.000000     873.000000   \n",
       "50%      2011.000000       6.0      16.000000       4.000000    1711.000000   \n",
       "75%      2014.000000       6.0      23.000000       6.000000    4332.000000   \n",
       "max      2017.000000       6.0      30.000000       7.000000    7425.000000   \n",
       "\n",
       "       ORIGIN_AIRPORT_SEQ_ID  DEST_AIRPORT_SEQ_ID   CRS_DEP_TIME  \\\n",
       "count           4.033580e+05         4.033580e+05  403358.000000   \n",
       "mean            1.039704e+06         1.278804e+06    1460.046948   \n",
       "std             9.995802e-01         1.519290e+05     463.110599   \n",
       "min             1.039703e+06         1.013501e+06     500.000000   \n",
       "25%             1.039703e+06         1.129802e+06    1035.000000   \n",
       "50%             1.039703e+06         1.294502e+06    1453.000000   \n",
       "75%             1.039705e+06         1.410001e+06    1856.000000   \n",
       "max             1.039705e+06         1.591902e+06    2350.000000   \n",
       "\n",
       "           DEP_DELAY       TAXI_OUT     WHEELS_OFF      WHEELS_ON  \\\n",
       "count  403358.000000  403358.000000  403358.000000  403358.000000   \n",
       "mean       15.029393      20.590726    1487.350684    1514.163475   \n",
       "std        39.325740      11.310037     498.089658     538.377473   \n",
       "min       -54.000000       0.000000       1.000000       1.000000   \n",
       "25%        -3.000000      14.000000    1051.000000    1128.000000   \n",
       "50%         0.000000      18.000000    1510.000000    1535.000000   \n",
       "75%        15.000000      24.000000    1925.000000    1948.000000   \n",
       "max      1427.000000     226.000000    2400.000000    2400.000000   \n",
       "\n",
       "             TAXI_IN   CRS_ARR_TIME      ARR_DELAY  CANCELLED  \\\n",
       "count  403358.000000  403358.000000  403358.000000   403358.0   \n",
       "mean        6.049626    1552.945956      11.898465        0.0   \n",
       "std         4.550384     499.354124      42.376085        0.0   \n",
       "min         0.000000       0.000000     -61.000000        0.0   \n",
       "25%         4.000000    1150.000000     -10.000000        0.0   \n",
       "50%         5.000000    1557.000000      -1.000000        0.0   \n",
       "75%         7.000000    1958.000000      16.000000        0.0   \n",
       "max       230.000000    2359.000000    1444.000000        0.0   \n",
       "\n",
       "       CANCELLATION_CODE  DIVERTED       DISTANCE  \n",
       "count                0.0  403358.0  403358.000000  \n",
       "mean                 NaN       0.0     643.922352  \n",
       "std                  NaN       0.0     471.523150  \n",
       "min                  NaN       0.0      79.000000  \n",
       "25%                  NaN       0.0     356.000000  \n",
       "50%                  NaN       0.0     547.000000  \n",
       "75%                  NaN       0.0     743.000000  \n",
       "max                  NaN       0.0    4502.000000  "
      ]
     },
     "execution_count": 3,
     "metadata": {},
     "output_type": "execute_result"
    }
   ],
   "source": [
    "df.describe()"
   ]
  },
  {
   "cell_type": "code",
   "execution_count": 4,
   "metadata": {},
   "outputs": [],
   "source": [
    "df300 = df[df['ARR_DELAY'] < 300]"
   ]
  },
  {
   "cell_type": "code",
   "execution_count": 5,
   "metadata": {},
   "outputs": [
    {
     "data": {
      "text/plain": [
       "Index([u'FL_YEAR', u'FL_MONTH', u'FL_DOM', u'FL_DOW', u'UNIQUE_CARRIER',\n",
       "       u'FL_NUM', u'ORIGIN_AIRPORT_SEQ_ID', u'DEST_AIRPORT_SEQ_ID', u'ORIGIN',\n",
       "       u'DEST', u'CRS_DEP_TIME', u'DEP_DELAY', u'TAXI_OUT', u'WHEELS_OFF',\n",
       "       u'WHEELS_ON', u'TAXI_IN', u'CRS_ARR_TIME', u'ARR_DELAY', u'CANCELLED',\n",
       "       u'CANCELLATION_CODE', u'DIVERTED', u'DISTANCE'],\n",
       "      dtype='object')"
      ]
     },
     "execution_count": 5,
     "metadata": {},
     "output_type": "execute_result"
    }
   ],
   "source": [
    "df.columns"
   ]
  },
  {
   "cell_type": "code",
   "execution_count": 6,
   "metadata": {},
   "outputs": [],
   "source": [
    "frac = df300.sample(frac=0.01)"
   ]
  },
  {
   "cell_type": "code",
   "execution_count": 7,
   "metadata": {},
   "outputs": [
    {
     "data": {
      "image/png": "[encoded data removed]",
      "text/plain": [
       "<Figure size 432x288 with 1 Axes>"
      ]
     },
     "metadata": {},
     "output_type": "display_data"
    }
   ],
   "source": [
    "frac.plot.scatter(x='DEP_DELAY', y='ARR_DELAY');"
   ]
  },
  {
   "cell_type": "markdown",
   "metadata": {},
   "source": [
    "We're not surprised to see a strong correlation between departure delay and arrival delay. However, many flights are able to catch up. "
   ]
  },
  {
   "cell_type": "code",
   "execution_count": 23,
   "metadata": {},
   "outputs": [],
   "source": [
    "counts = df.groupby(['DEST']).count()"
   ]
  },
  {
   "cell_type": "code",
   "execution_count": 24,
   "metadata": {},
   "outputs": [],
   "source": [
    "counts = counts[counts['FL_YEAR'] >= 1000]"
   ]
  },
  {
   "cell_type": "code",
   "execution_count": 25,
   "metadata": {},
   "outputs": [],
   "source": [
    "dest1000s = list(counts.to_dict()['FL_YEAR'].keys())"
   ]
  },
  {
   "cell_type": "markdown",
   "metadata": {},
   "source": [
    "#### All destinations with 1000 or more arrivals from Atlanta in June"
   ]
  },
  {
   "cell_type": "code",
   "execution_count": 26,
   "metadata": {},
   "outputs": [
    {
     "data": {
      "text/plain": [
       "array(['JFK', 'GSP', 'FNT', 'ROC', 'MIA', 'BOS', 'OAJ', 'LIT', 'AGS',\n",
       "       'GSO', 'SAN', 'MYR', 'DCA', 'HSV', 'BWI', 'PIT', 'RIC', 'SAT',\n",
       "       'CHA', 'IAH', 'JAX', 'IAD', 'JAN', 'CHS', 'EYW', 'GPT', 'BNA',\n",
       "       'PHL', 'SNA', 'PHF', 'SFO', 'PHX', 'LAX', 'LAS', 'CRW', 'CMH',\n",
       "       'AEX', 'FLL', 'DEN', 'DTW', 'EVV', 'SYR', 'ROA', 'BMI', 'VLD',\n",
       "       'BUF', 'TRI', 'GRR', 'SHV', 'BDL', 'CSG', 'LEX', 'DSM', 'EWR',\n",
       "       'PBI', 'BTR', 'MGM', 'AVL', 'OKC', 'IND', 'MOB', 'TYS', 'ILM',\n",
       "       'XNA', 'LFT', 'PVD', 'SEA', 'ECP', 'SLC', 'MDW', 'MDT', 'RDU',\n",
       "       'PDX', 'CLE', 'DFW', 'SJU', 'AUS', 'SRQ', 'CLT', 'TLH', 'OMA',\n",
       "       'MEM', 'ALB', 'SAV', 'TUL', 'ORF', 'ORD', 'MKE', 'GNV', 'MSY',\n",
       "       'MSP', 'CAK', 'CVG', 'CAE', 'FAY', 'TPA', 'DAB', 'DAL', 'DAY',\n",
       "       'SGF', 'MLB', 'DHN', 'STL', 'MLI', 'ABQ', 'HOU', 'HPN', 'MLU',\n",
       "       'ABY', 'ICT', 'MCO', 'RSW', 'BHM', 'VPS', 'MCI', 'PNS', 'LGA',\n",
       "       'SDF', 'PWM'], dtype='|S3')"
      ]
     },
     "execution_count": 26,
     "metadata": {},
     "output_type": "execute_result"
    }
   ],
   "source": [
    "np.array(dest1000s)"
   ]
  },
  {
   "cell_type": "markdown",
   "metadata": {},
   "source": [
    "Creating a mask for those destinations and filter the original data frame. This will take about two minutes, so be patient."
   ]
  },
  {
   "cell_type": "code",
   "execution_count": 27,
   "metadata": {},
   "outputs": [],
   "source": [
    "f = [ df.iloc[k].to_dict()['DEST'] in dest1000s for k in range(len(df))]\n",
    "df1k=df[f]"
   ]
  },
  {
   "cell_type": "markdown",
   "metadata": {},
   "source": [
    "Now take only the ones that have less than 5 hours delay. We consider the others outliers"
   ]
  },
  {
   "cell_type": "code",
   "execution_count": 28,
   "metadata": {},
   "outputs": [],
   "source": [
    "df1k_300 = df1k[df1k['ARR_DELAY'] < 300]\n",
    "df1k_300.to_csv('atl_june_1k_300.csv')"
   ]
  },
  {
   "cell_type": "markdown",
   "metadata": {},
   "source": [
    "#### Load the dataframe from the pre-processed file"
   ]
  },
  {
   "cell_type": "code",
   "execution_count": 29,
   "metadata": {},
   "outputs": [
    {
     "name": "stderr",
     "output_type": "stream",
     "text": [
      "/usr/local/lib/python2.7/dist-packages/ipykernel_launcher.py:1: FutureWarning: from_csv is deprecated. Please use read_csv(...) instead. Note that some of the default arguments are different, so please refer to the documentation for from_csv when changing your function calls\n",
      "  \"\"\"Entry point for launching an IPython kernel.\n"
     ]
    }
   ],
   "source": [
    "df1k_300 = pd.DataFrame.from_csv('atl_june_1k_300.csv')"
   ]
  },
  {
   "cell_type": "code",
   "execution_count": 30,
   "metadata": {},
   "outputs": [
    {
     "data": {
      "text/plain": [
       "379672"
      ]
     },
     "execution_count": 30,
     "metadata": {},
     "output_type": "execute_result"
    }
   ],
   "source": [
    "len(df1k_300)"
   ]
  },
  {
   "cell_type": "code",
   "execution_count": 31,
   "metadata": {},
   "outputs": [
    {
     "data": {
      "text/plain": [
       "<matplotlib.axes._subplots.AxesSubplot at 0x7efed4427d50>"
      ]
     },
     "execution_count": 31,
     "metadata": {},
     "output_type": "execute_result"
    },
    {
     "data": {
      "image/png": "[encoded data removed]",
      "text/plain": [
       "<Figure size 432x288 with 1 Axes>"
      ]
     },
     "metadata": {},
     "output_type": "display_data"
    }
   ],
   "source": [
    "one_day = df1k_300['2007-06-15']\n",
    "one_day.plot.scatter(x='WHEELS_OFF', y='DEP_DELAY')"
   ]
  },
  {
   "cell_type": "code",
   "execution_count": 32,
   "metadata": {},
   "outputs": [
    {
     "data": {
      "text/plain": [
       "1112"
      ]
     },
     "execution_count": 32,
     "metadata": {},
     "output_type": "execute_result"
    }
   ],
   "source": [
    "len(one_day)"
   ]
  },
  {
   "cell_type": "code",
   "execution_count": 251,
   "metadata": {},
   "outputs": [
    {
     "data": {
      "text/plain": [
       "{0: 0,\n",
       " 100: 0,\n",
       " 200: 0,\n",
       " 300: 0,\n",
       " 400: 0,\n",
       " 500: 0.0,\n",
       " 600: 6.083333333333333,\n",
       " 700: 6.089285714285714,\n",
       " 800: 4.404761904761905,\n",
       " 900: 3.878787878787879,\n",
       " 1000: 8.46551724137931,\n",
       " 1100: 8.26984126984127,\n",
       " 1200: 8.98611111111111,\n",
       " 1300: 5.063492063492063,\n",
       " 1400: 12.643835616438356,\n",
       " 1500: 18.5,\n",
       " 1600: 37.8,\n",
       " 1700: 39.72839506172839,\n",
       " 1800: 38.732142857142854,\n",
       " 1900: 35.666666666666664,\n",
       " 2000: 36.75949367088607,\n",
       " 2100: 30.40740740740741,\n",
       " 2200: 26.547619047619047,\n",
       " 2300: 16.1}"
      ]
     },
     "execution_count": 251,
     "metadata": {},
     "output_type": "execute_result"
    }
   ],
   "source": [
    "hrs = np.array(range(24))*100\n",
    "res = {}\n",
    "for hr in hrs:\n",
    "    after = one_day[one_day['CRS_DEP_TIME'] >= hr]\n",
    "    between = after[after['CRS_DEP_TIME'] <= hr+59]\n",
    "    m = between['DEP_DELAY'].mean()\n",
    "    res[hr] = 0 if np.isnan(m) else m\n",
    "res"
   ]
  },
  {
   "cell_type": "markdown",
   "metadata": {},
   "source": [
    "### Tensorflow data validation\n",
    "Generating the statistics can take a couple of minutes. Be patient, ok?"
   ]
  },
  {
   "cell_type": "code",
   "execution_count": 1,
   "metadata": {},
   "outputs": [
    {
     "name": "stderr",
     "output_type": "stream",
     "text": [
      "/usr/lib/python2.7/dist-packages/h5py/__init__.py:34: FutureWarning: Conversion of the second argument of issubdtype from `float` to `np.floating` is deprecated. In future, it will be treated as `np.float64 == np.dtype(float).type`.\n",
      "  from ._conv import register_converters as _register_converters\n",
      "/home/jupyter/.local/lib/python2.7/site-packages/scipy/spatial/__init__.py:96: ImportWarning: Not importing directory '/home/jupyter/.local/lib/python2.7/site-packages/scipy/spatial/qhull': missing __init__.py\n",
      "  from .qhull import *\n",
      "/home/jupyter/.local/lib/python2.7/site-packages/scipy/optimize/_minimize.py:37: ImportWarning: Not importing directory '/home/jupyter/.local/lib/python2.7/site-packages/scipy/optimize/lbfgsb': missing __init__.py\n",
      "  from .lbfgsb import _minimize_lbfgsb\n"
     ]
    }
   ],
   "source": [
    "import tensorflow_data_validation as tfdv"
   ]
  },
  {
   "cell_type": "code",
   "execution_count": 2,
   "metadata": {},
   "outputs": [
    {
     "name": "stderr",
     "output_type": "stream",
     "text": [
      "WARNING:root:Couldn't find python-snappy so the implementation of _TFRecordUtil._masked_crc32c is not as fast as it could be.\n"
     ]
    }
   ],
   "source": [
    "stats = tfdv.generate_statistics_from_csv('atl_june.csv')"
   ]
  },
  {
   "cell_type": "code",
   "execution_count": 3,
   "metadata": {},
   "outputs": [
    {
     "data": {
      "text/html": [
       "<iframe id='facets-iframe' width=\"100%\" height=\"500px\"></iframe>\n",
       "        <script>\n",
       "        facets_iframe = document.getElementById('facets-iframe');\n",
       "        facets_html = '<link rel=\"import\" href=\"https://raw.githubusercontent.com/PAIR-code/facets/master/facets-dist/facets-jupyter.html\"><facets-overview proto-input=\"CoSDAgoObGhzX3N0YXRpc3RpY3MQns8YGrIFCghGTF9NT05USBqlBQq4AgiezxgYASABLQAAgD8ypAIaGwkAAAAAAADwPxEAAAAAAADwPyGamZmZ+bHjQBobCQAAAAAAAPA/EQAAAAAAAPA/IZqZmZn5seNAGhsJAAAAAAAA8D8RAAAAAAAA8D8hmpmZmfmx40AaGwkAAAAAAADwPxEAAAAAAADwPyGamZmZ+bHjQBobCQAAAAAAAPA/EQAAAAAAAPA/IZqZmZn5seNAGhsJAAAAAAAA8D8RAAAAAAAA8D8hmpmZmfmx40AaGwkAAAAAAADwPxEAAAAAAADwPyGamZmZ+bHjQBobCQAAAAAAAPA/EQAAAAAAAPA/IZqZmZn5seNAGhsJAAAAAAAA8D8RAAAAAAAA8D8hmpmZmfmx40AaGwkAAAAAAADwPxEAAAAAAADwPyGamZmZ+bHjQCABQJ7PGBEAAAAAAAAYQCkAAAAAAAAYQDEAAAAAAAAYQDkAAAAAAAAYQEIdGhsJAAAAAAAAGEARAAAAAAAAGEAhAAAAAHieGEFCpAIaGwkAAAAAAAAYQBEAAAAAAAAYQCGamZmZ+bHjQBobCQAAAAAAABhAEQAAAAAAABhAIZqZmZn5seNAGhsJAAAAAAAAGEARAAAAAAAAGEAhmpmZmfmx40AaGwkAAAAAAAAYQBEAAAAAAAAYQCGamZmZ+bHjQBobCQAAAAAAABhAEQAAAAAAABhAIZqZmZn5seNAGhsJAAAAAAAAGEARAAAAAAAAGEAhmpmZmfmx40AaGwkAAAAAAAAYQBEAAAAAAAAYQCGamZmZ+bHjQBobCQAAAAAAABhAEQAAAAAAABhAIZqZmZn5seNAGhsJAAAAAAAAGEARAAAAAAAAGEAhmpmZmfmx40AaGwkAAAAAAAAYQBEAAAAAAAAYQCGamZmZ+bHjQCABGr8HCgZGTF9OVU0atAcKuAIIns8YGAEgAS0AAIA/MqQCGhsJAAAAAAAA8D8RAAAAAAAA8D8hmpmZmfmx40AaGwkAAAAAAADwPxEAAAAAAADwPyGamZmZ+bHjQBobCQAAAAAAAPA/EQAAAAAAAPA/IZqZmZn5seNAGhsJAAAAAAAA8D8RAAAAAAAA8D8hmpmZmfmx40AaGwkAAAAAAADwPxEAAAAAAADwPyGamZmZ+bHjQBobCQAAAAAAAPA/EQAAAAAAAPA/IZqZmZn5seNAGhsJAAAAAAAA8D8RAAAAAAAA8D8hmpmZmfmx40AaGwkAAAAAAADwPxEAAAAAAADwPyGamZmZ+bHjQBobCQAAAAAAAPA/EQAAAAAAAPA/IZqZmZn5seNAGhsJAAAAAAAA8D8RAAAAAAAA8D8hmpmZmfmx40AgAUCezxgR24Cq9E4pokAZRVjVV6qKnEApAAAAAAAA8D8xAAAAAADMmkA5AAAAAAABvUBCogIaGwkAAAAAAADwPxEzMzMzMzuHQCH1SlmGYpf0QBobCTMzMzMzO4dAETMzMzMzN5dAIX6pnzfjS/VAGhsJMzMzMzM3l0ARZmZmZmZooUAhN7nfoXGA9EAaGwlmZmZmZmihQBEzMzMzMzWnQCGIP+4EFvLcQBobCTMzMzMzNadAEQAAAAAAAq1AIczvl66ZzalAGhsJAAAAAAACrUARZmZmZmZnsUAh6xMam0Cr00AaGwlmZmZmZmexQBHNzMzMzE20QCH/A0c+3ivpQBobCc3MzMzMTbRAETMzMzMzNLdAIauZduDDTuRAGhsJMzMzMzM0t0ARmZmZmZkaukAhrtExQ4rli0AaGwmZmZmZmRq6QBEAAAAAAAG9QCEzwaVlA6WFQEKkAhobCQAAAAAAAPA/EQAAAAAAMHVAIZqZmZn5seNAGhsJAAAAAAAwdUARAAAAAAAohkAhmpmZmfmx40AaGwkAAAAAACiGQBEAAAAAAHCQQCGamZmZ+bHjQBobCQAAAAAAcJBAEQAAAAAA5JVAIZqZmZn5seNAGhsJAAAAAADklUARAAAAAADMmkAhmpmZmfmx40AaGwkAAAAAAMyaQBEAAAAAABKgQCGamZmZ+bHjQBobCQAAAAAAEqBAEQAAAAAAmqVAIZqZmZn5seNAGhsJAAAAAACapUARAAAAAACjskAhmpmZmfmx40AaGwkAAAAAAKOyQBEAAAAAAGa0QCGamZmZ+bHjQBobCQAAAAAAZrRAEQAAAAAAAb1AIZqZmZn5seNAIAEarAcKDENSU19BUlJfVElNRRqbBwq4AgiezxgYASABLQAAgD8ypAIaGwkAAAAAAADwPxEAAAAAAADwPyGamZmZ+bHjQBobCQAAAAAAAPA/EQAAAAAAAPA/IZqZmZn5seNAGhsJAAAAAAAA8D8RAAAAAAAA8D8hmpmZmfmx40AaGwkAAAAAAADwPxEAAAAAAADwPyGamZmZ+bHjQBobCQAAAAAAAPA/EQAAAAAAAPA/IZqZmZn5seNAGhsJAAAAAAAA8D8RAAAAAAAA8D8hmpmZmfmx40AaGwkAAAAAAADwPxEAAAAAAADwPyGamZmZ+bHjQBobCQAAAAAAAPA/EQAAAAAAAPA/IZqZmZn5seNAGhsJAAAAAAAA8D8RAAAAAAAA8D8hmpmZmfmx40AaGwkAAAAAAADwPxEAAAAAAADwPyGamZmZ+bHjQCABQJ7PGBGg0r2oyEOYQBkQuQD1pzV/QCAUMQAAAAAAVJhAOQAAAAAAbqJAQpkCGhIRzczMzMx8bUAhspcfiSDRv0AaGwnNzMzMzHxtQBHNzMzMzHx9QCFI00kGFclmQBobCc3MzMzMfH1AEZqZmZmZHYZAIdOyTXIp+35AGhsJmpmZmZkdhkARzczMzMx8jUAh0t+CBlvM30AaGwnNzMzMzHyNQBEAAAAAAG6SQCEa6+I2Hn7vQBobCQAAAAAAbpJAEZqZmZmZHZZAITRuowGQ8utAGhsJmpmZmZkdlkARMzMzMzPNmUAhtnSTGI5270AaGwkzMzMzM82ZQBHNzMzMzHydQCE2gLdAyLHqQBobCc3MzMzMfJ1AETMzMzMzlqBAIW6si9sGpetAGhsJMzMzMzOWoEARAAAAAABuokAhP71SlqOA70BCmwIaEhEAAAAAAGiNQCGamZmZ+bHjQBobCQAAAAAAaI1AEQAAAAAAVJFAIZqZmZn5seNAGhsJAAAAAABUkUARAAAAAAAsk0AhmpmZmfmx40AaGwkAAAAAACyTQBEAAAAAAAiWQCGamZmZ+bHjQBobCQAAAAAACJZAEQAAAAAAVJhAIZqZmZn5seNAGhsJAAAAAABUmEARAAAAAADgmkAhmpmZmfmx40AaGwkAAAAAAOCaQBEAAAAAALCdQCGamZmZ+bHjQBobCQAAAAAAsJ1AEQAAAAAA9J9AIZqZmZn5seNAGhsJAAAAAAD0n0ARAAAAAABkoUAhmpmZmfmx40AaGwkAAAAAAGShQBEAAAAAAG6iQCGamZmZ+bHjQCABGsUHCgxDUlNfREVQX1RJTUUatAcKuAIIns8YGAEgAS0AAIA/MqQCGhsJAAAAAAAA8D8RAAAAAAAA8D8hmpmZmfmx40AaGwkAAAAAAADwPxEAAAAAAADwPyGamZmZ+bHjQBobCQAAAAAAAPA/EQAAAAAAAPA/IZqZmZn5seNAGhsJAAAAAAAA8D8RAAAAAAAA8D8hmpmZmfmx40AaGwkAAAAAAADwPxEAAAAAAADwPyGamZmZ+bHjQBobCQAAAAAAAPA/EQAAAAAAAPA/IZqZmZn5seNAGhsJAAAAAAAA8D8RAAAAAAAA8D8hmpmZmfmx40AaGwkAAAAAAADwPxEAAAAAAADwPyGamZmZ+bHjQBobCQAAAAAAAPA/EQAAAAAAAPA/IZqZmZn5seNAGhsJAAAAAAAA8D8RAAAAAAAA8D8hmpmZmfmx40AgAUCezxgRUqw7EzDQlkAZzzTWqcLxfEApAAAAAABAf0AxAAAAAAC0lkA5AAAAAABcokBCogIaGwkAAAAAAEB/QBEAAAAAAGiFQCGgibDhSW+yQBobCQAAAAAAaIVAEQAAAAAAMItAIROZeIXNw+ZAGhsJAAAAAAAwi0ARAAAAAAB8kEAhpacJXZ4b7EAaGwkAAAAAAHyQQBEAAAAAAGCTQCEX2c73O0nkQBobCQAAAAAAYJNAEQAAAAAARJZAIZqZmZn5seNAGhsJAAAAAABElkARAAAAAAAomUAhhxbZzoc950AaGwkAAAAAACiZQBEAAAAAAAycQCG+nxovzWnnQBobCQAAAAAADJxAEQAAAAAA8J5AIbbz/dSQ/OVAGhsJAAAAAADwnkARAAAAAADqoEAhqvHSTZpZ6EAaGwkAAAAAAOqgQBEAAAAAAFyiQCF9PzVeapvVQEKkAhobCQAAAAAAQH9AEQAAAAAAMIpAIZqZmZn5seNAGhsJAAAAAAAwikARAAAAAADYjUAhmpmZmfmx40AaGwkAAAAAANiNQBEAAAAAAGyRQCGamZmZ+bHjQBobCQAAAAAAbJFAEQAAAAAAgJRAIZqZmZn5seNAGhsJAAAAAACAlEARAAAAAAC0lkAhmpmZmfmx40AaGwkAAAAAALSWQBEAAAAAADyZQCGamZmZ+bHjQBobCQAAAAAAPJlAEQAAAAAAWJtAIZqZmZn5seNAGhsJAAAAAABYm0ARAAAAAAA8nkAhmpmZmfmx40AaGwkAAAAAADyeQBEAAAAAAIigQCGamZmZ+bHjQBobCQAAAAAAiKBAEQAAAAAAXKJAIZqZmZn5seNAIAEaxwcKCUFSUl9ERUxBWRABGrcHCrgCCJ7PGBgBIAEtAACAPzKkAhobCQAAAAAAAPA/EQAAAAAAAPA/IZqZmZn5seNAGhsJAAAAAAAA8D8RAAAAAAAA8D8hmpmZmfmx40AaGwkAAAAAAADwPxEAAAAAAADwPyGamZmZ+bHjQBobCQAAAAAAAPA/EQAAAAAAAPA/IZqZmZn5seNAGhsJAAAAAAAA8D8RAAAAAAAA8D8hmpmZmfmx40AaGwkAAAAAAADwPxEAAAAAAADwPyGamZmZ+bHjQBobCQAAAAAAAPA/EQAAAAAAAPA/IZqZmZn5seNAGhsJAAAAAAAA8D8RAAAAAAAA8D8hmpmZmfmx40AaGwkAAAAAAADwPxEAAAAAAADwPyGamZmZ+bHjQBobCQAAAAAAAPA/EQAAAAAAAPA/IZqZmZn5seNAIAFAns8YEZ/e9pYDzCdAGeCyndMhMEVAIONMKQAAAAAAgE7AMQAAAAAAAPC/OQAAAAAAkJZAQqICGhsJAAAAAACATsARAAAAAABgVkAhz/dTY0lNF0EaGwkAAAAAAGBWQBEAAAAAAABuQCHGtFwjR4bTQBobCQAAAAAAAG5AEQAAAAAAaHhAIQjB4JN02JJAGhsJAAAAAABoeEARAAAAAADogEAhNsjJCmQsS0AaGwkAAAAAAOiAQBEAAAAAAJyFQCE4yMkKZCxLQBobCQAAAAAAnIVAEQAAAAAAUIpAITTIyQpkLEtAGhsJAAAAAABQikARAAAAAAAEj0AhOMjJCmQsS0AaGwkAAAAAAASPQBEAAAAAANyRQCE8yMkKZCxLQBobCQAAAAAA3JFAEQAAAAAANpRAITDIyQpkLEtAGhsJAAAAAAA2lEARAAAAAACQlkAhOMjJCmQsS0BCpAIaGwkAAAAAAIBOwBEAAAAAAAAwwCGamZmZ+bHjQBobCQAAAAAAADDAEQAAAAAAACjAIZqZmZn5seNAGhsJAAAAAAAAKMARAAAAAAAAIMAhmpmZmfmx40AaGwkAAAAAAAAgwBEAAAAAAAAUwCGamZmZ+bHjQBobCQAAAAAAABTAEQAAAAAAAPC/IZqZmZn5seNAGhsJAAAAAAAA8L8RAAAAAAAAEEAhmpmZmfmx40AaGwkAAAAAAAAQQBEAAAAAAAAmQCGamZmZ+bHjQBobCQAAAAAAACZAEQAAAAAAADhAIZqZmZn5seNAGhsJAAAAAAAAOEARAAAAAAAAS0AhmpmZmfmx40AaGwkAAAAAAABLQBEAAAAAAJCWQCGamZmZ+bHjQCABGqgHCgdUQVhJX0lOGpwHCrgCCJ7PGBgBIAEtAACAPzKkAhobCQAAAAAAAPA/EQAAAAAAAPA/IZqZmZn5seNAGhsJAAAAAAAA8D8RAAAAAAAA8D8hmpmZmfmx40AaGwkAAAAAAADwPxEAAAAAAADwPyGamZmZ+bHjQBobCQAAAAAAAPA/EQAAAAAAAPA/IZqZmZn5seNAGhsJAAAAAAAA8D8RAAAAAAAA8D8hmpmZmfmx40AaGwkAAAAAAADwPxEAAAAAAADwPyGamZmZ+bHjQBobCQAAAAAAAPA/EQAAAAAAAPA/IZqZmZn5seNAGhsJAAAAAAAA8D8RAAAAAAAA8D8hmpmZmfmx40AaGwkAAAAAAADwPxEAAAAAAADwPyGamZmZ+bHjQBobCQAAAAAAAPA/EQAAAAAAAPA/IZqZmZn5seNAIAFAns8YEel4JSHRMhhAGYxTvF6WMxJAIKsBMQAAAAAAABRAOQAAAAAAwGxAQpkCGhIRAAAAAAAAN0Ahku18PyRZGEEaGwkAAAAAAAA3QBEAAAAAAABHQCFm9+RhIZ+tQBobCQAAAAAAAEdAEQAAAAAAQFFAIdC4C6WaiHFAGhsJAAAAAABAUUARAAAAAAAAV0AhsuL09kQPSkAaGwkAAAAAAABXQBEAAAAAAMBcQCG44vT2RA9KQBobCQAAAAAAwFxAEQAAAAAAQGFAIbTi9PZED0pAGhsJAAAAAABAYUARAAAAAAAgZEAhtOL09kQPSkAaGwkAAAAAACBkQBEAAAAAAABnQCG44vT2RA9KQBobCQAAAAAAAGdAEQAAAAAA4GlAIbDi9PZED0pAGhsJAAAAAADgaUARAAAAAADAbEAhuOL09kQPSkBCmwIaEhEAAAAAAAAIQCGamZmZ+bHjQBobCQAAAAAAAAhAEQAAAAAAABBAIZqZmZn5seNAGhsJAAAAAAAAEEARAAAAAAAAEEAhmpmZmfmx40AaGwkAAAAAAAAQQBEAAAAAAAAUQCGamZmZ+bHjQBobCQAAAAAAABRAEQAAAAAAABRAIZqZmZn5seNAGhsJAAAAAAAAFEARAAAAAAAAGEAhmpmZmfmx40AaGwkAAAAAAAAYQBEAAAAAAAAYQCGamZmZ+bHjQBobCQAAAAAAABhAEQAAAAAAACBAIZqZmZn5seNAGhsJAAAAAAAAIEARAAAAAAAAJEAhmpmZmfmx40AaGwkAAAAAAAAkQBEAAAAAAMBsQCGamZmZ+bHjQCABGssDCghESVZFUlRFRBq+Awq4AgiezxgYASABLQAAgD8ypAIaGwkAAAAAAADwPxEAAAAAAADwPyGamZmZ+bHjQBobCQAAAAAAAPA/EQAAAAAAAPA/IZqZmZn5seNAGhsJAAAAAAAA8D8RAAAAAAAA8D8hmpmZmfmx40AaGwkAAAAAAADwPxEAAAAAAADwPyGamZmZ+bHjQBobCQAAAAAAAPA/EQAAAAAAAPA/IZqZmZn5seNAGhsJAAAAAAAA8D8RAAAAAAAA8D8hmpmZmfmx40AaGwkAAAAAAADwPxEAAAAAAADwPyGamZmZ+bHjQBobCQAAAAAAAPA/EQAAAAAAAPA/IZqZmZn5seNAGhsJAAAAAAAA8D8RAAAAAAAA8D8hmpmZmfmx40AaGwkAAAAAAADwPxEAAAAAAADwPyGamZmZ+bHjQCABQJ7PGCCezxhCCxoJIQAAAAB4nhhBQnAaCSGamZmZ+bHjQBoJIZqZmZn5seNAGgkhmpmZmfmx40AaCSGamZmZ+bHjQBoJIZqZmZn5seNAGgkhmpmZmfmx40AaCSGamZmZ+bHjQBoJIZqZmZn5seNAGgkhmpmZmfmx40AaCSGamZmZ+bHjQCABGsIHCglXSEVFTFNfT04atAcKuAIIns8YGAEgAS0AAIA/MqQCGhsJAAAAAAAA8D8RAAAAAAAA8D8hmpmZmfmx40AaGwkAAAAAAADwPxEAAAAAAADwPyGamZmZ+bHjQBobCQAAAAAAAPA/EQAAAAAAAPA/IZqZmZn5seNAGhsJAAAAAAAA8D8RAAAAAAAA8D8hmpmZmfmx40AaGwkAAAAAAADwPxEAAAAAAADwPyGamZmZ+bHjQBobCQAAAAAAAPA/EQAAAAAAAPA/IZqZmZn5seNAGhsJAAAAAAAA8D8RAAAAAAAA8D8hmpmZmfmx40AaGwkAAAAAAADwPxEAAAAAAADwPyGamZmZ+bHjQBobCQAAAAAAAPA/EQAAAAAAAPA/IZqZmZn5seNAGhsJAAAAAAAA8D8RAAAAAAAA8D8hmpmZmfmx40AgAUCezxgR7AQGZqeol0AZ6TO/sgPTgEApAAAAAAAA8D8xAAAAAAD8l0A5AAAAAADAokBCogIaGwkAAAAAAADwPxHNzMzMzBxuQCHeQm9m7AvOQBobCc3MzMzMHG5AEc3MzMzMDH5AISqJhviYmoRAGhsJzczMzMwMfkARmpmZmZmFhkAhUNFLoOONmEAaGwmamZmZmYWGQBHNzMzMzASOQCEhPNo4APfjQBobCc3MzMzMBI5AEQAAAAAAwpJAIQ6+MJmG2OxAGhsJAAAAAADCkkARmpmZmZmBlkAhpKut2Nvm7kAaGwmamZmZmYGWQBEzMzMzM0GaQCH6kH77XmbrQBobCTMzMzMzQZpAEc3MzMzMAJ5AIaWSOgGdfetAGhsJzczMzMwAnkARMzMzMzPgoEAhH7ByaLG57UAaGwkzMzMzM+CgQBEAAAAAAMCiQCEIPZtV2wXoQEKkAhobCQAAAAAAAPA/EQAAAAAAmIxAIZqZmZn5seNAGhsJAAAAAACYjEARAAAAAABckEAhmpmZmfmx40AaGwkAAAAAAFyQQBEAAAAAAOCSQCGamZmZ+bHjQBobCQAAAAAA4JJAEQAAAAAAEJVAIZqZmZn5seNAGhsJAAAAAAAQlUARAAAAAAD8l0AhmpmZmfmx40AaGwkAAAAAAPyXQBEAAAAAALiaQCGamZmZ+bHjQBobCQAAAAAAuJpAEQAAAAAA6JxAIZqZmZn5seNAGhsJAAAAAADonEARAAAAAADgn0AhmpmZmfmx40AaGwkAAAAAAOCfQBEAAAAAAFyhQCGamZmZ+bHjQBobCQAAAAAAXKFAEQAAAAAAwKJAIZqZmZn5seNAIAEawwcKCldIRUVMU19PRkYatAcKuAIIns8YGAEgAS0AAIA/MqQCGhsJAAAAAAAA8D8RAAAAAAAA8D8hmpmZmfmx40AaGwkAAAAAAADwPxEAAAAAAADwPyGamZmZ+bHjQBobCQAAAAAAAPA/EQAAAAAAAPA/IZqZmZn5seNAGhsJAAAAAAAA8D8RAAAAAAAA8D8hmpmZmfmx40AaGwkAAAAAAADwPxEAAAAAAADwPyGamZmZ+bHjQBobCQAAAAAAAPA/EQAAAAAAAPA/IZqZmZn5seNAGhsJAAAAAAAA8D8RAAAAAAAA8D8hmpmZmfmx40AaGwkAAAAAAADwPxEAAAAAAADwPyGamZmZ+bHjQBobCQAAAAAAAPA/EQAAAAAAAPA/IZqZmZn5seNAGhsJAAAAAAAA8D8RAAAAAAAA8D8hmpmZmfmx40AgAUCezxgRuhuUGWc9l0AZb+xbtWwhf0ApAAAAAAAA8D8xAAAAAACYl0A5AAAAAADAokBCogIaGwkAAAAAAADwPxHNzMzMzBxuQCEZarViKw+zQBobCc3MzMzMHG5AEc3MzMzMDH5AIR3Aw499RXJAGhsJzczMzMwMfkARmpmZmZmFhkAhpZ3+W3BiukAaGwmamZmZmYWGQBHNzMzMzASOQCFp4Z8/ngfuQBobCc3MzMzMBI5AEQAAAAAAwpJAIRoLm9d0J+xAGhsJAAAAAADCkkARmpmZmZmBlkAhIO0njaWV7UAaGwmamZmZmYGWQBEzMzMzM0GaQCH47evAjWzsQBobCTMzMzMzQZpAEc3MzMzMAJ5AIfRjzF3HwOhAGhsJzczMzMwAnkARMzMzMzPgoEAhU5+rrUTf70AaGwkzMzMzM+CgQBEAAAAAAMCiQCGmLEMcr0/iQEKkAhobCQAAAAAAAPA/EQAAAAAAkIpAIZqZmZn5seNAGhsJAAAAAACQikARAAAAAACwj0AhmpmZmfmx40AaGwkAAAAAALCPQBEAAAAAALiRQCGamZmZ+bHjQBobCQAAAAAAuJFAEQAAAAAApJRAIZqZmZn5seNAGhsJAAAAAACklEARAAAAAACYl0AhmpmZmfmx40AaGwkAAAAAAJiXQBEAAAAAAKSZQCGamZmZ+bHjQBobCQAAAAAApJlAEQAAAAAAhJxAIZqZmZn5seNAGhsJAAAAAACEnEARAAAAAABsn0AhmpmZmfmx40AaGwkAAAAAAGyfQBEAAAAAANCgQCGamZmZ+bHjQBobCQAAAAAA0KBAEQAAAAAAwKJAIZqZmZn5seNAIAEaqAcKCFRBWElfT1VUGpsHCrgCCJ7PGBgBIAEtAACAPzKkAhobCQAAAAAAAPA/EQAAAAAAAPA/IZqZmZn5seNAGhsJAAAAAAAA8D8RAAAAAAAA8D8hmpmZmfmx40AaGwkAAAAAAADwPxEAAAAAAADwPyGamZmZ+bHjQBobCQAAAAAAAPA/EQAAAAAAAPA/IZqZmZn5seNAGhsJAAAAAAAA8D8RAAAAAAAA8D8hmpmZmfmx40AaGwkAAAAAAADwPxEAAAAAAADwPyGamZmZ+bHjQBobCQAAAAAAAPA/EQAAAAAAAPA/IZqZmZn5seNAGhsJAAAAAAAA8D8RAAAAAAAA8D8hmpmZmfmx40AaGwkAAAAAAADwPxEAAAAAAADwPyGamZmZ+bHjQBobCQAAAAAAAPA/EQAAAAAAAPA/IZqZmZn5seNAIAFAns8YEXhKSs85lzRAGRH6SES7niZAIA4xAAAAAAAAMkA5AAAAAABAbEBCmQIaEhGamZmZmZk2QCF2cRsNU2URQRobCZqZmZmZmTZAEZqZmZmZmUZAIXgLJCi+J/pAGhsJmpmZmZmZRkARNDMzMzPzUEAhF/75o1V3vEAaGwk0MzMzM/NQQBGamZmZmZlWQCGnE9BEmLOgQBobCZqZmZmZmVZAEQAAAAAAQFxAIdjr9NfAr5BAGhsJAAAAAABAXEARNDMzMzPzYEAhIwnCWr2sdkAaGwk0MzMzM/NgQBFnZmZmZsZjQCGEenhNxldWQBobCWdmZmZmxmNAEZqZmZmZmWZAIYZ6eE3GV1ZAGhsJmpmZmZmZZkARzczMzMxsaUAhhnp4TcZXVkAaGwnNzMzMzGxpQBEAAAAAAEBsQCGEenhNxldWQEKbAhoSEQAAAAAAACZAIZqZmZn5seNAGhsJAAAAAAAAJkARAAAAAAAAKkAhmpmZmfmx40AaGwkAAAAAAAAqQBEAAAAAAAAuQCGamZmZ+bHjQBobCQAAAAAAAC5AEQAAAAAAADBAIZqZmZn5seNAGhsJAAAAAAAAMEARAAAAAAAAMkAhmpmZmfmx40AaGwkAAAAAAAAyQBEAAAAAAAA0QCGamZmZ+bHjQBobCQAAAAAAADRAEQAAAAAAADZAIZqZmZn5seNAGhsJAAAAAAAANkARAAAAAAAAOkAhmpmZmfmx40AaGwkAAAAAAAA6QBEAAAAAAAA/QCGamZmZ+bHjQBobCQAAAAAAAD9AEQAAAAAAQGxAIZqZmZn5seNAIAEa8QIKBk9SSUdJThACIuQCCrgCCJ7PGBgBIAEtAACAPzKkAhobCQAAAAAAAPA/EQAAAAAAAPA/IZqZmZn5seNAGhsJAAAAAAAA8D8RAAAAAAAA8D8hmpmZmfmx40AaGwkAAAAAAADwPxEAAAAAAADwPyGamZmZ+bHjQBobCQAAAAAAAPA/EQAAAAAAAPA/IZqZmZn5seNAGhsJAAAAAAAA8D8RAAAAAAAA8D8hmpmZmfmx40AaGwkAAAAAAADwPxEAAAAAAADwPyGamZmZ+bHjQBobCQAAAAAAAPA/EQAAAAAAAPA/IZqZmZn5seNAGhsJAAAAAAAA8D8RAAAAAAAA8D8hmpmZmfmx40AaGwkAAAAAAADwPxEAAAAAAADwPyGamZmZ+bHjQBobCQAAAAAAAPA/EQAAAAAAAPA/IZqZmZn5seNAIAFAns8YEAEaDhIDQVRMGQAAAAB4nhhBJQAAQEAqEAoOIgNBVEwpAAAAAHieGEEavwcKBkZMX0RPTRq0Bwq4AgiezxgYASABLQAAgD8ypAIaGwkAAAAAAADwPxEAAAAAAADwPyGamZmZ+bHjQBobCQAAAAAAAPA/EQAAAAAAAPA/IZqZmZn5seNAGhsJAAAAAAAA8D8RAAAAAAAA8D8hmpmZmfmx40AaGwkAAAAAAADwPxEAAAAAAADwPyGamZmZ+bHjQBobCQAAAAAAAPA/EQAAAAAAAPA/IZqZmZn5seNAGhsJAAAAAAAA8D8RAAAAAAAA8D8hmpmZmfmx40AaGwkAAAAAAADwPxEAAAAAAADwPyGamZmZ+bHjQBobCQAAAAAAAPA/EQAAAAAAAPA/IZqZmZn5seNAGhsJAAAAAAAA8D8RAAAAAAAA8D8hmpmZmfmx40AaGwkAAAAAAADwPxEAAAAAAADwPyGamZmZ+bHjQCABQJ7PGBGeiVGsaiYvQBkJMJSSlUYhQCkAAAAAAADwPzEAAAAAAAAwQDkAAAAAAAA+QEKiAhobCQAAAAAAAPA/ETMzMzMzMw9AIVwgQfEXSONAGhsJMzMzMzMzD0ARMzMzMzMzG0Ah24r9ZYN640AaGwkzMzMzMzMbQBFmZmZmZmYjQCFa9bna7qzjQBobCWZmZmZmZiNAETMzMzMzMylAIVr1udrurONAGhsJMzMzMzMzKUARAAAAAAAAL0AhWvW52u6s40AaGwkAAAAAAAAvQBFmZmZmZmYyQCFa9bna7qzjQBobCWZmZmZmZjJAEc3MzMzMTDVAIdlfdk9a3+NAGhsJzczMzMxMNUARMzMzMzMzOEAh2V92T1rf40AaGwkzMzMzMzM4QBGZmZmZmRk7QCHZX3ZPWt/jQBobCZmZmZmZGTtAEQAAAAAAAD5AIdlfdk9a3+NAQqQCGhsJAAAAAAAA8D8RAAAAAAAAEEAhmpmZmfmx40AaGwkAAAAAAAAQQBEAAAAAAAAcQCGamZmZ+bHjQBobCQAAAAAAABxAEQAAAAAAACRAIZqZmZn5seNAGhsJAAAAAAAAJEARAAAAAAAAKkAhmpmZmfmx40AaGwkAAAAAAAAqQBEAAAAAAAAwQCGamZmZ+bHjQBobCQAAAAAAADBAEQAAAAAAADNAIZqZmZn5seNAGhsJAAAAAAAAM0ARAAAAAAAANkAhmpmZmfmx40AaGwkAAAAAAAA2QBEAAAAAAAA5QCGamZmZ+bHjQBobCQAAAAAAADlAEQAAAAAAADxAIZqZmZn5seNAGhsJAAAAAAAAPEARAAAAAAAAPkAhmpmZmfmx40AgARrOBwoVT1JJR0lOX0FJUlBPUlRfU0VRX0lEGrQHCrgCCJ7PGBgBIAEtAACAPzKkAhobCQAAAAAAAPA/EQAAAAAAAPA/IZqZmZn5seNAGhsJAAAAAAAA8D8RAAAAAAAA8D8hmpmZmfmx40AaGwkAAAAAAADwPxEAAAAAAADwPyGamZmZ+bHjQBobCQAAAAAAAPA/EQAAAAAAAPA/IZqZmZn5seNAGhsJAAAAAAAA8D8RAAAAAAAA8D8hmpmZmfmx40AaGwkAAAAAAADwPxEAAAAAAADwPyGamZmZ+bHjQBobCQAAAAAAAPA/EQAAAAAAAPA/IZqZmZn5seNAGhsJAAAAAAAA8D8RAAAAAAAA8D8hmpmZmfmx40AaGwkAAAAAAADwPxEAAAAAAADwPyGamZmZ+bHjQBobCQAAAAAAAPA/EQAAAAAAAPA/IZqZmZn5seNAIAFAns8YEfDCJPGvui9BGfZLywF3lQJAKQAAAACuui9BMQAAAACuui9BOQAAAACyui9BQqICGhsJAAAAAK66L0ERZmZmZq66L0EhiVxLyDJQCUEaGwlmZmZmrrovQRHNzMzMrrovQSEUQK9++ypEQBobCc3MzMyuui9BETMzMzOvui9BIaDUfH77KkRAGhsJMzMzM6+6L0ERmpmZma+6L0EhEECvfvsqREAaGwmamZmZr7ovQREAAAAAsLovQSGc1Hx++ypEQBobCQAAAACwui9BEWZmZmawui9BIZzUfH77KkRAGhsJZmZmZrC6L0ERzczMzLC6L0EhEECvfvsqREAaGwnNzMzMsLovQREzMzMzsbovQSGY1Hx++ypEQBobCTMzMzOxui9BEZqZmZmxui9BIRhAr377KkRAGhsJmpmZmbG6L0ERAAAAALK6L0EhcVj1uafiB0FCpAIaGwkAAAAArrovQREAAAAArrovQSGamZmZ+bHjQBobCQAAAACuui9BEQAAAACuui9BIZqZmZn5seNAGhsJAAAAAK66L0ERAAAAAK66L0EhmpmZmfmx40AaGwkAAAAArrovQREAAAAArrovQSGamZmZ+bHjQBobCQAAAACuui9BEQAAAACuui9BIZqZmZn5seNAGhsJAAAAAK66L0ERAAAAALK6L0EhmpmZmfmx40AaGwkAAAAAsrovQREAAAAAsrovQSGamZmZ+bHjQBobCQAAAACyui9BEQAAAACyui9BIZqZmZn5seNAGhsJAAAAALK6L0ERAAAAALK6L0EhmpmZmfmx40AaGwkAAAAAsrovQREAAAAAsrovQSGamZmZ+bHjQCABGvskCgRERVNUEAIi8CQKuAIIns8YGAEgAS0AAIA/MqQCGhsJAAAAAAAA8D8RAAAAAAAA8D8hmpmZmfmx40AaGwkAAAAAAADwPxEAAAAAAADwPyGamZmZ+bHjQBobCQAAAAAAAPA/EQAAAAAAAPA/IZqZmZn5seNAGhsJAAAAAAAA8D8RAAAAAAAA8D8hmpmZmfmx40AaGwkAAAAAAADwPxEAAAAAAADwPyGamZmZ+bHjQBobCQAAAAAAAPA/EQAAAAAAAPA/IZqZmZn5seNAGhsJAAAAAAAA8D8RAAAAAAAA8D8hmpmZmfmx40AaGwkAAAAAAADwPxEAAAAAAADwPyGamZmZ+bHjQBobCQAAAAAAAPA/EQAAAAAAAPA/IZqZmZn5seNAGhsJAAAAAAAA8D8RAAAAAAAA8D8hmpmZmfmx40AgAUCezxgQxQEaDhIDTEdBGQAAAAAA6cFAGg4SA01DTxkAAAAAAJnBQBoOEgNERlcZAAAAAACOwEAaDhIDRkxMGQAAAAAACb1AGg4SA1RQQRkAAAAAAAC8QBoOEgNPUkQZAAAAAABHu0AaDhIDRENBGQAAAAAA0LpAGg4SA0NMVBkAAAAAAEi6QBoOEgNQSEwZAAAAAAAIukAaDhIDQldJGQAAAAAAR7lAGg4SA0VXUhkAAAAAAKq4QBoOEgNNSUEZAAAAAAAluEAaDhIDTEFYGQAAAAAAmrZAGg4SA0JPUxkAAAAAAJq2QBoOEgNERU4ZAAAAAABwtkAaDhIDSkFYGQAAAAAAHrZAGg4SA01TUBkAAAAAAPS1QBoOEgNEVFcZAAAAAABrtUAaDhIDUkRVGQAAAAAA37RAGg4SA01TWRkAAAAAAIS0QCUAAEBAKuofCg4iA0xHQSkAAAAAAOnBQAoSCAEQASIDTUNPKQAAAAAAmcFAChIIAhACIgNERlcpAAAAAACOwEAKEggDEAMiA0ZMTCkAAAAAAAm9QAoSCAQQBCIDVFBBKQAAAAAAALxAChIIBRAFIgNPUkQpAAAAAABHu0AKEggGEAYiA0RDQSkAAAAAANC6QAoSCAcQByIDQ0xUKQAAAAAASLpAChIICBAIIgNQSEwpAAAAAAAIukAKEggJEAkiA0JXSSkAAAAAAEe5QAoSCAoQCiIDRVdSKQAAAAAAqrhAChIICxALIgNNSUEpAAAAAAAluEAKEggMEAwiA0xBWCkAAAAAAJq2QAoSCA0QDSIDQk9TKQAAAAAAmrZAChIIDhAOIgNERU4pAAAAAABwtkAKEggPEA8iA0pBWCkAAAAAAB62QAoSCBAQECIDTVNQKQAAAAAA9LVAChIIERARIgNEVFcpAAAAAABrtUAKEggSEBIiA1JEVSkAAAAAAN+0QAoSCBMQEyIDTVNZKQAAAAAAhLRAChIIFBAUIgNJQUgpAAAAAAC9s0AKEggVEBUiA01EVykAAAAAAISzQAoSCBYQFiIDTEFTKQAAAAAAkbFAChIIFxAXIgNNRU0pAAAAAAA4sUAKEggYEBgiA0lBRCkAAAAAAPiwQAoSCBkQGSIDUklDKQAAAAAAyLBAChIIGhAaIgNNQ0kpAAAAAABysEAKEggbEBsiA1BIWCkAAAAAAAmwQAoSCBwQHCIDSE9VKQAAAAAA7K9AChIIHRAdIgNQSVQpAAAAAADYr0AKEggeEB4iA1BCSSkAAAAAAJKvQAoSCB8QHyIDSU5EKQAAAAAAYq9AChIIIBAgIgNTVEwpAAAAAAAAr0AKEgghECEiA1JTVykAAAAAAACvQAoSCCIQIiIDQ0hTKQAAAAAAwq5AChIIIxAjIgNTQVYpAAAAAADerUAKEggkECQiA1BOUykAAAAAAKStQAoSCCUQJSIDU0ZPKQAAAAAAcK1AChIIJhAmIgNNS0UpAAAAAABgrUAKEggnECciA0JITSkAAAAAAIqrQAoSCCgQKCIDU0FUKQAAAAAA8qpAChIIKRApIgNTRUEpAAAAAAB6qkAKEggqECoiA0JOQSkAAAAAAGaqQAoSCCsQKyIDVlBTKQAAAAAAhqhAChIILBAsIgNDTEUpAAAAAAD0p0AKEggtEC0iA0dTTykAAAAAAHKnQAoSCC4QLiIDQ0FFKQAAAAAAUKdAChIILxAvIgNDTUgpAAAAAADupkAKEggwEDAiA1NERikAAAAAANSmQAoSCDEQMSIDR1NQKQAAAAAAtqZAChIIMhAyIgNPUkYpAAAAAACcpkAKEggzEDMiA0NBSykAAAAAAIqmQAoSCDQQNCIDU0xDKQAAAAAAdqZAChIINRA1IgNBVVMpAAAAAAD2pUAKEgg2EDYiA0RBWSkAAAAAAH6lQAoSCDcQNyIDQlRSKQAAAAAAeqVAChIIOBA4IgNQSEYpAAAAAABapUAKEgg5EDkiA0hTVikAAAAAADalQAoSCDoQOiIDVExIKQAAAAAAKqVAChIIOxA7IgNBR1MpAAAAAAD4pEAKEgg8EDwiA0JVRikAAAAAAPCkQAoSCD0QPSIDSkFOKQAAAAAAxKRAChIIPhA+IgNDSEEpAAAAAAC8pEAKEgg/ED8iA1NSUSkAAAAAABSkQAoSCEAQQCIDQ1ZHKQAAAAAAxKNAChIIQRBBIgNBVkwpAAAAAADCo0AKEghCEEIiA01PQikAAAAAAJSjQAoSCEMQQyIDTElUKQAAAAAAcKNAChIIRBBEIgNNR00pAAAAAABSo0AKEghFEEUiA1NBTikAAAAAABijQAoSCEYQRiIDSFBOKQAAAAAA+KJAChIIRxBHIgNMRVgpAAAAAACOokAKEghIEEgiA1RZUykAAAAAADiiQAoSCEkQSSIDRkFZKQAAAAAAEqJAChIIShBKIgNCREwpAAAAAADSoUAKEghLEEsiA01ZUikAAAAAAHKhQAoSCEwQTCIDR1BUKQAAAAAAXKFAChIITRBNIgNHTlYpAAAAAAAUoUAKEghOEE4iA0ZOVCkAAAAAAMqgQAoSCE8QTyIDSUNUKQAAAAAAmqBAChIIUBBQIgNJTE0pAAAAAAB+oEAKEghREFEiA0pGSykAAAAAAG6gQAoSCFIQUiIDVFJJKQAAAAAAYqBAChIIUxBTIgNTSFYpAAAAAAD4n0AKEghUEFQiA1NKVSkAAAAAAFSfQAoSCFUQVSIDREFCKQAAAAAATJ5AChIIVhBWIgNYTkEpAAAAAAAsnkAKEghXEFciA09LQykAAAAAAGScQAoSCFgQWCIDUk9DKQAAAAAARJxAChIIWRBZIgNNTEkpAAAAAABQm0AKEghaEFoiA0VDUCkAAAAAACCbQAoSCFsQWyIDVFVMKQAAAAAAiJpAChIIXBBcIgNCTUkpAAAAAABsmkAKEghdEF0iA1JPQSkAAAAAAEiaQAoSCF4QXiIDT01BKQAAAAAASJpAChIIXxBfIgNNTEIpAAAAAABcmUAKEghgEGAiA0NSVykAAAAAALyYQAoSCGEQYSIDTURUKQAAAAAAuJhAChIIYhBiIgNQRFgpAAAAAADQlkAKEghjEGMiA0xGVCkAAAAAALSVQAoSCGQQZCIDREhOKQAAAAAAeJVAChIIZRBlIgNTTkEpAAAAAAAslUAKEghmEGYiA1NHRikAAAAAABSVQAoSCGcQZyIDT0FKKQAAAAAArJRAChIIaBBoIgNDU0cpAAAAAACglEAKEghpEGkiA0dSUikAAAAAADCUQAoSCGoQaiIDTUxVKQAAAAAAkJNAChIIaxBrIgNBRVgpAAAAAADkkkAKEghsEGwiA0VZVykAAAAAAJiSQAoSCG0QbSIDU1lSKQAAAAAAlJJAChIIbhBuIgNFVlYpAAAAAAC8kUAKEghvEG8iA1BWRCkAAAAAAGSRQAoSCHAQcCIDUFdNKQAAAAAACJFAChIIcRBxIgNBQlEpAAAAAADwkEAKEghyEHIiA0RBTCkAAAAAALyQQAoSCHMQcyIDQUxCKQAAAAAAnJBAChIIdBB0IgNBQlkpAAAAAACIkEAKEgh1EHUiA0RTTSkAAAAAAFSQQAoSCHYQdiIDVkxEKQAAAAAAFJBAChIIdxB3IgNCUUspAAAAAADQjkAKEgh4EHgiA1NCTikAAAAAAGCOQAoSCHkQeSIDQ0hPKQAAAAAA+I1AChIIehB6IgNGV0EpAAAAAABQjEAKEgh7EHsiA0dUUikAAAAAADiLQAoSCHwQfCIDQUJFKQAAAAAAmIpAChIIfRB9IgNFV04pAAAAAACgiUAKEgh+EH4iA0VMUCkAAAAAAEiJQAoSCH8QfyIDUEZOKQAAAAAAsIhAChQIgAEQgAEiA1NNRikAAAAAAOCHQAoUCIEBEIEBIgNUVVMpAAAAAAAgh0AKFAiCARCCASIDU1RUKQAAAAAA4IVAChQIgwEQgwEiA1BJQSkAAAAAAEiFQAoUCIQBEIQBIgNNU04pAAAAAADohEAKFAiFARCFASIDR1JLKQAAAAAAOIRAChQIhgEQhgEiA01IVCkAAAAAAOiDQAoUCIcBEIcBIgNDSUQpAAAAAADQgkAKFAiIARCIASIDQVRXKQAAAAAAwIJAChQIiQEQiQEiA1NKQykAAAAAAEiBQAoUCIoBEIoBIgNTV0YpAAAAAABwf0AKFAiLARCLASIDQ09TKQAAAAAA0HxAChQIjAEQjAEiA0ZTTSkAAAAAADB8QAoUCI0BEI0BIgNITkwpAAAAAAAwe0AKFAiOARCOASIDQVZQKQAAAAAAUHpAChQIjwEQjwEiA01FSSkAAAAAAMB5QAoUCJABEJABIgNPTlQpAAAAAADQeEAKFAiRARCRASIDTFlIKQAAAAAA0HdAChQIkgEQkgEiA0JUVikAAAAAAEB1QAoUCJMBEJMBIgNBQ1kpAAAAAABAdEAKFAiUARCUASIDRkxPKQAAAAAAIHFAChQIlQEQlQEiA0dSQikAAAAAANBwQAoUCJYBEJYBIgNBTkMpAAAAAAAAb0AKFAiXARCXASIDTUNOKQAAAAAAwG5AChQImAEQmAEiA09BSykAAAAAAGBtQAoUCJkBEJkBIgNCS0cpAAAAAADgakAKFAiaARCaASIDSEhIKQAAAAAAYGhAChQImwEQmwEiA01GRSkAAAAAAABmQAoUCJwBEJwBIgNGU0QpAAAAAACgZUAKFAidARCdASIDTFdCKQAAAAAAgGNAChQIngEQngEiA1RPTCkAAAAAAMBhQAoUCJ8BEJ8BIgNUVE4pAAAAAABAYUAKFAigARCgASIDSkFDKQAAAAAAgF1AChQIoQEQoQEiA0NSUCkAAAAAAABdQAoUCKIBEKIBIgNBUEYpAAAAAAAAXEAKFAijARCjASIDTE5LKQAAAAAAwFpAChQIpAEQpAEiA1RVUCkAAAAAAEBaQAoUCKUBEKUBIgNCR1IpAAAAAACAWUAKFAimARCmASIDUlNUKQAAAAAAgFZAChQIpwEQpwEiA0JaTikAAAAAAMBVQAoUCKgBEKgBIgNJU1ApAAAAAADAVEAKFAipARCpASIDTEFOKQAAAAAAAFRAChQIqgEQqgEiA1JOTykAAAAAAIBTQAoUCKsBEKsBIgNCT0kpAAAAAACAU0AKFAisARCsASIDRVJJKQAAAAAAwFJAChQIrQEQrQEiA0lMRykAAAAAAABSQAoUCK4BEK4BIgNTVFgpAAAAAABAUUAKFAivARCvASIDSVNPKQAAAAAAAE1AChQIsAEQsAEiA0xBVykAAAAAAABMQAoUCLEBELEBIgNBWk8pAAAAAAAATEAKFAiyARCyASIDVFZDKQAAAAAAgEdAChQIswEQswEiA0NNSSkAAAAAAIBGQAoUCLQBELQBIgNCR00pAAAAAAAARkAKFAi1ARC1ASIDRkNBKQAAAAAAAERAChQItgEQtgEiA1NPUCkAAAAAAABBQAoUCLcBELcBIgNTQ0UpAAAAAAAAPEAKFAi4ARC4ASIDQlVSKQAAAAAAADlAChQIuQEQuQEiA0hUUykAAAAAAAA4QAoUCLoBELoBIgNDT1UpAAAAAAAAOEAKFAi7ARC7ASIDT0dHKQAAAAAAADVAChQIvAEQvAEiA0JJTCkAAAAAAAAyQAoUCL0BEL0BIgNVVE0pAAAAAAAAMEAKFAi+ARC+ASIDQlFOKQAAAAAAADBAChQIvwEQvwEiA1JBUCkAAAAAAAAqQAoUCMABEMABIgNNU08pAAAAAAAAKEAKFAjBARDBASIDUFNFKQAAAAAAACBAChQIwgEQwgEiA0ZBUikAAAAAAAAgQAoUCMMBEMMBIgNNVEgpAAAAAAAAGEAKFAjEARDEASIDR0VHKQAAAAAAAABAGswHChNERVNUX0FJUlBPUlRfU0VRX0lEGrQHCrgCCJ7PGBgBIAEtAACAPzKkAhobCQAAAAAAAPA/EQAAAAAAAPA/IZqZmZn5seNAGhsJAAAAAAAA8D8RAAAAAAAA8D8hmpmZmfmx40AaGwkAAAAAAADwPxEAAAAAAADwPyGamZmZ+bHjQBobCQAAAAAAAPA/EQAAAAAAAPA/IZqZmZn5seNAGhsJAAAAAAAA8D8RAAAAAAAA8D8hmpmZmfmx40AaGwkAAAAAAADwPxEAAAAAAADwPyGamZmZ+bHjQBobCQAAAAAAAPA/EQAAAAAAAPA/IZqZmZn5seNAGhsJAAAAAAAA8D8RAAAAAAAA8D8hmpmZmfmx40AaGwkAAAAAAADwPxEAAAAAAADwPyGamZmZ+bHjQBobCQAAAAAAAPA/EQAAAAAAAPA/IZqZmZn5seNAIAFAns8YEbjDDMhTgzNBGe8Lk1TGiwJBKQAAAAD67S5BMQAAAACmwDNBOQAAAABeSjhBQqICGhsJAAAAAPrtLkERmpmZGe1YMEEhmnXMtAfk2UAaGwmamZkZ7VgwQREzMzMz3ToxQSEhL0JMGZDvQBobCTMzMzPdOjFBEc3MzEzNHDJBISJKQoOUUOdAGhsJzczMTM0cMkERZmZmZr3+MkEhRoxDTA9v5UAaGwlmZmZmvf4yQREAAACAreAzQSFLKzbK51zgQBobCQAAAICt4DNBEZqZmZmdwjRBIUCguYMEH+1AGhsJmpmZmZ3CNEERMzMzs42kNUEhMp93wuCk40AaGwkzMzOzjaQ1QRHNzMzMfYY2QSE8Swi0BKbjQBobCc3MzMx9hjZBEWZmZuZtaDdBIUq68a9OeuFAGhsJZmZm5m1oN0ERAAAAAF5KOEEhnj3BVXrDxUBCpAIaGwkAAAAA+u0uQREAAAAA94IwQSGamZmZ+bHjQBobCQAAAAD3gjBBEQAAAAAPLjFBIZqZmZn5seNAGhsJAAAAAA8uMUERAAAAAEm6MUEhmpmZmfmx40AaGwkAAAAASboxQREAAAAARqQyQSGamZmZ+bHjQBobCQAAAABGpDJBEQAAAACmwDNBIZqZmZn5seNAGhsJAAAAAKbAM0ERAAAAACE6NEEhmpmZmfmx40AaGwkAAAAAITo0QREAAAAAaUE1QSGamZmZ+bHjQBobCQAAAABpQTVBEQAAAADxHDZBIZqZmZn5seNAGhsJAAAAAPEcNkERAAAAALqaNkEhmpmZmfmx40AaGwkAAAAAupo2QREAAAAAXko4QSGamZmZ+bHjQCABGswDCglDQU5DRUxMRUQavgMKuAIIns8YGAEgAS0AAIA/MqQCGhsJAAAAAAAA8D8RAAAAAAAA8D8hmpmZmfmx40AaGwkAAAAAAADwPxEAAAAAAADwPyGamZmZ+bHjQBobCQAAAAAAAPA/EQAAAAAAAPA/IZqZmZn5seNAGhsJAAAAAAAA8D8RAAAAAAAA8D8hmpmZmfmx40AaGwkAAAAAAADwPxEAAAAAAADwPyGamZmZ+bHjQBobCQAAAAAAAPA/EQAAAAAAAPA/IZqZmZn5seNAGhsJAAAAAAAA8D8RAAAAAAAA8D8hmpmZmfmx40AaGwkAAAAAAADwPxEAAAAAAADwPyGamZmZ+bHjQBobCQAAAAAAAPA/EQAAAAAAAPA/IZqZmZn5seNAGhsJAAAAAAAA8D8RAAAAAAAA8D8hmpmZmfmx40AgAUCezxggns8YQgsaCSEAAAAAeJ4YQUJwGgkhmpmZmfmx40AaCSGamZmZ+bHjQBoJIZqZmZn5seNAGgkhmpmZmfmx40AaCSGamZmZ+bHjQBoJIZqZmZn5seNAGgkhmpmZmfmx40AaCSGamZmZ+bHjQBoJIZqZmZn5seNAGgkhmpmZmfmx40AgARq/BwoGRkxfRE9XGrQHCrgCCJ7PGBgBIAEtAACAPzKkAhobCQAAAAAAAPA/EQAAAAAAAPA/IZqZmZn5seNAGhsJAAAAAAAA8D8RAAAAAAAA8D8hmpmZmfmx40AaGwkAAAAAAADwPxEAAAAAAADwPyGamZmZ+bHjQBobCQAAAAAAAPA/EQAAAAAAAPA/IZqZmZn5seNAGhsJAAAAAAAA8D8RAAAAAAAA8D8hmpmZmfmx40AaGwkAAAAAAADwPxEAAAAAAADwPyGamZmZ+bHjQBobCQAAAAAAAPA/EQAAAAAAAPA/IZqZmZn5seNAGhsJAAAAAAAA8D8RAAAAAAAA8D8hmpmZmfmx40AaGwkAAAAAAADwPxEAAAAAAADwPyGamZmZ+bHjQBobCQAAAAAAAPA/EQAAAAAAAPA/IZqZmZn5seNAIAFAns8YERijl7UUqw9AGQx7Ky4Iff8/KQAAAAAAAPA/MQAAAAAAABBAOQAAAAAAABxAQqICGhsJAAAAAAAA8D8RmpmZmZmZ+T8hb4EExW/j60AaGwmamZmZmZn5PxGamZmZmZkBQCFqAG+B9BHtQBobCZqZmZmZmQFAEWZmZmZmZgZAIV5/2T15QG5AGhsJZmZmZmZmBkARMzMzMzMzC0Ah7+vAOdsV7EAaGwkzMzMzMzMLQBEAAAAAAAAQQCFkf9k9eUBuQBobCQAAAAAAABBAEWZmZmZmZhJAIezAOSOyeuxAGhsJZmZmZmZmEkARzczMzMzMFEAh6Wor9l9E7UAaGwnNzMzMzMwUQBEzMzMzMzMXQCFef9k9eUBuQBobCTMzMzMzMxdAEZmZmZmZmRlAIelqK/ZfRO1AGhsJmZmZmZmZGUARAAAAAAAAHEAhAG+BBE2K6EBCpAIaGwkAAAAAAADwPxEAAAAAAADwPyGamZmZ+bHjQBobCQAAAAAAAPA/EQAAAAAAAABAIZqZmZn5seNAGhsJAAAAAAAAAEARAAAAAAAACEAhmpmZmfmx40AaGwkAAAAAAAAIQBEAAAAAAAAIQCGamZmZ+bHjQBobCQAAAAAAAAhAEQAAAAAAABBAIZqZmZn5seNAGhsJAAAAAAAAEEARAAAAAAAAFEAhmpmZmfmx40AaGwkAAAAAAAAUQBEAAAAAAAAUQCGamZmZ+bHjQBobCQAAAAAAABRAEQAAAAAAABhAIZqZmZn5seNAGhsJAAAAAAAAGEARAAAAAAAAHEAhmpmZmfmx40AaGwkAAAAAAAAcQBEAAAAAAAAcQCGamZmZ+bHjQCABGuRVCgdGTF9EQVRFEAIi1lUKuAIIns8YGAEgAS0AAIA/MqQCGhsJAAAAAAAA8D8RAAAAAAAA8D8hmpmZmfmx40AaGwkAAAAAAADwPxEAAAAAAADwPyGamZmZ+bHjQBobCQAAAAAAAPA/EQAAAAAAAPA/IZqZmZn5seNAGhsJAAAAAAAA8D8RAAAAAAAA8D8hmpmZmfmx40AaGwkAAAAAAADwPxEAAAAAAADwPyGamZmZ+bHjQBobCQAAAAAAAPA/EQAAAAAAAPA/IZqZmZn5seNAGhsJAAAAAAAA8D8RAAAAAAAA8D8hmpmZmfmx40AaGwkAAAAAAADwPxEAAAAAAADwPyGamZmZ+bHjQBobCQAAAAAAAPA/EQAAAAAAAPA/IZqZmZn5seNAGhsJAAAAAAAA8D8RAAAAAAAA8D8hmpmZmfmx40AgAUCezxgQ6AIaFRIKMjAwOS0wNi0yORkAAAAAAGyTQBoVEgoyMDA5LTA2LTA1GQAAAAAAaJNAGhUSCjIwMDktMDYtMDQZAAAAAABok0AaFRIKMjAwOS0wNi0wOBkAAAAAAGSTQBoVEgoyMDA5LTA2LTI1GQAAAAAAXJNAGhUSCjIwMDctMDYtMTUZAAAAAABUk0AaFRIKMjAwNy0wNi0xNBkAAAAAAEyTQBoVEgoyMDA3LTA2LTIxGQAAAAAASJNAGhUSCjIwMDctMDYtMDcZAAAAAABIk0AaFRIKMjAwOS0wNi0yNhkAAAAAAESTQBoVEgoyMDA5LTA2LTE5GQAAAAAAQJNAGhUSCjIwMDctMDYtMTgZAAAAAAA4k0AaFRIKMjAwOS0wNi0xNhkAAAAAADCTQBoVEgoyMDA3LTA2LTIyGQAAAAAAMJNAGhUSCjIwMDktMDYtMTcZAAAAAAAsk0AaFRIKMjAwOS0wNi0yNBkAAAAAACiTQBoVEgoyMDA5LTA2LTMwGQAAAAAAIJNAGhUSCjIwMDktMDYtMTUZAAAAAAAgk0AaFRIKMjAwOC0wNi0yMBkAAAAAABiTQBoVEgoyMDA3LTA2LTEzGQAAAAAAGJNAJQAAIEEqxE8KFSIKMjAwOS0wNi0yOSkAAAAAAGyTQAoZCAEQASIKMjAwOS0wNi0wNSkAAAAAAGiTQAoZCAIQAiIKMjAwOS0wNi0wNCkAAAAAAGiTQAoZCAMQAyIKMjAwOS0wNi0wOCkAAAAAAGSTQAoZCAQQBCIKMjAwOS0wNi0yNSkAAAAAAFyTQAoZCAUQBSIKMjAwNy0wNi0xNSkAAAAAAFSTQAoZCAYQBiIKMjAwNy0wNi0xNCkAAAAAAEyTQAoZCAcQByIKMjAwNy0wNi0yMSkAAAAAAEiTQAoZCAgQCCIKMjAwNy0wNi0wNykAAAAAAEiTQAoZCAkQCSIKMjAwOS0wNi0yNikAAAAAAESTQAoZCAoQCiIKMjAwOS0wNi0xOSkAAAAAAECTQAoZCAsQCyIKMjAwNy0wNi0xOCkAAAAAADiTQAoZCAwQDCIKMjAwOS0wNi0xNikAAAAAADCTQAoZCA0QDSIKMjAwNy0wNi0yMikAAAAAADCTQAoZCA4QDiIKMjAwOS0wNi0xNykAAAAAACyTQAoZCA8QDyIKMjAwOS0wNi0yNCkAAAAAACiTQAoZCBAQECIKMjAwOS0wNi0zMCkAAAAAACCTQAoZCBEQESIKMjAwOS0wNi0xNSkAAAAAACCTQAoZCBIQEiIKMjAwOC0wNi0yMCkAAAAAABiTQAoZCBMQEyIKMjAwNy0wNi0xMykAAAAAABiTQAoZCBQQFCIKMjAwOS0wNi0xOCkAAAAAABSTQAoZCBUQFSIKMjAwOC0wNi0xMykAAAAAAAyTQAoZCBYQFiIKMjAwOS0wNi0yMykAAAAAAAiTQAoZCBcQFyIKMjAwNy0wNi0yMCkAAAAAAASTQAoZCBgQGCIKMjAwOC0wNi0zMCkAAAAAAPiSQAoZCBkQGSIKMjAwOC0wNi0xOSkAAAAAAPSSQAoZCBoQGiIKMjAwOC0wNi0yNykAAAAAAPCSQAoZCBsQGyIKMjAwOC0wNi0xMikAAAAAAOSSQAoZCBwQHCIKMjAwNy0wNi0yNikAAAAAAOSSQAoZCB0QHSIKMjAwOS0wNi0yMikAAAAAANiSQAoZCB4QHiIKMjAwOC0wNi0xOCkAAAAAANiSQAoZCB8QHyIKMjAwNy0wNi0yNCkAAAAAANSSQAoZCCAQICIKMjAwOC0wNi0yNikAAAAAAMiSQAoZCCEQISIKMjAxMC0wNi0xNykAAAAAAMSSQAoZCCIQIiIKMjAwOC0wNi0yNSkAAAAAAMSSQAoZCCMQIyIKMjAxMC0wNi0xOCkAAAAAAMCSQAoZCCQQJCIKMjAwOS0wNi0xMCkAAAAAAMCSQAoZCCUQJSIKMjAwOC0wNi0wNikAAAAAAMCSQAoZCCYQJiIKMjAwNy0wNi0yOSkAAAAAAMCSQAoZCCcQJyIKMjAxMC0wNi0zMCkAAAAAALySQAoZCCgQKCIKMjAwOS0wNi0wOSkAAAAAALySQAoZCCkQKSIKMjAwOC0wNi0xNikAAAAAALySQAoZCCoQKiIKMjAwOC0wNi0yMykAAAAAALiSQAoZCCsQKyIKMjAxMC0wNi0yMSkAAAAAALSSQAoZCCwQLCIKMjAwOS0wNi0xMSkAAAAAALSSQAoZCC0QLSIKMjAxMC0wNi0xNCkAAAAAALCSQAoZCC4QLiIKMjAwOS0wNi0xMikAAAAAALCSQAoZCC8QLyIKMjAxMC0wNi0yNSkAAAAAAKySQAoZCDAQMCIKMjAwNy0wNi0xNykAAAAAAKySQAoZCDEQMSIKMjAxMC0wNi0yOCkAAAAAAKiSQAoZCDIQMiIKMjAxMC0wNi0yMykAAAAAAKSSQAoZCDMQMyIKMjAxMC0wNi0yMikAAAAAAKSSQAoZCDQQNCIKMjAxMC0wNi0xMSkAAAAAAKSSQAoZCDUQNSIKMjAxMC0wNi0yOSkAAAAAAKCSQAoZCDYQNiIKMjAxMi0wNi0yMSkAAAAAAJySQAoZCDcQNyIKMjAxMC0wNi0yNCkAAAAAAJySQAoZCDgQOCIKMjAwOS0wNi0wNykAAAAAAJySQAoZCDkQOSIKMjAwOS0wNi0wMSkAAAAAAJySQAoZCDoQOiIKMjAwNy0wNi0yNykAAAAAAJySQAoZCDsQOyIKMjAxMy0wNi0yMCkAAAAAAJCSQAoZCDwQPCIKMjAwOC0wNi0xMSkAAAAAAJCSQAoZCD0QPSIKMjAwOC0wNi0yNCkAAAAAAIySQAoZCD4QPiIKMjAwNy0wNi0xMCkAAAAAAIiSQAoZCD8QPyIKMjAxMy0wNi0yMSkAAAAAAISSQAoZCEAQQCIKMjAwOC0wNi0xNykAAAAAAISSQAoZCEEQQSIKMjAwNy0wNi0xMSkAAAAAAISSQAoZCEIQQiIKMjAwNi0wNi0xNikAAAAAAISSQAoZCEMQQyIKMjAxMC0wNi0xNikAAAAAAICSQAoZCEQQRCIKMjAwOS0wNi0yOCkAAAAAAHiSQAoZCEUQRSIKMjAwNy0wNi0xMikAAAAAAHiSQAoZCEYQRiIKMjAxMi0wNi0yOCkAAAAAAHSSQAoZCEcQRyIKMjAwNy0wNi0xOSkAAAAAAHSSQAoZCEgQSCIKMjAxMi0wNi0yMCkAAAAAAHCSQAoZCEkQSSIKMjAwOS0wNi0yMSkAAAAAAHCSQAoZCEoQSiIKMjAwNy0wNi0yOCkAAAAAAHCSQAoZCEsQSyIKMjAxMi0wNi0xNSkAAAAAAGySQAoZCEwQTCIKMjAxMC0wNi0xMCkAAAAAAGySQAoZCE0QTSIKMjAxMC0wNi0wNykAAAAAAGySQAoZCE4QTiIKMjAwOS0wNi0xNCkAAAAAAGySQAoZCE8QTyIKMjAwOC0wNi0wNSkAAAAAAGySQAoZCFAQUCIKMjAwNi0wNi0wOCkAAAAAAGySQAoZCFEQUSIKMjAwOC0wNi0wOSkAAAAAAGiSQAoZCFIQUiIKMjAwOC0wNi0wMikAAAAAAGiSQAoZCFMQUyIKMjAwNi0wNi0xNSkAAAAAAGiSQAoZCFQQVCIKMjAwNi0wNi0wOSkAAAAAAGiSQAoZCFUQVSIKMjAxMi0wNi0xOSkAAAAAAGSSQAoZCFYQViIKMjAxMi0wNi0xOCkAAAAAAGSSQAoZCFcQVyIKMjAxMi0wNi0wNykAAAAAAGSSQAoZCFgQWCIKMjAxMi0wNi0yOSkAAAAAAGCSQAoZCFkQWSIKMjAxMC0wNi0wOSkAAAAAAGCSQAoZCFoQWiIKMjAxMi0wNi0yNykAAAAAAFySQAoZCFsQWyIKMjAxMi0wNi0yNikAAAAAAFiSQAoZCFwQXCIKMjAwNi0wNi0yOSkAAAAAAFiSQAoZCF0QXSIKMjAxMy0wNi0yNCkAAAAAAFSSQAoZCF4QXiIKMjAxMi0wNi0wOCkAAAAAAFSSQAoZCF8QXyIKMjAxMy0wNi0xOSkAAAAAAFCSQAoZCGAQYCIKMjAwOS0wNi0wMykAAAAAAFCSQAoZCGEQYSIKMjAwNi0wNi0xNCkAAAAAAFCSQAoZCGIQYiIKMjAwNi0wNi0zMCkAAAAAAEySQAoZCGMQYyIKMjAxMy0wNi0xNCkAAAAAAEiSQAoZCGQQZCIKMjAxMC0wNi0wOCkAAAAAAESSQAoZCGUQZSIKMjAxMi0wNi0yMikAAAAAAECSQAoZCGYQZiIKMjAxMy0wNi0xNykAAAAAADySQAoZCGcQZyIKMjAwOC0wNi0xMCkAAAAAADySQAoZCGgQaCIKMjAxMy0wNi0yNykAAAAAADiSQAoZCGkQaSIKMjAxMy0wNi0yNikAAAAAADiSQAoZCGoQaiIKMjAxMC0wNi0wMSkAAAAAADiSQAoZCGsQayIKMjAwNi0wNi0yMCkAAAAAADiSQAoZCGwQbCIKMjAxMy0wNi0xNikAAAAAADSSQAoZCG0QbSIKMjAxMi0wNi0xNCkAAAAAADSSQAoZCG4QbiIKMjAxMy0wNi0yNSkAAAAAADCSQAoZCG8QbyIKMjAxMi0wNi0yNSkAAAAAADCSQAoZCHAQcCIKMjAxMy0wNi0xMikAAAAAACySQAoZCHEQcSIKMjAxMi0wNi0xNykAAAAAACySQAoZCHIQciIKMjAxMC0wNi0wNCkAAAAAACySQAoZCHMQcyIKMjAxMC0wNi0wMykAAAAAACySQAoZCHQQdCIKMjAwOC0wNi0yMikAAAAAACySQAoZCHUQdSIKMjAxMS0wNi0zMCkAAAAAACiSQAoZCHYQdiIKMjAwOS0wNi0wMikAAAAAACiSQAoZCHcQdyIKMjAwNi0wNi0xOSkAAAAAACiSQAoZCHgQeCIKMjAxMS0wNi0wMykAAAAAACSSQAoZCHkQeSIKMjAxMi0wNi0xMSkAAAAAACCSQAoZCHoQeiIKMjAxMS0wNi0xMykAAAAAACCSQAoZCHsQeyIKMjAwOC0wNi0yOSkAAAAAACCSQAoZCHwQfCIKMjAwNy0wNi0wMSkAAAAAACCSQAoZCH0QfSIKMjAxMS0wNi0yOSkAAAAAABySQAoZCH4QfiIKMjAwOC0wNi0xNSkAAAAAABySQAoZCH8QfyIKMjAwNy0wNi0yNSkAAAAAABySQAobCIABEIABIgoyMDE2LTA2LTIwKQAAAAAAFJJAChsIgQEQgQEiCjIwMTMtMDYtMjgpAAAAAAAUkkAKGwiCARCCASIKMjAxMi0wNi0xMikAAAAAABSSQAobCIMBEIMBIgoyMDExLTA2LTIwKQAAAAAAFJJAChsIhAEQhAEiCjIwMTEtMDYtMDYpAAAAAAAQkkAKGwiFARCFASIKMjAxMy0wNi0xMCkAAAAAAAySQAobCIYBEIYBIgoyMDE2LTA2LTMwKQAAAAAACJJAChsIhwEQhwEiCjIwMTAtMDYtMjApAAAAAAAIkkAKGwiIARCIASIKMjAwNi0wNi0yMSkAAAAAAAiSQAobCIkBEIkBIgoyMDE2LTA2LTI0KQAAAAAABJJAChsIigEQigEiCjIwMTMtMDYtMjMpAAAAAAAEkkAKGwiLARCLASIKMjAxMy0wNi0xMSkAAAAAAASSQAobCIwBEIwBIgoyMDEzLTA2LTA2KQAAAAAABJJAChsIjQEQjQEiCjIwMTEtMDYtMjcpAAAAAAAEkkAKGwiOARCOASIKMjAxMi0wNi0yNCkAAAAAAACSQAobCI8BEI8BIgoyMDEyLTA2LTA0KQAAAAAAAJJAChsIkAEQkAEiCjIwMDYtMDYtMjIpAAAAAAAAkkAKGwiRARCRASIKMjAwNi0wNi0xMykAAAAAAACSQAobCJIBEJIBIgoyMDA2LTA2LTExKQAAAAAAAJJAChsIkwEQkwEiCjIwMTEtMDYtMDgpAAAAAAD8kUAKGwiUARCUASIKMjAxMC0wNi0wMikAAAAAAPyRQAobCJUBEJUBIgoyMDA3LTA2LTA4KQAAAAAA/JFAChsIlgEQlgEiCjIwMDYtMDYtMjgpAAAAAAD8kUAKGwiXARCXASIKMjAxMy0wNi0wMykAAAAAAPiRQAobCJgBEJgBIgoyMDE2LTA2LTE2KQAAAAAA9JFAChsImQEQmQEiCjIwMTYtMDYtMTApAAAAAAD0kUAKGwiaARCaASIKMjAxMS0wNi0yMykAAAAAAPSRQAobCJsBEJsBIgoyMDE2LTA2LTA5KQAAAAAA8JFAChsInAEQnAEiCjIwMTItMDYtMTMpAAAAAADwkUAKGwidARCdASIKMjAxMi0wNi0wMSkAAAAAAPCRQAobCJ4BEJ4BIgoyMDExLTA2LTA5KQAAAAAA7JFAChsInwEQnwEiCjIwMDgtMDYtMDgpAAAAAADskUAKGwigARCgASIKMjAxNi0wNi0yMykAAAAAAOiRQAobCKEBEKEBIgoyMDExLTA2LTEwKQAAAAAA6JFAChsIogEQogEiCjIwMDYtMDYtMTgpAAAAAADokUAKGwijARCjASIKMjAxMS0wNi0yOCkAAAAAAOSRQAobCKQBEKQBIgoyMDExLTA2LTIxKQAAAAAA5JFAChsIpQEQpQEiCjIwMTYtMDYtMjcpAAAAAADgkUAKGwimARCmASIKMjAxNi0wNi0xMykAAAAAAOCRQAobCKcBEKcBIgoyMDA2LTA2LTIzKQAAAAAA4JFAChsIqAEQqAEiCjIwMTYtMDYtMjkpAAAAAADckUAKGwipARCpASIKMjAxMS0wNi0xNykAAAAAANyRQAobCKoBEKoBIgoyMDExLTA2LTAyKQAAAAAA3JFAChsIqwEQqwEiCjIwMTAtMDYtMjcpAAAAAADckUAKGwisARCsASIKMjAwNi0wNi0xMikAAAAAANyRQAobCK0BEK0BIgoyMDA2LTA2LTA1KQAAAAAA3JFAChsIrgEQrgEiCjIwMTMtMDYtMDcpAAAAAADYkUAKGwivARCvASIKMjAwNy0wNi0wNikAAAAAANSRQAobCLABELABIgoyMDA2LTA2LTI3KQAAAAAA0JFAChsIsQEQsQEiCjIwMTYtMDYtMjIpAAAAAADMkUAKGwiyARCyASIKMjAwOC0wNi0wNCkAAAAAAMyRQAobCLMBELMBIgoyMDE2LTA2LTIxKQAAAAAAyJFAChsItAEQtAEiCjIwMTEtMDYtMDEpAAAAAADIkUAKGwi1ARC1ASIKMjAxMy0wNi0wNCkAAAAAAMSRQAobCLYBELYBIgoyMDE2LTA2LTE1KQAAAAAAvJFAChsItwEQtwEiCjIwMTUtMDYtMTkpAAAAAAC8kUAKGwi4ARC4ASIKMjAxMS0wNi0xNCkAAAAAALyRQAobCLkBELkBIgoyMDEwLTA2LTEzKQAAAAAAvJFAChsIugEQugEiCjIwMDctMDYtMDQpAAAAAAC8kUAKGwi7ARC7ASIKMjAxNi0wNi0xNykAAAAAALiRQAobCLwBELwBIgoyMDE2LTA2LTAzKQAAAAAAuJFAChsIvQEQvQEiCjIwMDgtMDYtMDEpAAAAAAC4kUAKGwi+ARC+ASIKMjAxMy0wNi0wOSkAAAAAALSRQAobCL8BEL8BIgoyMDE1LTA2LTI2KQAAAAAAsJFAChsIwAEQwAEiCjIwMTItMDYtMDYpAAAAAACwkUAKGwjBARDBASIKMjAwNi0wNi0wMSkAAAAAALCRQAobCMIBEMIBIgoyMDEyLTA2LTEwKQAAAAAArJFAChsIwwEQwwEiCjIwMTYtMDYtMDYpAAAAAACokUAKGwjEARDEASIKMjAxNi0wNi0wMikAAAAAAKiRQAobCMUBEMUBIgoyMDExLTA2LTI0KQAAAAAApJFAChsIxgEQxgEiCjIwMTEtMDYtMDcpAAAAAACgkUAKGwjHARDHASIKMjAxMC0wNi0wNikAAAAAAKCRQAobCMgBEMgBIgoyMDE1LTA2LTIyKQAAAAAAnJFAChsIyQEQyQEiCjIwMDctMDYtMDMpAAAAAACckUAKGwjKARDKASIKMjAwNi0wNi0yNikAAAAAAJiRQAobCMsBEMsBIgoyMDE1LTA2LTEyKQAAAAAAlJFAChsIzAEQzAEiCjIwMTUtMDYtMDUpAAAAAACUkUAKGwjNARDNASIKMjAxNS0wNi0yOSkAAAAAAIyRQAobCM4BEM4BIgoyMDE1LTA2LTI1KQAAAAAAjJFAChsIzwEQzwEiCjIwMTUtMDYtMTEpAAAAAACMkUAKGwjQARDQASIKMjAxMy0wNi0xOCkAAAAAAIyRQAobCNEBENEBIgoyMDE3LTA2LTMwKQAAAAAAiJFAChsI0gEQ0gEiCjIwMTUtMDYtMDgpAAAAAACIkUAKGwjTARDTASIKMjAwOC0wNi0wMykAAAAAAIiRQAobCNQBENQBIgoyMDE1LTA2LTA0KQAAAAAAhJFAChsI1QEQ1QEiCjIwMTItMDYtMDMpAAAAAACEkUAKGwjWARDWASIKMjAxNy0wNi0yMikAAAAAAICRQAobCNcBENcBIgoyMDA2LTA2LTA0KQAAAAAAgJFAChsI2AEQ2AEiCjIwMTctMDYtMjkpAAAAAAB0kUAKGwjZARDZASIKMjAwNi0wNi0wNykAAAAAAHSRQAobCNoBENoBIgoyMDE1LTA2LTE4KQAAAAAAcJFAChsI2wEQ2wEiCjIwMTYtMDYtMDgpAAAAAABskUAKGwjcARDcASIKMjAxNy0wNi0yNikAAAAAAGiRQAobCN0BEN0BIgoyMDEzLTA2LTEzKQAAAAAAaJFAChsI3gEQ3gEiCjIwMTEtMDYtMjIpAAAAAABokUAKGwjfARDfASIKMjAxNy0wNi0xMikAAAAAAGSRQAobCOABEOABIgoyMDE3LTA2LTIzKQAAAAAAYJFAChsI4QEQ4QEiCjIwMTctMDYtMTYpAAAAAABgkUAKGwjiARDiASIKMjAxMy0wNi0zMCkAAAAAAFyRQAobCOMBEOMBIgoyMDE2LTA2LTAxKQAAAAAAWJFAChsI5AEQ5AEiCjIwMTYtMDYtMTkpAAAAAABUkUAKGwjlARDlASIKMjAxNi0wNi0wNykAAAAAAFCRQAobCOYBEOYBIgoyMDE1LTA2LTE3KQAAAAAAUJFAChsI5wEQ5wEiCjIwMTEtMDYtMTYpAAAAAABQkUAKGwjoARDoASIKMjAxNi0wNi0yOCkAAAAAAEyRQAobCOkBEOkBIgoyMDExLTA2LTA1KQAAAAAATJFAChsI6gEQ6gEiCjIwMTEtMDYtMTIpAAAAAABIkUAKGwjrARDrASIKMjAxMS0wNi0xOSkAAAAAAESRQAobCOwBEOwBIgoyMDE3LTA2LTI4KQAAAAAAPJFAChsI7QEQ7QEiCjIwMTctMDYtMjEpAAAAAAA4kUAKGwjuARDuASIKMjAxNy0wNi0yNykAAAAAADSRQAobCO8BEO8BIgoyMDE1LTA2LTEwKQAAAAAANJFAChsI8AEQ8AEiCjIwMTEtMDYtMjYpAAAAAAA0kUAKGwjxARDxASIKMjAxNy0wNi0xMykAAAAAADCRQAobCPIBEPIBIgoyMDE2LTA2LTE0KQAAAAAAMJFAChsI8wEQ8wEiCjIwMDctMDYtMDUpAAAAAAAwkUAKGwj0ARD0ASIKMjAxMy0wNi0wMikAAAAAACyRQAobCPUBEPUBIgoyMDE3LTA2LTAxKQAAAAAAKJFAChsI9gEQ9gEiCjIwMTUtMDYtMjMpAAAAAAAkkUAKGwj3ARD3ASIKMjAxNS0wNi0xNSkAAAAAACSRQAobCPgBEPgBIgoyMDEyLTA2LTA1KQAAAAAAJJFAChsI+QEQ+QEiCjIwMTAtMDYtMTUpAAAAAAAgkUAKGwj6ARD6ASIKMjAxNy0wNi0wMikAAAAAAByRQAobCPsBEPsBIgoyMDE1LTA2LTE2KQAAAAAAGJFAChsI/AEQ/AEiCjIwMDctMDYtMjMpAAAAAAAYkUAKGwj9ARD9ASIKMjAxNy0wNi0xNCkAAAAAABCRQAobCP4BEP4BIgoyMDE2LTA2LTEyKQAAAAAAEJFAChsI/wEQ/wEiCjIwMTctMDYtMDUpAAAAAAAMkUAKGwiAAhCAAiIKMjAxNy0wNi0yMCkAAAAAAAiRQAobCIECEIECIgoyMDE2LTA2LTA1KQAAAAAACJFAChsIggIQggIiCjIwMTctMDYtMTUpAAAAAAAEkUAKGwiDAhCDAiIKMjAxNy0wNi0wOSkAAAAAAASRQAobCIQCEIQCIgoyMDA3LTA2LTE2KQAAAAAABJFAChsIhQIQhQIiCjIwMTctMDYtMDgpAAAAAAD4kEAKGwiGAhCGAiIKMjAxNi0wNi0yNikAAAAAAPiQQAobCIcCEIcCIgoyMDE1LTA2LTMwKQAAAAAA+JBAChsIiAIQiAIiCjIwMTUtMDYtMjEpAAAAAAD4kEAKGwiJAhCJAiIKMjAxNS0wNi0xNCkAAAAAAPiQQAobCIoCEIoCIgoyMDE1LTA2LTAxKQAAAAAA+JBAChsIiwIQiwIiCjIwMTUtMDYtMDMpAAAAAADwkEAKGwiMAhCMAiIKMjAwNi0wNi0yNSkAAAAAAPCQQAobCI0CEI0CIgoyMDE1LTA2LTA3KQAAAAAA7JBAChsIjgIQjgIiCjIwMTMtMDYtMDUpAAAAAADskEAKGwiPAhCPAiIKMjAxNS0wNi0yOCkAAAAAAOiQQAobCJACEJACIgoyMDE3LTA2LTE5KQAAAAAAyJBAChsIkQIQkQIiCjIwMTUtMDYtMDIpAAAAAADIkEAKGwiSAhCSAiIKMjAwOS0wNi0wNikAAAAAAMSQQAobCJMCEJMCIgoyMDA5LTA2LTI3KQAAAAAAvJBAChsIlAIQlAIiCjIwMTQtMDYtMDIpAAAAAAC0kEAKGwiVAhCVAiIKMjAxNy0wNi0wNykAAAAAALCQQAobCJYCEJYCIgoyMDE0LTA2LTI3KQAAAAAAsJBAChsIlwIQlwIiCjIwMDYtMDYtMDIpAAAAAACwkEAKGwiYAhCYAiIKMjAxNC0wNi0wNCkAAAAAAKyQQAobCJkCEJkCIgoyMDA2LTA2LTA2KQAAAAAArJBAChsImgIQmgIiCjIwMTMtMDYtMjIpAAAAAACkkEAKGwibAhCbAiIKMjAxNC0wNi0xOSkAAAAAAJyQQAobCJwCEJwCIgoyMDEzLTA2LTI5KQAAAAAAmJBAChsInQIQnQIiCjIwMDgtMDYtMjEpAAAAAACYkEAKGwieAhCeAiIKMjAwNy0wNi0wOSkAAAAAAJiQQAobCJ8CEJ8CIgoyMDE0LTA2LTA1KQAAAAAAlJBAChsIoAIQoAIiCjIwMDktMDYtMjApAAAAAACUkEAKGwihAhChAiIKMjAxNy0wNi0yNSkAAAAAAJCQQAobCKICEKICIgoyMDE3LTA2LTExKQAAAAAAkJBAChsIowIQowIiCjIwMTQtMDYtMjUpAAAAAACQkEAKGwikAhCkAiIKMjAwNy0wNi0zMCkAAAAAAJCQQAobCKUCEKUCIgoyMDE0LTA2LTIwKQAAAAAAjJBAChsIpgIQpgIiCjIwMTctMDYtMDYpAAAAAACIkEAKGwinAhCnAiIKMjAxNC0wNi0yNikAAAAAAIiQQAobCKgCEKgCIgoyMDEzLTA2LTE1KQAAAAAAiJBAChsIqQIQqQIiCjIwMDktMDYtMTMpAAAAAACIkEAKGwiqAhCqAiIKMjAwOC0wNi0xNCkAAAAAAIiQQAobCKsCEKsCIgoyMDE0LTA2LTAzKQAAAAAAhJBAChsIrAIQrAIiCjIwMTQtMDYtMjQpAAAAAACAkEAKGwitAhCtAiIKMjAxMC0wNi0yNikAAAAAAICQQAobCK4CEK4CIgoyMDE3LTA2LTA0KQAAAAAAfJBAChsIrwIQrwIiCjIwMTQtMDYtMTcpAAAAAAB8kEAKGwiwAhCwAiIKMjAxNC0wNi0xNikAAAAAAHyQQAobCLECELECIgoyMDA4LTA2LTI4KQAAAAAAfJBAChsIsgIQsgIiCjIwMTQtMDYtMTgpAAAAAABwkEAKGwizAhCzAiIKMjAxMS0wNi0xNSkAAAAAAGyQQAobCLQCELQCIgoyMDE0LTA2LTEwKQAAAAAAaJBAChsItQIQtQIiCjIwMTQtMDYtMDYpAAAAAABokEAKGwi2AhC2AiIKMjAxNC0wNi0xMSkAAAAAAGSQQAobCLcCELcCIgoyMDE1LTA2LTA5KQAAAAAAYJBAChsIuAIQuAIiCjIwMTQtMDYtMTMpAAAAAABYkEAKGwi5AhC5AiIKMjAxNy0wNi0xOCkAAAAAAFSQQAobCLoCELoCIgoyMDE0LTA2LTIzKQAAAAAAVJBAChsIuwIQuwIiCjIwMTQtMDYtMTIpAAAAAABUkEAKGwi8AhC8AiIKMjAxMC0wNi0xOSkAAAAAAFSQQAobCL0CEL0CIgoyMDE0LTA2LTAxKQAAAAAASJBAChsIvgIQvgIiCjIwMTQtMDYtMDkpAAAAAABEkEAKGwi/AhC/AiIKMjAxMC0wNi0xMikAAAAAAECQQAobCMACEMACIgoyMDA4LTA2LTA3KQAAAAAAQJBAChsIwQIQwQIiCjIwMDYtMDYtMTApAAAAAABAkEAKGwjCAhDCAiIKMjAwNi0wNi0xNykAAAAAACyQQAobCMMCEMMCIgoyMDE1LTA2LTI0KQAAAAAADJBAChsIxAIQxAIiCjIwMTQtMDYtMjIpAAAAAADwj0AKGwjFAhDFAiIKMjAxMi0wNi0zMCkAAAAAAOCPQAobCMYCEMYCIgoyMDE0LTA2LTE1KQAAAAAA2I9AChsIxwIQxwIiCjIwMTItMDYtMjMpAAAAAADYj0AKGwjIAhDIAiIKMjAxMi0wNi0xNikAAAAAALiPQAobCMkCEMkCIgoyMDE0LTA2LTA4KQAAAAAAqI9AChsIygIQygIiCjIwMDYtMDYtMjQpAAAAAACgj0AKGwjLAhDLAiIKMjAxMi0wNi0wOSkAAAAAAGiPQAobCMwCEMwCIgoyMDExLTA2LTExKQAAAAAA4I5AChsIzQIQzQIiCjIwMTQtMDYtMjkpAAAAAAC4jkAKGwjOAhDOAiIKMjAxMS0wNi0yNSkAAAAAALiOQAobCM8CEM8CIgoyMDEzLTA2LTA4KQAAAAAAmI5AChsI0AIQ0AIiCjIwMTEtMDYtMTgpAAAAAAB4jkAKGwjRAhDRAiIKMjAxNC0wNi0zMCkAAAAAAGCOQAobCNICENICIgoyMDEwLTA2LTA1KQAAAAAAYI5AChsI0wIQ0wIiCjIwMTMtMDYtMDEpAAAAAABYjkAKGwjUAhDUAiIKMjAwNy0wNi0wMikAAAAAAACOQAobCNUCENUCIgoyMDE2LTA2LTI1KQAAAAAAiI1AChsI1gIQ1gIiCjIwMTYtMDYtMTgpAAAAAAB4jUAKGwjXAhDXAiIKMjAxNS0wNi0yNykAAAAAAGiNQAobCNgCENgCIgoyMDExLTA2LTA0KQAAAAAAYI1AChsI2QIQ2QIiCjIwMTYtMDYtMTEpAAAAAABQjUAKGwjaAhDaAiIKMjAxNS0wNi0xMykAAAAAABiNQAobCNsCENsCIgoyMDE1LTA2LTIwKQAAAAAACI1AChsI3AIQ3AIiCjIwMTUtMDYtMDYpAAAAAADojEAKGwjdAhDdAiIKMjAxMi0wNi0wMikAAAAAAKiMQAobCN4CEN4CIgoyMDA2LTA2LTAzKQAAAAAAqIxAChsI3wIQ3wIiCjIwMTQtMDYtMjgpAAAAAAAIjEAKGwjgAhDgAiIKMjAxNy0wNi0yNCkAAAAAAPiLQAobCOECEOECIgoyMDE3LTA2LTE3KQAAAAAA6ItAChsI4gIQ4gIiCjIwMTYtMDYtMDQpAAAAAADoi0AKGwjjAhDjAiIKMjAxNC0wNi0yMSkAAAAAAOiLQAobCOQCEOQCIgoyMDE0LTA2LTA3KQAAAAAAgItAChsI5QIQ5QIiCjIwMTQtMDYtMTQpAAAAAABwi0AKGwjmAhDmAiIKMjAxNy0wNi0xMCkAAAAAAJCKQAobCOcCEOcCIgoyMDE3LTA2LTAzKQAAAAAAeIpAGsEHCghESVNUQU5DRRq0Bwq4AgiezxgYASABLQAAgD8ypAIaGwkAAAAAAADwPxEAAAAAAADwPyGamZmZ+bHjQBobCQAAAAAAAPA/EQAAAAAAAPA/IZqZmZn5seNAGhsJAAAAAAAA8D8RAAAAAAAA8D8hmpmZmfmx40AaGwkAAAAAAADwPxEAAAAAAADwPyGamZmZ+bHjQBobCQAAAAAAAPA/EQAAAAAAAPA/IZqZmZn5seNAGhsJAAAAAAAA8D8RAAAAAAAA8D8hmpmZmfmx40AaGwkAAAAAAADwPxEAAAAAAADwPyGamZmZ+bHjQBobCQAAAAAAAPA/EQAAAAAAAPA/IZqZmZn5seNAGhsJAAAAAAAA8D8RAAAAAAAA8D8hmpmZmfmx40AaGwkAAAAAAADwPxEAAAAAAADwPyGamZmZ+bHjQCABQJ7PGBEnjQL6YB+EQBnj3SNuXHh9QCkAAAAAAMBTQDEAAAAAABiBQDkAAAAAAJaxQEKiAhobCQAAAAAAwFNAEWZmZmZmSoBAISnQJ3IWCQZBGhsJZmZmZmZKgEARzczMzMwcjkAhgPAacZCXBUEaGwnNzMzMzByOQBGamZmZmfeVQCHQ7fylnHrCQBobCZqZmZmZ95VAEc3MzMzM4JxAIVvklA0rbM5AGhsJzczMzMzgnEARAAAAAADloUAhS2H+g+6p00AaGwkAAAAAAOWhQBGamZmZmVmlQCElrPghhjlTQBobCZqZmZmZWaVAETMzMzMzzqhAISCs+CGGOVNAGhsJMzMzMzPOqEARzczMzMxCrEAhIqz4IYY5U0AaGwnNzMzMzEKsQBFnZmZmZrevQCEmrPghhjlTQBobCWdmZmZmt69AEQAAAAAAlrFAIYVqs+YbBH5AQqQCGhsJAAAAAADAU0ARAAAAAABAbEAhmpmZmfmx40AaGwkAAAAAAEBsQBEAAAAAANBzQCGamZmZ+bHjQBobCQAAAAAA0HNAEQAAAAAAQHlAIZqZmZn5seNAGhsJAAAAAABAeUARAAAAAAAQfkAhmpmZmfmx40AaGwkAAAAAABB+QBEAAAAAABiBQCGamZmZ+bHjQBobCQAAAAAAGIFAEQAAAAAAkIJAIZqZmZn5seNAGhsJAAAAAACQgkARAAAAAACghUAhmpmZmfmx40AaGwkAAAAAAKCFQBEAAAAAANCHQCGamZmZ+bHjQBobCQAAAAAA0IdAEQAAAAAAvJJAIZqZmZn5seNAGhsJAAAAAAC8kkARAAAAAACWsUAhmpmZmfmx40AgARqtBwoJREVQX0RFTEFZEAEanQcKuAIIns8YGAEgAS0AAIA/MqQCGhsJAAAAAAAA8D8RAAAAAAAA8D8hmpmZmfmx40AaGwkAAAAAAADwPxEAAAAAAADwPyGamZmZ+bHjQBobCQAAAAAAAPA/EQAAAAAAAPA/IZqZmZn5seNAGhsJAAAAAAAA8D8RAAAAAAAA8D8hmpmZmfmx40AaGwkAAAAAAADwPxEAAAAAAADwPyGamZmZ+bHjQBobCQAAAAAAAPA/EQAAAAAAAPA/IZqZmZn5seNAGhsJAAAAAAAA8D8RAAAAAAAA8D8hmpmZmfmx40AaGwkAAAAAAADwPxEAAAAAAADwPyGamZmZ+bHjQBobCQAAAAAAAPA/EQAAAAAAAPA/IZqZmZn5seNAGhsJAAAAAAAA8D8RAAAAAAAA8D8hmpmZmfmx40AgAUCezxgRJf6YoQwPLkAZ2yRaQrCpQ0Ag0f0BKQAAAAAAAEvAOQAAAAAATJZAQqICGhsJAAAAAAAAS8ARZmZmZmaGV0Ahklz+gwWAF0EaGwlmZmZmZoZXQBFmZmZmZkZuQCEXKq1tpHLQQBobCWZmZmZmRm5AEczMzMzMZHhAIcNatM/BW5FAGhsJzMzMzMxkeEARMzMzMzPTgEAhMpumaVgUS0AaGwkzMzMzM9OAQBEAAAAAAHSFQCEwm6ZpWBRLQBobCQAAAAAAdIVAEczMzMzMFIpAISybpmlYFEtAGhsJzMzMzMwUikARmpmZmZm1jkAhOJumaVgUS0AaGwmamZmZmbWOQBEzMzMzM6uRQCEkm6ZpWBRLQBobCTMzMzMzq5FAEZmZmZmZ+5NAITCbpmlYFEtAGhsJmZmZmZn7k0ARAAAAAABMlkAhOJumaVgUS0BCkgIaGwkAAAAAAABLwBEAAAAAAAAUwCGamZmZ+bHjQBobCQAAAAAAABTAEQAAAAAAAAjAIZqZmZn5seNAGhsJAAAAAAAACMARAAAAAAAAAMAhmpmZmfmx40AaGwkAAAAAAAAAwBEAAAAAAADwvyGamZmZ+bHjQBoSCQAAAAAAAPC/IZqZmZn5seNAGhIRAAAAAAAACEAhmpmZmfmx40AaGwkAAAAAAAAIQBEAAAAAAAAkQCGamZmZ+bHjQBobCQAAAAAAACRAEQAAAAAAADZAIZqZmZn5seNAGhsJAAAAAAAANkARAAAAAACASUAhmpmZmfmx40AaGwkAAAAAAIBJQBEAAAAAAEyWQCGamZmZ+bHjQCABGsAHCgdGTF9ZRUFSGrQHCrgCCJ7PGBgBIAEtAACAPzKkAhobCQAAAAAAAPA/EQAAAAAAAPA/IZqZmZn5seNAGhsJAAAAAAAA8D8RAAAAAAAA8D8hmpmZmfmx40AaGwkAAAAAAADwPxEAAAAAAADwPyGamZmZ+bHjQBobCQAAAAAAAPA/EQAAAAAAAPA/IZqZmZn5seNAGhsJAAAAAAAA8D8RAAAAAAAA8D8hmpmZmfmx40AaGwkAAAAAAADwPxEAAAAAAADwPyGamZmZ+bHjQBobCQAAAAAAAPA/EQAAAAAAAPA/IZqZmZn5seNAGhsJAAAAAAAA8D8RAAAAAAAA8D8hmpmZmfmx40AaGwkAAAAAAADwPxEAAAAAAADwPyGamZmZ+bHjQBobCQAAAAAAAPA/EQAAAAAAAPA/IZqZmZn5seNAIAFAns8YER9ehoCVbZ9AGbE+XjiGggtAKQAAAAAAWJ9AMQAAAAAAbJ9AOQAAAAAAhJ9AQqICGhsJAAAAAABYn0ARZmZmZmZcn0AhRi7/ITPA8EAaGwlmZmZmZlyfQBHNzMzMzGCfQCFu1edqjyfhQBobCc3MzMzMYJ9AETMzMzMzZZ9AIeE/pN/6WeFAGhsJMzMzMzNln0ARmpmZmZlpn0Ah8Gor9iP14EAaGwmamZmZmWmfQBEAAAAAAG6fQCFlK/aX4V3gQBobCQAAAAAAbp9AEWZmZmZmcp9AIeSVsgxNkOBAGhsJZmZmZmZyn0ARzczMzMx2n0Ah8pWyDE2Q4EAaGwnNzMzMzHafQBEzMzMzM3ufQCHZg57N4vndQBobCTMzMzMze59AEZqZmZmZf59AIems+lwV8t9AGhsJmpmZmZl/n0ARAAAAAACEn0AhlzOitDOI70BCpAIaGwkAAAAAAFifQBEAAAAAAFyfQCGamZmZ+bHjQBobCQAAAAAAXJ9AEQAAAAAAYJ9AIZqZmZn5seNAGhsJAAAAAABgn0ARAAAAAABkn0AhmpmZmfmx40AaGwkAAAAAAGSfQBEAAAAAAGifQCGamZmZ+bHjQBobCQAAAAAAaJ9AEQAAAAAAbJ9AIZqZmZn5seNAGhsJAAAAAABsn0ARAAAAAAB0n0AhmpmZmfmx40AaGwkAAAAAAHSfQBEAAAAAAHifQCGamZmZ+bHjQBobCQAAAAAAeJ9AEQAAAAAAfJ9AIZqZmZn5seNAGhsJAAAAAAB8n0ARAAAAAACAn0AhmpmZmfmx40AaGwkAAAAAAICfQBEAAAAAAISfQCGamZmZ+bHjQCABGh0KEUNBTkNFTExBVElPTl9DT0RFEAIiBgoEEJ7PGBrkBwoOVU5JUVVFX0NBUlJJRVIQAiLPBwq4AgiezxgYASABLQAAgD8ypAIaGwkAAAAAAADwPxEAAAAAAADwPyGamZmZ+bHjQBobCQAAAAAAAPA/EQAAAAAAAPA/IZqZmZn5seNAGhsJAAAAAAAA8D8RAAAAAAAA8D8hmpmZmfmx40AaGwkAAAAAAADwPxEAAAAAAADwPyGamZmZ+bHjQBobCQAAAAAAAPA/EQAAAAAAAPA/IZqZmZn5seNAGhsJAAAAAAAA8D8RAAAAAAAA8D8hmpmZmfmx40AaGwkAAAAAAADwPxEAAAAAAADwPyGamZmZ+bHjQBobCQAAAAAAAPA/EQAAAAAAAPA/IZqZmZn5seNAGhsJAAAAAAAA8D8RAAAAAAAA8D8hmpmZmfmx40AaGwkAAAAAAADwPxEAAAAAAADwPyGamZmZ+bHjQCABQJ7PGBATGg0SAkRMGQAAAACIMQhBGg0SAkVWGQAAAACQ8/hAGg0SAkZMGQAAAABgPOpAGg0SAldOGQAAAACApspAGg0SAkFBGQAAAAAAZLtAGg0SAk9PGQAAAAAAHrFAGg0SAlVTGQAAAAAA2KxAGg0SAjlFGQAAAAAAKKtAGhESBk9IICgxKRkAAAAAABakQBoNEgJVQRkAAAAAAMijQBoNEgJGORkAAAAAAHigQBoNEgJNURkAAAAAAFigQBoNEgJDTxkAAAAAAJCaQBoNEgJOSxkAAAAAAMSXQBoNEgJZVhkAAAAAAEyXQBoNEgJYRRkAAAAAACSVQBoNEgJOVxkAAAAAAGiRQBoNEgJBUxkAAAAAADB5QBoNEgJCNhkAAAAAAKBhQCW6oQFAKukCCg0iAkRMKQAAAACIMQhBChEIARABIgJFVikAAAAAkPP4QAoRCAIQAiICRkwpAAAAAGA86kAKEQgDEAMiAldOKQAAAACApspAChEIBBAEIgJBQSkAAAAAAGS7QAoRCAUQBSICT08pAAAAAAAesUAKEQgGEAYiAlVTKQAAAAAA2KxAChEIBxAHIgI5RSkAAAAAACirQAoVCAgQCCIGT0ggKDEpKQAAAAAAFqRAChEICRAJIgJVQSkAAAAAAMijQAoRCAoQCiICRjkpAAAAAAB4oEAKEQgLEAsiAk1RKQAAAAAAWKBAChEIDBAMIgJDTykAAAAAAJCaQAoRCA0QDSICTkspAAAAAADEl0AKEQgOEA4iAllWKQAAAAAATJdAChEIDxAPIgJYRSkAAAAAACSVQAoRCBAQECICTlcpAAAAAABokUAKEQgREBEiAkFTKQAAAAAAMHlAChEIEhASIgJCNikAAAAAAKBhQA==\"></facets-overview>';\n",
       "        facets_iframe.contentWindow.document.write(facets_html);\n",
       "         facets_iframe.id = \"\";\n",
       "         setTimeout(() => {\n",
       "           facets_iframe.setAttribute('height', facets_iframe.contentWindow.document.body.offsetHeight + 'px')\n",
       "         }, 1500)\n",
       "         </script>"
      ],
      "text/plain": [
       "<IPython.core.display.HTML object>"
      ]
     },
     "metadata": {},
     "output_type": "display_data"
    }
   ],
   "source": [
    "tfdv.visualize_statistics(stats)"
   ]
  },
  {
   "cell_type": "code",
   "execution_count": 4,
   "metadata": {},
   "outputs": [],
   "source": [
    "schema = tfdv.infer_schema(stats)"
   ]
  },
  {
   "cell_type": "code",
   "execution_count": 5,
   "metadata": {},
   "outputs": [
    {
     "data": {
      "text/html": [
       "<div>\n",
       "<style scoped>\n",
       "    .dataframe tbody tr th:only-of-type {\n",
       "        vertical-align: middle;\n",
       "    }\n",
       "\n",
       "    .dataframe tbody tr th {\n",
       "        vertical-align: top;\n",
       "    }\n",
       "\n",
       "    .dataframe thead th {\n",
       "        text-align: right;\n",
       "    }\n",
       "</style>\n",
       "<table border=\"1\" class=\"dataframe\">\n",
       "  <thead>\n",
       "    <tr style=\"text-align: right;\">\n",
       "      <th></th>\n",
       "      <th>Type</th>\n",
       "      <th>Presence</th>\n",
       "      <th>Valency</th>\n",
       "      <th>Domain</th>\n",
       "    </tr>\n",
       "    <tr>\n",
       "      <th>Feature name</th>\n",
       "      <th></th>\n",
       "      <th></th>\n",
       "      <th></th>\n",
       "      <th></th>\n",
       "    </tr>\n",
       "  </thead>\n",
       "  <tbody>\n",
       "    <tr>\n",
       "      <th>'FL_MONTH'</th>\n",
       "      <td>INT</td>\n",
       "      <td>required</td>\n",
       "      <td></td>\n",
       "      <td>-</td>\n",
       "    </tr>\n",
       "    <tr>\n",
       "      <th>'FL_NUM'</th>\n",
       "      <td>INT</td>\n",
       "      <td>required</td>\n",
       "      <td></td>\n",
       "      <td>-</td>\n",
       "    </tr>\n",
       "    <tr>\n",
       "      <th>'CRS_ARR_TIME'</th>\n",
       "      <td>INT</td>\n",
       "      <td>required</td>\n",
       "      <td></td>\n",
       "      <td>-</td>\n",
       "    </tr>\n",
       "    <tr>\n",
       "      <th>'CRS_DEP_TIME'</th>\n",
       "      <td>INT</td>\n",
       "      <td>required</td>\n",
       "      <td></td>\n",
       "      <td>-</td>\n",
       "    </tr>\n",
       "    <tr>\n",
       "      <th>'ARR_DELAY'</th>\n",
       "      <td>FLOAT</td>\n",
       "      <td>required</td>\n",
       "      <td></td>\n",
       "      <td>-</td>\n",
       "    </tr>\n",
       "    <tr>\n",
       "      <th>'TAXI_IN'</th>\n",
       "      <td>INT</td>\n",
       "      <td>required</td>\n",
       "      <td></td>\n",
       "      <td>-</td>\n",
       "    </tr>\n",
       "    <tr>\n",
       "      <th>'DIVERTED'</th>\n",
       "      <td>INT</td>\n",
       "      <td>required</td>\n",
       "      <td></td>\n",
       "      <td>-</td>\n",
       "    </tr>\n",
       "    <tr>\n",
       "      <th>'WHEELS_ON'</th>\n",
       "      <td>INT</td>\n",
       "      <td>required</td>\n",
       "      <td></td>\n",
       "      <td>-</td>\n",
       "    </tr>\n",
       "    <tr>\n",
       "      <th>'WHEELS_OFF'</th>\n",
       "      <td>INT</td>\n",
       "      <td>required</td>\n",
       "      <td></td>\n",
       "      <td>-</td>\n",
       "    </tr>\n",
       "    <tr>\n",
       "      <th>'TAXI_OUT'</th>\n",
       "      <td>INT</td>\n",
       "      <td>required</td>\n",
       "      <td></td>\n",
       "      <td>-</td>\n",
       "    </tr>\n",
       "    <tr>\n",
       "      <th>'ORIGIN'</th>\n",
       "      <td>STRING</td>\n",
       "      <td>required</td>\n",
       "      <td></td>\n",
       "      <td>'ORIGIN'</td>\n",
       "    </tr>\n",
       "    <tr>\n",
       "      <th>'FL_DOM'</th>\n",
       "      <td>INT</td>\n",
       "      <td>required</td>\n",
       "      <td></td>\n",
       "      <td>-</td>\n",
       "    </tr>\n",
       "    <tr>\n",
       "      <th>'ORIGIN_AIRPORT_SEQ_ID'</th>\n",
       "      <td>INT</td>\n",
       "      <td>required</td>\n",
       "      <td></td>\n",
       "      <td>-</td>\n",
       "    </tr>\n",
       "    <tr>\n",
       "      <th>'DEST'</th>\n",
       "      <td>BYTES</td>\n",
       "      <td>required</td>\n",
       "      <td></td>\n",
       "      <td>-</td>\n",
       "    </tr>\n",
       "    <tr>\n",
       "      <th>'DEST_AIRPORT_SEQ_ID'</th>\n",
       "      <td>INT</td>\n",
       "      <td>required</td>\n",
       "      <td></td>\n",
       "      <td>-</td>\n",
       "    </tr>\n",
       "    <tr>\n",
       "      <th>'CANCELLED'</th>\n",
       "      <td>INT</td>\n",
       "      <td>required</td>\n",
       "      <td></td>\n",
       "      <td>-</td>\n",
       "    </tr>\n",
       "    <tr>\n",
       "      <th>'FL_DOW'</th>\n",
       "      <td>INT</td>\n",
       "      <td>required</td>\n",
       "      <td></td>\n",
       "      <td>-</td>\n",
       "    </tr>\n",
       "    <tr>\n",
       "      <th>'FL_DATE'</th>\n",
       "      <td>BYTES</td>\n",
       "      <td>required</td>\n",
       "      <td></td>\n",
       "      <td>-</td>\n",
       "    </tr>\n",
       "    <tr>\n",
       "      <th>'DISTANCE'</th>\n",
       "      <td>INT</td>\n",
       "      <td>required</td>\n",
       "      <td></td>\n",
       "      <td>-</td>\n",
       "    </tr>\n",
       "    <tr>\n",
       "      <th>'DEP_DELAY'</th>\n",
       "      <td>FLOAT</td>\n",
       "      <td>required</td>\n",
       "      <td></td>\n",
       "      <td>-</td>\n",
       "    </tr>\n",
       "    <tr>\n",
       "      <th>'FL_YEAR'</th>\n",
       "      <td>INT</td>\n",
       "      <td>required</td>\n",
       "      <td></td>\n",
       "      <td>-</td>\n",
       "    </tr>\n",
       "    <tr>\n",
       "      <th>'CANCELLATION_CODE'</th>\n",
       "      <td>BYTES</td>\n",
       "      <td>optional</td>\n",
       "      <td></td>\n",
       "      <td>-</td>\n",
       "    </tr>\n",
       "    <tr>\n",
       "      <th>'UNIQUE_CARRIER'</th>\n",
       "      <td>STRING</td>\n",
       "      <td>required</td>\n",
       "      <td></td>\n",
       "      <td>'UNIQUE_CARRIER'</td>\n",
       "    </tr>\n",
       "  </tbody>\n",
       "</table>\n",
       "</div>"
      ],
      "text/plain": [
       "                           Type  Presence Valency            Domain\n",
       "Feature name                                                       \n",
       "'FL_MONTH'                  INT  required                         -\n",
       "'FL_NUM'                    INT  required                         -\n",
       "'CRS_ARR_TIME'              INT  required                         -\n",
       "'CRS_DEP_TIME'              INT  required                         -\n",
       "'ARR_DELAY'               FLOAT  required                         -\n",
       "'TAXI_IN'                   INT  required                         -\n",
       "'DIVERTED'                  INT  required                         -\n",
       "'WHEELS_ON'                 INT  required                         -\n",
       "'WHEELS_OFF'                INT  required                         -\n",
       "'TAXI_OUT'                  INT  required                         -\n",
       "'ORIGIN'                 STRING  required                  'ORIGIN'\n",
       "'FL_DOM'                    INT  required                         -\n",
       "'ORIGIN_AIRPORT_SEQ_ID'     INT  required                         -\n",
       "'DEST'                    BYTES  required                         -\n",
       "'DEST_AIRPORT_SEQ_ID'       INT  required                         -\n",
       "'CANCELLED'                 INT  required                         -\n",
       "'FL_DOW'                    INT  required                         -\n",
       "'FL_DATE'                 BYTES  required                         -\n",
       "'DISTANCE'                  INT  required                         -\n",
       "'DEP_DELAY'               FLOAT  required                         -\n",
       "'FL_YEAR'                   INT  required                         -\n",
       "'CANCELLATION_CODE'       BYTES  optional                         -\n",
       "'UNIQUE_CARRIER'         STRING  required          'UNIQUE_CARRIER'"
      ]
     },
     "metadata": {},
     "output_type": "display_data"
    },
    {
     "data": {
      "text/html": [
       "<div>\n",
       "<style scoped>\n",
       "    .dataframe tbody tr th:only-of-type {\n",
       "        vertical-align: middle;\n",
       "    }\n",
       "\n",
       "    .dataframe tbody tr th {\n",
       "        vertical-align: top;\n",
       "    }\n",
       "\n",
       "    .dataframe thead th {\n",
       "        text-align: right;\n",
       "    }\n",
       "</style>\n",
       "<table border=\"1\" class=\"dataframe\">\n",
       "  <thead>\n",
       "    <tr style=\"text-align: right;\">\n",
       "      <th></th>\n",
       "      <th>Values</th>\n",
       "    </tr>\n",
       "    <tr>\n",
       "      <th>Domain</th>\n",
       "      <th></th>\n",
       "    </tr>\n",
       "  </thead>\n",
       "  <tbody>\n",
       "    <tr>\n",
       "      <th>'ORIGIN'</th>\n",
       "      <td>'ATL'</td>\n",
       "    </tr>\n",
       "    <tr>\n",
       "      <th>'UNIQUE_CARRIER'</th>\n",
       "      <td>'9E', 'AA', 'AS', 'B6', 'CO', 'DL', 'EV', 'F9', 'FL', 'MQ', 'NK', 'NW', 'OH (1)', 'OO', 'UA', 'US', 'WN', 'XE', 'YV'</td>\n",
       "    </tr>\n",
       "  </tbody>\n",
       "</table>\n",
       "</div>"
      ],
      "text/plain": [
       "                                                                                                                                Values\n",
       "Domain                                                                                                                                \n",
       "'ORIGIN'          'ATL'                                                                                                               \n",
       "'UNIQUE_CARRIER'  '9E', 'AA', 'AS', 'B6', 'CO', 'DL', 'EV', 'F9', 'FL', 'MQ', 'NK', 'NW', 'OH (1)', 'OO', 'UA', 'US', 'WN', 'XE', 'YV'"
      ]
     },
     "metadata": {},
     "output_type": "display_data"
    }
   ],
   "source": [
    "tfdv.display_schema(schema)"
   ]
  },
  {
   "cell_type": "code",
   "execution_count": null,
   "metadata": {},
   "outputs": [],
   "source": []
  }
 ],
 "metadata": {
  "kernelspec": {
   "display_name": "Python 2",
   "language": "python",
   "name": "python2"
  },
  "language_info": {
   "codemirror_mode": {
    "name": "ipython",
    "version": 2
   },
   "file_extension": ".py",
   "mimetype": "text/x-python",
   "name": "python",
   "nbconvert_exporter": "python",
   "pygments_lexer": "ipython2",
   "version": "2.7.13"
  }
 },
 "nbformat": 4,
 "nbformat_minor": 2
}
